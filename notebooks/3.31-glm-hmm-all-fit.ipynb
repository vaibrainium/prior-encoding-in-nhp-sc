{
 "cells": [
  {
   "cell_type": "code",
   "execution_count": 12,
   "metadata": {},
   "outputs": [
    {
     "name": "stdout",
     "output_type": "stream",
     "text": [
      "The autoreload extension is already loaded. To reload it, use:\n",
      "  %reload_ext autoreload\n"
     ]
    }
   ],
   "source": [
    "%matplotlib inline\n",
    "%load_ext autoreload\n",
    "%autoreload 2\n",
    "from notebooks.imports import *"
   ]
  },
  {
   "cell_type": "code",
   "execution_count": 142,
   "metadata": {},
   "outputs": [],
   "source": [
    "import warnings\n",
    "# suppress warnings\n",
    "warnings.filterwarnings(\"ignore\")\n",
    "\n",
    "import pickle\n",
    "import seaborn as sns\n",
    "import statsmodels.api as sm\n",
    "import statsmodels.formula.api as smf\n",
    "from scipy import stats\n",
    "import statsmodels.stats.api as sms\n",
    "from sklearn import preprocessing\n",
    "\n",
    "import src.utils.setup_figures as figures\n",
    "# import src.utils.basic as utils\n",
    "from src.utils.glm_hmm_utils import global_fit, session_wise_fit_cv\n",
    "\n",
    "\n",
    "import numpy.random as npr\n",
    "# npr.seed(0)"
   ]
  },
  {
   "cell_type": "markdown",
   "metadata": {},
   "source": [
    "### Load Configs"
   ]
  },
  {
   "cell_type": "code",
   "execution_count": 14,
   "metadata": {},
   "outputs": [],
   "source": [
    "from config import dir_config, main_config\n",
    "\n",
    "raw_dir = Path(dir_config.data.raw)\n",
    "processed_dir = Path(dir_config.data.processed)\n",
    "compiled_dir = Path(dir_config.data.compiled)"
   ]
  },
  {
   "cell_type": "markdown",
   "metadata": {},
   "source": [
    "### Utils functions"
   ]
  },
  {
   "cell_type": "code",
   "execution_count": 15,
   "metadata": {},
   "outputs": [],
   "source": [
    "def process_session_data(data):\n",
    "    data['target'] = (2*data.target - 1).astype(int)\n",
    "    data['choice'] = data['choice'].astype(int)\n",
    "    data['signed_coherence'] = data['coherence'] * data['target']\n",
    "    data['previous_target'] = data.target.shift(1)\n",
    "    data.loc[data.index[0], 'previous_target'] = data.target.values[0]\n",
    "    data['previous_choice'] = data.choice.shift(1)\n",
    "    data.loc[data.index[0], 'previous_choice'] = data.choice.values[0]\n",
    "    \n",
    "    first_valid = np.where(data.outcome >= 0)[0][0]\n",
    "    indices_to_change_previous_choice = data[data.previous_choice == -1].index\n",
    "        \n",
    "    for i in indices_to_change_previous_choice:\n",
    "        if i < first_valid:\n",
    "            data.loc[data.index[i], 'previous_choice'] = np.random.choice([-1, 1])\n",
    "            data.loc[data.index[i], 'previous_target'] = np.random.choice([-1, 1])\n",
    "        else:\n",
    "            j=0\n",
    "            while i - j >= 0 and data.at[data.index[i - j], 'previous_choice'] == -1:\n",
    "                j+=1\n",
    "            data.loc[data.index[i], 'previous_choice'] = data.loc[data.index[i-j], 'previous_choice']\n",
    "            data.loc[data.index[i], 'previous_target'] = data.loc[data.index[i-j], 'previous_target']  \n",
    "    \n",
    "    \n",
    "    data['previous_choice'].replace(0, -1, inplace=True) # remap previous choice to -1, 1\n",
    "    \n",
    "    return data\n",
    "\n",
    "def extract_previous_data(trial_data):\n",
    "    # npr.seed()\n",
    "    prev_choice = np.hstack([trial_data.choice[0] , trial_data.choice[:-1]])  # 0:awayRF, 1:toRF of previous valid trial\n",
    "    prev_target = np.hstack([trial_data.target[0] , trial_data.target[:-1]]) * 2 - 1 # -1:awayRF, 1:toRF of previous valid trial \n",
    "    prev_outcome = np.hstack([trial_data.outcome[0] , trial_data.outcome[:-1]])\n",
    "    prev_valid_idx = np.where(prev_outcome >= 0)[0]\n",
    "    prev_invalid_idx = np.where(prev_outcome == -1)[0]\n",
    "\n",
    "    for i in prev_invalid_idx:\n",
    "        if i < prev_valid_idx[0]: #randomly sample if no previous valid trials\n",
    "            prev_choice[i] = np.random.binomial(1,0.5)\n",
    "            prev_target[i] = np.random.binomial(1,0.5) * 2 - 1\n",
    "        else:\n",
    "            last_valid =  np.where(prev_valid_idx<i)[0][-1]\n",
    "            prev_choice[i] = prev_choice[prev_valid_idx[last_valid]]\n",
    "            prev_target[i] = prev_target[prev_valid_idx[last_valid]]\n",
    "            \n",
    "    prev_choice = (prev_choice * 2) - 1 # -1:awayRF, 1:toRF of previous valid trial\n",
    "    return prev_choice.astype(int), prev_target.astype(int)\n",
    "\n",
    "def prepare_input_data(data, input_dim):\n",
    "    X = np.ones((1, data.shape[0], input_dim))\n",
    "    \n",
    "    current_stimulus = data.coherence * (2*data.target-1)\n",
    "    current_stimulus = current_stimulus / 100\n",
    "    \n",
    "    X[0,:,0] = current_stimulus\n",
    "    X[0,:,2], X[0,:,3] = extract_previous_data(data)\n",
    "    return list(X)\n",
    "    "
   ]
  },
  {
   "cell_type": "markdown",
   "metadata": {},
   "source": [
    "### Load Data"
   ]
  },
  {
   "cell_type": "code",
   "execution_count": 16,
   "metadata": {},
   "outputs": [],
   "source": [
    "session_metadata = pd.read_csv(Path(compiled_dir, \"sessions_metadata.csv\"), index_col=None)"
   ]
  },
  {
   "cell_type": "markdown",
   "metadata": {},
   "source": [
    "#### Create design matrix (input, observation, mask)"
   ]
  },
  {
   "cell_type": "code",
   "execution_count": 17,
   "metadata": {},
   "outputs": [],
   "source": [
    "n_states = 2            # number of discrete states\n",
    "obs_dim = 1             # number of observed dimensions: choice\n",
    "num_categories = 2      # number of categories for output (toRF/awayRF)\n",
    "input_dim = 4           # input dimensions: current signed coherence, 1(bias), previous choice(toRF/awayRF), previous target side(toRF/awayRF)"
   ]
  },
  {
   "cell_type": "markdown",
   "metadata": {},
   "source": [
    "#### Data preparation"
   ]
  },
  {
   "cell_type": "code",
   "execution_count": 18,
   "metadata": {},
   "outputs": [],
   "source": [
    "inputs_session_wise = []\n",
    "choices_session_wise = []\n",
    "invalid_idx_session_wise = []\n",
    "masks_session_wise = []\n",
    "\n",
    "for session_id in (session_metadata['session_id']):\n",
    "    session_data = pd.read_csv(Path(compiled_dir, session_id, f\"{session_id}_trial.csv\"), index_col=None).fillna(-1)\n",
    "    gp_trial_data = session_data[session_data.task_type == 1].reset_index()\n",
    "\n",
    "    inputs_session_wise += prepare_input_data(gp_trial_data, input_dim)\n",
    "    choices = gp_trial_data.choice.values.reshape(-1,1).astype('int')\n",
    "\n",
    "    masks_session_wise.append(np.array(choices >= 0))\n",
    "    invalid_idx = np.where(choices == -1)[0].reshape(-1,1)\n",
    "    invalid_idx_session_wise.append(invalid_idx)\n",
    "\n",
    "    # for training, replace -1 with random sample from 0,1\n",
    "    choices[choices == -1] = npr.choice(1,invalid_idx.shape[0])\n",
    "    choices_session_wise.append(choices)\n",
    "    \n",
    "inputs_aggregated, choices_aggregated, masks_aggregated = [], [], []\n",
    "inputs_aggregated.append(np.vstack(inputs_session_wise))\n",
    "choices_aggregated.append(np.vstack(choices_session_wise))\n",
    "masks_aggregated.append(np.vstack(masks_session_wise))\n",
    "\n",
    "# scaling signed coherence\n",
    "inputs_aggregated[0][:,0] = preprocessing.scale(inputs_aggregated[0][:, 0], axis=0)\n",
    "for idx_session in range(len(session_metadata)):\n",
    "    inputs_session_wise[idx_session][:,0] = preprocessing.scale(inputs_session_wise[idx_session][:, 0], axis=0) # normalize signed coherence\n"
   ]
  },
  {
   "cell_type": "markdown",
   "metadata": {},
   "source": [
    "### Fit data"
   ]
  },
  {
   "cell_type": "code",
   "execution_count": 127,
   "metadata": {},
   "outputs": [
    {
     "name": "stdout",
     "output_type": "stream",
     "text": [
      "Fitting GLM globally...\n"
     ]
    },
    {
     "data": {
      "application/vnd.jupyter.widget-view+json": {
       "model_id": "ff6fc811ed4d4209a5516c90b9a54087",
       "version_major": 2,
       "version_minor": 0
      },
      "text/plain": [
       "  0%|          | 0/2000 [00:00<?, ?it/s]"
      ]
     },
     "metadata": {},
     "output_type": "display_data"
    },
    {
     "name": "stdout",
     "output_type": "stream",
     "text": [
      "Fitting 2 states...\n"
     ]
    },
    {
     "name": "stderr",
     "output_type": "stream",
     "text": [
      "Converged to LP: -21185.7:   1%|▏         | 29/2000 [00:16<19:04,  1.72it/s]\n",
      "Converged to LP: -21185.7:   2%|▏         | 43/2000 [00:23<17:36,  1.85it/s]\n",
      "Converged to LP: -21185.7:   3%|▎         | 56/2000 [00:34<19:51,  1.63it/s]\n",
      "Converged to LP: -21185.7:   3%|▎         | 67/2000 [00:35<17:12,  1.87it/s]\n",
      "Converged to LP: -21185.7:   4%|▎         | 70/2000 [00:39<17:55,  1.79it/s]\n",
      "Converged to LP: -21185.7:   4%|▍         | 75/2000 [00:46<19:51,  1.61it/s]\n",
      "Converged to LP: -21185.7:   4%|▍         | 81/2000 [00:52<20:52,  1.53it/s]\n",
      "Converged to LP: -21185.7:   4%|▎         | 73/2000 [00:37<16:26,  1.95it/s]\n",
      "Converged to LP: -22541.5:  24%|██▍       | 487/2000 [02:55<09:04,  2.78it/s]\n",
      "Converged to LP: -22541.5:  31%|███       | 622/2000 [04:00<08:53,  2.58it/s]\n",
      "Converged to LP: -22541.9:  33%|███▎      | 656/2000 [04:10<08:32,  2.62it/s]\n",
      "Converged to LP: -22541.5:  33%|███▎      | 669/2000 [04:11<08:21,  2.66it/s]\n",
      "Converged to LP: -22541.4:  32%|███▏      | 649/2000 [03:46<07:51,  2.86it/s]\n",
      "Converged to LP: -22541.5:  35%|███▌      | 701/2000 [04:22<08:06,  2.67it/s]\n",
      "Converged to LP: -22541.5:  36%|███▌      | 713/2000 [04:24<07:57,  2.70it/s]\n",
      "Converged to LP: -22541.5:  37%|███▋      | 742/2000 [04:31<07:40,  2.73it/s]\n",
      "Converged to LP: -22541.5:  38%|███▊      | 761/2000 [04:34<07:27,  2.77it/s]\n",
      "Converged to LP: -22541.5:  36%|███▌      | 724/2000 [04:20<07:38,  2.78it/s]\n",
      "Converged to LP: -22541.5:  40%|███▉      | 793/2000 [04:44<07:12,  2.79it/s]\n",
      "Converged to LP: -22541.4:  42%|████▏     | 833/2000 [04:54<06:52,  2.83it/s]\n"
     ]
    },
    {
     "name": "stdout",
     "output_type": "stream",
     "text": [
      "Fitting 3 states...\n"
     ]
    },
    {
     "name": "stderr",
     "output_type": "stream",
     "text": [
      "Converged to LP: -20840.5:   3%|▎         | 51/2000 [00:39<25:15,  1.29it/s]\n",
      "Converged to LP: -20840.5:   4%|▍         | 79/2000 [01:21<33:03,  1.03s/it]\n",
      "Converged to LP: -20840.5:   8%|▊         | 161/2000 [02:19<26:28,  1.16it/s]\n",
      "Converged to LP: -20840.5:   8%|▊         | 158/2000 [02:25<28:12,  1.09it/s]\n",
      "Converged to LP: -20840.5:   8%|▊         | 165/2000 [02:34<28:32,  1.07it/s]\n",
      "Converged to LP: -20840.5:   9%|▉         | 176/2000 [02:37<27:10,  1.12it/s]\n",
      "Converged to LP: -20841.3:  12%|█▏        | 233/2000 [03:18<25:02,  1.18it/s]\n",
      "Converged to LP: -20841.3:  12%|█▏        | 233/2000 [03:19<25:10,  1.17it/s]\n",
      "Converged to LP: -20840.5:  12%|█▏        | 243/2000 [03:38<26:16,  1.11it/s]\n",
      "Converged to LP: -20840.5:  17%|█▋        | 331/2000 [04:09<20:57,  1.33it/s]\n",
      "Converged to LP: -20840.5:  13%|█▎        | 254/2000 [03:02<20:51,  1.39it/s]\n",
      "Converged to LP: -20840.5:  10%|█         | 205/2000 [02:11<19:11,  1.56it/s]\n",
      "Converged to LP: -20840.5:  22%|██▏       | 432/2000 [04:52<17:42,  1.48it/s]\n",
      "Converged to LP: -20840.5:  15%|█▍        | 292/2000 [02:42<15:48,  1.80it/s]\n",
      "Converged to LP: -20841.3:  31%|███       | 614/2000 [05:35<12:36,  1.83it/s]\n",
      "Converged to LP: -20840.5:  34%|███▍      | 679/2000 [05:48<11:17,  1.95it/s]\n",
      "Converged to LP: -22517.5:  68%|██████▊   | 1363/2000 [08:36<04:01,  2.64it/s]\n",
      "Converged to LP: -22519.5:  69%|██████▉   | 1376/2000 [08:40<03:55,  2.65it/s]\n",
      "Converged to LP: -22517.1:  80%|███████▉  | 1590/2000 [09:29<02:26,  2.79it/s]\n",
      "Converged to LP: -22519.6:  86%|████████▌ | 1716/2000 [09:24<01:33,  3.04it/s]\n"
     ]
    },
    {
     "name": "stdout",
     "output_type": "stream",
     "text": [
      "Fitting 4 states...\n"
     ]
    },
    {
     "name": "stderr",
     "output_type": "stream",
     "text": [
      "Converged to LP: -20863.8:  35%|███▍      | 691/2000 [09:30<18:00,  1.21it/s]\n",
      "Converged to LP: -20788.0:  29%|██▉       | 589/2000 [09:38<23:06,  1.02it/s]\n",
      "Converged to LP: -20867.0:  42%|████▏     | 840/2000 [11:53<16:25,  1.18it/s]\n",
      "Converged to LP: -20862.7:  40%|███▉      | 796/2000 [12:20<18:40,  1.07it/s]\n",
      "Converged to LP: -20861.6:  44%|████▍     | 882/2000 [12:24<15:43,  1.18it/s]\n",
      "Converged to LP: -20862.3:  47%|████▋     | 943/2000 [13:54<15:35,  1.13it/s]\n",
      "Converged to LP: -20862.1:  48%|████▊     | 970/2000 [14:29<15:23,  1.12it/s]\n",
      "Converged to LP: -20859.2:  53%|█████▎    | 1064/2000 [14:53<13:05,  1.19it/s]\n",
      "Converged to LP: -20859.3:  51%|█████     | 1023/2000 [14:55<14:15,  1.14it/s]\n",
      "Converged to LP: -20853.5:  54%|█████▍    | 1078/2000 [15:03<12:52,  1.19it/s]\n",
      "Converged to LP: -20787.9:  52%|█████▏    | 1036/2000 [15:08<14:05,  1.14it/s]\n",
      "Converged to LP: -20853.8:  65%|██████▍   | 1297/2000 [16:20<08:51,  1.32it/s]\n",
      "Converged to LP: -20869.0:  64%|██████▍   | 1288/2000 [16:21<09:02,  1.31it/s]\n",
      "Converged to LP: -20861.6:  45%|████▍     | 892/2000 [08:23<10:25,  1.77it/s]\n",
      "Converged to LP: -20862.1:  34%|███▍      | 681/2000 [05:42<11:03,  1.99it/s]\n",
      "Converged to LP: -20853.5:  43%|████▎     | 859/2000 [08:28<11:15,  1.69it/s]\n",
      "Converged to LP: -20854.1:  48%|████▊     | 965/2000 [07:16<07:47,  2.21it/s]\n",
      "Converged to LP: -20862.9:  88%|████████▊ | 1770/2000 [19:21<02:30,  1.52it/s]\n",
      "Converged to LP: -20858.4:  97%|█████████▋| 1938/2000 [19:25<00:37,  1.66it/s]\n",
      "LP: -22539.3: 100%|█████████▉| 1999/2000 [20:12<00:00,  4.54it/s]"
     ]
    },
    {
     "name": "stdout",
     "output_type": "stream",
     "text": [
      "Fitting 5 states...\n"
     ]
    },
    {
     "name": "stderr",
     "output_type": "stream",
     "text": [
      "LP: -22539.3: 100%|██████████| 2000/2000 [20:12<00:00,  1.65it/s]\n",
      "Converged to LP: -20883.5:  57%|█████▋    | 1147/2000 [18:04<13:26,  1.06it/s]\n",
      "Converged to LP: -20810.5:  57%|█████▋    | 1141/2000 [20:05<15:07,  1.06s/it]\n",
      "Converged to LP: -20881.7:  71%|███████   | 1417/2000 [24:04<09:54,  1.02s/it]\n",
      "Converged to LP: -20888.0:  76%|███████▌  | 1517/2000 [25:08<08:00,  1.01it/s]\n",
      "Converged to LP: -20810.0:  86%|████████▌ | 1716/2000 [30:02<04:58,  1.05s/it]\n",
      "LP: -20877.1: 100%|██████████| 2000/2000 [32:59<00:00,  1.01it/s]\n",
      "LP: -20879.3: 100%|██████████| 2000/2000 [33:08<00:00,  1.01it/s]\n",
      "LP: -20803.8: 100%|██████████| 2000/2000 [33:18<00:00,  1.00it/s]\n",
      "Converged to LP: -20889.4:  96%|█████████▋| 1929/2000 [33:20<01:13,  1.04s/it]\n",
      "LP: -20889.2: 100%|██████████| 2000/2000 [33:26<00:00,  1.00s/it]\n",
      "LP: -20894.2: 100%|██████████| 2000/2000 [33:26<00:00,  1.00s/it]\n",
      "LP: -20875.9: 100%|██████████| 2000/2000 [33:23<00:00,  1.00s/it]\n",
      "LP: -20880.6: 100%|██████████| 2000/2000 [33:23<00:00,  1.00s/it]\n",
      "LP: -20880.2: 100%|██████████| 2000/2000 [33:30<00:00,  1.01s/it]\n",
      "LP: -20885.0: 100%|██████████| 2000/2000 [33:57<00:00,  1.02s/it]\n",
      "LP: -20882.9: 100%|██████████| 2000/2000 [33:59<00:00,  1.02s/it]\n",
      "Converged to LP: -20807.7:  53%|█████▎    | 1061/2000 [12:48<11:20,  1.38it/s]\n",
      "Converged to LP: -20816.6:  81%|████████▏ | 1625/2000 [19:56<04:36,  1.36it/s]\n",
      "LP: -20883.7: 100%|██████████| 2000/2000 [20:50<00:00,  1.60it/s]\n",
      "LP: -21252.9: 100%|██████████| 2000/2000 [17:03<00:00,  1.95it/s]\n"
     ]
    }
   ],
   "source": [
    "models_glm_hmm, fit_lls_glm_hmm = global_fit(observations=choices_aggregated, inputs=inputs_aggregated, masks=masks_aggregated, n_iters=2000, n_initializations=20)"
   ]
  },
  {
   "cell_type": "code",
   "execution_count": 144,
   "metadata": {},
   "outputs": [],
   "source": [
    "global_fits = {\n",
    "    'models': models_glm_hmm,\n",
    "    'fits_lls_glm_hmm': fit_lls_glm_hmm,\n",
    "}\n",
    "\n",
    "with open(Path(processed_dir, 'models_glm_hmm_global.pkl'), 'wb') as f:\n",
    "    pickle.dump(global_fits, f)"
   ]
  },
  {
   "cell_type": "code",
   "execution_count": 128,
   "metadata": {},
   "outputs": [],
   "source": [
    "# get best model of 20 initializations for each state\n",
    "init_params = {\n",
    "    'glm_weights': {},\n",
    "    'transition_matrices': {}\n",
    "}\n",
    "for n_states in np.arange(2,6):\n",
    "    best_idx = np.argmax([np.max(arr) for arr in fit_lls_glm_hmm[n_states]])\n",
    "    init_params['glm_weights'][n_states] = models_glm_hmm[n_states][best_idx].observations.params\n",
    "    init_params['transition_matrices'][n_states] = models_glm_hmm[n_states][best_idx].transitions.params"
   ]
  },
  {
   "cell_type": "code",
   "execution_count": 141,
   "metadata": {},
   "outputs": [
    {
     "name": "stdout",
     "output_type": "stream",
     "text": [
      "Fitting session 0...\n",
      "Fitting 2 states...\n"
     ]
    },
    {
     "name": "stderr",
     "output_type": "stream",
     "text": [
      "Converged to LP: -361.0:   0%|          | 8/2000 [00:00<00:30, 65.59it/s]\n",
      "Converged to LP: -350.8:   0%|          | 8/2000 [00:00<00:28, 70.80it/s]\n",
      "Converged to LP: -352.0:   0%|          | 6/2000 [00:00<00:35, 56.68it/s]\n",
      "Converged to LP: -371.0:   0%|          | 8/2000 [00:00<00:32, 61.05it/s]\n",
      "Converged to LP: -378.5:   1%|          | 13/2000 [00:00<00:24, 80.03it/s]\n"
     ]
    },
    {
     "name": "stdout",
     "output_type": "stream",
     "text": [
      "Fitting 3 states...\n"
     ]
    },
    {
     "name": "stderr",
     "output_type": "stream",
     "text": [
      "Converged to LP: -376.8:   1%|          | 16/2000 [00:00<00:31, 63.92it/s]\n",
      "Converged to LP: -404.4:   1%|          | 23/2000 [00:00<00:27, 72.91it/s]\n",
      "Converged to LP: -388.1:   2%|▏         | 39/2000 [00:00<00:22, 86.94it/s]\n",
      "Converged to LP: -380.7:   2%|▎         | 50/2000 [00:00<00:21, 91.80it/s] \n",
      "Converged to LP: -397.2:   3%|▎         | 60/2000 [00:00<00:19, 97.36it/s] \n"
     ]
    },
    {
     "name": "stdout",
     "output_type": "stream",
     "text": [
      "Fitting 4 states...\n"
     ]
    },
    {
     "name": "stderr",
     "output_type": "stream",
     "text": [
      "Converged to LP: -435.7:   1%|          | 16/2000 [00:00<00:33, 59.21it/s]\n",
      "Converged to LP: -404.4:   1%|          | 20/2000 [00:00<00:32, 61.35it/s]\n",
      "Converged to LP: -409.2:   1%|          | 20/2000 [00:00<00:30, 65.05it/s]\n",
      "Converged to LP: -410.4:   1%|▏         | 26/2000 [00:00<00:33, 59.23it/s]\n",
      "Converged to LP: -428.5:   3%|▎         | 67/2000 [00:00<00:22, 86.38it/s]\n"
     ]
    },
    {
     "name": "stdout",
     "output_type": "stream",
     "text": [
      "Fitting 5 states...\n"
     ]
    },
    {
     "name": "stderr",
     "output_type": "stream",
     "text": [
      "Converged to LP: -462.7:   1%|          | 23/2000 [00:00<00:29, 66.35it/s]\n",
      "Converged to LP: -446.7:   1%|▏         | 25/2000 [00:00<00:32, 61.25it/s]\n",
      "Converged to LP: -433.4:   2%|▏         | 33/2000 [00:00<00:27, 71.06it/s]\n",
      "Converged to LP: -440.7:   2%|▏         | 47/2000 [00:00<00:25, 76.79it/s]\n",
      "Converged to LP: -467.0:   1%|          | 20/2000 [00:00<00:30, 65.73it/s]\n",
      "LP: -349.3:   0%|          | 0/2000 [00:00<?, ?it/s]"
     ]
    },
    {
     "name": "stdout",
     "output_type": "stream",
     "text": [
      "Fitting session 1...\n",
      "Fitting 2 states...\n"
     ]
    },
    {
     "name": "stderr",
     "output_type": "stream",
     "text": [
      "Converged to LP: -368.9:   0%|          | 9/2000 [00:00<00:23, 85.12it/s]\n",
      "Converged to LP: -341.5:   1%|          | 12/2000 [00:00<00:20, 95.31it/s]\n",
      "Converged to LP: -356.5:   1%|          | 16/2000 [00:00<00:20, 98.08it/s]\n",
      "Converged to LP: -364.8:   1%|▏         | 25/2000 [00:00<00:18, 107.24it/s]\n",
      "Converged to LP: -347.9:   3%|▎         | 66/2000 [00:00<00:14, 134.25it/s]\n"
     ]
    },
    {
     "name": "stdout",
     "output_type": "stream",
     "text": [
      "Fitting 3 states...\n"
     ]
    },
    {
     "name": "stderr",
     "output_type": "stream",
     "text": [
      "Converged to LP: -387.8:   0%|          | 10/2000 [00:00<00:18, 108.14it/s]\n",
      "Converged to LP: -400.2:   0%|          | 9/2000 [00:00<00:19, 103.49it/s]\n",
      "Converged to LP: -396.1:   1%|          | 16/2000 [00:00<00:18, 109.52it/s]\n",
      "Converged to LP: -374.9:   1%|          | 22/2000 [00:00<00:19, 104.07it/s]\n",
      "Converged to LP: -371.1:   1%|▏         | 28/2000 [00:00<00:17, 112.87it/s]\n",
      "LP: -431.5:   0%|          | 0/2000 [00:00<?, ?it/s]"
     ]
    },
    {
     "name": "stdout",
     "output_type": "stream",
     "text": [
      "Fitting 4 states...\n"
     ]
    },
    {
     "name": "stderr",
     "output_type": "stream",
     "text": [
      "Converged to LP: -406.1:   1%|▏         | 28/2000 [00:00<00:24, 79.15it/s]\n",
      "Converged to LP: -416.1:   1%|▏         | 28/2000 [00:00<00:27, 70.76it/s]\n",
      "Converged to LP: -430.3:   2%|▏         | 31/2000 [00:00<00:24, 81.62it/s]\n",
      "Converged to LP: -403.5:   2%|▏         | 39/2000 [00:00<00:22, 86.19it/s]\n",
      "Converged to LP: -425.9:   6%|▌         | 113/2000 [00:01<00:19, 99.01it/s]\n",
      "LP: -435.2:   0%|          | 9/2000 [00:00<00:25, 79.06it/s]]"
     ]
    },
    {
     "name": "stdout",
     "output_type": "stream",
     "text": [
      "Fitting 5 states...\n"
     ]
    },
    {
     "name": "stderr",
     "output_type": "stream",
     "text": [
      "Converged to LP: -458.7:   1%|          | 13/2000 [00:00<00:28, 70.77it/s]\n",
      "Converged to LP: -437.4:   1%|          | 18/2000 [00:00<00:29, 67.24it/s]\n",
      "Converged to LP: -461.0:   1%|▏         | 27/2000 [00:00<00:24, 79.22it/s]\n",
      "Converged to LP: -431.5:   2%|▏         | 32/2000 [00:00<00:26, 74.74it/s]\n",
      "Converged to LP: -450.1:   4%|▎         | 70/2000 [00:00<00:19, 98.27it/s] \n",
      "LP: -369.5:   0%|          | 0/2000 [00:00<?, ?it/s]"
     ]
    },
    {
     "name": "stdout",
     "output_type": "stream",
     "text": [
      "Fitting session 2...\n",
      "Fitting 2 states...\n"
     ]
    },
    {
     "name": "stderr",
     "output_type": "stream",
     "text": [
      "Converged to LP: -360.4:   0%|          | 7/2000 [00:00<00:17, 114.59it/s]\n",
      "Converged to LP: -362.6:   0%|          | 8/2000 [00:00<00:17, 111.02it/s]\n",
      "Converged to LP: -367.0:   2%|▏         | 45/2000 [00:00<00:13, 140.38it/s]\n",
      "Converged to LP: -359.0:   2%|▏         | 33/2000 [00:00<00:16, 117.40it/s]\n",
      "Converged to LP: -360.3:   2%|▏         | 46/2000 [00:00<00:15, 124.01it/s]\n",
      "LP: -395.6:   0%|          | 0/2000 [00:00<?, ?it/s]"
     ]
    },
    {
     "name": "stdout",
     "output_type": "stream",
     "text": [
      "Fitting 3 states...\n"
     ]
    },
    {
     "name": "stderr",
     "output_type": "stream",
     "text": [
      "Converged to LP: -383.3:   1%|          | 16/2000 [00:00<00:27, 72.57it/s]\n",
      "Converged to LP: -380.3:   1%|          | 22/2000 [00:00<00:21, 91.27it/s]\n",
      "Converged to LP: -387.5:   2%|▏         | 35/2000 [00:00<00:20, 96.74it/s]\n",
      "Converged to LP: -381.8:   2%|▏         | 33/2000 [00:00<00:23, 84.38it/s]\n",
      "Converged to LP: -382.2:   2%|▏         | 37/2000 [00:00<00:19, 98.22it/s]\n"
     ]
    },
    {
     "name": "stdout",
     "output_type": "stream",
     "text": [
      "Fitting 4 states...\n"
     ]
    },
    {
     "name": "stderr",
     "output_type": "stream",
     "text": [
      "Converged to LP: -411.1:   1%|          | 16/2000 [00:00<00:29, 66.73it/s]\n",
      "Converged to LP: -407.3:   1%|          | 22/2000 [00:00<00:26, 73.79it/s]\n",
      "Converged to LP: -409.6:   2%|▏         | 32/2000 [00:00<00:24, 78.74it/s]\n",
      "Converged to LP: -411.9:   3%|▎         | 54/2000 [00:00<00:21, 90.06it/s]\n",
      "Converged to LP: -408.1:   2%|▏         | 49/2000 [00:00<00:24, 80.30it/s]\n",
      "LP: -445.4:   0%|          | 5/2000 [00:00<00:40, 49.44it/s]"
     ]
    },
    {
     "name": "stdout",
     "output_type": "stream",
     "text": [
      "Fitting 5 states...\n"
     ]
    },
    {
     "name": "stderr",
     "output_type": "stream",
     "text": [
      "Converged to LP: -440.4:   2%|▏         | 44/2000 [00:00<00:28, 69.59it/s]\n",
      "Converged to LP: -440.3:   4%|▍         | 80/2000 [00:01<00:24, 77.04it/s]\n",
      "Converged to LP: -426.6:   8%|▊         | 169/2000 [00:02<00:23, 77.25it/s]\n",
      "Converged to LP: -436.4:  11%|█▏        | 226/2000 [00:02<00:19, 88.88it/s]\n",
      "Converged to LP: -428.5:  11%|█         | 224/2000 [00:02<00:20, 86.73it/s] \n",
      "Converged to LP: -343.5:   0%|          | 5/2000 [00:00<00:22, 89.30it/s]\n",
      "Converged to LP: -337.8:   0%|          | 7/2000 [00:00<00:16, 117.57it/s]\n",
      "Converged to LP: -358.0:   0%|          | 6/2000 [00:00<00:18, 109.18it/s]\n",
      "Converged to LP: -347.1:   0%|          | 7/2000 [00:00<00:15, 125.84it/s]\n",
      "Converged to LP: -344.8:   0%|          | 6/2000 [00:00<00:15, 130.02it/s]\n",
      "LP: -378.5:   0%|          | 0/2000 [00:00<?, ?it/s]"
     ]
    },
    {
     "name": "stdout",
     "output_type": "stream",
     "text": [
      "Fitting session 3...\n",
      "Fitting 2 states...\n",
      "Fitting 3 states...\n"
     ]
    },
    {
     "name": "stderr",
     "output_type": "stream",
     "text": [
      "Converged to LP: -369.1:   0%|          | 10/2000 [00:00<00:21, 92.01it/s]\n",
      "Converged to LP: -378.4:   0%|          | 9/2000 [00:00<00:22, 90.21it/s]\n",
      "Converged to LP: -376.1:   0%|          | 9/2000 [00:00<00:22, 89.14it/s]\n",
      "Converged to LP: -389.3:   1%|          | 12/2000 [00:00<00:20, 99.34it/s]\n",
      "Converged to LP: -374.8:   1%|          | 16/2000 [00:00<00:18, 105.15it/s]\n",
      "LP: -404.3:   0%|          | 0/2000 [00:00<?, ?it/s]"
     ]
    },
    {
     "name": "stdout",
     "output_type": "stream",
     "text": [
      "Fitting 4 states...\n"
     ]
    },
    {
     "name": "stderr",
     "output_type": "stream",
     "text": [
      "Converged to LP: -403.7:   1%|          | 11/2000 [00:00<00:25, 79.27it/s]\n",
      "Converged to LP: -399.1:   1%|          | 13/2000 [00:00<00:24, 81.90it/s]\n",
      "Converged to LP: -403.8:   1%|          | 11/2000 [00:00<00:27, 72.34it/s]\n",
      "Converged to LP: -408.2:   2%|▏         | 48/2000 [00:00<00:18, 104.04it/s]\n",
      "Converged to LP: -412.6:   4%|▍         | 85/2000 [00:00<00:19, 98.55it/s] \n",
      "  0%|          | 0/2000 [00:00<?, ?it/s]00<?, ?it/s]"
     ]
    },
    {
     "name": "stdout",
     "output_type": "stream",
     "text": [
      "Fitting 5 states...\n"
     ]
    },
    {
     "name": "stderr",
     "output_type": "stream",
     "text": [
      "Converged to LP: -442.2:   1%|          | 17/2000 [00:00<00:33, 58.99it/s]\n",
      "Converged to LP: -438.2:   2%|▏         | 35/2000 [00:00<00:27, 70.59it/s]\n",
      "Converged to LP: -426.2:   3%|▎         | 68/2000 [00:00<00:25, 74.68it/s]\n",
      "Converged to LP: -426.9:   4%|▎         | 73/2000 [00:00<00:25, 76.69it/s]\n",
      "Converged to LP: -432.0:   7%|▋         | 136/2000 [00:01<00:21, 87.30it/s] \n",
      "LP: -429.5:   0%|          | 0/2000 [00:00<?, ?it/s]"
     ]
    },
    {
     "name": "stdout",
     "output_type": "stream",
     "text": [
      "Fitting session 4...\n",
      "Fitting 2 states...\n"
     ]
    },
    {
     "name": "stderr",
     "output_type": "stream",
     "text": [
      "Converged to LP: -403.5:   1%|          | 19/2000 [00:00<00:18, 109.75it/s]\n",
      "Converged to LP: -419.2:   1%|▏         | 25/2000 [00:00<00:19, 103.53it/s]\n",
      "Converged to LP: -422.8:   1%|          | 22/2000 [00:00<00:20, 97.87it/s]\n",
      "Converged to LP: -438.0:   2%|▏         | 45/2000 [00:00<00:17, 110.61it/s]\n",
      "Converged to LP: -412.3:   5%|▌         | 106/2000 [00:00<00:14, 132.90it/s]\n",
      "LP: -469.0:   0%|          | 0/2000 [00:00<?, ?it/s]"
     ]
    },
    {
     "name": "stdout",
     "output_type": "stream",
     "text": [
      "Fitting 3 states...\n"
     ]
    },
    {
     "name": "stderr",
     "output_type": "stream",
     "text": [
      "Converged to LP: -434.8:   1%|          | 17/2000 [00:00<00:18, 106.19it/s]\n",
      "Converged to LP: -448.2:   1%|          | 22/2000 [00:00<00:24, 82.28it/s]\n",
      "Converged to LP: -452.7:   2%|▏         | 38/2000 [00:00<00:19, 99.40it/s]\n",
      "Converged to LP: -436.3:   4%|▍         | 79/2000 [00:00<00:18, 103.43it/s]\n",
      "Converged to LP: -457.1:  10%|▉         | 194/2000 [00:01<00:15, 116.69it/s]\n",
      "LP: -485.3:   0%|          | 0/2000 [00:00<?, ?it/s]"
     ]
    },
    {
     "name": "stdout",
     "output_type": "stream",
     "text": [
      "Fitting 4 states...\n"
     ]
    },
    {
     "name": "stderr",
     "output_type": "stream",
     "text": [
      "Converged to LP: -474.7:   1%|▏         | 26/2000 [00:00<00:27, 72.76it/s]\n",
      "Converged to LP: -484.0:   1%|▏         | 29/2000 [00:00<00:25, 76.87it/s]\n",
      "Converged to LP: -467.8:   6%|▌         | 115/2000 [00:01<00:21, 87.64it/s]\n",
      "Converged to LP: -483.3:   8%|▊         | 151/2000 [00:01<00:21, 87.24it/s]\n",
      "Converged to LP: -453.3:  52%|█████▏    | 1034/2000 [00:09<00:08, 107.78it/s]\n",
      "LP: -524.5:   0%|          | 0/2000 [00:00<?, ?it/s]"
     ]
    },
    {
     "name": "stdout",
     "output_type": "stream",
     "text": [
      "Fitting 5 states...\n"
     ]
    },
    {
     "name": "stderr",
     "output_type": "stream",
     "text": [
      "Converged to LP: -503.1:   1%|▏         | 29/2000 [00:00<00:30, 64.44it/s]\n",
      "LP: -492.6:   1%|▏         | 26/2000 [00:00<00:31, 61.74it/s]7, 71.99it/s]\n",
      "Converged to LP: -523.9:   3%|▎         | 57/2000 [00:00<00:27, 71.51it/s]\n",
      "Converged to LP: -494.3:  10%|▉         | 195/2000 [00:02<00:22, 79.44it/s]\n",
      "Converged to LP: -481.5:  18%|█▊        | 364/2000 [00:04<00:19, 84.44it/s]\n",
      "LP: -370.0:   0%|          | 0/2000 [00:00<?, ?it/s]"
     ]
    },
    {
     "name": "stdout",
     "output_type": "stream",
     "text": [
      "Fitting session 5...\n",
      "Fitting 2 states...\n",
      "Fitting 3 states...\n"
     ]
    },
    {
     "name": "stderr",
     "output_type": "stream",
     "text": [
      "Converged to LP: -357.7:   0%|          | 6/2000 [00:00<00:21, 91.10it/s]\n",
      "Converged to LP: -352.9:   0%|          | 6/2000 [00:00<00:21, 91.39it/s]\n",
      "Converged to LP: -354.4:   0%|          | 7/2000 [00:00<00:19, 103.45it/s]\n",
      "Converged to LP: -358.1:   0%|          | 7/2000 [00:00<00:17, 111.23it/s]\n",
      "Converged to LP: -360.2:   0%|          | 6/2000 [00:00<00:18, 106.24it/s]\n",
      "Converged to LP: -386.1:   0%|          | 8/2000 [00:00<00:22, 88.83it/s]\n",
      "Converged to LP: -381.2:   0%|          | 10/2000 [00:00<00:22, 89.69it/s]\n",
      "Converged to LP: -381.5:   0%|          | 9/2000 [00:00<00:23, 86.51it/s]\n",
      "Converged to LP: -388.6:   0%|          | 10/2000 [00:00<00:21, 92.50it/s]\n",
      "Converged to LP: -387.6:   1%|          | 16/2000 [00:00<00:21, 93.38it/s]\n",
      "LP: -411.6:   0%|          | 7/2000 [00:00<00:30, 66.11it/s]]"
     ]
    },
    {
     "name": "stdout",
     "output_type": "stream",
     "text": [
      "Fitting 4 states...\n"
     ]
    },
    {
     "name": "stderr",
     "output_type": "stream",
     "text": [
      "Converged to LP: -417.8:   1%|          | 17/2000 [00:00<00:22, 87.53it/s]\n",
      "Converged to LP: -411.5:   1%|          | 13/2000 [00:00<00:32, 61.45it/s]\n",
      "Converged to LP: -415.5:   1%|          | 14/2000 [00:00<00:32, 61.16it/s]\n",
      "Converged to LP: -414.4:   1%|          | 15/2000 [00:00<00:35, 55.90it/s]\n",
      "Converged to LP: -409.6:   1%|          | 23/2000 [00:00<00:26, 75.32it/s]\n"
     ]
    },
    {
     "name": "stdout",
     "output_type": "stream",
     "text": [
      "Fitting 5 states...\n"
     ]
    },
    {
     "name": "stderr",
     "output_type": "stream",
     "text": [
      "Converged to LP: -439.3:   1%|          | 19/2000 [00:00<00:29, 67.09it/s]\n",
      "Converged to LP: -445.8:   1%|          | 19/2000 [00:00<00:34, 57.81it/s]\n",
      "Converged to LP: -437.0:   1%|          | 23/2000 [00:00<00:29, 66.35it/s]\n",
      "Converged to LP: -445.6:   1%|▏         | 29/2000 [00:00<00:32, 60.13it/s]\n",
      "Converged to LP: -441.0:   3%|▎         | 62/2000 [00:00<00:29, 66.58it/s]\n",
      "LP: -466.6:   0%|          | 0/2000 [00:00<?, ?it/s]"
     ]
    },
    {
     "name": "stdout",
     "output_type": "stream",
     "text": [
      "Fitting session 6...\n",
      "Fitting 2 states...\n",
      "Fitting 3 states...\n"
     ]
    },
    {
     "name": "stderr",
     "output_type": "stream",
     "text": [
      "Converged to LP: -452.4:   1%|          | 13/2000 [00:00<00:15, 124.56it/s]\n",
      "Converged to LP: -455.8:   0%|          | 9/2000 [00:00<00:20, 95.82it/s]\n",
      "Converged to LP: -466.5:   1%|          | 13/2000 [00:00<00:18, 109.38it/s]\n",
      "Converged to LP: -469.9:   1%|          | 15/2000 [00:00<00:21, 91.58it/s]\n",
      "Converged to LP: -449.4:   1%|          | 16/2000 [00:00<00:17, 114.27it/s]\n",
      "Converged to LP: -474.9:   1%|          | 12/2000 [00:00<00:28, 69.78it/s]\n",
      "Converged to LP: -471.8:   1%|          | 18/2000 [00:00<00:27, 70.96it/s]\n",
      "Converged to LP: -493.3:   1%|          | 21/2000 [00:00<00:26, 74.99it/s]\n",
      "Converged to LP: -481.2:   1%|▏         | 27/2000 [00:00<00:24, 80.05it/s]\n",
      "Converged to LP: -494.2:  14%|█▍        | 277/2000 [00:02<00:15, 111.11it/s]\n",
      "LP: -503.1:   0%|          | 7/2000 [00:00<00:29, 66.77it/s]"
     ]
    },
    {
     "name": "stdout",
     "output_type": "stream",
     "text": [
      "Fitting 4 states...\n"
     ]
    },
    {
     "name": "stderr",
     "output_type": "stream",
     "text": [
      "Converged to LP: -503.0:   1%|          | 23/2000 [00:00<00:27, 70.63it/s]\n",
      "Converged to LP: -523.4:   1%|▏         | 28/2000 [00:00<00:28, 70.12it/s]\n",
      "Converged to LP: -510.5:   2%|▏         | 39/2000 [00:00<00:29, 66.70it/s]\n",
      "Converged to LP: -503.0:   3%|▎         | 57/2000 [00:00<00:27, 70.61it/s]\n",
      "Converged to LP: -519.0:  14%|█▎        | 271/2000 [00:03<00:19, 89.89it/s] \n",
      "LP: -569.4:   0%|          | 0/2000 [00:00<?, ?it/s]"
     ]
    },
    {
     "name": "stdout",
     "output_type": "stream",
     "text": [
      "Fitting 5 states...\n"
     ]
    },
    {
     "name": "stderr",
     "output_type": "stream",
     "text": [
      "Converged to LP: -534.3:   1%|          | 21/2000 [00:00<00:33, 58.35it/s]\n",
      "Converged to LP: -534.2:   3%|▎         | 69/2000 [00:01<00:29, 64.69it/s]\n",
      "Converged to LP: -553.0:   6%|▌         | 123/2000 [00:01<00:26, 71.33it/s]\n",
      "Converged to LP: -552.4:  10%|█         | 210/2000 [00:02<00:25, 70.30it/s]\n",
      "Converged to LP: -542.8:  19%|█▉        | 380/2000 [00:04<00:20, 80.70it/s]\n",
      "LP: -376.5:   0%|          | 0/2000 [00:00<?, ?it/s]"
     ]
    },
    {
     "name": "stdout",
     "output_type": "stream",
     "text": [
      "Fitting session 7...\n",
      "Fitting 2 states...\n"
     ]
    },
    {
     "name": "stderr",
     "output_type": "stream",
     "text": [
      "Converged to LP: -367.4:   0%|          | 8/2000 [00:00<00:16, 122.84it/s]]\n",
      "\n",
      "Converged to LP: -369.2:   1%|          | 16/2000 [00:00<00:16, 116.92it/s]\n",
      "Converged to LP: -358.8:   1%|          | 21/2000 [00:00<00:15, 130.86it/s]\n",
      "Converged to LP: -361.3:   1%|          | 21/2000 [00:00<00:16, 119.70it/s]\n",
      "LP: -411.5:   0%|          | 0/2000 [00:00<?, ?it/s]"
     ]
    },
    {
     "name": "stdout",
     "output_type": "stream",
     "text": [
      "Fitting 3 states...\n"
     ]
    },
    {
     "name": "stderr",
     "output_type": "stream",
     "text": [
      "Converged to LP: -398.4:   0%|          | 10/2000 [00:00<00:25, 78.36it/s]\n",
      "Converged to LP: -386.1:   1%|          | 11/2000 [00:00<00:23, 85.21it/s]\n",
      "Converged to LP: -399.6:   1%|          | 14/2000 [00:00<00:25, 78.79it/s]\n",
      "Converged to LP: -388.2:   1%|          | 12/2000 [00:00<00:24, 81.80it/s]\n",
      "Converged to LP: -391.6:   1%|          | 12/2000 [00:00<00:27, 72.93it/s]\n"
     ]
    },
    {
     "name": "stdout",
     "output_type": "stream",
     "text": [
      "Fitting 4 states...\n"
     ]
    },
    {
     "name": "stderr",
     "output_type": "stream",
     "text": [
      "Converged to LP: -416.1:   1%|          | 13/2000 [00:00<00:25, 78.69it/s]\n",
      "Converged to LP: -415.2:   1%|          | 17/2000 [00:00<00:28, 68.54it/s]\n",
      "Converged to LP: -419.9:   1%|          | 17/2000 [00:00<00:27, 72.47it/s]\n",
      "Converged to LP: -427.5:   1%|          | 21/2000 [00:00<00:27, 70.94it/s]\n",
      "Converged to LP: -427.1:   4%|▍         | 76/2000 [00:00<00:21, 91.31it/s]\n",
      "LP: -456.3:   0%|          | 5/2000 [00:00<00:41, 47.62it/s]"
     ]
    },
    {
     "name": "stdout",
     "output_type": "stream",
     "text": [
      "Fitting 5 states...\n"
     ]
    },
    {
     "name": "stderr",
     "output_type": "stream",
     "text": [
      "Converged to LP: -444.4:   2%|▏         | 32/2000 [00:00<00:31, 62.70it/s]\n",
      "Converged to LP: -444.0:   2%|▏         | 30/2000 [00:00<00:32, 59.90it/s]\n",
      "Converged to LP: -454.2:   2%|▎         | 50/2000 [00:00<00:28, 68.76it/s]\n",
      "Converged to LP: -451.6:   7%|▋         | 148/2000 [00:01<00:22, 82.08it/s] \n",
      "Converged to LP: -449.8:  10%|█         | 200/2000 [00:02<00:20, 86.74it/s] \n",
      "LP: -371.5:   0%|          | 0/2000 [00:00<?, ?it/s]"
     ]
    },
    {
     "name": "stdout",
     "output_type": "stream",
     "text": [
      "Fitting session 8...\n",
      "Fitting 2 states...\n",
      "Fitting 3 states...\n"
     ]
    },
    {
     "name": "stderr",
     "output_type": "stream",
     "text": [
      "Converged to LP: -324.5:   0%|          | 5/2000 [00:00<00:24, 82.27it/s]\n",
      "Converged to LP: -318.6:   0%|          | 5/2000 [00:00<00:24, 81.84it/s]\n",
      "Converged to LP: -329.1:   0%|          | 5/2000 [00:00<00:24, 82.93it/s]\n",
      "Converged to LP: -325.4:   0%|          | 5/2000 [00:00<00:23, 84.56it/s]\n",
      "Converged to LP: -304.9:   0%|          | 10/2000 [00:00<00:19, 103.57it/s]\n",
      "Converged to LP: -356.9:   1%|          | 24/2000 [00:00<00:22, 89.29it/s]\n",
      "Converged to LP: -352.3:   2%|▏         | 36/2000 [00:00<00:21, 89.58it/s]\n",
      "Converged to LP: -353.0:   2%|▏         | 41/2000 [00:00<00:21, 91.46it/s]\n",
      "Converged to LP: -328.1:   4%|▍         | 75/2000 [00:00<00:18, 105.30it/s]\n",
      "Converged to LP: -347.0:   6%|▌         | 119/2000 [00:01<00:16, 112.57it/s]\n",
      "LP: -384.3:   0%|          | 0/2000 [00:00<?, ?it/s]"
     ]
    },
    {
     "name": "stdout",
     "output_type": "stream",
     "text": [
      "Fitting 4 states...\n"
     ]
    },
    {
     "name": "stderr",
     "output_type": "stream",
     "text": [
      "Converged to LP: -378.8:   1%|▏         | 25/2000 [00:00<00:25, 78.32it/s]\n",
      "Converged to LP: -378.0:   2%|▏         | 32/2000 [00:00<00:29, 67.76it/s]\n",
      "LP: -359.7:   2%|▏         | 33/2000 [00:00<00:23, 83.74it/s]5, 76.25it/s]\n",
      "Converged to LP: -359.7:   3%|▎         | 56/2000 [00:00<00:26, 73.30it/s]\n",
      "Converged to LP: -373.7:   7%|▋         | 135/2000 [00:01<00:20, 90.56it/s] \n",
      "LP: -412.5:   0%|          | 6/2000 [00:00<00:33, 59.88it/s]"
     ]
    },
    {
     "name": "stdout",
     "output_type": "stream",
     "text": [
      "Fitting 5 states...\n"
     ]
    },
    {
     "name": "stderr",
     "output_type": "stream",
     "text": [
      "Converged to LP: -410.7:   2%|▏         | 40/2000 [00:00<00:30, 64.25it/s]\n",
      "Converged to LP: -384.3:   2%|▏         | 45/2000 [00:00<00:31, 61.89it/s]\n",
      "Converged to LP: -407.0:   2%|▏         | 49/2000 [00:00<00:29, 65.09it/s]\n",
      "Converged to LP: -404.2:   6%|▋         | 127/2000 [00:01<00:24, 77.86it/s]\n",
      "Converged to LP: -407.0:   7%|▋         | 132/2000 [00:01<00:24, 77.79it/s]\n",
      "LP: -460.4:   0%|          | 0/2000 [00:00<?, ?it/s]"
     ]
    },
    {
     "name": "stdout",
     "output_type": "stream",
     "text": [
      "Fitting session 9...\n",
      "Fitting 2 states...\n"
     ]
    },
    {
     "name": "stderr",
     "output_type": "stream",
     "text": [
      "Converged to LP: -453.6:   1%|          | 13/2000 [00:00<00:16, 121.67it/s]\n",
      "Converged to LP: -459.0:   1%|          | 12/2000 [00:00<00:19, 101.89it/s]\n",
      "Converged to LP: -459.1:   1%|          | 17/2000 [00:00<00:16, 120.80it/s]\n",
      "Converged to LP: -462.4:   1%|          | 19/2000 [00:00<00:18, 108.22it/s]\n",
      "Converged to LP: -446.3:   1%|▏         | 28/2000 [00:00<00:15, 126.89it/s]\n"
     ]
    },
    {
     "name": "stdout",
     "output_type": "stream",
     "text": [
      "Fitting 3 states...\n"
     ]
    },
    {
     "name": "stderr",
     "output_type": "stream",
     "text": [
      "Converged to LP: -490.1:   1%|          | 12/2000 [00:00<00:24, 82.43it/s]\n",
      "Converged to LP: -485.4:   1%|          | 11/2000 [00:00<00:22, 88.59it/s]\n",
      "Converged to LP: -476.5:   1%|          | 16/2000 [00:00<00:21, 91.84it/s]\n",
      "Converged to LP: -483.7:   1%|          | 14/2000 [00:00<00:24, 81.85it/s]\n",
      "Converged to LP: -473.9:   1%|          | 17/2000 [00:00<00:21, 90.26it/s]\n",
      "LP: -521.2:   0%|          | 6/2000 [00:00<00:33, 58.84it/s]"
     ]
    },
    {
     "name": "stdout",
     "output_type": "stream",
     "text": [
      "Fitting 4 states...\n"
     ]
    },
    {
     "name": "stderr",
     "output_type": "stream",
     "text": [
      "Converged to LP: -503.5:   1%|          | 14/2000 [00:00<00:28, 69.84it/s]\n",
      "Converged to LP: -515.0:   1%|          | 14/2000 [00:00<00:28, 70.78it/s]\n",
      "Converged to LP: -512.5:   1%|          | 14/2000 [00:00<00:29, 68.30it/s]\n",
      "Converged to LP: -505.8:   1%|          | 21/2000 [00:00<00:26, 74.19it/s]\n",
      "Converged to LP: -519.1:   1%|          | 21/2000 [00:00<00:29, 67.06it/s]\n",
      "LP: -565.3:   0%|          | 0/2000 [00:00<?, ?it/s]"
     ]
    },
    {
     "name": "stdout",
     "output_type": "stream",
     "text": [
      "Fitting 5 states...\n"
     ]
    },
    {
     "name": "stderr",
     "output_type": "stream",
     "text": [
      "Converged to LP: -542.5:   1%|          | 18/2000 [00:00<00:32, 61.82it/s]\n",
      "Converged to LP: -549.8:   2%|▏         | 30/2000 [00:00<00:28, 67.94it/s]\n",
      "Converged to LP: -543.3:   2%|▏         | 33/2000 [00:00<00:28, 69.48it/s]\n",
      "Converged to LP: -537.1:   3%|▎         | 55/2000 [00:00<00:24, 78.12it/s]\n",
      "Converged to LP: -532.4:   5%|▌         | 103/2000 [00:01<00:22, 84.11it/s]\n",
      "LP: -393.7:   0%|          | 0/2000 [00:00<?, ?it/s]"
     ]
    },
    {
     "name": "stdout",
     "output_type": "stream",
     "text": [
      "Fitting session 10...\n",
      "Fitting 2 states...\n",
      "Fitting 3 states...\n"
     ]
    },
    {
     "name": "stderr",
     "output_type": "stream",
     "text": [
      "Converged to LP: -382.6:   0%|          | 7/2000 [00:00<00:14, 137.29it/s]\n",
      "Converged to LP: -395.3:   0%|          | 9/2000 [00:00<00:20, 99.08it/s]\n",
      "Converged to LP: -385.0:   0%|          | 10/2000 [00:00<00:16, 118.90it/s]\n",
      "Converged to LP: -390.1:   0%|          | 10/2000 [00:00<00:16, 118.49it/s]\n",
      "Converged to LP: -385.9:   0%|          | 10/2000 [00:00<00:17, 115.74it/s]\n",
      "Converged to LP: -410.5:   1%|          | 11/2000 [00:00<00:24, 80.66it/s]\n",
      "Converged to LP: -413.1:   0%|          | 10/2000 [00:00<00:25, 76.92it/s]\n",
      "Converged to LP: -425.1:   1%|          | 15/2000 [00:00<00:20, 96.01it/s]\n",
      "Converged to LP: -405.3:   1%|          | 19/2000 [00:00<00:22, 88.83it/s]\n",
      "Converged to LP: -411.7:   3%|▎         | 60/2000 [00:00<00:18, 107.41it/s]\n",
      "LP: -444.5:   0%|          | 0/2000 [00:00<?, ?it/s]"
     ]
    },
    {
     "name": "stdout",
     "output_type": "stream",
     "text": [
      "Fitting 4 states...\n"
     ]
    },
    {
     "name": "stderr",
     "output_type": "stream",
     "text": [
      "Converged to LP: -452.6:   1%|          | 14/2000 [00:00<00:28, 69.77it/s]\n",
      "Converged to LP: -441.9:   1%|          | 13/2000 [00:00<00:26, 74.93it/s]\n",
      "Converged to LP: -443.5:   1%|          | 21/2000 [00:00<00:22, 86.18it/s]\n",
      "Converged to LP: -434.4:   2%|▏         | 45/2000 [00:00<00:21, 90.57it/s]\n",
      "Converged to LP: -432.5:   3%|▎         | 60/2000 [00:00<00:20, 93.42it/s] \n",
      "LP: -495.5:   0%|          | 0/2000 [00:00<?, ?it/s]"
     ]
    },
    {
     "name": "stdout",
     "output_type": "stream",
     "text": [
      "Fitting 5 states...\n"
     ]
    },
    {
     "name": "stderr",
     "output_type": "stream",
     "text": [
      "Converged to LP: -479.0:   1%|          | 23/2000 [00:00<00:32, 61.76it/s]\n",
      "Converged to LP: -460.3:   4%|▍         | 80/2000 [00:01<00:28, 68.31it/s]\n",
      "Converged to LP: -469.8:   8%|▊         | 162/2000 [00:01<00:22, 81.42it/s]\n",
      "Converged to LP: -460.0:   9%|▉         | 180/2000 [00:02<00:23, 78.70it/s] \n",
      "Converged to LP: -472.4:  15%|█▍        | 297/2000 [00:03<00:17, 96.13it/s] \n",
      "Converged to LP: -398.3:   0%|          | 9/2000 [00:00<00:21, 91.64it/s]\n",
      "Converged to LP: -387.9:   0%|          | 10/2000 [00:00<00:18, 109.88it/s]\n",
      "Converged to LP: -399.1:   1%|          | 16/2000 [00:00<00:17, 114.75it/s]\n"
     ]
    },
    {
     "name": "stdout",
     "output_type": "stream",
     "text": [
      "Fitting session 11...\n",
      "Fitting 2 states...\n"
     ]
    },
    {
     "name": "stderr",
     "output_type": "stream",
     "text": [
      "Converged to LP: -395.2:   1%|          | 23/2000 [00:00<00:16, 116.46it/s]\n",
      "Converged to LP: -393.9:   1%|          | 21/2000 [00:00<00:18, 109.83it/s]\n",
      "LP: -427.2:   0%|          | 0/2000 [00:00<?, ?it/s].88it/s]"
     ]
    },
    {
     "name": "stdout",
     "output_type": "stream",
     "text": [
      "Fitting 3 states...\n"
     ]
    },
    {
     "name": "stderr",
     "output_type": "stream",
     "text": [
      "Converged to LP: -427.2:   1%|          | 11/2000 [00:00<00:22, 87.48it/s]\n",
      "Converged to LP: -417.1:   1%|          | 15/2000 [00:00<00:23, 83.24it/s]\n",
      "Converged to LP: -426.2:   1%|          | 20/2000 [00:00<00:22, 88.74it/s]\n",
      "Converged to LP: -416.8:   1%|▏         | 29/2000 [00:00<00:22, 87.66it/s]\n",
      "Converged to LP: -421.7:   2%|▏         | 43/2000 [00:00<00:21, 92.80it/s]\n",
      "LP: -476.2:   0%|          | 0/2000 [00:00<?, ?it/s]"
     ]
    },
    {
     "name": "stdout",
     "output_type": "stream",
     "text": [
      "Fitting 4 states...\n"
     ]
    },
    {
     "name": "stderr",
     "output_type": "stream",
     "text": [
      "Converged to LP: -444.5:   1%|          | 19/2000 [00:00<00:30, 64.50it/s]\n",
      "Converged to LP: -450.4:   2%|▏         | 31/2000 [00:00<00:26, 74.26it/s]\n",
      "Converged to LP: -453.3:   2%|▏         | 41/2000 [00:00<00:26, 73.01it/s]\n",
      "Converged to LP: -444.8:   2%|▏         | 47/2000 [00:00<00:24, 79.58it/s]\n",
      "Converged to LP: -456.2:   4%|▍         | 80/2000 [00:00<00:19, 98.53it/s] \n"
     ]
    },
    {
     "name": "stdout",
     "output_type": "stream",
     "text": [
      "Fitting 5 states...\n"
     ]
    },
    {
     "name": "stderr",
     "output_type": "stream",
     "text": [
      "Converged to LP: -487.3:   1%|          | 21/2000 [00:00<00:30, 64.52it/s]\n",
      "Converged to LP: -488.2:   1%|▏         | 27/2000 [00:00<00:28, 68.99it/s]\n",
      "Converged to LP: -479.6:   2%|▏         | 47/2000 [00:00<00:28, 68.97it/s]\n",
      "Converged to LP: -473.3:   3%|▎         | 64/2000 [00:00<00:26, 73.64it/s]\n",
      "Converged to LP: -474.4:   4%|▎         | 72/2000 [00:00<00:25, 75.68it/s]\n",
      "LP: -412.0:   0%|          | 0/2000 [00:00<?, ?it/s]"
     ]
    },
    {
     "name": "stdout",
     "output_type": "stream",
     "text": [
      "Fitting session 12...\n",
      "Fitting 2 states...\n",
      "Fitting 3 states...\n"
     ]
    },
    {
     "name": "stderr",
     "output_type": "stream",
     "text": [
      "Converged to LP: -371.7:   0%|          | 5/2000 [00:00<00:20, 95.34it/s]\n",
      "Converged to LP: -401.7:   0%|          | 7/2000 [00:00<00:24, 79.80it/s]\n",
      "Converged to LP: -395.6:   0%|          | 8/2000 [00:00<00:26, 75.22it/s]\n",
      "Converged to LP: -383.3:   0%|          | 7/2000 [00:00<00:20, 98.90it/s]\n",
      "Converged to LP: -396.9:   1%|          | 15/2000 [00:00<00:20, 95.60it/s]\n",
      "Converged to LP: -423.8:   1%|          | 12/2000 [00:00<00:22, 87.27it/s]\n",
      "LP: -415.1:   0%|          | 10/2000 [00:00<00:21, 93.06it/s]1, 93.73it/s]\n",
      "Converged to LP: -415.1:   1%|          | 13/2000 [00:00<00:20, 96.29it/s]\n",
      "Converged to LP: -424.7:   1%|          | 24/2000 [00:00<00:22, 86.04it/s]\n",
      "Converged to LP: -395.1:   2%|▏         | 36/2000 [00:00<00:19, 103.07it/s]\n",
      "LP: -457.9:   0%|          | 0/2000 [00:00<?, ?it/s]"
     ]
    },
    {
     "name": "stdout",
     "output_type": "stream",
     "text": [
      "Fitting 4 states...\n"
     ]
    },
    {
     "name": "stderr",
     "output_type": "stream",
     "text": [
      "Converged to LP: -456.2:   1%|          | 19/2000 [00:00<00:24, 79.75it/s]\n",
      "Converged to LP: -446.2:   1%|▏         | 26/2000 [00:00<00:24, 80.28it/s]\n",
      "Converged to LP: -440.8:   2%|▏         | 34/2000 [00:00<00:23, 84.34it/s]\n",
      "Converged to LP: -454.5:   2%|▏         | 33/2000 [00:00<00:26, 74.44it/s]\n",
      "Converged to LP: -421.9:  15%|█▌        | 303/2000 [00:02<00:15, 108.62it/s]\n",
      "LP: -485.1:   0%|          | 0/2000 [00:00<?, ?it/s]"
     ]
    },
    {
     "name": "stdout",
     "output_type": "stream",
     "text": [
      "Fitting 5 states...\n"
     ]
    },
    {
     "name": "stderr",
     "output_type": "stream",
     "text": [
      "Converged to LP: -491.4:   1%|▏         | 27/2000 [00:00<00:28, 69.75it/s]\n",
      "Converged to LP: -480.3:   2%|▏         | 34/2000 [00:00<00:29, 66.42it/s]\n",
      "Converged to LP: -463.1:   4%|▎         | 71/2000 [00:00<00:26, 71.91it/s]\n",
      "Converged to LP: -473.0:   5%|▍         | 97/2000 [00:01<00:26, 72.81it/s]\n",
      "Converged to LP: -442.7:  14%|█▍        | 283/2000 [00:03<00:21, 79.02it/s]\n"
     ]
    },
    {
     "name": "stdout",
     "output_type": "stream",
     "text": [
      "Fitting session 13...\n",
      "Fitting 2 states...\n"
     ]
    },
    {
     "name": "stderr",
     "output_type": "stream",
     "text": [
      "Converged to LP: -396.9:   1%|          | 17/2000 [00:00<00:19, 100.41it/s]\n",
      "Converged to LP: -395.9:   1%|          | 17/2000 [00:00<00:18, 108.45it/s]\n",
      "Converged to LP: -395.2:   1%|          | 23/2000 [00:00<00:17, 113.38it/s]\n",
      "Converged to LP: -385.0:   2%|▏         | 34/2000 [00:00<00:16, 118.57it/s]\n",
      "Converged to LP: -384.6:   2%|▏         | 46/2000 [00:00<00:14, 132.80it/s]\n",
      "LP: -442.5:   0%|          | 0/2000 [00:00<?, ?it/s]"
     ]
    },
    {
     "name": "stdout",
     "output_type": "stream",
     "text": [
      "Fitting 3 states...\n"
     ]
    },
    {
     "name": "stderr",
     "output_type": "stream",
     "text": [
      "Converged to LP: -410.2:   1%|          | 13/2000 [00:00<00:25, 79.12it/s]\n",
      "Converged to LP: -426.7:   1%|          | 16/2000 [00:00<00:24, 80.07it/s]\n",
      "Converged to LP: -425.9:   1%|          | 15/2000 [00:00<00:22, 88.92it/s]\n",
      "Converged to LP: -414.4:   2%|▏         | 34/2000 [00:00<00:18, 104.06it/s]\n",
      "Converged to LP: -419.6:   3%|▎         | 60/2000 [00:00<00:17, 111.36it/s]\n",
      "LP: -459.6:   0%|          | 0/2000 [00:00<?, ?it/s]"
     ]
    },
    {
     "name": "stdout",
     "output_type": "stream",
     "text": [
      "Fitting 4 states...\n"
     ]
    },
    {
     "name": "stderr",
     "output_type": "stream",
     "text": [
      "Converged to LP: -455.0:   2%|▏         | 33/2000 [00:00<00:23, 82.14it/s]\n",
      "Converged to LP: -456.5:   2%|▏         | 30/2000 [00:00<00:26, 74.84it/s]\n",
      "Converged to LP: -440.2:   2%|▏         | 42/2000 [00:00<00:22, 85.55it/s]\n",
      "Converged to LP: -450.9:   3%|▎         | 64/2000 [00:00<00:21, 90.43it/s] \n",
      "Converged to LP: -439.5:   7%|▋         | 134/2000 [00:01<00:19, 95.46it/s] \n",
      "LP: -494.5:   0%|          | 0/2000 [00:00<?, ?it/s]"
     ]
    },
    {
     "name": "stdout",
     "output_type": "stream",
     "text": [
      "Fitting 5 states...\n"
     ]
    },
    {
     "name": "stderr",
     "output_type": "stream",
     "text": [
      "Converged to LP: -471.6:   1%|▏         | 25/2000 [00:00<00:26, 75.00it/s]\n",
      "Converged to LP: -483.4:   1%|▏         | 28/2000 [00:00<00:30, 65.51it/s]\n",
      "Converged to LP: -484.8:   1%|▏         | 29/2000 [00:00<00:27, 71.49it/s]\n",
      "Converged to LP: -476.9:   2%|▏         | 40/2000 [00:00<00:25, 76.41it/s]\n",
      "Converged to LP: -481.4:   3%|▎         | 65/2000 [00:00<00:22, 86.02it/s]\n",
      "LP: -383.3:   0%|          | 0/2000 [00:00<?, ?it/s]"
     ]
    },
    {
     "name": "stdout",
     "output_type": "stream",
     "text": [
      "Fitting session 14...\n",
      "Fitting 2 states...\n"
     ]
    },
    {
     "name": "stderr",
     "output_type": "stream",
     "text": [
      "Converged to LP: -364.9:   1%|          | 13/2000 [00:00<00:19, 104.06it/s]\n",
      "Converged to LP: -382.1:   1%|          | 12/2000 [00:00<00:18, 109.16it/s]\n",
      "Converged to LP: -388.3:   1%|          | 16/2000 [00:00<00:21, 92.65it/s]\n",
      "Converged to LP: -393.6:   1%|          | 18/2000 [00:00<00:18, 105.93it/s]\n",
      "Converged to LP: -392.9:   1%|          | 17/2000 [00:00<00:20, 97.69it/s]\n",
      "LP: -414.2:   0%|          | 0/2000 [00:00<?, ?it/s]"
     ]
    },
    {
     "name": "stdout",
     "output_type": "stream",
     "text": [
      "Fitting 3 states...\n"
     ]
    },
    {
     "name": "stderr",
     "output_type": "stream",
     "text": [
      "Converged to LP: -420.1:   0%|          | 10/2000 [00:00<00:22, 87.91it/s]\n",
      "Converged to LP: -410.2:   1%|          | 13/2000 [00:00<00:21, 93.09it/s]\n",
      "Converged to LP: -420.7:   1%|          | 16/2000 [00:00<00:20, 96.51it/s]\n",
      "Converged to LP: -415.1:   1%|▏         | 29/2000 [00:00<00:19, 102.05it/s]\n",
      "Converged to LP: -390.2:   2%|▏         | 35/2000 [00:00<00:17, 111.16it/s]\n",
      "LP: -446.9:   0%|          | 8/2000 [00:00<00:25, 77.72it/s]"
     ]
    },
    {
     "name": "stdout",
     "output_type": "stream",
     "text": [
      "Fitting 4 states...\n"
     ]
    },
    {
     "name": "stderr",
     "output_type": "stream",
     "text": [
      "Converged to LP: -446.9:   0%|          | 9/2000 [00:00<00:28, 70.41it/s]\n",
      "Converged to LP: -420.6:   1%|          | 11/2000 [00:00<00:30, 65.35it/s]\n",
      "Converged to LP: -447.8:   1%|          | 13/2000 [00:00<00:28, 69.46it/s]\n",
      "Converged to LP: -438.5:   1%|          | 15/2000 [00:00<00:28, 68.67it/s]\n",
      "Converged to LP: -449.7:   1%|          | 18/2000 [00:00<00:28, 69.48it/s]\n",
      "LP: -468.9:   0%|          | 0/2000 [00:00<?, ?it/s]"
     ]
    },
    {
     "name": "stdout",
     "output_type": "stream",
     "text": [
      "Fitting 5 states...\n"
     ]
    },
    {
     "name": "stderr",
     "output_type": "stream",
     "text": [
      "Converged to LP: -449.6:   2%|▏         | 34/2000 [00:00<00:28, 68.68it/s]\n",
      "Converged to LP: -476.0:   2%|▏         | 34/2000 [00:00<00:28, 69.41it/s]\n",
      "Converged to LP: -478.0:   2%|▏         | 31/2000 [00:00<00:32, 59.90it/s]\n",
      "Converged to LP: -477.4:   2%|▏         | 40/2000 [00:00<00:27, 71.12it/s]\n",
      "Converged to LP: -467.8:   5%|▌         | 109/2000 [00:01<00:21, 87.37it/s]\n",
      "Converged to LP: -400.4:   1%|          | 13/2000 [00:00<00:15, 124.91it/s]\n",
      "Converged to LP: -394.1:   1%|          | 12/2000 [00:00<00:15, 126.99it/s]\n",
      "Converged to LP: -394.8:   1%|          | 15/2000 [00:00<00:15, 129.15it/s]\n",
      "LP: -387.2:   1%|          | 11/2000 [00:00<00:19, 102.48it/s]"
     ]
    },
    {
     "name": "stdout",
     "output_type": "stream",
     "text": [
      "Fitting session 15...\n",
      "Fitting 2 states...\n"
     ]
    },
    {
     "name": "stderr",
     "output_type": "stream",
     "text": [
      "Converged to LP: -387.2:   1%|          | 17/2000 [00:00<00:18, 107.06it/s]\n",
      "Converged to LP: -380.8:   1%|          | 24/2000 [00:00<00:17, 111.12it/s]\n",
      "LP: -405.4:   0%|          | 8/2000 [00:00<00:27, 72.60it/s]"
     ]
    },
    {
     "name": "stdout",
     "output_type": "stream",
     "text": [
      "Fitting 3 states...\n"
     ]
    },
    {
     "name": "stderr",
     "output_type": "stream",
     "text": [
      "Converged to LP: -416.6:   1%|          | 11/2000 [00:00<00:24, 79.85it/s]\n",
      "Converged to LP: -414.1:   1%|          | 14/2000 [00:00<00:23, 86.13it/s]\n",
      "Converged to LP: -421.1:   1%|          | 17/2000 [00:00<00:24, 82.25it/s]\n",
      "Converged to LP: -403.5:   1%|          | 17/2000 [00:00<00:26, 75.62it/s]\n",
      "Converged to LP: -416.1:   2%|▏         | 49/2000 [00:00<00:18, 105.60it/s]\n",
      "LP: -437.6:   0%|          | 0/2000 [00:00<?, ?it/s]"
     ]
    },
    {
     "name": "stdout",
     "output_type": "stream",
     "text": [
      "Fitting 4 states...\n"
     ]
    },
    {
     "name": "stderr",
     "output_type": "stream",
     "text": [
      "Converged to LP: -453.4:   1%|          | 13/2000 [00:00<00:25, 78.92it/s]\n",
      "Converged to LP: -445.3:   1%|          | 13/2000 [00:00<00:23, 83.66it/s]\n",
      "Converged to LP: -442.7:   1%|          | 15/2000 [00:00<00:24, 80.13it/s]\n",
      "Converged to LP: -443.6:   1%|          | 23/2000 [00:00<00:22, 89.15it/s]\n",
      "Converged to LP: -430.8:   1%|▏         | 27/2000 [00:00<00:24, 80.45it/s]\n",
      "LP: -477.0:   0%|          | 0/2000 [00:00<?, ?it/s]"
     ]
    },
    {
     "name": "stdout",
     "output_type": "stream",
     "text": [
      "Fitting 5 states...\n"
     ]
    },
    {
     "name": "stderr",
     "output_type": "stream",
     "text": [
      "Converged to LP: -482.0:   2%|▏         | 36/2000 [00:00<00:28, 68.31it/s]\n",
      "Converged to LP: -474.8:   2%|▏         | 32/2000 [00:00<00:31, 63.43it/s]\n",
      "Converged to LP: -469.1:   5%|▌         | 106/2000 [00:01<00:25, 73.42it/s]\n",
      "Converged to LP: -465.7:   8%|▊         | 151/2000 [00:02<00:24, 74.37it/s]\n",
      "Converged to LP: -455.4:  12%|█▏        | 242/2000 [00:02<00:19, 88.52it/s] \n",
      "LP: -413.8:   0%|          | 0/2000 [00:00<?, ?it/s]0:00<00:17, 113.61it/s]\n",
      "Converged to LP: -407.6:   1%|          | 21/2000 [00:00<00:15, 127.62it/s]\n",
      "LP: -386.8:   1%|          | 11/2000 [00:00<00:18, 108.13it/s]"
     ]
    },
    {
     "name": "stdout",
     "output_type": "stream",
     "text": [
      "Fitting session 16...\n",
      "Fitting 2 states...\n"
     ]
    },
    {
     "name": "stderr",
     "output_type": "stream",
     "text": [
      "Converged to LP: -382.7:   2%|▏         | 41/2000 [00:00<00:15, 124.37it/s]\n",
      "Converged to LP: -412.8:   3%|▎         | 62/2000 [00:00<00:13, 148.71it/s]\n",
      "Converged to LP: -414.6:   4%|▍         | 81/2000 [00:00<00:14, 136.37it/s]\n",
      "LP: -414.0:   0%|          | 10/2000 [00:00<00:20, 95.21it/s]]"
     ]
    },
    {
     "name": "stdout",
     "output_type": "stream",
     "text": [
      "Fitting 3 states...\n"
     ]
    },
    {
     "name": "stderr",
     "output_type": "stream",
     "text": [
      "Converged to LP: -442.9:   2%|▏         | 41/2000 [00:00<00:19, 100.53it/s]\n",
      "Converged to LP: -413.6:   3%|▎         | 55/2000 [00:00<00:17, 112.96it/s]\n",
      "Converged to LP: -441.2:   3%|▎         | 60/2000 [00:00<00:16, 118.92it/s]\n",
      "Converged to LP: -435.5:   3%|▎         | 59/2000 [00:00<00:19, 99.43it/s] \n",
      "Converged to LP: -435.2:   4%|▎         | 71/2000 [00:00<00:17, 109.40it/s]\n",
      "LP: -476.1:   0%|          | 0/2000 [00:00<?, ?it/s]"
     ]
    },
    {
     "name": "stdout",
     "output_type": "stream",
     "text": [
      "Fitting 4 states...\n"
     ]
    },
    {
     "name": "stderr",
     "output_type": "stream",
     "text": [
      "Converged to LP: -441.1:   1%|          | 24/2000 [00:00<00:28, 69.96it/s]\n",
      "Converged to LP: -474.2:   2%|▏         | 36/2000 [00:00<00:23, 82.99it/s]\n",
      "Converged to LP: -471.9:   3%|▎         | 58/2000 [00:00<00:20, 96.70it/s] \n",
      "Converged to LP: -466.9:   3%|▎         | 64/2000 [00:00<00:21, 88.93it/s]\n",
      "Converged to LP: -466.5:   4%|▍         | 82/2000 [00:00<00:20, 93.96it/s] \n",
      "LP: -473.1:   0%|          | 7/2000 [00:00<00:32, 60.74it/s]"
     ]
    },
    {
     "name": "stdout",
     "output_type": "stream",
     "text": [
      "Fitting 5 states...\n"
     ]
    },
    {
     "name": "stderr",
     "output_type": "stream",
     "text": [
      "Converged to LP: -499.8:   3%|▎         | 59/2000 [00:00<00:24, 79.74it/s]\n",
      "Converged to LP: -471.3:   4%|▎         | 72/2000 [00:00<00:24, 77.41it/s]\n",
      "Converged to LP: -493.0:   6%|▌         | 117/2000 [00:01<00:24, 77.23it/s]\n",
      "Converged to LP: -490.6:   8%|▊         | 150/2000 [00:01<00:24, 75.46it/s]\n",
      "Converged to LP: -499.0:  15%|█▍        | 294/2000 [00:03<00:19, 86.02it/s] \n"
     ]
    },
    {
     "name": "stdout",
     "output_type": "stream",
     "text": [
      "Fitting session 17...\n",
      "Fitting 2 states...\n"
     ]
    },
    {
     "name": "stderr",
     "output_type": "stream",
     "text": [
      "Converged to LP: -330.2:   0%|          | 9/2000 [00:00<00:16, 123.83it/s]\n",
      "Converged to LP: -355.3:   1%|          | 12/2000 [00:00<00:15, 129.12it/s]\n",
      "Converged to LP: -343.4:   1%|          | 17/2000 [00:00<00:16, 122.93it/s]\n",
      "Converged to LP: -358.8:   1%|▏         | 25/2000 [00:00<00:15, 126.63it/s]\n",
      "Converged to LP: -339.4:   1%|▏         | 26/2000 [00:00<00:16, 119.98it/s]\n",
      "LP: -368.6:   0%|          | 9/2000 [00:00<00:23, 84.95it/s]]]"
     ]
    },
    {
     "name": "stdout",
     "output_type": "stream",
     "text": [
      "Fitting 3 states...\n"
     ]
    },
    {
     "name": "stderr",
     "output_type": "stream",
     "text": [
      "Converged to LP: -386.8:   1%|▏         | 25/2000 [00:00<00:17, 114.83it/s]\n",
      "Converged to LP: -351.9:   1%|▏         | 28/2000 [00:00<00:18, 103.88it/s]\n",
      "Converged to LP: -370.1:   2%|▏         | 36/2000 [00:00<00:20, 97.17it/s] \n",
      "Converged to LP: -384.3:   2%|▏         | 35/2000 [00:00<00:20, 93.81it/s]\n",
      "Converged to LP: -366.4:   8%|▊         | 166/2000 [00:01<00:14, 126.55it/s]\n",
      "LP: -401.4:   0%|          | 0/2000 [00:00<?, ?it/s]"
     ]
    },
    {
     "name": "stdout",
     "output_type": "stream",
     "text": [
      "Fitting 4 states...\n"
     ]
    },
    {
     "name": "stderr",
     "output_type": "stream",
     "text": [
      "Converged to LP: -401.4:   1%|          | 17/2000 [00:00<00:25, 78.26it/s]\n",
      "Converged to LP: -383.2:   1%|          | 16/2000 [00:00<00:28, 68.42it/s]\n",
      "Converged to LP: -418.1:   1%|▏         | 28/2000 [00:00<00:21, 91.01it/s]\n",
      "Converged to LP: -414.0:   4%|▎         | 71/2000 [00:00<00:18, 107.02it/s]\n",
      "Converged to LP: -397.7:   9%|▊         | 171/2000 [00:01<00:16, 107.70it/s]\n",
      "LP: -460.5:   0%|          | 0/2000 [00:00<?, ?it/s]"
     ]
    },
    {
     "name": "stdout",
     "output_type": "stream",
     "text": [
      "Fitting 5 states...\n"
     ]
    },
    {
     "name": "stderr",
     "output_type": "stream",
     "text": [
      "Converged to LP: -412.1:   2%|▏         | 47/2000 [00:00<00:29, 66.79it/s]\n",
      "Converged to LP: -428.7:   3%|▎         | 64/2000 [00:00<00:25, 76.70it/s]\n",
      "Converged to LP: -435.0:   3%|▎         | 52/2000 [00:00<00:31, 60.91it/s]\n",
      "Converged to LP: -442.9:   5%|▌         | 102/2000 [00:01<00:24, 77.11it/s]\n",
      "Converged to LP: -426.7:   5%|▌         | 109/2000 [00:01<00:25, 74.68it/s]\n",
      "LP: -447.5:   0%|          | 0/2000 [00:00<?, ?it/s]"
     ]
    },
    {
     "name": "stdout",
     "output_type": "stream",
     "text": [
      "Fitting session 18...\n",
      "Fitting 2 states...\n"
     ]
    },
    {
     "name": "stderr",
     "output_type": "stream",
     "text": [
      "Converged to LP: -442.2:   0%|          | 9/2000 [00:00<00:18, 107.32it/s]\n",
      "Converged to LP: -435.9:   1%|          | 19/2000 [00:00<00:15, 131.51it/s]\n",
      "Converged to LP: -447.3:   1%|          | 18/2000 [00:00<00:18, 108.86it/s]\n",
      "Converged to LP: -432.9:   1%|          | 24/2000 [00:00<00:16, 121.51it/s]\n",
      "Converged to LP: -444.9:   2%|▏         | 40/2000 [00:00<00:14, 130.87it/s]\n",
      "LP: -471.6:   0%|          | 0/2000 [00:00<?, ?it/s]"
     ]
    },
    {
     "name": "stdout",
     "output_type": "stream",
     "text": [
      "Fitting 3 states...\n"
     ]
    },
    {
     "name": "stderr",
     "output_type": "stream",
     "text": [
      "Converged to LP: -473.5:   1%|          | 11/2000 [00:00<00:24, 81.79it/s]\n",
      "Converged to LP: -468.4:   1%|          | 15/2000 [00:00<00:25, 76.66it/s]\n",
      "Converged to LP: -463.4:   1%|          | 17/2000 [00:00<00:21, 90.83it/s]\n",
      "Converged to LP: -463.4:   2%|▏         | 40/2000 [00:00<00:21, 91.83it/s]\n",
      "Converged to LP: -453.7:   6%|▋         | 127/2000 [00:01<00:17, 107.82it/s]\n",
      "LP: -489.6:   0%|          | 0/2000 [00:00<?, ?it/s]"
     ]
    },
    {
     "name": "stdout",
     "output_type": "stream",
     "text": [
      "Fitting 4 states...\n"
     ]
    },
    {
     "name": "stderr",
     "output_type": "stream",
     "text": [
      "Converged to LP: -489.3:   1%|          | 12/2000 [00:00<00:28, 68.73it/s]\n",
      "Converged to LP: -493.3:   1%|          | 12/2000 [00:00<00:29, 67.91it/s]\n",
      "Converged to LP: -496.1:   1%|          | 16/2000 [00:00<00:26, 73.74it/s]\n",
      "Converged to LP: -492.5:   3%|▎         | 67/2000 [00:00<00:22, 85.92it/s]\n",
      "Converged to LP: -480.7:   7%|▋         | 147/2000 [00:01<00:19, 93.81it/s] \n",
      "LP: -517.8:   0%|          | 5/2000 [00:00<00:43, 45.64it/s]"
     ]
    },
    {
     "name": "stdout",
     "output_type": "stream",
     "text": [
      "Fitting 5 states...\n"
     ]
    },
    {
     "name": "stderr",
     "output_type": "stream",
     "text": [
      "Converged to LP: -517.8:   1%|          | 16/2000 [00:00<00:34, 58.20it/s]\n",
      "Converged to LP: -527.9:   1%|          | 15/2000 [00:00<00:36, 54.87it/s]\n",
      "Converged to LP: -521.1:   1%|          | 17/2000 [00:00<00:34, 57.71it/s]\n",
      "Converged to LP: -521.7:   3%|▎         | 54/2000 [00:00<00:24, 79.07it/s]\n",
      "Converged to LP: -509.9:   7%|▋         | 144/2000 [00:01<00:22, 82.03it/s]\n",
      "LP: -405.1:   0%|          | 0/2000 [00:00<?, ?it/s]"
     ]
    },
    {
     "name": "stdout",
     "output_type": "stream",
     "text": [
      "Fitting session 19...\n",
      "Fitting 2 states...\n",
      "Fitting 3 states...\n"
     ]
    },
    {
     "name": "stderr",
     "output_type": "stream",
     "text": [
      "Converged to LP: -389.9:   0%|          | 9/2000 [00:00<00:17, 114.60it/s]\n",
      "Converged to LP: -407.0:   0%|          | 7/2000 [00:00<00:16, 119.72it/s]\n",
      "Converged to LP: -402.2:   0%|          | 6/2000 [00:00<00:19, 102.49it/s]\n",
      "Converged to LP: -391.3:   0%|          | 10/2000 [00:00<00:16, 120.90it/s]\n",
      "Converged to LP: -394.4:   0%|          | 8/2000 [00:00<00:15, 127.15it/s]\n",
      "Converged to LP: -420.1:   1%|          | 12/2000 [00:00<00:27, 72.33it/s]\n",
      "Converged to LP: -420.1:   1%|          | 13/2000 [00:00<00:26, 75.81it/s]\n",
      "Converged to LP: -435.9:   1%|          | 16/2000 [00:00<00:24, 81.20it/s]\n",
      "Converged to LP: -414.8:   1%|          | 22/2000 [00:00<00:22, 87.90it/s]\n",
      "Converged to LP: -427.7:   1%|          | 23/2000 [00:00<00:22, 87.17it/s]\n",
      "LP: -449.4:   0%|          | 7/2000 [00:00<00:30, 65.35it/s]"
     ]
    },
    {
     "name": "stdout",
     "output_type": "stream",
     "text": [
      "Fitting 4 states...\n"
     ]
    },
    {
     "name": "stderr",
     "output_type": "stream",
     "text": [
      "Converged to LP: -463.5:   1%|          | 12/2000 [00:00<00:30, 65.86it/s]\n",
      "Converged to LP: -444.5:   1%|▏         | 29/2000 [00:00<00:24, 80.26it/s]\n",
      "Converged to LP: -448.5:   2%|▏         | 43/2000 [00:00<00:22, 87.95it/s]\n",
      "Converged to LP: -455.7:   4%|▍         | 85/2000 [00:00<00:22, 85.38it/s]\n",
      "Converged to LP: -447.1:   7%|▋         | 139/2000 [00:01<00:19, 94.85it/s] \n",
      "LP: -477.2:   0%|          | 6/2000 [00:00<00:36, 54.75it/s]"
     ]
    },
    {
     "name": "stdout",
     "output_type": "stream",
     "text": [
      "Fitting 5 states...\n"
     ]
    },
    {
     "name": "stderr",
     "output_type": "stream",
     "text": [
      "Converged to LP: -473.5:   2%|▏         | 33/2000 [00:00<00:27, 71.71it/s]\n",
      "Converged to LP: -470.6:   2%|▏         | 45/2000 [00:00<00:28, 68.74it/s]\n",
      "Converged to LP: -485.5:   2%|▏         | 45/2000 [00:00<00:27, 69.84it/s]\n",
      "Converged to LP: -487.1:   5%|▌         | 106/2000 [00:01<00:22, 84.12it/s]\n",
      "Converged to LP: -473.7:   6%|▌         | 116/2000 [00:01<00:24, 78.31it/s]\n",
      "LP: -485.4:   0%|          | 0/2000 [00:00<?, ?it/s]"
     ]
    },
    {
     "name": "stdout",
     "output_type": "stream",
     "text": [
      "Fitting session 20...\n",
      "Fitting 2 states...\n"
     ]
    },
    {
     "name": "stderr",
     "output_type": "stream",
     "text": [
      "Converged to LP: -491.9:   1%|          | 14/2000 [00:00<00:17, 114.42it/s]\n",
      "Converged to LP: -498.5:   1%|          | 16/2000 [00:00<00:17, 111.37it/s]\n",
      "Converged to LP: -488.7:   1%|          | 18/2000 [00:00<00:19, 101.66it/s]\n",
      "Converged to LP: -491.6:   2%|▏         | 34/2000 [00:00<00:17, 109.72it/s]\n",
      "Converged to LP: -481.6:   4%|▍         | 76/2000 [00:00<00:15, 121.94it/s]\n"
     ]
    },
    {
     "name": "stdout",
     "output_type": "stream",
     "text": [
      "Fitting 3 states...\n"
     ]
    },
    {
     "name": "stderr",
     "output_type": "stream",
     "text": [
      "Converged to LP: -516.2:   1%|          | 12/2000 [00:00<00:23, 83.76it/s]\n",
      "Converged to LP: -505.6:   2%|▏         | 49/2000 [00:00<00:21, 90.10it/s]\n",
      "Converged to LP: -520.4:   2%|▎         | 50/2000 [00:00<00:22, 85.27it/s]\n",
      "Converged to LP: -514.3:   3%|▎         | 54/2000 [00:00<00:20, 95.28it/s]\n",
      "Converged to LP: -525.9:   3%|▎         | 57/2000 [00:00<00:22, 87.87it/s]\n",
      "LP: -551.9:   0%|          | 0/2000 [00:00<?, ?it/s]"
     ]
    },
    {
     "name": "stdout",
     "output_type": "stream",
     "text": [
      "Fitting 4 states...\n"
     ]
    },
    {
     "name": "stderr",
     "output_type": "stream",
     "text": [
      "Converged to LP: -547.5:   1%|          | 19/2000 [00:00<00:27, 72.04it/s]\n",
      "Converged to LP: -551.7:   1%|▏         | 27/2000 [00:00<00:25, 76.70it/s]\n",
      "Converged to LP: -543.8:   1%|▏         | 25/2000 [00:00<00:27, 72.14it/s]\n",
      "Converged to LP: -557.3:   1%|▏         | 27/2000 [00:00<00:27, 72.12it/s]\n",
      "Converged to LP: -533.1:  13%|█▎        | 256/2000 [00:02<00:18, 94.61it/s] \n",
      "LP: -591.3:   0%|          | 0/2000 [00:00<?, ?it/s]"
     ]
    },
    {
     "name": "stdout",
     "output_type": "stream",
     "text": [
      "Fitting 5 states...\n"
     ]
    },
    {
     "name": "stderr",
     "output_type": "stream",
     "text": [
      "Converged to LP: -584.5:   2%|▏         | 44/2000 [00:00<00:33, 58.73it/s]\n",
      "Converged to LP: -582.3:   3%|▎         | 69/2000 [00:01<00:29, 66.44it/s]\n",
      "Converged to LP: -569.2:   5%|▍         | 91/2000 [00:01<00:29, 65.20it/s]\n",
      "Converged to LP: -573.1:   4%|▍         | 86/2000 [00:01<00:30, 61.77it/s]\n",
      "Converged to LP: -561.0:   8%|▊         | 161/2000 [00:02<00:26, 69.63it/s]\n",
      "Converged to LP: -457.1:   1%|          | 16/2000 [00:00<00:12, 161.48it/s]\n",
      "Converged to LP: -448.2:   1%|▏         | 26/2000 [00:00<00:12, 159.96it/s]\n",
      "LP: -457.2:   1%|          | 13/2000 [00:00<00:15, 125.78it/s]"
     ]
    },
    {
     "name": "stdout",
     "output_type": "stream",
     "text": [
      "Fitting session 21...\n",
      "Fitting 2 states...\n"
     ]
    },
    {
     "name": "stderr",
     "output_type": "stream",
     "text": [
      "Converged to LP: -457.2:   1%|▏         | 25/2000 [00:00<00:14, 137.31it/s]\n",
      "Converged to LP: -455.6:   6%|▌         | 116/2000 [00:00<00:13, 141.96it/s]\n",
      "Converged to LP: -433.4:  15%|█▌        | 300/2000 [00:01<00:10, 159.71it/s]\n",
      "LP: -486.1:   0%|          | 0/2000 [00:00<?, ?it/s]"
     ]
    },
    {
     "name": "stdout",
     "output_type": "stream",
     "text": [
      "Fitting 3 states...\n"
     ]
    },
    {
     "name": "stderr",
     "output_type": "stream",
     "text": [
      "Converged to LP: -481.6:   1%|          | 15/2000 [00:00<00:20, 97.16it/s]\n",
      "Converged to LP: -485.7:   1%|          | 22/2000 [00:00<00:20, 98.59it/s] \n",
      "Converged to LP: -478.3:   1%|▏         | 28/2000 [00:00<00:18, 107.82it/s]\n",
      "Converged to LP: -466.3:   2%|▏         | 36/2000 [00:00<00:20, 97.80it/s]\n",
      "Converged to LP: -484.8:   2%|▏         | 33/2000 [00:00<00:21, 91.88it/s]\n",
      "LP: -517.6:   0%|          | 7/2000 [00:00<00:28, 69.24it/s]"
     ]
    },
    {
     "name": "stdout",
     "output_type": "stream",
     "text": [
      "Fitting 4 states...\n"
     ]
    },
    {
     "name": "stderr",
     "output_type": "stream",
     "text": [
      "Converged to LP: -509.1:   1%|▏         | 29/2000 [00:00<00:24, 79.99it/s]\n",
      "Converged to LP: -515.8:   2%|▏         | 41/2000 [00:00<00:24, 81.54it/s]\n",
      "Converged to LP: -497.1:   3%|▎         | 52/2000 [00:00<00:22, 85.23it/s]\n",
      "Converged to LP: -508.8:   5%|▍         | 92/2000 [00:01<00:21, 90.65it/s] \n",
      "Converged to LP: -510.1:   6%|▌         | 119/2000 [00:01<00:21, 88.48it/s]\n",
      "LP: -526.6:   0%|          | 7/2000 [00:00<00:31, 62.50it/s]"
     ]
    },
    {
     "name": "stdout",
     "output_type": "stream",
     "text": [
      "Fitting 5 states...\n"
     ]
    },
    {
     "name": "stderr",
     "output_type": "stream",
     "text": [
      "Converged to LP: -531.2:   2%|▏         | 39/2000 [00:00<00:28, 68.35it/s]\n",
      "Converged to LP: -526.2:   4%|▍         | 86/2000 [00:01<00:24, 79.63it/s]\n",
      "Converged to LP: -541.9:   6%|▌         | 118/2000 [00:01<00:25, 73.28it/s]\n",
      "Converged to LP: -537.9:   9%|▉         | 177/2000 [00:02<00:23, 78.71it/s]\n",
      "Converged to LP: -533.2:  19%|█▉        | 381/2000 [00:04<00:18, 87.65it/s] \n",
      "LP: -454.2:   0%|          | 0/2000 [00:00<?, ?it/s]"
     ]
    },
    {
     "name": "stdout",
     "output_type": "stream",
     "text": [
      "Fitting session 22...\n",
      "Fitting 2 states...\n"
     ]
    },
    {
     "name": "stderr",
     "output_type": "stream",
     "text": [
      "Converged to LP: -458.5:   1%|          | 12/2000 [00:00<00:16, 118.53it/s]\n",
      "Converged to LP: -455.9:   1%|          | 12/2000 [00:00<00:17, 116.91it/s]\n",
      "Converged to LP: -460.5:   1%|          | 15/2000 [00:00<00:17, 113.28it/s]\n",
      "Converged to LP: -451.5:   1%|          | 14/2000 [00:00<00:20, 96.01it/s]\n",
      "Converged to LP: -469.3:   1%|▏         | 26/2000 [00:00<00:19, 99.33it/s]\n",
      "LP: -508.3:   0%|          | 0/2000 [00:00<?, ?it/s]"
     ]
    },
    {
     "name": "stdout",
     "output_type": "stream",
     "text": [
      "Fitting 3 states...\n"
     ]
    },
    {
     "name": "stderr",
     "output_type": "stream",
     "text": [
      "Converged to LP: -487.2:   0%|          | 10/2000 [00:00<00:26, 76.31it/s]\n",
      "Converged to LP: -489.8:   0%|          | 10/2000 [00:00<00:29, 66.52it/s]\n",
      "Converged to LP: -482.8:   1%|          | 11/2000 [00:00<00:27, 71.35it/s]\n",
      "Converged to LP: -491.8:   1%|          | 19/2000 [00:00<00:24, 82.46it/s]\n",
      "Converged to LP: -492.1:   2%|▏         | 32/2000 [00:00<00:25, 75.85it/s]\n"
     ]
    },
    {
     "name": "stdout",
     "output_type": "stream",
     "text": [
      "Fitting 4 states...\n"
     ]
    },
    {
     "name": "stderr",
     "output_type": "stream",
     "text": [
      "Converged to LP: -524.7:   1%|          | 13/2000 [00:00<00:30, 65.82it/s]\n",
      "Converged to LP: -513.1:   1%|          | 24/2000 [00:00<00:30, 65.81it/s]\n",
      "Converged to LP: -513.5:   2%|▏         | 34/2000 [00:00<00:25, 75.83it/s]\n",
      "Converged to LP: -516.1:   2%|▏         | 38/2000 [00:00<00:24, 79.44it/s]\n",
      "Converged to LP: -507.4:   2%|▏         | 38/2000 [00:00<00:25, 77.97it/s]\n",
      "LP: -546.4:   0%|          | 0/2000 [00:00<?, ?it/s]"
     ]
    },
    {
     "name": "stdout",
     "output_type": "stream",
     "text": [
      "Fitting 5 states...\n"
     ]
    },
    {
     "name": "stderr",
     "output_type": "stream",
     "text": [
      "Converged to LP: -542.5:   1%|          | 21/2000 [00:00<00:33, 59.37it/s]\n",
      "Converged to LP: -544.9:   2%|▏         | 33/2000 [00:00<00:27, 71.31it/s]\n",
      "Converged to LP: -550.3:   2%|▏         | 39/2000 [00:00<00:29, 66.87it/s]\n",
      "Converged to LP: -545.1:   2%|▏         | 40/2000 [00:00<00:29, 66.25it/s]\n",
      "Converged to LP: -528.0:   6%|▌         | 124/2000 [00:01<00:24, 77.38it/s]\n",
      "Converged to LP: -430.9:   0%|          | 7/2000 [00:00<00:15, 128.28it/s]\n",
      "Converged to LP: -448.0:   0%|          | 6/2000 [00:00<00:16, 118.31it/s]\n",
      "LP: -425.9:   0%|          | 0/2000 [00:00<?, ?it/s]"
     ]
    },
    {
     "name": "stdout",
     "output_type": "stream",
     "text": [
      "Fitting session 23...\n",
      "Fitting 2 states...\n"
     ]
    },
    {
     "name": "stderr",
     "output_type": "stream",
     "text": [
      "Converged to LP: -425.9:   0%|          | 9/2000 [00:00<00:18, 109.88it/s]\n",
      "Converged to LP: -428.2:   0%|          | 10/2000 [00:00<00:17, 113.49it/s]\n",
      "Converged to LP: -437.4:   1%|          | 22/2000 [00:00<00:16, 118.84it/s]\n",
      "LP: -463.5:   0%|          | 0/2000 [00:00<?, ?it/s]"
     ]
    },
    {
     "name": "stdout",
     "output_type": "stream",
     "text": [
      "Fitting 3 states...\n"
     ]
    },
    {
     "name": "stderr",
     "output_type": "stream",
     "text": [
      "Converged to LP: -453.6:   0%|          | 8/2000 [00:00<00:24, 82.98it/s]\n",
      "Converged to LP: -462.9:   0%|          | 10/2000 [00:00<00:23, 85.65it/s]\n",
      "Converged to LP: -471.3:   1%|          | 12/2000 [00:00<00:22, 87.50it/s]\n",
      "Converged to LP: -452.6:   1%|          | 13/2000 [00:00<00:22, 88.29it/s]\n",
      "Converged to LP: -459.0:   2%|▏         | 37/2000 [00:00<00:20, 94.39it/s]\n",
      "LP: -493.9:   0%|          | 0/2000 [00:00<?, ?it/s]"
     ]
    },
    {
     "name": "stdout",
     "output_type": "stream",
     "text": [
      "Fitting 4 states...\n"
     ]
    },
    {
     "name": "stderr",
     "output_type": "stream",
     "text": [
      "Converged to LP: -484.4:   1%|          | 13/2000 [00:00<00:28, 70.75it/s]\n",
      "Converged to LP: -482.2:   1%|          | 18/2000 [00:00<00:25, 79.24it/s]\n",
      "Converged to LP: -499.1:   1%|          | 21/2000 [00:00<00:25, 76.59it/s]\n",
      "Converged to LP: -493.1:   1%|          | 21/2000 [00:00<00:27, 70.81it/s]\n",
      "Converged to LP: -480.7:   1%|▏         | 27/2000 [00:00<00:24, 81.49it/s]\n",
      "LP: -513.1:   0%|          | 5/2000 [00:00<00:40, 49.68it/s]"
     ]
    },
    {
     "name": "stdout",
     "output_type": "stream",
     "text": [
      "Fitting 5 states...\n"
     ]
    },
    {
     "name": "stderr",
     "output_type": "stream",
     "text": [
      "Converged to LP: -511.5:   1%|          | 22/2000 [00:00<00:36, 54.84it/s]\n",
      "Converged to LP: -512.0:   3%|▎         | 51/2000 [00:00<00:26, 72.24it/s]\n",
      "Converged to LP: -511.8:   3%|▎         | 55/2000 [00:00<00:26, 74.62it/s]\n",
      "Converged to LP: -525.9:   3%|▎         | 66/2000 [00:00<00:26, 71.82it/s]\n",
      "Converged to LP: -519.3:   6%|▋         | 130/2000 [00:01<00:22, 82.91it/s]\n",
      "Converged to LP: -488.8:   1%|          | 16/2000 [00:00<00:14, 135.46it/s]\n",
      "LP: -490.7:   1%|          | 12/2000 [00:00<00:17, 115.23it/s]"
     ]
    },
    {
     "name": "stdout",
     "output_type": "stream",
     "text": [
      "Fitting session 24...\n",
      "Fitting 2 states...\n"
     ]
    },
    {
     "name": "stderr",
     "output_type": "stream",
     "text": [
      "Converged to LP: -479.7:   1%|          | 21/2000 [00:00<00:18, 107.93it/s]\n",
      "Converged to LP: -477.6:   1%|          | 17/2000 [00:00<00:23, 85.87it/s]\n",
      "Converged to LP: -457.4:   1%|          | 21/2000 [00:00<00:23, 84.93it/s]\n",
      "Converged to LP: -483.0:   4%|▍         | 86/2000 [00:00<00:15, 120.75it/s]\n",
      "LP: -518.4:   0%|          | 0/2000 [00:00<?, ?it/s]"
     ]
    },
    {
     "name": "stdout",
     "output_type": "stream",
     "text": [
      "Fitting 3 states...\n"
     ]
    },
    {
     "name": "stderr",
     "output_type": "stream",
     "text": [
      "Converged to LP: -488.7:   1%|          | 11/2000 [00:00<00:25, 78.39it/s]\n",
      "Converged to LP: -508.9:   1%|          | 14/2000 [00:00<00:25, 77.72it/s]\n",
      "Converged to LP: -506.3:   1%|          | 16/2000 [00:00<00:23, 82.98it/s]\n",
      "Converged to LP: -511.7:   1%|▏         | 27/2000 [00:00<00:22, 86.34it/s]\n",
      "Converged to LP: -509.3:   9%|▊         | 172/2000 [00:01<00:16, 109.73it/s]\n",
      "LP: -543.6:   0%|          | 0/2000 [00:00<?, ?it/s]"
     ]
    },
    {
     "name": "stdout",
     "output_type": "stream",
     "text": [
      "Fitting 4 states...\n"
     ]
    },
    {
     "name": "stderr",
     "output_type": "stream",
     "text": [
      "Converged to LP: -516.3:   1%|          | 12/2000 [00:00<00:30, 65.61it/s]\n",
      "Converged to LP: -535.7:   1%|          | 15/2000 [00:00<00:32, 61.86it/s]\n",
      "Converged to LP: -542.8:   1%|          | 21/2000 [00:00<00:27, 72.47it/s]\n",
      "Converged to LP: -539.0:   1%|          | 20/2000 [00:00<00:29, 67.72it/s]\n",
      "Converged to LP: -537.1:   3%|▎         | 56/2000 [00:00<00:20, 96.27it/s] \n",
      "LP: -575.8:   0%|          | 0/2000 [00:00<?, ?it/s]"
     ]
    },
    {
     "name": "stdout",
     "output_type": "stream",
     "text": [
      "Fitting 5 states...\n"
     ]
    },
    {
     "name": "stderr",
     "output_type": "stream",
     "text": [
      "Converged to LP: -564.1:   3%|▎         | 58/2000 [00:00<00:27, 70.23it/s]\n",
      "Converged to LP: -539.6:   4%|▎         | 72/2000 [00:01<00:27, 71.22it/s]\n",
      "Converged to LP: -558.0:   4%|▎         | 74/2000 [00:01<00:28, 66.58it/s]\n",
      "Converged to LP: -567.9:   4%|▍         | 77/2000 [00:01<00:29, 65.01it/s]\n",
      "Converged to LP: -548.1:   4%|▍         | 86/2000 [00:01<00:29, 65.19it/s]\n",
      "Converged to LP: -280.2:   0%|          | 8/2000 [00:00<00:14, 135.84it/s]\n",
      "Converged to LP: -279.1:   1%|          | 12/2000 [00:00<00:12, 159.82it/s]\n",
      "Converged to LP: -284.6:   1%|          | 14/2000 [00:00<00:13, 148.53it/s]\n",
      "LP: -284.7:   1%|          | 15/2000 [00:00<00:13, 142.64it/s]"
     ]
    },
    {
     "name": "stdout",
     "output_type": "stream",
     "text": [
      "Fitting session 25...\n",
      "Fitting 2 states...\n"
     ]
    },
    {
     "name": "stderr",
     "output_type": "stream",
     "text": [
      "Converged to LP: -271.2:   1%|          | 17/2000 [00:00<00:14, 141.26it/s]\n",
      "Converged to LP: -283.9:   1%|▏         | 26/2000 [00:00<00:12, 152.94it/s]\n",
      "Converged to LP: -310.9:   0%|          | 9/2000 [00:00<00:22, 89.10it/s]\n",
      "Converged to LP: -297.3:   0%|          | 9/2000 [00:00<00:20, 97.28it/s]\n",
      "LP: -304.3:   0%|          | 8/2000 [00:00<00:25, 78.63it/s]"
     ]
    },
    {
     "name": "stdout",
     "output_type": "stream",
     "text": [
      "Fitting 3 states...\n"
     ]
    },
    {
     "name": "stderr",
     "output_type": "stream",
     "text": [
      "Converged to LP: -304.3:   1%|          | 14/2000 [00:00<00:22, 88.41it/s]\n",
      "Converged to LP: -312.2:   1%|          | 17/2000 [00:00<00:23, 84.95it/s]\n",
      "Converged to LP: -305.5:   1%|▏         | 26/2000 [00:00<00:21, 92.18it/s]\n",
      "LP: -343.4:   0%|          | 0/2000 [00:00<?, ?it/s]"
     ]
    },
    {
     "name": "stdout",
     "output_type": "stream",
     "text": [
      "Fitting 4 states...\n"
     ]
    },
    {
     "name": "stderr",
     "output_type": "stream",
     "text": [
      "Converged to LP: -334.2:   1%|          | 12/2000 [00:00<00:26, 75.37it/s]\n",
      "Converged to LP: -342.2:   1%|          | 14/2000 [00:00<00:24, 81.91it/s]\n",
      "Converged to LP: -327.9:   1%|          | 20/2000 [00:00<00:21, 90.98it/s]\n",
      "Converged to LP: -333.1:   2%|▏         | 34/2000 [00:00<00:23, 82.74it/s]\n",
      "Converged to LP: -340.5:   4%|▎         | 72/2000 [00:00<00:17, 107.95it/s]\n",
      "LP: -359.9:   0%|          | 0/2000 [00:00<?, ?it/s].21it/s]"
     ]
    },
    {
     "name": "stdout",
     "output_type": "stream",
     "text": [
      "Fitting 5 states...\n"
     ]
    },
    {
     "name": "stderr",
     "output_type": "stream",
     "text": [
      "Converged to LP: -373.5:   1%|          | 14/2000 [00:00<00:28, 70.16it/s]\n",
      "Converged to LP: -359.9:   1%|          | 18/2000 [00:00<00:26, 74.42it/s]\n",
      "Converged to LP: -365.6:   2%|▏         | 39/2000 [00:00<00:22, 86.43it/s]\n",
      "Converged to LP: -367.6:   2%|▏         | 37/2000 [00:00<00:24, 80.12it/s]\n",
      "Converged to LP: -373.8:   3%|▎         | 55/2000 [00:00<00:22, 86.45it/s]\n",
      "LP: -496.0:   0%|          | 0/2000 [00:00<?, ?it/s]"
     ]
    },
    {
     "name": "stdout",
     "output_type": "stream",
     "text": [
      "Fitting session 26...\n",
      "Fitting 2 states...\n"
     ]
    },
    {
     "name": "stderr",
     "output_type": "stream",
     "text": [
      "Converged to LP: -455.8:   0%|          | 8/2000 [00:00<00:22, 88.86it/s]\n",
      "Converged to LP: -463.4:   1%|          | 12/2000 [00:00<00:20, 94.72it/s]\n",
      "Converged to LP: -474.8:   1%|          | 14/2000 [00:00<00:20, 95.77it/s]\n",
      "Converged to LP: -486.0:   1%|          | 18/2000 [00:00<00:17, 110.25it/s]\n",
      "Converged to LP: -456.5:   1%|          | 20/2000 [00:00<00:20, 97.09it/s]\n"
     ]
    },
    {
     "name": "stdout",
     "output_type": "stream",
     "text": [
      "Fitting 3 states...\n"
     ]
    },
    {
     "name": "stderr",
     "output_type": "stream",
     "text": [
      "Converged to LP: -477.0:   0%|          | 8/2000 [00:00<00:26, 74.97it/s]\n",
      "Converged to LP: -507.8:   1%|          | 11/2000 [00:00<00:27, 73.15it/s]\n",
      "Converged to LP: -480.5:   1%|          | 13/2000 [00:00<00:20, 95.46it/s]\n",
      "Converged to LP: -496.3:   1%|          | 21/2000 [00:00<00:21, 90.95it/s]\n",
      "Converged to LP: -484.4:   3%|▎         | 54/2000 [00:00<00:20, 92.69it/s]\n"
     ]
    },
    {
     "name": "stdout",
     "output_type": "stream",
     "text": [
      "Fitting 4 states...\n"
     ]
    },
    {
     "name": "stderr",
     "output_type": "stream",
     "text": [
      "Converged to LP: -539.1:   1%|          | 11/2000 [00:00<00:26, 75.13it/s]\n",
      "Converged to LP: -508.3:   1%|          | 14/2000 [00:00<00:26, 75.84it/s]\n",
      "Converged to LP: -511.8:   1%|          | 14/2000 [00:00<00:25, 79.34it/s]\n",
      "Converged to LP: -527.6:   1%|          | 16/2000 [00:00<00:28, 70.29it/s]\n",
      "Converged to LP: -504.5:   3%|▎         | 68/2000 [00:00<00:22, 86.34it/s]\n"
     ]
    },
    {
     "name": "stdout",
     "output_type": "stream",
     "text": [
      "Fitting 5 states...\n"
     ]
    },
    {
     "name": "stderr",
     "output_type": "stream",
     "text": [
      "Converged to LP: -539.6:   1%|          | 11/2000 [00:00<00:29, 67.26it/s]\n",
      "Converged to LP: -533.9:   3%|▎         | 51/2000 [00:00<00:26, 74.45it/s]\n",
      "Converged to LP: -565.3:   3%|▎         | 63/2000 [00:00<00:24, 78.68it/s]\n",
      "Converged to LP: -548.2:   8%|▊         | 157/2000 [00:01<00:22, 81.22it/s]\n",
      "Converged to LP: -533.2:  10%|▉         | 194/2000 [00:02<00:20, 89.80it/s]\n",
      "LP: -457.0:   0%|          | 0/2000 [00:00<?, ?it/s]"
     ]
    },
    {
     "name": "stdout",
     "output_type": "stream",
     "text": [
      "Fitting session 27...\n",
      "Fitting 2 states...\n",
      "Fitting 3 states...\n"
     ]
    },
    {
     "name": "stderr",
     "output_type": "stream",
     "text": [
      "Converged to LP: -448.4:   0%|          | 7/2000 [00:00<00:24, 82.16it/s]\n",
      "Converged to LP: -448.0:   0%|          | 6/2000 [00:00<00:19, 104.55it/s]\n",
      "LP: -440.3:   0%|          | 10/2000 [00:00<00:21, 93.48it/s], 93.90it/s]\n",
      "Converged to LP: -440.3:   1%|          | 11/2000 [00:00<00:21, 91.27it/s]\n",
      "Converged to LP: -443.6:   1%|          | 17/2000 [00:00<00:17, 116.53it/s]\n",
      "Converged to LP: -467.9:   1%|          | 12/2000 [00:00<00:28, 68.61it/s]\n",
      "Converged to LP: -478.7:   1%|          | 13/2000 [00:00<00:26, 75.33it/s]\n",
      "Converged to LP: -468.1:   1%|          | 14/2000 [00:00<00:24, 79.89it/s]\n",
      "Converged to LP: -463.6:   1%|          | 24/2000 [00:00<00:25, 78.79it/s]\n",
      "Converged to LP: -469.9:   2%|▏         | 31/2000 [00:00<00:20, 97.28it/s] \n",
      "LP: -503.3:   0%|          | 0/2000 [00:00<?, ?it/s].17it/s]"
     ]
    },
    {
     "name": "stdout",
     "output_type": "stream",
     "text": [
      "Fitting 4 states...\n"
     ]
    },
    {
     "name": "stderr",
     "output_type": "stream",
     "text": [
      "Converged to LP: -502.0:   1%|          | 17/2000 [00:00<00:28, 70.04it/s]\n",
      "Converged to LP: -497.3:   1%|▏         | 26/2000 [00:00<00:26, 74.51it/s]\n",
      "Converged to LP: -489.3:   2%|▏         | 34/2000 [00:00<00:28, 70.15it/s]\n",
      "Converged to LP: -493.1:   3%|▎         | 60/2000 [00:00<00:25, 77.05it/s]\n",
      "Converged to LP: -494.2:   5%|▌         | 103/2000 [00:01<00:22, 85.84it/s]\n",
      "LP: -530.8:   0%|          | 0/2000 [00:00<?, ?it/s]"
     ]
    },
    {
     "name": "stdout",
     "output_type": "stream",
     "text": [
      "Fitting 5 states...\n"
     ]
    },
    {
     "name": "stderr",
     "output_type": "stream",
     "text": [
      "Converged to LP: -532.5:   1%|▏         | 27/2000 [00:00<00:37, 52.25it/s]\n",
      "Converged to LP: -525.9:   2%|▏         | 30/2000 [00:00<00:35, 55.13it/s]\n",
      "Converged to LP: -518.2:   2%|▏         | 44/2000 [00:00<00:34, 57.35it/s]\n",
      "Converged to LP: -524.3:   5%|▌         | 102/2000 [00:01<00:28, 65.95it/s]\n",
      "Converged to LP: -517.9:  11%|█         | 212/2000 [00:02<00:24, 73.33it/s]\n",
      "LP: -391.5:   0%|          | 0/2000 [00:00<?, ?it/s]"
     ]
    },
    {
     "name": "stdout",
     "output_type": "stream",
     "text": [
      "Fitting session 28...\n",
      "Fitting 2 states...\n",
      "Fitting 3 states...\n"
     ]
    },
    {
     "name": "stderr",
     "output_type": "stream",
     "text": [
      "Converged to LP: -391.5:   0%|          | 6/2000 [00:00<00:23, 85.34it/s]\n",
      "Converged to LP: -403.6:   0%|          | 5/2000 [00:00<00:26, 76.44it/s]\n",
      "Converged to LP: -408.5:   0%|          | 6/2000 [00:00<00:25, 77.83it/s]\n",
      "Converged to LP: -401.5:   0%|          | 7/2000 [00:00<00:24, 81.42it/s]\n",
      "Converged to LP: -410.5:   1%|          | 11/2000 [00:00<00:19, 102.93it/s]\n",
      "Converged to LP: -425.4:   0%|          | 8/2000 [00:00<00:27, 71.54it/s]\n",
      "Converged to LP: -423.9:   0%|          | 10/2000 [00:00<00:27, 72.42it/s]\n",
      "Converged to LP: -430.4:   1%|          | 12/2000 [00:00<00:25, 78.94it/s]\n",
      "Converged to LP: -433.2:   1%|          | 17/2000 [00:00<00:22, 88.87it/s]\n",
      "Converged to LP: -415.6:   1%|          | 22/2000 [00:00<00:20, 95.39it/s]\n",
      "LP: -469.4:   0%|          | 0/2000 [00:00<?, ?it/s]"
     ]
    },
    {
     "name": "stdout",
     "output_type": "stream",
     "text": [
      "Fitting 4 states...\n"
     ]
    },
    {
     "name": "stderr",
     "output_type": "stream",
     "text": [
      "Converged to LP: -461.9:   1%|          | 20/2000 [00:00<00:32, 60.90it/s]\n",
      "Converged to LP: -456.0:   1%|▏         | 26/2000 [00:00<00:27, 72.54it/s]\n",
      "Converged to LP: -454.7:   2%|▏         | 30/2000 [00:00<00:25, 76.01it/s]\n",
      "Converged to LP: -446.1:   2%|▏         | 36/2000 [00:00<00:27, 70.36it/s]\n",
      "Converged to LP: -458.7:   2%|▎         | 50/2000 [00:00<00:24, 78.58it/s]\n",
      "LP: -484.5:   0%|          | 5/2000 [00:00<00:41, 47.83it/s]"
     ]
    },
    {
     "name": "stdout",
     "output_type": "stream",
     "text": [
      "Fitting 5 states...\n"
     ]
    },
    {
     "name": "stderr",
     "output_type": "stream",
     "text": [
      "Converged to LP: -489.9:   2%|▏         | 32/2000 [00:00<00:33, 58.20it/s]\n",
      "Converged to LP: -474.2:   3%|▎         | 55/2000 [00:00<00:27, 69.81it/s]\n",
      "Converged to LP: -488.3:   3%|▎         | 58/2000 [00:00<00:29, 64.75it/s]\n",
      "Converged to LP: -481.3:   4%|▎         | 72/2000 [00:01<00:28, 67.60it/s]\n",
      "Converged to LP: -482.5:   8%|▊         | 165/2000 [00:02<00:23, 77.40it/s]\n",
      "LP: -477.2:   0%|          | 0/2000 [00:00<?, ?it/s]"
     ]
    },
    {
     "name": "stdout",
     "output_type": "stream",
     "text": [
      "Fitting session 29...\n",
      "Fitting 2 states...\n"
     ]
    },
    {
     "name": "stderr",
     "output_type": "stream",
     "text": [
      "Converged to LP: -433.3:   1%|          | 11/2000 [00:00<00:20, 97.79it/s] \n",
      "Converged to LP: -467.8:   1%|          | 14/2000 [00:00<00:20, 97.59it/s]\n",
      "Converged to LP: -448.8:   1%|          | 13/2000 [00:00<00:22, 88.10it/s]\n",
      "Converged to LP: -453.2:   1%|          | 16/2000 [00:00<00:20, 95.81it/s]\n",
      "Converged to LP: -458.4:   1%|          | 16/2000 [00:00<00:18, 108.02it/s]\n",
      "LP: -476.4:   0%|          | 0/2000 [00:00<?, ?it/s]"
     ]
    },
    {
     "name": "stdout",
     "output_type": "stream",
     "text": [
      "Fitting 3 states...\n"
     ]
    },
    {
     "name": "stderr",
     "output_type": "stream",
     "text": [
      "Converged to LP: -490.2:   0%|          | 10/2000 [00:00<00:30, 65.67it/s]\n",
      "LP: -475.2:   0%|          | 5/2000 [00:00<00:43, 45.75it/s]3, 59.18it/s]\n",
      "Converged to LP: -482.6:   1%|          | 13/2000 [00:00<00:26, 74.90it/s]\n",
      "Converged to LP: -459.4:   1%|          | 17/2000 [00:00<00:25, 79.20it/s]\n",
      "Converged to LP: -475.2:   1%|          | 13/2000 [00:00<00:29, 67.78it/s]\n",
      "Converged to LP: -503.2:   1%|          | 11/2000 [00:00<00:25, 77.71it/s]\n",
      "LP: -521.3:   0%|          | 7/2000 [00:00<00:29, 66.54it/s]"
     ]
    },
    {
     "name": "stdout",
     "output_type": "stream",
     "text": [
      "Fitting 4 states...\n"
     ]
    },
    {
     "name": "stderr",
     "output_type": "stream",
     "text": [
      "Converged to LP: -503.5:   2%|▏         | 31/2000 [00:00<00:22, 86.67it/s]\n",
      "Converged to LP: -512.8:   2%|▏         | 30/2000 [00:00<00:26, 75.22it/s]\n",
      "Converged to LP: -489.1:   3%|▎         | 51/2000 [00:00<00:22, 85.76it/s]\n",
      "Converged to LP: -521.2:   3%|▎         | 69/2000 [00:00<00:19, 99.90it/s] \n",
      "LP: -521.9:   0%|          | 0/2000 [00:00<?, ?it/s]"
     ]
    },
    {
     "name": "stdout",
     "output_type": "stream",
     "text": [
      "Fitting 5 states...\n"
     ]
    },
    {
     "name": "stderr",
     "output_type": "stream",
     "text": [
      "Converged to LP: -517.0:   3%|▎         | 51/2000 [00:00<00:32, 59.96it/s]\n",
      "Converged to LP: -531.9:   4%|▎         | 70/2000 [00:01<00:30, 63.62it/s]\n",
      "Converged to LP: -533.1:   6%|▌         | 110/2000 [00:01<00:27, 68.83it/s]\n",
      "Converged to LP: -541.4:   6%|▌         | 116/2000 [00:01<00:29, 64.95it/s]\n",
      "Converged to LP: -550.0:   7%|▋         | 145/2000 [00:02<00:26, 69.79it/s]\n",
      "LP: -467.9:   0%|          | 0/2000 [00:00<?, ?it/s]"
     ]
    },
    {
     "name": "stdout",
     "output_type": "stream",
     "text": [
      "Fitting session 30...\n",
      "Fitting 2 states...\n"
     ]
    },
    {
     "name": "stderr",
     "output_type": "stream",
     "text": [
      "Converged to LP: -424.8:   0%|          | 8/2000 [00:00<00:22, 88.39it/s]\n",
      "Converged to LP: -441.7:   0%|          | 7/2000 [00:00<00:24, 82.24it/s]\n",
      "Converged to LP: -436.0:   0%|          | 7/2000 [00:00<00:23, 85.11it/s]\n",
      "Converged to LP: -447.3:   1%|          | 11/2000 [00:00<00:19, 100.72it/s]\n",
      "Converged to LP: -439.9:   1%|          | 22/2000 [00:00<00:17, 114.03it/s]\n",
      "LP: -489.0:   0%|          | 0/2000 [00:00<?, ?it/s]"
     ]
    },
    {
     "name": "stdout",
     "output_type": "stream",
     "text": [
      "Fitting 3 states...\n"
     ]
    },
    {
     "name": "stderr",
     "output_type": "stream",
     "text": [
      "Converged to LP: -450.9:   1%|          | 12/2000 [00:00<00:26, 73.95it/s]\n",
      "Converged to LP: -463.2:   1%|          | 12/2000 [00:00<00:23, 83.04it/s]\n",
      "Converged to LP: -468.7:   1%|          | 19/2000 [00:00<00:22, 88.42it/s]\n",
      "Converged to LP: -466.7:   1%|          | 16/2000 [00:00<00:29, 67.39it/s]\n",
      "Converged to LP: -473.1:   1%|          | 18/2000 [00:00<00:26, 75.57it/s]\n",
      "LP: -482.2:   0%|          | 6/2000 [00:00<00:36, 54.53it/s]"
     ]
    },
    {
     "name": "stdout",
     "output_type": "stream",
     "text": [
      "Fitting 4 states...\n"
     ]
    },
    {
     "name": "stderr",
     "output_type": "stream",
     "text": [
      "Converged to LP: -504.5:   1%|          | 16/2000 [00:00<00:29, 67.74it/s]\n",
      "Converged to LP: -482.2:   1%|          | 18/2000 [00:00<00:29, 67.85it/s]\n",
      "Converged to LP: -501.2:   1%|          | 16/2000 [00:00<00:31, 62.25it/s]\n",
      "Converged to LP: -491.9:   1%|▏         | 26/2000 [00:00<00:27, 71.24it/s]\n",
      "Converged to LP: -487.1:   4%|▍         | 80/2000 [00:00<00:21, 88.80it/s] \n",
      "LP: -555.9:   0%|          | 0/2000 [00:00<?, ?it/s]"
     ]
    },
    {
     "name": "stdout",
     "output_type": "stream",
     "text": [
      "Fitting 5 states...\n"
     ]
    },
    {
     "name": "stderr",
     "output_type": "stream",
     "text": [
      "Converged to LP: -530.3:   1%|          | 14/2000 [00:00<00:37, 52.34it/s]\n",
      "Converged to LP: -525.5:   1%|          | 21/2000 [00:00<00:32, 60.50it/s]\n",
      "Converged to LP: -508.7:   3%|▎         | 66/2000 [00:00<00:25, 76.15it/s]\n",
      "Converged to LP: -517.0:   4%|▍         | 75/2000 [00:01<00:27, 70.36it/s]\n",
      "Converged to LP: -516.1:  11%|█▏        | 226/2000 [00:02<00:21, 81.53it/s]\n",
      "Converged to LP: -416.0:   0%|          | 6/2000 [00:00<00:15, 127.57it/s]\n",
      "Converged to LP: -408.7:   0%|          | 7/2000 [00:00<00:15, 125.61it/s]\n",
      "LP: -415.1:   0%|          | 0/2000 [00:00<?, ?it/s]"
     ]
    },
    {
     "name": "stdout",
     "output_type": "stream",
     "text": [
      "Fitting session 31...\n",
      "Fitting 2 states...\n",
      "Fitting 3 states...\n"
     ]
    },
    {
     "name": "stderr",
     "output_type": "stream",
     "text": [
      "Converged to LP: -439.6:   0%|          | 9/2000 [00:00<00:19, 102.98it/s]\n",
      "Converged to LP: -413.9:   1%|          | 14/2000 [00:00<00:16, 118.67it/s]\n",
      "Converged to LP: -415.1:   1%|          | 17/2000 [00:00<00:15, 127.00it/s]\n",
      "Converged to LP: -465.2:   1%|          | 12/2000 [00:00<00:24, 82.24it/s]\n",
      "Converged to LP: -436.3:   1%|          | 18/2000 [00:00<00:23, 83.96it/s]\n",
      "Converged to LP: -441.7:   1%|          | 18/2000 [00:00<00:22, 87.64it/s]\n",
      "Converged to LP: -442.9:   1%|          | 18/2000 [00:00<00:23, 85.52it/s]\n",
      "Converged to LP: -444.8:   2%|▏         | 33/2000 [00:00<00:21, 93.66it/s]\n",
      "LP: -473.3:   0%|          | 8/2000 [00:00<00:26, 73.87it/s]"
     ]
    },
    {
     "name": "stdout",
     "output_type": "stream",
     "text": [
      "Fitting 4 states...\n"
     ]
    },
    {
     "name": "stderr",
     "output_type": "stream",
     "text": [
      "Converged to LP: -462.7:   1%|          | 15/2000 [00:00<00:31, 63.74it/s]\n",
      "Converged to LP: -470.4:   1%|          | 23/2000 [00:00<00:25, 76.80it/s]\n",
      "Converged to LP: -485.9:   1%|▏         | 28/2000 [00:00<00:27, 71.15it/s]\n",
      "Converged to LP: -472.2:   2%|▏         | 30/2000 [00:00<00:28, 69.56it/s]\n",
      "Converged to LP: -470.7:   2%|▏         | 42/2000 [00:00<00:25, 76.99it/s]\n",
      "LP: -507.1:   0%|          | 5/2000 [00:00<00:47, 41.79it/s]"
     ]
    },
    {
     "name": "stdout",
     "output_type": "stream",
     "text": [
      "Fitting 5 states...\n"
     ]
    },
    {
     "name": "stderr",
     "output_type": "stream",
     "text": [
      "Converged to LP: -501.9:   2%|▏         | 41/2000 [00:00<00:34, 56.48it/s]\n",
      "Converged to LP: -499.3:   2%|▏         | 44/2000 [00:00<00:33, 58.45it/s]\n",
      "Converged to LP: -492.2:   3%|▎         | 60/2000 [00:00<00:28, 68.01it/s]\n",
      "Converged to LP: -496.1:   8%|▊         | 156/2000 [00:02<00:24, 74.21it/s]\n",
      "Converged to LP: -513.1:  13%|█▎        | 269/2000 [00:03<00:20, 82.60it/s] \n",
      "Converged to LP: -462.9:   0%|          | 6/2000 [00:00<00:14, 134.03it/s]\n",
      "Converged to LP: -442.7:   0%|          | 6/2000 [00:00<00:16, 124.23it/s]\n",
      "Converged to LP: -469.7:   0%|          | 7/2000 [00:00<00:15, 127.53it/s]\n",
      "Converged to LP: -449.2:   0%|          | 7/2000 [00:00<00:15, 128.22it/s]\n",
      "Converged to LP: -453.0:   1%|          | 12/2000 [00:00<00:14, 136.89it/s]\n"
     ]
    },
    {
     "name": "stdout",
     "output_type": "stream",
     "text": [
      "Fitting session 32...\n",
      "Fitting 2 states...\n",
      "Fitting 3 states...\n"
     ]
    },
    {
     "name": "stderr",
     "output_type": "stream",
     "text": [
      "Converged to LP: -492.1:   0%|          | 10/2000 [00:00<00:27, 73.28it/s]\n",
      "Converged to LP: -475.1:   0%|          | 9/2000 [00:00<00:28, 70.60it/s]\n",
      "Converged to LP: -463.8:   1%|          | 15/2000 [00:00<00:24, 82.57it/s]\n",
      "Converged to LP: -489.3:   1%|          | 13/2000 [00:00<00:29, 67.10it/s]\n",
      "Converged to LP: -479.4:   1%|          | 19/2000 [00:00<00:25, 77.89it/s]\n",
      "LP: -522.3:   0%|          | 0/2000 [00:00<?, ?it/s]3.72it/s]"
     ]
    },
    {
     "name": "stdout",
     "output_type": "stream",
     "text": [
      "Fitting 4 states...\n"
     ]
    },
    {
     "name": "stderr",
     "output_type": "stream",
     "text": [
      "Converged to LP: -517.5:   0%|          | 10/2000 [00:00<00:23, 85.30it/s]\n",
      "Converged to LP: -522.3:   1%|          | 16/2000 [00:00<00:23, 85.52it/s]\n",
      "Converged to LP: -487.9:   1%|          | 17/2000 [00:00<00:26, 75.78it/s]\n",
      "Converged to LP: -509.0:   1%|          | 19/2000 [00:00<00:23, 83.11it/s]\n",
      "Converged to LP: -504.9:   1%|          | 19/2000 [00:00<00:26, 75.69it/s]\n",
      "LP: -562.4:   0%|          | 0/2000 [00:00<?, ?it/s]"
     ]
    },
    {
     "name": "stdout",
     "output_type": "stream",
     "text": [
      "Fitting 5 states...\n"
     ]
    },
    {
     "name": "stderr",
     "output_type": "stream",
     "text": [
      "Converged to LP: -528.5:   1%|          | 21/2000 [00:00<00:35, 56.24it/s]\n",
      "Converged to LP: -547.3:   2%|▏         | 30/2000 [00:00<00:32, 60.16it/s]\n",
      "Converged to LP: -539.2:   2%|▏         | 40/2000 [00:00<00:27, 70.05it/s]\n",
      "Converged to LP: -515.2:   8%|▊         | 169/2000 [00:02<00:22, 80.97it/s]\n",
      "Converged to LP: -543.1:  35%|███▍      | 691/2000 [00:07<00:13, 97.97it/s] \n"
     ]
    },
    {
     "name": "stdout",
     "output_type": "stream",
     "text": [
      "Fitting session 33...\n",
      "Fitting 2 states...\n"
     ]
    },
    {
     "name": "stderr",
     "output_type": "stream",
     "text": [
      "Converged to LP: -474.7:   0%|          | 8/2000 [00:00<00:19, 103.62it/s]\n",
      "Converged to LP: -456.2:   0%|          | 5/2000 [00:00<00:23, 84.34it/s]\n",
      "Converged to LP: -464.8:   1%|          | 15/2000 [00:00<00:16, 119.96it/s]\n",
      "Converged to LP: -464.9:   1%|          | 13/2000 [00:00<00:18, 110.29it/s]\n",
      "Converged to LP: -441.9:   2%|▏         | 34/2000 [00:00<00:17, 111.67it/s]\n",
      "LP: -488.6:   0%|          | 0/2000 [00:00<?, ?it/s]"
     ]
    },
    {
     "name": "stdout",
     "output_type": "stream",
     "text": [
      "Fitting 3 states...\n"
     ]
    },
    {
     "name": "stderr",
     "output_type": "stream",
     "text": [
      "Converged to LP: -487.2:   1%|          | 11/2000 [00:00<00:25, 77.40it/s]\n",
      "Converged to LP: -474.9:   1%|          | 11/2000 [00:00<00:26, 75.68it/s]\n",
      "Converged to LP: -475.1:   1%|          | 16/2000 [00:00<00:21, 91.18it/s]\n",
      "Converged to LP: -468.1:   1%|          | 19/2000 [00:00<00:23, 84.99it/s]\n",
      "Converged to LP: -477.7:   2%|▏         | 31/2000 [00:00<00:19, 102.25it/s]\n",
      "LP: -499.4:   0%|          | 9/2000 [00:00<00:22, 88.25it/s]"
     ]
    },
    {
     "name": "stdout",
     "output_type": "stream",
     "text": [
      "Fitting 4 states...\n"
     ]
    },
    {
     "name": "stderr",
     "output_type": "stream",
     "text": [
      "Converged to LP: -503.4:   0%|          | 10/2000 [00:00<00:28, 69.05it/s]\n",
      "Converged to LP: -514.8:   1%|          | 12/2000 [00:00<00:29, 66.96it/s]\n",
      "Converged to LP: -499.4:   1%|          | 15/2000 [00:00<00:22, 88.27it/s]\n",
      "Converged to LP: -503.8:   1%|          | 14/2000 [00:00<00:29, 67.28it/s]\n",
      "Converged to LP: -503.5:   1%|          | 23/2000 [00:00<00:25, 77.16it/s]\n",
      "LP: -532.8:   0%|          | 5/2000 [00:00<00:43, 45.91it/s]"
     ]
    },
    {
     "name": "stdout",
     "output_type": "stream",
     "text": [
      "Fitting 5 states...\n"
     ]
    },
    {
     "name": "stderr",
     "output_type": "stream",
     "text": [
      "Converged to LP: -545.3:   1%|          | 14/2000 [00:00<00:36, 53.81it/s]\n",
      "Converged to LP: -531.3:   1%|          | 23/2000 [00:00<00:33, 59.33it/s]\n",
      "Converged to LP: -533.9:   1%|▏         | 25/2000 [00:00<00:31, 62.76it/s]\n",
      "Converged to LP: -530.4:   3%|▎         | 55/2000 [00:00<00:23, 81.30it/s]\n",
      "Converged to LP: -530.9:  14%|█▎        | 271/2000 [00:02<00:18, 94.30it/s]\n",
      "Converged to LP: -469.7:   0%|          | 9/2000 [00:00<00:17, 111.06it/s]\n",
      "Converged to LP: -446.2:   0%|          | 7/2000 [00:00<00:18, 106.00it/s]\n",
      "Converged to LP: -440.4:   1%|          | 11/2000 [00:00<00:17, 115.62it/s]\n",
      "Converged to LP: -437.6:   0%|          | 8/2000 [00:00<00:17, 112.34it/s]\n",
      "Converged to LP: -461.3:   1%|          | 12/2000 [00:00<00:17, 116.40it/s]\n",
      "LP: -476.8:   0%|          | 0/2000 [00:00<?, ?it/s]"
     ]
    },
    {
     "name": "stdout",
     "output_type": "stream",
     "text": [
      "Fitting session 34...\n",
      "Fitting 2 states...\n",
      "Fitting 3 states...\n"
     ]
    },
    {
     "name": "stderr",
     "output_type": "stream",
     "text": [
      "Converged to LP: -485.1:   1%|          | 12/2000 [00:00<00:26, 74.24it/s]\n",
      "Converged to LP: -467.9:   1%|          | 13/2000 [00:00<00:28, 70.53it/s]\n",
      "Converged to LP: -458.6:   1%|          | 23/2000 [00:00<00:22, 89.74it/s]\n",
      "Converged to LP: -493.5:   1%|▏         | 28/2000 [00:00<00:21, 91.43it/s]\n",
      "Converged to LP: -459.2:   1%|▏         | 27/2000 [00:00<00:22, 86.88it/s]\n",
      "LP: -501.2:   0%|          | 0/2000 [00:00<?, ?it/s]"
     ]
    },
    {
     "name": "stdout",
     "output_type": "stream",
     "text": [
      "Fitting 4 states...\n"
     ]
    },
    {
     "name": "stderr",
     "output_type": "stream",
     "text": [
      "Converged to LP: -512.6:   1%|          | 16/2000 [00:00<00:31, 62.44it/s]\n",
      "Converged to LP: -497.4:   1%|          | 20/2000 [00:00<00:28, 70.15it/s]\n",
      "Converged to LP: -487.0:   1%|          | 21/2000 [00:00<00:29, 67.02it/s]\n",
      "Converged to LP: -484.1:   2%|▏         | 30/2000 [00:00<00:29, 66.05it/s]\n",
      "Converged to LP: -518.6:   6%|▌         | 119/2000 [00:01<00:19, 95.89it/s] \n",
      "LP: -541.0:   0%|          | 0/2000 [00:00<?, ?it/s]"
     ]
    },
    {
     "name": "stdout",
     "output_type": "stream",
     "text": [
      "Fitting 5 states...\n"
     ]
    },
    {
     "name": "stderr",
     "output_type": "stream",
     "text": [
      "Converged to LP: -508.1:   2%|▏         | 38/2000 [00:00<00:35, 55.14it/s]\n",
      "Converged to LP: -515.6:   6%|▋         | 126/2000 [00:01<00:23, 80.59it/s]\n",
      "Converged to LP: -542.3:  10%|█         | 205/2000 [00:02<00:22, 79.35it/s]\n",
      "Converged to LP: -516.9:  11%|█         | 216/2000 [00:02<00:21, 82.20it/s]\n",
      "Converged to LP: -537.7:  21%|██▏       | 425/2000 [00:04<00:17, 88.00it/s] \n",
      "Converged to LP: -478.1:   0%|          | 7/2000 [00:00<00:15, 129.00it/s]\n",
      "Converged to LP: -485.4:   0%|          | 6/2000 [00:00<00:16, 123.52it/s]\n",
      "Converged to LP: -491.1:   0%|          | 8/2000 [00:00<00:17, 116.67it/s]\n",
      "LP: -501.1:   0%|          | 0/2000 [00:00<?, ?it/s]"
     ]
    },
    {
     "name": "stdout",
     "output_type": "stream",
     "text": [
      "Fitting session 35...\n",
      "Fitting 2 states...\n",
      "Fitting 3 states...\n"
     ]
    },
    {
     "name": "stderr",
     "output_type": "stream",
     "text": [
      "Converged to LP: -466.2:   0%|          | 8/2000 [00:00<00:15, 127.50it/s]\n",
      "Converged to LP: -501.0:   0%|          | 10/2000 [00:00<00:16, 121.96it/s]\n",
      "Converged to LP: -489.5:   0%|          | 8/2000 [00:00<00:35, 55.68it/s]\n",
      "Converged to LP: -510.2:   1%|          | 11/2000 [00:00<00:31, 64.05it/s]\n",
      "Converged to LP: -514.9:   1%|          | 18/2000 [00:00<00:25, 77.16it/s]\n",
      "Converged to LP: -519.6:   1%|          | 16/2000 [00:00<00:31, 62.42it/s]\n",
      "Converged to LP: -499.7:   1%|          | 23/2000 [00:00<00:26, 74.39it/s]\n",
      "LP: -562.2:   0%|          | 0/2000 [00:00<?, ?it/s]"
     ]
    },
    {
     "name": "stdout",
     "output_type": "stream",
     "text": [
      "Fitting 4 states...\n"
     ]
    },
    {
     "name": "stderr",
     "output_type": "stream",
     "text": [
      "Converged to LP: -515.3:   1%|          | 11/2000 [00:00<00:25, 77.51it/s]\n",
      "Converged to LP: -545.4:   1%|          | 11/2000 [00:00<00:30, 65.86it/s]\n",
      "Converged to LP: -535.5:   1%|          | 14/2000 [00:00<00:28, 69.13it/s]\n",
      "Converged to LP: -541.2:   2%|▏         | 30/2000 [00:00<00:25, 77.39it/s]\n",
      "Converged to LP: -521.3:   2%|▏         | 35/2000 [00:00<00:23, 85.29it/s]\n"
     ]
    },
    {
     "name": "stdout",
     "output_type": "stream",
     "text": [
      "Fitting 5 states...\n"
     ]
    },
    {
     "name": "stderr",
     "output_type": "stream",
     "text": [
      "Converged to LP: -569.6:   1%|▏         | 29/2000 [00:00<00:34, 56.65it/s]\n",
      "Converged to LP: -549.6:   2%|▏         | 41/2000 [00:00<00:32, 60.96it/s]\n",
      "Converged to LP: -571.8:   3%|▎         | 64/2000 [00:00<00:29, 65.86it/s]\n",
      "Converged to LP: -539.9:   4%|▍         | 87/2000 [00:01<00:26, 71.92it/s]\n",
      "Converged to LP: -561.9:   6%|▋         | 128/2000 [00:01<00:24, 77.21it/s]\n",
      "LP: -486.6:   1%|          | 11/2000 [00:00<00:18, 108.83it/s]"
     ]
    },
    {
     "name": "stdout",
     "output_type": "stream",
     "text": [
      "Fitting session 36...\n",
      "Fitting 2 states...\n"
     ]
    },
    {
     "name": "stderr",
     "output_type": "stream",
     "text": [
      "Converged to LP: -486.6:   1%|          | 16/2000 [00:00<00:18, 107.32it/s]\n",
      "Converged to LP: -472.1:   1%|          | 18/2000 [00:00<00:20, 98.54it/s]\n",
      "Converged to LP: -482.5:   1%|▏         | 28/2000 [00:00<00:18, 103.89it/s]\n",
      "Converged to LP: -484.1:   2%|▏         | 38/2000 [00:00<00:17, 113.15it/s]\n",
      "Converged to LP: -487.9:   2%|▏         | 46/2000 [00:00<00:18, 107.28it/s]\n",
      "LP: -510.9:   0%|          | 0/2000 [00:00<?, ?it/s]"
     ]
    },
    {
     "name": "stdout",
     "output_type": "stream",
     "text": [
      "Fitting 3 states...\n"
     ]
    },
    {
     "name": "stderr",
     "output_type": "stream",
     "text": [
      "Converged to LP: -511.8:   1%|          | 11/2000 [00:00<00:24, 81.09it/s]\n",
      "Converged to LP: -509.1:   1%|          | 16/2000 [00:00<00:22, 89.37it/s]\n",
      "Converged to LP: -503.4:   1%|          | 13/2000 [00:00<00:23, 86.15it/s]\n",
      "Converged to LP: -514.5:   2%|▏         | 30/2000 [00:00<00:21, 92.84it/s]\n",
      "Converged to LP: -515.9:   2%|▏         | 33/2000 [00:00<00:22, 87.65it/s]\n",
      "LP: -541.1:   0%|          | 0/2000 [00:00<?, ?it/s]"
     ]
    },
    {
     "name": "stdout",
     "output_type": "stream",
     "text": [
      "Fitting 4 states...\n"
     ]
    },
    {
     "name": "stderr",
     "output_type": "stream",
     "text": [
      "Converged to LP: -547.2:   1%|          | 18/2000 [00:00<00:32, 60.83it/s]\n",
      "Converged to LP: -541.9:   1%|          | 21/2000 [00:00<00:29, 66.68it/s]\n",
      "Converged to LP: -543.2:   1%|          | 22/2000 [00:00<00:32, 61.33it/s]\n",
      "Converged to LP: -540.4:   2%|▏         | 31/2000 [00:00<00:26, 74.60it/s]\n",
      "Converged to LP: -532.2:   2%|▏         | 30/2000 [00:00<00:26, 74.28it/s]\n",
      "LP: -589.5:   0%|          | 0/2000 [00:00<?, ?it/s]"
     ]
    },
    {
     "name": "stdout",
     "output_type": "stream",
     "text": [
      "Fitting 5 states...\n"
     ]
    },
    {
     "name": "stderr",
     "output_type": "stream",
     "text": [
      "Converged to LP: -573.2:   1%|          | 20/2000 [00:00<00:28, 68.94it/s]\n",
      "Converged to LP: -571.7:   1%|          | 23/2000 [00:00<00:28, 69.85it/s]\n",
      "Converged to LP: -578.5:   1%|▏         | 27/2000 [00:00<00:36, 54.61it/s]\n",
      "Converged to LP: -574.3:   3%|▎         | 60/2000 [00:00<00:28, 67.39it/s]\n",
      "Converged to LP: -558.4:   4%|▎         | 70/2000 [00:00<00:27, 70.40it/s]\n",
      "LP: -356.7:   0%|          | 0/2000 [00:00<?, ?it/s]"
     ]
    },
    {
     "name": "stdout",
     "output_type": "stream",
     "text": [
      "Fitting session 37...\n",
      "Fitting 2 states...\n",
      "Fitting 3 states...\n"
     ]
    },
    {
     "name": "stderr",
     "output_type": "stream",
     "text": [
      "Converged to LP: -344.0:   0%|          | 7/2000 [00:00<00:20, 99.48it/s]\n",
      "Converged to LP: -347.0:   0%|          | 7/2000 [00:00<00:21, 91.44it/s]\n",
      "Converged to LP: -327.8:   0%|          | 5/2000 [00:00<00:22, 90.65it/s]\n",
      "Converged to LP: -350.1:   0%|          | 6/2000 [00:00<00:25, 79.21it/s]\n",
      "Converged to LP: -338.6:   0%|          | 9/2000 [00:00<00:17, 111.16it/s]\n",
      "Converged to LP: -368.0:   0%|          | 7/2000 [00:00<00:28, 70.87it/s]\n",
      "Converged to LP: -369.0:   0%|          | 7/2000 [00:00<00:26, 74.93it/s]\n",
      "Converged to LP: -367.3:   0%|          | 9/2000 [00:00<00:25, 77.14it/s]\n",
      "Converged to LP: -350.3:   0%|          | 7/2000 [00:00<00:27, 71.28it/s]\n",
      "Converged to LP: -363.9:   0%|          | 9/2000 [00:00<00:26, 75.62it/s]\n",
      "LP: -378.4:   0%|          | 6/2000 [00:00<00:33, 58.67it/s]"
     ]
    },
    {
     "name": "stdout",
     "output_type": "stream",
     "text": [
      "Fitting 4 states...\n"
     ]
    },
    {
     "name": "stderr",
     "output_type": "stream",
     "text": [
      "Converged to LP: -391.9:   1%|          | 12/2000 [00:00<00:31, 64.12it/s]\n",
      "Converged to LP: -396.1:   1%|          | 16/2000 [00:00<00:30, 65.13it/s]\n",
      "Converged to LP: -398.7:   1%|          | 16/2000 [00:00<00:32, 61.42it/s]\n",
      "Converged to LP: -396.0:   1%|          | 24/2000 [00:00<00:28, 69.29it/s]\n",
      "Converged to LP: -376.3:   2%|▏         | 36/2000 [00:00<00:29, 67.57it/s]\n"
     ]
    },
    {
     "name": "stdout",
     "output_type": "stream",
     "text": [
      "Fitting 5 states...\n"
     ]
    },
    {
     "name": "stderr",
     "output_type": "stream",
     "text": [
      "Converged to LP: -405.5:   1%|          | 13/2000 [00:00<00:35, 55.65it/s]\n",
      "Converged to LP: -425.3:   1%|          | 21/2000 [00:00<00:31, 62.77it/s]\n",
      "Converged to LP: -425.8:   1%|          | 24/2000 [00:00<00:32, 61.52it/s]\n",
      "Converged to LP: -418.0:   4%|▍         | 89/2000 [00:01<00:27, 68.44it/s]\n",
      "Converged to LP: -425.3:   5%|▍         | 92/2000 [00:01<00:28, 67.53it/s]\n",
      "LP: -502.7:   0%|          | 0/2000 [00:00<?, ?it/s]"
     ]
    },
    {
     "name": "stdout",
     "output_type": "stream",
     "text": [
      "Fitting session 38...\n",
      "Fitting 2 states...\n",
      "Fitting 3 states...\n"
     ]
    },
    {
     "name": "stderr",
     "output_type": "stream",
     "text": [
      "Converged to LP: -475.7:   0%|          | 5/2000 [00:00<00:24, 82.08it/s]\n",
      "Converged to LP: -478.4:   0%|          | 9/2000 [00:00<00:20, 95.58it/s]\n",
      "Converged to LP: -491.5:   0%|          | 7/2000 [00:00<00:21, 92.77it/s]\n",
      "Converged to LP: -473.6:   0%|          | 10/2000 [00:00<00:19, 101.58it/s]\n",
      "Converged to LP: -468.3:   1%|          | 22/2000 [00:00<00:15, 129.59it/s]\n",
      "Converged to LP: -493.7:   0%|          | 10/2000 [00:00<00:34, 57.50it/s]\n",
      "Converged to LP: -501.5:   0%|          | 10/2000 [00:00<00:31, 62.44it/s]\n",
      "Converged to LP: -501.7:   1%|          | 13/2000 [00:00<00:27, 70.97it/s]\n",
      "Converged to LP: -519.5:   1%|          | 13/2000 [00:00<00:29, 66.65it/s]\n",
      "Converged to LP: -506.1:   1%|          | 17/2000 [00:00<00:29, 67.77it/s]\n",
      "LP: -552.4:   0%|          | 0/2000 [00:00<?, ?it/s].16it/s]"
     ]
    },
    {
     "name": "stdout",
     "output_type": "stream",
     "text": [
      "Fitting 4 states...\n"
     ]
    },
    {
     "name": "stderr",
     "output_type": "stream",
     "text": [
      "Converged to LP: -534.4:   1%|          | 13/2000 [00:00<00:36, 54.66it/s]\n",
      "Converged to LP: -530.3:   1%|          | 14/2000 [00:00<00:36, 54.89it/s]\n",
      "Converged to LP: -549.8:   1%|          | 16/2000 [00:00<00:34, 57.26it/s]\n",
      "Converged to LP: -521.0:   2%|▏         | 31/2000 [00:00<00:28, 68.31it/s]\n",
      "Converged to LP: -533.8:   2%|▏         | 40/2000 [00:00<00:28, 69.10it/s]\n",
      "LP: -555.0:   0%|          | 0/2000 [00:00<?, ?it/s]"
     ]
    },
    {
     "name": "stdout",
     "output_type": "stream",
     "text": [
      "Fitting 5 states...\n"
     ]
    },
    {
     "name": "stderr",
     "output_type": "stream",
     "text": [
      "Converged to LP: -558.8:   1%|          | 20/2000 [00:00<00:49, 39.96it/s]\n",
      "Converged to LP: -553.0:   2%|▏         | 34/2000 [00:00<00:41, 47.56it/s]\n",
      "Converged to LP: -561.3:   2%|▏         | 35/2000 [00:00<00:39, 50.11it/s]\n",
      "Converged to LP: -577.5:   3%|▎         | 61/2000 [00:01<00:38, 50.13it/s]\n",
      "Converged to LP: -562.0:   5%|▌         | 104/2000 [00:01<00:31, 60.32it/s]\n",
      "  0%|          | 0/2000 [00:00<?, ?it/s]"
     ]
    },
    {
     "name": "stdout",
     "output_type": "stream",
     "text": [
      "Fitting session 39...\n",
      "Fitting 2 states...\n"
     ]
    },
    {
     "name": "stderr",
     "output_type": "stream",
     "text": [
      "LP: -496.9:   0%|          | 8/2000 [00:00<00:25, 76.86it/s]6, 76.47it/s]\n",
      "Converged to LP: -483.2:   1%|          | 13/2000 [00:00<00:24, 81.49it/s]\n",
      "Converged to LP: -496.8:   1%|          | 19/2000 [00:00<00:23, 85.41it/s]\n",
      "Converged to LP: -488.8:   0%|          | 8/2000 [00:00<00:26, 76.09it/s]\n",
      "Converged to LP: -491.2:   1%|▏         | 27/2000 [00:00<00:18, 105.75it/s]\n",
      "  0%|          | 0/2000 [00:00<?, ?it/s]"
     ]
    },
    {
     "name": "stdout",
     "output_type": "stream",
     "text": [
      "Fitting 3 states...\n"
     ]
    },
    {
     "name": "stderr",
     "output_type": "stream",
     "text": [
      "Converged to LP: -502.9:   1%|          | 19/2000 [00:00<00:26, 74.47it/s]\n",
      "Converged to LP: -519.3:   1%|▏         | 29/2000 [00:00<00:27, 72.45it/s]\n",
      "Converged to LP: -509.1:   2%|▏         | 32/2000 [00:00<00:22, 87.36it/s]\n",
      "Converged to LP: -505.7:   3%|▎         | 56/2000 [00:00<00:21, 88.70it/s]\n",
      "Converged to LP: -519.0:   5%|▌         | 103/2000 [00:01<00:20, 91.15it/s]\n",
      "LP: -556.2:   0%|          | 0/2000 [00:00<?, ?it/s]"
     ]
    },
    {
     "name": "stdout",
     "output_type": "stream",
     "text": [
      "Fitting 4 states...\n"
     ]
    },
    {
     "name": "stderr",
     "output_type": "stream",
     "text": [
      "Converged to LP: -547.4:   1%|          | 19/2000 [00:00<00:31, 62.63it/s]\n",
      "Converged to LP: -534.0:   2%|▏         | 34/2000 [00:00<00:30, 65.41it/s]\n",
      "Converged to LP: -546.6:   3%|▎         | 56/2000 [00:00<00:28, 68.63it/s]\n",
      "Converged to LP: -535.9:   6%|▌         | 110/2000 [00:01<00:23, 79.21it/s]\n",
      "Converged to LP: -522.3:  10%|▉         | 191/2000 [00:02<00:24, 72.40it/s]\n",
      "LP: -580.4:   0%|          | 0/2000 [00:00<?, ?it/s]"
     ]
    },
    {
     "name": "stdout",
     "output_type": "stream",
     "text": [
      "Fitting 5 states...\n"
     ]
    },
    {
     "name": "stderr",
     "output_type": "stream",
     "text": [
      "Converged to LP: -562.5:   2%|▏         | 33/2000 [00:00<00:39, 50.21it/s]\n",
      "Converged to LP: -577.0:   3%|▎         | 54/2000 [00:01<00:36, 53.06it/s]\n",
      "Converged to LP: -572.6:   3%|▎         | 61/2000 [00:01<00:33, 57.56it/s]\n",
      "Converged to LP: -565.5:   4%|▎         | 73/2000 [00:01<00:31, 60.64it/s]\n",
      "Converged to LP: -549.7:   7%|▋         | 145/2000 [00:02<00:28, 64.82it/s]\n",
      "LP: -449.1:   0%|          | 0/2000 [00:00<?, ?it/s]"
     ]
    },
    {
     "name": "stdout",
     "output_type": "stream",
     "text": [
      "Fitting session 40...\n",
      "Fitting 2 states...\n"
     ]
    },
    {
     "name": "stderr",
     "output_type": "stream",
     "text": [
      "Converged to LP: -438.6:   1%|          | 12/2000 [00:00<00:22, 87.91it/s]\n",
      "Converged to LP: -437.5:   1%|          | 12/2000 [00:00<00:21, 93.35it/s]\n",
      "Converged to LP: -446.8:   1%|          | 13/2000 [00:00<00:22, 86.99it/s]\n",
      "Converged to LP: -446.0:   1%|          | 16/2000 [00:00<00:19, 100.94it/s]\n",
      "Converged to LP: -448.3:   2%|▏         | 32/2000 [00:00<00:17, 110.11it/s]\n",
      "LP: -466.6:   0%|          | 8/2000 [00:00<00:26, 75.75it/s]"
     ]
    },
    {
     "name": "stdout",
     "output_type": "stream",
     "text": [
      "Fitting 3 states...\n"
     ]
    },
    {
     "name": "stderr",
     "output_type": "stream",
     "text": [
      "Converged to LP: -473.5:   1%|          | 17/2000 [00:00<00:22, 88.31it/s]\n",
      "Converged to LP: -462.0:   1%|          | 16/2000 [00:00<00:26, 74.83it/s]\n",
      "Converged to LP: -466.6:   1%|▏         | 29/2000 [00:00<00:20, 95.43it/s]\n",
      "Converged to LP: -473.0:   1%|▏         | 28/2000 [00:00<00:23, 85.24it/s]\n",
      "Converged to LP: -472.5:   2%|▏         | 31/2000 [00:00<00:24, 79.74it/s]\n",
      "LP: -496.6:   0%|          | 6/2000 [00:00<00:37, 53.65it/s]"
     ]
    },
    {
     "name": "stdout",
     "output_type": "stream",
     "text": [
      "Fitting 4 states...\n"
     ]
    },
    {
     "name": "stderr",
     "output_type": "stream",
     "text": [
      "Converged to LP: -504.4:   1%|          | 15/2000 [00:00<00:33, 59.15it/s]\n",
      "Converged to LP: -488.7:   1%|▏         | 26/2000 [00:00<00:29, 67.38it/s]\n",
      "Converged to LP: -499.0:   2%|▏         | 42/2000 [00:00<00:26, 73.06it/s]\n",
      "Converged to LP: -492.7:   3%|▎         | 51/2000 [00:00<00:27, 71.81it/s]\n",
      "Converged to LP: -492.8:   4%|▎         | 71/2000 [00:00<00:24, 79.73it/s]\n",
      "LP: -527.9:   0%|          | 6/2000 [00:00<00:37, 53.79it/s]"
     ]
    },
    {
     "name": "stdout",
     "output_type": "stream",
     "text": [
      "Fitting 5 states...\n"
     ]
    },
    {
     "name": "stderr",
     "output_type": "stream",
     "text": [
      "Converged to LP: -531.5:   1%|          | 16/2000 [00:00<00:35, 55.36it/s]\n",
      "Converged to LP: -520.3:   1%|          | 18/2000 [00:00<00:41, 47.42it/s]\n",
      "Converged to LP: -521.2:   2%|▏         | 34/2000 [00:00<00:30, 65.50it/s]\n",
      "Converged to LP: -519.9:   2%|▏         | 38/2000 [00:00<00:30, 64.42it/s]\n",
      "Converged to LP: -526.2:   2%|▏         | 39/2000 [00:00<00:31, 62.35it/s]\n",
      "Converged to LP: -427.2:   0%|          | 7/2000 [00:00<00:19, 104.36it/s]\n",
      "Converged to LP: -410.5:   0%|          | 5/2000 [00:00<00:25, 79.32it/s]\n",
      "Converged to LP: -424.7:   0%|          | 6/2000 [00:00<00:18, 105.98it/s]\n",
      "LP: -429.7:   0%|          | 0/2000 [00:00<?, ?it/s]"
     ]
    },
    {
     "name": "stdout",
     "output_type": "stream",
     "text": [
      "Fitting session 41...\n",
      "Fitting 2 states...\n"
     ]
    },
    {
     "name": "stderr",
     "output_type": "stream",
     "text": [
      "Converged to LP: -417.5:   0%|          | 5/2000 [00:00<00:24, 80.56it/s]\n",
      "Converged to LP: -429.5:   0%|          | 10/2000 [00:00<00:18, 110.36it/s]\n",
      "LP: -457.1:   0%|          | 10/2000 [00:00<00:21, 92.79it/s]"
     ]
    },
    {
     "name": "stdout",
     "output_type": "stream",
     "text": [
      "Fitting 3 states...\n"
     ]
    },
    {
     "name": "stderr",
     "output_type": "stream",
     "text": [
      "Converged to LP: -440.5:   1%|          | 11/2000 [00:00<00:23, 83.36it/s]\n",
      "Converged to LP: -457.1:   1%|          | 14/2000 [00:00<00:21, 94.44it/s]\n",
      "Converged to LP: -459.1:   1%|          | 12/2000 [00:00<00:24, 81.70it/s]\n",
      "Converged to LP: -447.3:   1%|          | 16/2000 [00:00<00:24, 80.78it/s]\n",
      "Converged to LP: -452.3:   4%|▍         | 90/2000 [00:00<00:18, 103.36it/s]\n",
      "LP: -499.0:   0%|          | 0/2000 [00:00<?, ?it/s]"
     ]
    },
    {
     "name": "stdout",
     "output_type": "stream",
     "text": [
      "Fitting 4 states...\n"
     ]
    },
    {
     "name": "stderr",
     "output_type": "stream",
     "text": [
      "Converged to LP: -470.4:   1%|          | 18/2000 [00:00<00:32, 61.02it/s]\n",
      "Converged to LP: -477.1:   1%|          | 16/2000 [00:00<00:35, 56.68it/s]\n",
      "Converged to LP: -486.7:   1%|          | 19/2000 [00:00<00:33, 58.33it/s]\n",
      "Converged to LP: -486.1:   1%|▏         | 29/2000 [00:00<00:25, 77.12it/s]\n",
      "Converged to LP: -480.3:  10%|█         | 209/2000 [00:02<00:19, 93.20it/s]\n",
      "LP: -530.0:   0%|          | 0/2000 [00:00<?, ?it/s]"
     ]
    },
    {
     "name": "stdout",
     "output_type": "stream",
     "text": [
      "Fitting 5 states...\n"
     ]
    },
    {
     "name": "stderr",
     "output_type": "stream",
     "text": [
      "Converged to LP: -515.3:   2%|▏         | 33/2000 [00:00<00:32, 60.74it/s]\n",
      "Converged to LP: -509.0:   2%|▏         | 49/2000 [00:00<00:25, 76.56it/s]\n",
      "Converged to LP: -516.5:   2%|▏         | 44/2000 [00:00<00:30, 64.59it/s]\n",
      "Converged to LP: -501.7:   5%|▌         | 100/2000 [00:01<00:23, 80.80it/s]\n",
      "Converged to LP: -509.8:  11%|█         | 213/2000 [00:02<00:19, 89.74it/s]\n",
      "LP: -459.5:   0%|          | 0/2000 [00:00<?, ?it/s]"
     ]
    },
    {
     "name": "stdout",
     "output_type": "stream",
     "text": [
      "Fitting session 42...\n",
      "Fitting 2 states...\n"
     ]
    },
    {
     "name": "stderr",
     "output_type": "stream",
     "text": [
      "Converged to LP: -427.4:   1%|          | 13/2000 [00:00<00:23, 83.66it/s]\n",
      "Converged to LP: -411.5:   1%|          | 24/2000 [00:00<00:20, 96.44it/s]\n",
      "Converged to LP: -423.6:   1%|          | 22/2000 [00:00<00:20, 97.71it/s] \n",
      "Converged to LP: -421.9:   2%|▏         | 33/2000 [00:00<00:18, 105.04it/s]\n",
      "Converged to LP: -420.3:   3%|▎         | 52/2000 [00:00<00:16, 116.79it/s]\n",
      "LP: -440.3:   0%|          | 8/2000 [00:00<00:27, 71.43it/s]"
     ]
    },
    {
     "name": "stdout",
     "output_type": "stream",
     "text": [
      "Fitting 3 states...\n"
     ]
    },
    {
     "name": "stderr",
     "output_type": "stream",
     "text": [
      "Converged to LP: -455.5:   1%|▏         | 25/2000 [00:00<00:24, 81.86it/s]\n",
      "Converged to LP: -446.3:   2%|▏         | 47/2000 [00:00<00:21, 91.93it/s]\n",
      "Converged to LP: -449.1:   3%|▎         | 52/2000 [00:00<00:21, 91.10it/s]\n",
      "Converged to LP: -436.6:   3%|▎         | 69/2000 [00:00<00:22, 87.19it/s]\n",
      "Converged to LP: -450.7:   4%|▎         | 72/2000 [00:00<00:21, 90.52it/s]\n",
      "LP: -498.2:   0%|          | 0/2000 [00:00<?, ?it/s]"
     ]
    },
    {
     "name": "stdout",
     "output_type": "stream",
     "text": [
      "Fitting 4 states...\n"
     ]
    },
    {
     "name": "stderr",
     "output_type": "stream",
     "text": [
      "Converged to LP: -480.3:   1%|          | 13/2000 [00:00<00:28, 69.38it/s]\n",
      "Converged to LP: -481.8:   1%|          | 17/2000 [00:00<00:24, 79.47it/s]\n",
      "Converged to LP: -460.4:   2%|▏         | 45/2000 [00:00<00:25, 77.36it/s]\n",
      "Converged to LP: -471.4:   3%|▎         | 54/2000 [00:00<00:26, 73.55it/s]\n",
      "Converged to LP: -468.3:   7%|▋         | 131/2000 [00:01<00:20, 90.72it/s] \n",
      "LP: -493.7:   0%|          | 6/2000 [00:00<00:38, 52.27it/s]"
     ]
    },
    {
     "name": "stdout",
     "output_type": "stream",
     "text": [
      "Fitting 5 states...\n"
     ]
    },
    {
     "name": "stderr",
     "output_type": "stream",
     "text": [
      "Converged to LP: -510.4:   2%|▏         | 39/2000 [00:00<00:32, 59.44it/s]\n",
      "Converged to LP: -489.4:   2%|▏         | 45/2000 [00:00<00:33, 57.54it/s]\n",
      "Converged to LP: -507.0:   3%|▎         | 61/2000 [00:00<00:29, 65.14it/s]\n",
      "Converged to LP: -494.1:   4%|▎         | 73/2000 [00:01<00:30, 63.35it/s]\n",
      "Converged to LP: -497.3:  10%|▉         | 198/2000 [00:02<00:22, 78.50it/s]\n",
      "Converged to LP: -434.8:   0%|          | 9/2000 [00:00<00:17, 111.55it/s]\n",
      "LP: -426.8:   0%|          | 0/2000 [00:00<?, ?it/s]"
     ]
    },
    {
     "name": "stdout",
     "output_type": "stream",
     "text": [
      "Fitting session 43...\n",
      "Fitting 2 states...\n",
      "Fitting 3 states...\n"
     ]
    },
    {
     "name": "stderr",
     "output_type": "stream",
     "text": [
      "Converged to LP: -438.7:   0%|          | 8/2000 [00:00<00:18, 110.52it/s]\n",
      "Converged to LP: -435.1:   1%|          | 11/2000 [00:00<00:18, 110.47it/s]\n",
      "Converged to LP: -418.7:   0%|          | 9/2000 [00:00<00:17, 113.52it/s]\n",
      "Converged to LP: -426.2:   1%|          | 13/2000 [00:00<00:18, 107.29it/s]\n",
      "Converged to LP: -465.9:   1%|          | 12/2000 [00:00<00:26, 75.35it/s]\n",
      "Converged to LP: -460.0:   2%|▏         | 33/2000 [00:00<00:23, 85.12it/s]\n",
      "Converged to LP: -443.9:   2%|▏         | 31/2000 [00:00<00:23, 83.58it/s]\n",
      "Converged to LP: -464.1:   2%|▏         | 49/2000 [00:00<00:20, 94.90it/s]\n",
      "Converged to LP: -453.2:   3%|▎         | 61/2000 [00:00<00:19, 98.14it/s]\n",
      "LP: -508.7:   0%|          | 0/2000 [00:00<?, ?it/s]"
     ]
    },
    {
     "name": "stdout",
     "output_type": "stream",
     "text": [
      "Fitting 4 states...\n"
     ]
    },
    {
     "name": "stderr",
     "output_type": "stream",
     "text": [
      "Converged to LP: -472.1:   1%|          | 23/2000 [00:00<00:34, 56.89it/s]\n",
      "Converged to LP: -493.0:   1%|▏         | 27/2000 [00:00<00:32, 61.05it/s]\n",
      "Converged to LP: -485.5:   2%|▏         | 35/2000 [00:00<00:29, 67.47it/s]\n",
      "Converged to LP: -489.8:   4%|▍         | 85/2000 [00:01<00:24, 79.33it/s]\n",
      "Converged to LP: -479.8:   4%|▍         | 86/2000 [00:01<00:24, 79.06it/s]\n",
      "LP: -516.8:   0%|          | 0/2000 [00:00<?, ?it/s]"
     ]
    },
    {
     "name": "stdout",
     "output_type": "stream",
     "text": [
      "Fitting 5 states...\n"
     ]
    },
    {
     "name": "stderr",
     "output_type": "stream",
     "text": [
      "LP: -509.1:   1%|          | 11/2000 [00:00<00:37, 52.50it/s]4, 56.81it/s]\n",
      "Converged to LP: -508.7:   1%|▏         | 28/2000 [00:00<00:32, 61.01it/s]\n",
      "Converged to LP: -499.7:   1%|▏         | 29/2000 [00:00<00:33, 59.02it/s]\n",
      "Converged to LP: -508.7:   2%|▏         | 41/2000 [00:00<00:27, 71.53it/s]\n",
      "Converged to LP: -511.3:   6%|▌         | 117/2000 [00:01<00:25, 73.48it/s]\n",
      "Converged to LP: -354.7:   0%|          | 8/2000 [00:00<00:15, 132.24it/s]\n",
      "LP: -365.8:   0%|          | 0/2000 [00:00<?, ?it/s]"
     ]
    },
    {
     "name": "stdout",
     "output_type": "stream",
     "text": [
      "Fitting session 44...\n",
      "Fitting 2 states...\n"
     ]
    },
    {
     "name": "stderr",
     "output_type": "stream",
     "text": [
      "Converged to LP: -362.0:   1%|          | 15/2000 [00:00<00:13, 150.45it/s]\n",
      "Converged to LP: -346.3:   1%|          | 20/2000 [00:00<00:18, 107.12it/s]\n",
      "Converged to LP: -363.9:   2%|▏         | 40/2000 [00:00<00:17, 112.25it/s]\n",
      "Converged to LP: -358.6:   2%|▏         | 35/2000 [00:00<00:18, 104.49it/s]\n",
      "LP: -374.1:   0%|          | 7/2000 [00:00<00:29, 66.97it/s]"
     ]
    },
    {
     "name": "stdout",
     "output_type": "stream",
     "text": [
      "Fitting 3 states...\n"
     ]
    },
    {
     "name": "stderr",
     "output_type": "stream",
     "text": [
      "Converged to LP: -374.0:   1%|          | 13/2000 [00:00<00:25, 76.98it/s]\n",
      "Converged to LP: -373.4:   1%|          | 14/2000 [00:00<00:25, 76.47it/s]\n",
      "Converged to LP: -384.1:   1%|          | 18/2000 [00:00<00:27, 71.67it/s]\n",
      "Converged to LP: -374.8:   1%|          | 20/2000 [00:00<00:25, 77.89it/s]\n",
      "Converged to LP: -390.8:   3%|▎         | 69/2000 [00:00<00:19, 101.46it/s]\n",
      "LP: -427.4:   0%|          | 0/2000 [00:00<?, ?it/s]"
     ]
    },
    {
     "name": "stdout",
     "output_type": "stream",
     "text": [
      "Fitting 4 states...\n"
     ]
    },
    {
     "name": "stderr",
     "output_type": "stream",
     "text": [
      "Converged to LP: -404.7:   1%|          | 13/2000 [00:00<00:25, 77.89it/s]\n",
      "Converged to LP: -415.4:   1%|          | 13/2000 [00:00<00:24, 81.64it/s]\n",
      "Converged to LP: -406.1:   1%|          | 12/2000 [00:00<00:25, 79.38it/s]\n",
      "Converged to LP: -405.4:   1%|          | 15/2000 [00:00<00:24, 79.87it/s]\n",
      "Converged to LP: -421.6:   1%|          | 18/2000 [00:00<00:22, 87.38it/s]\n",
      "LP: -466.6:   0%|          | 0/2000 [00:00<?, ?it/s]"
     ]
    },
    {
     "name": "stdout",
     "output_type": "stream",
     "text": [
      "Fitting 5 states...\n"
     ]
    },
    {
     "name": "stderr",
     "output_type": "stream",
     "text": [
      "Converged to LP: -436.0:   1%|          | 14/2000 [00:00<00:32, 61.68it/s]\n",
      "Converged to LP: -437.4:   1%|          | 14/2000 [00:00<00:32, 61.74it/s]\n",
      "Converged to LP: -446.8:   1%|          | 16/2000 [00:00<00:31, 62.23it/s]\n",
      "Converged to LP: -436.7:   1%|          | 22/2000 [00:00<00:27, 71.89it/s]\n",
      "Converged to LP: -452.3:   2%|▏         | 39/2000 [00:00<00:26, 74.47it/s]\n",
      "Converged to LP: -417.4:   0%|          | 6/2000 [00:00<00:17, 113.33it/s]\n",
      "Converged to LP: -419.1:   0%|          | 8/2000 [00:00<00:16, 120.70it/s]\n",
      "Converged to LP: -414.8:   0%|          | 5/2000 [00:00<00:16, 124.58it/s]\n",
      "Converged to LP: -407.0:   0%|          | 7/2000 [00:00<00:16, 120.06it/s]\n",
      "Converged to LP: -411.1:   0%|          | 8/2000 [00:00<00:14, 133.48it/s]\n",
      "LP: -475.0:   0%|          | 0/2000 [00:00<?, ?it/s]"
     ]
    },
    {
     "name": "stdout",
     "output_type": "stream",
     "text": [
      "Fitting session 45...\n",
      "Fitting 2 states...\n",
      "Fitting 3 states...\n"
     ]
    },
    {
     "name": "stderr",
     "output_type": "stream",
     "text": [
      "Converged to LP: -443.6:   0%|          | 9/2000 [00:00<00:28, 69.79it/s]\n",
      "Converged to LP: -444.9:   0%|          | 9/2000 [00:00<00:29, 68.61it/s]\n",
      "Converged to LP: -433.9:   0%|          | 9/2000 [00:00<00:27, 71.86it/s]\n",
      "Converged to LP: -433.0:   1%|          | 11/2000 [00:00<00:25, 76.98it/s]\n",
      "Converged to LP: -441.8:   1%|          | 11/2000 [00:00<00:27, 71.32it/s]\n"
     ]
    },
    {
     "name": "stdout",
     "output_type": "stream",
     "text": [
      "Fitting 4 states...\n"
     ]
    },
    {
     "name": "stderr",
     "output_type": "stream",
     "text": [
      "Converged to LP: -473.5:   1%|          | 17/2000 [00:00<00:28, 69.76it/s]\n",
      "Converged to LP: -470.4:   1%|          | 15/2000 [00:00<00:29, 67.69it/s]\n",
      "Converged to LP: -475.1:   1%|          | 24/2000 [00:00<00:27, 71.17it/s]\n",
      "Converged to LP: -458.3:   2%|▏         | 38/2000 [00:00<00:24, 78.92it/s]\n",
      "Converged to LP: -462.9:   3%|▎         | 52/2000 [00:00<00:21, 90.12it/s]\n"
     ]
    },
    {
     "name": "stdout",
     "output_type": "stream",
     "text": [
      "Fitting 5 states...\n"
     ]
    },
    {
     "name": "stderr",
     "output_type": "stream",
     "text": [
      "Converged to LP: -495.1:   1%|          | 19/2000 [00:00<00:35, 56.40it/s]\n",
      "Converged to LP: -500.2:   1%|▏         | 27/2000 [00:00<00:33, 59.70it/s]\n",
      "Converged to LP: -487.2:   2%|▏         | 38/2000 [00:00<00:31, 62.53it/s]\n",
      "Converged to LP: -498.0:   2%|▏         | 41/2000 [00:00<00:29, 66.36it/s]\n",
      "Converged to LP: -484.9:   9%|▊         | 172/2000 [00:02<00:21, 83.24it/s] \n"
     ]
    }
   ],
   "source": [
    "# fit session-wise with 5 fold cross-validation\n",
    "models_session_state_fold, session_train_ll, session_test_ll = session_wise_fit_cv(observations=choices_session_wise, inputs=inputs_session_wise, masks=masks_session_wise,\n",
    "                                                                    n_sessions=len(session_metadata), init_params=init_params, n_iters=2000)"
   ]
  },
  {
   "cell_type": "code",
   "execution_count": 145,
   "metadata": {},
   "outputs": [],
   "source": [
    "session_wise_fits = {\n",
    "    'models': models_session_state_fold,\n",
    "    'train_ll': session_train_ll,\n",
    "    'test_ll': session_test_ll\n",
    "}\n",
    "\n",
    "with open(Path(processed_dir, 'models_glm_hmm_session_wise.pkl'), 'wb') as f:\n",
    "    pickle.dump(session_wise_fits, f)\n",
    "    "
   ]
  }
 ],
 "metadata": {
  "kernelspec": {
   "display_name": "Python 3",
   "language": "python",
   "name": "python3"
  },
  "language_info": {
   "codemirror_mode": {
    "name": "ipython",
    "version": 3
   },
   "file_extension": ".py",
   "mimetype": "text/x-python",
   "name": "python",
   "nbconvert_exporter": "python",
   "pygments_lexer": "ipython3",
   "version": "3.10.12"
  }
 },
 "nbformat": 4,
 "nbformat_minor": 2
}
