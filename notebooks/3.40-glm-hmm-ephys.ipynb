{
 "cells": [
  {
   "cell_type": "markdown",
   "metadata": {},
   "source": [
    "%matplotlib inline\n",
    "%load_ext autoreload\n",
    "%autoreload 2"
   ]
  },
  {
   "cell_type": "code",
   "execution_count": null,
   "metadata": {},
   "outputs": [],
   "source": [
    "import numpy as np\n",
    "import numpy.random as npr\n",
    "import pandas as pd\n",
    "import matplotlib.pyplot as plt\n",
    "import matplotlib.gridspec as gridspec  # Import for custom grid layout\n",
    "from scipy import stats\n",
    "from sklearn.model_selection import KFold\n",
    "import pickle\n",
    "import ssm\n",
    "\n",
    "from notebooks.imports import *\n",
    "from config import dir_config, main_config\n",
    "from src.utils import pmf_utils, plot_utils\n"
   ]
  },
  {
   "cell_type": "code",
   "execution_count": null,
   "metadata": {},
   "outputs": [],
   "source": [
    "compiled_dir = Path(dir_config.data.compiled)\n",
    "processed_dir = Path(dir_config.data.processed)"
   ]
  },
  {
   "cell_type": "markdown",
   "metadata": {},
   "source": [
    "## Utils"
   ]
  },
  {
   "cell_type": "markdown",
   "metadata": {},
   "source": [
    "## Load Data"
   ]
  },
  {
   "cell_type": "code",
   "execution_count": null,
   "metadata": {},
   "outputs": [],
   "source": [
    "neuron_metadata = pd.read_csv(Path(compiled_dir, 'neuron_metadata.csv'))\n",
    "\n",
    "with open(Path(processed_dir, f'glm_hmm_all_trials_final.pkl'), 'rb') as f:\n",
    "    glm_hmm = pickle.load(f)\n",
    "    \n",
    "with open(Path(processed_dir, f'ephys_neuron_wise.pkl'), 'rb') as f:\n",
    "    ephys = pickle.load(f)"
   ]
  },
  {
   "cell_type": "markdown",
   "metadata": {},
   "source": [
    "## Extract biased and unbiased states"
   ]
  },
  {
   "cell_type": "code",
   "execution_count": null,
   "metadata": {},
   "outputs": [],
   "source": [
    "bias_weights = []\n",
    "state_occupancy = {}\n",
    "for idx_session, session_id in enumerate(glm_hmm[\"session_wise\"][\"data\"]):\n",
    "    model = glm_hmm[\"session_wise\"][\"models\"][session_id]\n",
    "    glm_weights = -np.array(model.observations.params).reshape(2, -1)\n",
    "    prior_direction = 1 if glm_hmm[\"session_wise\"][\"data\"][session_id][\"prob_toRF\"].iloc[-1] > 50 else -1\n",
    "    glm_weights[:,1] = glm_weights[:,1]*prior_direction\n",
    "    if prior_direction == -1:\n",
    "        glm_weights = np.flip(glm_weights, axis=0)\n",
    "    bias_weights.append(glm_weights[:,1])\n",
    "    \n",
    "    \n",
    "    choices = glm_hmm[\"session_wise\"][\"data\"][session][\"choices\"].values.reshape(-1, 1)\n",
    "    input = np.array(glm_hmm[\"session_wise\"][\"data\"][session][[\"normalized_stimulus\",\"bias\",\"previous_choice\",\"previous_target\"]])\n",
    "    if glm_hmm[\"session_wise\"][\"data\"][session][\"mask\"] is None:\n",
    "        mask = None\n",
    "    else:\n",
    "        mask = glm_hmm[\"session_wise\"][\"data\"][session][\"mask\"]\n",
    "    mask = np.ones_like(choices, dtype=bool) if mask is None else mask\n",
    "    \n",
    "    posterior_probs = model.expected_states(data=glm_hmm[\"session_wise\"][\"data\"][session_id][\"choices\"], input=input, mask=np.array(mask).reshape(-1,1))[0]\n",
    "    \n",
    "    \n",
    "bias_weights = np.array(bias_weights)"
   ]
  },
  {
   "cell_type": "code",
   "execution_count": null,
   "metadata": {},
   "outputs": [],
   "source": [
    "plt.plot((bias_weights))"
   ]
  },
  {
   "cell_type": "code",
   "execution_count": null,
   "metadata": {},
   "outputs": [],
   "source": [
    "state_occupancy = {}\n",
    "for idx_session, session_id in enumerate(glm_hmm[\"session_wise\"][\"data\"]):\n",
    "    model = glm_hmm[\"session_wise\"][\"models\"][session_id]   \n",
    "    choices = glm_hmm[\"session_wise\"][\"data\"][session_id][\"choices\"].values.reshape(-1, 1)\n",
    "    input = np.array(glm_hmm[\"session_wise\"][\"data\"][session_id][[\"normalized_stimulus\",\"bias\",\"previous_choice\",\"previous_target\"]])\n",
    "    if glm_hmm[\"session_wise\"][\"data\"][session_id][\"mask\"] is None:\n",
    "        mask = None\n",
    "    else:\n",
    "        mask = glm_hmm[\"session_wise\"][\"data\"][session_id][\"mask\"]\n",
    "    mask = np.ones_like(choices, dtype=bool) if mask is None else mask\n",
    "    \n",
    "    posterior_probs = model.expected_states(data=choices, input=input, mask=np.array(mask).reshape(-1,1))[0]\n",
    "    biased_idx = (posterior_probs[:, 1] > 0.5) & np.array(mask)\n",
    "    unbiased_idx = (posterior_probs[:, 0] > 0.5) & np.array(mask)\n",
    "    state_occupancy[session_id] = {\n",
    "        \"biased_state_trials\": glm_hmm[\"session_wise\"][\"data\"][session_id][\"trial_num\"][biased_idx],\n",
    "        \"unbiased_state_trials\": glm_hmm[\"session_wise\"][\"data\"][session_id][\"trial_num\"][unbiased_idx]}\n",
    "    "
   ]
  },
  {
   "cell_type": "markdown",
   "metadata": {},
   "source": [
    "## Ephys!!!"
   ]
  },
  {
   "cell_type": "code",
   "execution_count": null,
   "metadata": {},
   "outputs": [],
   "source": [
    "ephys[\"target_onset\"][1].keys()"
   ]
  },
  {
   "cell_type": "code",
   "execution_count": null,
   "metadata": {},
   "outputs": [],
   "source": [
    "state_occupancy[\"210126_GP_JP\"][\"biased_state_trials\"]"
   ]
  },
  {
   "cell_type": "code",
   "execution_count": null,
   "metadata": {},
   "outputs": [],
   "source": [
    "def extract_neuronal_data(alignment, data_type=\"convolved_spike_trains\"):\n",
    "    neuronal_data = {\n",
    "        'biased_state': {},\n",
    "        'unbiased_state': {},\n",
    "    }\n",
    "    \n",
    "    for idx, neuron in enumerate(neuron_metadata.neuron_id):\n",
    "        session_id = neuron_metadata.session_id[idx]\n",
    "        biased_trials = np.array(state_occupancy[\"210126_GP_JP\"][\"biased_state_trials\"])\n",
    "        biased_idx = np.where(np.isin(np.array(ephys[alignment][neuron][\"trial_number\"]), biased_trials))[0]\n",
    "        unbiased_trials = np.array(state_occupancy[\"210126_GP_JP\"][\"unbiased_state_trials\"])\n",
    "        unbiased_idx = np.where(np.isin(np.array(ephys[alignment][neuron][\"trial_number\"]), unbiased_trials))[0]\n",
    "        \n",
    "        neuronal_data['biased_state'][neuron] = np.array(ephys[alignment][neuron][data_type][biased_idx])\n",
    "        neuronal_data['unbiased_state'][neuron] = np.array(ephys[alignment][neuron][data_type][unbiased_idx])\n",
    "    \n",
    "    return neuronal_data\n",
    "\n",
    "\n",
    "target_onset = extract_neuronal_data(\"target_onset\")"
   ]
  },
  {
   "cell_type": "code",
   "execution_count": null,
   "metadata": {},
   "outputs": [],
   "source": [
    "target_onset = extract_neuronal_data(\"target_onset\")\n",
    "stimulus_onset = extract_neuronal_data(\"stimulus_onset\")\n",
    "response_onset = extract_neuronal_data(\"response_onset\")"
   ]
  },
  {
   "cell_type": "code",
   "execution_count": null,
   "metadata": {},
   "outputs": [],
   "source": [
    "neuron = 170\n",
    "\n",
    "fig, ax = plt.subplots(1, 3, figsize=(15, 5))\n",
    "ax[0].plot(np.nanmean(target_onset[\"biased_state\"][neuron], axis=0), label=\"biased\")\n",
    "ax[0].plot(np.nanmean(target_onset[\"unbiased_state\"][neuron], axis=0), label=\"unbiased\")\n",
    "ax[0].vlines(200, 0, 10, color=\"black\", linestyle=\"--\", linewidth=1)\n",
    "ax[1].plot(np.nanmean(stimulus_onset[\"biased_state\"][neuron], axis=0), label=\"biased\")\n",
    "ax[1].plot(np.nanmean(stimulus_onset[\"unbiased_state\"][neuron], axis=0), label=\"unbiased\")\n",
    "ax[1].vlines(100, 0, 10, color=\"black\", linestyle=\"--\", linewidth=1)\n",
    "ax[2].plot(np.nanmean(response_onset[\"biased_state\"][neuron], axis=0), label=\"biased\")\n",
    "ax[2].plot(np.nanmean(response_onset[\"unbiased_state\"][neuron], axis=0), label=\"unbiased\")\n",
    "ax[2].vlines(300, 0, 10, color=\"black\", linestyle=\"--\", linewidth=1)\n",
    "ax[0].set_title(\"Target Onset\")\n",
    "ax[1].set_title(\"Stimulus Onset\")\n",
    "ax[2].set_title(\"Response Onset\")\n",
    "ax[2].legend(bbox_to_anchor=(1.05, 1), loc='upper left')"
   ]
  }
 ],
 "metadata": {
  "kernelspec": {
   "display_name": "Python 3",
   "language": "python",
   "name": "python3"
  },
  "language_info": {
   "codemirror_mode": {
    "name": "ipython",
    "version": 3
   },
   "file_extension": ".py",
   "mimetype": "text/x-python",
   "name": "python",
   "nbconvert_exporter": "python",
   "pygments_lexer": "ipython3",
   "version": "3.10.12"
  }
 },
 "nbformat": 4,
 "nbformat_minor": 2
}
