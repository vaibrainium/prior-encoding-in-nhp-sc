{
 "cells": [
  {
   "cell_type": "code",
   "execution_count": 1,
   "metadata": {},
   "outputs": [],
   "source": [
    "import numpy as np\n",
    "from pathlib import Path\n",
    "\n",
    "from kilosort import io\n",
    "\n",
    "import spikeinterface as si\n",
    "import spikeinterface.extractors as se\n"
   ]
  },
  {
   "cell_type": "markdown",
   "metadata": {},
   "source": [
    "# Import Blackrock data"
   ]
  },
  {
   "cell_type": "code",
   "execution_count": 2,
   "metadata": {},
   "outputs": [],
   "source": [
    "DATA_Directory = Path('/mnt/data/prior-encoding-in-nhp-sc')\n",
    "bin_data_dir = DATA_Directory / 'bin_data'"
   ]
  },
  {
   "cell_type": "code",
   "execution_count": 3,
   "metadata": {},
   "outputs": [],
   "source": [
    "# recording_blackrock = se.read_blackrock(folder_path=DATA_Directory / 'raw' / 'JP060121')\n",
    "\n",
    "recording_blackrock = se.read_blackrock(file_path=DATA_Directory / 'raw' / 'JP060121/JP060121GP002')\n",
    "\n"
   ]
  },
  {
   "cell_type": "code",
   "execution_count": 12,
   "metadata": {},
   "outputs": [],
   "source": [
    "\n",
    "dtype = np.int16\n",
    "filename, N, c, s, fs, probe_path = io.spikeinterface_to_binary(\n",
    "    recording_blackrock, bin_data_dir, data_name='data.bin', dtype=dtype,\n",
    "    chunksize=60000, export_probe=True, probe_name='probe.prb'\n",
    "    )"
   ]
  },
  {
   "cell_type": "markdown",
   "metadata": {},
   "source": [
    "### Run Kilosort"
   ]
  },
  {
   "cell_type": "code",
   "execution_count": 4,
   "metadata": {},
   "outputs": [],
   "source": [
    "fs = 30000\n",
    "n_chan_bin = 18"
   ]
  },
  {
   "cell_type": "code",
   "execution_count": 17,
   "metadata": {},
   "outputs": [
    {
     "name": "stdout",
     "output_type": "stream",
     "text": [
      "None\n"
     ]
    }
   ],
   "source": [
    "print(probe_path)"
   ]
  },
  {
   "cell_type": "code",
   "execution_count": 6,
   "metadata": {},
   "outputs": [
    {
     "name": "stderr",
     "output_type": "stream",
     "text": [
      "kilosort.run_kilosort: Kilosort version 4.0.12\n",
      "kilosort.run_kilosort: Sorting /mnt/data/prior-encoding-in-nhp-sc/bin_data/data.bin\n",
      "kilosort.run_kilosort: ----------------------------------------\n",
      "kilosort.run_kilosort: Interpreting binary file as default dtype='int16'. If data was saved in a different format, specify `data_dtype`.\n"
     ]
    },
    {
     "name": "stderr",
     "output_type": "stream",
     "text": [
      "kilosort.run_kilosort: Using GPU for PyTorch computations. Specify `device` to change this.\n",
      "kilosort.run_kilosort:  \n",
      "kilosort.run_kilosort: Computing preprocessing variables.\n",
      "kilosort.run_kilosort: ----------------------------------------\n",
      "kilosort.run_kilosort: Preprocessing filters computed in  8.09s; total  8.09s\n",
      "kilosort.run_kilosort:  \n",
      "kilosort.run_kilosort: Computing drift correction.\n",
      "kilosort.run_kilosort: ----------------------------------------\n",
      "kilosort.spikedetect: Re-computing universal templates from data.\n",
      "100%|██████████| 921/921 [01:53<00:00,  8.15it/s]\n",
      "kilosort.run_kilosort: drift computed in  117.63s; total  125.73s\n",
      "kilosort.run_kilosort:  \n",
      "kilosort.run_kilosort: Extracting spikes using templates\n",
      "kilosort.run_kilosort: ----------------------------------------\n",
      "kilosort.spikedetect: Re-computing universal templates from data.\n",
      "100%|██████████| 921/921 [01:53<00:00,  8.14it/s]\n",
      "kilosort.run_kilosort: 56198 spikes extracted in  118.06s; total  243.93s\n",
      "kilosort.run_kilosort:  \n",
      "kilosort.run_kilosort: First clustering\n",
      "kilosort.run_kilosort: ----------------------------------------\n",
      "100%|██████████| 8/8 [00:09<00:00,  1.23s/it]\n",
      "kilosort.run_kilosort: 24 clusters found, in  9.90s; total  253.83s\n",
      "kilosort.run_kilosort:  \n",
      "kilosort.run_kilosort: Extracting spikes using cluster waveforms\n",
      "kilosort.run_kilosort: ----------------------------------------\n",
      "100%|██████████| 921/921 [00:15<00:00, 58.56it/s] \n",
      "kilosort.run_kilosort: 590901 spikes extracted in  15.86s; total  269.69s\n",
      "kilosort.run_kilosort:  \n",
      "kilosort.run_kilosort: Final clustering\n",
      "kilosort.run_kilosort: ----------------------------------------\n",
      "100%|██████████| 8/8 [00:25<00:00,  3.21s/it]\n",
      "kilosort.run_kilosort: 25 clusters found, in  25.72s; total  295.42s\n",
      "kilosort.run_kilosort:  \n",
      "kilosort.run_kilosort: Merging clusters\n",
      "kilosort.run_kilosort: ----------------------------------------\n",
      "kilosort.run_kilosort: 23 units found, in  5.63s; total  301.05s\n",
      "kilosort.run_kilosort:  \n",
      "kilosort.run_kilosort: Saving to phy and computing refractory periods\n",
      "kilosort.run_kilosort: ----------------------------------------\n",
      "kilosort.run_kilosort: 13 units found with good refractory periods\n",
      "kilosort.run_kilosort: Total runtime: 316.47s = 00:05:16 h:m:s\n",
      "kilosort.run_kilosort: Sorting output saved in: /mnt/data/prior-encoding-in-nhp-sc/bin_data/kilosort4.\n"
     ]
    }
   ],
   "source": [
    "from kilosort import run_kilosort\n",
    "\n",
    "filename = '/mnt/data/prior-encoding-in-nhp-sc/bin_data/data.bin'\n",
    "settings = {'fs': fs, 'n_chan_bin': n_chan_bin}\n",
    "# probe_path = Path('/src/config/s-probe.json')\n",
    "probe_path = Path('/src/config/new-mapping-s-probe.json')\n",
    "dtype = np.int32\n",
    "\n",
    "assert probe_path is not None, 'No probe information exported by SpikeInterface'\n",
    "probe = io.load_probe(probe_path)\n",
    "\n",
    "ops, st, clu, tF, Wall, similar_templates, is_ref, est_contam_rate, kept_spikes = run_kilosort(\n",
    "        settings=settings, probe=probe, filename=filename\n",
    "        )"
   ]
  },
  {
   "cell_type": "code",
   "execution_count": null,
   "metadata": {},
   "outputs": [],
   "source": [
    "kilosort_path = Path('/mnt/data/prior-encoding-in-nhp-sc/bin_data/kilosort4')"
   ]
  },
  {
   "cell_type": "code",
   "execution_count": 24,
   "metadata": {},
   "outputs": [
    {
     "ename": "NameError",
     "evalue": "name 'phy' is not defined",
     "output_type": "error",
     "traceback": [
      "\u001b[0;31m---------------------------------------------------------------------------\u001b[0m",
      "\u001b[0;31mNameError\u001b[0m                                 Traceback (most recent call last)",
      "Cell \u001b[0;32mIn[24], line 1\u001b[0m\n\u001b[0;32m----> 1\u001b[0m \u001b[43mphy\u001b[49m\n",
      "\u001b[0;31mNameError\u001b[0m: name 'phy' is not defined"
     ]
    }
   ],
   "source": []
  }
 ],
 "metadata": {
  "kernelspec": {
   "display_name": "venv",
   "language": "python",
   "name": "python3"
  },
  "language_info": {
   "codemirror_mode": {
    "name": "ipython",
    "version": 3
   },
   "file_extension": ".py",
   "mimetype": "text/x-python",
   "name": "python",
   "nbconvert_exporter": "python",
   "pygments_lexer": "ipython3",
   "version": "3.10.12"
  }
 },
 "nbformat": 4,
 "nbformat_minor": 2
}
