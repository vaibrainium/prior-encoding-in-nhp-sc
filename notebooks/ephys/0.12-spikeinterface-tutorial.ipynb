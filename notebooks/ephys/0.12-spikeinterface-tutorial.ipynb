{
 "cells": [
  {
   "cell_type": "code",
   "execution_count": 11,
   "metadata": {},
   "outputs": [],
   "source": [
    "import numpy as np\n",
    "from pathlib import Path\n",
    "\n",
    "from kilosort import io\n",
    "\n",
    "import spikeinterface as si\n",
    "import spikeinterface.extractors as se\n"
   ]
  },
  {
   "cell_type": "markdown",
   "metadata": {},
   "source": [
    "# Import Blackrock data"
   ]
  },
  {
   "cell_type": "code",
   "execution_count": 6,
   "metadata": {},
   "outputs": [],
   "source": [
    "DATA_Directory = Path('/mnt/data/prior-encoding-in-nhp-sc')\n",
    "bin_data_dir = DATA_Directory / 'bin_data'"
   ]
  },
  {
   "cell_type": "code",
   "execution_count": 9,
   "metadata": {},
   "outputs": [],
   "source": [
    "# recording_blackrock = se.read_blackrock(folder_path=DATA_Directory / 'raw' / 'JP060121')\n",
    "\n",
    "recording_blackrock = se.read_blackrock(file_path=DATA_Directory / 'raw' / 'JP060121/JP060121GP002')\n",
    "\n"
   ]
  },
  {
   "cell_type": "code",
   "execution_count": 12,
   "metadata": {},
   "outputs": [],
   "source": [
    "\n",
    "dtype = np.int16\n",
    "filename, N, c, s, fs, probe_path = io.spikeinterface_to_binary(\n",
    "    recording_blackrock, bin_data_dir, data_name='data.bin', dtype=dtype,\n",
    "    chunksize=60000, export_probe=True, probe_name='probe.prb'\n",
    "    )"
   ]
  },
  {
   "cell_type": "markdown",
   "metadata": {},
   "source": [
    "### Run Kilosort"
   ]
  },
  {
   "cell_type": "code",
   "execution_count": 13,
   "metadata": {},
   "outputs": [],
   "source": [
    "fs = 30000\n",
    "n_chan_bin = 18"
   ]
  },
  {
   "cell_type": "code",
   "execution_count": 17,
   "metadata": {},
   "outputs": [
    {
     "name": "stdout",
     "output_type": "stream",
     "text": [
      "None\n"
     ]
    }
   ],
   "source": [
    "print(probe_path)"
   ]
  },
  {
   "cell_type": "code",
   "execution_count": 23,
   "metadata": {},
   "outputs": [
    {
     "name": "stderr",
     "output_type": "stream",
     "text": [
      "kilosort.run_kilosort: Kilosort version 4.0.12\n",
      "kilosort.run_kilosort: Sorting /mnt/data/prior-encoding-in-nhp-sc/bin_data/data.bin\n",
      "kilosort.run_kilosort: ----------------------------------------\n"
     ]
    },
    {
     "name": "stderr",
     "output_type": "stream",
     "text": [
      "kilosort.run_kilosort: Interpreting binary file as default dtype='int16'. If data was saved in a different format, specify `data_dtype`.\n",
      "kilosort.run_kilosort: Using GPU for PyTorch computations. Specify `device` to change this.\n",
      "kilosort.run_kilosort:  \n",
      "kilosort.run_kilosort: Computing preprocessing variables.\n",
      "kilosort.run_kilosort: ----------------------------------------\n",
      "kilosort.run_kilosort: Preprocessing filters computed in  7.62s; total  7.63s\n",
      "kilosort.run_kilosort:  \n",
      "kilosort.run_kilosort: Computing drift correction.\n",
      "kilosort.run_kilosort: ----------------------------------------\n",
      "kilosort.spikedetect: Re-computing universal templates from data.\n",
      "100%|██████████| 921/921 [02:21<00:00,  6.51it/s]\n",
      "kilosort.run_kilosort: drift computed in  148.60s; total  156.23s\n",
      "kilosort.run_kilosort:  \n",
      "kilosort.run_kilosort: Extracting spikes using templates\n",
      "kilosort.run_kilosort: ----------------------------------------\n",
      "kilosort.spikedetect: Re-computing universal templates from data.\n",
      "100%|██████████| 921/921 [01:32<00:00,  9.93it/s]\n",
      "kilosort.run_kilosort: 446515 spikes extracted in  97.47s; total  253.79s\n",
      "kilosort.run_kilosort:  \n",
      "kilosort.run_kilosort: First clustering\n",
      "kilosort.run_kilosort: ----------------------------------------\n",
      "100%|██████████| 8/8 [00:16<00:00,  2.09s/it]\n",
      "kilosort.run_kilosort: 67 clusters found, in  16.83s; total  270.62s\n",
      "kilosort.run_kilosort:  \n",
      "kilosort.run_kilosort: Extracting spikes using cluster waveforms\n",
      "kilosort.run_kilosort: ----------------------------------------\n",
      "100%|██████████| 921/921 [00:26<00:00, 35.21it/s]\n",
      "kilosort.run_kilosort: 811134 spikes extracted in  26.32s; total  296.94s\n",
      "kilosort.run_kilosort:  \n",
      "kilosort.run_kilosort: Final clustering\n",
      "kilosort.run_kilosort: ----------------------------------------\n",
      "100%|██████████| 8/8 [00:33<00:00,  4.19s/it]\n",
      "kilosort.run_kilosort: 61 clusters found, in  33.50s; total  330.45s\n",
      "kilosort.run_kilosort:  \n",
      "kilosort.run_kilosort: Merging clusters\n",
      "kilosort.run_kilosort: ----------------------------------------\n",
      "kilosort.run_kilosort: 53 units found, in  0.59s; total  331.04s\n",
      "kilosort.run_kilosort:  \n",
      "kilosort.run_kilosort: Saving to phy and computing refractory periods\n",
      "kilosort.run_kilosort: ----------------------------------------\n",
      "kilosort.run_kilosort: 24 units found with good refractory periods\n",
      "kilosort.run_kilosort: Total runtime: 340.37s = 00:05:40 h:m:s\n",
      "kilosort.run_kilosort: Sorting output saved in: /mnt/data/prior-encoding-in-nhp-sc/bin_data/kilosort4.\n"
     ]
    }
   ],
   "source": [
    "from kilosort import run_kilosort\n",
    "\n",
    "filename = '/mnt/data/prior-encoding-in-nhp-sc/bin_data/data.bin'\n",
    "settings = {'fs': fs, 'n_chan_bin': c}\n",
    "probe_path = Path('/src/config/s-probe.json')\n",
    "dtype = np.int32\n",
    "\n",
    "assert probe_path is not None, 'No probe information exported by SpikeInterface'\n",
    "probe = io.load_probe(probe_path)\n",
    "\n",
    "ops, st, clu, tF, Wall, similar_templates, is_ref, est_contam_rate, kept_spikes = run_kilosort(\n",
    "        settings=settings, probe=probe, filename=filename\n",
    "        )"
   ]
  },
  {
   "cell_type": "code",
   "execution_count": null,
   "metadata": {},
   "outputs": [],
   "source": [
    "kilosort_path = Path('/mnt/data/prior-encoding-in-nhp-sc/bin_data/kilosort4')"
   ]
  },
  {
   "cell_type": "code",
   "execution_count": 24,
   "metadata": {},
   "outputs": [
    {
     "ename": "NameError",
     "evalue": "name 'phy' is not defined",
     "output_type": "error",
     "traceback": [
      "\u001b[0;31m---------------------------------------------------------------------------\u001b[0m",
      "\u001b[0;31mNameError\u001b[0m                                 Traceback (most recent call last)",
      "Cell \u001b[0;32mIn[24], line 1\u001b[0m\n\u001b[0;32m----> 1\u001b[0m \u001b[43mphy\u001b[49m\n",
      "\u001b[0;31mNameError\u001b[0m: name 'phy' is not defined"
     ]
    }
   ],
   "source": []
  }
 ],
 "metadata": {
  "kernelspec": {
   "display_name": "venv",
   "language": "python",
   "name": "python3"
  },
  "language_info": {
   "codemirror_mode": {
    "name": "ipython",
    "version": 3
   },
   "file_extension": ".py",
   "mimetype": "text/x-python",
   "name": "python",
   "nbconvert_exporter": "python",
   "pygments_lexer": "ipython3",
   "version": "3.10.12"
  }
 },
 "nbformat": 4,
 "nbformat_minor": 2
}
