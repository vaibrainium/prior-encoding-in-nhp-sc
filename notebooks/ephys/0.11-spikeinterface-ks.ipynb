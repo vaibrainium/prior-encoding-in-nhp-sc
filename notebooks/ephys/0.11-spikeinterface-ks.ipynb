{
 "cells": [
  {
   "cell_type": "code",
   "execution_count": 11,
   "metadata": {},
   "outputs": [],
   "source": [
    "import numpy as np\n",
    "from pathlib import Path\n",
    "from omegaconf import OmegaConf\n",
    "\n",
    "from kilosort import run_kilosort\n",
    "import spikeinterface.extractors as se\n",
    "\n",
    "\n",
    "from src.utils import config_path\n"
   ]
  },
  {
   "cell_type": "markdown",
   "metadata": {},
   "source": [
    "### Load Configs"
   ]
  },
  {
   "cell_type": "code",
   "execution_count": 12,
   "metadata": {},
   "outputs": [],
   "source": [
    "# Load config\n",
    "dir_config = OmegaConf.load(config_path / 'dir-config.yaml')"
   ]
  },
  {
   "cell_type": "markdown",
   "metadata": {},
   "source": [
    "### Import Blackrock data"
   ]
  },
  {
   "cell_type": "code",
   "execution_count": 17,
   "metadata": {},
   "outputs": [],
   "source": [
    "DATA_Directory = Path(dir_config.data.base)\n",
    "bin_data_dir = DATA_Directory / 'bin_data'"
   ]
  },
  {
   "cell_type": "code",
   "execution_count": 3,
   "metadata": {},
   "outputs": [],
   "source": [
    "# recording_blackrock = se.read_blackrock(folder_path=DATA_Directory / 'raw' / 'JP060121')\n",
    "# recording_blackrock = se.read_blackrock(file_path=DATA_Directory / 'raw' / 'JP060121/JP060121GP002')\n",
    "date = '240625'\n",
    "file = \"Taz24_Jun25_GPrt_003\"\n",
    "\n",
    "\n",
    "session_path = DATA_Directory / 'raw' / date\n",
    "\n",
    "session_path.is_dir()\n",
    "\n",
    "\n",
    "recording_blackrock = se.read_blackrock(file_path=DATA_Directory /'raw/240625/Taz24_Jun25_GPrt_003', stream_id='5')\n",
    "\n"
   ]
  },
  {
   "cell_type": "code",
   "execution_count": 4,
   "metadata": {},
   "outputs": [],
   "source": [
    "\n",
    "dtype = np.int16\n",
    "filename, N, c, s, fs, probe_path = io.spikeinterface_to_binary(\n",
    "    recording_blackrock, bin_data_dir, data_name='Taz24_Jun25_GPrt_003.bin', dtype=dtype,\n",
    "    chunksize=60000, export_probe=True, probe_name='probe.prb'\n",
    "    )"
   ]
  },
  {
   "cell_type": "markdown",
   "metadata": {},
   "source": [
    "### Run Kilosort"
   ]
  },
  {
   "cell_type": "code",
   "execution_count": 10,
   "metadata": {},
   "outputs": [],
   "source": [
    "settings = {\n",
    "    'fs': 30000,\n",
    "    'n_chan_bin': 19,\n",
    "    'batch_size': 120000,\n",
    "    # 'nblocks': 1,\n",
    "    'min_template_size': 30,\n",
    "    'nearest_templates': 6,\n",
    "}"
   ]
  },
  {
   "cell_type": "code",
   "execution_count": 6,
   "metadata": {},
   "outputs": [
    {
     "name": "stdout",
     "output_type": "stream",
     "text": [
      "None\n"
     ]
    }
   ],
   "source": [
    "print(probe_path)"
   ]
  },
  {
   "cell_type": "code",
   "execution_count": 11,
   "metadata": {},
   "outputs": [
    {
     "name": "stderr",
     "output_type": "stream",
     "text": [
      "kilosort.run_kilosort: Kilosort version 4.0.12\n",
      "kilosort.run_kilosort: Kilosort version 4.0.12\n",
      "kilosort.run_kilosort: Kilosort version 4.0.12\n",
      "kilosort.run_kilosort: Sorting /mnt/data/prior-encoding-in-nhp-sc/bin_data/Taz24_Jun25_GPrt_003.bin\n",
      "kilosort.run_kilosort: Sorting /mnt/data/prior-encoding-in-nhp-sc/bin_data/Taz24_Jun25_GPrt_003.bin\n",
      "kilosort.run_kilosort: Sorting /mnt/data/prior-encoding-in-nhp-sc/bin_data/Taz24_Jun25_GPrt_003.bin\n",
      "kilosort.run_kilosort: ----------------------------------------\n"
     ]
    },
    {
     "name": "stderr",
     "output_type": "stream",
     "text": [
      "kilosort.run_kilosort: ----------------------------------------\n",
      "kilosort.run_kilosort: ----------------------------------------\n",
      "kilosort.run_kilosort: Interpreting binary file as default dtype='int16'. If data was saved in a different format, specify `data_dtype`.\n",
      "kilosort.run_kilosort: Interpreting binary file as default dtype='int16'. If data was saved in a different format, specify `data_dtype`.\n",
      "kilosort.run_kilosort: Interpreting binary file as default dtype='int16'. If data was saved in a different format, specify `data_dtype`.\n",
      "kilosort.run_kilosort: Using GPU for PyTorch computations. Specify `device` to change this.\n",
      "kilosort.run_kilosort: Using GPU for PyTorch computations. Specify `device` to change this.\n",
      "kilosort.run_kilosort: Using GPU for PyTorch computations. Specify `device` to change this.\n",
      "kilosort.run_kilosort:  \n",
      "kilosort.run_kilosort:  \n",
      "kilosort.run_kilosort:  \n",
      "kilosort.run_kilosort: Computing preprocessing variables.\n",
      "kilosort.run_kilosort: Computing preprocessing variables.\n",
      "kilosort.run_kilosort: Computing preprocessing variables.\n",
      "kilosort.run_kilosort: ----------------------------------------\n",
      "kilosort.run_kilosort: ----------------------------------------\n",
      "kilosort.run_kilosort: ----------------------------------------\n",
      "kilosort.run_kilosort: Preprocessing filters computed in  15.44s; total  15.44s\n",
      "kilosort.run_kilosort: Preprocessing filters computed in  15.44s; total  15.44s\n",
      "kilosort.run_kilosort: Preprocessing filters computed in  15.44s; total  15.44s\n",
      "kilosort.run_kilosort:  \n",
      "kilosort.run_kilosort:  \n",
      "kilosort.run_kilosort:  \n",
      "kilosort.run_kilosort: Computing drift correction.\n",
      "kilosort.run_kilosort: Computing drift correction.\n",
      "kilosort.run_kilosort: Computing drift correction.\n",
      "kilosort.run_kilosort: ----------------------------------------\n",
      "kilosort.run_kilosort: ----------------------------------------\n",
      "kilosort.run_kilosort: ----------------------------------------\n",
      "kilosort.spikedetect: Re-computing universal templates from data.\n",
      "kilosort.spikedetect: Re-computing universal templates from data.\n",
      "kilosort.spikedetect: Re-computing universal templates from data.\n",
      "100%|██████████| 1265/1265 [06:27<00:00,  3.26it/s]\n",
      "kilosort.run_kilosort: drift computed in  399.97s; total  415.41s\n",
      "kilosort.run_kilosort: drift computed in  399.97s; total  415.41s\n",
      "kilosort.run_kilosort: drift computed in  399.97s; total  415.41s\n",
      "kilosort.run_kilosort:  \n",
      "kilosort.run_kilosort:  \n",
      "kilosort.run_kilosort:  \n",
      "kilosort.run_kilosort: Extracting spikes using templates\n",
      "kilosort.run_kilosort: Extracting spikes using templates\n",
      "kilosort.run_kilosort: Extracting spikes using templates\n",
      "kilosort.run_kilosort: ----------------------------------------\n",
      "kilosort.run_kilosort: ----------------------------------------\n",
      "kilosort.run_kilosort: ----------------------------------------\n",
      "kilosort.spikedetect: Re-computing universal templates from data.\n",
      "kilosort.spikedetect: Re-computing universal templates from data.\n",
      "kilosort.spikedetect: Re-computing universal templates from data.\n",
      "100%|██████████| 1265/1265 [06:22<00:00,  3.30it/s]\n",
      "kilosort.run_kilosort: 537136 spikes extracted in  399.35s; total  815.11s\n",
      "kilosort.run_kilosort: 537136 spikes extracted in  399.35s; total  815.11s\n",
      "kilosort.run_kilosort: 537136 spikes extracted in  399.35s; total  815.11s\n",
      "kilosort.run_kilosort:  \n",
      "kilosort.run_kilosort:  \n",
      "kilosort.run_kilosort:  \n",
      "kilosort.run_kilosort: First clustering\n",
      "kilosort.run_kilosort: First clustering\n",
      "kilosort.run_kilosort: First clustering\n",
      "kilosort.run_kilosort: ----------------------------------------\n",
      "kilosort.run_kilosort: ----------------------------------------\n",
      "kilosort.run_kilosort: ----------------------------------------\n",
      "100%|██████████| 8/8 [00:27<00:00,  3.41s/it]\n",
      "kilosort.run_kilosort: 23 clusters found, in  27.43s; total  842.55s\n",
      "kilosort.run_kilosort: 23 clusters found, in  27.43s; total  842.55s\n",
      "kilosort.run_kilosort: 23 clusters found, in  27.43s; total  842.55s\n",
      "kilosort.run_kilosort:  \n",
      "kilosort.run_kilosort:  \n",
      "kilosort.run_kilosort:  \n",
      "kilosort.run_kilosort: Extracting spikes using cluster waveforms\n",
      "kilosort.run_kilosort: Extracting spikes using cluster waveforms\n",
      "kilosort.run_kilosort: Extracting spikes using cluster waveforms\n",
      "kilosort.run_kilosort: ----------------------------------------\n",
      "kilosort.run_kilosort: ----------------------------------------\n",
      "kilosort.run_kilosort: ----------------------------------------\n",
      "100%|██████████| 1265/1265 [00:34<00:00, 36.50it/s]\n",
      "kilosort.run_kilosort: 639103 spikes extracted in  34.77s; total  877.32s\n",
      "kilosort.run_kilosort: 639103 spikes extracted in  34.77s; total  877.32s\n",
      "kilosort.run_kilosort: 639103 spikes extracted in  34.77s; total  877.32s\n",
      "kilosort.run_kilosort:  \n",
      "kilosort.run_kilosort:  \n",
      "kilosort.run_kilosort:  \n",
      "kilosort.run_kilosort: Final clustering\n",
      "kilosort.run_kilosort: Final clustering\n",
      "kilosort.run_kilosort: Final clustering\n",
      "kilosort.run_kilosort: ----------------------------------------\n",
      "kilosort.run_kilosort: ----------------------------------------\n",
      "kilosort.run_kilosort: ----------------------------------------\n",
      "100%|██████████| 8/8 [00:29<00:00,  3.65s/it]\n",
      "kilosort.run_kilosort: 19 clusters found, in  29.25s; total  906.58s\n",
      "kilosort.run_kilosort: 19 clusters found, in  29.25s; total  906.58s\n",
      "kilosort.run_kilosort: 19 clusters found, in  29.25s; total  906.58s\n",
      "kilosort.run_kilosort:  \n",
      "kilosort.run_kilosort:  \n",
      "kilosort.run_kilosort:  \n",
      "kilosort.run_kilosort: Merging clusters\n",
      "kilosort.run_kilosort: Merging clusters\n",
      "kilosort.run_kilosort: Merging clusters\n",
      "kilosort.run_kilosort: ----------------------------------------\n",
      "kilosort.run_kilosort: ----------------------------------------\n",
      "kilosort.run_kilosort: ----------------------------------------\n",
      "kilosort.run_kilosort: 15 units found, in  0.42s; total  907.00s\n",
      "kilosort.run_kilosort: 15 units found, in  0.42s; total  907.00s\n",
      "kilosort.run_kilosort: 15 units found, in  0.42s; total  907.00s\n",
      "kilosort.run_kilosort:  \n",
      "kilosort.run_kilosort:  \n",
      "kilosort.run_kilosort:  \n",
      "kilosort.run_kilosort: Saving to phy and computing refractory periods\n",
      "kilosort.run_kilosort: Saving to phy and computing refractory periods\n",
      "kilosort.run_kilosort: Saving to phy and computing refractory periods\n",
      "kilosort.run_kilosort: ----------------------------------------\n",
      "kilosort.run_kilosort: ----------------------------------------\n",
      "kilosort.run_kilosort: ----------------------------------------\n",
      "kilosort.run_kilosort: 2 units found with good refractory periods\n",
      "kilosort.run_kilosort: 2 units found with good refractory periods\n",
      "kilosort.run_kilosort: 2 units found with good refractory periods\n",
      "kilosort.run_kilosort: Total runtime: 918.04s = 00:15:18 h:m:s\n",
      "kilosort.run_kilosort: Total runtime: 918.04s = 00:15:18 h:m:s\n",
      "kilosort.run_kilosort: Total runtime: 918.04s = 00:15:18 h:m:s\n",
      "kilosort.run_kilosort: Sorting output saved in: /mnt/data/prior-encoding-in-nhp-sc/bin_data/kilosort4.\n",
      "kilosort.run_kilosort: Sorting output saved in: /mnt/data/prior-encoding-in-nhp-sc/bin_data/kilosort4.\n",
      "kilosort.run_kilosort: Sorting output saved in: /mnt/data/prior-encoding-in-nhp-sc/bin_data/kilosort4.\n"
     ]
    }
   ],
   "source": [
    "\n",
    "\n",
    "filename = '/mnt/data/prior-encoding-in-nhp-sc/bin_data/Taz24_Jun25_GPrt_003.bin'\n",
    "\n",
    "# probe_path = Path('/src/config/s-probe.json')\n",
    "probe_path = Path('/src/config/new-mapping-s-probe.json')\n",
    "dtype = np.int32\n",
    "\n",
    "assert probe_path is not None, 'No probe information exported by SpikeInterface'\n",
    "probe = io.load_probe(probe_path)\n",
    "\n",
    "ops, st, clu, tF, Wall, similar_templates, is_ref, est_contam_rate, kept_spikes = run_kilosort(\n",
    "        settings=settings, probe=probe, filename=filename\n",
    "        )"
   ]
  },
  {
   "cell_type": "code",
   "execution_count": null,
   "metadata": {},
   "outputs": [],
   "source": [
    "kilosort_path = Path('/mnt/data/prior-encoding-in-nhp-sc/bin_data/kilosort4')"
   ]
  }
 ],
 "metadata": {
  "kernelspec": {
   "display_name": "venv",
   "language": "python",
   "name": "python3"
  },
  "language_info": {
   "codemirror_mode": {
    "name": "ipython",
    "version": 3
   },
   "file_extension": ".py",
   "mimetype": "text/x-python",
   "name": "python",
   "nbconvert_exporter": "python",
   "pygments_lexer": "ipython3",
   "version": "3.10.12"
  }
 },
 "nbformat": 4,
 "nbformat_minor": 2
}
