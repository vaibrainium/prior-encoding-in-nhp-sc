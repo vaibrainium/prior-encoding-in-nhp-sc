{
 "cells": [
  {
   "cell_type": "code",
   "execution_count": 1,
   "metadata": {},
   "outputs": [],
   "source": [
    "%matplotlib inline\n",
    "%load_ext autoreload\n",
    "%autoreload 2\n",
    "from notebooks.imports import *"
   ]
  },
  {
   "cell_type": "code",
   "execution_count": 6,
   "metadata": {},
   "outputs": [],
   "source": [
    "from kilosort import run_kilosort, io\n",
    "import spikeinterface.extractors as se"
   ]
  },
  {
   "cell_type": "markdown",
   "metadata": {},
   "source": [
    "### Load Configs"
   ]
  },
  {
   "cell_type": "code",
   "execution_count": 2,
   "metadata": {},
   "outputs": [],
   "source": [
    "from config import dir_config, main_config"
   ]
  },
  {
   "cell_type": "markdown",
   "metadata": {},
   "source": [
    "### Utils functions"
   ]
  },
  {
   "cell_type": "code",
   "execution_count": 9,
   "metadata": {},
   "outputs": [],
   "source": [
    "def convert_nsx_to_bin(nsx_path, nsx_name, bin_path, bin_name):\n",
    "    nsx_data = se.read_blackrock(file_path=Path(nsx_path, nsx_name), stream_id='5')\n",
    "        \n",
    "    filename, N, c, s, fs, probe_path = io.spikeinterface_to_binary(\n",
    "    nsx_data, bin_path, data_name=f\"{bin_name}.bin\", dtype=np.int16,\n",
    "    chunksize=60000, export_probe=True, probe_name='probe.prb'\n",
    "    )"
   ]
  },
  {
   "cell_type": "code",
   "execution_count": 12,
   "metadata": {},
   "outputs": [
    {
     "data": {
      "text/plain": [
       "'/mnt/prior-data/raw/210216_GP_JP'"
      ]
     },
     "execution_count": 12,
     "metadata": {},
     "output_type": "execute_result"
    }
   ],
   "source": [
    "folder_path"
   ]
  },
  {
   "cell_type": "code",
   "execution_count": 13,
   "metadata": {},
   "outputs": [
    {
     "ename": "OSError",
     "evalue": "No Blackrock files found in specified path",
     "output_type": "error",
     "traceback": [
      "\u001b[0;31m---------------------------------------------------------------------------\u001b[0m",
      "\u001b[0;31mOSError\u001b[0m                                   Traceback (most recent call last)",
      "Cell \u001b[0;32mIn[13], line 1\u001b[0m\n\u001b[0;32m----> 1\u001b[0m \u001b[43mse\u001b[49m\u001b[38;5;241;43m.\u001b[39;49m\u001b[43mread_blackrock\u001b[49m\u001b[43m(\u001b[49m\u001b[43mfile_path\u001b[49m\u001b[38;5;241;43m=\u001b[39;49m\u001b[38;5;124;43m'\u001b[39;49m\u001b[38;5;124;43m/mnt/prior-data/raw/210216_GP_JP/\u001b[39;49m\u001b[38;5;124;43m'\u001b[39;49m\u001b[43m,\u001b[49m\u001b[43m \u001b[49m\u001b[43mstream_id\u001b[49m\u001b[38;5;241;43m=\u001b[39;49m\u001b[38;5;124;43m'\u001b[39;49m\u001b[38;5;124;43m5\u001b[39;49m\u001b[38;5;124;43m'\u001b[39;49m\u001b[43m)\u001b[49m\n",
      "File \u001b[0;32m/usr/local/lib/python3.10/dist-packages/spikeinterface/extractors/neoextractors/blackrock.py:53\u001b[0m, in \u001b[0;36mBlackrockRecordingExtractor.__init__\u001b[0;34m(self, file_path, stream_id, stream_name, block_index, all_annotations, use_names_as_ids)\u001b[0m\n\u001b[1;32m     51\u001b[0m \u001b[38;5;28;01mif\u001b[39;00m \u001b[38;5;124m\"\u001b[39m\u001b[38;5;124m.ns\u001b[39m\u001b[38;5;124m\"\u001b[39m \u001b[38;5;129;01min\u001b[39;00m suffix:\n\u001b[1;32m     52\u001b[0m     neo_kwargs[\u001b[38;5;124m\"\u001b[39m\u001b[38;5;124mnsx_to_load\u001b[39m\u001b[38;5;124m\"\u001b[39m] \u001b[38;5;241m=\u001b[39m \u001b[38;5;28mint\u001b[39m(suffix[\u001b[38;5;241m-\u001b[39m\u001b[38;5;241m1\u001b[39m])\n\u001b[0;32m---> 53\u001b[0m \u001b[43mNeoBaseRecordingExtractor\u001b[49m\u001b[38;5;241;43m.\u001b[39;49m\u001b[38;5;21;43m__init__\u001b[39;49m\u001b[43m(\u001b[49m\n\u001b[1;32m     54\u001b[0m \u001b[43m    \u001b[49m\u001b[38;5;28;43mself\u001b[39;49m\u001b[43m,\u001b[49m\n\u001b[1;32m     55\u001b[0m \u001b[43m    \u001b[49m\u001b[43mstream_id\u001b[49m\u001b[38;5;241;43m=\u001b[39;49m\u001b[43mstream_id\u001b[49m\u001b[43m,\u001b[49m\n\u001b[1;32m     56\u001b[0m \u001b[43m    \u001b[49m\u001b[43mstream_name\u001b[49m\u001b[38;5;241;43m=\u001b[39;49m\u001b[43mstream_name\u001b[49m\u001b[43m,\u001b[49m\n\u001b[1;32m     57\u001b[0m \u001b[43m    \u001b[49m\u001b[43mall_annotations\u001b[49m\u001b[38;5;241;43m=\u001b[39;49m\u001b[43mall_annotations\u001b[49m\u001b[43m,\u001b[49m\n\u001b[1;32m     58\u001b[0m \u001b[43m    \u001b[49m\u001b[43muse_names_as_ids\u001b[49m\u001b[38;5;241;43m=\u001b[39;49m\u001b[43muse_names_as_ids\u001b[49m\u001b[43m,\u001b[49m\n\u001b[1;32m     59\u001b[0m \u001b[43m    \u001b[49m\u001b[38;5;241;43m*\u001b[39;49m\u001b[38;5;241;43m*\u001b[39;49m\u001b[43mneo_kwargs\u001b[49m\u001b[43m,\u001b[49m\n\u001b[1;32m     60\u001b[0m \u001b[43m\u001b[49m\u001b[43m)\u001b[49m\n\u001b[1;32m     61\u001b[0m \u001b[38;5;28mself\u001b[39m\u001b[38;5;241m.\u001b[39m_kwargs\u001b[38;5;241m.\u001b[39mupdate({\u001b[38;5;124m\"\u001b[39m\u001b[38;5;124mfile_path\u001b[39m\u001b[38;5;124m\"\u001b[39m: \u001b[38;5;28mstr\u001b[39m(Path(file_path)\u001b[38;5;241m.\u001b[39mabsolute())})\n",
      "File \u001b[0;32m/usr/local/lib/python3.10/dist-packages/spikeinterface/extractors/neoextractors/neobaseextractor.py:187\u001b[0m, in \u001b[0;36mNeoBaseRecordingExtractor.__init__\u001b[0;34m(self, stream_id, stream_name, block_index, all_annotations, use_names_as_ids, **neo_kwargs)\u001b[0m\n\u001b[1;32m    158\u001b[0m \u001b[38;5;28;01mdef\u001b[39;00m \u001b[38;5;21m__init__\u001b[39m(\n\u001b[1;32m    159\u001b[0m     \u001b[38;5;28mself\u001b[39m,\n\u001b[1;32m    160\u001b[0m     stream_id: Optional[\u001b[38;5;28mstr\u001b[39m] \u001b[38;5;241m=\u001b[39m \u001b[38;5;28;01mNone\u001b[39;00m,\n\u001b[0;32m   (...)\u001b[0m\n\u001b[1;32m    165\u001b[0m     \u001b[38;5;241m*\u001b[39m\u001b[38;5;241m*\u001b[39mneo_kwargs: Dict[\u001b[38;5;28mstr\u001b[39m, Any],\n\u001b[1;32m    166\u001b[0m ) \u001b[38;5;241m-\u001b[39m\u001b[38;5;241m>\u001b[39m \u001b[38;5;28;01mNone\u001b[39;00m:\n\u001b[1;32m    167\u001b[0m \u001b[38;5;250m    \u001b[39m\u001b[38;5;124;03m\"\"\"\u001b[39;00m\n\u001b[1;32m    168\u001b[0m \u001b[38;5;124;03m    Initialize a NeoBaseRecordingExtractor instance.\u001b[39;00m\n\u001b[1;32m    169\u001b[0m \n\u001b[0;32m   (...)\u001b[0m\n\u001b[1;32m    184\u001b[0m \n\u001b[1;32m    185\u001b[0m \u001b[38;5;124;03m    \"\"\"\u001b[39;00m\n\u001b[0;32m--> 187\u001b[0m     \u001b[43m_NeoBaseExtractor\u001b[49m\u001b[38;5;241;43m.\u001b[39;49m\u001b[38;5;21;43m__init__\u001b[39;49m\u001b[43m(\u001b[49m\u001b[38;5;28;43mself\u001b[39;49m\u001b[43m,\u001b[49m\u001b[43m \u001b[49m\u001b[43mblock_index\u001b[49m\u001b[43m,\u001b[49m\u001b[43m \u001b[49m\u001b[38;5;241;43m*\u001b[39;49m\u001b[38;5;241;43m*\u001b[39;49m\u001b[43mneo_kwargs\u001b[49m\u001b[43m)\u001b[49m\n\u001b[1;32m    189\u001b[0m     kwargs \u001b[38;5;241m=\u001b[39m \u001b[38;5;28mdict\u001b[39m(all_annotations\u001b[38;5;241m=\u001b[39mall_annotations)\n\u001b[1;32m    190\u001b[0m     \u001b[38;5;28;01mif\u001b[39;00m block_index \u001b[38;5;129;01mis\u001b[39;00m \u001b[38;5;129;01mnot\u001b[39;00m \u001b[38;5;28;01mNone\u001b[39;00m:\n",
      "File \u001b[0;32m/usr/local/lib/python3.10/dist-packages/spikeinterface/extractors/neoextractors/neobaseextractor.py:27\u001b[0m, in \u001b[0;36m_NeoBaseExtractor.__init__\u001b[0;34m(self, block_index, **neo_kwargs)\u001b[0m\n\u001b[1;32m     23\u001b[0m \u001b[38;5;28;01mdef\u001b[39;00m \u001b[38;5;21m__init__\u001b[39m(\u001b[38;5;28mself\u001b[39m, block_index, \u001b[38;5;241m*\u001b[39m\u001b[38;5;241m*\u001b[39mneo_kwargs):\n\u001b[1;32m     24\u001b[0m \n\u001b[1;32m     25\u001b[0m     \u001b[38;5;66;03m# Avoids double initiation of the neo reader if it was already done in the __init__ of the child class\u001b[39;00m\n\u001b[1;32m     26\u001b[0m     \u001b[38;5;28;01mif\u001b[39;00m \u001b[38;5;129;01mnot\u001b[39;00m \u001b[38;5;28mhasattr\u001b[39m(\u001b[38;5;28mself\u001b[39m, \u001b[38;5;124m\"\u001b[39m\u001b[38;5;124mneo_reader\u001b[39m\u001b[38;5;124m\"\u001b[39m):\n\u001b[0;32m---> 27\u001b[0m         \u001b[38;5;28mself\u001b[39m\u001b[38;5;241m.\u001b[39mneo_reader \u001b[38;5;241m=\u001b[39m \u001b[38;5;28;43mself\u001b[39;49m\u001b[38;5;241;43m.\u001b[39;49m\u001b[43mget_neo_io_reader\u001b[49m\u001b[43m(\u001b[49m\u001b[38;5;28;43mself\u001b[39;49m\u001b[38;5;241;43m.\u001b[39;49m\u001b[43mNeoRawIOClass\u001b[49m\u001b[43m,\u001b[49m\u001b[43m \u001b[49m\u001b[38;5;241;43m*\u001b[39;49m\u001b[38;5;241;43m*\u001b[39;49m\u001b[43mneo_kwargs\u001b[49m\u001b[43m)\u001b[49m\n\u001b[1;32m     29\u001b[0m     \u001b[38;5;28;01mif\u001b[39;00m \u001b[38;5;28mself\u001b[39m\u001b[38;5;241m.\u001b[39mneo_reader\u001b[38;5;241m.\u001b[39mblock_count() \u001b[38;5;241m>\u001b[39m \u001b[38;5;241m1\u001b[39m \u001b[38;5;129;01mand\u001b[39;00m block_index \u001b[38;5;129;01mis\u001b[39;00m \u001b[38;5;28;01mNone\u001b[39;00m:\n\u001b[1;32m     30\u001b[0m         \u001b[38;5;28;01mraise\u001b[39;00m \u001b[38;5;167;01mException\u001b[39;00m(\n\u001b[1;32m     31\u001b[0m             \u001b[38;5;124m\"\u001b[39m\u001b[38;5;124mThis dataset is multi-block. Spikeinterface can load one block at a time. \u001b[39m\u001b[38;5;124m\"\u001b[39m\n\u001b[1;32m     32\u001b[0m             \u001b[38;5;124m\"\u001b[39m\u001b[38;5;124mUse \u001b[39m\u001b[38;5;124m'\u001b[39m\u001b[38;5;124mblock_index\u001b[39m\u001b[38;5;124m'\u001b[39m\u001b[38;5;124m to select the block to be loaded.\u001b[39m\u001b[38;5;124m\"\u001b[39m\n\u001b[1;32m     33\u001b[0m         )\n",
      "File \u001b[0;32m/usr/local/lib/python3.10/dist-packages/spikeinterface/extractors/neoextractors/neobaseextractor.py:65\u001b[0m, in \u001b[0;36m_NeoBaseExtractor.get_neo_io_reader\u001b[0;34m(cls, raw_class, **neo_kwargs)\u001b[0m\n\u001b[1;32m     63\u001b[0m rawio_module \u001b[38;5;241m=\u001b[39m importlib\u001b[38;5;241m.\u001b[39mimport_module(\u001b[38;5;124m\"\u001b[39m\u001b[38;5;124mneo.rawio\u001b[39m\u001b[38;5;124m\"\u001b[39m)\n\u001b[1;32m     64\u001b[0m neoIOclass \u001b[38;5;241m=\u001b[39m \u001b[38;5;28mgetattr\u001b[39m(rawio_module, raw_class)\n\u001b[0;32m---> 65\u001b[0m neo_reader \u001b[38;5;241m=\u001b[39m \u001b[43mneoIOclass\u001b[49m\u001b[43m(\u001b[49m\u001b[38;5;241;43m*\u001b[39;49m\u001b[38;5;241;43m*\u001b[39;49m\u001b[43mneo_kwargs\u001b[49m\u001b[43m)\u001b[49m\n\u001b[1;32m     66\u001b[0m neo_reader\u001b[38;5;241m.\u001b[39mparse_header()\n\u001b[1;32m     68\u001b[0m \u001b[38;5;28;01mreturn\u001b[39;00m neo_reader\n",
      "File \u001b[0;32m/usr/local/lib/python3.10/dist-packages/neo/rawio/blackrockrawio.py:181\u001b[0m, in \u001b[0;36mBlackrockRawIO.__init__\u001b[0;34m(self, filename, nsx_override, nev_override, nsx_to_load, load_nev, verbose)\u001b[0m\n\u001b[1;32m    178\u001b[0m     \u001b[38;5;28mself\u001b[39m\u001b[38;5;241m.\u001b[39m_avail_files[\u001b[38;5;124m\"\u001b[39m\u001b[38;5;124mnev\u001b[39m\u001b[38;5;124m\"\u001b[39m] \u001b[38;5;241m=\u001b[39m \u001b[38;5;28;01mFalse\u001b[39;00m\n\u001b[1;32m    180\u001b[0m \u001b[38;5;28;01mif\u001b[39;00m \u001b[38;5;129;01mnot\u001b[39;00m \u001b[38;5;28mself\u001b[39m\u001b[38;5;241m.\u001b[39m_avail_files[\u001b[38;5;124m\"\u001b[39m\u001b[38;5;124mnev\u001b[39m\u001b[38;5;124m\"\u001b[39m] \u001b[38;5;129;01mand\u001b[39;00m \u001b[38;5;129;01mnot\u001b[39;00m \u001b[38;5;28mself\u001b[39m\u001b[38;5;241m.\u001b[39m_avail_nsx:\n\u001b[0;32m--> 181\u001b[0m     \u001b[38;5;28;01mraise\u001b[39;00m \u001b[38;5;167;01mIOError\u001b[39;00m(\u001b[38;5;124m\"\u001b[39m\u001b[38;5;124mNo Blackrock files found in specified path\u001b[39m\u001b[38;5;124m\"\u001b[39m)\n\u001b[1;32m    183\u001b[0m \u001b[38;5;66;03m# These dictionaries are used internally to map the file specification\u001b[39;00m\n\u001b[1;32m    184\u001b[0m \u001b[38;5;66;03m# revision of the nsx and nev files to one of the reading routines\u001b[39;00m\n\u001b[1;32m    185\u001b[0m \u001b[38;5;66;03m# NSX\u001b[39;00m\n\u001b[1;32m    186\u001b[0m \u001b[38;5;28mself\u001b[39m\u001b[38;5;241m.\u001b[39m__nsx_header_reader \u001b[38;5;241m=\u001b[39m {\n\u001b[1;32m    187\u001b[0m     \u001b[38;5;124m\"\u001b[39m\u001b[38;5;124m2.1\u001b[39m\u001b[38;5;124m\"\u001b[39m: \u001b[38;5;28mself\u001b[39m\u001b[38;5;241m.\u001b[39m__read_nsx_header_variant_a,\n\u001b[1;32m    188\u001b[0m     \u001b[38;5;124m\"\u001b[39m\u001b[38;5;124m2.2\u001b[39m\u001b[38;5;124m\"\u001b[39m: \u001b[38;5;28mself\u001b[39m\u001b[38;5;241m.\u001b[39m__read_nsx_header_variant_b,\n\u001b[1;32m    189\u001b[0m     \u001b[38;5;124m\"\u001b[39m\u001b[38;5;124m2.3\u001b[39m\u001b[38;5;124m\"\u001b[39m: \u001b[38;5;28mself\u001b[39m\u001b[38;5;241m.\u001b[39m__read_nsx_header_variant_b,\n\u001b[1;32m    190\u001b[0m     \u001b[38;5;124m\"\u001b[39m\u001b[38;5;124m3.0\u001b[39m\u001b[38;5;124m\"\u001b[39m: \u001b[38;5;28mself\u001b[39m\u001b[38;5;241m.\u001b[39m__read_nsx_header_variant_b,\n\u001b[1;32m    191\u001b[0m }\n",
      "\u001b[0;31mOSError\u001b[0m: No Blackrock files found in specified path"
     ]
    }
   ],
   "source": [
    "se.read_blackrock(file_path='/mnt/prior-data/raw/210216_GP_JP/', stream_id='5')"
   ]
  },
  {
   "cell_type": "markdown",
   "metadata": {},
   "source": [
    "### Covert blackrock (NSX) data to bin"
   ]
  },
  {
   "cell_type": "code",
   "execution_count": 10,
   "metadata": {},
   "outputs": [
    {
     "name": "stdout",
     "output_type": "stream",
     "text": [
      "/mnt/prior-data/raw/210216_GP_JP 210216_GP_JP\n"
     ]
    },
    {
     "ename": "OSError",
     "evalue": "No Blackrock files found in specified path",
     "output_type": "error",
     "traceback": [
      "\u001b[0;31m---------------------------------------------------------------------------\u001b[0m",
      "\u001b[0;31mOSError\u001b[0m                                   Traceback (most recent call last)",
      "Cell \u001b[0;32mIn[10], line 10\u001b[0m\n\u001b[1;32m      7\u001b[0m folder_name \u001b[38;5;241m=\u001b[39m folder\u001b[38;5;241m.\u001b[39mname\n\u001b[1;32m      8\u001b[0m \u001b[38;5;28mprint\u001b[39m(folder_path, folder_name)\n\u001b[0;32m---> 10\u001b[0m \u001b[43mconvert_nsx_to_bin\u001b[49m\u001b[43m(\u001b[49m\u001b[43mnsx_path\u001b[49m\u001b[38;5;241;43m=\u001b[39;49m\u001b[43mfolder_path\u001b[49m\u001b[43m,\u001b[49m\u001b[43m \u001b[49m\u001b[43mbin_path\u001b[49m\u001b[38;5;241;43m=\u001b[39;49m\u001b[43mfolder_path\u001b[49m\u001b[43m,\u001b[49m\u001b[43m \u001b[49m\u001b[43mbin_name\u001b[49m\u001b[38;5;241;43m=\u001b[39;49m\u001b[43mfolder_name\u001b[49m\u001b[43m)\u001b[49m\n",
      "Cell \u001b[0;32mIn[9], line 2\u001b[0m, in \u001b[0;36mconvert_nsx_to_bin\u001b[0;34m(nsx_path, bin_path, bin_name)\u001b[0m\n\u001b[1;32m      1\u001b[0m \u001b[38;5;28;01mdef\u001b[39;00m \u001b[38;5;21mconvert_nsx_to_bin\u001b[39m(nsx_path, bin_path, bin_name):\n\u001b[0;32m----> 2\u001b[0m     nsx_data \u001b[38;5;241m=\u001b[39m \u001b[43mse\u001b[49m\u001b[38;5;241;43m.\u001b[39;49m\u001b[43mread_blackrock\u001b[49m\u001b[43m(\u001b[49m\u001b[43mfile_path\u001b[49m\u001b[38;5;241;43m=\u001b[39;49m\u001b[43mnsx_path\u001b[49m\u001b[43m,\u001b[49m\u001b[43m \u001b[49m\u001b[43mstream_id\u001b[49m\u001b[38;5;241;43m=\u001b[39;49m\u001b[38;5;124;43m'\u001b[39;49m\u001b[38;5;124;43m5\u001b[39;49m\u001b[38;5;124;43m'\u001b[39;49m\u001b[43m)\u001b[49m\n\u001b[1;32m      4\u001b[0m     filename, N, c, s, fs, probe_path \u001b[38;5;241m=\u001b[39m io\u001b[38;5;241m.\u001b[39mspikeinterface_to_binary(\n\u001b[1;32m      5\u001b[0m     nsx_data, bin_path, data_name\u001b[38;5;241m=\u001b[39mbin_name, dtype\u001b[38;5;241m=\u001b[39mnp\u001b[38;5;241m.\u001b[39mint16,\n\u001b[1;32m      6\u001b[0m     chunksize\u001b[38;5;241m=\u001b[39m\u001b[38;5;241m60000\u001b[39m, export_probe\u001b[38;5;241m=\u001b[39m\u001b[38;5;28;01mTrue\u001b[39;00m, probe_name\u001b[38;5;241m=\u001b[39m\u001b[38;5;124m'\u001b[39m\u001b[38;5;124mprobe.prb\u001b[39m\u001b[38;5;124m'\u001b[39m\n\u001b[1;32m      7\u001b[0m     )\n",
      "File \u001b[0;32m/usr/local/lib/python3.10/dist-packages/spikeinterface/extractors/neoextractors/blackrock.py:53\u001b[0m, in \u001b[0;36mBlackrockRecordingExtractor.__init__\u001b[0;34m(self, file_path, stream_id, stream_name, block_index, all_annotations, use_names_as_ids)\u001b[0m\n\u001b[1;32m     51\u001b[0m \u001b[38;5;28;01mif\u001b[39;00m \u001b[38;5;124m\"\u001b[39m\u001b[38;5;124m.ns\u001b[39m\u001b[38;5;124m\"\u001b[39m \u001b[38;5;129;01min\u001b[39;00m suffix:\n\u001b[1;32m     52\u001b[0m     neo_kwargs[\u001b[38;5;124m\"\u001b[39m\u001b[38;5;124mnsx_to_load\u001b[39m\u001b[38;5;124m\"\u001b[39m] \u001b[38;5;241m=\u001b[39m \u001b[38;5;28mint\u001b[39m(suffix[\u001b[38;5;241m-\u001b[39m\u001b[38;5;241m1\u001b[39m])\n\u001b[0;32m---> 53\u001b[0m \u001b[43mNeoBaseRecordingExtractor\u001b[49m\u001b[38;5;241;43m.\u001b[39;49m\u001b[38;5;21;43m__init__\u001b[39;49m\u001b[43m(\u001b[49m\n\u001b[1;32m     54\u001b[0m \u001b[43m    \u001b[49m\u001b[38;5;28;43mself\u001b[39;49m\u001b[43m,\u001b[49m\n\u001b[1;32m     55\u001b[0m \u001b[43m    \u001b[49m\u001b[43mstream_id\u001b[49m\u001b[38;5;241;43m=\u001b[39;49m\u001b[43mstream_id\u001b[49m\u001b[43m,\u001b[49m\n\u001b[1;32m     56\u001b[0m \u001b[43m    \u001b[49m\u001b[43mstream_name\u001b[49m\u001b[38;5;241;43m=\u001b[39;49m\u001b[43mstream_name\u001b[49m\u001b[43m,\u001b[49m\n\u001b[1;32m     57\u001b[0m \u001b[43m    \u001b[49m\u001b[43mall_annotations\u001b[49m\u001b[38;5;241;43m=\u001b[39;49m\u001b[43mall_annotations\u001b[49m\u001b[43m,\u001b[49m\n\u001b[1;32m     58\u001b[0m \u001b[43m    \u001b[49m\u001b[43muse_names_as_ids\u001b[49m\u001b[38;5;241;43m=\u001b[39;49m\u001b[43muse_names_as_ids\u001b[49m\u001b[43m,\u001b[49m\n\u001b[1;32m     59\u001b[0m \u001b[43m    \u001b[49m\u001b[38;5;241;43m*\u001b[39;49m\u001b[38;5;241;43m*\u001b[39;49m\u001b[43mneo_kwargs\u001b[49m\u001b[43m,\u001b[49m\n\u001b[1;32m     60\u001b[0m \u001b[43m\u001b[49m\u001b[43m)\u001b[49m\n\u001b[1;32m     61\u001b[0m \u001b[38;5;28mself\u001b[39m\u001b[38;5;241m.\u001b[39m_kwargs\u001b[38;5;241m.\u001b[39mupdate({\u001b[38;5;124m\"\u001b[39m\u001b[38;5;124mfile_path\u001b[39m\u001b[38;5;124m\"\u001b[39m: \u001b[38;5;28mstr\u001b[39m(Path(file_path)\u001b[38;5;241m.\u001b[39mabsolute())})\n",
      "File \u001b[0;32m/usr/local/lib/python3.10/dist-packages/spikeinterface/extractors/neoextractors/neobaseextractor.py:187\u001b[0m, in \u001b[0;36mNeoBaseRecordingExtractor.__init__\u001b[0;34m(self, stream_id, stream_name, block_index, all_annotations, use_names_as_ids, **neo_kwargs)\u001b[0m\n\u001b[1;32m    158\u001b[0m \u001b[38;5;28;01mdef\u001b[39;00m \u001b[38;5;21m__init__\u001b[39m(\n\u001b[1;32m    159\u001b[0m     \u001b[38;5;28mself\u001b[39m,\n\u001b[1;32m    160\u001b[0m     stream_id: Optional[\u001b[38;5;28mstr\u001b[39m] \u001b[38;5;241m=\u001b[39m \u001b[38;5;28;01mNone\u001b[39;00m,\n\u001b[0;32m   (...)\u001b[0m\n\u001b[1;32m    165\u001b[0m     \u001b[38;5;241m*\u001b[39m\u001b[38;5;241m*\u001b[39mneo_kwargs: Dict[\u001b[38;5;28mstr\u001b[39m, Any],\n\u001b[1;32m    166\u001b[0m ) \u001b[38;5;241m-\u001b[39m\u001b[38;5;241m>\u001b[39m \u001b[38;5;28;01mNone\u001b[39;00m:\n\u001b[1;32m    167\u001b[0m \u001b[38;5;250m    \u001b[39m\u001b[38;5;124;03m\"\"\"\u001b[39;00m\n\u001b[1;32m    168\u001b[0m \u001b[38;5;124;03m    Initialize a NeoBaseRecordingExtractor instance.\u001b[39;00m\n\u001b[1;32m    169\u001b[0m \n\u001b[0;32m   (...)\u001b[0m\n\u001b[1;32m    184\u001b[0m \n\u001b[1;32m    185\u001b[0m \u001b[38;5;124;03m    \"\"\"\u001b[39;00m\n\u001b[0;32m--> 187\u001b[0m     \u001b[43m_NeoBaseExtractor\u001b[49m\u001b[38;5;241;43m.\u001b[39;49m\u001b[38;5;21;43m__init__\u001b[39;49m\u001b[43m(\u001b[49m\u001b[38;5;28;43mself\u001b[39;49m\u001b[43m,\u001b[49m\u001b[43m \u001b[49m\u001b[43mblock_index\u001b[49m\u001b[43m,\u001b[49m\u001b[43m \u001b[49m\u001b[38;5;241;43m*\u001b[39;49m\u001b[38;5;241;43m*\u001b[39;49m\u001b[43mneo_kwargs\u001b[49m\u001b[43m)\u001b[49m\n\u001b[1;32m    189\u001b[0m     kwargs \u001b[38;5;241m=\u001b[39m \u001b[38;5;28mdict\u001b[39m(all_annotations\u001b[38;5;241m=\u001b[39mall_annotations)\n\u001b[1;32m    190\u001b[0m     \u001b[38;5;28;01mif\u001b[39;00m block_index \u001b[38;5;129;01mis\u001b[39;00m \u001b[38;5;129;01mnot\u001b[39;00m \u001b[38;5;28;01mNone\u001b[39;00m:\n",
      "File \u001b[0;32m/usr/local/lib/python3.10/dist-packages/spikeinterface/extractors/neoextractors/neobaseextractor.py:27\u001b[0m, in \u001b[0;36m_NeoBaseExtractor.__init__\u001b[0;34m(self, block_index, **neo_kwargs)\u001b[0m\n\u001b[1;32m     23\u001b[0m \u001b[38;5;28;01mdef\u001b[39;00m \u001b[38;5;21m__init__\u001b[39m(\u001b[38;5;28mself\u001b[39m, block_index, \u001b[38;5;241m*\u001b[39m\u001b[38;5;241m*\u001b[39mneo_kwargs):\n\u001b[1;32m     24\u001b[0m \n\u001b[1;32m     25\u001b[0m     \u001b[38;5;66;03m# Avoids double initiation of the neo reader if it was already done in the __init__ of the child class\u001b[39;00m\n\u001b[1;32m     26\u001b[0m     \u001b[38;5;28;01mif\u001b[39;00m \u001b[38;5;129;01mnot\u001b[39;00m \u001b[38;5;28mhasattr\u001b[39m(\u001b[38;5;28mself\u001b[39m, \u001b[38;5;124m\"\u001b[39m\u001b[38;5;124mneo_reader\u001b[39m\u001b[38;5;124m\"\u001b[39m):\n\u001b[0;32m---> 27\u001b[0m         \u001b[38;5;28mself\u001b[39m\u001b[38;5;241m.\u001b[39mneo_reader \u001b[38;5;241m=\u001b[39m \u001b[38;5;28;43mself\u001b[39;49m\u001b[38;5;241;43m.\u001b[39;49m\u001b[43mget_neo_io_reader\u001b[49m\u001b[43m(\u001b[49m\u001b[38;5;28;43mself\u001b[39;49m\u001b[38;5;241;43m.\u001b[39;49m\u001b[43mNeoRawIOClass\u001b[49m\u001b[43m,\u001b[49m\u001b[43m \u001b[49m\u001b[38;5;241;43m*\u001b[39;49m\u001b[38;5;241;43m*\u001b[39;49m\u001b[43mneo_kwargs\u001b[49m\u001b[43m)\u001b[49m\n\u001b[1;32m     29\u001b[0m     \u001b[38;5;28;01mif\u001b[39;00m \u001b[38;5;28mself\u001b[39m\u001b[38;5;241m.\u001b[39mneo_reader\u001b[38;5;241m.\u001b[39mblock_count() \u001b[38;5;241m>\u001b[39m \u001b[38;5;241m1\u001b[39m \u001b[38;5;129;01mand\u001b[39;00m block_index \u001b[38;5;129;01mis\u001b[39;00m \u001b[38;5;28;01mNone\u001b[39;00m:\n\u001b[1;32m     30\u001b[0m         \u001b[38;5;28;01mraise\u001b[39;00m \u001b[38;5;167;01mException\u001b[39;00m(\n\u001b[1;32m     31\u001b[0m             \u001b[38;5;124m\"\u001b[39m\u001b[38;5;124mThis dataset is multi-block. Spikeinterface can load one block at a time. \u001b[39m\u001b[38;5;124m\"\u001b[39m\n\u001b[1;32m     32\u001b[0m             \u001b[38;5;124m\"\u001b[39m\u001b[38;5;124mUse \u001b[39m\u001b[38;5;124m'\u001b[39m\u001b[38;5;124mblock_index\u001b[39m\u001b[38;5;124m'\u001b[39m\u001b[38;5;124m to select the block to be loaded.\u001b[39m\u001b[38;5;124m\"\u001b[39m\n\u001b[1;32m     33\u001b[0m         )\n",
      "File \u001b[0;32m/usr/local/lib/python3.10/dist-packages/spikeinterface/extractors/neoextractors/neobaseextractor.py:65\u001b[0m, in \u001b[0;36m_NeoBaseExtractor.get_neo_io_reader\u001b[0;34m(cls, raw_class, **neo_kwargs)\u001b[0m\n\u001b[1;32m     63\u001b[0m rawio_module \u001b[38;5;241m=\u001b[39m importlib\u001b[38;5;241m.\u001b[39mimport_module(\u001b[38;5;124m\"\u001b[39m\u001b[38;5;124mneo.rawio\u001b[39m\u001b[38;5;124m\"\u001b[39m)\n\u001b[1;32m     64\u001b[0m neoIOclass \u001b[38;5;241m=\u001b[39m \u001b[38;5;28mgetattr\u001b[39m(rawio_module, raw_class)\n\u001b[0;32m---> 65\u001b[0m neo_reader \u001b[38;5;241m=\u001b[39m \u001b[43mneoIOclass\u001b[49m\u001b[43m(\u001b[49m\u001b[38;5;241;43m*\u001b[39;49m\u001b[38;5;241;43m*\u001b[39;49m\u001b[43mneo_kwargs\u001b[49m\u001b[43m)\u001b[49m\n\u001b[1;32m     66\u001b[0m neo_reader\u001b[38;5;241m.\u001b[39mparse_header()\n\u001b[1;32m     68\u001b[0m \u001b[38;5;28;01mreturn\u001b[39;00m neo_reader\n",
      "File \u001b[0;32m/usr/local/lib/python3.10/dist-packages/neo/rawio/blackrockrawio.py:181\u001b[0m, in \u001b[0;36mBlackrockRawIO.__init__\u001b[0;34m(self, filename, nsx_override, nev_override, nsx_to_load, load_nev, verbose)\u001b[0m\n\u001b[1;32m    178\u001b[0m     \u001b[38;5;28mself\u001b[39m\u001b[38;5;241m.\u001b[39m_avail_files[\u001b[38;5;124m\"\u001b[39m\u001b[38;5;124mnev\u001b[39m\u001b[38;5;124m\"\u001b[39m] \u001b[38;5;241m=\u001b[39m \u001b[38;5;28;01mFalse\u001b[39;00m\n\u001b[1;32m    180\u001b[0m \u001b[38;5;28;01mif\u001b[39;00m \u001b[38;5;129;01mnot\u001b[39;00m \u001b[38;5;28mself\u001b[39m\u001b[38;5;241m.\u001b[39m_avail_files[\u001b[38;5;124m\"\u001b[39m\u001b[38;5;124mnev\u001b[39m\u001b[38;5;124m\"\u001b[39m] \u001b[38;5;129;01mand\u001b[39;00m \u001b[38;5;129;01mnot\u001b[39;00m \u001b[38;5;28mself\u001b[39m\u001b[38;5;241m.\u001b[39m_avail_nsx:\n\u001b[0;32m--> 181\u001b[0m     \u001b[38;5;28;01mraise\u001b[39;00m \u001b[38;5;167;01mIOError\u001b[39;00m(\u001b[38;5;124m\"\u001b[39m\u001b[38;5;124mNo Blackrock files found in specified path\u001b[39m\u001b[38;5;124m\"\u001b[39m)\n\u001b[1;32m    183\u001b[0m \u001b[38;5;66;03m# These dictionaries are used internally to map the file specification\u001b[39;00m\n\u001b[1;32m    184\u001b[0m \u001b[38;5;66;03m# revision of the nsx and nev files to one of the reading routines\u001b[39;00m\n\u001b[1;32m    185\u001b[0m \u001b[38;5;66;03m# NSX\u001b[39;00m\n\u001b[1;32m    186\u001b[0m \u001b[38;5;28mself\u001b[39m\u001b[38;5;241m.\u001b[39m__nsx_header_reader \u001b[38;5;241m=\u001b[39m {\n\u001b[1;32m    187\u001b[0m     \u001b[38;5;124m\"\u001b[39m\u001b[38;5;124m2.1\u001b[39m\u001b[38;5;124m\"\u001b[39m: \u001b[38;5;28mself\u001b[39m\u001b[38;5;241m.\u001b[39m__read_nsx_header_variant_a,\n\u001b[1;32m    188\u001b[0m     \u001b[38;5;124m\"\u001b[39m\u001b[38;5;124m2.2\u001b[39m\u001b[38;5;124m\"\u001b[39m: \u001b[38;5;28mself\u001b[39m\u001b[38;5;241m.\u001b[39m__read_nsx_header_variant_b,\n\u001b[1;32m    189\u001b[0m     \u001b[38;5;124m\"\u001b[39m\u001b[38;5;124m2.3\u001b[39m\u001b[38;5;124m\"\u001b[39m: \u001b[38;5;28mself\u001b[39m\u001b[38;5;241m.\u001b[39m__read_nsx_header_variant_b,\n\u001b[1;32m    190\u001b[0m     \u001b[38;5;124m\"\u001b[39m\u001b[38;5;124m3.0\u001b[39m\u001b[38;5;124m\"\u001b[39m: \u001b[38;5;28mself\u001b[39m\u001b[38;5;241m.\u001b[39m__read_nsx_header_variant_b,\n\u001b[1;32m    191\u001b[0m }\n",
      "\u001b[0;31mOSError\u001b[0m: No Blackrock files found in specified path"
     ]
    }
   ],
   "source": [
    "raw_dir = dir_config.data.raw\n",
    "\n",
    "# loop through all folders in raw data directory using Path\n",
    "for folder in Path(raw_dir).iterdir():\n",
    "    # get folder path, folder name and bin path\n",
    "    folder_path = str(folder)\n",
    "    folder_name = folder.name\n",
    "    print(folder_path, folder_name)\n",
    "    \n",
    "    convert_nsx_to_bin(nsx_path=folder_path, bin_path=folder_path, bin_name=folder_name)"
   ]
  },
  {
   "cell_type": "markdown",
   "metadata": {},
   "source": [
    "### Import Blackrock data"
   ]
  },
  {
   "cell_type": "code",
   "execution_count": 17,
   "metadata": {},
   "outputs": [],
   "source": [
    "DATA_Directory = Path(dir_config.data.base)\n",
    "bin_data_dir = DATA_Directory / 'bin_data'"
   ]
  },
  {
   "cell_type": "code",
   "execution_count": 3,
   "metadata": {},
   "outputs": [],
   "source": [
    "# recording_blackrock = se.read_blackrock(folder_path=DATA_Directory / 'raw' / 'JP060121')\n",
    "# recording_blackrock = se.read_blackrock(file_path=DATA_Directory / 'raw' / 'JP060121/JP060121GP002')\n",
    "date = '240625'\n",
    "file = \"Taz24_Jun25_GPrt_003\"\n",
    "\n",
    "\n",
    "session_path = DATA_Directory / 'raw' / date\n",
    "\n",
    "session_path.is_dir()\n",
    "\n",
    "\n",
    "recording_blackrock = se.read_blackrock(file_path=DATA_Directory /'raw/240625/Taz24_Jun25_GPrt_003', stream_id='5')\n",
    "\n"
   ]
  },
  {
   "cell_type": "code",
   "execution_count": 4,
   "metadata": {},
   "outputs": [],
   "source": [
    "\n",
    "dtype = np.int16\n",
    "filename, N, c, s, fs, probe_path = io.spikeinterface_to_binary(\n",
    "    recording_blackrock, bin_data_dir, data_name='Taz24_Jun25_GPrt_003.bin', dtype=dtype,\n",
    "    chunksize=60000, export_probe=True, probe_name='probe.prb'\n",
    "    )"
   ]
  },
  {
   "cell_type": "markdown",
   "metadata": {},
   "source": [
    "### Run Kilosort"
   ]
  },
  {
   "cell_type": "code",
   "execution_count": 10,
   "metadata": {},
   "outputs": [],
   "source": [
    "settings = {\n",
    "    'fs': 30000,\n",
    "    'n_chan_bin': 19,\n",
    "    'batch_size': 120000,\n",
    "    # 'nblocks': 1,\n",
    "    'min_template_size': 30,\n",
    "    'nearest_templates': 6,\n",
    "}"
   ]
  },
  {
   "cell_type": "code",
   "execution_count": 6,
   "metadata": {},
   "outputs": [
    {
     "name": "stdout",
     "output_type": "stream",
     "text": [
      "None\n"
     ]
    }
   ],
   "source": [
    "print(probe_path)"
   ]
  },
  {
   "cell_type": "code",
   "execution_count": 11,
   "metadata": {},
   "outputs": [
    {
     "name": "stderr",
     "output_type": "stream",
     "text": [
      "kilosort.run_kilosort: Kilosort version 4.0.12\n",
      "kilosort.run_kilosort: Kilosort version 4.0.12\n",
      "kilosort.run_kilosort: Kilosort version 4.0.12\n",
      "kilosort.run_kilosort: Sorting /mnt/data/prior-encoding-in-nhp-sc/bin_data/Taz24_Jun25_GPrt_003.bin\n",
      "kilosort.run_kilosort: Sorting /mnt/data/prior-encoding-in-nhp-sc/bin_data/Taz24_Jun25_GPrt_003.bin\n",
      "kilosort.run_kilosort: Sorting /mnt/data/prior-encoding-in-nhp-sc/bin_data/Taz24_Jun25_GPrt_003.bin\n",
      "kilosort.run_kilosort: ----------------------------------------\n"
     ]
    },
    {
     "name": "stderr",
     "output_type": "stream",
     "text": [
      "kilosort.run_kilosort: ----------------------------------------\n",
      "kilosort.run_kilosort: ----------------------------------------\n",
      "kilosort.run_kilosort: Interpreting binary file as default dtype='int16'. If data was saved in a different format, specify `data_dtype`.\n",
      "kilosort.run_kilosort: Interpreting binary file as default dtype='int16'. If data was saved in a different format, specify `data_dtype`.\n",
      "kilosort.run_kilosort: Interpreting binary file as default dtype='int16'. If data was saved in a different format, specify `data_dtype`.\n",
      "kilosort.run_kilosort: Using GPU for PyTorch computations. Specify `device` to change this.\n",
      "kilosort.run_kilosort: Using GPU for PyTorch computations. Specify `device` to change this.\n",
      "kilosort.run_kilosort: Using GPU for PyTorch computations. Specify `device` to change this.\n",
      "kilosort.run_kilosort:  \n",
      "kilosort.run_kilosort:  \n",
      "kilosort.run_kilosort:  \n",
      "kilosort.run_kilosort: Computing preprocessing variables.\n",
      "kilosort.run_kilosort: Computing preprocessing variables.\n",
      "kilosort.run_kilosort: Computing preprocessing variables.\n",
      "kilosort.run_kilosort: ----------------------------------------\n",
      "kilosort.run_kilosort: ----------------------------------------\n",
      "kilosort.run_kilosort: ----------------------------------------\n",
      "kilosort.run_kilosort: Preprocessing filters computed in  15.44s; total  15.44s\n",
      "kilosort.run_kilosort: Preprocessing filters computed in  15.44s; total  15.44s\n",
      "kilosort.run_kilosort: Preprocessing filters computed in  15.44s; total  15.44s\n",
      "kilosort.run_kilosort:  \n",
      "kilosort.run_kilosort:  \n",
      "kilosort.run_kilosort:  \n",
      "kilosort.run_kilosort: Computing drift correction.\n",
      "kilosort.run_kilosort: Computing drift correction.\n",
      "kilosort.run_kilosort: Computing drift correction.\n",
      "kilosort.run_kilosort: ----------------------------------------\n",
      "kilosort.run_kilosort: ----------------------------------------\n",
      "kilosort.run_kilosort: ----------------------------------------\n",
      "kilosort.spikedetect: Re-computing universal templates from data.\n",
      "kilosort.spikedetect: Re-computing universal templates from data.\n",
      "kilosort.spikedetect: Re-computing universal templates from data.\n",
      "100%|██████████| 1265/1265 [06:27<00:00,  3.26it/s]\n",
      "kilosort.run_kilosort: drift computed in  399.97s; total  415.41s\n",
      "kilosort.run_kilosort: drift computed in  399.97s; total  415.41s\n",
      "kilosort.run_kilosort: drift computed in  399.97s; total  415.41s\n",
      "kilosort.run_kilosort:  \n",
      "kilosort.run_kilosort:  \n",
      "kilosort.run_kilosort:  \n",
      "kilosort.run_kilosort: Extracting spikes using templates\n",
      "kilosort.run_kilosort: Extracting spikes using templates\n",
      "kilosort.run_kilosort: Extracting spikes using templates\n",
      "kilosort.run_kilosort: ----------------------------------------\n",
      "kilosort.run_kilosort: ----------------------------------------\n",
      "kilosort.run_kilosort: ----------------------------------------\n",
      "kilosort.spikedetect: Re-computing universal templates from data.\n",
      "kilosort.spikedetect: Re-computing universal templates from data.\n",
      "kilosort.spikedetect: Re-computing universal templates from data.\n",
      "100%|██████████| 1265/1265 [06:22<00:00,  3.30it/s]\n",
      "kilosort.run_kilosort: 537136 spikes extracted in  399.35s; total  815.11s\n",
      "kilosort.run_kilosort: 537136 spikes extracted in  399.35s; total  815.11s\n",
      "kilosort.run_kilosort: 537136 spikes extracted in  399.35s; total  815.11s\n",
      "kilosort.run_kilosort:  \n",
      "kilosort.run_kilosort:  \n",
      "kilosort.run_kilosort:  \n",
      "kilosort.run_kilosort: First clustering\n",
      "kilosort.run_kilosort: First clustering\n",
      "kilosort.run_kilosort: First clustering\n",
      "kilosort.run_kilosort: ----------------------------------------\n",
      "kilosort.run_kilosort: ----------------------------------------\n",
      "kilosort.run_kilosort: ----------------------------------------\n",
      "100%|██████████| 8/8 [00:27<00:00,  3.41s/it]\n",
      "kilosort.run_kilosort: 23 clusters found, in  27.43s; total  842.55s\n",
      "kilosort.run_kilosort: 23 clusters found, in  27.43s; total  842.55s\n",
      "kilosort.run_kilosort: 23 clusters found, in  27.43s; total  842.55s\n",
      "kilosort.run_kilosort:  \n",
      "kilosort.run_kilosort:  \n",
      "kilosort.run_kilosort:  \n",
      "kilosort.run_kilosort: Extracting spikes using cluster waveforms\n",
      "kilosort.run_kilosort: Extracting spikes using cluster waveforms\n",
      "kilosort.run_kilosort: Extracting spikes using cluster waveforms\n",
      "kilosort.run_kilosort: ----------------------------------------\n",
      "kilosort.run_kilosort: ----------------------------------------\n",
      "kilosort.run_kilosort: ----------------------------------------\n",
      "100%|██████████| 1265/1265 [00:34<00:00, 36.50it/s]\n",
      "kilosort.run_kilosort: 639103 spikes extracted in  34.77s; total  877.32s\n",
      "kilosort.run_kilosort: 639103 spikes extracted in  34.77s; total  877.32s\n",
      "kilosort.run_kilosort: 639103 spikes extracted in  34.77s; total  877.32s\n",
      "kilosort.run_kilosort:  \n",
      "kilosort.run_kilosort:  \n",
      "kilosort.run_kilosort:  \n",
      "kilosort.run_kilosort: Final clustering\n",
      "kilosort.run_kilosort: Final clustering\n",
      "kilosort.run_kilosort: Final clustering\n",
      "kilosort.run_kilosort: ----------------------------------------\n",
      "kilosort.run_kilosort: ----------------------------------------\n",
      "kilosort.run_kilosort: ----------------------------------------\n",
      "100%|██████████| 8/8 [00:29<00:00,  3.65s/it]\n",
      "kilosort.run_kilosort: 19 clusters found, in  29.25s; total  906.58s\n",
      "kilosort.run_kilosort: 19 clusters found, in  29.25s; total  906.58s\n",
      "kilosort.run_kilosort: 19 clusters found, in  29.25s; total  906.58s\n",
      "kilosort.run_kilosort:  \n",
      "kilosort.run_kilosort:  \n",
      "kilosort.run_kilosort:  \n",
      "kilosort.run_kilosort: Merging clusters\n",
      "kilosort.run_kilosort: Merging clusters\n",
      "kilosort.run_kilosort: Merging clusters\n",
      "kilosort.run_kilosort: ----------------------------------------\n",
      "kilosort.run_kilosort: ----------------------------------------\n",
      "kilosort.run_kilosort: ----------------------------------------\n",
      "kilosort.run_kilosort: 15 units found, in  0.42s; total  907.00s\n",
      "kilosort.run_kilosort: 15 units found, in  0.42s; total  907.00s\n",
      "kilosort.run_kilosort: 15 units found, in  0.42s; total  907.00s\n",
      "kilosort.run_kilosort:  \n",
      "kilosort.run_kilosort:  \n",
      "kilosort.run_kilosort:  \n",
      "kilosort.run_kilosort: Saving to phy and computing refractory periods\n",
      "kilosort.run_kilosort: Saving to phy and computing refractory periods\n",
      "kilosort.run_kilosort: Saving to phy and computing refractory periods\n",
      "kilosort.run_kilosort: ----------------------------------------\n",
      "kilosort.run_kilosort: ----------------------------------------\n",
      "kilosort.run_kilosort: ----------------------------------------\n",
      "kilosort.run_kilosort: 2 units found with good refractory periods\n",
      "kilosort.run_kilosort: 2 units found with good refractory periods\n",
      "kilosort.run_kilosort: 2 units found with good refractory periods\n",
      "kilosort.run_kilosort: Total runtime: 918.04s = 00:15:18 h:m:s\n",
      "kilosort.run_kilosort: Total runtime: 918.04s = 00:15:18 h:m:s\n",
      "kilosort.run_kilosort: Total runtime: 918.04s = 00:15:18 h:m:s\n",
      "kilosort.run_kilosort: Sorting output saved in: /mnt/data/prior-encoding-in-nhp-sc/bin_data/kilosort4.\n",
      "kilosort.run_kilosort: Sorting output saved in: /mnt/data/prior-encoding-in-nhp-sc/bin_data/kilosort4.\n",
      "kilosort.run_kilosort: Sorting output saved in: /mnt/data/prior-encoding-in-nhp-sc/bin_data/kilosort4.\n"
     ]
    }
   ],
   "source": [
    "\n",
    "\n",
    "filename = '/mnt/data/prior-encoding-in-nhp-sc/bin_data/Taz24_Jun25_GPrt_003.bin'\n",
    "\n",
    "# probe_path = Path('/src/config/s-probe.json')\n",
    "probe_path = Path('/src/config/new-mapping-s-probe.json')\n",
    "dtype = np.int32\n",
    "\n",
    "assert probe_path is not None, 'No probe information exported by SpikeInterface'\n",
    "probe = io.load_probe(probe_path)\n",
    "\n",
    "ops, st, clu, tF, Wall, similar_templates, is_ref, est_contam_rate, kept_spikes = run_kilosort(\n",
    "        settings=settings, probe=probe, filename=filename\n",
    "        )"
   ]
  },
  {
   "cell_type": "code",
   "execution_count": null,
   "metadata": {},
   "outputs": [],
   "source": [
    "kilosort_path = Path('/mnt/data/prior-encoding-in-nhp-sc/bin_data/kilosort4')"
   ]
  }
 ],
 "metadata": {
  "kernelspec": {
   "display_name": "venv",
   "language": "python",
   "name": "python3"
  },
  "language_info": {
   "codemirror_mode": {
    "name": "ipython",
    "version": 3
   },
   "file_extension": ".py",
   "mimetype": "text/x-python",
   "name": "python",
   "nbconvert_exporter": "python",
   "pygments_lexer": "ipython3",
   "version": "3.10.12"
  }
 },
 "nbformat": 4,
 "nbformat_minor": 2
}
