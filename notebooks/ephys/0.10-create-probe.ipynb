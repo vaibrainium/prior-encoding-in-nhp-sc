{
 "cells": [
  {
   "cell_type": "code",
   "execution_count": 7,
   "metadata": {},
   "outputs": [],
   "source": [
    "import numpy as np\n",
    "from kilosort.io import save_probe"
   ]
  },
  {
   "cell_type": "markdown",
   "metadata": {},
   "source": [
    "#### Plexon S-probe\n"
   ]
  },
  {
   "cell_type": "code",
   "execution_count": 8,
   "metadata": {},
   "outputs": [],
   "source": [
    "contact_x = 15\n",
    "contact_y = 15\n",
    "intercontact_distance = 50"
   ]
  },
  {
   "cell_type": "code",
   "execution_count": 4,
   "metadata": {},
   "outputs": [],
   "source": [
    "chanMap = np.arange(16)\n",
    "kcoords = np.zeros(16)\n",
    "n_chan = 16\n",
    "\n",
    "xc = np.ones(16)*contact_x/2\n",
    "yc = np.array([(contact_y/2) + intercontact_distance*i for i in range(16)])\n",
    "\n",
    "probe = {\n",
    "    'chanMap': chanMap,\n",
    "    'xc': xc,\n",
    "    'yc': yc,\n",
    "    'kcoords': kcoords,\n",
    "    'n_chan': n_chan\n",
    "}\n",
    "\n",
    "print(probe)"
   ]
  },
  {
   "cell_type": "code",
   "execution_count": 7,
   "metadata": {},
   "outputs": [],
   "source": [
    "save_probe(probe, '/src/config/s-probe.json')"
   ]
  },
  {
   "cell_type": "markdown",
   "metadata": {},
   "source": [
    "# New S-probe mapping"
   ]
  },
  {
   "cell_type": "code",
   "execution_count": 9,
   "metadata": {},
   "outputs": [],
   "source": [
    "plexon_chan_map = {\n",
    "                0: 0,\n",
    "                1: 2,\n",
    "                2: 4,\n",
    "                3: 6,\n",
    "                4: 8,\n",
    "                5: 10,\n",
    "                6: 12,\n",
    "                7: 14,\n",
    "                8: 1,\n",
    "                9: 3,\n",
    "                10: 5,\n",
    "                11: 7,\n",
    "                12: 9,\n",
    "                13: 11,\n",
    "                14: 13,\n",
    "                15: 15,\n",
    "                    }\n"
   ]
  },
  {
   "cell_type": "code",
   "execution_count": 13,
   "metadata": {},
   "outputs": [
    {
     "data": {
      "text/plain": [
       "[0, 2, 4, 6, 8, 10, 12, 14, 1, 3, 5, 7, 9, 11, 13, 15]"
      ]
     },
     "execution_count": 13,
     "metadata": {},
     "output_type": "execute_result"
    }
   ],
   "source": [
    "list(plexon_chan_map.values())"
   ]
  },
  {
   "cell_type": "code",
   "execution_count": 14,
   "metadata": {},
   "outputs": [
    {
     "name": "stdout",
     "output_type": "stream",
     "text": [
      "{'chanMap': [0, 2, 4, 6, 8, 10, 12, 14, 1, 3, 5, 7, 9, 11, 13, 15], 'xc': array([7.5, 7.5, 7.5, 7.5, 7.5, 7.5, 7.5, 7.5, 7.5, 7.5, 7.5, 7.5, 7.5,\n",
      "       7.5, 7.5, 7.5]), 'yc': array([  7.5,  57.5, 107.5, 157.5, 207.5, 257.5, 307.5, 357.5, 407.5,\n",
      "       457.5, 507.5, 557.5, 607.5, 657.5, 707.5, 757.5]), 'kcoords': array([0., 0., 0., 0., 0., 0., 0., 0., 0., 0., 0., 0., 0., 0., 0., 0.]), 'n_chan': 16}\n"
     ]
    }
   ],
   "source": [
    "chanMap = list(plexon_chan_map.values())\n",
    "kcoords = np.zeros(16)\n",
    "n_chan = 16\n",
    "\n",
    "xc = np.ones(16)*contact_x/2\n",
    "yc = np.array([(contact_y/2) + intercontact_distance*i for i in range(16)])\n",
    "\n",
    "probe = {\n",
    "    'chanMap': chanMap,\n",
    "    'xc': xc,\n",
    "    'yc': yc,\n",
    "    'kcoords': kcoords,\n",
    "    'n_chan': n_chan\n",
    "}\n",
    "\n",
    "print(probe)"
   ]
  },
  {
   "cell_type": "code",
   "execution_count": 15,
   "metadata": {},
   "outputs": [],
   "source": [
    "save_probe(probe, '/src/config/new-mapping-s-probe.json')"
   ]
  }
 ],
 "metadata": {
  "kernelspec": {
   "display_name": "Python 3",
   "language": "python",
   "name": "python3"
  },
  "language_info": {
   "codemirror_mode": {
    "name": "ipython",
    "version": 3
   },
   "file_extension": ".py",
   "mimetype": "text/x-python",
   "name": "python",
   "nbconvert_exporter": "python",
   "pygments_lexer": "ipython3",
   "version": "3.10.12"
  }
 },
 "nbformat": 4,
 "nbformat_minor": 2
}
