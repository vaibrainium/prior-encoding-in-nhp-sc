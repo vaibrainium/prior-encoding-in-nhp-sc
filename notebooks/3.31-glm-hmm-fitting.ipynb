{
 "cells": [
  {
   "cell_type": "code",
   "execution_count": 47,
   "metadata": {},
   "outputs": [],
   "source": [
    "import numpy as np\n",
    "import numpy.random as npr\n",
    "import pandas as pd\n",
    "from sklearn import preprocessing\n",
    "\n",
    "from notebooks.imports import *\n",
    "from config import dir_config\n",
    "from src.utils.glm_hmm_utils import *\n",
    "import pickle\n",
    "import copy"
   ]
  },
  {
   "cell_type": "code",
   "execution_count": null,
   "metadata": {},
   "outputs": [],
   "source": [
    "compiled_dir = Path(dir_config.data.compiled)\n",
    "processed_dir = Path(dir_config.data.processed)"
   ]
  },
  {
   "cell_type": "code",
   "execution_count": null,
   "metadata": {},
   "outputs": [],
   "source": [
    "session_metadata = pd.read_csv(compiled_dir / 'sessions_metadata.csv')"
   ]
  },
  {
   "cell_type": "code",
   "execution_count": null,
   "metadata": {},
   "outputs": [],
   "source": [
    "\n",
    "# _TRIALS = \"all_trials_no_bias\"\n",
    "# _TRIALS = \"all_trials_no_bias_eq_prior\"\n",
    "\n",
    "# _TRIALS = \"all_trials\"\n",
    "# _TRIALS = \"all_trials_eq_prior\"\n"
   ]
  },
  {
   "cell_type": "markdown",
   "metadata": {},
   "source": [
    "#### utils"
   ]
  },
  {
   "cell_type": "code",
   "execution_count": null,
   "metadata": {},
   "outputs": [],
   "source": [
    "def extract_previous_data(trial_data, valid_idx, first_trial, n_trial_back=3):\n",
    "\tnp.random.seed(1)\n",
    "\n",
    "\t# remove trials before the first valid trial or first three trials, whichever is larger\n",
    "\tprev_choice = np.empty((len(trial_data) - first_trial, n_trial_back), dtype=int)\n",
    "\tprev_target = np.empty((len(trial_data) - first_trial, n_trial_back), dtype=int)\n",
    "\n",
    "\t# Loop to populate prev_choice and prev_target with the last n_trial_back values for each trial\n",
    "\tfor i in range(first_trial, len(trial_data)):\n",
    "\t\t# Get the valid indices for the last n_trial_back trials\n",
    "\t\tvalid_indices = valid_idx[valid_idx < i][-n_trial_back:]  # Ensure we get the last n_trial_back valid trials\n",
    "\n",
    "\t\tprev_choice[i - first_trial] = trial_data.choice[valid_indices] * 2 - 1  # Convert choice to -1/1\n",
    "\t\tprev_target[i - first_trial] = trial_data.target[valid_indices] * 2 - 1  # Convert target to -1/1\n",
    "\n",
    "\n",
    "\treturn prev_choice, prev_target\n",
    "\n",
    "def prepare_input_data(data, input_dim, valid_idx, first_trial):\n",
    "\tif \"no_bias\" in _TRIALS:\n",
    "\t\tcurrent_trial_param = 1\n",
    "\telse:\n",
    "\t\tcurrent_trial_param = 2\n",
    "\tn_trial_back=(input_dim - current_trial_param) // 2\n",
    "\tX = np.ones((1, data.shape[0] - first_trial, input_dim))\n",
    "\n",
    "\tcurrent_stimulus = data.coherence * (2 * data.target - 1)\n",
    "\tcurrent_stimulus = current_stimulus / 100\n",
    "\n",
    "\tX[0, :, 0] = current_stimulus[first_trial:]  # current stimulus\n",
    "\tX[0, :, current_trial_param:current_trial_param+n_trial_back], X[0, :, current_trial_param+n_trial_back: current_trial_param+2*n_trial_back] = extract_previous_data(data, valid_idx, first_trial, n_trial_back=n_trial_back)\n",
    "\treturn list(X)"
   ]
  },
  {
   "cell_type": "markdown",
   "metadata": {},
   "source": [
    "### create design matrix (input, output, mask)"
   ]
  },
  {
   "cell_type": "code",
   "execution_count": null,
   "metadata": {},
   "outputs": [],
   "source": [
    "n_states = 2  # number of discrete states\n",
    "obs_dim = 1  # number of observed dimensions: choice(toRF/awayRF)\n",
    "num_categories = 2  # number of categories for output\n",
    "\n",
    "if \"no_bias\" in _TRIALS:\n",
    "\tcurrent_trial_param = 1\n",
    "else:\n",
    "\tcurrent_trial_param = 2\n",
    "\n",
    "n_trial_back = 1\n",
    "\n",
    "input_dim = current_trial_param + 2*n_trial_back  # input dimensions: current signed coherence, 1(bias), previous choice(toRF/awayRF), previous target side(toRF/awayRF)"
   ]
  },
  {
   "cell_type": "markdown",
   "metadata": {},
   "source": [
    "#### data preparation"
   ]
  },
  {
   "cell_type": "code",
   "execution_count": null,
   "metadata": {},
   "outputs": [],
   "source": [
    "import numpy as np\n",
    "import pandas as pd\n",
    "from pathlib import Path\n",
    "\n",
    "# Pre-allocate lists for session data\n",
    "inputs_session_wise = []\n",
    "choices_session_wise = []\n",
    "invalid_idx_session_wise = []\n",
    "masks_session_wise = []\n",
    "GP_trial_num_session_wise = []\n",
    "prob_toRF_session_wise = []\n",
    "\n",
    "# Pre-build a mapping from session_id to prior_direction for efficient lookup\n",
    "prior_direction_map = session_metadata.set_index(\"session_id\")[\"prior_direction\"].to_dict()\n",
    "\n",
    "# Process each session\n",
    "for session_id in session_metadata[\"session_id\"]:\n",
    "\t# Read trial data for each session\n",
    "\ttrial_data = pd.read_csv(Path(compiled_dir, session_id, f\"{session_id}_trial.csv\"), index_col=None)\n",
    "\tGP_trial_data = trial_data[trial_data.task_type == 1].reset_index()\n",
    "\n",
    "\tif \"eq_prior\" in _TRIALS:\n",
    "\t\tGP_trial_data = GP_trial_data[GP_trial_data.prob_toRF == 50].reset_index()\n",
    "\n",
    "\t# Fill missing values for important columns\n",
    "\tGP_trial_data['choice'] = GP_trial_data.choice.fillna(-1)\n",
    "\tGP_trial_data['target'] = GP_trial_data.target.fillna(-1)\n",
    "\tGP_trial_data['outcome'] = GP_trial_data.outcome.fillna(-1)\n",
    "\n",
    "\t# Get valid indices based on outcomes\n",
    "\tvalid_idx = np.where(GP_trial_data.outcome >= 0)[0]\n",
    "\n",
    "\t# First valid trial considering n_trial_back\n",
    "\tfirst_trial = valid_idx[n_trial_back - 1] + 1\n",
    "\n",
    "\t# Prepare inputs and choices\n",
    "\tinputs = prepare_input_data(GP_trial_data, input_dim, valid_idx, first_trial)\n",
    "\tchoices = GP_trial_data.choice.values.reshape(-1, 1).astype(\"int\")\n",
    "\tchoices = choices[first_trial:]\n",
    "\n",
    "\t# Adjust invalid_idx and prepare mask\n",
    "\tinvalid_idx = np.where(choices == -1)[0]\n",
    "\n",
    "\tif \"all_trials\" in _TRIALS:\n",
    "\t\t# For training, replace -1 with a random sample from 0,1\n",
    "\t\tchoices[choices == -1] = np.random.choice(2, invalid_idx.shape[0])\n",
    "\n",
    "\t\t# Prepare mask\n",
    "\t\tmask = np.ones_like(choices, dtype=bool)\n",
    "\t\tmask[invalid_idx] = 0\n",
    "\n",
    "\t\t# Get trial numbers and prob_toRF for the cropped session\n",
    "\t\tGP_trial_num = np.array(GP_trial_data.trial_number)[first_trial:]\n",
    "\t\tprob_toRF = np.array(GP_trial_data.prob_toRF)[first_trial:]\n",
    "\n",
    "\telse:\n",
    "\t\tassert \"all_trials\" in _TRIALS, \"Invalid trials option\"\n",
    "\n",
    "\t# Check prior_direction for the current session and adjust inputs and choices\n",
    "\tprior_direction = prior_direction_map.get(session_id, 'awayRF')\n",
    "\tif prior_direction == 'awayRF':\n",
    "\t\tinputs[0][:, 0] = -inputs[0][:, 0]  # Flip the direction for input features\n",
    "\t\tinputs[0][:, 2:] = -inputs[0][:, 2:]\n",
    "\t\tchoices = 1-choices  # Flip the choices\n",
    "\n",
    "\tassert len(choices) == len(inputs[0]), f\"Length mismatch: {len(choices)} vs {len(inputs[0])}\"\n",
    "\tassert len(mask) == len(inputs[0]), f\"Length mismatch: {len(mask)} vs {len(inputs[0])}\"\n",
    "\tassert len(GP_trial_num) == len(inputs[0]), f\"Length mismatch: {len(GP_trial_num)} vs {len(inputs[0])}\"\n",
    "\tassert len(prob_toRF) == len(inputs[0]), f\"Length mismatch: {len(prob_toRF)} vs {len(inputs[0])}\"\n",
    "\n",
    "\t# Append session-wise data to corresponding lists\n",
    "\tmasks_session_wise.append(mask)\n",
    "\tinputs_session_wise += inputs\n",
    "\tchoices_session_wise.append(choices)\n",
    "\tGP_trial_num_session_wise.append(GP_trial_num)\n",
    "\tprob_toRF_session_wise.append(prob_toRF)\n"
   ]
  },
  {
   "cell_type": "code",
   "execution_count": null,
   "metadata": {},
   "outputs": [],
   "source": [
    "unnormalized_inputs_session_wise = copy.deepcopy(inputs_session_wise)\n",
    "# scaling all input variables\n",
    "for idx_session in range(len(session_metadata)):\n",
    "    mask = masks_session_wise[idx_session][:, 0]\n",
    "    inputs_session_wise[idx_session][mask, 0] = preprocessing.scale(inputs_session_wise[idx_session][mask, 0], axis=0)\n",
    "    inputs_session_wise[idx_session][mask, 2:] = preprocessing.scale(inputs_session_wise[idx_session][mask, 2:], axis=0)\n",
    "    # normalize all input variables except the bias term"
   ]
  },
  {
   "cell_type": "code",
   "execution_count": null,
   "metadata": {},
   "outputs": [
    {
     "name": "stdout",
     "output_type": "stream",
     "text": [
      "Fitting GLM globally...\n"
     ]
    },
    {
     "data": {
      "application/vnd.jupyter.widget-view+json": {
       "model_id": "96a2b9ef1b8a495f895bfa32579dd13a",
       "version_major": 2,
       "version_minor": 0
      },
      "text/plain": [
       "  0%|          | 0/2500 [00:00<?, ?it/s]"
      ]
     },
     "metadata": {},
     "output_type": "display_data"
    },
    {
     "name": "stdout",
     "output_type": "stream",
     "text": [
      "Fitting 1 states...\n"
     ]
    },
    {
     "name": "stderr",
     "output_type": "stream",
     "text": [
      "Converged to LP: -22388.6:   0%|          | 2/2500 [00:01<23:49,  1.75it/s]\n",
      "Converged to LP: -22388.6:   0%|          | 2/2500 [00:01<24:06,  1.73it/s]\n",
      "Converged to LP: -22388.6:   0%|          | 2/2500 [00:01<25:42,  1.62it/s]\n",
      "Converged to LP: -22388.6:   0%|          | 2/2500 [00:01<26:50,  1.55it/s]\n",
      "Converged to LP: -22388.6:   0%|          | 2/2500 [00:01<27:36,  1.51it/s]\n",
      "Converged to LP: -22388.6:   0%|          | 2/2500 [00:01<27:57,  1.49it/s]\n",
      "Converged to LP: -22388.6:   0%|          | 2/2500 [00:01<28:18,  1.47it/s]\n",
      "Converged to LP: -22388.6:   0%|          | 2/2500 [00:01<28:33,  1.46it/s]\n",
      "Converged to LP: -22388.6:   0%|          | 2/2500 [00:01<30:30,  1.36it/s]\n",
      "Converged to LP: -22388.6:   0%|          | 2/2500 [00:01<30:30,  1.36it/s]\n",
      "Converged to LP: -22388.6:   0%|          | 2/2500 [00:01<30:44,  1.35it/s]\n",
      "Converged to LP: -22388.6:   0%|          | 2/2500 [00:01<31:02,  1.34it/s]\n",
      "Converged to LP: -22388.6:   0%|          | 2/2500 [00:01<31:10,  1.34it/s]\n",
      "Converged to LP: -22388.6:   0%|          | 2/2500 [00:01<31:23,  1.33it/s]\n",
      "Converged to LP: -22388.6:   0%|          | 2/2500 [00:01<31:57,  1.30it/s]\n",
      "Converged to LP: -22388.6:   0%|          | 2/2500 [00:01<32:47,  1.27it/s]\n",
      "Converged to LP: -22388.6:   0%|          | 2/2500 [00:00<14:30,  2.87it/s]\n",
      "Converged to LP: -22388.6:   0%|          | 2/2500 [00:00<14:50,  2.80it/s]\n",
      "Converged to LP: -22388.6:   0%|          | 2/2500 [00:00<14:32,  2.86it/s]\n",
      "Converged to LP: -22388.6:   0%|          | 2/2500 [00:00<14:13,  2.93it/s]\n"
     ]
    },
    {
     "name": "stdout",
     "output_type": "stream",
     "text": [
      "Fitting 2 states...\n"
     ]
    },
    {
     "name": "stderr",
     "output_type": "stream",
     "text": [
      "Converged to LP: -21105.6:   2%|▏         | 39/2500 [00:26<28:14,  1.45it/s]\n",
      "Converged to LP: -21105.6:   2%|▏         | 60/2500 [00:40<27:22,  1.49it/s]\n",
      "Converged to LP: -21105.6:   2%|▏         | 51/2500 [00:41<33:19,  1.22it/s]\n",
      "Converged to LP: -21105.6:   3%|▎         | 78/2500 [00:48<25:06,  1.61it/s]\n",
      "Converged to LP: -21105.6:   3%|▎         | 70/2500 [00:51<29:51,  1.36it/s]\n",
      "Converged to LP: -21105.6:   1%|▏         | 33/2500 [00:25<31:17,  1.31it/s]\n",
      "Converged to LP: -21105.6:   4%|▍         | 102/2500 [01:15<29:31,  1.35it/s]\n",
      "Converged to LP: -21105.6:   4%|▍         | 99/2500 [01:15<30:37,  1.31it/s]\n",
      "Converged to LP: -21105.6:   4%|▍         | 96/2500 [01:16<32:03,  1.25it/s]\n",
      "Converged to LP: -21105.6:   5%|▍         | 123/2500 [01:23<27:00,  1.47it/s]\n",
      "Converged to LP: -21105.6:   5%|▍         | 116/2500 [01:26<29:41,  1.34it/s]\n",
      "Converged to LP: -21105.6:   3%|▎         | 85/2500 [00:46<22:12,  1.81it/s]\n",
      "Converged to LP: -21105.6:   6%|▋         | 157/2500 [01:38<24:25,  1.60it/s]\n",
      "Converged to LP: -21105.6:   6%|▋         | 159/2500 [01:43<25:24,  1.54it/s]\n",
      "Converged to LP: -21105.6:   7%|▋         | 171/2500 [01:45<23:57,  1.62it/s]\n",
      "Converged to LP: -21105.6:   7%|▋         | 176/2500 [01:46<23:20,  1.66it/s]\n",
      "Converged to LP: -21105.6:   9%|▉         | 220/2500 [02:08<22:07,  1.72it/s]\n",
      "Converged to LP: -21105.6:  12%|█▏        | 299/2500 [02:26<17:58,  2.04it/s]\n",
      "Converged to LP: -21105.6:  10%|▉         | 245/2500 [01:53<17:20,  2.17it/s]\n",
      "Converged to LP: -21105.6:  11%|█         | 273/2500 [02:10<17:41,  2.10it/s]\n"
     ]
    },
    {
     "name": "stdout",
     "output_type": "stream",
     "text": [
      "Fitting 3 states...\n"
     ]
    },
    {
     "name": "stderr",
     "output_type": "stream",
     "text": [
      "Converged to LP: -20759.6:   6%|▌         | 144/2500 [02:06<34:34,  1.14it/s]\n",
      "Converged to LP: -20759.6:   7%|▋         | 167/2500 [02:15<31:32,  1.23it/s]\n",
      "Converged to LP: -20759.6:   7%|▋         | 175/2500 [02:51<37:53,  1.02it/s]\n",
      "Converged to LP: -20759.6:   8%|▊         | 205/2500 [03:04<34:22,  1.11it/s]\n",
      "Converged to LP: -20759.6:   9%|▊         | 213/2500 [03:18<35:31,  1.07it/s]\n",
      "Converged to LP: -20759.6:  10%|▉         | 241/2500 [03:27<32:21,  1.16it/s]\n",
      "Converged to LP: -20759.6:   8%|▊         | 199/2500 [03:31<40:46,  1.06s/it]\n",
      "Converged to LP: -20759.6:   9%|▉         | 235/2500 [03:47<36:29,  1.03it/s]\n",
      "Converged to LP: -20759.6:  11%|█         | 272/2500 [03:53<31:55,  1.16it/s]\n",
      "Converged to LP: -20759.6:  12%|█▏        | 289/2500 [04:05<31:20,  1.18it/s]\n",
      "Converged to LP: -20759.6:  12%|█▏        | 311/2500 [04:38<32:40,  1.12it/s]\n",
      "Converged to LP: -20759.6:  12%|█▏        | 304/2500 [04:44<34:16,  1.07it/s]\n",
      "Converged to LP: -20759.6:  17%|█▋        | 419/2500 [05:21<26:36,  1.30it/s]\n",
      "Converged to LP: -20759.6:  10%|▉         | 249/2500 [03:07<28:11,  1.33it/s]\n",
      "Converged to LP: -20759.6:   8%|▊         | 210/2500 [02:26<26:42,  1.43it/s]\n",
      "Converged to LP: -21164.6:  22%|██▏       | 538/2500 [05:58<21:48,  1.50it/s]\n",
      "Converged to LP: -20759.6:  15%|█▍        | 367/2500 [04:13<24:31,  1.45it/s]\n",
      "Converged to LP: -21155.8:  27%|██▋       | 687/2500 [04:57<13:04,  2.31it/s]\n",
      "Converged to LP: -20759.6:  33%|███▎      | 835/2500 [07:55<15:47,  1.76it/s]\n",
      "Converged to LP: -20759.6:  32%|███▏      | 802/2500 [07:58<16:53,  1.68it/s]\n",
      "LP: -22879.8:   0%|          | 0/2500 [00:00<?, ?it/s]"
     ]
    },
    {
     "name": "stdout",
     "output_type": "stream",
     "text": [
      "Fitting 4 states...\n"
     ]
    },
    {
     "name": "stderr",
     "output_type": "stream",
     "text": [
      "Converged to LP: -20738.7:  17%|█▋        | 434/2500 [07:43<36:46,  1.07s/it]\n",
      "Converged to LP: -20805.0:  30%|██▉       | 743/2500 [10:26<24:40,  1.19it/s]\n",
      "Converged to LP: -20738.7:  27%|██▋       | 670/2500 [11:15<30:43,  1.01s/it]\n",
      "Converged to LP: -20738.8:  36%|███▌      | 898/2500 [13:56<24:52,  1.07it/s]\n",
      "Converged to LP: -20738.7:  35%|███▌      | 881/2500 [14:04<25:52,  1.04it/s]\n",
      "Converged to LP: -20818.4:  46%|████▌     | 1139/2500 [15:03<17:59,  1.26it/s]\n",
      "Converged to LP: -20820.5:  46%|████▋     | 1159/2500 [15:58<18:28,  1.21it/s]\n",
      "Converged to LP: -20810.1:  49%|████▊     | 1215/2500 [17:11<18:11,  1.18it/s]\n",
      "Converged to LP: -20816.1:  50%|█████     | 1250/2500 [17:42<17:42,  1.18it/s]\n",
      "Converged to LP: -20805.9:  58%|█████▊    | 1454/2500 [18:44<13:29,  1.29it/s]\n",
      "Converged to LP: -20821.3:  26%|██▋       | 659/2500 [07:10<20:02,  1.53it/s]\n",
      "Converged to LP: -20739.0:  67%|██████▋   | 1671/2500 [21:51<10:50,  1.27it/s]\n",
      "Converged to LP: -20815.6:  79%|███████▉  | 1976/2500 [22:42<06:01,  1.45it/s]\n",
      "Converged to LP: -20739.0:  75%|███████▌  | 1887/2500 [23:26<07:36,  1.34it/s]\n",
      "Converged to LP: -20739.0:  78%|███████▊  | 1951/2500 [23:35<06:38,  1.38it/s]\n",
      "Converged to LP: -20818.4:  49%|████▉     | 1237/2500 [13:11<13:28,  1.56it/s]\n",
      "Converged to LP: -20805.8:  89%|████████▊ | 2213/2500 [25:20<03:17,  1.46it/s]\n",
      "Converged to LP: -20739.0:  65%|██████▌   | 1632/2500 [17:45<09:26,  1.53it/s]\n",
      "LP: -20820.2: 100%|██████████| 2500/2500 [26:30<00:00,  1.57it/s]\n",
      "LP: -20739.0:  59%|█████▉    | 1479/2500 [15:23<05:44,  2.96it/s]"
     ]
    },
    {
     "name": "stdout",
     "output_type": "stream",
     "text": [
      "Fitting 5 states...\n"
     ]
    },
    {
     "name": "stderr",
     "output_type": "stream",
     "text": [
      "Converged to LP: -20739.0:  59%|█████▉    | 1479/2500 [15:23<10:37,  1.60it/s]\n",
      "Converged to LP: -20790.8:  49%|████▊     | 1216/2500 [21:26<22:38,  1.06s/it]\n",
      "Converged to LP: -20794.5:  54%|█████▍    | 1353/2500 [23:46<20:09,  1.05s/it]\n",
      "Converged to LP: -20789.9:  66%|██████▌   | 1649/2500 [29:28<15:12,  1.07s/it]\n",
      "Converged to LP: -20811.8:  67%|██████▋   | 1673/2500 [29:41<14:40,  1.07s/it]\n",
      "Converged to LP: -20865.2:  74%|███████▍  | 1855/2500 [31:43<11:01,  1.03s/it]\n",
      "Converged to LP: -20823.5:  78%|███████▊  | 1946/2500 [33:09<09:26,  1.02s/it]\n",
      "Converged to LP: -20800.5:  86%|████████▌ | 2153/2500 [37:35<06:03,  1.05s/it]\n",
      "Converged to LP: -20799.5:  93%|█████████▎| 2337/2500 [39:17<02:44,  1.01s/it]\n",
      "Converged to LP: -20778.7:  96%|█████████▌| 2395/2500 [39:26<01:43,  1.01it/s]\n",
      "LP: -20798.1: 100%|██████████| 2500/2500 [39:25<00:00,  1.06it/s]\n",
      "LP: -20855.0: 100%|██████████| 2500/2500 [40:31<00:00,  1.03it/s]\n",
      "LP: -20857.4: 100%|██████████| 2500/2500 [40:32<00:00,  1.03it/s]\n",
      "LP: -20809.5: 100%|██████████| 2500/2500 [40:55<00:00,  1.02it/s]\n",
      "LP: -20866.9: 100%|██████████| 2500/2500 [41:02<00:00,  1.02it/s]\n",
      "LP: -20793.2: 100%|██████████| 2500/2500 [40:42<00:00,  1.02it/s]\n",
      "LP: -20816.0: 100%|██████████| 2500/2500 [41:08<00:00,  1.01it/s]\n",
      "LP: -20859.3: 100%|██████████| 2500/2500 [30:52<00:00,  1.35it/s]\n",
      "LP: -20877.6: 100%|██████████| 2500/2500 [28:54<00:00,  1.44it/s]\n",
      "LP: -20796.1: 100%|██████████| 2500/2500 [25:44<00:00,  1.62it/s]\n",
      "LP: -20799.5: 100%|██████████| 2500/2500 [26:02<00:00,  1.60it/s]\n"
     ]
    }
   ],
   "source": [
    "models_glm_hmm, fit_lls_glm_hmm = global_fit(choices_session_wise, inputs_session_wise, state_range=np.arange(1, 6), masks=masks_session_wise, n_iters=2500, n_initializations=20)"
   ]
  },
  {
   "cell_type": "code",
   "execution_count": null,
   "metadata": {},
   "outputs": [],
   "source": [
    "# get best model of 20 initializations for each state\n",
    "init_params = {\"glm_weights\": {}, \"transition_matrices\": {}}\n",
    "for n_states in np.arange(1, 6):\n",
    "\tbest_idx = fit_lls_glm_hmm[n_states].index(max(fit_lls_glm_hmm[n_states]))\n",
    "\tinit_params[\"glm_weights\"][n_states] = models_glm_hmm[n_states][best_idx].observations.params\n",
    "\tinit_params[\"transition_matrices\"][n_states] = models_glm_hmm[n_states][best_idx].transitions.params"
   ]
  },
  {
   "cell_type": "code",
   "execution_count": null,
   "metadata": {},
   "outputs": [
    {
     "name": "stdout",
     "output_type": "stream",
     "text": [
      "Fitting session 0...\n",
      "Fitting 1 states...\n"
     ]
    },
    {
     "name": "stderr",
     "output_type": "stream",
     "text": [
      "Converged to LP: -405.1:   0%|          | 2/1000 [00:00<00:09, 104.03it/s]\n",
      "Converged to LP: -377.8:   0%|          | 2/1000 [00:00<00:11, 89.24it/s]\n",
      "Converged to LP: -416.5:   0%|          | 2/1000 [00:00<00:06, 153.75it/s]\n",
      "Converged to LP: -403.2:   0%|          | 2/1000 [00:03<32:12,  1.94s/it]  \n",
      "Converged to LP: -401.6:   0%|          | 2/1000 [00:03<32:30,  1.95s/it]  \n",
      "LP: -439.7:   0%|          | 0/1000 [00:00<?, ?it/s]"
     ]
    },
    {
     "name": "stdout",
     "output_type": "stream",
     "text": [
      "Fitting 2 states...\n",
      "Fitting 3 states...\n"
     ]
    },
    {
     "name": "stderr",
     "output_type": "stream",
     "text": [
      "Converged to LP: -425.1:   1%|          | 6/1000 [00:00<00:11, 83.84it/s]\n",
      "Converged to LP: -415.6:   1%|          | 6/1000 [00:00<00:10, 91.20it/s]\n",
      "Converged to LP: -414.1:   1%|          | 6/1000 [00:00<00:10, 94.18it/s]\n",
      "Converged to LP: -402.8:   1%|          | 8/1000 [00:00<00:10, 93.47it/s]\n",
      "Converged to LP: -431.9:   1%|          | 7/1000 [00:00<00:08, 114.05it/s]\n",
      "Converged to LP: -482.6:   1%|          | 10/1000 [00:00<00:12, 77.52it/s]\n",
      "Converged to LP: -472.1:   1%|          | 9/1000 [00:00<00:12, 79.46it/s]\n",
      "Converged to LP: -473.6:   1%|▏         | 14/1000 [00:00<00:13, 74.49it/s]\n",
      "Converged to LP: -488.0:   1%|          | 12/1000 [00:00<00:13, 73.97it/s]\n",
      "Converged to LP: -455.5:   4%|▍         | 40/1000 [00:00<00:11, 82.98it/s]\n",
      "LP: -535.2:   0%|          | 0/1000 [00:00<?, ?it/s].28it/s]"
     ]
    },
    {
     "name": "stdout",
     "output_type": "stream",
     "text": [
      "Fitting 4 states...\n"
     ]
    },
    {
     "name": "stderr",
     "output_type": "stream",
     "text": [
      "Converged to LP: -523.6:   3%|▎         | 34/1000 [00:00<00:19, 49.92it/s]\n",
      "Converged to LP: -525.0:   5%|▌         | 51/1000 [00:00<00:16, 56.09it/s]\n",
      "Converged to LP: -520.0:   6%|▋         | 65/1000 [00:01<00:15, 62.00it/s]\n",
      "Converged to LP: -510.2:   7%|▋         | 68/1000 [00:01<00:14, 62.14it/s]\n",
      "Converged to LP: -534.8:   4%|▍         | 42/1000 [00:00<00:13, 70.70it/s]\n",
      "LP: -614.8:   0%|          | 0/1000 [00:00<?, ?it/s]"
     ]
    },
    {
     "name": "stdout",
     "output_type": "stream",
     "text": [
      "Fitting 5 states...\n"
     ]
    },
    {
     "name": "stderr",
     "output_type": "stream",
     "text": [
      "Converged to LP: -585.8:   6%|▋         | 63/1000 [00:01<00:15, 60.49it/s]\n",
      "Converged to LP: -560.8:   6%|▌         | 58/1000 [00:01<00:17, 52.94it/s]\n",
      "Converged to LP: -602.6:   8%|▊         | 76/1000 [00:01<00:13, 67.70it/s]\n",
      "Converged to LP: -574.0:  18%|█▊        | 179/1000 [00:02<00:12, 65.83it/s]\n",
      "Converged to LP: -582.0:  22%|██▏       | 216/1000 [00:03<00:11, 70.75it/s]\n"
     ]
    },
    {
     "name": "stdout",
     "output_type": "stream",
     "text": [
      "Fitting session 1...\n",
      "Fitting 1 states...\n",
      "Fitting 2 states...\n"
     ]
    },
    {
     "name": "stderr",
     "output_type": "stream",
     "text": [
      "Converged to LP: -367.3:   0%|          | 2/1000 [00:00<00:10, 98.09it/s]\n",
      "Converged to LP: -368.8:   0%|          | 2/1000 [00:00<00:10, 92.31it/s]\n",
      "Converged to LP: -357.8:   0%|          | 2/1000 [00:00<00:08, 122.37it/s]\n",
      "Converged to LP: -378.4:   0%|          | 2/1000 [00:00<00:09, 110.58it/s]\n",
      "Converged to LP: -372.3:   0%|          | 2/1000 [00:00<00:08, 123.59it/s]\n",
      "Converged to LP: -418.6:   1%|          | 6/1000 [00:00<00:11, 87.45it/s]\n",
      "Converged to LP: -417.4:   1%|▏         | 14/1000 [00:00<00:09, 106.21it/s]\n",
      "Converged to LP: -417.4:   1%|          | 10/1000 [00:00<00:11, 85.72it/s]\n",
      "Converged to LP: -409.7:   1%|          | 12/1000 [00:00<00:10, 98.44it/s]\n",
      "Converged to LP: -421.0:   1%|          | 9/1000 [00:00<00:09, 106.50it/s]\n",
      "LP: -487.2:   0%|          | 0/1000 [00:00<?, ?it/s]"
     ]
    },
    {
     "name": "stdout",
     "output_type": "stream",
     "text": [
      "Fitting 3 states...\n"
     ]
    },
    {
     "name": "stderr",
     "output_type": "stream",
     "text": [
      "Converged to LP: -469.3:   1%|          | 9/1000 [00:00<00:15, 63.92it/s]\n",
      "Converged to LP: -471.4:   1%|          | 10/1000 [00:00<00:16, 58.55it/s]\n",
      "Converged to LP: -474.9:   1%|▏         | 14/1000 [00:00<00:15, 64.53it/s]\n",
      "Converged to LP: -473.1:   1%|          | 12/1000 [00:00<00:16, 61.07it/s]\n",
      "Converged to LP: -474.7:   3%|▎         | 26/1000 [00:00<00:12, 79.31it/s]\n",
      "LP: -540.5:   0%|          | 0/1000 [00:00<?, ?it/s]"
     ]
    },
    {
     "name": "stdout",
     "output_type": "stream",
     "text": [
      "Fitting 4 states...\n"
     ]
    },
    {
     "name": "stderr",
     "output_type": "stream",
     "text": [
      "Converged to LP: -529.6:   5%|▌         | 50/1000 [00:00<00:13, 70.68it/s]\n",
      "Converged to LP: -521.8:  10%|█         | 105/1000 [00:01<00:11, 78.26it/s]\n",
      "Converged to LP: -518.0:  11%|█         | 106/1000 [00:01<00:11, 76.90it/s]\n",
      "Converged to LP: -529.6:   7%|▋         | 71/1000 [00:00<00:12, 74.01it/s]\n",
      "Converged to LP: -523.1:  23%|██▎       | 227/1000 [00:02<00:08, 96.18it/s] \n",
      "LP: -596.4:   0%|          | 0/1000 [00:00<?, ?it/s]"
     ]
    },
    {
     "name": "stdout",
     "output_type": "stream",
     "text": [
      "Fitting 5 states...\n"
     ]
    },
    {
     "name": "stderr",
     "output_type": "stream",
     "text": [
      "Converged to LP: -585.5:   3%|▎         | 29/1000 [00:00<00:14, 67.68it/s]\n",
      "Converged to LP: -575.4:   3%|▎         | 27/1000 [00:00<00:16, 60.51it/s]\n",
      "Converged to LP: -584.4:   6%|▌         | 60/1000 [00:00<00:12, 75.60it/s]\n",
      "Converged to LP: -581.5:   7%|▋         | 73/1000 [00:00<00:11, 79.66it/s]\n",
      "Converged to LP: -596.9:   2%|▏         | 19/1000 [00:00<00:22, 44.27it/s]\n"
     ]
    },
    {
     "name": "stdout",
     "output_type": "stream",
     "text": [
      "Fitting session 2...\n",
      "Fitting 1 states...\n"
     ]
    },
    {
     "name": "stderr",
     "output_type": "stream",
     "text": [
      "Converged to LP: -375.0:   0%|          | 2/1000 [00:00<00:20, 49.13it/s]\n",
      "Converged to LP: -380.7:   0%|          | 2/1000 [00:00<00:18, 52.98it/s]\n",
      "Converged to LP: -387.7:   0%|          | 2/1000 [00:00<00:19, 51.19it/s]\n",
      "Converged to LP: -372.0:   0%|          | 2/1000 [00:00<00:20, 49.87it/s]\n",
      "Converged to LP: -369.9:   0%|          | 2/1000 [00:00<00:19, 50.71it/s]\n"
     ]
    },
    {
     "name": "stdout",
     "output_type": "stream",
     "text": [
      "Fitting 2 states...\n"
     ]
    },
    {
     "name": "stderr",
     "output_type": "stream",
     "text": [
      "Converged to LP: -419.8:   2%|▏         | 18/1000 [00:00<00:09, 102.73it/s]\n",
      "Converged to LP: -421.0:   2%|▏         | 16/1000 [00:00<00:11, 87.48it/s]\n",
      "Converged to LP: -412.8:   1%|          | 10/1000 [00:00<00:14, 66.73it/s]\n",
      "Converged to LP: -429.9:   4%|▍         | 43/1000 [00:00<00:08, 116.24it/s]\n",
      "Converged to LP: -410.8:   7%|▋         | 71/1000 [00:00<00:07, 129.36it/s]\n"
     ]
    },
    {
     "name": "stdout",
     "output_type": "stream",
     "text": [
      "Fitting 3 states...\n"
     ]
    },
    {
     "name": "stderr",
     "output_type": "stream",
     "text": [
      "Converged to LP: -479.1:   1%|▏         | 14/1000 [00:00<00:13, 70.83it/s]\n",
      "Converged to LP: -461.4:   2%|▏         | 20/1000 [00:00<00:12, 80.06it/s]\n",
      "Converged to LP: -467.3:   2%|▏         | 24/1000 [00:00<00:13, 71.35it/s]\n",
      "Converged to LP: -461.0:   3%|▎         | 28/1000 [00:00<00:12, 79.38it/s]\n",
      "Converged to LP: -467.9:   4%|▎         | 36/1000 [00:00<00:09, 102.53it/s]\n",
      "LP: -553.4:   0%|          | 0/1000 [00:00<?, ?it/s]"
     ]
    },
    {
     "name": "stdout",
     "output_type": "stream",
     "text": [
      "Fitting 4 states...\n"
     ]
    },
    {
     "name": "stderr",
     "output_type": "stream",
     "text": [
      "Converged to LP: -526.0:   4%|▎         | 35/1000 [00:00<00:16, 58.55it/s]\n",
      "Converged to LP: -513.6:   8%|▊         | 81/1000 [00:01<00:13, 67.24it/s]\n",
      "Converged to LP: -508.0:  10%|█         | 104/1000 [00:01<00:11, 78.20it/s]\n",
      "Converged to LP: -498.6:  16%|█▌        | 157/1000 [00:01<00:09, 86.83it/s] \n",
      "Converged to LP: -500.9:  17%|█▋        | 171/1000 [00:01<00:09, 90.72it/s] \n",
      "LP: -618.4:   0%|          | 0/1000 [00:00<?, ?it/s]"
     ]
    },
    {
     "name": "stdout",
     "output_type": "stream",
     "text": [
      "Fitting 5 states...\n"
     ]
    },
    {
     "name": "stderr",
     "output_type": "stream",
     "text": [
      "Converged to LP: -569.5:   3%|▎         | 29/1000 [00:00<00:20, 46.85it/s]\n",
      "Converged to LP: -574.4:   3%|▎         | 33/1000 [00:00<00:18, 53.59it/s]\n",
      "Converged to LP: -566.0:   3%|▎         | 28/1000 [00:00<00:20, 48.11it/s]\n",
      "Converged to LP: -584.5:   6%|▌         | 61/1000 [00:00<00:14, 63.80it/s]\n",
      "Converged to LP: -568.0:  11%|█         | 111/1000 [00:01<00:12, 70.53it/s]\n"
     ]
    },
    {
     "name": "stdout",
     "output_type": "stream",
     "text": [
      "Fitting session 3...\n",
      "Fitting 1 states...\n"
     ]
    },
    {
     "name": "stderr",
     "output_type": "stream",
     "text": [
      "Converged to LP: -352.4:   0%|          | 2/1000 [00:00<00:17, 55.83it/s]\n",
      "Converged to LP: -351.7:   0%|          | 2/1000 [00:00<00:05, 168.58it/s]\n",
      "Converged to LP: -350.1:   0%|          | 2/1000 [00:00<00:09, 109.99it/s]\n",
      "Converged to LP: -343.4:   0%|          | 2/1000 [00:00<00:07, 138.03it/s]\n",
      "Converged to LP: -348.5:   0%|          | 2/1000 [00:00<00:06, 153.62it/s]\n",
      "  0%|          | 0/1000 [00:00<?, ?it/s]"
     ]
    },
    {
     "name": "stdout",
     "output_type": "stream",
     "text": [
      "Fitting 2 states...\n",
      "Fitting 3 states...\n"
     ]
    },
    {
     "name": "stderr",
     "output_type": "stream",
     "text": [
      "Converged to LP: -408.6:   1%|          | 7/1000 [00:00<00:11, 90.19it/s]\n",
      "Converged to LP: -403.8:   0%|          | 4/1000 [00:00<00:12, 78.61it/s]\n",
      "Converged to LP: -398.4:   0%|          | 5/1000 [00:00<00:11, 89.54it/s]\n",
      "Converged to LP: -392.1:   0%|          | 5/1000 [00:00<00:09, 108.97it/s]\n",
      "Converged to LP: -406.7:   0%|          | 4/1000 [00:00<00:09, 108.93it/s]\n",
      "LP: -449.2:   0%|          | 0/1000 [00:00<?, ?it/s]0:00<00:14, 69.58it/s]\n",
      "Converged to LP: -467.8:   1%|          | 10/1000 [00:00<00:16, 58.62it/s]\n",
      "Converged to LP: -448.9:   1%|          | 9/1000 [00:00<00:12, 78.45it/s]\n",
      "Converged to LP: -456.9:   1%|▏         | 13/1000 [00:00<00:12, 76.37it/s]\n",
      "Converged to LP: -467.0:   1%|          | 10/1000 [00:00<00:11, 83.46it/s]\n"
     ]
    },
    {
     "name": "stdout",
     "output_type": "stream",
     "text": [
      "Fitting 4 states...\n"
     ]
    },
    {
     "name": "stderr",
     "output_type": "stream",
     "text": [
      "Converged to LP: -497.5:   9%|▉         | 90/1000 [00:01<00:10, 83.23it/s] \n",
      "Converged to LP: -500.5:   9%|▉         | 92/1000 [00:01<00:11, 82.04it/s] \n",
      "Converged to LP: -516.2:  14%|█▍        | 140/1000 [00:01<00:11, 76.67it/s]\n",
      "Converged to LP: -514.7:  17%|█▋        | 174/1000 [00:01<00:09, 89.34it/s] \n",
      "Converged to LP: -513.3:  24%|██▎       | 235/1000 [00:02<00:08, 94.08it/s] \n",
      "LP: -607.2:   0%|          | 0/1000 [00:00<?, ?it/s]"
     ]
    },
    {
     "name": "stdout",
     "output_type": "stream",
     "text": [
      "Fitting 5 states...\n"
     ]
    },
    {
     "name": "stderr",
     "output_type": "stream",
     "text": [
      "Converged to LP: -572.4:   2%|▏         | 23/1000 [00:00<00:17, 56.23it/s]\n",
      "Converged to LP: -561.9:   3%|▎         | 33/1000 [00:00<00:16, 59.16it/s]\n",
      "Converged to LP: -581.5:   6%|▌         | 60/1000 [00:00<00:13, 71.45it/s]\n",
      "Converged to LP: -577.1:   7%|▋         | 67/1000 [00:00<00:12, 73.91it/s]\n",
      "Converged to LP: -583.5:   7%|▋         | 68/1000 [00:00<00:12, 75.45it/s]\n",
      "Converged to LP: -414.5:   0%|          | 2/1000 [00:00<00:07, 140.77it/s]\n",
      "Converged to LP: -417.0:   0%|          | 2/1000 [00:00<00:07, 140.15it/s]\n",
      "LP: -428.1:   0%|          | 0/1000 [00:00<?, ?it/s]"
     ]
    },
    {
     "name": "stdout",
     "output_type": "stream",
     "text": [
      "Fitting session 4...\n",
      "Fitting 1 states...\n",
      "Fitting 2 states...\n"
     ]
    },
    {
     "name": "stderr",
     "output_type": "stream",
     "text": [
      "Converged to LP: -418.7:   0%|          | 2/1000 [00:00<00:13, 75.68it/s]\n",
      "Converged to LP: -424.4:   0%|          | 2/1000 [00:00<00:22, 43.97it/s]\n",
      "Converged to LP: -439.8:   0%|          | 2/1000 [00:00<00:16, 61.75it/s]\n",
      "Converged to LP: -468.5:   1%|▏         | 14/1000 [00:00<00:12, 81.41it/s]\n",
      "Converged to LP: -472.9:   2%|▏         | 17/1000 [00:00<00:09, 100.22it/s]\n",
      "Converged to LP: -477.6:   2%|▏         | 17/1000 [00:00<00:10, 94.63it/s]\n",
      "Converged to LP: -490.3:   2%|▏         | 15/1000 [00:00<00:10, 90.70it/s]\n",
      "Converged to LP: -473.9:   7%|▋         | 69/1000 [00:00<00:07, 121.04it/s]\n",
      "LP: -526.3:   1%|          | 9/1000 [00:00<00:11, 89.08it/s]"
     ]
    },
    {
     "name": "stdout",
     "output_type": "stream",
     "text": [
      "Fitting 3 states...\n"
     ]
    },
    {
     "name": "stderr",
     "output_type": "stream",
     "text": [
      "Converged to LP: -526.3:   2%|▏         | 18/1000 [00:00<00:10, 89.89it/s]\n",
      "Converged to LP: -526.5:   2%|▎         | 25/1000 [00:00<00:11, 85.02it/s]\n",
      "Converged to LP: -527.5:   3%|▎         | 26/1000 [00:00<00:13, 74.81it/s]\n",
      "Converged to LP: -537.6:   3%|▎         | 27/1000 [00:00<00:12, 80.46it/s]\n",
      "Converged to LP: -524.0:   5%|▍         | 48/1000 [00:00<00:10, 94.66it/s]\n",
      "LP: -604.7:   0%|          | 0/1000 [00:00<?, ?it/s]"
     ]
    },
    {
     "name": "stdout",
     "output_type": "stream",
     "text": [
      "Fitting 4 states...\n"
     ]
    },
    {
     "name": "stderr",
     "output_type": "stream",
     "text": [
      "Converged to LP: -579.3:  10%|█         | 101/1000 [00:01<00:13, 68.87it/s]\n",
      "Converged to LP: -594.7:  11%|█         | 111/1000 [00:01<00:12, 70.37it/s]\n",
      "Converged to LP: -568.6:  15%|█▍        | 149/1000 [00:02<00:12, 69.93it/s]\n",
      "Converged to LP: -570.3:  17%|█▋        | 173/1000 [00:02<00:10, 80.63it/s] \n",
      "Converged to LP: -574.8:  27%|██▋       | 270/1000 [00:03<00:08, 88.18it/s] \n",
      "LP: -645.8:   0%|          | 5/1000 [00:00<00:20, 48.91it/s]"
     ]
    },
    {
     "name": "stdout",
     "output_type": "stream",
     "text": [
      "Fitting 5 states...\n"
     ]
    },
    {
     "name": "stderr",
     "output_type": "stream",
     "text": [
      "Converged to LP: -634.3:   2%|▏         | 21/1000 [00:00<00:17, 54.71it/s]\n",
      "Converged to LP: -643.9:   4%|▎         | 35/1000 [00:00<00:14, 66.95it/s]\n",
      "Converged to LP: -645.1:   5%|▌         | 51/1000 [00:00<00:14, 63.83it/s]\n",
      "Converged to LP: -650.7:   7%|▋         | 69/1000 [00:00<00:12, 74.88it/s]\n",
      "Converged to LP: -641.6:   9%|▉         | 89/1000 [00:01<00:12, 71.68it/s]\n",
      "Converged to LP: -380.0:   0%|          | 2/1000 [00:00<00:06, 143.28it/s]\n",
      "Converged to LP: -377.2:   0%|          | 2/1000 [00:00<00:07, 131.58it/s]\n",
      "Converged to LP: -370.5:   0%|          | 2/1000 [00:00<00:19, 51.11it/s]\n",
      "Converged to LP: -385.9:   0%|          | 2/1000 [00:00<00:07, 140.47it/s]\n",
      "Converged to LP: -374.6:   0%|          | 2/1000 [00:00<00:20, 47.94it/s]\n"
     ]
    },
    {
     "name": "stdout",
     "output_type": "stream",
     "text": [
      "Fitting session 5...\n",
      "Fitting 1 states...\n",
      "Fitting 2 states...\n"
     ]
    },
    {
     "name": "stderr",
     "output_type": "stream",
     "text": [
      "Converged to LP: -409.3:   1%|          | 6/1000 [00:00<00:10, 96.47it/s]\n",
      "Converged to LP: -409.0:   1%|          | 7/1000 [00:00<00:10, 95.61it/s]\n",
      "Converged to LP: -412.5:   1%|          | 6/1000 [00:00<00:12, 76.49it/s]\n",
      "Converged to LP: -417.8:   1%|          | 6/1000 [00:00<00:09, 103.65it/s]\n",
      "Converged to LP: -405.5:   1%|          | 8/1000 [00:00<00:10, 97.79it/s]\n",
      "LP: -486.2:   0%|          | 0/1000 [00:00<?, ?it/s]"
     ]
    },
    {
     "name": "stdout",
     "output_type": "stream",
     "text": [
      "Fitting 3 states...\n"
     ]
    },
    {
     "name": "stderr",
     "output_type": "stream",
     "text": [
      "Converged to LP: -464.9:   1%|          | 9/1000 [00:00<00:16, 60.89it/s]\n",
      "Converged to LP: -469.8:   1%|          | 8/1000 [00:00<00:16, 60.33it/s]\n",
      "Converged to LP: -474.8:   1%|          | 8/1000 [00:00<00:15, 64.64it/s]\n",
      "Converged to LP: -456.4:   1%|▏         | 14/1000 [00:00<00:12, 76.26it/s]\n",
      "Converged to LP: -463.2:   2%|▏         | 22/1000 [00:00<00:11, 84.72it/s]\n",
      "LP: -523.6:   0%|          | 5/1000 [00:00<00:21, 46.56it/s]"
     ]
    },
    {
     "name": "stdout",
     "output_type": "stream",
     "text": [
      "Fitting 4 states...\n"
     ]
    },
    {
     "name": "stderr",
     "output_type": "stream",
     "text": [
      "Converged to LP: -514.2:   5%|▌         | 53/1000 [00:00<00:13, 70.70it/s]\n",
      "Converged to LP: -519.5:  11%|█         | 109/1000 [00:01<00:11, 79.67it/s]\n",
      "Converged to LP: -507.3:  11%|█         | 109/1000 [00:01<00:10, 82.80it/s] \n",
      "Converged to LP: -525.8:  24%|██▍       | 238/1000 [00:02<00:08, 94.86it/s] \n",
      "Converged to LP: -529.3:  34%|███▍      | 339/1000 [00:03<00:06, 103.39it/s]\n",
      "LP: -618.0:   0%|          | 0/1000 [00:00<?, ?it/s]"
     ]
    },
    {
     "name": "stdout",
     "output_type": "stream",
     "text": [
      "Fitting 5 states...\n"
     ]
    },
    {
     "name": "stderr",
     "output_type": "stream",
     "text": [
      "Converged to LP: -570.1:   3%|▎         | 32/1000 [00:00<00:16, 59.15it/s]\n",
      "Converged to LP: -562.1:   3%|▎         | 33/1000 [00:00<00:16, 58.80it/s]\n",
      "Converged to LP: -567.9:   5%|▍         | 49/1000 [00:00<00:15, 60.61it/s]\n",
      "Converged to LP: -578.1:   8%|▊         | 76/1000 [00:01<00:12, 71.68it/s]\n",
      "Converged to LP: -580.4:  14%|█▎        | 135/1000 [00:01<00:10, 86.32it/s] \n",
      "Converged to LP: -464.0:   0%|          | 2/1000 [00:00<00:08, 121.03it/s]\n",
      "Converged to LP: -471.5:   0%|          | 2/1000 [00:00<00:07, 128.89it/s]\n",
      "Converged to LP: -451.7:   0%|          | 2/1000 [00:00<00:07, 127.60it/s]\n",
      "LP: -534.3:   0%|          | 0/1000 [00:00<?, ?it/s]"
     ]
    },
    {
     "name": "stdout",
     "output_type": "stream",
     "text": [
      "Fitting session 6...\n",
      "Fitting 1 states...\n",
      "Fitting 2 states...\n"
     ]
    },
    {
     "name": "stderr",
     "output_type": "stream",
     "text": [
      "Converged to LP: -476.8:   0%|          | 2/1000 [00:00<00:20, 47.60it/s]\n",
      "Converged to LP: -484.1:   0%|          | 2/1000 [00:00<00:20, 49.69it/s]\n",
      "Converged to LP: -515.7:   1%|          | 11/1000 [00:00<00:12, 78.68it/s]\n",
      "Converged to LP: -508.4:   2%|▏         | 15/1000 [00:00<00:10, 92.49it/s]\n",
      "Converged to LP: -525.4:   1%|          | 9/1000 [00:00<00:11, 85.84it/s]\n",
      "Converged to LP: -498.1:   1%|▏         | 14/1000 [00:00<00:09, 100.80it/s]\n",
      "Converged to LP: -525.3:   2%|▏         | 15/1000 [00:00<00:11, 82.79it/s]\n",
      "LP: -561.0:   0%|          | 0/1000 [00:00<?, ?it/s]"
     ]
    },
    {
     "name": "stdout",
     "output_type": "stream",
     "text": [
      "Fitting 3 states...\n"
     ]
    },
    {
     "name": "stderr",
     "output_type": "stream",
     "text": [
      "Converged to LP: -574.0:   1%|          | 12/1000 [00:00<00:13, 74.13it/s]\n",
      "Converged to LP: -554.7:   2%|▏         | 16/1000 [00:00<00:15, 62.29it/s]\n",
      "Converged to LP: -581.6:   3%|▎         | 33/1000 [00:00<00:12, 74.56it/s]\n",
      "Converged to LP: -546.6:   4%|▍         | 44/1000 [00:00<00:12, 75.16it/s]\n",
      "Converged to LP: -575.6:   8%|▊         | 84/1000 [00:00<00:10, 84.52it/s]\n",
      "LP: -667.3:   0%|          | 0/1000 [00:00<?, ?it/s]"
     ]
    },
    {
     "name": "stdout",
     "output_type": "stream",
     "text": [
      "Fitting 4 states...\n"
     ]
    },
    {
     "name": "stderr",
     "output_type": "stream",
     "text": [
      "Converged to LP: -626.0:   7%|▋         | 68/1000 [00:01<00:15, 59.09it/s]\n",
      "Converged to LP: -599.9:  11%|█▏        | 114/1000 [00:01<00:12, 69.13it/s]\n",
      "Converged to LP: -614.7:  12%|█▏        | 115/1000 [00:01<00:13, 65.45it/s]\n",
      "Converged to LP: -624.0:  14%|█▎        | 136/1000 [00:01<00:12, 68.53it/s]\n",
      "Converged to LP: -623.8:  49%|████▉     | 489/1000 [00:05<00:05, 94.00it/s] \n",
      "LP: -676.8:   0%|          | 0/1000 [00:00<?, ?it/s].45it/s]"
     ]
    },
    {
     "name": "stdout",
     "output_type": "stream",
     "text": [
      "Fitting 5 states...\n"
     ]
    },
    {
     "name": "stderr",
     "output_type": "stream",
     "text": [
      "Converged to LP: -690.3:   6%|▌         | 60/1000 [00:01<00:19, 48.15it/s]\n",
      "Converged to LP: -669.6:   8%|▊         | 77/1000 [00:01<00:17, 51.95it/s]\n",
      "Converged to LP: -666.7:  13%|█▎        | 126/1000 [00:02<00:14, 59.45it/s]\n",
      "Converged to LP: -686.5:  15%|█▍        | 149/1000 [00:02<00:15, 56.33it/s]\n",
      "Converged to LP: -665.3:  20%|██        | 203/1000 [00:03<00:12, 64.14it/s]\n",
      "Converged to LP: -366.5:   0%|          | 2/1000 [00:00<00:07, 141.36it/s]\n",
      "Converged to LP: -372.3:   0%|          | 2/1000 [00:00<00:06, 152.85it/s]\n",
      "Converged to LP: -366.2:   0%|          | 2/1000 [00:00<00:06, 162.47it/s]\n",
      "Converged to LP: -380.3:   0%|          | 2/1000 [00:00<00:06, 148.45it/s]\n",
      "Converged to LP: -374.9:   0%|          | 2/1000 [00:00<00:06, 158.32it/s]\n",
      "LP: -425.7:   0%|          | 0/1000 [00:00<?, ?it/s]"
     ]
    },
    {
     "name": "stdout",
     "output_type": "stream",
     "text": [
      "Fitting session 7...\n",
      "Fitting 1 states...\n",
      "Fitting 2 states...\n"
     ]
    },
    {
     "name": "stderr",
     "output_type": "stream",
     "text": [
      "Converged to LP: -420.6:   1%|          | 10/1000 [00:00<00:11, 84.94it/s]\n",
      "Converged to LP: -425.6:   1%|          | 11/1000 [00:00<00:10, 94.34it/s]\n",
      "Converged to LP: -434.4:   1%|          | 8/1000 [00:00<00:11, 86.16it/s]\n",
      "Converged to LP: -419.3:   1%|          | 10/1000 [00:00<00:11, 83.20it/s]\n",
      "Converged to LP: -430.2:   1%|▏         | 13/1000 [00:00<00:09, 103.51it/s]\n",
      "LP: -482.9:   0%|          | 0/1000 [00:00<?, ?it/s]"
     ]
    },
    {
     "name": "stdout",
     "output_type": "stream",
     "text": [
      "Fitting 3 states...\n"
     ]
    },
    {
     "name": "stderr",
     "output_type": "stream",
     "text": [
      "Converged to LP: -477.5:   1%|          | 10/1000 [00:00<00:14, 68.80it/s]\n",
      "Converged to LP: -477.2:   2%|▏         | 15/1000 [00:00<00:13, 74.59it/s]\n",
      "Converged to LP: -492.7:   1%|▏         | 13/1000 [00:00<00:12, 78.13it/s]\n",
      "Converged to LP: -481.2:   1%|▏         | 14/1000 [00:00<00:14, 66.79it/s]\n",
      "Converged to LP: -488.6:   3%|▎         | 26/1000 [00:00<00:10, 91.10it/s]\n",
      "LP: -536.7:   0%|          | 5/1000 [00:00<00:21, 46.32it/s]"
     ]
    },
    {
     "name": "stdout",
     "output_type": "stream",
     "text": [
      "Fitting 4 states...\n"
     ]
    },
    {
     "name": "stderr",
     "output_type": "stream",
     "text": [
      "Converged to LP: -531.3:   8%|▊         | 83/1000 [00:01<00:11, 76.96it/s]\n",
      "Converged to LP: -529.6:  10%|█         | 102/1000 [00:01<00:11, 75.37it/s]\n",
      "Converged to LP: -529.3:  11%|█         | 111/1000 [00:01<00:12, 70.83it/s]\n",
      "Converged to LP: -522.0:  12%|█▏        | 119/1000 [00:01<00:11, 76.96it/s]\n",
      "Converged to LP: -538.0:  17%|█▋        | 173/1000 [00:02<00:10, 78.24it/s]\n",
      "LP: -602.7:   0%|          | 0/1000 [00:00<?, ?it/s]"
     ]
    },
    {
     "name": "stdout",
     "output_type": "stream",
     "text": [
      "Fitting 5 states...\n"
     ]
    },
    {
     "name": "stderr",
     "output_type": "stream",
     "text": [
      "Converged to LP: -600.2:   3%|▎         | 33/1000 [00:00<00:16, 57.06it/s]\n",
      "Converged to LP: -591.6:   4%|▍         | 38/1000 [00:00<00:16, 59.31it/s]\n",
      "Converged to LP: -585.5:   4%|▍         | 43/1000 [00:00<00:17, 53.35it/s]\n",
      "Converged to LP: -590.8:   7%|▋         | 73/1000 [00:01<00:13, 69.72it/s]\n",
      "Converged to LP: -599.4:  15%|█▍        | 149/1000 [00:01<00:10, 78.81it/s]\n"
     ]
    },
    {
     "name": "stdout",
     "output_type": "stream",
     "text": [
      "Fitting session 8...\n",
      "Fitting 1 states...\n",
      "Fitting 2 states...\n"
     ]
    },
    {
     "name": "stderr",
     "output_type": "stream",
     "text": [
      "Converged to LP: -374.8:   0%|          | 2/1000 [00:00<00:06, 142.62it/s]\n",
      "Converged to LP: -361.5:   0%|          | 2/1000 [00:00<00:06, 157.32it/s]\n",
      "Converged to LP: -366.2:   0%|          | 2/1000 [00:00<00:06, 147.37it/s]\n",
      "Converged to LP: -363.6:   0%|          | 2/1000 [00:00<00:06, 148.72it/s]\n",
      "Converged to LP: -361.0:   0%|          | 2/1000 [00:00<00:05, 173.70it/s]\n",
      "Converged to LP: -379.5:   0%|          | 5/1000 [00:00<00:10, 94.65it/s]\n",
      "Converged to LP: -371.6:   0%|          | 5/1000 [00:00<00:10, 92.40it/s]\n",
      "Converged to LP: -373.9:   0%|          | 5/1000 [00:00<00:11, 90.24it/s]\n",
      "Converged to LP: -364.3:   0%|          | 5/1000 [00:00<00:12, 77.71it/s]\n",
      "Converged to LP: -375.7:   0%|          | 5/1000 [00:00<00:11, 85.26it/s]\n",
      "Converged to LP: -428.6:   1%|          | 9/1000 [00:00<00:11, 87.07it/s]\n",
      "Converged to LP: -437.2:   1%|▏         | 14/1000 [00:00<00:09, 102.46it/s]\n",
      "Converged to LP: -422.4:   1%|          | 9/1000 [00:00<00:13, 72.26it/s]\n",
      "Converged to LP: -436.0:   1%|          | 11/1000 [00:00<00:10, 94.71it/s]\n",
      "LP: -425.6:   1%|          | 9/1000 [00:00<00:11, 86.79it/s]"
     ]
    },
    {
     "name": "stdout",
     "output_type": "stream",
     "text": [
      "Fitting 3 states...\n"
     ]
    },
    {
     "name": "stderr",
     "output_type": "stream",
     "text": [
      "Converged to LP: -425.5:   2%|▏         | 16/1000 [00:00<00:10, 89.57it/s]\n",
      "LP: -485.3:   0%|          | 5/1000 [00:00<00:24, 40.99it/s]"
     ]
    },
    {
     "name": "stdout",
     "output_type": "stream",
     "text": [
      "Fitting 4 states...\n"
     ]
    },
    {
     "name": "stderr",
     "output_type": "stream",
     "text": [
      "Converged to LP: -482.2:   6%|▋         | 63/1000 [00:00<00:10, 90.14it/s] \n",
      "Converged to LP: -481.5:   8%|▊         | 78/1000 [00:00<00:10, 91.82it/s] \n",
      "Converged to LP: -497.7:   8%|▊         | 82/1000 [00:00<00:09, 97.38it/s] \n",
      "Converged to LP: -484.8:  14%|█▍        | 145/1000 [00:01<00:08, 105.41it/s]\n",
      "Converged to LP: -471.5:  22%|██▏       | 224/1000 [00:02<00:07, 108.17it/s]\n",
      "LP: -583.6:   0%|          | 0/1000 [00:00<?, ?it/s]"
     ]
    },
    {
     "name": "stdout",
     "output_type": "stream",
     "text": [
      "Fitting 5 states...\n"
     ]
    },
    {
     "name": "stderr",
     "output_type": "stream",
     "text": [
      "Converged to LP: -532.6:   3%|▎         | 26/1000 [00:00<00:18, 53.83it/s]\n",
      "Converged to LP: -542.5:   4%|▎         | 37/1000 [00:00<00:15, 61.21it/s]\n",
      "Converged to LP: -533.5:   7%|▋         | 73/1000 [00:01<00:14, 63.37it/s]\n",
      "Converged to LP: -544.1:   7%|▋         | 72/1000 [00:01<00:14, 65.78it/s]\n",
      "Converged to LP: -535.1:   8%|▊         | 76/1000 [00:01<00:14, 64.93it/s]\n",
      "Converged to LP: -472.7:   0%|          | 2/1000 [00:00<00:09, 108.60it/s]\n",
      "Converged to LP: -460.2:   0%|          | 2/1000 [00:00<00:08, 117.82it/s]\n",
      "Converged to LP: -459.5:   0%|          | 2/1000 [00:00<00:06, 147.03it/s]\n",
      "Converged to LP: -451.8:   0%|          | 2/1000 [00:00<00:06, 148.77it/s]\n",
      "Converged to LP: -457.2:   0%|          | 2/1000 [00:00<00:07, 131.33it/s]\n"
     ]
    },
    {
     "name": "stdout",
     "output_type": "stream",
     "text": [
      "Fitting session 9...\n",
      "Fitting 1 states...\n",
      "Fitting 2 states...\n"
     ]
    },
    {
     "name": "stderr",
     "output_type": "stream",
     "text": [
      "Converged to LP: -525.0:   1%|          | 12/1000 [00:00<00:09, 109.61it/s]\n",
      "Converged to LP: -511.6:   1%|          | 12/1000 [00:00<00:10, 98.18it/s]\n",
      "Converged to LP: -508.6:   1%|          | 11/1000 [00:00<00:08, 114.87it/s]\n",
      "Converged to LP: -504.8:   1%|▏         | 14/1000 [00:00<00:09, 100.44it/s]\n",
      "Converged to LP: -510.4:   2%|▏         | 18/1000 [00:00<00:09, 106.07it/s]\n"
     ]
    },
    {
     "name": "stdout",
     "output_type": "stream",
     "text": [
      "Fitting 3 states...\n"
     ]
    },
    {
     "name": "stderr",
     "output_type": "stream",
     "text": [
      "Converged to LP: -562.9:   1%|          | 9/1000 [00:00<00:14, 68.70it/s]\n",
      "Converged to LP: -581.0:   1%|          | 10/1000 [00:00<00:15, 62.67it/s]\n",
      "Converged to LP: -571.9:   2%|▏         | 19/1000 [00:00<00:12, 78.33it/s]\n",
      "Converged to LP: -571.6:   2%|▏         | 17/1000 [00:00<00:12, 79.37it/s]\n",
      "Converged to LP: -562.1:   2%|▏         | 17/1000 [00:00<00:14, 68.22it/s]\n",
      "LP: -653.9:   0%|          | 0/1000 [00:00<?, ?it/s]"
     ]
    },
    {
     "name": "stdout",
     "output_type": "stream",
     "text": [
      "Fitting 4 states...\n"
     ]
    },
    {
     "name": "stderr",
     "output_type": "stream",
     "text": [
      "Converged to LP: -610.5:   9%|▉         | 94/1000 [00:01<00:11, 76.08it/s]\n",
      "Converged to LP: -629.4:  10%|█         | 105/1000 [00:01<00:12, 73.16it/s]\n",
      "Converged to LP: -599.7:  11%|█         | 110/1000 [00:01<00:12, 70.40it/s]\n",
      "Converged to LP: -619.2:  26%|██▋       | 263/1000 [00:02<00:08, 91.83it/s] \n",
      "Converged to LP: -617.3:  24%|██▍       | 241/1000 [00:03<00:09, 79.92it/s]\n",
      "LP: -714.7:   0%|          | 0/1000 [00:00<?, ?it/s]"
     ]
    },
    {
     "name": "stdout",
     "output_type": "stream",
     "text": [
      "Fitting 5 states...\n"
     ]
    },
    {
     "name": "stderr",
     "output_type": "stream",
     "text": [
      "Converged to LP: -688.4:   2%|▏         | 24/1000 [00:00<00:16, 57.69it/s]\n",
      "Converged to LP: -694.0:   3%|▎         | 30/1000 [00:00<00:17, 56.13it/s]\n",
      "Converged to LP: -677.0:   3%|▎         | 32/1000 [00:00<00:15, 61.93it/s]\n",
      "LP: -689.6:   4%|▍         | 39/1000 [00:00<00:14, 66.64it/s]3, 69.53it/s]\n",
      "Converged to LP: -689.6:   5%|▍         | 47/1000 [00:00<00:14, 63.94it/s]\n",
      "Converged to LP: -401.4:   0%|          | 2/1000 [00:00<00:06, 153.83it/s]\n",
      "Converged to LP: -400.9:   0%|          | 2/1000 [00:00<00:07, 141.04it/s]\n",
      "Converged to LP: -401.3:   0%|          | 2/1000 [00:00<00:07, 141.28it/s]\n",
      "Converged to LP: -393.9:   0%|          | 2/1000 [00:00<00:07, 138.05it/s]\n",
      "Converged to LP: -415.2:   0%|          | 2/1000 [00:00<00:05, 170.27it/s]\n"
     ]
    },
    {
     "name": "stdout",
     "output_type": "stream",
     "text": [
      "Fitting session 10...\n",
      "Fitting 1 states...\n",
      "Fitting 2 states...\n"
     ]
    },
    {
     "name": "stderr",
     "output_type": "stream",
     "text": [
      "Converged to LP: -442.4:   1%|          | 7/1000 [00:00<00:10, 95.32it/s]\n",
      "Converged to LP: -442.5:   1%|          | 8/1000 [00:00<00:13, 72.21it/s]\n",
      "Converged to LP: -461.7:   1%|          | 8/1000 [00:00<00:10, 97.36it/s]\n",
      "Converged to LP: -439.3:   1%|          | 10/1000 [00:00<00:09, 100.59it/s]\n",
      "Converged to LP: -449.5:   1%|▏         | 13/1000 [00:00<00:10, 90.79it/s]\n",
      "LP: -514.1:   0%|          | 0/1000 [00:00<?, ?it/s]"
     ]
    },
    {
     "name": "stdout",
     "output_type": "stream",
     "text": [
      "Fitting 3 states...\n"
     ]
    },
    {
     "name": "stderr",
     "output_type": "stream",
     "text": [
      "Converged to LP: -500.7:   1%|          | 7/1000 [00:00<00:12, 79.78it/s]\n",
      "Converged to LP: -502.8:   1%|▏         | 13/1000 [00:00<00:10, 94.81it/s]\n",
      "Converged to LP: -513.1:   1%|          | 9/1000 [00:00<00:11, 87.86it/s]\n",
      "Converged to LP: -499.1:   1%|          | 11/1000 [00:00<00:13, 74.30it/s]\n",
      "Converged to LP: -496.4:   1%|▏         | 13/1000 [00:00<00:13, 73.24it/s]\n"
     ]
    },
    {
     "name": "stdout",
     "output_type": "stream",
     "text": [
      "Fitting 4 states...\n"
     ]
    },
    {
     "name": "stderr",
     "output_type": "stream",
     "text": [
      "Converged to LP: -552.1:   7%|▋         | 71/1000 [00:01<00:14, 65.95it/s]\n",
      "Converged to LP: -562.7:   8%|▊         | 75/1000 [00:01<00:13, 69.94it/s]\n",
      "Converged to LP: -550.0:   8%|▊         | 81/1000 [00:01<00:14, 64.76it/s]\n",
      "Converged to LP: -555.5:  11%|█         | 107/1000 [00:01<00:11, 80.00it/s]\n",
      "Converged to LP: -546.8:  10%|▉         | 99/1000 [00:01<00:12, 73.86it/s]\n",
      "LP: -639.1:   0%|          | 0/1000 [00:00<?, ?it/s]"
     ]
    },
    {
     "name": "stdout",
     "output_type": "stream",
     "text": [
      "Fitting 5 states...\n"
     ]
    },
    {
     "name": "stderr",
     "output_type": "stream",
     "text": [
      "Converged to LP: -615.4:   6%|▌         | 55/1000 [00:01<00:17, 54.11it/s]\n",
      "Converged to LP: -612.4:   8%|▊         | 78/1000 [00:01<00:13, 69.06it/s]\n",
      "Converged to LP: -611.9:   8%|▊         | 80/1000 [00:01<00:14, 62.48it/s]\n",
      "Converged to LP: -611.2:  10%|█         | 105/1000 [00:01<00:12, 71.18it/s]\n",
      "Converged to LP: -602.5:  10%|▉         | 96/1000 [00:01<00:14, 64.22it/s]\n",
      "Converged to LP: -396.4:   0%|          | 2/1000 [00:00<00:08, 118.85it/s]\n",
      "Converged to LP: -400.3:   0%|          | 2/1000 [00:00<00:09, 105.71it/s]\n",
      "Converged to LP: -409.5:   0%|          | 2/1000 [00:00<00:08, 115.03it/s]\n",
      "Converged to LP: -406.8:   0%|          | 2/1000 [00:00<00:08, 111.16it/s]\n",
      "Converged to LP: -395.7:   0%|          | 2/1000 [00:00<00:07, 134.72it/s]\n",
      "LP: -477.1:   0%|          | 0/1000 [00:00<?, ?it/s]"
     ]
    },
    {
     "name": "stdout",
     "output_type": "stream",
     "text": [
      "Fitting session 11...\n",
      "Fitting 1 states...\n",
      "Fitting 2 states...\n"
     ]
    },
    {
     "name": "stderr",
     "output_type": "stream",
     "text": [
      "Converged to LP: -446.5:   1%|          | 10/1000 [00:00<00:10, 97.30it/s]\n",
      "Converged to LP: -453.3:   1%|          | 9/1000 [00:00<00:12, 79.85it/s]\n",
      "Converged to LP: -446.2:   1%|          | 11/1000 [00:00<00:10, 96.16it/s] \n",
      "Converged to LP: -449.5:   2%|▏         | 16/1000 [00:00<00:11, 83.12it/s]\n",
      "Converged to LP: -459.3:   3%|▎         | 29/1000 [00:00<00:09, 105.25it/s]\n",
      "LP: -511.2:   0%|          | 0/1000 [00:00<?, ?it/s]"
     ]
    },
    {
     "name": "stdout",
     "output_type": "stream",
     "text": [
      "Fitting 3 states...\n"
     ]
    },
    {
     "name": "stderr",
     "output_type": "stream",
     "text": [
      "LP: -502.0:   2%|▏         | 15/1000 [00:00<00:14, 67.15it/s]1, 82.83it/s]\n",
      "Converged to LP: -507.9:   3%|▎         | 32/1000 [00:00<00:13, 74.44it/s]\n",
      "Converged to LP: -501.9:   3%|▎         | 32/1000 [00:00<00:13, 70.38it/s]\n",
      "Converged to LP: -506.3:   4%|▍         | 38/1000 [00:00<00:13, 71.53it/s]\n",
      "Converged to LP: -503.6:  10%|█         | 101/1000 [00:01<00:10, 88.90it/s]\n",
      "LP: -567.2:   0%|          | 0/1000 [00:00<?, ?it/s]"
     ]
    },
    {
     "name": "stdout",
     "output_type": "stream",
     "text": [
      "Fitting 4 states...\n"
     ]
    },
    {
     "name": "stderr",
     "output_type": "stream",
     "text": [
      "Converged to LP: -553.0:   7%|▋         | 74/1000 [00:01<00:14, 63.61it/s]\n",
      "Converged to LP: -554.0:   9%|▉         | 91/1000 [00:01<00:12, 70.54it/s]\n",
      "Converged to LP: -566.0:  11%|█▏        | 114/1000 [00:01<00:12, 73.08it/s]\n",
      "Converged to LP: -551.2:  26%|██▌       | 258/1000 [00:02<00:08, 86.13it/s] \n",
      "Converged to LP: -545.0:  56%|█████▌    | 562/1000 [00:05<00:04, 101.77it/s]\n",
      "LP: -658.2:   0%|          | 0/1000 [00:00<?, ?it/s]"
     ]
    },
    {
     "name": "stdout",
     "output_type": "stream",
     "text": [
      "Fitting 5 states...\n"
     ]
    },
    {
     "name": "stderr",
     "output_type": "stream",
     "text": [
      "Converged to LP: -606.1:   4%|▍         | 45/1000 [00:00<00:14, 64.82it/s]\n",
      "Converged to LP: -606.1:   4%|▍         | 39/1000 [00:00<00:16, 57.28it/s]\n",
      "Converged to LP: -615.8:  10%|█         | 103/1000 [00:01<00:12, 70.21it/s]\n",
      "Converged to LP: -607.3:  11%|█         | 111/1000 [00:01<00:12, 71.28it/s]\n",
      "Converged to LP: -613.4:  14%|█▍        | 138/1000 [00:01<00:11, 75.94it/s]\n",
      "Converged to LP: -392.8:   0%|          | 2/1000 [00:00<00:06, 161.47it/s]\n",
      "Converged to LP: -400.2:   0%|          | 2/1000 [00:00<00:05, 166.48it/s]\n",
      "Converged to LP: -400.9:   0%|          | 2/1000 [00:00<00:06, 160.73it/s]\n",
      "Converged to LP: -388.3:   0%|          | 2/1000 [00:00<00:06, 162.59it/s]\n",
      "LP: -404.0:   0%|          | 0/1000 [00:00<?, ?it/s]"
     ]
    },
    {
     "name": "stdout",
     "output_type": "stream",
     "text": [
      "Fitting session 12...\n",
      "Fitting 1 states...\n",
      "Fitting 2 states...\n"
     ]
    },
    {
     "name": "stderr",
     "output_type": "stream",
     "text": [
      "Converged to LP: -390.6:   0%|          | 2/1000 [00:00<00:06, 163.54it/s]\n",
      "Converged to LP: -442.6:   1%|          | 10/1000 [00:00<00:07, 131.48it/s]\n",
      "Converged to LP: -445.9:   3%|▎         | 32/1000 [00:00<00:07, 129.54it/s]\n",
      "Converged to LP: -450.6:   5%|▍         | 47/1000 [00:00<00:07, 136.14it/s]\n",
      "Converged to LP: -451.7:   5%|▌         | 53/1000 [00:00<00:06, 138.64it/s]\n",
      "Converged to LP: -439.8:   8%|▊         | 85/1000 [00:00<00:06, 140.18it/s]\n",
      "LP: -502.7:   1%|          | 10/1000 [00:00<00:10, 97.30it/s]"
     ]
    },
    {
     "name": "stdout",
     "output_type": "stream",
     "text": [
      "Fitting 3 states...\n"
     ]
    },
    {
     "name": "stderr",
     "output_type": "stream",
     "text": [
      "Converged to LP: -504.7:   1%|▏         | 14/1000 [00:00<00:11, 86.26it/s]\n",
      "Converged to LP: -495.9:   2%|▏         | 19/1000 [00:00<00:09, 103.54it/s]\n",
      "Converged to LP: -501.9:   3%|▎         | 32/1000 [00:00<00:09, 98.50it/s]\n",
      "Converged to LP: -507.8:   3%|▎         | 31/1000 [00:00<00:10, 95.78it/s]\n",
      "Converged to LP: -506.4:  12%|█▏        | 117/1000 [00:00<00:07, 117.12it/s]\n",
      "LP: -573.9:   0%|          | 0/1000 [00:00<?, ?it/s]"
     ]
    },
    {
     "name": "stdout",
     "output_type": "stream",
     "text": [
      "Fitting 4 states...\n"
     ]
    },
    {
     "name": "stderr",
     "output_type": "stream",
     "text": [
      "Converged to LP: -559.2:   6%|▋         | 64/1000 [00:00<00:12, 76.40it/s]\n",
      "Converged to LP: -547.5:  12%|█▏        | 121/1000 [00:01<00:09, 88.84it/s]\n",
      "Converged to LP: -552.8:  15%|█▌        | 151/1000 [00:01<00:09, 91.10it/s] \n",
      "Converged to LP: -565.1:  16%|█▋        | 165/1000 [00:01<00:09, 87.58it/s] \n",
      "Converged to LP: -555.3:  15%|█▌        | 151/1000 [00:01<00:10, 80.98it/s]\n",
      "LP: -641.4:   0%|          | 0/1000 [00:00<?, ?it/s]"
     ]
    },
    {
     "name": "stdout",
     "output_type": "stream",
     "text": [
      "Fitting 5 states...\n"
     ]
    },
    {
     "name": "stderr",
     "output_type": "stream",
     "text": [
      "Converged to LP: -608.6:   4%|▎         | 36/1000 [00:00<00:15, 61.57it/s]\n",
      "Converged to LP: -607.5:   4%|▍         | 41/1000 [00:00<00:15, 60.75it/s]\n",
      "Converged to LP: -621.8:   5%|▍         | 47/1000 [00:00<00:14, 67.35it/s]\n",
      "Converged to LP: -595.4:   4%|▍         | 40/1000 [00:00<00:16, 59.29it/s]\n",
      "Converged to LP: -593.2:  25%|██▍       | 247/1000 [00:02<00:07, 95.18it/s] \n",
      "Converged to LP: -389.6:   0%|          | 2/1000 [00:00<00:07, 140.80it/s]\n",
      "LP: -391.3:   0%|          | 0/1000 [00:00<?, ?it/s]"
     ]
    },
    {
     "name": "stdout",
     "output_type": "stream",
     "text": [
      "Fitting session 13...\n",
      "Fitting 1 states...\n",
      "Fitting 2 states...\n"
     ]
    },
    {
     "name": "stderr",
     "output_type": "stream",
     "text": [
      "Converged to LP: -383.6:   0%|          | 2/1000 [00:00<00:07, 138.09it/s]\n",
      "Converged to LP: -387.6:   0%|          | 2/1000 [00:00<00:07, 127.67it/s]\n",
      "Converged to LP: -383.9:   0%|          | 2/1000 [00:00<00:06, 154.29it/s]\n",
      "Converged to LP: -394.6:   0%|          | 2/1000 [00:00<00:06, 157.58it/s]\n",
      "Converged to LP: -444.0:   1%|          | 11/1000 [00:00<00:09, 99.36it/s] \n",
      "Converged to LP: -437.7:   1%|          | 10/1000 [00:00<00:08, 110.58it/s]\n",
      "Converged to LP: -440.3:   1%|          | 12/1000 [00:00<00:09, 101.61it/s]\n",
      "Converged to LP: -436.8:   1%|          | 12/1000 [00:00<00:09, 107.06it/s]\n",
      "Converged to LP: -451.5:   1%|          | 11/1000 [00:00<00:09, 101.85it/s]\n",
      "Converged to LP: -503.0:   1%|          | 10/1000 [00:00<00:12, 78.86it/s]\n",
      "LP: -494.6:   1%|          | 9/1000 [00:00<00:11, 85.39it/s]"
     ]
    },
    {
     "name": "stdout",
     "output_type": "stream",
     "text": [
      "Fitting 3 states...\n"
     ]
    },
    {
     "name": "stderr",
     "output_type": "stream",
     "text": [
      "Converged to LP: -494.6:   1%|          | 11/1000 [00:00<00:11, 84.91it/s]\n",
      "Converged to LP: -510.7:   1%|▏         | 13/1000 [00:00<00:12, 79.74it/s]\n",
      "Converged to LP: -498.6:   2%|▏         | 19/1000 [00:00<00:11, 88.27it/s]\n",
      "Converged to LP: -492.3:   4%|▎         | 35/1000 [00:00<00:09, 98.25it/s] \n",
      "LP: -551.7:   0%|          | 5/1000 [00:00<00:21, 46.33it/s]"
     ]
    },
    {
     "name": "stdout",
     "output_type": "stream",
     "text": [
      "Fitting 4 states...\n"
     ]
    },
    {
     "name": "stderr",
     "output_type": "stream",
     "text": [
      "Converged to LP: -549.7:  10%|▉         | 97/1000 [00:01<00:12, 72.36it/s]\n",
      "Converged to LP: -542.8:  10%|▉         | 98/1000 [00:01<00:12, 72.23it/s]\n",
      "Converged to LP: -536.5:  14%|█▎        | 136/1000 [00:01<00:10, 78.67it/s]\n",
      "Converged to LP: -546.4:  16%|█▌        | 159/1000 [00:01<00:09, 84.85it/s] \n",
      "Converged to LP: -562.0:  66%|██████▌   | 658/1000 [00:05<00:03, 110.69it/s]\n",
      "LP: -655.7:   0%|          | 0/1000 [00:00<?, ?it/s]"
     ]
    },
    {
     "name": "stdout",
     "output_type": "stream",
     "text": [
      "Fitting 5 states...\n"
     ]
    },
    {
     "name": "stderr",
     "output_type": "stream",
     "text": [
      "Converged to LP: -605.4:   3%|▎         | 30/1000 [00:00<00:16, 58.50it/s]\n",
      "Converged to LP: -601.6:   3%|▎         | 30/1000 [00:00<00:17, 55.11it/s]\n",
      "Converged to LP: -603.3:   5%|▍         | 49/1000 [00:00<00:15, 62.93it/s]\n",
      "Converged to LP: -604.1:   8%|▊         | 78/1000 [00:01<00:11, 77.56it/s]\n",
      "Converged to LP: -621.2:   7%|▋         | 73/1000 [00:01<00:12, 72.85it/s]\n",
      "Converged to LP: -394.8:   0%|          | 2/1000 [00:00<00:06, 154.75it/s]\n",
      "LP: -405.5:   0%|          | 0/1000 [00:00<?, ?it/s]"
     ]
    },
    {
     "name": "stdout",
     "output_type": "stream",
     "text": [
      "Fitting session 14...\n",
      "Fitting 1 states...\n",
      "Fitting 2 states...\n"
     ]
    },
    {
     "name": "stderr",
     "output_type": "stream",
     "text": [
      "Converged to LP: -413.9:   0%|          | 2/1000 [00:00<00:06, 146.14it/s]\n",
      "Converged to LP: -396.0:   0%|          | 2/1000 [00:00<00:08, 114.23it/s]\n",
      "Converged to LP: -402.3:   0%|          | 2/1000 [00:00<00:08, 123.56it/s]\n",
      "Converged to LP: -399.1:   0%|          | 2/1000 [00:00<00:06, 153.34it/s]\n",
      "Converged to LP: -434.8:   1%|          | 9/1000 [00:00<00:11, 85.05it/s]\n",
      "Converged to LP: -452.4:   1%|          | 8/1000 [00:00<00:13, 76.26it/s]\n",
      "Converged to LP: -435.2:   1%|          | 8/1000 [00:00<00:11, 89.87it/s]\n",
      "Converged to LP: -444.2:   1%|          | 8/1000 [00:00<00:10, 90.23it/s]\n",
      "Converged to LP: -441.8:   1%|          | 9/1000 [00:00<00:09, 103.57it/s]\n",
      "Converged to LP: -489.4:   1%|▏         | 13/1000 [00:00<00:10, 91.00it/s]\n",
      "Converged to LP: -486.6:   1%|          | 9/1000 [00:00<00:12, 79.76it/s]\n",
      "LP: -500.6:   1%|          | 8/1000 [00:00<00:12, 76.78it/s]"
     ]
    },
    {
     "name": "stdout",
     "output_type": "stream",
     "text": [
      "Fitting 3 states...\n"
     ]
    },
    {
     "name": "stderr",
     "output_type": "stream",
     "text": [
      "Converged to LP: -504.4:   1%|          | 11/1000 [00:00<00:13, 71.57it/s]\n",
      "Converged to LP: -492.6:   1%|          | 12/1000 [00:00<00:14, 70.14it/s]\n",
      "Converged to LP: -497.6:   3%|▎         | 29/1000 [00:00<00:10, 89.48it/s]\n",
      "LP: -547.0:   0%|          | 5/1000 [00:00<00:20, 47.74it/s]"
     ]
    },
    {
     "name": "stdout",
     "output_type": "stream",
     "text": [
      "Fitting 4 states...\n"
     ]
    },
    {
     "name": "stderr",
     "output_type": "stream",
     "text": [
      "Converged to LP: -534.2:   7%|▋         | 71/1000 [00:01<00:14, 66.04it/s]\n",
      "Converged to LP: -558.3:   9%|▊         | 86/1000 [00:01<00:12, 74.62it/s]\n",
      "Converged to LP: -545.0:  12%|█▏        | 116/1000 [00:01<00:11, 74.21it/s]\n",
      "Converged to LP: -539.1:  15%|█▌        | 154/1000 [00:02<00:11, 75.84it/s]\n",
      "Converged to LP: -555.4:  18%|█▊        | 183/1000 [00:02<00:09, 87.02it/s] \n",
      "LP: -620.7:   0%|          | 0/1000 [00:00<?, ?it/s]"
     ]
    },
    {
     "name": "stdout",
     "output_type": "stream",
     "text": [
      "Fitting 5 states...\n"
     ]
    },
    {
     "name": "stderr",
     "output_type": "stream",
     "text": [
      "Converged to LP: -607.1:   1%|▏         | 14/1000 [00:00<00:18, 53.63it/s]\n",
      "Converged to LP: -611.4:   4%|▍         | 41/1000 [00:00<00:14, 67.90it/s]\n",
      "Converged to LP: -601.4:   5%|▌         | 51/1000 [00:00<00:13, 69.30it/s]\n",
      "Converged to LP: -605.3:   7%|▋         | 69/1000 [00:01<00:13, 67.90it/s]\n",
      "Converged to LP: -588.8:   8%|▊         | 85/1000 [00:01<00:11, 79.03it/s]\n",
      "Converged to LP: -366.4:   0%|          | 2/1000 [00:00<00:07, 136.92it/s]\n",
      "Converged to LP: -405.6:   0%|          | 2/1000 [00:00<00:06, 163.99it/s]\n",
      "Converged to LP: -391.2:   0%|          | 2/1000 [00:00<00:05, 167.75it/s]\n",
      "Converged to LP: -399.6:   0%|          | 2/1000 [00:00<00:06, 156.00it/s]\n",
      "Converged to LP: -387.9:   0%|          | 2/1000 [00:00<00:05, 167.22it/s]\n",
      "LP: -453.9:   0%|          | 0/1000 [00:00<?, ?it/s]"
     ]
    },
    {
     "name": "stdout",
     "output_type": "stream",
     "text": [
      "Fitting session 15...\n",
      "Fitting 1 states...\n",
      "Fitting 2 states...\n"
     ]
    },
    {
     "name": "stderr",
     "output_type": "stream",
     "text": [
      "Converged to LP: -411.7:   1%|          | 12/1000 [00:00<00:10, 91.97it/s]\n",
      "Converged to LP: -444.5:   1%|▏         | 14/1000 [00:00<00:09, 99.92it/s]\n",
      "Converged to LP: -436.6:   1%|▏         | 14/1000 [00:00<00:09, 100.92it/s]\n",
      "Converged to LP: -453.9:   4%|▎         | 35/1000 [00:00<00:08, 115.35it/s]\n",
      "Converged to LP: -440.9:   4%|▎         | 35/1000 [00:00<00:08, 117.99it/s]\n",
      "LP: -499.2:   0%|          | 0/1000 [00:00<?, ?it/s]"
     ]
    },
    {
     "name": "stdout",
     "output_type": "stream",
     "text": [
      "Fitting 3 states...\n"
     ]
    },
    {
     "name": "stderr",
     "output_type": "stream",
     "text": [
      "Converged to LP: -464.3:   1%|          | 11/1000 [00:00<00:15, 63.01it/s]\n",
      "Converged to LP: -498.5:   1%|          | 11/1000 [00:00<00:14, 70.38it/s]\n",
      "Converged to LP: -507.6:   1%|▏         | 13/1000 [00:00<00:13, 72.70it/s]\n",
      "Converged to LP: -490.9:   1%|          | 12/1000 [00:00<00:13, 73.33it/s]\n",
      "Converged to LP: -493.2:   3%|▎         | 28/1000 [00:00<00:12, 76.95it/s]\n",
      "LP: -568.8:   0%|          | 0/1000 [00:00<?, ?it/s]"
     ]
    },
    {
     "name": "stdout",
     "output_type": "stream",
     "text": [
      "Fitting 4 states...\n"
     ]
    },
    {
     "name": "stderr",
     "output_type": "stream",
     "text": [
      "Converged to LP: -547.3:   5%|▍         | 47/1000 [00:00<00:14, 63.80it/s]\n",
      "Converged to LP: -535.0:   6%|▋         | 63/1000 [00:00<00:13, 67.20it/s]\n",
      "Converged to LP: -547.1:   8%|▊         | 75/1000 [00:00<00:12, 76.16it/s]\n",
      "Converged to LP: -512.0:   7%|▋         | 74/1000 [00:01<00:12, 72.68it/s]\n",
      "Converged to LP: -544.9:  18%|█▊        | 184/1000 [00:01<00:07, 104.98it/s]\n",
      "LP: -634.3:   0%|          | 0/1000 [00:00<?, ?it/s]"
     ]
    },
    {
     "name": "stdout",
     "output_type": "stream",
     "text": [
      "Fitting 5 states...\n"
     ]
    },
    {
     "name": "stderr",
     "output_type": "stream",
     "text": [
      "Converged to LP: -619.8:   2%|▏         | 16/1000 [00:00<00:17, 54.83it/s]\n",
      "Converged to LP: -626.4:   2%|▎         | 25/1000 [00:00<00:17, 56.39it/s]\n",
      "Converged to LP: -615.1:   3%|▎         | 27/1000 [00:00<00:15, 64.10it/s]\n",
      "Converged to LP: -589.4:   7%|▋         | 67/1000 [00:00<00:10, 87.11it/s]\n",
      "Converged to LP: -601.8:  15%|█▌        | 152/1000 [00:01<00:09, 88.66it/s] \n"
     ]
    },
    {
     "name": "stdout",
     "output_type": "stream",
     "text": [
      "Fitting session 16...\n",
      "Fitting 1 states...\n",
      "Fitting 2 states...\n"
     ]
    },
    {
     "name": "stderr",
     "output_type": "stream",
     "text": [
      "Converged to LP: -405.5:   0%|          | 2/1000 [00:00<00:07, 135.68it/s]\n",
      "Converged to LP: -400.5:   0%|          | 2/1000 [00:00<00:06, 146.35it/s]\n",
      "Converged to LP: -410.3:   0%|          | 2/1000 [00:00<00:06, 166.18it/s]\n",
      "Converged to LP: -413.8:   0%|          | 2/1000 [00:00<00:06, 152.35it/s]\n",
      "Converged to LP: -406.5:   0%|          | 2/1000 [00:00<00:06, 160.15it/s]\n",
      "Converged to LP: -458.4:   1%|          | 9/1000 [00:00<00:08, 114.30it/s]\n",
      "Converged to LP: -455.6:   1%|          | 10/1000 [00:00<00:07, 125.82it/s]\n",
      "Converged to LP: -466.7:   1%|          | 11/1000 [00:00<00:09, 107.88it/s]\n",
      "Converged to LP: -469.4:   1%|          | 12/1000 [00:00<00:09, 106.66it/s]\n",
      "Converged to LP: -462.1:   1%|          | 10/1000 [00:00<00:10, 93.58it/s]\n",
      "LP: -515.4:   1%|          | 8/1000 [00:00<00:12, 79.35it/s]"
     ]
    },
    {
     "name": "stdout",
     "output_type": "stream",
     "text": [
      "Fitting 3 states...\n"
     ]
    },
    {
     "name": "stderr",
     "output_type": "stream",
     "text": [
      "Converged to LP: -523.6:   2%|▎         | 25/1000 [00:00<00:11, 84.88it/s]\n",
      "Converged to LP: -510.8:   3%|▎         | 26/1000 [00:00<00:12, 78.80it/s]\n",
      "Converged to LP: -521.2:   2%|▏         | 23/1000 [00:00<00:11, 82.35it/s]\n",
      "Converged to LP: -526.7:   4%|▍         | 38/1000 [00:00<00:11, 85.89it/s]\n",
      "Converged to LP: -511.6:   8%|▊         | 80/1000 [00:00<00:08, 112.92it/s]\n",
      "LP: -597.5:   0%|          | 0/1000 [00:00<?, ?it/s]"
     ]
    },
    {
     "name": "stdout",
     "output_type": "stream",
     "text": [
      "Fitting 4 states...\n"
     ]
    },
    {
     "name": "stderr",
     "output_type": "stream",
     "text": [
      "Converged to LP: -580.4:  10%|▉         | 98/1000 [00:01<00:12, 69.88it/s]\n",
      "Converged to LP: -561.4:  10%|█         | 103/1000 [00:01<00:13, 67.63it/s]\n",
      "Converged to LP: -558.0:  14%|█▍        | 144/1000 [00:01<00:11, 72.85it/s]\n",
      "Converged to LP: -574.9:  15%|█▌        | 151/1000 [00:02<00:11, 72.14it/s]\n",
      "Converged to LP: -574.7:  21%|██▏       | 213/1000 [00:02<00:09, 86.70it/s] \n",
      "LP: -650.3:   0%|          | 0/1000 [00:00<?, ?it/s].36it/s]"
     ]
    },
    {
     "name": "stdout",
     "output_type": "stream",
     "text": [
      "Fitting 5 states...\n"
     ]
    },
    {
     "name": "stderr",
     "output_type": "stream",
     "text": [
      "Converged to LP: -619.1:   2%|▎         | 25/1000 [00:00<00:16, 59.12it/s]\n",
      "Converged to LP: -630.6:   2%|▏         | 24/1000 [00:00<00:17, 57.38it/s]\n",
      "Converged to LP: -627.8:   3%|▎         | 34/1000 [00:00<00:16, 57.54it/s]\n",
      "Converged to LP: -634.5:   4%|▍         | 43/1000 [00:00<00:16, 59.38it/s]\n",
      "Converged to LP: -635.5:   6%|▌         | 56/1000 [00:00<00:14, 63.89it/s]\n",
      "LP: -349.9:   0%|          | 0/1000 [00:00<?, ?it/s]"
     ]
    },
    {
     "name": "stdout",
     "output_type": "stream",
     "text": [
      "Fitting session 17...\n",
      "Fitting 1 states...\n",
      "Fitting 2 states...\n"
     ]
    },
    {
     "name": "stderr",
     "output_type": "stream",
     "text": [
      "Converged to LP: -332.9:   0%|          | 2/1000 [00:00<00:08, 117.38it/s]\n",
      "Converged to LP: -353.7:   0%|          | 2/1000 [00:00<00:08, 118.59it/s]\n",
      "Converged to LP: -362.8:   0%|          | 2/1000 [00:00<00:07, 136.41it/s]\n",
      "Converged to LP: -356.2:   0%|          | 2/1000 [00:00<00:06, 154.28it/s]\n",
      "Converged to LP: -363.9:   0%|          | 2/1000 [00:00<00:05, 170.99it/s]\n",
      "Converged to LP: -408.4:   1%|▏         | 14/1000 [00:00<00:07, 123.44it/s]\n",
      "Converged to LP: -410.0:   1%|▏         | 13/1000 [00:00<00:09, 102.54it/s]\n",
      "Converged to LP: -404.1:   2%|▏         | 18/1000 [00:00<00:07, 129.83it/s]\n",
      "Converged to LP: -384.2:   3%|▎         | 28/1000 [00:00<00:07, 128.18it/s]\n",
      "Converged to LP: -411.8:   4%|▎         | 35/1000 [00:00<00:07, 130.10it/s]\n",
      "LP: -462.1:   0%|          | 0/1000 [00:00<?, ?it/s]"
     ]
    },
    {
     "name": "stdout",
     "output_type": "stream",
     "text": [
      "Fitting 3 states...\n"
     ]
    },
    {
     "name": "stderr",
     "output_type": "stream",
     "text": [
      "Converged to LP: -454.1:   1%|▏         | 14/1000 [00:00<00:14, 68.61it/s]\n",
      "Converged to LP: -457.4:   4%|▍         | 41/1000 [00:00<00:10, 92.86it/s]\n",
      "Converged to LP: -464.6:   4%|▍         | 38/1000 [00:00<00:11, 82.76it/s]\n",
      "Converged to LP: -440.6:   4%|▍         | 45/1000 [00:00<00:10, 88.57it/s]\n",
      "Converged to LP: -468.0:   5%|▍         | 47/1000 [00:00<00:10, 91.52it/s]\n",
      "LP: -524.4:   0%|          | 0/1000 [00:00<?, ?it/s]"
     ]
    },
    {
     "name": "stdout",
     "output_type": "stream",
     "text": [
      "Fitting 4 states...\n"
     ]
    },
    {
     "name": "stderr",
     "output_type": "stream",
     "text": [
      "Converged to LP: -506.4:  12%|█▏        | 122/1000 [00:01<00:10, 80.72it/s]\n",
      "Converged to LP: -514.7:  15%|█▌        | 153/1000 [00:01<00:11, 76.58it/s]\n",
      "Converged to LP: -496.6:  19%|█▉        | 192/1000 [00:02<00:09, 87.79it/s] \n",
      "Converged to LP: -520.3:  16%|█▌        | 162/1000 [00:02<00:11, 73.42it/s]\n",
      "Converged to LP: -506.8:  32%|███▏      | 323/1000 [00:03<00:07, 91.38it/s] \n",
      "LP: -585.2:   0%|          | 0/1000 [00:00<?, ?it/s].76it/s]"
     ]
    },
    {
     "name": "stdout",
     "output_type": "stream",
     "text": [
      "Fitting 5 states...\n"
     ]
    },
    {
     "name": "stderr",
     "output_type": "stream",
     "text": [
      "Converged to LP: -580.0:   2%|▏         | 24/1000 [00:00<00:17, 54.74it/s]\n",
      "Converged to LP: -585.2:   3%|▎         | 27/1000 [00:00<00:16, 57.44it/s]\n",
      "Converged to LP: -564.2:   3%|▎         | 34/1000 [00:00<00:16, 58.34it/s]\n",
      "Converged to LP: -553.5:   4%|▍         | 42/1000 [00:00<00:14, 64.71it/s]\n",
      "Converged to LP: -579.8:   5%|▍         | 47/1000 [00:00<00:14, 65.35it/s]\n"
     ]
    },
    {
     "name": "stdout",
     "output_type": "stream",
     "text": [
      "Fitting session 18...\n",
      "Fitting 1 states...\n",
      "Fitting 2 states...\n"
     ]
    },
    {
     "name": "stderr",
     "output_type": "stream",
     "text": [
      "Converged to LP: -451.8:   0%|          | 2/1000 [00:00<00:07, 139.70it/s]\n",
      "Converged to LP: -434.0:   0%|          | 2/1000 [00:00<00:06, 163.01it/s]\n",
      "Converged to LP: -445.1:   0%|          | 2/1000 [00:00<00:08, 120.32it/s]\n",
      "Converged to LP: -439.6:   0%|          | 2/1000 [00:00<00:07, 139.17it/s]\n",
      "Converged to LP: -443.4:   0%|          | 2/1000 [00:00<00:05, 166.51it/s]\n",
      "Converged to LP: -498.7:   1%|          | 12/1000 [00:00<00:10, 91.88it/s]\n",
      "Converged to LP: -484.2:   1%|          | 10/1000 [00:00<00:11, 86.33it/s]\n",
      "Converged to LP: -495.6:   1%|          | 11/1000 [00:00<00:11, 84.07it/s]\n",
      "Converged to LP: -484.7:   2%|▏         | 24/1000 [00:00<00:09, 102.75it/s]\n",
      "Converged to LP: -489.0:   4%|▎         | 36/1000 [00:00<00:08, 115.77it/s]\n",
      "LP: -538.2:   0%|          | 0/1000 [00:00<?, ?it/s].08it/s]"
     ]
    },
    {
     "name": "stdout",
     "output_type": "stream",
     "text": [
      "Fitting 3 states...\n"
     ]
    },
    {
     "name": "stderr",
     "output_type": "stream",
     "text": [
      "Converged to LP: -538.0:   1%|          | 9/1000 [00:00<00:16, 61.09it/s]\n",
      "Converged to LP: -546.0:   2%|▏         | 23/1000 [00:00<00:11, 84.26it/s]\n",
      "Converged to LP: -543.8:   2%|▏         | 17/1000 [00:00<00:14, 69.05it/s]\n",
      "Converged to LP: -538.9:   2%|▏         | 19/1000 [00:00<00:14, 68.69it/s]\n",
      "Converged to LP: -549.5:   3%|▎         | 27/1000 [00:00<00:12, 78.36it/s]\n",
      "LP: -615.2:   0%|          | 5/1000 [00:00<00:20, 48.34it/s]"
     ]
    },
    {
     "name": "stdout",
     "output_type": "stream",
     "text": [
      "Fitting 4 states...\n"
     ]
    },
    {
     "name": "stderr",
     "output_type": "stream",
     "text": [
      "Converged to LP: -578.1:   5%|▌         | 51/1000 [00:00<00:15, 60.45it/s]\n",
      "Converged to LP: -587.8:  10%|█         | 104/1000 [00:01<00:11, 78.15it/s]\n",
      "Converged to LP: -596.6:  10%|█         | 104/1000 [00:01<00:12, 73.83it/s]\n",
      "Converged to LP: -593.3:  13%|█▎        | 128/1000 [00:01<00:11, 78.04it/s] \n",
      "Converged to LP: -597.5:  19%|█▉        | 191/1000 [00:02<00:09, 82.81it/s] \n",
      "LP: -682.8:   0%|          | 0/1000 [00:00<?, ?it/s]"
     ]
    },
    {
     "name": "stdout",
     "output_type": "stream",
     "text": [
      "Fitting 5 states...\n"
     ]
    },
    {
     "name": "stderr",
     "output_type": "stream",
     "text": [
      "Converged to LP: -640.6:   3%|▎         | 34/1000 [00:00<00:17, 54.74it/s]\n",
      "Converged to LP: -642.5:   6%|▌         | 62/1000 [00:01<00:16, 56.19it/s]\n",
      "Converged to LP: -650.7:   9%|▉         | 92/1000 [00:01<00:15, 57.52it/s]\n",
      "Converged to LP: -648.4:  12%|█▏        | 124/1000 [00:01<00:13, 62.61it/s]\n",
      "Converged to LP: -644.9:  14%|█▍        | 144/1000 [00:02<00:12, 70.91it/s]\n",
      "Converged to LP: -415.1:   0%|          | 2/1000 [00:00<00:06, 164.92it/s]\n",
      "Converged to LP: -400.9:   0%|          | 2/1000 [00:00<00:06, 154.69it/s]\n",
      "Converged to LP: -418.6:   0%|          | 2/1000 [00:00<00:07, 140.26it/s]\n",
      "Converged to LP: -413.8:   0%|          | 2/1000 [00:00<00:07, 125.50it/s]\n",
      "Converged to LP: -405.4:   0%|          | 2/1000 [00:00<00:07, 131.51it/s]\n",
      "LP: -450.0:   0%|          | 0/1000 [00:00<?, ?it/s]"
     ]
    },
    {
     "name": "stdout",
     "output_type": "stream",
     "text": [
      "Fitting session 19...\n",
      "Fitting 1 states...\n",
      "Fitting 2 states...\n"
     ]
    },
    {
     "name": "stderr",
     "output_type": "stream",
     "text": [
      "LP: -461.6:   0%|          | 0/1000 [00:00<?, ?it/s]:00<00:08, 112.82it/s]\n",
      "Converged to LP: -455.2:   1%|          | 11/1000 [00:00<00:09, 101.58it/s]\n",
      "Converged to LP: -461.6:   1%|          | 7/1000 [00:00<00:11, 84.44it/s]\n",
      "Converged to LP: -450.2:   1%|          | 10/1000 [00:00<00:10, 95.50it/s]\n",
      "Converged to LP: -449.0:   2%|▏         | 16/1000 [00:00<00:08, 122.13it/s]\n",
      "LP: -529.5:   0%|          | 0/1000 [00:00<?, ?it/s]"
     ]
    },
    {
     "name": "stdout",
     "output_type": "stream",
     "text": [
      "Fitting 3 states...\n"
     ]
    },
    {
     "name": "stderr",
     "output_type": "stream",
     "text": [
      "Converged to LP: -520.5:   1%|          | 10/1000 [00:00<00:12, 80.38it/s]\n",
      "Converged to LP: -504.4:   1%|          | 9/1000 [00:00<00:13, 74.45it/s]\n",
      "Converged to LP: -505.7:   2%|▏         | 22/1000 [00:00<00:11, 84.14it/s]\n",
      "Converged to LP: -503.6:   2%|▏         | 21/1000 [00:00<00:11, 83.22it/s]\n",
      "Converged to LP: -506.8:   9%|▉         | 93/1000 [00:00<00:07, 117.62it/s]\n",
      "LP: -590.8:   0%|          | 0/1000 [00:00<?, ?it/s]"
     ]
    },
    {
     "name": "stdout",
     "output_type": "stream",
     "text": [
      "Fitting 4 states...\n"
     ]
    },
    {
     "name": "stderr",
     "output_type": "stream",
     "text": [
      "Converged to LP: -562.7:   9%|▉         | 88/1000 [00:01<00:10, 84.86it/s]\n",
      "Converged to LP: -566.8:  10%|█         | 102/1000 [00:01<00:10, 83.30it/s]\n",
      "Converged to LP: -567.6:  10%|█         | 100/1000 [00:01<00:11, 79.01it/s]\n",
      "Converged to LP: -562.5:  13%|█▎        | 132/1000 [00:01<00:10, 86.52it/s] \n",
      "Converged to LP: -557.4:  20%|█▉        | 198/1000 [00:02<00:08, 90.41it/s] \n",
      "LP: -654.5:   0%|          | 0/1000 [00:00<?, ?it/s]"
     ]
    },
    {
     "name": "stdout",
     "output_type": "stream",
     "text": [
      "Fitting 5 states...\n"
     ]
    },
    {
     "name": "stderr",
     "output_type": "stream",
     "text": [
      "Converged to LP: -630.7:   5%|▍         | 48/1000 [00:00<00:16, 57.79it/s]\n",
      "Converged to LP: -617.9:   6%|▌         | 57/1000 [00:00<00:16, 58.06it/s]\n",
      "Converged to LP: -617.0:  10%|█         | 104/1000 [00:01<00:15, 58.76it/s]\n",
      "Converged to LP: -607.0:  15%|█▍        | 148/1000 [00:02<00:11, 71.37it/s]\n",
      "Converged to LP: -605.1:  17%|█▋        | 172/1000 [00:02<00:11, 70.30it/s] \n",
      "Converged to LP: -497.5:   0%|          | 2/1000 [00:00<00:07, 139.15it/s]\n",
      "Converged to LP: -488.2:   0%|          | 2/1000 [00:00<00:07, 133.31it/s]\n",
      "LP: -507.0:   0%|          | 0/1000 [00:00<?, ?it/s]"
     ]
    },
    {
     "name": "stdout",
     "output_type": "stream",
     "text": [
      "Fitting session 20...\n",
      "Fitting 1 states...\n",
      "Fitting 2 states...\n"
     ]
    },
    {
     "name": "stderr",
     "output_type": "stream",
     "text": [
      "Converged to LP: -504.4:   0%|          | 2/1000 [00:00<00:09, 107.46it/s]\n",
      "Converged to LP: -500.7:   0%|          | 2/1000 [00:00<00:08, 119.35it/s]\n",
      "Converged to LP: -491.5:   0%|          | 2/1000 [00:00<00:06, 147.32it/s]\n",
      "Converged to LP: -550.2:   1%|          | 9/1000 [00:00<00:11, 89.76it/s]\n",
      "Converged to LP: -543.8:   2%|▏         | 18/1000 [00:00<00:10, 92.29it/s]\n",
      "Converged to LP: -539.3:   1%|          | 12/1000 [00:00<00:12, 79.70it/s]\n",
      "Converged to LP: -550.8:   2%|▏         | 20/1000 [00:00<00:10, 96.06it/s]\n",
      "Converged to LP: -535.7:   3%|▎         | 26/1000 [00:00<00:09, 107.02it/s]\n",
      "LP: -612.0:   0%|          | 0/1000 [00:00<?, ?it/s]"
     ]
    },
    {
     "name": "stdout",
     "output_type": "stream",
     "text": [
      "Fitting 3 states...\n"
     ]
    },
    {
     "name": "stderr",
     "output_type": "stream",
     "text": [
      "Converged to LP: -594.9:   1%|▏         | 14/1000 [00:00<00:13, 71.57it/s]\n",
      "Converged to LP: -594.3:   1%|          | 10/1000 [00:00<00:14, 66.32it/s]\n",
      "Converged to LP: -607.1:   3%|▎         | 33/1000 [00:00<00:11, 86.84it/s]\n",
      "Converged to LP: -607.2:   6%|▌         | 55/1000 [00:00<00:10, 88.91it/s]\n",
      "Converged to LP: -590.8:  14%|█▍        | 143/1000 [00:01<00:08, 102.15it/s]\n",
      "LP: -674.2:   0%|          | 0/1000 [00:00<?, ?it/s]"
     ]
    },
    {
     "name": "stdout",
     "output_type": "stream",
     "text": [
      "Fitting 4 states...\n"
     ]
    },
    {
     "name": "stderr",
     "output_type": "stream",
     "text": [
      "Converged to LP: -656.4:   8%|▊         | 82/1000 [00:01<00:14, 65.14it/s]\n",
      "Converged to LP: -638.5:  10%|▉         | 98/1000 [00:01<00:13, 69.05it/s]\n",
      "Converged to LP: -637.0:  12%|█▏        | 121/1000 [00:01<00:12, 67.95it/s]\n",
      "Converged to LP: -651.0:  32%|███▏      | 322/1000 [00:03<00:07, 89.83it/s] \n",
      "Converged to LP: -646.8:  46%|████▌     | 462/1000 [00:04<00:05, 95.58it/s] \n",
      "LP: -717.2:   1%|          | 6/1000 [00:00<00:19, 50.92it/s]"
     ]
    },
    {
     "name": "stdout",
     "output_type": "stream",
     "text": [
      "Fitting 5 states...\n"
     ]
    },
    {
     "name": "stderr",
     "output_type": "stream",
     "text": [
      "Converged to LP: -700.4:   4%|▍         | 40/1000 [00:00<00:16, 59.23it/s]\n",
      "Converged to LP: -704.8:   4%|▍         | 42/1000 [00:00<00:16, 56.56it/s]\n",
      "Converged to LP: -709.9:   4%|▍         | 42/1000 [00:00<00:15, 60.91it/s]\n",
      "Converged to LP: -714.7:  11%|█         | 108/1000 [00:01<00:13, 67.91it/s]\n",
      "Converged to LP: -711.4:  16%|█▋        | 163/1000 [00:02<00:11, 75.88it/s]\n",
      "Converged to LP: -460.2:   0%|          | 2/1000 [00:00<00:06, 148.51it/s]\n",
      "Converged to LP: -444.1:   0%|          | 2/1000 [00:00<00:06, 151.18it/s]\n",
      "Converged to LP: -445.0:   0%|          | 2/1000 [00:00<00:06, 146.74it/s]\n",
      "Converged to LP: -447.6:   0%|          | 2/1000 [00:00<00:08, 114.46it/s]\n",
      "Converged to LP: -451.4:   0%|          | 2/1000 [00:00<00:07, 134.29it/s]\n",
      "LP: -500.8:   0%|          | 0/1000 [00:00<?, ?it/s]"
     ]
    },
    {
     "name": "stdout",
     "output_type": "stream",
     "text": [
      "Fitting session 21...\n",
      "Fitting 1 states...\n",
      "Fitting 2 states...\n"
     ]
    },
    {
     "name": "stderr",
     "output_type": "stream",
     "text": [
      "Converged to LP: -492.4:   1%|          | 10/1000 [00:00<00:12, 81.11it/s]\n",
      "Converged to LP: -512.5:   1%|          | 12/1000 [00:00<00:11, 88.62it/s]\n",
      "Converged to LP: -501.8:   2%|▏         | 16/1000 [00:00<00:10, 90.30it/s]\n",
      "Converged to LP: -502.0:   2%|▏         | 20/1000 [00:00<00:09, 107.44it/s]\n",
      "Converged to LP: -498.4:   2%|▏         | 19/1000 [00:00<00:09, 104.23it/s]\n",
      "LP: -575.0:   0%|          | 0/1000 [00:00<?, ?it/s]"
     ]
    },
    {
     "name": "stdout",
     "output_type": "stream",
     "text": [
      "Fitting 3 states...\n"
     ]
    },
    {
     "name": "stderr",
     "output_type": "stream",
     "text": [
      "Converged to LP: -559.9:   1%|          | 12/1000 [00:00<00:12, 80.65it/s]\n",
      "Converged to LP: -562.3:   2%|▏         | 17/1000 [00:00<00:11, 84.38it/s]\n",
      "Converged to LP: -560.4:   2%|▏         | 21/1000 [00:00<00:12, 77.70it/s]\n",
      "Converged to LP: -567.4:   3%|▎         | 31/1000 [00:00<00:11, 83.98it/s]\n",
      "Converged to LP: -553.5:   3%|▎         | 29/1000 [00:00<00:11, 83.03it/s]\n",
      "LP: -654.1:   0%|          | 0/1000 [00:00<?, ?it/s]"
     ]
    },
    {
     "name": "stdout",
     "output_type": "stream",
     "text": [
      "Fitting 4 states...\n"
     ]
    },
    {
     "name": "stderr",
     "output_type": "stream",
     "text": [
      "Converged to LP: -596.7:   7%|▋         | 74/1000 [00:01<00:14, 62.80it/s]\n",
      "Converged to LP: -599.0:  19%|█▉        | 194/1000 [00:02<00:10, 75.12it/s] \n",
      "Converged to LP: -605.3:  26%|██▌       | 258/1000 [00:03<00:09, 77.93it/s] \n",
      "Converged to LP: -615.2:  31%|███       | 310/1000 [00:03<00:08, 82.58it/s] \n",
      "Converged to LP: -612.3:  41%|████      | 406/1000 [00:04<00:06, 87.55it/s] \n",
      "LP: -706.3:   0%|          | 0/1000 [00:00<?, ?it/s]"
     ]
    },
    {
     "name": "stdout",
     "output_type": "stream",
     "text": [
      "Fitting 5 states...\n"
     ]
    },
    {
     "name": "stderr",
     "output_type": "stream",
     "text": [
      "Converged to LP: -683.1:   2%|▏         | 18/1000 [00:00<00:17, 57.45it/s]\n",
      "Converged to LP: -678.9:   2%|▎         | 25/1000 [00:00<00:15, 62.05it/s]\n",
      "Converged to LP: -658.3:   2%|▏         | 24/1000 [00:00<00:16, 57.68it/s]\n",
      "Converged to LP: -682.0:   6%|▌         | 57/1000 [00:00<00:13, 68.13it/s]\n",
      "Converged to LP: -664.4:   7%|▋         | 67/1000 [00:00<00:13, 70.62it/s]\n",
      "Converged to LP: -459.6:   0%|          | 2/1000 [00:00<00:07, 133.29it/s]\n",
      "Converged to LP: -482.1:   0%|          | 2/1000 [00:00<00:07, 128.47it/s]\n",
      "LP: -502.7:   0%|          | 0/1000 [00:00<?, ?it/s]"
     ]
    },
    {
     "name": "stdout",
     "output_type": "stream",
     "text": [
      "Fitting session 22...\n",
      "Fitting 1 states...\n",
      "Fitting 2 states...\n"
     ]
    },
    {
     "name": "stderr",
     "output_type": "stream",
     "text": [
      "Converged to LP: -477.4:   0%|          | 2/1000 [00:00<00:07, 135.42it/s]\n",
      "Converged to LP: -468.9:   0%|          | 2/1000 [00:00<00:06, 149.05it/s]\n",
      "Converged to LP: -487.3:   0%|          | 2/1000 [00:00<00:06, 153.95it/s]\n",
      "Converged to LP: -496.9:   2%|▏         | 18/1000 [00:00<00:09, 102.80it/s]\n",
      "Converged to LP: -503.5:   1%|▏         | 14/1000 [00:00<00:10, 91.93it/s]\n",
      "Converged to LP: -527.0:   1%|▏         | 13/1000 [00:00<00:10, 94.06it/s]\n",
      "Converged to LP: -524.3:   2%|▏         | 21/1000 [00:00<00:11, 84.89it/s]\n",
      "Converged to LP: -514.8:   2%|▏         | 19/1000 [00:00<00:12, 80.27it/s]\n",
      "LP: -554.3:   0%|          | 0/1000 [00:00<?, ?it/s]"
     ]
    },
    {
     "name": "stdout",
     "output_type": "stream",
     "text": [
      "Fitting 3 states...\n"
     ]
    },
    {
     "name": "stderr",
     "output_type": "stream",
     "text": [
      "Converged to LP: -554.3:   1%|          | 9/1000 [00:00<00:12, 82.42it/s]\n",
      "Converged to LP: -567.8:   1%|▏         | 14/1000 [00:00<00:11, 84.22it/s]\n",
      "Converged to LP: -581.7:   1%|▏         | 14/1000 [00:00<00:11, 84.35it/s]\n",
      "Converged to LP: -576.2:   2%|▏         | 19/1000 [00:00<00:11, 84.96it/s]\n",
      "Converged to LP: -549.4:   2%|▏         | 20/1000 [00:00<00:11, 82.08it/s]\n",
      "LP: -630.4:   0%|          | 4/1000 [00:00<00:25, 39.62it/s]"
     ]
    },
    {
     "name": "stdout",
     "output_type": "stream",
     "text": [
      "Fitting 4 states...\n"
     ]
    },
    {
     "name": "stderr",
     "output_type": "stream",
     "text": [
      "Converged to LP: -588.9:   7%|▋         | 72/1000 [00:01<00:14, 66.15it/s]\n",
      "Converged to LP: -602.7:   9%|▊         | 86/1000 [00:01<00:12, 74.89it/s]\n",
      "Converged to LP: -628.3:   9%|▉         | 91/1000 [00:01<00:13, 67.53it/s]\n",
      "Converged to LP: -618.3:  15%|█▌        | 150/1000 [00:01<00:10, 82.00it/s]\n",
      "Converged to LP: -611.2:  12%|█▎        | 125/1000 [00:01<00:13, 65.35it/s]\n",
      "LP: -710.2:   0%|          | 0/1000 [00:00<?, ?it/s]"
     ]
    },
    {
     "name": "stdout",
     "output_type": "stream",
     "text": [
      "Fitting 5 states...\n"
     ]
    },
    {
     "name": "stderr",
     "output_type": "stream",
     "text": [
      "Converged to LP: -656.7:   1%|          | 12/1000 [00:00<00:20, 47.53it/s]\n",
      "Converged to LP: -693.1:   2%|▏         | 17/1000 [00:00<00:19, 50.55it/s]\n",
      "Converged to LP: -670.3:   3%|▎         | 27/1000 [00:00<00:18, 53.45it/s]\n",
      "Converged to LP: -684.3:   5%|▍         | 46/1000 [00:00<00:14, 67.55it/s]\n",
      "Converged to LP: -666.6:   7%|▋         | 66/1000 [00:00<00:12, 76.39it/s]\n",
      "Converged to LP: -454.2:   0%|          | 2/1000 [00:00<00:06, 147.54it/s]\n",
      "Converged to LP: -439.9:   0%|          | 2/1000 [00:00<00:06, 142.95it/s]\n",
      "Converged to LP: -447.9:   0%|          | 2/1000 [00:00<00:07, 130.81it/s]\n",
      "Converged to LP: -467.2:   0%|          | 2/1000 [00:00<00:06, 145.81it/s]\n",
      "Converged to LP: -454.5:   0%|          | 2/1000 [00:00<00:06, 154.70it/s]\n",
      "Converged to LP: -486.7:   1%|          | 8/1000 [00:00<00:10, 92.44it/s]\n"
     ]
    },
    {
     "name": "stdout",
     "output_type": "stream",
     "text": [
      "Fitting session 23...\n",
      "Fitting 1 states...\n",
      "Fitting 2 states...\n"
     ]
    },
    {
     "name": "stderr",
     "output_type": "stream",
     "text": [
      "Converged to LP: -471.7:   1%|          | 11/1000 [00:00<00:11, 83.89it/s]\n",
      "Converged to LP: -493.4:   1%|          | 10/1000 [00:00<00:08, 114.97it/s]\n",
      "Converged to LP: -481.6:   1%|          | 12/1000 [00:00<00:11, 86.25it/s]\n",
      "Converged to LP: -501.6:   1%|▏         | 13/1000 [00:00<00:09, 104.51it/s]\n",
      "LP: -529.7:   0%|          | 0/1000 [00:00<?, ?it/s]"
     ]
    },
    {
     "name": "stdout",
     "output_type": "stream",
     "text": [
      "Fitting 3 states...\n"
     ]
    },
    {
     "name": "stderr",
     "output_type": "stream",
     "text": [
      "Converged to LP: -537.3:   1%|          | 9/1000 [00:00<00:13, 71.18it/s]\n",
      "Converged to LP: -527.5:   1%|          | 7/1000 [00:00<00:16, 60.05it/s]\n",
      "Converged to LP: -551.7:   1%|          | 10/1000 [00:00<00:12, 77.84it/s]\n",
      "Converged to LP: -537.9:   2%|▎         | 25/1000 [00:00<00:10, 89.63it/s]\n",
      "Converged to LP: -558.3:   3%|▎         | 31/1000 [00:00<00:10, 95.35it/s] \n",
      "LP: -598.5:   0%|          | 0/1000 [00:00<?, ?it/s]"
     ]
    },
    {
     "name": "stdout",
     "output_type": "stream",
     "text": [
      "Fitting 4 states...\n"
     ]
    },
    {
     "name": "stderr",
     "output_type": "stream",
     "text": [
      "Converged to LP: -600.4:   7%|▋         | 66/1000 [00:00<00:13, 70.21it/s]\n",
      "Converged to LP: -581.4:   9%|▊         | 86/1000 [00:01<00:13, 67.56it/s]\n",
      "Converged to LP: -585.4:  10%|█         | 104/1000 [00:01<00:12, 73.45it/s]\n",
      "Converged to LP: -610.0:  10%|█         | 102/1000 [00:01<00:12, 70.49it/s]\n",
      "Converged to LP: -587.1:  15%|█▌        | 154/1000 [00:01<00:09, 87.06it/s] \n",
      "LP: -653.5:   0%|          | 4/1000 [00:00<00:25, 39.36it/s]"
     ]
    },
    {
     "name": "stdout",
     "output_type": "stream",
     "text": [
      "Fitting 5 states...\n"
     ]
    },
    {
     "name": "stderr",
     "output_type": "stream",
     "text": [
      "Converged to LP: -626.3:   2%|▏         | 24/1000 [00:00<00:20, 48.65it/s]\n",
      "Converged to LP: -644.9:   4%|▍         | 38/1000 [00:00<00:19, 49.77it/s]\n",
      "Converged to LP: -672.2:   4%|▍         | 40/1000 [00:00<00:18, 52.97it/s]\n",
      "Converged to LP: -661.1:   7%|▋         | 66/1000 [00:01<00:15, 60.48it/s]\n",
      "Converged to LP: -638.3:   8%|▊         | 82/1000 [00:01<00:14, 63.50it/s]\n",
      "Converged to LP: -487.1:   0%|          | 2/1000 [00:00<00:07, 137.15it/s]\n",
      "Converged to LP: -500.2:   0%|          | 2/1000 [00:00<00:07, 124.84it/s]\n",
      "Converged to LP: -476.1:   0%|          | 2/1000 [00:00<00:07, 141.44it/s]\n",
      "LP: -496.9:   0%|          | 0/1000 [00:00<?, ?it/s]"
     ]
    },
    {
     "name": "stdout",
     "output_type": "stream",
     "text": [
      "Fitting session 24...\n",
      "Fitting 1 states...\n",
      "Fitting 2 states...\n"
     ]
    },
    {
     "name": "stderr",
     "output_type": "stream",
     "text": [
      "Converged to LP: -486.2:   0%|          | 2/1000 [00:00<00:08, 114.58it/s]\n",
      "Converged to LP: -497.8:   0%|          | 2/1000 [00:00<00:07, 133.66it/s]\n",
      "Converged to LP: -530.6:   1%|          | 6/1000 [00:00<00:11, 89.41it/s]\n",
      "Converged to LP: -532.1:   2%|▏         | 19/1000 [00:00<00:10, 95.16it/s]\n",
      "Converged to LP: -546.3:   2%|▏         | 15/1000 [00:00<00:10, 97.45it/s]\n",
      "Converged to LP: -548.9:   3%|▎         | 29/1000 [00:00<00:09, 99.45it/s]\n",
      "Converged to LP: -525.4:   3%|▎         | 33/1000 [00:00<00:08, 110.15it/s]\n",
      "LP: -598.6:   0%|          | 0/1000 [00:00<?, ?it/s]"
     ]
    },
    {
     "name": "stdout",
     "output_type": "stream",
     "text": [
      "Fitting 3 states...\n"
     ]
    },
    {
     "name": "stderr",
     "output_type": "stream",
     "text": [
      "Converged to LP: -588.7:   1%|          | 12/1000 [00:00<00:10, 89.94it/s]\n",
      "Converged to LP: -604.0:   1%|          | 12/1000 [00:00<00:12, 79.42it/s]\n",
      "Converged to LP: -585.6:   1%|          | 11/1000 [00:00<00:11, 85.87it/s]\n",
      "Converged to LP: -598.2:   1%|▏         | 13/1000 [00:00<00:11, 84.42it/s]\n",
      "Converged to LP: -584.9:   2%|▏         | 16/1000 [00:00<00:11, 82.53it/s]\n"
     ]
    },
    {
     "name": "stdout",
     "output_type": "stream",
     "text": [
      "Fitting 4 states...\n"
     ]
    },
    {
     "name": "stderr",
     "output_type": "stream",
     "text": [
      "Converged to LP: -648.4:   9%|▉         | 90/1000 [00:01<00:13, 69.66it/s]\n",
      "Converged to LP: -634.6:  10%|█         | 101/1000 [00:01<00:13, 68.21it/s]\n",
      "Converged to LP: -636.5:  11%|█         | 106/1000 [00:01<00:13, 67.51it/s]\n",
      "Converged to LP: -621.2:  13%|█▎        | 126/1000 [00:01<00:12, 72.17it/s]\n",
      "Converged to LP: -648.5:  15%|█▌        | 152/1000 [00:02<00:11, 75.91it/s] \n",
      "LP: -702.4:   1%|          | 6/1000 [00:00<00:17, 55.43it/s]"
     ]
    },
    {
     "name": "stdout",
     "output_type": "stream",
     "text": [
      "Fitting 5 states...\n"
     ]
    },
    {
     "name": "stderr",
     "output_type": "stream",
     "text": [
      "Converged to LP: -720.2:   2%|▎         | 25/1000 [00:00<00:17, 55.68it/s]\n",
      "Converged to LP: -697.4:   5%|▌         | 53/1000 [00:00<00:14, 63.43it/s]\n",
      "Converged to LP: -711.3:   5%|▌         | 50/1000 [00:00<00:15, 61.37it/s]\n",
      "Converged to LP: -683.1:   5%|▌         | 53/1000 [00:01<00:18, 51.62it/s]\n",
      "Converged to LP: -692.0:   9%|▊         | 86/1000 [00:01<00:13, 66.90it/s]\n",
      "Converged to LP: -285.5:   0%|          | 2/1000 [00:00<00:07, 137.63it/s]\n",
      "Converged to LP: -288.7:   0%|          | 2/1000 [00:00<00:05, 170.51it/s]\n",
      "Converged to LP: -297.5:   0%|          | 2/1000 [00:00<00:06, 154.97it/s]\n",
      "Converged to LP: -279.6:   0%|          | 2/1000 [00:00<00:06, 156.30it/s]\n",
      "LP: -294.0:   0%|          | 0/1000 [00:00<?, ?it/s]"
     ]
    },
    {
     "name": "stdout",
     "output_type": "stream",
     "text": [
      "Fitting session 25...\n",
      "Fitting 1 states...\n",
      "Fitting 2 states...\n"
     ]
    },
    {
     "name": "stderr",
     "output_type": "stream",
     "text": [
      "Converged to LP: -294.0:   0%|          | 2/1000 [00:00<00:05, 169.26it/s]\n",
      "Converged to LP: -346.6:   2%|▏         | 17/1000 [00:00<00:08, 112.38it/s]\n",
      "Converged to LP: -328.9:   2%|▏         | 22/1000 [00:00<00:08, 111.84it/s]\n",
      "Converged to LP: -338.6:   2%|▏         | 20/1000 [00:00<00:08, 121.69it/s]\n",
      "Converged to LP: -325.7:   2%|▏         | 21/1000 [00:00<00:08, 111.14it/s]\n",
      "Converged to LP: -332.1:   4%|▍         | 39/1000 [00:00<00:07, 131.77it/s]\n",
      "LP: -379.2:   0%|          | 0/1000 [00:00<?, ?it/s]"
     ]
    },
    {
     "name": "stdout",
     "output_type": "stream",
     "text": [
      "Fitting 3 states...\n"
     ]
    },
    {
     "name": "stderr",
     "output_type": "stream",
     "text": [
      "Converged to LP: -379.2:   1%|          | 7/1000 [00:00<00:11, 85.80it/s]\n",
      "Converged to LP: -398.5:   1%|          | 9/1000 [00:00<00:12, 81.27it/s]\n",
      "Converged to LP: -388.7:   1%|          | 8/1000 [00:00<00:10, 91.66it/s]\n",
      "Converged to LP: -371.3:   1%|          | 10/1000 [00:00<00:13, 71.52it/s]\n",
      "Converged to LP: -382.9:   5%|▍         | 49/1000 [00:00<00:09, 105.55it/s]\n",
      "LP: -435.8:   1%|          | 6/1000 [00:00<00:18, 53.16it/s]"
     ]
    },
    {
     "name": "stdout",
     "output_type": "stream",
     "text": [
      "Fitting 4 states...\n"
     ]
    },
    {
     "name": "stderr",
     "output_type": "stream",
     "text": [
      "Converged to LP: -449.7:   7%|▋         | 73/1000 [00:00<00:11, 81.93it/s]\n",
      "Converged to LP: -430.8:   8%|▊         | 75/1000 [00:01<00:12, 73.67it/s]\n",
      "Converged to LP: -440.2:   9%|▉         | 89/1000 [00:01<00:10, 83.06it/s]\n",
      "Converged to LP: -428.5:  10%|▉         | 96/1000 [00:01<00:10, 87.30it/s] \n",
      "Converged to LP: -433.1:  10%|▉         | 95/1000 [00:01<00:11, 79.86it/s]\n",
      "LP: -489.0:   0%|          | 3/1000 [00:00<00:33, 29.74it/s]"
     ]
    },
    {
     "name": "stdout",
     "output_type": "stream",
     "text": [
      "Fitting 5 states...\n"
     ]
    },
    {
     "name": "stderr",
     "output_type": "stream",
     "text": [
      "Converged to LP: -507.6:   1%|          | 11/1000 [00:00<00:23, 42.44it/s]\n",
      "Converged to LP: -493.5:   2%|▏         | 17/1000 [00:00<00:17, 55.25it/s]\n",
      "Converged to LP: -487.9:   3%|▎         | 28/1000 [00:00<00:14, 66.86it/s]\n",
      "Converged to LP: -497.7:   3%|▎         | 32/1000 [00:00<00:13, 69.70it/s]\n",
      "Converged to LP: -484.0:  23%|██▎       | 227/1000 [00:02<00:08, 91.01it/s]\n",
      "Converged to LP: -490.8:   0%|          | 2/1000 [00:00<00:13, 72.43it/s]\n",
      "Converged to LP: -497.3:   0%|          | 2/1000 [00:00<00:09, 103.84it/s]\n",
      "Converged to LP: -489.8:   0%|          | 2/1000 [00:00<00:07, 125.68it/s]\n",
      "Converged to LP: -494.7:   0%|          | 2/1000 [00:00<00:09, 100.78it/s]\n",
      "Converged to LP: -491.3:   0%|          | 2/1000 [00:00<00:09, 102.84it/s]\n"
     ]
    },
    {
     "name": "stdout",
     "output_type": "stream",
     "text": [
      "Fitting session 26...\n",
      "Fitting 1 states...\n",
      "Fitting 2 states...\n"
     ]
    },
    {
     "name": "stderr",
     "output_type": "stream",
     "text": [
      "Converged to LP: -518.2:   1%|          | 12/1000 [00:00<00:10, 95.47it/s]\n",
      "Converged to LP: -519.8:   2%|▏         | 17/1000 [00:00<00:10, 92.99it/s]\n",
      "Converged to LP: -514.0:   2%|▏         | 20/1000 [00:00<00:10, 91.27it/s]\n",
      "Converged to LP: -534.1:   2%|▏         | 20/1000 [00:00<00:10, 96.80it/s]\n",
      "Converged to LP: -527.5:   7%|▋         | 74/1000 [00:00<00:07, 120.35it/s]\n",
      "Converged to LP: -562.9:   1%|          | 6/1000 [00:00<00:17, 57.82it/s]\n",
      "Converged to LP: -581.3:   1%|          | 7/1000 [00:00<00:16, 58.71it/s]\n",
      "LP: -579.2:   0%|          | 0/1000 [00:00<?, ?it/s].32it/s]"
     ]
    },
    {
     "name": "stdout",
     "output_type": "stream",
     "text": [
      "Fitting 3 states...\n",
      "Fitting 4 states...\n"
     ]
    },
    {
     "name": "stderr",
     "output_type": "stream",
     "text": [
      "Converged to LP: -569.5:   1%|          | 7/1000 [00:00<00:12, 76.47it/s]\n",
      "Converged to LP: -571.5:   1%|          | 10/1000 [00:00<00:12, 76.34it/s]\n",
      "Converged to LP: -579.2:   1%|          | 10/1000 [00:00<00:12, 78.25it/s]\n",
      "Converged to LP: -633.1:   8%|▊         | 83/1000 [00:01<00:13, 66.40it/s]\n",
      "Converged to LP: -618.5:  14%|█▍        | 143/1000 [00:02<00:12, 70.73it/s]\n",
      "Converged to LP: -633.9:  17%|█▋        | 168/1000 [00:02<00:10, 78.64it/s]\n",
      "Converged to LP: -621.0:  21%|██▏       | 214/1000 [00:02<00:09, 82.79it/s]\n",
      "Converged to LP: -612.3:  22%|██▏       | 216/1000 [00:02<00:09, 80.46it/s]\n",
      "LP: -708.0:   0%|          | 0/1000 [00:00<?, ?it/s]"
     ]
    },
    {
     "name": "stdout",
     "output_type": "stream",
     "text": [
      "Fitting 5 states...\n"
     ]
    },
    {
     "name": "stderr",
     "output_type": "stream",
     "text": [
      "Converged to LP: -678.8:   5%|▍         | 49/1000 [00:01<00:24, 39.33it/s]\n",
      "Converged to LP: -700.2:   6%|▌         | 62/1000 [00:01<00:20, 45.31it/s]\n",
      "Converged to LP: -680.1:   8%|▊         | 81/1000 [00:01<00:19, 47.84it/s]\n",
      "Converged to LP: -684.4:   9%|▉         | 92/1000 [00:01<00:19, 46.91it/s]\n",
      "Converged to LP: -681.5:  16%|█▌        | 158/1000 [00:03<00:16, 50.62it/s]\n",
      "Converged to LP: -474.3:   0%|          | 2/1000 [00:00<00:06, 149.76it/s]\n",
      "Converged to LP: -465.3:   0%|          | 2/1000 [00:00<00:08, 113.11it/s]\n",
      "Converged to LP: -436.5:   0%|          | 2/1000 [00:00<00:07, 127.78it/s]\n",
      "Converged to LP: -464.2:   0%|          | 0/1000 [00:00<?, ?it/s]"
     ]
    },
    {
     "name": "stdout",
     "output_type": "stream",
     "text": [
      "Fitting session 27...\n",
      "Fitting 1 states...\n"
     ]
    },
    {
     "name": "stderr",
     "output_type": "stream",
     "text": [
      "Converged to LP: -464.2:   0%|          | 2/1000 [00:00<00:07, 125.24it/s]\n",
      "Converged to LP: -468.5:   0%|          | 2/1000 [00:00<00:08, 120.68it/s]\n",
      "LP: -507.9:   0%|          | 0/1000 [00:00<?, ?it/s].07it/s]"
     ]
    },
    {
     "name": "stdout",
     "output_type": "stream",
     "text": [
      "Fitting 2 states...\n"
     ]
    },
    {
     "name": "stderr",
     "output_type": "stream",
     "text": [
      "Converged to LP: -507.9:   1%|          | 9/1000 [00:00<00:11, 89.38it/s]\n",
      "Converged to LP: -477.0:   1%|          | 9/1000 [00:00<00:11, 88.23it/s]\n",
      "Converged to LP: -508.4:   0%|          | 5/1000 [00:00<00:12, 79.99it/s]\n",
      "Converged to LP: -516.5:   2%|▏         | 16/1000 [00:00<00:10, 95.81it/s]\n",
      "Converged to LP: -500.2:   1%|          | 9/1000 [00:00<00:11, 85.83it/s]\n",
      "LP: -571.8:   0%|          | 0/1000 [00:00<?, ?it/s]"
     ]
    },
    {
     "name": "stdout",
     "output_type": "stream",
     "text": [
      "Fitting 3 states...\n"
     ]
    },
    {
     "name": "stderr",
     "output_type": "stream",
     "text": [
      "Converged to LP: -555.3:   1%|          | 6/1000 [00:00<00:14, 67.75it/s]\n",
      "Converged to LP: -567.3:   1%|          | 7/1000 [00:00<00:14, 67.29it/s]\n",
      "Converged to LP: -555.1:   1%|          | 6/1000 [00:00<00:16, 61.78it/s]\n",
      "Converged to LP: -563.7:   1%|          | 7/1000 [00:00<00:13, 75.14it/s]\n",
      "Converged to LP: -525.9:   2%|▏         | 17/1000 [00:00<00:12, 76.53it/s]\n",
      "LP: -642.1:   0%|          | 0/1000 [00:00<?, ?it/s]"
     ]
    },
    {
     "name": "stdout",
     "output_type": "stream",
     "text": [
      "Fitting 4 states...\n"
     ]
    },
    {
     "name": "stderr",
     "output_type": "stream",
     "text": [
      "Converged to LP: -622.8:  14%|█▍        | 141/1000 [00:01<00:11, 74.49it/s]\n",
      "Converged to LP: -608.5:  14%|█▍        | 144/1000 [00:02<00:11, 71.62it/s]\n",
      "Converged to LP: -572.9:  12%|█▏        | 122/1000 [00:02<00:14, 60.98it/s]\n",
      "Converged to LP: -606.7:  16%|█▌        | 159/1000 [00:02<00:11, 71.80it/s]\n",
      "Converged to LP: -615.9:  23%|██▎       | 233/1000 [00:02<00:09, 82.78it/s] \n"
     ]
    },
    {
     "name": "stdout",
     "output_type": "stream",
     "text": [
      "Fitting 5 states...\n"
     ]
    },
    {
     "name": "stderr",
     "output_type": "stream",
     "text": [
      "Converged to LP: -664.1:   1%|▏         | 14/1000 [00:00<00:22, 44.20it/s]\n",
      "Converged to LP: -668.5:   2%|▎         | 25/1000 [00:00<00:16, 57.49it/s]\n",
      "Converged to LP: -639.3:   3%|▎         | 33/1000 [00:00<00:15, 60.87it/s]\n",
      "Converged to LP: -679.5:   5%|▍         | 48/1000 [00:00<00:14, 66.33it/s]\n",
      "Converged to LP: -658.2:  68%|██████▊   | 680/1000 [00:07<00:03, 96.63it/s]\n",
      "Converged to LP: -450.9:   0%|          | 2/1000 [00:00<00:09, 100.52it/s]\n",
      "Converged to LP: -445.4:   0%|          | 2/1000 [00:00<00:11, 84.99it/s]\n",
      "Converged to LP: -441.2:   0%|          | 2/1000 [00:00<00:08, 116.04it/s]\n"
     ]
    },
    {
     "name": "stdout",
     "output_type": "stream",
     "text": [
      "Fitting session 28...\n",
      "Fitting 1 states...\n",
      "Fitting 2 states...\n"
     ]
    },
    {
     "name": "stderr",
     "output_type": "stream",
     "text": [
      "Converged to LP: -457.0:   0%|          | 2/1000 [00:00<00:08, 113.55it/s]\n",
      "Converged to LP: -468.0:   0%|          | 2/1000 [00:00<00:07, 141.54it/s]\n",
      "Converged to LP: -463.7:   1%|          | 6/1000 [00:00<00:10, 97.56it/s]\n",
      "Converged to LP: -450.4:   0%|          | 5/1000 [00:00<00:12, 79.28it/s]\n",
      "Converged to LP: -438.7:   0%|          | 5/1000 [00:00<00:14, 66.38it/s]\n",
      "Converged to LP: -471.9:   0%|          | 5/1000 [00:00<00:10, 98.38it/s]\n",
      "Converged to LP: -457.9:   0%|          | 5/1000 [00:00<00:13, 73.00it/s]\n",
      "LP: -539.7:   0%|          | 0/1000 [00:00<?, ?it/s]"
     ]
    },
    {
     "name": "stdout",
     "output_type": "stream",
     "text": [
      "Fitting 3 states...\n"
     ]
    },
    {
     "name": "stderr",
     "output_type": "stream",
     "text": [
      "Converged to LP: -521.7:   1%|▏         | 13/1000 [00:00<00:10, 97.54it/s] \n",
      "Converged to LP: -513.3:   1%|          | 8/1000 [00:00<00:11, 82.99it/s]\n",
      "Converged to LP: -494.4:   1%|          | 9/1000 [00:00<00:12, 78.74it/s]\n",
      "Converged to LP: -524.3:   1%|          | 10/1000 [00:00<00:10, 96.54it/s]\n",
      "Converged to LP: -500.1:   5%|▌         | 54/1000 [00:00<00:07, 120.94it/s]\n",
      "LP: -554.9:   0%|          | 4/1000 [00:00<00:26, 37.28it/s]"
     ]
    },
    {
     "name": "stdout",
     "output_type": "stream",
     "text": [
      "Fitting 4 states...\n"
     ]
    },
    {
     "name": "stderr",
     "output_type": "stream",
     "text": [
      "Converged to LP: -543.1:   3%|▎         | 26/1000 [00:00<00:17, 54.68it/s]\n",
      "Converged to LP: -566.3:   5%|▌         | 50/1000 [00:00<00:13, 71.23it/s]\n",
      "Converged to LP: -572.3:   5%|▍         | 47/1000 [00:00<00:13, 68.95it/s]\n",
      "Converged to LP: -556.0:  14%|█▍        | 141/1000 [00:01<00:09, 93.15it/s] \n",
      "Converged to LP: -545.2:  15%|█▌        | 150/1000 [00:01<00:08, 95.05it/s] \n",
      "LP: -638.7:   0%|          | 5/1000 [00:00<00:21, 47.24it/s]"
     ]
    },
    {
     "name": "stdout",
     "output_type": "stream",
     "text": [
      "Fitting 5 states...\n"
     ]
    },
    {
     "name": "stderr",
     "output_type": "stream",
     "text": [
      "Converged to LP: -626.5:   5%|▍         | 47/1000 [00:00<00:17, 55.07it/s]\n",
      "Converged to LP: -598.1:  10%|█         | 100/1000 [00:01<00:12, 72.12it/s]\n",
      "Converged to LP: -617.2:  11%|█         | 107/1000 [00:01<00:13, 68.15it/s]\n",
      "Converged to LP: -605.3:  10%|█         | 104/1000 [00:01<00:15, 59.63it/s]\n",
      "Converged to LP: -611.1:  15%|█▌        | 153/1000 [00:02<00:11, 74.17it/s]\n",
      "Converged to LP: -469.2:   0%|          | 2/1000 [00:00<00:08, 115.14it/s]\n",
      "Converged to LP: -464.4:   0%|          | 2/1000 [00:00<00:09, 108.70it/s]\n",
      "Converged to LP: -460.2:   0%|          | 2/1000 [00:00<00:08, 114.83it/s]\n",
      "Converged to LP: -467.7:   0%|          | 2/1000 [00:00<00:06, 155.64it/s]\n",
      "Converged to LP: -483.1:   0%|          | 2/1000 [00:00<00:06, 158.36it/s]\n",
      "LP: -525.6:   0%|          | 0/1000 [00:00<?, ?it/s]"
     ]
    },
    {
     "name": "stdout",
     "output_type": "stream",
     "text": [
      "Fitting session 29...\n",
      "Fitting 1 states...\n",
      "Fitting 2 states...\n"
     ]
    },
    {
     "name": "stderr",
     "output_type": "stream",
     "text": [
      "Converged to LP: -501.4:   1%|          | 7/1000 [00:00<00:10, 96.21it/s]\n",
      "Converged to LP: -509.1:   1%|          | 11/1000 [00:00<00:09, 109.65it/s]\n",
      "Converged to LP: -505.3:   2%|▏         | 15/1000 [00:00<00:10, 89.84it/s]\n",
      "Converged to LP: -505.7:   2%|▏         | 18/1000 [00:00<00:08, 112.49it/s]\n",
      "Converged to LP: -517.5:   2%|▏         | 20/1000 [00:00<00:09, 104.95it/s]\n",
      "Converged to LP: -552.1:   1%|          | 10/1000 [00:00<00:13, 74.89it/s]\n",
      "LP: -559.3:   1%|          | 8/1000 [00:00<00:13, 72.12it/s]"
     ]
    },
    {
     "name": "stdout",
     "output_type": "stream",
     "text": [
      "Fitting 3 states...\n"
     ]
    },
    {
     "name": "stderr",
     "output_type": "stream",
     "text": [
      "Converged to LP: -559.2:   2%|▏         | 15/1000 [00:00<00:13, 74.25it/s]\n",
      "Converged to LP: -561.3:   3%|▎         | 29/1000 [00:00<00:12, 78.72it/s]\n",
      "Converged to LP: -556.2:   4%|▍         | 42/1000 [00:00<00:09, 105.72it/s]\n",
      "Converged to LP: -564.0:  10%|▉         | 97/1000 [00:00<00:09, 100.05it/s]\n",
      "LP: -618.8:   1%|          | 7/1000 [00:00<00:15, 66.01it/s]"
     ]
    },
    {
     "name": "stdout",
     "output_type": "stream",
     "text": [
      "Fitting 4 states...\n"
     ]
    },
    {
     "name": "stderr",
     "output_type": "stream",
     "text": [
      "Converged to LP: -611.3:   8%|▊         | 80/1000 [00:01<00:12, 74.26it/s]\n",
      "Converged to LP: -595.9:   8%|▊         | 79/1000 [00:01<00:12, 73.00it/s]\n",
      "Converged to LP: -619.0:   9%|▉         | 91/1000 [00:01<00:11, 80.79it/s]\n",
      "Converged to LP: -612.3:  10%|█         | 102/1000 [00:01<00:10, 84.41it/s]\n",
      "Converged to LP: -611.8:  11%|█         | 108/1000 [00:01<00:10, 82.00it/s]\n",
      "LP: -702.6:   0%|          | 0/1000 [00:00<?, ?it/s]"
     ]
    },
    {
     "name": "stdout",
     "output_type": "stream",
     "text": [
      "Fitting 5 states...\n"
     ]
    },
    {
     "name": "stderr",
     "output_type": "stream",
     "text": [
      "Converged to LP: -662.8:   3%|▎         | 29/1000 [00:00<00:18, 52.19it/s]\n",
      "Converged to LP: -666.8:   5%|▌         | 50/1000 [00:00<00:15, 62.55it/s]\n",
      "Converged to LP: -669.2:   7%|▋         | 67/1000 [00:00<00:13, 69.40it/s]\n",
      "Converged to LP: -665.2:   7%|▋         | 73/1000 [00:01<00:14, 63.50it/s]\n",
      "Converged to LP: -680.6:  11%|█         | 107/1000 [00:01<00:11, 74.88it/s]\n",
      "Converged to LP: -461.8:   0%|          | 2/1000 [00:00<00:06, 150.94it/s]\n",
      "Converged to LP: -468.1:   0%|          | 2/1000 [00:00<00:07, 141.09it/s]\n",
      "Converged to LP: -456.9:   0%|          | 2/1000 [00:00<00:07, 138.56it/s]\n",
      "Converged to LP: -459.1:   0%|          | 2/1000 [00:00<00:07, 135.00it/s]\n",
      "Converged to LP: -459.8:   0%|          | 2/1000 [00:00<00:06, 150.93it/s]\n",
      "LP: -495.9:   0%|          | 0/1000 [00:00<?, ?it/s]"
     ]
    },
    {
     "name": "stdout",
     "output_type": "stream",
     "text": [
      "Fitting session 30...\n",
      "Fitting 1 states...\n",
      "Fitting 2 states...\n"
     ]
    },
    {
     "name": "stderr",
     "output_type": "stream",
     "text": [
      "Converged to LP: -490.7:   1%|▏         | 13/1000 [00:00<00:11, 89.08it/s]\n",
      "Converged to LP: -492.8:   1%|          | 11/1000 [00:00<00:11, 82.74it/s]\n",
      "Converged to LP: -494.0:   1%|▏         | 14/1000 [00:00<00:11, 82.55it/s]\n",
      "Converged to LP: -496.2:   3%|▎         | 30/1000 [00:00<00:09, 107.12it/s]\n",
      "Converged to LP: -494.7:   3%|▎         | 32/1000 [00:00<00:09, 104.11it/s]\n",
      "LP: -551.3:   0%|          | 0/1000 [00:00<?, ?it/s].43it/s]"
     ]
    },
    {
     "name": "stdout",
     "output_type": "stream",
     "text": [
      "Fitting 3 states...\n"
     ]
    },
    {
     "name": "stderr",
     "output_type": "stream",
     "text": [
      "Converged to LP: -548.6:   1%|          | 10/1000 [00:00<00:13, 74.91it/s]\n",
      "Converged to LP: -548.0:   2%|▏         | 15/1000 [00:00<00:13, 73.13it/s]\n",
      "Converged to LP: -549.9:   2%|▏         | 21/1000 [00:00<00:12, 78.84it/s]\n",
      "Converged to LP: -550.0:   3%|▎         | 29/1000 [00:00<00:10, 91.88it/s]\n",
      "Converged to LP: -542.4:  10%|█         | 101/1000 [00:01<00:09, 96.31it/s] \n",
      "LP: -618.7:   0%|          | 0/1000 [00:00<?, ?it/s]"
     ]
    },
    {
     "name": "stdout",
     "output_type": "stream",
     "text": [
      "Fitting 4 states...\n"
     ]
    },
    {
     "name": "stderr",
     "output_type": "stream",
     "text": [
      "Converged to LP: -599.4:   4%|▍         | 38/1000 [00:00<00:15, 62.32it/s]\n",
      "Converged to LP: -600.7:   8%|▊         | 79/1000 [00:01<00:12, 75.86it/s]\n",
      "Converged to LP: -595.1:   9%|▉         | 93/1000 [00:01<00:11, 77.36it/s]\n",
      "Converged to LP: -595.0:   9%|▉         | 92/1000 [00:01<00:12, 74.27it/s]\n",
      "Converged to LP: -593.4:  13%|█▎        | 134/1000 [00:01<00:10, 82.27it/s] \n",
      "LP: -705.1:   0%|          | 0/1000 [00:00<?, ?it/s]"
     ]
    },
    {
     "name": "stdout",
     "output_type": "stream",
     "text": [
      "Fitting 5 states...\n"
     ]
    },
    {
     "name": "stderr",
     "output_type": "stream",
     "text": [
      "Converged to LP: -652.6:   4%|▍         | 39/1000 [00:00<00:18, 52.13it/s]\n",
      "Converged to LP: -655.6:   6%|▌         | 58/1000 [00:00<00:14, 66.29it/s]\n",
      "Converged to LP: -659.1:   7%|▋         | 68/1000 [00:01<00:15, 58.84it/s]\n",
      "Converged to LP: -660.7:   8%|▊         | 83/1000 [00:01<00:14, 64.87it/s]\n",
      "Converged to LP: -653.4:   9%|▉         | 94/1000 [00:01<00:13, 65.22it/s]\n",
      "Converged to LP: -417.8:   0%|          | 2/1000 [00:00<00:06, 160.87it/s]\n",
      "Converged to LP: -425.9:   0%|          | 2/1000 [00:00<00:07, 140.76it/s]\n",
      "Converged to LP: -426.5:   0%|          | 2/1000 [00:00<00:06, 153.07it/s]\n",
      "Converged to LP: -418.6:   0%|          | 2/1000 [00:00<00:06, 160.39it/s]\n",
      "Converged to LP: -444.4:   0%|          | 2/1000 [00:00<00:05, 167.35it/s]\n",
      "LP: -479.3:   0%|          | 0/1000 [00:00<?, ?it/s]"
     ]
    },
    {
     "name": "stdout",
     "output_type": "stream",
     "text": [
      "Fitting session 31...\n",
      "Fitting 1 states...\n",
      "Fitting 2 states...\n"
     ]
    },
    {
     "name": "stderr",
     "output_type": "stream",
     "text": [
      "Converged to LP: -459.3:   1%|          | 9/1000 [00:00<00:08, 110.24it/s]\n",
      "Converged to LP: -479.2:   1%|          | 12/1000 [00:00<00:08, 113.50it/s]\n",
      "Converged to LP: -472.6:   2%|▏         | 15/1000 [00:00<00:08, 112.00it/s]\n",
      "Converged to LP: -493.2:   1%|          | 11/1000 [00:00<00:09, 108.77it/s]\n",
      "Converged to LP: -471.2:   2%|▏         | 22/1000 [00:00<00:08, 121.31it/s]\n",
      "LP: -534.6:   0%|          | 0/1000 [00:00<?, ?it/s]"
     ]
    },
    {
     "name": "stdout",
     "output_type": "stream",
     "text": [
      "Fitting 3 states...\n"
     ]
    },
    {
     "name": "stderr",
     "output_type": "stream",
     "text": [
      "Converged to LP: -545.6:   1%|          | 8/1000 [00:00<00:14, 66.91it/s]\n",
      "Converged to LP: -530.3:   2%|▏         | 16/1000 [00:00<00:12, 77.38it/s]\n",
      "Converged to LP: -534.2:   2%|▏         | 17/1000 [00:00<00:13, 74.37it/s]\n",
      "Converged to LP: -513.9:   3%|▎         | 28/1000 [00:00<00:11, 82.39it/s]\n",
      "Converged to LP: -505.7:   4%|▎         | 36/1000 [00:00<00:11, 81.02it/s]\n",
      "LP: -607.2:   0%|          | 0/1000 [00:00<?, ?it/s].49it/s]"
     ]
    },
    {
     "name": "stdout",
     "output_type": "stream",
     "text": [
      "Fitting 4 states...\n"
     ]
    },
    {
     "name": "stderr",
     "output_type": "stream",
     "text": [
      "Converged to LP: -583.3:   4%|▍         | 45/1000 [00:00<00:14, 66.54it/s]\n",
      "Converged to LP: -572.0:   5%|▌         | 50/1000 [00:00<00:13, 69.53it/s]\n",
      "Converged to LP: -564.1:  10%|█         | 103/1000 [00:01<00:10, 82.05it/s]\n",
      "Converged to LP: -579.8:  13%|█▎        | 126/1000 [00:01<00:10, 86.85it/s] \n",
      "Converged to LP: -561.2:  21%|██▏       | 213/1000 [00:02<00:07, 103.95it/s]\n",
      "LP: -633.2:   0%|          | 5/1000 [00:00<00:20, 49.03it/s]"
     ]
    },
    {
     "name": "stdout",
     "output_type": "stream",
     "text": [
      "Fitting 5 states...\n"
     ]
    },
    {
     "name": "stderr",
     "output_type": "stream",
     "text": [
      "Converged to LP: -612.5:   6%|▋         | 65/1000 [00:00<00:12, 75.54it/s]\n",
      "Converged to LP: -623.8:   7%|▋         | 66/1000 [00:00<00:12, 72.42it/s]\n",
      "Converged to LP: -649.3:   9%|▉         | 94/1000 [00:01<00:12, 72.85it/s]\n",
      "Converged to LP: -596.7:  14%|█▍        | 145/1000 [00:01<00:10, 79.80it/s]\n",
      "Converged to LP: -638.2:  26%|██▌       | 258/1000 [00:03<00:09, 80.56it/s]\n"
     ]
    },
    {
     "name": "stdout",
     "output_type": "stream",
     "text": [
      "Fitting session 32...\n",
      "Fitting 1 states...\n",
      "Fitting 2 states...\n"
     ]
    },
    {
     "name": "stderr",
     "output_type": "stream",
     "text": [
      "Converged to LP: -489.3:   0%|          | 2/1000 [00:00<00:08, 114.48it/s]\n",
      "Converged to LP: -503.1:   0%|          | 2/1000 [00:00<00:08, 121.08it/s]\n",
      "Converged to LP: -491.2:   0%|          | 2/1000 [00:00<00:07, 141.30it/s]\n",
      "Converged to LP: -479.5:   0%|          | 2/1000 [00:00<00:07, 141.46it/s]\n",
      "Converged to LP: -497.9:   0%|          | 2/1000 [00:00<00:06, 148.59it/s]\n",
      "Converged to LP: -512.7:   1%|          | 6/1000 [00:00<00:08, 123.15it/s]\n",
      "Converged to LP: -520.1:   1%|          | 6/1000 [00:00<00:08, 113.40it/s]\n",
      "Converged to LP: -507.9:   1%|          | 6/1000 [00:00<00:08, 123.55it/s]\n",
      "LP: -520.3:   0%|          | 0/1000 [00:00<?, ?it/s]:00<00:09, 104.82it/s]\n",
      "Converged to LP: -520.3:   1%|          | 6/1000 [00:00<00:07, 131.45it/s]\n"
     ]
    },
    {
     "name": "stdout",
     "output_type": "stream",
     "text": [
      "Fitting 3 states...\n"
     ]
    },
    {
     "name": "stderr",
     "output_type": "stream",
     "text": [
      "Converged to LP: -568.8:   1%|          | 11/1000 [00:00<00:13, 75.06it/s]\n",
      "Converged to LP: -559.2:   2%|▏         | 15/1000 [00:00<00:10, 89.98it/s]\n",
      "Converged to LP: -575.8:   2%|▏         | 15/1000 [00:00<00:14, 69.26it/s]\n",
      "Converged to LP: -577.5:   2%|▏         | 17/1000 [00:00<00:12, 80.14it/s]\n",
      "Converged to LP: -563.8:   2%|▏         | 22/1000 [00:00<00:11, 82.32it/s]\n",
      "LP: -630.1:   0%|          | 0/1000 [00:00<?, ?it/s]"
     ]
    },
    {
     "name": "stdout",
     "output_type": "stream",
     "text": [
      "Fitting 4 states...\n"
     ]
    },
    {
     "name": "stderr",
     "output_type": "stream",
     "text": [
      "Converged to LP: -631.0:   4%|▎         | 37/1000 [00:00<00:13, 72.55it/s]\n",
      "Converged to LP: -610.7:   4%|▎         | 35/1000 [00:00<00:13, 70.56it/s]\n",
      "Converged to LP: -622.5:   5%|▍         | 48/1000 [00:00<00:12, 78.98it/s]\n",
      "Converged to LP: -621.4:   6%|▌         | 56/1000 [00:00<00:11, 82.94it/s]\n",
      "Converged to LP: -626.2:   6%|▌         | 61/1000 [00:00<00:11, 83.81it/s]\n",
      "LP: -681.5:   0%|          | 5/1000 [00:00<00:22, 44.37it/s]"
     ]
    },
    {
     "name": "stdout",
     "output_type": "stream",
     "text": [
      "Fitting 5 states...\n"
     ]
    },
    {
     "name": "stderr",
     "output_type": "stream",
     "text": [
      "Converged to LP: -684.6:   3%|▎         | 34/1000 [00:00<00:17, 54.78it/s]\n",
      "Converged to LP: -669.3:   8%|▊         | 76/1000 [00:01<00:14, 63.90it/s]\n",
      "Converged to LP: -656.6:  11%|█         | 109/1000 [00:01<00:14, 60.44it/s]\n",
      "Converged to LP: -659.6:  20%|█▉        | 197/1000 [00:02<00:11, 68.87it/s]\n",
      "Converged to LP: -666.8:  25%|██▍       | 247/1000 [00:03<00:09, 78.36it/s]\n"
     ]
    },
    {
     "name": "stdout",
     "output_type": "stream",
     "text": [
      "Fitting session 33...\n",
      "Fitting 1 states...\n",
      "Fitting 2 states...\n"
     ]
    },
    {
     "name": "stderr",
     "output_type": "stream",
     "text": [
      "Converged to LP: -460.3:   0%|          | 2/1000 [00:00<00:09, 109.32it/s]\n",
      "Converged to LP: -482.3:   0%|          | 2/1000 [00:00<00:10, 97.06it/s]\n",
      "Converged to LP: -476.4:   0%|          | 2/1000 [00:00<00:10, 94.68it/s]\n",
      "Converged to LP: -468.9:   0%|          | 2/1000 [00:00<00:08, 119.32it/s]\n",
      "Converged to LP: -478.1:   0%|          | 2/1000 [00:00<00:07, 135.35it/s]\n",
      "Converged to LP: -507.6:   1%|          | 9/1000 [00:00<00:13, 73.76it/s]\n",
      "Converged to LP: -522.4:   1%|          | 10/1000 [00:00<00:13, 72.64it/s]\n",
      "LP: -504.9:   2%|▏         | 16/1000 [00:00<00:12, 77.26it/s]1, 86.73it/s]\n",
      "Converged to LP: -520.4:   2%|▏         | 19/1000 [00:00<00:12, 76.97it/s]\n",
      "Converged to LP: -499.4:   3%|▎         | 29/1000 [00:00<00:11, 81.81it/s]\n",
      "LP: -577.2:   1%|          | 7/1000 [00:00<00:14, 66.26it/s]"
     ]
    },
    {
     "name": "stdout",
     "output_type": "stream",
     "text": [
      "Fitting 3 states...\n"
     ]
    },
    {
     "name": "stderr",
     "output_type": "stream",
     "text": [
      "Converged to LP: -548.0:   1%|          | 11/1000 [00:00<00:14, 70.23it/s]\n",
      "Converged to LP: -577.2:   1%|          | 12/1000 [00:00<00:13, 74.23it/s]\n",
      "Converged to LP: -550.1:   1%|          | 8/1000 [00:00<00:16, 61.02it/s]\n",
      "Converged to LP: -564.5:   1%|          | 10/1000 [00:00<00:13, 71.12it/s]\n",
      "Converged to LP: -569.6:   2%|▏         | 15/1000 [00:00<00:12, 78.47it/s]\n",
      "LP: -612.3:   0%|          | 0/1000 [00:00<?, ?it/s].73it/s]"
     ]
    },
    {
     "name": "stdout",
     "output_type": "stream",
     "text": [
      "Fitting 4 states...\n"
     ]
    },
    {
     "name": "stderr",
     "output_type": "stream",
     "text": [
      "Converged to LP: -618.7:   7%|▋         | 68/1000 [00:01<00:13, 66.73it/s]\n",
      "Converged to LP: -601.6:   8%|▊         | 81/1000 [00:01<00:14, 64.14it/s]\n",
      "Converged to LP: -597.5:  10%|█         | 102/1000 [00:01<00:13, 67.66it/s]\n",
      "Converged to LP: -625.7:  14%|█▍        | 138/1000 [00:01<00:12, 69.68it/s]\n",
      "Converged to LP: -616.0:  20%|██        | 205/1000 [00:02<00:10, 76.47it/s] \n",
      "LP: -717.3:   0%|          | 0/1000 [00:00<?, ?it/s]"
     ]
    },
    {
     "name": "stdout",
     "output_type": "stream",
     "text": [
      "Fitting 5 states...\n"
     ]
    },
    {
     "name": "stderr",
     "output_type": "stream",
     "text": [
      "Converged to LP: -660.7:   2%|▏         | 15/1000 [00:00<00:22, 42.91it/s]\n",
      "Converged to LP: -689.3:   2%|▏         | 18/1000 [00:00<00:18, 52.33it/s]\n",
      "Converged to LP: -665.2:   1%|          | 12/1000 [00:00<00:24, 40.33it/s]\n",
      "Converged to LP: -679.5:   2%|▏         | 16/1000 [00:00<00:21, 45.60it/s]\n",
      "Converged to LP: -667.6:   3%|▎         | 28/1000 [00:00<00:15, 62.27it/s]\n",
      "Converged to LP: -466.3:   0%|          | 2/1000 [00:00<00:07, 127.39it/s]\n",
      "Converged to LP: -475.9:   0%|          | 2/1000 [00:00<00:07, 134.30it/s]\n",
      "Converged to LP: -476.2:   0%|          | 2/1000 [00:00<00:07, 131.61it/s]\n",
      "Converged to LP: -477.8:   0%|          | 2/1000 [00:00<00:07, 140.92it/s]\n",
      "Converged to LP: -475.6:   0%|          | 2/1000 [00:00<00:06, 152.07it/s]\n",
      "LP: -524.2:   0%|          | 0/1000 [00:00<?, ?it/s]"
     ]
    },
    {
     "name": "stdout",
     "output_type": "stream",
     "text": [
      "Fitting session 34...\n",
      "Fitting 1 states...\n",
      "Fitting 2 states...\n"
     ]
    },
    {
     "name": "stderr",
     "output_type": "stream",
     "text": [
      "Converged to LP: -500.9:   1%|          | 8/1000 [00:00<00:10, 93.74it/s]\n",
      "Converged to LP: -507.1:   1%|          | 7/1000 [00:00<00:09, 101.47it/s]\n",
      "Converged to LP: -505.2:   1%|          | 7/1000 [00:00<00:09, 99.85it/s]\n",
      "Converged to LP: -510.2:   1%|          | 7/1000 [00:00<00:11, 87.94it/s]\n",
      "Converged to LP: -508.9:   1%|          | 10/1000 [00:00<00:09, 105.32it/s]\n",
      "LP: -587.0:   0%|          | 0/1000 [00:00<?, ?it/s]"
     ]
    },
    {
     "name": "stdout",
     "output_type": "stream",
     "text": [
      "Fitting 3 states...\n"
     ]
    },
    {
     "name": "stderr",
     "output_type": "stream",
     "text": [
      "Converged to LP: -558.3:   1%|          | 8/1000 [00:00<00:16, 61.96it/s]\n",
      "Converged to LP: -564.7:   1%|          | 10/1000 [00:00<00:16, 61.59it/s]\n",
      "Converged to LP: -561.0:   2%|▏         | 19/1000 [00:00<00:11, 87.84it/s]\n",
      "Converged to LP: -564.1:   2%|▏         | 24/1000 [00:00<00:12, 75.80it/s]\n",
      "Converged to LP: -562.0:   3%|▎         | 28/1000 [00:00<00:12, 80.13it/s]\n",
      "LP: -643.9:   0%|          | 0/1000 [00:00<?, ?it/s]"
     ]
    },
    {
     "name": "stdout",
     "output_type": "stream",
     "text": [
      "Fitting 4 states...\n"
     ]
    },
    {
     "name": "stderr",
     "output_type": "stream",
     "text": [
      "Converged to LP: -609.7:   4%|▎         | 35/1000 [00:00<00:14, 64.67it/s]\n",
      "Converged to LP: -600.6:   8%|▊         | 75/1000 [00:01<00:14, 64.43it/s]\n",
      "LP: -611.7:  10%|▉         | 98/1000 [00:01<00:10, 89.35it/s]12, 72.73it/s]\n",
      "Converged to LP: -611.7:  11%|█         | 108/1000 [00:01<00:11, 76.32it/s]\n",
      "Converged to LP: -603.2:  22%|██▎       | 225/1000 [00:02<00:08, 94.18it/s] \n",
      "LP: -698.6:   0%|          | 0/1000 [00:00<?, ?it/s]"
     ]
    },
    {
     "name": "stdout",
     "output_type": "stream",
     "text": [
      "Fitting 5 states...\n"
     ]
    },
    {
     "name": "stderr",
     "output_type": "stream",
     "text": [
      "Converged to LP: -672.1:   5%|▍         | 47/1000 [00:00<00:18, 51.97it/s]\n",
      "Converged to LP: -673.7:   6%|▌         | 61/1000 [00:01<00:16, 56.70it/s]\n",
      "Converged to LP: -674.8:   8%|▊         | 76/1000 [00:01<00:15, 59.19it/s]\n",
      "Converged to LP: -677.4:   8%|▊         | 75/1000 [00:01<00:16, 56.11it/s]\n",
      "Converged to LP: -663.7:  14%|█▎        | 136/1000 [00:01<00:12, 69.06it/s]\n",
      "LP: -495.9:   0%|          | 0/1000 [00:00<?, ?it/s]"
     ]
    },
    {
     "name": "stdout",
     "output_type": "stream",
     "text": [
      "Fitting session 35...\n",
      "Fitting 1 states...\n",
      "Fitting 2 states...\n"
     ]
    },
    {
     "name": "stderr",
     "output_type": "stream",
     "text": [
      "Converged to LP: -495.9:   0%|          | 2/1000 [00:00<00:08, 121.53it/s]\n",
      "Converged to LP: -527.7:   0%|          | 2/1000 [00:00<00:09, 100.19it/s]\n",
      "Converged to LP: -519.4:   0%|          | 2/1000 [00:00<00:08, 120.82it/s]\n",
      "Converged to LP: -511.8:   0%|          | 2/1000 [00:00<00:07, 129.35it/s]\n",
      "Converged to LP: -525.4:   0%|          | 2/1000 [00:00<00:07, 132.07it/s]\n",
      "Converged to LP: -524.3:   1%|          | 10/1000 [00:00<00:11, 89.45it/s]\n",
      "Converged to LP: -543.8:   1%|          | 7/1000 [00:00<00:12, 78.82it/s]\n",
      "Converged to LP: -535.3:   1%|          | 7/1000 [00:00<00:12, 79.37it/s]\n",
      "Converged to LP: -549.6:   1%|          | 10/1000 [00:00<00:10, 92.20it/s]\n",
      "Converged to LP: -555.5:   2%|▏         | 15/1000 [00:00<00:10, 92.79it/s]\n",
      "LP: -592.7:   0%|          | 0/1000 [00:00<?, ?it/s].86it/s]"
     ]
    },
    {
     "name": "stdout",
     "output_type": "stream",
     "text": [
      "Fitting 3 states...\n"
     ]
    },
    {
     "name": "stderr",
     "output_type": "stream",
     "text": [
      "Converged to LP: -592.7:   1%|          | 7/1000 [00:00<00:16, 58.72it/s]\n",
      "Converged to LP: -595.5:   1%|          | 8/1000 [00:00<00:14, 66.70it/s]\n",
      "Converged to LP: -591.1:   2%|▏         | 19/1000 [00:00<00:11, 83.99it/s]\n",
      "Converged to LP: -574.9:   5%|▍         | 48/1000 [00:00<00:11, 82.81it/s]\n",
      "Converged to LP: -602.8:   7%|▋         | 66/1000 [00:00<00:10, 88.74it/s]\n",
      "LP: -651.7:   0%|          | 5/1000 [00:00<00:21, 45.74it/s]"
     ]
    },
    {
     "name": "stdout",
     "output_type": "stream",
     "text": [
      "Fitting 4 states...\n"
     ]
    },
    {
     "name": "stderr",
     "output_type": "stream",
     "text": [
      "Converged to LP: -633.1:   6%|▌         | 57/1000 [00:00<00:14, 65.45it/s]\n",
      "Converged to LP: -644.0:   7%|▋         | 70/1000 [00:01<00:15, 60.31it/s]\n",
      "Converged to LP: -636.7:  10%|▉         | 95/1000 [00:01<00:12, 71.16it/s]\n",
      "Converged to LP: -617.0:  13%|█▎        | 131/1000 [00:01<00:11, 73.85it/s]\n",
      "Converged to LP: -647.0:  17%|█▋        | 174/1000 [00:02<00:10, 78.89it/s] \n",
      "LP: -698.0:   0%|          | 3/1000 [00:00<00:34, 28.83it/s]"
     ]
    },
    {
     "name": "stdout",
     "output_type": "stream",
     "text": [
      "Fitting 5 states...\n"
     ]
    },
    {
     "name": "stderr",
     "output_type": "stream",
     "text": [
      "Converged to LP: -699.9:   4%|▍         | 40/1000 [00:00<00:17, 55.74it/s]\n",
      "Converged to LP: -673.8:   3%|▎         | 31/1000 [00:00<00:24, 39.04it/s]\n",
      "Converged to LP: -711.1:   5%|▍         | 46/1000 [00:00<00:18, 50.28it/s]\n",
      "Converged to LP: -691.9:   6%|▌         | 55/1000 [00:01<00:17, 52.96it/s]\n",
      "Converged to LP: -691.6:   6%|▋         | 63/1000 [00:01<00:16, 58.38it/s]\n",
      "Converged to LP: -501.9:   0%|          | 2/1000 [00:00<00:06, 143.33it/s]\n"
     ]
    },
    {
     "name": "stdout",
     "output_type": "stream",
     "text": [
      "Fitting session 36...\n",
      "Fitting 1 states...\n",
      "Fitting 2 states...\n"
     ]
    },
    {
     "name": "stderr",
     "output_type": "stream",
     "text": [
      "Converged to LP: -478.5:   0%|          | 2/1000 [00:00<00:09, 105.29it/s]\n",
      "Converged to LP: -489.8:   0%|          | 2/1000 [00:00<00:09, 106.84it/s]\n",
      "Converged to LP: -494.2:   0%|          | 2/1000 [00:00<00:09, 109.87it/s]\n",
      "Converged to LP: -489.6:   0%|          | 2/1000 [00:00<00:09, 104.46it/s]\n",
      "Converged to LP: -539.0:   2%|▏         | 18/1000 [00:00<00:11, 86.34it/s]\n",
      "Converged to LP: -524.4:   2%|▏         | 18/1000 [00:00<00:13, 72.80it/s]\n",
      "Converged to LP: -544.0:   2%|▏         | 24/1000 [00:00<00:11, 83.20it/s]\n",
      "Converged to LP: -536.4:   2%|▏         | 22/1000 [00:00<00:12, 80.40it/s]\n",
      "Converged to LP: -538.8:   9%|▉         | 92/1000 [00:00<00:08, 112.71it/s]\n",
      "LP: -612.9:   0%|          | 0/1000 [00:00<?, ?it/s]"
     ]
    },
    {
     "name": "stdout",
     "output_type": "stream",
     "text": [
      "Fitting 3 states...\n"
     ]
    },
    {
     "name": "stderr",
     "output_type": "stream",
     "text": [
      "Converged to LP: -603.0:   1%|▏         | 14/1000 [00:00<00:12, 78.30it/s]\n",
      "Converged to LP: -595.5:   1%|          | 11/1000 [00:00<00:14, 69.05it/s]\n",
      "Converged to LP: -583.6:   1%|          | 11/1000 [00:00<00:16, 61.74it/s]\n",
      "Converged to LP: -594.7:   1%|          | 11/1000 [00:00<00:15, 62.12it/s]\n",
      "Converged to LP: -594.3:   2%|▏         | 19/1000 [00:00<00:12, 78.57it/s]\n",
      "LP: -664.5:   0%|          | 5/1000 [00:00<00:22, 44.16it/s]"
     ]
    },
    {
     "name": "stdout",
     "output_type": "stream",
     "text": [
      "Fitting 4 states...\n"
     ]
    },
    {
     "name": "stderr",
     "output_type": "stream",
     "text": [
      "Converged to LP: -656.0:   6%|▌         | 55/1000 [00:00<00:16, 56.63it/s]\n",
      "Converged to LP: -634.2:  14%|█▍        | 140/1000 [00:02<00:12, 66.20it/s]\n",
      "Converged to LP: -644.5:  15%|█▍        | 147/1000 [00:02<00:12, 69.31it/s]\n",
      "Converged to LP: -642.2:  31%|███       | 308/1000 [00:04<00:09, 71.18it/s]\n",
      "Converged to LP: -642.5:  49%|████▉     | 493/1000 [00:05<00:05, 86.87it/s] \n",
      "LP: -715.8:   0%|          | 5/1000 [00:00<00:25, 39.77it/s]"
     ]
    },
    {
     "name": "stdout",
     "output_type": "stream",
     "text": [
      "Fitting 5 states...\n"
     ]
    },
    {
     "name": "stderr",
     "output_type": "stream",
     "text": [
      "Converged to LP: -706.6:   3%|▎         | 28/1000 [00:00<00:21, 45.82it/s]\n",
      "Converged to LP: -692.6:   5%|▌         | 51/1000 [00:00<00:16, 56.92it/s]\n",
      "Converged to LP: -708.9:   6%|▌         | 61/1000 [00:00<00:14, 64.10it/s]\n",
      "Converged to LP: -707.0:   6%|▌         | 62/1000 [00:00<00:14, 63.33it/s]\n",
      "Converged to LP: -710.6:  11%|█▏        | 114/1000 [00:01<00:11, 74.14it/s]\n",
      "Converged to LP: -424.7:   0%|          | 2/1000 [00:00<-1:59:45, -64.62it/s]\n",
      "Converged to LP: -396.5:   0%|          | 2/1000 [00:00<-1:59:44, -61.58it/s]\n",
      "Converged to LP: -417.2:   0%|          | 2/1000 [00:00<00:07, 135.25it/s]\n",
      "LP: -493.7:   0%|          | 0/1000 [00:00<?, ?it/s]"
     ]
    },
    {
     "name": "stdout",
     "output_type": "stream",
     "text": [
      "Fitting session 37...\n",
      "Fitting 1 states...\n",
      "Fitting 2 states...\n"
     ]
    },
    {
     "name": "stderr",
     "output_type": "stream",
     "text": [
      "Converged to LP: -400.6:   0%|          | 2/1000 [00:00<00:08, 112.43it/s]\n",
      "Converged to LP: -410.9:   0%|          | 2/1000 [00:00<00:08, 117.76it/s]\n",
      "Converged to LP: -381.3:   0%|          | 4/1000 [00:00<00:13, 76.53it/s]\n",
      "Converged to LP: -403.2:   1%|          | 8/1000 [00:00<00:09, 103.17it/s]\n",
      "Converged to LP: -388.3:   0%|          | 4/1000 [00:00<00:11, 85.81it/s]\n",
      "Converged to LP: -412.5:   1%|          | 7/1000 [00:00<00:10, 99.10it/s]\n",
      "Converged to LP: -408.0:   1%|          | 6/1000 [00:00<00:11, 90.27it/s]\n",
      "LP: -502.2:   0%|          | 0/1000 [00:00<?, ?it/s]"
     ]
    },
    {
     "name": "stdout",
     "output_type": "stream",
     "text": [
      "Fitting 3 states...\n"
     ]
    },
    {
     "name": "stderr",
     "output_type": "stream",
     "text": [
      "Converged to LP: -433.7:   1%|          | 9/1000 [00:00<00:15, 65.89it/s]\n",
      "Converged to LP: -450.9:   1%|          | 10/1000 [00:00<00:15, 63.33it/s]\n",
      "Converged to LP: -465.8:   1%|          | 9/1000 [00:00<00:12, 80.20it/s]\n",
      "Converged to LP: -443.9:   1%|          | 10/1000 [00:00<00:13, 74.52it/s]\n",
      "Converged to LP: -464.1:   2%|▎         | 25/1000 [00:00<00:11, 85.29it/s]\n",
      "LP: -501.0:   0%|          | 0/1000 [00:00<?, ?it/s]"
     ]
    },
    {
     "name": "stdout",
     "output_type": "stream",
     "text": [
      "Fitting 4 states...\n"
     ]
    },
    {
     "name": "stderr",
     "output_type": "stream",
     "text": [
      "Converged to LP: -503.2:   4%|▍         | 39/1000 [00:00<00:14, 66.99it/s]\n",
      "Converged to LP: -501.4:   5%|▌         | 54/1000 [00:00<00:12, 75.42it/s]\n",
      "Converged to LP: -495.9:   8%|▊         | 81/1000 [00:00<00:11, 82.40it/s]\n",
      "Converged to LP: -521.1:  16%|█▌        | 161/1000 [00:01<00:08, 95.69it/s] \n",
      "Converged to LP: -521.4:  17%|█▋        | 172/1000 [00:01<00:09, 86.31it/s]\n",
      "LP: -632.1:   0%|          | 0/1000 [00:00<?, ?it/s]"
     ]
    },
    {
     "name": "stdout",
     "output_type": "stream",
     "text": [
      "Fitting 5 states...\n"
     ]
    },
    {
     "name": "stderr",
     "output_type": "stream",
     "text": [
      "Converged to LP: -567.3:   3%|▎         | 27/1000 [00:00<00:19, 49.94it/s]\n",
      "Converged to LP: -549.6:   3%|▎         | 29/1000 [00:00<00:17, 55.17it/s]\n",
      "Converged to LP: -538.6:   4%|▍         | 39/1000 [00:00<00:17, 53.57it/s]\n",
      "Converged to LP: -568.3:   6%|▌         | 62/1000 [00:00<00:13, 67.48it/s]\n",
      "Converged to LP: -573.2:   6%|▋         | 65/1000 [00:01<00:14, 64.60it/s]\n",
      "Converged to LP: -500.8:   0%|          | 2/1000 [00:00<00:06, 156.90it/s]\n",
      "Converged to LP: -509.4:   0%|          | 2/1000 [00:00<00:07, 137.14it/s]\n",
      "Converged to LP: -484.3:   0%|          | 2/1000 [00:00<00:07, 127.26it/s]\n",
      "Converged to LP: -501.1:   0%|          | 2/1000 [00:00<00:06, 142.98it/s]\n",
      "LP: -515.0:   0%|          | 0/1000 [00:00<?, ?it/s]"
     ]
    },
    {
     "name": "stdout",
     "output_type": "stream",
     "text": [
      "Fitting session 38...\n",
      "Fitting 1 states...\n",
      "Fitting 2 states...\n"
     ]
    },
    {
     "name": "stderr",
     "output_type": "stream",
     "text": [
      "Converged to LP: -491.5:   0%|          | 2/1000 [00:00<00:07, 128.03it/s]\n",
      "Converged to LP: -532.1:   1%|          | 6/1000 [00:00<00:09, 106.60it/s]\n",
      "Converged to LP: -548.3:   1%|          | 7/1000 [00:00<00:11, 85.65it/s]\n",
      "Converged to LP: -520.6:   1%|          | 12/1000 [00:00<00:09, 108.45it/s]\n",
      "Converged to LP: -531.8:   1%|          | 8/1000 [00:00<00:09, 104.34it/s]\n",
      "Converged to LP: -536.4:   1%|          | 11/1000 [00:00<00:10, 91.51it/s]\n"
     ]
    },
    {
     "name": "stdout",
     "output_type": "stream",
     "text": [
      "Fitting 3 states...\n"
     ]
    },
    {
     "name": "stderr",
     "output_type": "stream",
     "text": [
      "Converged to LP: -606.0:   1%|          | 10/1000 [00:00<00:10, 91.05it/s]\n",
      "Converged to LP: -587.7:   1%|          | 12/1000 [00:00<00:12, 78.56it/s]\n",
      "Converged to LP: -578.0:   2%|▏         | 16/1000 [00:00<00:10, 97.04it/s]\n",
      "Converged to LP: -593.1:   2%|▏         | 18/1000 [00:00<00:09, 106.70it/s]\n",
      "Converged to LP: -591.3:   2%|▏         | 24/1000 [00:00<00:10, 97.53it/s]\n",
      "LP: -649.8:   0%|          | 0/1000 [00:00<?, ?it/s]"
     ]
    },
    {
     "name": "stdout",
     "output_type": "stream",
     "text": [
      "Fitting 4 states...\n"
     ]
    },
    {
     "name": "stderr",
     "output_type": "stream",
     "text": [
      "Converged to LP: -615.6:   7%|▋         | 66/1000 [00:01<00:14, 65.28it/s]\n",
      "Converged to LP: -638.6:   7%|▋         | 72/1000 [00:01<00:12, 71.55it/s]\n",
      "Converged to LP: -630.9:   8%|▊         | 80/1000 [00:01<00:12, 72.58it/s]\n",
      "Converged to LP: -640.1:   7%|▋         | 72/1000 [00:01<00:14, 63.87it/s]\n",
      "Converged to LP: -636.6:  17%|█▋        | 171/1000 [00:02<00:10, 81.85it/s] \n"
     ]
    },
    {
     "name": "stdout",
     "output_type": "stream",
     "text": [
      "Fitting 5 states...\n"
     ]
    },
    {
     "name": "stderr",
     "output_type": "stream",
     "text": [
      "Converged to LP: -681.8:   6%|▋         | 65/1000 [00:01<00:18, 50.61it/s]\n",
      "Converged to LP: -687.1:  10%|█         | 104/1000 [00:01<00:14, 63.98it/s]\n",
      "Converged to LP: -694.4:   9%|▉         | 88/1000 [00:01<00:16, 55.08it/s]\n",
      "Converged to LP: -682.4:  10%|▉         | 96/1000 [00:01<00:15, 56.81it/s]\n",
      "Converged to LP: -707.4:  24%|██▍       | 242/1000 [00:03<00:09, 77.11it/s] \n",
      "Converged to LP: -506.1:   0%|          | 2/1000 [00:00<00:06, 144.17it/s]\n",
      "Converged to LP: -508.7:   0%|          | 2/1000 [00:00<00:06, 147.04it/s]\n",
      "  0%|          | 0/1000 [00:00<?, ?it/s]| 2/1000 [00:00<00:06, 145.89it/s]\n",
      "Converged to LP: -493.0:   0%|          | 2/1000 [00:00<00:05, 173.86it/s]\n",
      "Converged to LP: -485.9:   0%|          | 2/1000 [00:00<00:06, 151.37it/s]\n",
      "LP: -553.1:   0%|          | 0/1000 [00:00<?, ?it/s]"
     ]
    },
    {
     "name": "stdout",
     "output_type": "stream",
     "text": [
      "Fitting session 39...\n",
      "Fitting 1 states...\n",
      "Fitting 2 states...\n"
     ]
    },
    {
     "name": "stderr",
     "output_type": "stream",
     "text": [
      "Converged to LP: -546.8:   0%|          | 5/1000 [00:00<00:10, 90.88it/s]\n",
      "Converged to LP: -548.5:   1%|          | 10/1000 [00:00<00:10, 93.63it/s]\n",
      "Converged to LP: -523.3:   1%|          | 7/1000 [00:00<00:11, 83.20it/s]\n",
      "Converged to LP: -541.8:   1%|          | 11/1000 [00:00<00:09, 104.99it/s]\n",
      "Converged to LP: -552.7:   2%|▏         | 18/1000 [00:00<00:09, 104.97it/s]\n",
      "LP: -616.9:   0%|          | 0/1000 [00:00<?, ?it/s]"
     ]
    },
    {
     "name": "stdout",
     "output_type": "stream",
     "text": [
      "Fitting 3 states...\n"
     ]
    },
    {
     "name": "stderr",
     "output_type": "stream",
     "text": [
      "Converged to LP: -598.7:   1%|          | 7/1000 [00:00<00:16, 60.75it/s]\n",
      "Converged to LP: -600.4:   2%|▏         | 22/1000 [00:00<00:13, 72.43it/s]\n",
      "Converged to LP: -578.1:   3%|▎         | 26/1000 [00:00<00:10, 89.92it/s]\n",
      "Converged to LP: -595.0:   3%|▎         | 32/1000 [00:00<00:11, 82.57it/s]\n",
      "Converged to LP: -602.5:  10%|█         | 100/1000 [00:00<00:08, 102.98it/s]\n",
      "LP: -665.6:   0%|          | 0/1000 [00:00<?, ?it/s]"
     ]
    },
    {
     "name": "stdout",
     "output_type": "stream",
     "text": [
      "Fitting 4 states...\n"
     ]
    },
    {
     "name": "stderr",
     "output_type": "stream",
     "text": [
      "Converged to LP: -643.3:   6%|▌         | 58/1000 [00:00<00:16, 58.78it/s]\n",
      "Converged to LP: -651.6:   9%|▉         | 91/1000 [00:01<00:13, 69.05it/s]\n",
      "Converged to LP: -651.3:  14%|█▍        | 143/1000 [00:01<00:10, 79.75it/s]\n",
      "Converged to LP: -622.7:  16%|█▌        | 160/1000 [00:02<00:11, 75.19it/s]\n",
      "Converged to LP: -643.1:  22%|██▏       | 217/1000 [00:02<00:09, 79.67it/s] \n",
      "LP: -696.8:   0%|          | 5/1000 [00:00<00:20, 48.96it/s]"
     ]
    },
    {
     "name": "stdout",
     "output_type": "stream",
     "text": [
      "Fitting 5 states...\n"
     ]
    },
    {
     "name": "stderr",
     "output_type": "stream",
     "text": [
      "Converged to LP: -706.5:   5%|▍         | 47/1000 [00:00<00:15, 61.12it/s]\n",
      "Converged to LP: -682.8:   4%|▍         | 41/1000 [00:00<00:18, 52.81it/s]\n",
      "Converged to LP: -710.0:   5%|▌         | 53/1000 [00:00<00:17, 54.93it/s]\n",
      "Converged to LP: -706.6:   7%|▋         | 71/1000 [00:01<00:14, 65.62it/s]\n",
      "Converged to LP: -704.4:   8%|▊         | 76/1000 [00:01<00:15, 58.00it/s]\n",
      "Converged to LP: -481.3:   0%|          | 2/1000 [00:00<00:06, 145.64it/s]\n",
      "Converged to LP: -452.7:   0%|          | 2/1000 [00:00<00:06, 145.12it/s]\n",
      "Converged to LP: -471.3:   0%|          | 2/1000 [00:00<00:07, 136.50it/s]\n",
      "LP: -475.0:   0%|          | 0/1000 [00:00<?, ?it/s]"
     ]
    },
    {
     "name": "stdout",
     "output_type": "stream",
     "text": [
      "Fitting session 40...\n",
      "Fitting 1 states...\n",
      "Fitting 2 states...\n"
     ]
    },
    {
     "name": "stderr",
     "output_type": "stream",
     "text": [
      "Converged to LP: -471.4:   0%|          | 2/1000 [00:00<00:07, 135.01it/s]\n",
      "Converged to LP: -457.2:   0%|          | 2/1000 [00:00<00:07, 127.41it/s]\n",
      "Converged to LP: -499.5:   1%|          | 6/1000 [00:00<00:11, 89.81it/s]\n",
      "Converged to LP: -495.5:   1%|          | 8/1000 [00:00<00:09, 104.72it/s]\n",
      "Converged to LP: -514.6:   2%|▏         | 18/1000 [00:00<00:08, 111.14it/s]\n",
      "Converged to LP: -505.7:   1%|▏         | 13/1000 [00:00<00:09, 99.32it/s]\n",
      "Converged to LP: -483.3:   2%|▏         | 18/1000 [00:00<00:09, 102.66it/s]\n",
      "Converged to LP: -538.9:   1%|          | 12/1000 [00:00<00:10, 92.77it/s]\n",
      "Converged to LP: -557.7:   1%|          | 10/1000 [00:00<00:12, 77.11it/s]\n"
     ]
    },
    {
     "name": "stdout",
     "output_type": "stream",
     "text": [
      "Fitting 3 states...\n"
     ]
    },
    {
     "name": "stderr",
     "output_type": "stream",
     "text": [
      "Converged to LP: -568.2:   2%|▏         | 15/1000 [00:00<00:11, 88.47it/s]\n",
      "Converged to LP: -559.1:   2%|▏         | 15/1000 [00:00<00:13, 73.35it/s]\n",
      "Converged to LP: -550.3:   2%|▏         | 16/1000 [00:00<00:12, 80.42it/s]\n",
      "LP: -625.8:   0%|          | 0/1000 [00:00<?, ?it/s]"
     ]
    },
    {
     "name": "stdout",
     "output_type": "stream",
     "text": [
      "Fitting 4 states...\n"
     ]
    },
    {
     "name": "stderr",
     "output_type": "stream",
     "text": [
      "Converged to LP: -584.8:   4%|▍         | 38/1000 [00:00<00:15, 63.74it/s]\n",
      "Converged to LP: -602.2:   4%|▍         | 42/1000 [00:00<00:14, 67.82it/s]\n",
      "Converged to LP: -606.1:   7%|▋         | 68/1000 [00:00<00:12, 73.11it/s]\n",
      "Converged to LP: -618.9:  15%|█▌        | 150/1000 [00:01<00:10, 79.93it/s]\n",
      "Converged to LP: -593.1:  27%|██▋       | 273/1000 [00:02<00:07, 93.02it/s] \n",
      "LP: -676.8:   0%|          | 0/1000 [00:00<?, ?it/s].63it/s]"
     ]
    },
    {
     "name": "stdout",
     "output_type": "stream",
     "text": [
      "Fitting 5 states...\n"
     ]
    },
    {
     "name": "stderr",
     "output_type": "stream",
     "text": [
      "Converged to LP: -660.8:   5%|▌         | 54/1000 [00:00<00:16, 57.44it/s]\n",
      "Converged to LP: -674.9:   7%|▋         | 67/1000 [00:01<00:15, 61.09it/s]\n",
      "Converged to LP: -666.4:   7%|▋         | 70/1000 [00:01<00:15, 59.04it/s]\n",
      "Converged to LP: -657.6:   8%|▊         | 79/1000 [00:01<00:15, 60.19it/s]\n",
      "Converged to LP: -632.8:  10%|▉         | 99/1000 [00:01<00:15, 60.00it/s]\n",
      "Converged to LP: -469.4:   0%|          | 2/1000 [00:00<00:07, 130.61it/s]\n",
      "Converged to LP: -450.4:   0%|          | 2/1000 [00:00<00:07, 134.42it/s]\n",
      "Converged to LP: -460.8:   0%|          | 2/1000 [00:00<00:07, 141.39it/s]\n",
      "Converged to LP: -452.8:   0%|          | 2/1000 [00:00<00:06, 151.14it/s]\n",
      "Converged to LP: -467.6:   0%|          | 2/1000 [00:00<00:06, 146.84it/s]\n"
     ]
    },
    {
     "name": "stdout",
     "output_type": "stream",
     "text": [
      "Fitting session 41...\n",
      "Fitting 1 states...\n",
      "Fitting 2 states...\n"
     ]
    },
    {
     "name": "stderr",
     "output_type": "stream",
     "text": [
      "Converged to LP: -482.0:   1%|          | 6/1000 [00:00<00:15, 65.85it/s]\n",
      "Converged to LP: -470.1:   1%|          | 7/1000 [00:00<00:11, 84.24it/s]\n",
      "Converged to LP: -478.9:   1%|          | 6/1000 [00:00<00:13, 74.06it/s]\n",
      "Converged to LP: -475.2:   1%|          | 7/1000 [00:00<00:10, 92.38it/s]\n",
      "Converged to LP: -486.9:   1%|          | 6/1000 [00:00<00:11, 84.16it/s]\n",
      "LP: -542.0:   0%|          | 0/1000 [00:00<?, ?it/s]"
     ]
    },
    {
     "name": "stdout",
     "output_type": "stream",
     "text": [
      "Fitting 3 states...\n"
     ]
    },
    {
     "name": "stderr",
     "output_type": "stream",
     "text": [
      "Converged to LP: -523.2:   1%|          | 9/1000 [00:00<00:12, 76.95it/s]\n",
      "Converged to LP: -537.5:   2%|▏         | 15/1000 [00:00<00:13, 75.47it/s]\n",
      "Converged to LP: -536.4:   2%|▏         | 15/1000 [00:00<00:12, 76.68it/s]\n",
      "Converged to LP: -533.1:   1%|▏         | 13/1000 [00:00<00:14, 67.58it/s]\n",
      "Converged to LP: -544.1:   3%|▎         | 28/1000 [00:00<00:11, 85.14it/s]\n",
      "LP: -629.0:   0%|          | 0/1000 [00:00<?, ?it/s]"
     ]
    },
    {
     "name": "stdout",
     "output_type": "stream",
     "text": [
      "Fitting 4 states...\n"
     ]
    },
    {
     "name": "stderr",
     "output_type": "stream",
     "text": [
      "Converged to LP: -590.2:   3%|▎         | 33/1000 [00:00<00:14, 66.32it/s]\n",
      "Converged to LP: -599.2:   6%|▌         | 56/1000 [00:00<00:12, 76.55it/s]\n",
      "Converged to LP: -584.1:  10%|█         | 100/1000 [00:01<00:12, 73.57it/s]\n",
      "Converged to LP: -597.7:  12%|█▎        | 125/1000 [00:01<00:10, 80.59it/s]\n",
      "Converged to LP: -575.8:  14%|█▍        | 144/1000 [00:01<00:10, 82.79it/s] \n",
      "LP: -642.9:   0%|          | 0/1000 [00:00<?, ?it/s]"
     ]
    },
    {
     "name": "stdout",
     "output_type": "stream",
     "text": [
      "Fitting 5 states...\n"
     ]
    },
    {
     "name": "stderr",
     "output_type": "stream",
     "text": [
      "Converged to LP: -642.3:   3%|▎         | 30/1000 [00:00<00:18, 53.55it/s]\n",
      "Converged to LP: -640.0:   3%|▎         | 31/1000 [00:00<00:21, 45.47it/s]\n",
      "Converged to LP: -631.6:   7%|▋         | 68/1000 [00:01<00:15, 58.27it/s]\n",
      "Converged to LP: -654.3:  11%|█▏        | 113/1000 [00:01<00:13, 63.74it/s]\n",
      "Converged to LP: -649.6:  17%|█▋        | 168/1000 [00:02<00:12, 66.60it/s]\n",
      "Converged to LP: -439.5:   0%|          | 2/1000 [00:00<00:07, 138.04it/s]\n",
      "Converged to LP: -451.8:   0%|          | 2/1000 [00:00<00:07, 134.43it/s]\n",
      "LP: -463.6:   0%|          | 0/1000 [00:00<?, ?it/s]"
     ]
    },
    {
     "name": "stdout",
     "output_type": "stream",
     "text": [
      "Fitting session 42...\n",
      "Fitting 1 states...\n",
      "Fitting 2 states...\n"
     ]
    },
    {
     "name": "stderr",
     "output_type": "stream",
     "text": [
      "Converged to LP: -452.1:   0%|          | 2/1000 [00:00<00:10, 97.20it/s]\n",
      "Converged to LP: -447.6:   0%|          | 2/1000 [00:00<00:09, 100.15it/s]\n",
      "Converged to LP: -438.9:   0%|          | 2/1000 [00:00<00:06, 151.96it/s]\n",
      "Converged to LP: -478.3:   1%|▏         | 14/1000 [00:00<00:10, 89.67it/s]\n",
      "Converged to LP: -474.2:   2%|▏         | 15/1000 [00:00<00:12, 81.33it/s]\n",
      "Converged to LP: -480.3:   3%|▎         | 30/1000 [00:00<00:10, 89.65it/s]\n",
      "Converged to LP: -488.7:   5%|▍         | 48/1000 [00:00<00:08, 106.32it/s]\n",
      "Converged to LP: -477.8:   6%|▌         | 60/1000 [00:00<00:07, 121.36it/s]\n",
      "LP: -559.4:   0%|          | 0/1000 [00:00<?, ?it/s]"
     ]
    },
    {
     "name": "stdout",
     "output_type": "stream",
     "text": [
      "Fitting 3 states...\n"
     ]
    },
    {
     "name": "stderr",
     "output_type": "stream",
     "text": [
      "Converged to LP: -541.2:   1%|          | 11/1000 [00:00<00:14, 66.86it/s]\n",
      "Converged to LP: -529.6:   1%|▏         | 14/1000 [00:00<00:14, 66.12it/s]\n",
      "Converged to LP: -540.4:   2%|▏         | 17/1000 [00:00<00:14, 67.66it/s]\n",
      "Converged to LP: -529.2:   2%|▏         | 23/1000 [00:00<00:12, 75.20it/s]\n",
      "Converged to LP: -531.9:   3%|▎         | 32/1000 [00:00<00:11, 81.20it/s]\n",
      "LP: -594.5:   0%|          | 0/1000 [00:00<?, ?it/s].68it/s]"
     ]
    },
    {
     "name": "stdout",
     "output_type": "stream",
     "text": [
      "Fitting 4 states...\n"
     ]
    },
    {
     "name": "stderr",
     "output_type": "stream",
     "text": [
      "Converged to LP: -575.2:   7%|▋         | 67/1000 [00:01<00:14, 63.65it/s]\n",
      "Converged to LP: -583.1:  10%|█         | 101/1000 [00:01<00:13, 67.37it/s]\n",
      "Converged to LP: -569.5:  10%|█         | 105/1000 [00:01<00:13, 66.88it/s]\n",
      "Converged to LP: -570.7:  15%|█▍        | 149/1000 [00:01<00:11, 76.33it/s]\n",
      "Converged to LP: -595.6:  17%|█▋        | 168/1000 [00:02<00:10, 79.39it/s] \n",
      "LP: -685.2:   0%|          | 0/1000 [00:00<?, ?it/s]"
     ]
    },
    {
     "name": "stdout",
     "output_type": "stream",
     "text": [
      "Fitting 5 states...\n"
     ]
    },
    {
     "name": "stderr",
     "output_type": "stream",
     "text": [
      "Converged to LP: -642.8:   7%|▋         | 67/1000 [00:01<00:15, 58.68it/s]\n",
      "Converged to LP: -649.9:   9%|▊         | 86/1000 [00:01<00:15, 60.52it/s]\n",
      "Converged to LP: -641.5:  10%|█         | 103/1000 [00:01<00:15, 58.48it/s]\n",
      "Converged to LP: -645.2:  28%|██▊       | 275/1000 [00:04<00:10, 66.88it/s]\n",
      "Converged to LP: -620.3:  35%|███▌      | 350/1000 [00:04<00:09, 71.22it/s]\n",
      "Converged to LP: -423.0:   0%|          | 2/1000 [00:00<00:07, 137.05it/s]\n",
      "Converged to LP: -449.2:   0%|          | 2/1000 [00:00<00:09, 106.51it/s]\n",
      "Converged to LP: -464.0:   0%|          | 2/1000 [00:00<00:08, 112.97it/s]\n",
      "Converged to LP: -451.4:   0%|          | 2/1000 [00:00<00:07, 138.52it/s]\n",
      "Converged to LP: -453.5:   0%|          | 2/1000 [00:00<00:06, 146.45it/s]\n",
      "LP: -463.1:   0%|          | 0/1000 [00:00<?, ?it/s]"
     ]
    },
    {
     "name": "stdout",
     "output_type": "stream",
     "text": [
      "Fitting session 43...\n",
      "Fitting 1 states...\n",
      "Fitting 2 states...\n"
     ]
    },
    {
     "name": "stderr",
     "output_type": "stream",
     "text": [
      "Converged to LP: -463.0:   1%|▏         | 13/1000 [00:00<00:09, 102.88it/s]\n",
      "Converged to LP: -491.6:   1%|          | 8/1000 [00:00<00:12, 82.64it/s]\n",
      "Converged to LP: -506.0:   2%|▏         | 20/1000 [00:00<00:09, 103.23it/s]\n",
      "Converged to LP: -494.3:   2%|▏         | 17/1000 [00:00<00:09, 100.31it/s]\n",
      "Converged to LP: -493.4:   5%|▍         | 48/1000 [00:00<00:08, 114.76it/s]\n",
      "LP: -543.0:   0%|          | 0/1000 [00:00<?, ?it/s]"
     ]
    },
    {
     "name": "stdout",
     "output_type": "stream",
     "text": [
      "Fitting 3 states...\n"
     ]
    },
    {
     "name": "stderr",
     "output_type": "stream",
     "text": [
      "Converged to LP: -551.8:   1%|▏         | 13/1000 [00:00<00:11, 85.52it/s]\n",
      "Converged to LP: -550.9:   1%|          | 12/1000 [00:00<00:12, 77.83it/s]\n",
      "Converged to LP: -563.6:   2%|▏         | 15/1000 [00:00<00:11, 82.13it/s]\n",
      "Converged to LP: -517.5:   2%|▏         | 20/1000 [00:00<00:10, 91.35it/s]\n",
      "Converged to LP: -550.0:   2%|▏         | 16/1000 [00:00<00:10, 89.97it/s]\n",
      "LP: -612.8:   0%|          | 5/1000 [00:00<00:20, 49.55it/s]"
     ]
    },
    {
     "name": "stdout",
     "output_type": "stream",
     "text": [
      "Fitting 4 states...\n"
     ]
    },
    {
     "name": "stderr",
     "output_type": "stream",
     "text": [
      "Converged to LP: -569.2:   9%|▉         | 91/1000 [00:01<00:12, 70.99it/s]\n",
      "Converged to LP: -616.6:  15%|█▌        | 151/1000 [00:01<00:11, 76.74it/s]\n",
      "Converged to LP: -600.0:  18%|█▊        | 181/1000 [00:02<00:11, 73.90it/s]\n",
      "Converged to LP: -599.5:  20%|██        | 201/1000 [00:02<00:10, 78.73it/s] \n",
      "Converged to LP: -603.1:  23%|██▎       | 228/1000 [00:02<00:09, 80.41it/s] \n",
      "LP: -668.1:   0%|          | 4/1000 [00:00<00:25, 38.37it/s]"
     ]
    },
    {
     "name": "stdout",
     "output_type": "stream",
     "text": [
      "Fitting 5 states...\n"
     ]
    },
    {
     "name": "stderr",
     "output_type": "stream",
     "text": [
      "Converged to LP: -659.1:   1%|▏         | 14/1000 [00:00<00:18, 52.53it/s]\n",
      "Converged to LP: -664.9:   2%|▏         | 15/1000 [00:00<00:17, 56.99it/s]\n",
      "Converged to LP: -658.2:   2%|▏         | 16/1000 [00:00<00:18, 53.76it/s]\n",
      "Converged to LP: -626.5:   2%|▏         | 22/1000 [00:00<00:16, 58.19it/s]\n",
      "Converged to LP: -675.3:   3%|▎         | 29/1000 [00:00<00:15, 63.67it/s]\n",
      "Converged to LP: -356.8:   0%|          | 2/1000 [00:00<00:09, 106.62it/s]\n",
      "LP: -414.1:   0%|          | 0/1000 [00:00<?, ?it/s]"
     ]
    },
    {
     "name": "stdout",
     "output_type": "stream",
     "text": [
      "Fitting session 44...\n",
      "Fitting 1 states...\n",
      "Fitting 2 states...\n"
     ]
    },
    {
     "name": "stderr",
     "output_type": "stream",
     "text": [
      "Converged to LP: -377.0:   0%|          | 2/1000 [00:00<00:09, 107.41it/s]\n",
      "Converged to LP: -368.4:   0%|          | 2/1000 [00:00<00:10, 99.55it/s]\n",
      "Converged to LP: -367.0:   0%|          | 2/1000 [00:00<00:10, 98.10it/s]\n",
      "Converged to LP: -377.8:   0%|          | 2/1000 [00:00<00:07, 130.22it/s]\n",
      "Converged to LP: -422.1:   1%|          | 8/1000 [00:00<00:10, 94.37it/s]\n",
      "Converged to LP: -400.7:   1%|          | 9/1000 [00:00<00:12, 78.51it/s]\n",
      "Converged to LP: -418.0:   1%|          | 9/1000 [00:00<00:10, 93.74it/s]\n",
      "Converged to LP: -414.2:   1%|          | 9/1000 [00:00<00:11, 87.70it/s]\n",
      "Converged to LP: -427.3:   1%|          | 12/1000 [00:00<00:10, 91.85it/s]\n",
      "Converged to LP: -465.1:   1%|          | 6/1000 [00:00<00:12, 81.02it/s]\n",
      "Converged to LP: -448.0:   1%|          | 8/1000 [00:00<00:12, 79.55it/s]\n",
      "LP: -463.1:   0%|          | 0/1000 [00:00<?, ?it/s]"
     ]
    },
    {
     "name": "stdout",
     "output_type": "stream",
     "text": [
      "Fitting 3 states...\n",
      "Fitting 4 states...\n"
     ]
    },
    {
     "name": "stderr",
     "output_type": "stream",
     "text": [
      "Converged to LP: -463.0:   1%|          | 7/1000 [00:00<00:16, 60.75it/s]\n",
      "Converged to LP: -466.0:   1%|          | 7/1000 [00:00<00:13, 72.74it/s]\n",
      "Converged to LP: -459.5:   1%|          | 8/1000 [00:00<00:14, 69.24it/s]\n",
      "Converged to LP: -494.5:   6%|▌         | 61/1000 [00:00<00:13, 67.82it/s]\n",
      "Converged to LP: -516.0:   6%|▋         | 65/1000 [00:00<00:14, 66.22it/s]\n",
      "Converged to LP: -514.2:   8%|▊         | 82/1000 [00:01<00:11, 78.82it/s]\n",
      "Converged to LP: -508.9:  10%|█         | 102/1000 [00:01<00:11, 79.30it/s]\n",
      "Converged to LP: -511.3:  14%|█▍        | 138/1000 [00:01<00:09, 89.87it/s] \n",
      "LP: -589.7:   0%|          | 0/1000 [00:00<?, ?it/s].27it/s]"
     ]
    },
    {
     "name": "stdout",
     "output_type": "stream",
     "text": [
      "Fitting 5 states...\n"
     ]
    },
    {
     "name": "stderr",
     "output_type": "stream",
     "text": [
      "Converged to LP: -568.2:   1%|          | 12/1000 [00:00<00:19, 50.98it/s]\n",
      "Converged to LP: -579.7:   1%|          | 11/1000 [00:00<00:19, 51.60it/s]\n",
      "Converged to LP: -573.7:   1%|          | 12/1000 [00:00<00:19, 49.71it/s]\n",
      "Converged to LP: -588.8:   2%|▏         | 15/1000 [00:00<00:15, 64.41it/s]\n",
      "Converged to LP: -578.3:   2%|▏         | 20/1000 [00:00<00:14, 65.43it/s]\n",
      "Converged to LP: -467.6:   0%|          | 2/1000 [00:00<00:07, 132.97it/s]\n",
      "Converged to LP: -453.1:   0%|          | 2/1000 [00:00<00:07, 130.06it/s]\n",
      "LP: -489.9:   0%|          | 0/1000 [00:00<?, ?it/s]"
     ]
    },
    {
     "name": "stdout",
     "output_type": "stream",
     "text": [
      "Fitting session 45...\n",
      "Fitting 1 states...\n",
      "Fitting 2 states...\n"
     ]
    },
    {
     "name": "stderr",
     "output_type": "stream",
     "text": [
      "Converged to LP: -459.8:   0%|          | 2/1000 [00:00<00:07, 127.29it/s]\n",
      "Converged to LP: -461.4:   0%|          | 2/1000 [00:00<00:07, 129.42it/s]\n",
      "Converged to LP: -475.5:   0%|          | 2/1000 [00:00<00:09, 105.82it/s]\n",
      "Converged to LP: -466.2:   0%|          | 5/1000 [00:00<00:10, 98.88it/s]\n",
      "Converged to LP: -467.5:   0%|          | 5/1000 [00:00<00:10, 98.26it/s]\n",
      "Converged to LP: -466.3:   1%|          | 9/1000 [00:00<00:09, 101.66it/s]\n",
      "Converged to LP: -482.6:   0%|          | 5/1000 [00:00<00:10, 91.75it/s]\n",
      "Converged to LP: -465.3:   2%|▏         | 16/1000 [00:00<00:09, 106.93it/s]\n",
      "Converged to LP: -518.9:   1%|          | 8/1000 [00:00<00:17, 57.81it/s]\n",
      "LP: -541.9:   0%|          | 0/1000 [00:00<?, ?it/s].81it/s]"
     ]
    },
    {
     "name": "stdout",
     "output_type": "stream",
     "text": [
      "Fitting 3 states...\n"
     ]
    },
    {
     "name": "stderr",
     "output_type": "stream",
     "text": [
      "Converged to LP: -519.0:   1%|▏         | 14/1000 [00:00<00:15, 62.82it/s]\n",
      "Converged to LP: -517.1:   1%|▏         | 13/1000 [00:00<00:16, 60.37it/s]\n",
      "Converged to LP: -535.8:   1%|▏         | 14/1000 [00:00<00:15, 64.87it/s]\n",
      "Converged to LP: -512.4:  12%|█▏        | 120/1000 [00:01<00:08, 104.24it/s]\n"
     ]
    },
    {
     "name": "stdout",
     "output_type": "stream",
     "text": [
      "Fitting 4 states...\n"
     ]
    },
    {
     "name": "stderr",
     "output_type": "stream",
     "text": [
      "Converged to LP: -581.0:   3%|▎         | 32/1000 [00:00<00:12, 79.11it/s]\n",
      "Converged to LP: -574.1:   3%|▎         | 31/1000 [00:00<00:14, 66.19it/s]\n",
      "Converged to LP: -575.3:   5%|▌         | 53/1000 [00:00<00:11, 82.98it/s]\n",
      "Converged to LP: -576.9:   8%|▊         | 84/1000 [00:00<00:10, 86.79it/s]\n",
      "Converged to LP: -589.3:  11%|█         | 112/1000 [00:01<00:09, 92.45it/s] \n",
      "LP: -657.3:   0%|          | 0/1000 [00:00<?, ?it/s].48it/s]"
     ]
    },
    {
     "name": "stdout",
     "output_type": "stream",
     "text": [
      "Fitting 5 states...\n"
     ]
    },
    {
     "name": "stderr",
     "output_type": "stream",
     "text": [
      "Converged to LP: -631.0:   2%|▏         | 21/1000 [00:00<00:20, 48.82it/s]\n",
      "Converged to LP: -628.6:   2%|▏         | 21/1000 [00:00<00:21, 45.37it/s]\n",
      "Converged to LP: -628.4:   3%|▎         | 33/1000 [00:00<00:17, 56.39it/s]\n",
      "Converged to LP: -622.4:   4%|▍         | 40/1000 [00:00<00:16, 57.38it/s]\n",
      "Converged to LP: -641.3:   7%|▋         | 68/1000 [00:01<00:13, 66.86it/s]\n"
     ]
    }
   ],
   "source": [
    "# session-wise fitting with 5 fold cross-validation\n",
    "models_session_state_fold, train_ll_session, test_ll_session = session_wise_fit_cv(choices_session_wise, inputs_session_wise, masks=masks_session_wise, n_sessions=len((session_metadata[\"session_id\"])), init_params=init_params, state_range=np.arange(1, 6), n_iters=1000)"
   ]
  },
  {
   "cell_type": "code",
   "execution_count": null,
   "metadata": {},
   "outputs": [],
   "source": [
    "# store data and models for aggregated\n",
    "global_fits = {\"models\": models_glm_hmm, \"fits_lls_glm_hmm\": fit_lls_glm_hmm, \"init_params\": init_params}\n",
    "session_wise_fits = {\n",
    "\t\"models\": models_session_state_fold,\n",
    "\t\"train_ll\": train_ll_session,\n",
    "\t\"test_ll\": test_ll_session,\n",
    "}\n",
    "# store data and models for session-wise\n",
    "session_data = {}\n",
    "for idx, session_id in enumerate(session_metadata[\"session_id\"]):\n",
    "\tinputs = inputs_session_wise[idx]\n",
    "\tdf = {\n",
    "\t\t\"choices\": choices_session_wise[idx].ravel(),\n",
    "\t\t\"stimulus\": unnormalized_inputs_session_wise[idx][:, 0],\n",
    "\t\t\"normalized_stimulus\": inputs[:, 0],\n",
    "\t\t\"bias\": inputs[:, 1],\n",
    "\t\t\"mask\": masks_session_wise[idx].ravel(),\n",
    "\t\t\"trial_num\": GP_trial_num_session_wise[idx].ravel(),\n",
    "\t\t\"prob_toRF\": prob_toRF_session_wise[idx].ravel(),\n",
    "\t}\n",
    "\n",
    "\n",
    "\tfor t in range(n_trial_back):\n",
    "\t\tdf[f\"prev_choice_{t+1}\"] = inputs[:, current_trial_param + t]\n",
    "\t\tdf[f\"prev_target_{t+1}\"] = inputs[:, current_trial_param + n_trial_back + t]\n",
    "\n",
    "\tsession_data[session_id] = pd.DataFrame(df)\n",
    "\n",
    "\n",
    "models_and_data = {\n",
    "\t\"global\": global_fits,\n",
    "\t\"session_wise\":session_wise_fits,\n",
    "\t\"data\": session_data,\n",
    "}\n",
    "\n",
    "with open(Path(processed_dir, f\"global_glm_hmm_{_TRIALS}.pkl\"), \"wb\") as f:\n",
    "\tpickle.dump(models_and_data, f)"
   ]
  }
 ],
 "metadata": {
  "kernelspec": {
   "display_name": "Python 3",
   "language": "python",
   "name": "python3"
  },
  "language_info": {
   "codemirror_mode": {
    "name": "ipython",
    "version": 3
   },
   "file_extension": ".py",
   "mimetype": "text/x-python",
   "name": "python",
   "nbconvert_exporter": "python",
   "pygments_lexer": "ipython3",
   "version": "3.10.6"
  }
 },
 "nbformat": 4,
 "nbformat_minor": 2
}
