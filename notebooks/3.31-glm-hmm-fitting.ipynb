{
 "cells": [
  {
   "cell_type": "code",
   "execution_count": 1,
   "metadata": {},
   "outputs": [],
   "source": [
    "import numpy as np\n",
    "import numpy.random as npr\n",
    "import pandas as pd\n",
    "from sklearn import preprocessing\n",
    "\n",
    "from notebooks.imports import *\n",
    "from config import dir_config\n",
    "from src.utils.glm_hmm_utils import *\n",
    "import pickle\n",
    "import copy"
   ]
  },
  {
   "cell_type": "code",
   "execution_count": 2,
   "metadata": {},
   "outputs": [],
   "source": [
    "compiled_dir = Path(dir_config.data.compiled)\n",
    "processed_dir = Path(dir_config.data.processed)"
   ]
  },
  {
   "cell_type": "code",
   "execution_count": 3,
   "metadata": {},
   "outputs": [],
   "source": [
    "session_metadata = pd.read_csv(compiled_dir / 'sessions_metadata.csv')"
   ]
  },
  {
   "cell_type": "code",
   "execution_count": 4,
   "metadata": {},
   "outputs": [],
   "source": [
    "# _TRIALS = \"all_trials\"\n",
    "# _TRIALS = \"all_trials_eq_prior\"\n",
    "_TRIALS = \"all_trials_no_bias\""
   ]
  },
  {
   "cell_type": "markdown",
   "metadata": {},
   "source": [
    "#### utils"
   ]
  },
  {
   "cell_type": "code",
   "execution_count": 5,
   "metadata": {},
   "outputs": [],
   "source": [
    "def extract_previous_data(trial_data, valid_idx, first_trial, n_trial_back=3):\n",
    "\tnp.random.seed(1)\n",
    "\n",
    "\t# remove trials before the first valid trial or first three trials, whichever is larger\n",
    "\tprev_choice = np.empty((len(trial_data) - first_trial, n_trial_back), dtype=int)\n",
    "\tprev_target = np.empty((len(trial_data) - first_trial, n_trial_back), dtype=int)\n",
    "\n",
    "\t# Loop to populate prev_choice and prev_target with the last n_trial_back values for each trial\n",
    "\tfor i in range(first_trial, len(trial_data)):\n",
    "\t\t# Get the valid indices for the last n_trial_back trials\n",
    "\t\tvalid_indices = valid_idx[valid_idx < i][-n_trial_back:]  # Ensure we get the last n_trial_back valid trials\n",
    "\n",
    "\t\tprev_choice[i - first_trial] = trial_data.choice[valid_indices] * 2 - 1  # Convert choice to -1/1\n",
    "\t\tprev_target[i - first_trial] = trial_data.target[valid_indices] * 2 - 1  # Convert target to -1/1\n",
    "\n",
    "\n",
    "\treturn prev_choice, prev_target\n",
    "\n",
    "def prepare_input_data(data, input_dim, valid_idx, first_trial):\n",
    "\tif \"no_bias\" in _TRIALS:\n",
    "\t\tcurrent_trial_param = 1\n",
    "\telse:\n",
    "\t\tcurrent_trial_param = 2\n",
    "\tn_trial_back=(input_dim - current_trial_param) // 2\n",
    "\tX = np.ones((1, data.shape[0] - first_trial, input_dim))\n",
    "\n",
    "\tcurrent_stimulus = data.coherence * (2 * data.target - 1)\n",
    "\tcurrent_stimulus = current_stimulus / 100\n",
    "\n",
    "\tX[0, :, 0] = current_stimulus[first_trial:]  # current stimulus\n",
    "\tX[0, :, current_trial_param:current_trial_param+n_trial_back], X[0, :, current_trial_param+n_trial_back: current_trial_param+2*n_trial_back] = extract_previous_data(data, valid_idx, first_trial, n_trial_back=n_trial_back)\n",
    "\treturn list(X)"
   ]
  },
  {
   "cell_type": "markdown",
   "metadata": {},
   "source": [
    "### create design matrix (input, output, mask)"
   ]
  },
  {
   "cell_type": "code",
   "execution_count": 6,
   "metadata": {},
   "outputs": [],
   "source": [
    "n_states = 2  # number of discrete states\n",
    "obs_dim = 1  # number of observed dimensions: choice(toRF/awayRF)\n",
    "num_categories = 2  # number of categories for output\n",
    "\n",
    "if \"no_bias\" in _TRIALS:\n",
    "\tcurrent_trial_param = 1\n",
    "else:\n",
    "\tcurrent_trial_param = 2\n",
    "\n",
    "n_trial_back = 3\n",
    "\n",
    "input_dim = current_trial_param + 2*n_trial_back  # input dimensions: current signed coherence, 1(bias), previous choice(toRF/awayRF), previous target side(toRF/awayRF)"
   ]
  },
  {
   "cell_type": "markdown",
   "metadata": {},
   "source": [
    "#### data preparation"
   ]
  },
  {
   "cell_type": "code",
   "execution_count": 7,
   "metadata": {},
   "outputs": [],
   "source": [
    "import numpy as np\n",
    "import pandas as pd\n",
    "from pathlib import Path\n",
    "\n",
    "# Pre-allocate lists for session data\n",
    "inputs_session_wise = []\n",
    "choices_session_wise = []\n",
    "invalid_idx_session_wise = []\n",
    "masks_session_wise = []\n",
    "GP_trial_num_session_wise = []\n",
    "prob_toRF_session_wise = []\n",
    "\n",
    "# Pre-build a mapping from session_id to prior_direction for efficient lookup\n",
    "prior_direction_map = session_metadata.set_index(\"session_id\")[\"prior_direction\"].to_dict()\n",
    "\n",
    "# Process each session\n",
    "for session_id in session_metadata[\"session_id\"]:\n",
    "\t# Read trial data for each session\n",
    "\ttrial_data = pd.read_csv(Path(compiled_dir, session_id, f\"{session_id}_trial.csv\"), index_col=None)\n",
    "\tGP_trial_data = trial_data[trial_data.task_type == 1].reset_index()\n",
    "\n",
    "\tif \"eq_prior\" in _TRIALS:\n",
    "\t\tGP_trial_data = GP_trial_data[GP_trial_data.prob_toRF == 50].reset_index()\n",
    "\n",
    "\t# Fill missing values for important columns\n",
    "\tGP_trial_data['choice'] = GP_trial_data.choice.fillna(-1)\n",
    "\tGP_trial_data['target'] = GP_trial_data.target.fillna(-1)\n",
    "\tGP_trial_data['outcome'] = GP_trial_data.outcome.fillna(-1)\n",
    "\n",
    "\t# Get valid indices based on outcomes\n",
    "\tvalid_idx = np.where(GP_trial_data.outcome >= 0)[0]\n",
    "\n",
    "\t# First valid trial considering n_trial_back\n",
    "\tfirst_trial = valid_idx[n_trial_back - 1] + 1\n",
    "\n",
    "\t# Prepare inputs and choices\n",
    "\tinputs = prepare_input_data(GP_trial_data, input_dim, valid_idx, first_trial)\n",
    "\tchoices = GP_trial_data.choice.values.reshape(-1, 1).astype(\"int\")\n",
    "\tchoices = choices[first_trial:]\n",
    "\n",
    "\t# Adjust invalid_idx and prepare mask\n",
    "\tinvalid_idx = np.where(choices == -1)[0]\n",
    "\n",
    "\tif \"all_trials\" in _TRIALS:\n",
    "\t\t# For training, replace -1 with a random sample from 0,1\n",
    "\t\tchoices[choices == -1] = np.random.choice(2, invalid_idx.shape[0])\n",
    "\n",
    "\t\t# Prepare mask\n",
    "\t\tmask = np.ones_like(choices, dtype=bool)\n",
    "\t\tmask[invalid_idx] = 0\n",
    "\n",
    "\t\t# Get trial numbers and prob_toRF for the cropped session\n",
    "\t\tGP_trial_num = np.array(GP_trial_data.trial_number)[first_trial:]\n",
    "\t\tprob_toRF = np.array(GP_trial_data.prob_toRF)[first_trial:]\n",
    "\n",
    "\telse:\n",
    "\t\tassert \"all_trials\" in _TRIALS, \"Invalid trials option\"\n",
    "\n",
    "\t# Check prior_direction for the current session and adjust inputs and choices\n",
    "\tprior_direction = prior_direction_map.get(session_id, 'awayRF')\n",
    "\tif prior_direction == 'awayRF':\n",
    "\t\tinputs[0][:, 0] = -inputs[0][:, 0]  # Flip the direction for input features\n",
    "\t\tinputs[0][:, 2:] = -inputs[0][:, 2:]\n",
    "\t\tchoices = 1-choices  # Flip the choices\n",
    "\n",
    "\tassert len(choices) == len(inputs[0]), f\"Length mismatch: {len(choices)} vs {len(inputs[0])}\"\n",
    "\tassert len(mask) == len(inputs[0]), f\"Length mismatch: {len(mask)} vs {len(inputs[0])}\"\n",
    "\tassert len(GP_trial_num) == len(inputs[0]), f\"Length mismatch: {len(GP_trial_num)} vs {len(inputs[0])}\"\n",
    "\tassert len(prob_toRF) == len(inputs[0]), f\"Length mismatch: {len(prob_toRF)} vs {len(inputs[0])}\"\n",
    "\n",
    "\t# Append session-wise data to corresponding lists\n",
    "\tmasks_session_wise.append(mask)\n",
    "\tinputs_session_wise += inputs\n",
    "\tchoices_session_wise.append(choices)\n",
    "\tGP_trial_num_session_wise.append(GP_trial_num)\n",
    "\tprob_toRF_session_wise.append(prob_toRF)\n"
   ]
  },
  {
   "cell_type": "code",
   "execution_count": 8,
   "metadata": {},
   "outputs": [],
   "source": [
    "unnormalized_inputs_session_wise = copy.deepcopy(inputs_session_wise)\n",
    "# scaling all input variables\n",
    "for idx_session in range(len(session_metadata)):\n",
    "    mask = masks_session_wise[idx_session][:, 0]\n",
    "    inputs_session_wise[idx_session][mask, 0] = preprocessing.scale(inputs_session_wise[idx_session][mask, 0], axis=0)\n",
    "    inputs_session_wise[idx_session][mask, 2:] = preprocessing.scale(inputs_session_wise[idx_session][mask, 2:], axis=0)\n",
    "    # normalize all input variables except the bias term"
   ]
  },
  {
   "cell_type": "code",
   "execution_count": null,
   "metadata": {},
   "outputs": [
    {
     "name": "stdout",
     "output_type": "stream",
     "text": [
      "Fitting GLM globally...\n"
     ]
    },
    {
     "data": {
      "application/vnd.jupyter.widget-view+json": {
       "model_id": "1968b02c86944fc98cce25d83c6aeec0",
       "version_major": 2,
       "version_minor": 0
      },
      "text/plain": [
       "  0%|          | 0/2500 [00:00<?, ?it/s]"
      ]
     },
     "metadata": {},
     "output_type": "display_data"
    },
    {
     "name": "stdout",
     "output_type": "stream",
     "text": [
      "Fitting 1 states...\n"
     ]
    },
    {
     "name": "stderr",
     "output_type": "stream",
     "text": [
      "Converged to LP: -23693.2:   0%|          | 2/2500 [00:01<21:39,  1.92it/s]\n",
      "Converged to LP: -23693.2:   0%|          | 2/2500 [00:01<22:41,  1.84it/s]\n",
      "Converged to LP: -23693.2:   0%|          | 2/2500 [00:01<23:20,  1.78it/s]\n",
      "Converged to LP: -23693.2:   0%|          | 2/2500 [00:01<23:29,  1.77it/s]\n",
      "Converged to LP: -23693.2:   0%|          | 2/2500 [00:01<23:41,  1.76it/s]\n",
      "Converged to LP: -23693.2:   0%|          | 2/2500 [00:01<24:15,  1.72it/s]\n",
      "Converged to LP: -23693.2:   0%|          | 2/2500 [00:01<24:18,  1.71it/s]\n",
      "Converged to LP: -23693.2:   0%|          | 2/2500 [00:01<22:32,  1.85it/s]\n",
      "Converged to LP: -23693.2:   0%|          | 2/2500 [00:01<27:53,  1.49it/s]\n",
      "Converged to LP: -23693.2:   0%|          | 2/2500 [00:01<27:31,  1.51it/s]\n",
      "Converged to LP: -23693.2:   0%|          | 2/2500 [00:01<29:11,  1.43it/s]\n",
      "Converged to LP: -23693.2:   0%|          | 2/2500 [00:01<29:25,  1.41it/s]\n",
      "Converged to LP: -23693.2:   0%|          | 2/2500 [00:01<28:58,  1.44it/s]\n",
      "Converged to LP: -23693.2:   0%|          | 2/2500 [00:01<28:41,  1.45it/s]\n",
      "Converged to LP: -23693.2:   0%|          | 2/2500 [00:01<28:58,  1.44it/s]\n",
      "Converged to LP: -23693.2:   0%|          | 2/2500 [00:01<30:01,  1.39it/s]\n",
      "Converged to LP: -23693.2:   0%|          | 2/2500 [00:00<15:23,  2.71it/s]\n",
      "Converged to LP: -23693.2:   0%|          | 2/2500 [00:00<14:51,  2.80it/s]\n",
      "Converged to LP: -23693.2:   0%|          | 2/2500 [00:00<14:39,  2.84it/s]\n",
      "Converged to LP: -23693.2:   0%|          | 2/2500 [00:00<14:21,  2.90it/s]\n"
     ]
    },
    {
     "name": "stdout",
     "output_type": "stream",
     "text": [
      "Fitting 2 states...\n"
     ]
    },
    {
     "name": "stderr",
     "output_type": "stream",
     "text": [
      "LP: -23445.6:   2%|▏         | 38/2500 [00:26<24:04,  1.70it/s] "
     ]
    }
   ],
   "source": [
    "models_glm_hmm, fit_lls_glm_hmm = global_fit(choices_session_wise, inputs_session_wise, state_range=np.arange(1, 6), masks=masks_session_wise, n_iters=2500, n_initializations=20)"
   ]
  },
  {
   "cell_type": "code",
   "execution_count": null,
   "metadata": {},
   "outputs": [],
   "source": [
    "# get best model of 20 initializations for each state\n",
    "init_params = {\"glm_weights\": {}, \"transition_matrices\": {}}\n",
    "for n_states in np.arange(1, 6):\n",
    "\tbest_idx = fit_lls_glm_hmm[n_states].index(max(fit_lls_glm_hmm[n_states]))\n",
    "\tinit_params[\"glm_weights\"][n_states] = models_glm_hmm[n_states][best_idx].observations.params\n",
    "\tinit_params[\"transition_matrices\"][n_states] = models_glm_hmm[n_states][best_idx].transitions.params"
   ]
  },
  {
   "cell_type": "code",
   "execution_count": null,
   "metadata": {},
   "outputs": [
    {
     "name": "stdout",
     "output_type": "stream",
     "text": [
      "Fitting session 0...\n",
      "Fitting 1 states...\n"
     ]
    },
    {
     "name": "stderr",
     "output_type": "stream",
     "text": [
      "Converged to LP: -419.8:   0%|          | 2/1000 [00:00<01:05, 15.30it/s]\n",
      "Converged to LP: -422.4:   0%|          | 2/1000 [00:00<00:15, 64.04it/s]\n",
      "Converged to LP: -429.8:   0%|          | 2/1000 [00:00<00:47, 21.04it/s]\n",
      "Converged to LP: -427.7:   0%|          | 2/1000 [00:00<00:16, 60.85it/s]\n",
      "Converged to LP: -436.5:   0%|          | 2/1000 [00:00<00:12, 77.78it/s]\n",
      "LP: -452.6:   0%|          | 0/1000 [00:00<?, ?it/s]"
     ]
    },
    {
     "name": "stdout",
     "output_type": "stream",
     "text": [
      "Fitting 2 states...\n"
     ]
    },
    {
     "name": "stderr",
     "output_type": "stream",
     "text": [
      "Converged to LP: -448.8:   1%|          | 7/1000 [00:00<00:17, 57.54it/s]\n",
      "Converged to LP: -445.5:   1%|          | 7/1000 [00:00<00:15, 65.81it/s]\n",
      "Converged to LP: -451.6:   2%|▏         | 18/1000 [00:00<00:13, 75.39it/s]\n",
      "Converged to LP: -452.7:   1%|          | 7/1000 [00:00<00:12, 77.62it/s]\n",
      "Converged to LP: -462.8:   1%|▏         | 14/1000 [00:00<00:09, 108.78it/s]\n"
     ]
    },
    {
     "name": "stdout",
     "output_type": "stream",
     "text": [
      "Fitting 3 states...\n"
     ]
    },
    {
     "name": "stderr",
     "output_type": "stream",
     "text": [
      "Converged to LP: -502.0:   3%|▎         | 30/1000 [00:00<00:10, 90.00it/s]\n",
      "Converged to LP: -492.3:   9%|▊         | 86/1000 [00:00<00:07, 116.50it/s]\n",
      "Converged to LP: -499.5:   8%|▊         | 79/1000 [00:00<00:08, 105.60it/s]\n",
      "Converged to LP: -512.1:   8%|▊         | 85/1000 [00:00<00:08, 104.36it/s]\n",
      "Converged to LP: -499.3:  22%|██▏       | 223/1000 [00:01<00:05, 138.06it/s]\n"
     ]
    },
    {
     "name": "stdout",
     "output_type": "stream",
     "text": [
      "Fitting 4 states...\n"
     ]
    },
    {
     "name": "stderr",
     "output_type": "stream",
     "text": [
      "Converged to LP: -573.5:   8%|▊         | 80/1000 [00:00<00:11, 81.69it/s]\n",
      "Converged to LP: -559.9:  13%|█▎        | 130/1000 [00:01<00:10, 83.91it/s]\n",
      "Converged to LP: -528.3:  15%|█▍        | 148/1000 [00:01<00:10, 79.88it/s]\n",
      "Converged to LP: -533.2:  21%|██▏       | 214/1000 [00:02<00:08, 90.34it/s] \n",
      "LP: -554.3: 100%|██████████| 1000/1000 [00:08<00:00, 113.02it/s]\n"
     ]
    },
    {
     "name": "stdout",
     "output_type": "stream",
     "text": [
      "Fitting 5 states...\n"
     ]
    },
    {
     "name": "stderr",
     "output_type": "stream",
     "text": [
      "Converged to LP: -590.1:  18%|█▊        | 183/1000 [00:02<00:10, 74.30it/s]\n",
      "Converged to LP: -582.7:  19%|█▉        | 191/1000 [00:02<00:10, 77.10it/s]\n",
      "Converged to LP: -594.8:  40%|███▉      | 395/1000 [00:04<00:07, 81.59it/s] \n",
      "Converged to LP: -600.2:  55%|█████▌    | 551/1000 [00:06<00:05, 88.69it/s] \n",
      "Converged to LP: -610.8:  88%|████████▊ | 883/1000 [00:09<00:01, 93.62it/s] \n",
      "Converged to LP: -404.3:   0%|          | 2/1000 [00:00<00:06, 149.15it/s]\n",
      "Converged to LP: -404.3:   0%|          | 2/1000 [00:00<00:19, 52.01it/s]\n",
      "Converged to LP: -394.3:   0%|          | 2/1000 [00:00<00:17, 57.77it/s]\n",
      "Converged to LP: -412.2:   0%|          | 2/1000 [00:00<00:17, 57.79it/s]\n",
      "Converged to LP: -406.1:   0%|          | 2/1000 [00:00<00:16, 60.46it/s]\n",
      "LP: -473.7:   0%|          | 0/1000 [00:00<?, ?it/s]"
     ]
    },
    {
     "name": "stdout",
     "output_type": "stream",
     "text": [
      "Fitting session 1...\n",
      "Fitting 1 states...\n",
      "Fitting 2 states...\n"
     ]
    },
    {
     "name": "stderr",
     "output_type": "stream",
     "text": [
      "Converged to LP: -443.4:   1%|          | 9/1000 [00:00<00:10, 90.22it/s]\n",
      "Converged to LP: -444.9:   1%|          | 11/1000 [00:00<00:10, 90.02it/s]\n",
      "Converged to LP: -432.5:   1%|          | 10/1000 [00:00<00:10, 93.45it/s]\n",
      "Converged to LP: -446.7:   1%|          | 9/1000 [00:00<00:07, 129.06it/s]\n",
      "Converged to LP: -451.5:   6%|▌         | 55/1000 [00:00<00:07, 132.00it/s]\n",
      "LP: -494.4:   0%|          | 0/1000 [00:00<?, ?it/s]"
     ]
    },
    {
     "name": "stdout",
     "output_type": "stream",
     "text": [
      "Fitting 3 states...\n"
     ]
    },
    {
     "name": "stderr",
     "output_type": "stream",
     "text": [
      "Converged to LP: -484.3:   7%|▋         | 66/1000 [00:00<00:12, 72.12it/s]\n",
      "Converged to LP: -496.0:  12%|█▏        | 122/1000 [00:01<00:09, 88.32it/s] \n",
      "Converged to LP: -469.6:  14%|█▍        | 141/1000 [00:01<00:08, 97.91it/s] \n",
      "Converged to LP: -488.2:  16%|█▌        | 155/1000 [00:01<00:08, 104.27it/s]\n",
      "Converged to LP: -491.8:  22%|██▏       | 224/1000 [00:02<00:07, 107.40it/s]\n",
      "LP: -565.8:   0%|          | 0/1000 [00:00<?, ?it/s]"
     ]
    },
    {
     "name": "stdout",
     "output_type": "stream",
     "text": [
      "Fitting 4 states...\n"
     ]
    },
    {
     "name": "stderr",
     "output_type": "stream",
     "text": [
      "Converged to LP: -542.5:   8%|▊         | 85/1000 [00:01<00:11, 82.66it/s]\n",
      "Converged to LP: -533.9:  16%|█▋        | 165/1000 [00:01<00:09, 87.07it/s] \n",
      "Converged to LP: -516.4:  16%|█▌        | 156/1000 [00:01<00:10, 82.31it/s]\n",
      "Converged to LP: -531.3:  17%|█▋        | 169/1000 [00:02<00:09, 83.15it/s]\n",
      "Converged to LP: -534.6:  19%|█▉        | 194/1000 [00:02<00:09, 89.11it/s] \n"
     ]
    },
    {
     "name": "stdout",
     "output_type": "stream",
     "text": [
      "Fitting 5 states...\n"
     ]
    },
    {
     "name": "stderr",
     "output_type": "stream",
     "text": [
      "Converged to LP: -586.6:  25%|██▌       | 254/1000 [00:03<00:09, 74.95it/s]\n",
      "Converged to LP: -561.0:  34%|███▍      | 338/1000 [00:04<00:08, 74.67it/s]\n",
      "Converged to LP: -572.3:  33%|███▎      | 331/1000 [00:04<00:09, 71.37it/s]\n",
      "Converged to LP: -585.5:  41%|████      | 411/1000 [00:05<00:07, 79.32it/s]\n",
      "Converged to LP: -568.1:  60%|█████▉    | 597/1000 [00:07<00:04, 84.80it/s] \n",
      "Converged to LP: -369.7:   0%|          | 2/1000 [00:00<00:19, 50.19it/s]\n",
      "Converged to LP: -385.3:   0%|          | 2/1000 [00:00<00:19, 51.09it/s]\n",
      "LP: -380.9:   0%|          | 0/1000 [00:00<?, ?it/s]"
     ]
    },
    {
     "name": "stdout",
     "output_type": "stream",
     "text": [
      "Fitting session 2...\n",
      "Fitting 1 states...\n",
      "Fitting 2 states...\n"
     ]
    },
    {
     "name": "stderr",
     "output_type": "stream",
     "text": [
      "Converged to LP: -376.2:   0%|          | 2/1000 [00:00<00:22, 44.83it/s]\n",
      "Converged to LP: -368.1:   0%|          | 2/1000 [00:00<00:22, 44.92it/s]\n",
      "Converged to LP: -366.2:   0%|          | 2/1000 [00:00<00:17, 55.72it/s]\n",
      "Converged to LP: -412.4:   1%|          | 11/1000 [00:00<00:07, 129.28it/s]\n",
      "Converged to LP: -430.8:   1%|          | 12/1000 [00:00<00:08, 119.42it/s]\n",
      "Converged to LP: -409.1:   1%|▏         | 13/1000 [00:00<00:07, 127.33it/s]\n",
      "Converged to LP: -408.5:   2%|▏         | 15/1000 [00:00<00:08, 110.17it/s]\n",
      "Converged to LP: -420.3:   2%|▏         | 24/1000 [00:00<00:06, 139.62it/s]\n",
      "LP: -473.3:   1%|          | 6/1000 [00:00<00:17, 58.38it/s]"
     ]
    },
    {
     "name": "stdout",
     "output_type": "stream",
     "text": [
      "Fitting 3 states...\n"
     ]
    },
    {
     "name": "stderr",
     "output_type": "stream",
     "text": [
      "Converged to LP: -460.2:   7%|▋         | 74/1000 [00:00<00:08, 110.86it/s]\n",
      "Converged to LP: -465.1:  11%|█         | 112/1000 [00:00<00:07, 116.77it/s]\n",
      "Converged to LP: -454.9:  14%|█▎        | 136/1000 [00:01<00:08, 96.90it/s] \n",
      "Converged to LP: -475.0:  23%|██▎       | 231/1000 [00:01<00:06, 116.00it/s]\n",
      "Converged to LP: -439.5:  29%|██▊       | 286/1000 [00:02<00:05, 124.84it/s]\n"
     ]
    },
    {
     "name": "stdout",
     "output_type": "stream",
     "text": [
      "Fitting 4 states...\n"
     ]
    },
    {
     "name": "stderr",
     "output_type": "stream",
     "text": [
      "Converged to LP: -506.6:  13%|█▎        | 133/1000 [00:01<00:09, 86.92it/s]\n",
      "Converged to LP: -509.3:  28%|██▊       | 285/1000 [00:02<00:06, 102.84it/s]\n",
      "Converged to LP: -519.1:  30%|██▉       | 298/1000 [00:02<00:06, 102.27it/s]\n",
      "Converged to LP: -518.3:  32%|███▏      | 322/1000 [00:03<00:07, 96.44it/s] \n",
      "Converged to LP: -495.2:  37%|███▋      | 366/1000 [00:03<00:06, 100.79it/s]\n",
      "LP: -571.8:   0%|          | 5/1000 [00:00<00:20, 47.75it/s]"
     ]
    },
    {
     "name": "stdout",
     "output_type": "stream",
     "text": [
      "Fitting 5 states...\n"
     ]
    },
    {
     "name": "stderr",
     "output_type": "stream",
     "text": [
      "Converged to LP: -542.8:  30%|██▉       | 299/1000 [00:03<00:08, 77.91it/s]\n",
      "Converged to LP: -550.5:  39%|███▉      | 394/1000 [00:04<00:07, 81.99it/s] \n",
      "Converged to LP: -542.8:  43%|████▎     | 433/1000 [00:05<00:06, 86.22it/s]\n",
      "Converged to LP: -550.9:  50%|█████     | 500/1000 [00:05<00:05, 88.80it/s] \n",
      "Converged to LP: -545.5:  52%|█████▏    | 518/1000 [00:05<00:05, 87.66it/s] \n",
      "Converged to LP: -382.3:   0%|          | 2/1000 [00:00<00:06, 155.70it/s]\n",
      "Converged to LP: -384.4:   0%|          | 2/1000 [00:00<00:06, 151.75it/s]\n",
      "LP: -393.1:   0%|          | 0/1000 [00:00<?, ?it/s]"
     ]
    },
    {
     "name": "stdout",
     "output_type": "stream",
     "text": [
      "Fitting session 3...\n",
      "Fitting 1 states...\n",
      "Fitting 2 states...\n"
     ]
    },
    {
     "name": "stderr",
     "output_type": "stream",
     "text": [
      "Converged to LP: -386.2:   0%|          | 2/1000 [00:00<00:19, 51.13it/s]\n",
      "Converged to LP: -374.1:   0%|          | 2/1000 [00:00<00:19, 50.46it/s]\n",
      "Converged to LP: -385.7:   0%|          | 2/1000 [00:00<00:18, 54.05it/s]\n",
      "Converged to LP: -432.3:   1%|          | 10/1000 [00:00<00:07, 130.85it/s]\n",
      "Converged to LP: -435.0:   1%|          | 10/1000 [00:00<00:08, 121.05it/s]\n",
      "Converged to LP: -418.9:   1%|          | 10/1000 [00:00<00:07, 128.37it/s]\n",
      "Converged to LP: -426.5:   1%|          | 12/1000 [00:00<00:09, 102.31it/s]\n",
      "Converged to LP: -433.6:   1%|          | 9/1000 [00:00<00:08, 117.72it/s]\n",
      "LP: -493.6:   0%|          | 0/1000 [00:00<?, ?it/s]"
     ]
    },
    {
     "name": "stdout",
     "output_type": "stream",
     "text": [
      "Fitting 3 states...\n"
     ]
    },
    {
     "name": "stderr",
     "output_type": "stream",
     "text": [
      "Converged to LP: -471.9:   7%|▋         | 72/1000 [00:00<00:08, 106.81it/s]\n",
      "Converged to LP: -474.6:  10%|▉         | 98/1000 [00:00<00:08, 106.02it/s]\n",
      "Converged to LP: -459.1:  16%|█▋        | 164/1000 [00:01<00:06, 126.19it/s]\n",
      "Converged to LP: -465.3:  22%|██▏       | 221/1000 [00:01<00:05, 131.29it/s]\n",
      "Converged to LP: -474.4:  26%|██▌       | 256/1000 [00:01<00:05, 142.97it/s]\n",
      "LP: -547.6:   0%|          | 0/1000 [00:00<?, ?it/s]"
     ]
    },
    {
     "name": "stdout",
     "output_type": "stream",
     "text": [
      "Fitting 4 states...\n"
     ]
    },
    {
     "name": "stderr",
     "output_type": "stream",
     "text": [
      "Converged to LP: -517.9:  14%|█▍        | 139/1000 [00:01<00:09, 93.08it/s] \n",
      "Converged to LP: -497.6:  15%|█▍        | 149/1000 [00:01<00:08, 97.38it/s] \n",
      "Converged to LP: -512.4:  18%|█▊        | 179/1000 [00:01<00:08, 101.41it/s]\n",
      "Converged to LP: -509.8:  20%|██        | 205/1000 [00:02<00:08, 99.36it/s] \n",
      "Converged to LP: -508.5:  26%|██▌       | 260/1000 [00:02<00:06, 107.33it/s]\n"
     ]
    },
    {
     "name": "stdout",
     "output_type": "stream",
     "text": [
      "Fitting 5 states...\n"
     ]
    },
    {
     "name": "stderr",
     "output_type": "stream",
     "text": [
      "Converged to LP: -557.7:  22%|██▏       | 218/1000 [00:02<00:09, 78.23it/s]\n",
      "Converged to LP: -549.5:  24%|██▍       | 239/1000 [00:02<00:08, 85.78it/s] \n",
      "Converged to LP: -561.8:  40%|███▉      | 398/1000 [00:04<00:06, 88.54it/s]\n",
      "Converged to LP: -556.0:  60%|██████    | 602/1000 [00:06<00:04, 89.29it/s]\n",
      "LP: -558.0: 100%|██████████| 1000/1000 [00:10<00:00, 94.27it/s] \n",
      "LP: -445.9:   0%|          | 0/1000 [00:00<?, ?it/s]"
     ]
    },
    {
     "name": "stdout",
     "output_type": "stream",
     "text": [
      "Fitting session 4...\n",
      "Fitting 1 states...\n",
      "Fitting 2 states...\n"
     ]
    },
    {
     "name": "stderr",
     "output_type": "stream",
     "text": [
      "Converged to LP: -429.2:   0%|          | 2/1000 [00:00<00:07, 133.65it/s]\n",
      "Converged to LP: -437.8:   0%|          | 2/1000 [00:00<00:09, 106.09it/s]\n",
      "Converged to LP: -433.6:   0%|          | 2/1000 [00:00<00:08, 117.52it/s]\n",
      "Converged to LP: -440.0:   0%|          | 2/1000 [00:00<00:06, 143.09it/s]\n",
      "Converged to LP: -449.5:   0%|          | 2/1000 [00:00<00:15, 63.68it/s]\n",
      "Converged to LP: -478.8:   2%|▏         | 16/1000 [00:00<00:07, 126.42it/s]\n",
      "\n",
      "Converged to LP: -474.3:   2%|▎         | 25/1000 [00:00<00:08, 114.27it/s]\n",
      "Converged to LP: -485.3:   2%|▏         | 23/1000 [00:00<00:07, 129.45it/s]\n",
      "Converged to LP: -483.8:   3%|▎         | 27/1000 [00:00<00:08, 120.04it/s]\n",
      "  0%|          | 0/1000 [00:00<?, ?it/s]00<?, ?it/s]"
     ]
    },
    {
     "name": "stdout",
     "output_type": "stream",
     "text": [
      "Fitting 3 states...\n"
     ]
    },
    {
     "name": "stderr",
     "output_type": "stream",
     "text": [
      "Converged to LP: -529.3:   6%|▌         | 59/1000 [00:00<00:08, 106.28it/s]\n",
      "Converged to LP: -518.2:   8%|▊         | 81/1000 [00:00<00:08, 108.54it/s]\n",
      "Converged to LP: -529.5:   7%|▋         | 72/1000 [00:00<00:09, 101.12it/s]\n",
      "Converged to LP: -524.3:  10%|█         | 105/1000 [00:00<00:07, 115.48it/s]\n",
      "Converged to LP: -531.2:  15%|█▍        | 146/1000 [00:01<00:07, 115.88it/s]\n",
      "LP: -583.3:   1%|          | 7/1000 [00:00<00:15, 62.76it/s]"
     ]
    },
    {
     "name": "stdout",
     "output_type": "stream",
     "text": [
      "Fitting 4 states...\n"
     ]
    },
    {
     "name": "stderr",
     "output_type": "stream",
     "text": [
      "Converged to LP: -577.8:  13%|█▎        | 128/1000 [00:01<00:10, 82.13it/s]\n",
      "Converged to LP: -571.1:  23%|██▎       | 228/1000 [00:02<00:07, 97.24it/s] \n",
      "Converged to LP: -568.5:  22%|██▏       | 220/1000 [00:02<00:08, 90.36it/s] \n",
      "Converged to LP: -564.7:  22%|██▏       | 224/1000 [00:02<00:09, 85.38it/s] \n",
      "Converged to LP: -567.7:  46%|████▋     | 465/1000 [00:04<00:04, 107.42it/s]\n",
      "LP: -655.3:   0%|          | 0/1000 [00:00<?, ?it/s]"
     ]
    },
    {
     "name": "stdout",
     "output_type": "stream",
     "text": [
      "Fitting 5 states...\n"
     ]
    },
    {
     "name": "stderr",
     "output_type": "stream",
     "text": [
      "Converged to LP: -608.0:  44%|████▍     | 440/1000 [00:05<00:07, 77.98it/s]\n",
      "Converged to LP: -614.4:  55%|█████▌    | 550/1000 [00:06<00:05, 79.03it/s]\n",
      "Converged to LP: -612.5:  57%|█████▋    | 568/1000 [00:07<00:05, 77.57it/s]\n",
      "Converged to LP: -615.5:  57%|█████▋    | 573/1000 [00:07<00:05, 78.00it/s]\n",
      "Converged to LP: -601.6:  64%|██████▍   | 644/1000 [00:07<00:04, 84.06it/s] \n",
      "Converged to LP: -384.3:   0%|          | 2/1000 [00:00<00:06, 143.53it/s]\n",
      "Converged to LP: -374.4:   0%|          | 2/1000 [00:00<00:06, 153.05it/s]\n",
      "Converged to LP: -381.2:   0%|          | 2/1000 [00:00<00:06, 164.38it/s]\n",
      "Converged to LP: -381.9:   0%|          | 2/1000 [00:00<00:06, 152.51it/s]\n",
      "Converged to LP: -388.4:   0%|          | 2/1000 [00:00<00:06, 163.30it/s]\n",
      "LP: -435.2:   0%|          | 0/1000 [00:00<?, ?it/s]"
     ]
    },
    {
     "name": "stdout",
     "output_type": "stream",
     "text": [
      "Fitting session 5...\n",
      "Fitting 1 states...\n",
      "Fitting 2 states...\n"
     ]
    },
    {
     "name": "stderr",
     "output_type": "stream",
     "text": [
      "Converged to LP: -428.4:   1%|          | 9/1000 [00:00<00:09, 108.15it/s]\n",
      "Converged to LP: -432.6:   2%|▏         | 16/1000 [00:00<00:09, 107.37it/s]\n",
      "Converged to LP: -430.2:   2%|▏         | 15/1000 [00:00<00:08, 113.70it/s]\n",
      "Converged to LP: -419.6:   2%|▏         | 17/1000 [00:00<00:08, 116.83it/s]\n",
      "Converged to LP: -434.4:   3%|▎         | 26/1000 [00:00<00:07, 137.51it/s]\n"
     ]
    },
    {
     "name": "stdout",
     "output_type": "stream",
     "text": [
      "Fitting 3 states...\n"
     ]
    },
    {
     "name": "stderr",
     "output_type": "stream",
     "text": [
      "Converged to LP: -475.1:   7%|▋         | 74/1000 [00:00<00:09, 100.51it/s]\n",
      "Converged to LP: -478.6:   7%|▋         | 74/1000 [00:00<00:09, 92.62it/s] \n",
      "Converged to LP: -453.5:   8%|▊         | 82/1000 [00:00<00:09, 97.57it/s] \n",
      "Converged to LP: -471.5:  10%|█         | 103/1000 [00:00<00:08, 107.54it/s]\n",
      "Converged to LP: -466.8:  17%|█▋        | 170/1000 [00:01<00:06, 122.62it/s]\n",
      "LP: -533.5:   1%|          | 6/1000 [00:00<00:16, 58.52it/s]"
     ]
    },
    {
     "name": "stdout",
     "output_type": "stream",
     "text": [
      "Fitting 4 states...\n"
     ]
    },
    {
     "name": "stderr",
     "output_type": "stream",
     "text": [
      "Converged to LP: -531.5:  13%|█▎        | 129/1000 [00:01<00:09, 87.16it/s]\n",
      "Converged to LP: -517.3:  15%|█▌        | 154/1000 [00:01<00:08, 95.33it/s]\n",
      "Converged to LP: -518.1:  21%|██        | 209/1000 [00:02<00:08, 95.16it/s] \n",
      "Converged to LP: -521.7:  36%|███▌      | 359/1000 [00:03<00:05, 109.62it/s]\n",
      "Converged to LP: -518.4:  46%|████▌     | 462/1000 [00:04<00:04, 112.09it/s]\n",
      "LP: -616.7:   0%|          | 0/1000 [00:00<?, ?it/s]"
     ]
    },
    {
     "name": "stdout",
     "output_type": "stream",
     "text": [
      "Fitting 5 states...\n"
     ]
    },
    {
     "name": "stderr",
     "output_type": "stream",
     "text": [
      "Converged to LP: -552.4:  27%|██▋       | 270/1000 [00:03<00:09, 80.04it/s]\n",
      "Converged to LP: -563.6:  46%|████▌     | 459/1000 [00:05<00:06, 83.28it/s] \n",
      "Converged to LP: -559.9:  46%|████▌     | 461/1000 [00:05<00:06, 80.78it/s]\n",
      "Converged to LP: -560.5:  59%|█████▉    | 590/1000 [00:06<00:04, 85.54it/s] \n",
      "Converged to LP: -578.3:  79%|███████▉  | 794/1000 [00:08<00:02, 90.47it/s] \n"
     ]
    },
    {
     "name": "stdout",
     "output_type": "stream",
     "text": [
      "Fitting session 6...\n",
      "Fitting 1 states...\n",
      "Fitting 2 states...\n"
     ]
    },
    {
     "name": "stderr",
     "output_type": "stream",
     "text": [
      "Converged to LP: -457.2:   0%|          | 2/1000 [00:00<00:08, 118.05it/s]\n",
      "Converged to LP: -464.6:   0%|          | 2/1000 [00:00<00:07, 126.81it/s]\n",
      "Converged to LP: -447.2:   0%|          | 2/1000 [00:00<00:07, 126.11it/s]\n",
      "Converged to LP: -471.3:   0%|          | 2/1000 [00:00<00:07, 139.48it/s]\n",
      "Converged to LP: -478.5:   0%|          | 2/1000 [00:00<00:06, 149.36it/s]\n",
      "Converged to LP: -495.1:   1%|          | 11/1000 [00:00<00:09, 109.33it/s]\n",
      "Converged to LP: -529.1:   1%|▏         | 14/1000 [00:00<00:09, 105.39it/s]\n",
      "Converged to LP: -513.4:   2%|▏         | 17/1000 [00:00<00:10, 91.31it/s]\n",
      "Converged to LP: -520.5:   2%|▏         | 17/1000 [00:00<00:10, 91.08it/s]\n",
      "Converged to LP: -503.3:   5%|▌         | 50/1000 [00:00<00:07, 128.02it/s]\n",
      "LP: -577.0:   0%|          | 0/1000 [00:00<?, ?it/s].81it/s]"
     ]
    },
    {
     "name": "stdout",
     "output_type": "stream",
     "text": [
      "Fitting 3 states...\n"
     ]
    },
    {
     "name": "stderr",
     "output_type": "stream",
     "text": [
      "Converged to LP: -579.6:   8%|▊         | 77/1000 [00:00<00:08, 104.34it/s]\n",
      "Converged to LP: -553.3:  14%|█▍        | 145/1000 [00:01<00:08, 103.70it/s]\n",
      "Converged to LP: -566.9:  16%|█▋        | 164/1000 [00:01<00:08, 97.61it/s] \n",
      "Converged to LP: -564.8:  17%|█▋        | 172/1000 [00:01<00:08, 97.00it/s] \n",
      "Converged to LP: -547.2:  38%|███▊      | 382/1000 [00:03<00:05, 120.22it/s]\n",
      "LP: -633.0:   0%|          | 0/1000 [00:00<?, ?it/s].94it/s]"
     ]
    },
    {
     "name": "stdout",
     "output_type": "stream",
     "text": [
      "Fitting 4 states...\n"
     ]
    },
    {
     "name": "stderr",
     "output_type": "stream",
     "text": [
      "Converged to LP: -597.8:  12%|█▎        | 125/1000 [00:01<00:11, 75.26it/s]\n",
      "Converged to LP: -620.6:  14%|█▎        | 137/1000 [00:01<00:10, 83.40it/s]\n",
      "Converged to LP: -602.6:  22%|██▏       | 222/1000 [00:02<00:09, 79.83it/s]\n",
      "Converged to LP: -592.2:  26%|██▌       | 257/1000 [00:03<00:09, 81.82it/s] \n",
      "Converged to LP: -608.5:  31%|███▏      | 313/1000 [00:03<00:07, 90.13it/s] \n",
      "LP: -711.3:   0%|          | 0/1000 [00:00<?, ?it/s]"
     ]
    },
    {
     "name": "stdout",
     "output_type": "stream",
     "text": [
      "Fitting 5 states...\n"
     ]
    },
    {
     "name": "stderr",
     "output_type": "stream",
     "text": [
      "Converged to LP: -647.7:  36%|███▌      | 355/1000 [00:04<00:08, 72.47it/s]\n",
      "Converged to LP: -654.9:  43%|████▎     | 433/1000 [00:06<00:07, 70.92it/s]\n",
      "Converged to LP: -662.9:  45%|████▌     | 452/1000 [00:06<00:07, 71.81it/s]\n",
      "Converged to LP: -653.6:  81%|████████  | 809/1000 [00:10<00:02, 79.74it/s]\n",
      "LP: -629.4: 100%|██████████| 1000/1000 [00:12<00:00, 82.96it/s]\n",
      "Converged to LP: -384.4:   0%|          | 2/1000 [00:00<00:06, 148.19it/s]\n",
      "  0%|          | 0/1000 [00:00<?, ?it/s]"
     ]
    },
    {
     "name": "stdout",
     "output_type": "stream",
     "text": [
      "Fitting session 7...\n",
      "Fitting 1 states...\n",
      "Fitting 2 states...\n"
     ]
    },
    {
     "name": "stderr",
     "output_type": "stream",
     "text": [
      "Converged to LP: -387.4:   0%|          | 2/1000 [00:00<00:09, 100.72it/s]\n",
      "Converged to LP: -391.1:   0%|          | 2/1000 [00:00<00:20, 48.30it/s]\n",
      "Converged to LP: -398.3:   0%|          | 2/1000 [00:00<00:08, 115.84it/s]\n",
      "Converged to LP: -395.2:   0%|          | 2/1000 [00:00<00:06, 158.49it/s]\n",
      "Converged to LP: -440.6:   2%|▏         | 17/1000 [00:00<00:09, 106.51it/s]\n",
      "Converged to LP: -449.6:   2%|▏         | 20/1000 [00:00<00:07, 126.16it/s]\n",
      "Converged to LP: -435.2:   3%|▎         | 32/1000 [00:00<00:07, 129.31it/s]\n",
      "Converged to LP: -442.4:   4%|▍         | 43/1000 [00:00<00:07, 133.56it/s]\n",
      "Converged to LP: -430.8:  24%|██▎       | 236/1000 [00:01<00:04, 155.34it/s]\n",
      "LP: -497.3:   0%|          | 0/1000 [00:00<?, ?it/s]"
     ]
    },
    {
     "name": "stdout",
     "output_type": "stream",
     "text": [
      "Fitting 3 states...\n"
     ]
    },
    {
     "name": "stderr",
     "output_type": "stream",
     "text": [
      "Converged to LP: -483.2:   6%|▌         | 57/1000 [00:00<00:08, 104.92it/s]\n",
      "Converged to LP: -471.0:   7%|▋         | 67/1000 [00:00<00:10, 92.89it/s]\n",
      "Converged to LP: -487.4:  15%|█▍        | 146/1000 [00:01<00:06, 130.64it/s]\n",
      "Converged to LP: -473.9:  18%|█▊        | 178/1000 [00:01<00:06, 121.97it/s]\n",
      "Converged to LP: -474.2:  24%|██▍       | 242/1000 [00:01<00:05, 127.74it/s]\n",
      "LP: -547.5:   0%|          | 0/1000 [00:00<?, ?it/s]"
     ]
    },
    {
     "name": "stdout",
     "output_type": "stream",
     "text": [
      "Fitting 4 states...\n"
     ]
    },
    {
     "name": "stderr",
     "output_type": "stream",
     "text": [
      "Converged to LP: -516.3:  13%|█▎        | 130/1000 [00:01<00:09, 87.15it/s] \n",
      "Converged to LP: -510.5:  20%|█▉        | 197/1000 [00:02<00:09, 83.51it/s]\n",
      "Converged to LP: -529.8:  21%|██▏       | 213/1000 [00:02<00:08, 87.85it/s] \n",
      "Converged to LP: -531.3:  29%|██▉       | 288/1000 [00:02<00:07, 96.30it/s] \n",
      "Converged to LP: -509.3:  34%|███▍      | 341/1000 [00:03<00:07, 92.72it/s] \n",
      "LP: -615.7:   0%|          | 0/1000 [00:00<?, ?it/s]"
     ]
    },
    {
     "name": "stdout",
     "output_type": "stream",
     "text": [
      "Fitting 5 states...\n"
     ]
    },
    {
     "name": "stderr",
     "output_type": "stream",
     "text": [
      "Converged to LP: -554.9:  29%|██▉       | 293/1000 [00:04<00:09, 71.48it/s]\n",
      "Converged to LP: -565.5:  31%|███       | 307/1000 [00:04<00:09, 73.34it/s]\n",
      "Converged to LP: -575.1:  41%|████      | 410/1000 [00:05<00:07, 78.08it/s]\n",
      "Converged to LP: -562.6:  63%|██████▎   | 633/1000 [00:07<00:04, 84.37it/s] \n",
      "Converged to LP: -562.8:  70%|███████   | 702/1000 [00:08<00:03, 83.71it/s] \n",
      "Converged to LP: -397.7:   0%|          | 2/1000 [00:00<00:06, 151.65it/s]\n",
      "LP: -418.6:   0%|          | 0/1000 [00:00<?, ?it/s]"
     ]
    },
    {
     "name": "stdout",
     "output_type": "stream",
     "text": [
      "Fitting session 8...\n",
      "Fitting 1 states...\n",
      "Fitting 2 states...\n"
     ]
    },
    {
     "name": "stderr",
     "output_type": "stream",
     "text": [
      "Converged to LP: -387.3:   0%|          | 2/1000 [00:00<00:08, 114.31it/s]\n",
      "Converged to LP: -386.1:   0%|          | 2/1000 [00:00<00:09, 100.57it/s]\n",
      "Converged to LP: -390.6:   0%|          | 2/1000 [00:00<00:06, 143.44it/s]\n",
      "Converged to LP: -385.4:   0%|          | 2/1000 [00:00<00:06, 151.52it/s]\n",
      "Converged to LP: -416.2:   0%|          | 5/1000 [00:00<00:09, 109.84it/s]\n",
      "Converged to LP: -411.4:   0%|          | 5/1000 [00:00<00:11, 86.83it/s]\n",
      "Converged to LP: -414.1:   1%|          | 12/1000 [00:00<00:07, 127.50it/s]\n",
      "Converged to LP: -413.1:   1%|          | 8/1000 [00:00<00:10, 93.24it/s]\n",
      "Converged to LP: -426.8:   3%|▎         | 28/1000 [00:00<00:07, 135.59it/s]\n",
      "LP: -467.9:   0%|          | 0/1000 [00:00<?, ?it/s].44it/s]"
     ]
    },
    {
     "name": "stdout",
     "output_type": "stream",
     "text": [
      "Fitting 3 states...\n"
     ]
    },
    {
     "name": "stderr",
     "output_type": "stream",
     "text": [
      "Converged to LP: -473.1:   5%|▌         | 53/1000 [00:00<00:09, 98.88it/s] \n",
      "Converged to LP: -465.9:   8%|▊         | 75/1000 [00:00<00:08, 110.38it/s]\n",
      "Converged to LP: -458.7:   7%|▋         | 74/1000 [00:00<00:09, 98.82it/s] \n",
      "Converged to LP: -457.7:  12%|█▏        | 117/1000 [00:01<00:07, 110.39it/s]\n",
      "Converged to LP: -458.5:  16%|█▌        | 160/1000 [00:01<00:06, 121.31it/s]\n",
      "LP: -526.5:   1%|          | 6/1000 [00:00<00:17, 55.86it/s]"
     ]
    },
    {
     "name": "stdout",
     "output_type": "stream",
     "text": [
      "Fitting 4 states...\n"
     ]
    },
    {
     "name": "stderr",
     "output_type": "stream",
     "text": [
      "Converged to LP: -507.2:  15%|█▌        | 153/1000 [00:01<00:09, 89.85it/s] \n",
      "Converged to LP: -501.7:  15%|█▍        | 149/1000 [00:01<00:09, 85.26it/s] \n",
      "Converged to LP: -496.6:  20%|██        | 202/1000 [00:02<00:08, 94.32it/s] \n",
      "Converged to LP: -509.8:  21%|██        | 211/1000 [00:02<00:08, 93.84it/s] \n",
      "Converged to LP: -492.5:  20%|██        | 204/1000 [00:02<00:09, 85.54it/s] \n",
      "LP: -570.7:   0%|          | 5/1000 [00:00<00:22, 43.92it/s]"
     ]
    },
    {
     "name": "stdout",
     "output_type": "stream",
     "text": [
      "Fitting 5 states...\n"
     ]
    },
    {
     "name": "stderr",
     "output_type": "stream",
     "text": [
      "Converged to LP: -554.0:  28%|██▊       | 277/1000 [00:03<00:09, 74.98it/s]\n",
      "Converged to LP: -554.9:  40%|████      | 404/1000 [00:04<00:07, 84.62it/s] \n",
      "Converged to LP: -560.6:  41%|████▏     | 413/1000 [00:05<00:07, 82.49it/s]\n",
      "Converged to LP: -558.7:  53%|█████▎    | 533/1000 [00:06<00:05, 87.02it/s] \n",
      "Converged to LP: -547.0:  67%|██████▋   | 669/1000 [00:07<00:03, 91.09it/s] \n",
      "Converged to LP: -476.3:   0%|          | 2/1000 [00:00<00:06, 148.38it/s]\n",
      "Converged to LP: -472.0:   0%|          | 2/1000 [00:00<00:06, 154.60it/s]\n",
      "Converged to LP: -465.2:   0%|          | 2/1000 [00:00<00:06, 146.25it/s]\n",
      "Converged to LP: -463.5:   0%|          | 2/1000 [00:00<00:06, 149.26it/s]\n",
      "Converged to LP: -468.6:   0%|          | 2/1000 [00:00<00:06, 159.33it/s]\n",
      "LP: -515.2:   0%|          | 0/1000 [00:00<?, ?it/s]"
     ]
    },
    {
     "name": "stdout",
     "output_type": "stream",
     "text": [
      "Fitting session 9...\n",
      "Fitting 1 states...\n",
      "Fitting 2 states...\n"
     ]
    },
    {
     "name": "stderr",
     "output_type": "stream",
     "text": [
      "Converged to LP: -528.3:   1%|          | 11/1000 [00:00<00:08, 113.56it/s]\n",
      "Converged to LP: -514.8:   1%|          | 11/1000 [00:00<00:10, 95.16it/s] \n",
      "Converged to LP: -514.3:   1%|▏         | 13/1000 [00:00<00:10, 92.07it/s]\n",
      "Converged to LP: -517.3:   1%|▏         | 14/1000 [00:00<00:09, 101.04it/s]\n",
      "Converged to LP: -522.1:  10%|▉         | 97/1000 [00:00<00:06, 147.86it/s]\n",
      "LP: -559.7:   1%|          | 7/1000 [00:00<00:16, 61.75it/s]"
     ]
    },
    {
     "name": "stdout",
     "output_type": "stream",
     "text": [
      "Fitting 3 states...\n"
     ]
    },
    {
     "name": "stderr",
     "output_type": "stream",
     "text": [
      "Converged to LP: -556.6:   7%|▋         | 73/1000 [00:00<00:09, 101.69it/s]\n",
      "Converged to LP: -553.9:   7%|▋         | 74/1000 [00:00<00:09, 97.12it/s] \n",
      "Converged to LP: -561.3:   8%|▊         | 79/1000 [00:00<00:09, 97.74it/s] \n",
      "Converged to LP: -568.4:  12%|█▏        | 119/1000 [00:01<00:07, 112.15it/s]\n",
      "Converged to LP: -561.9:  12%|█▎        | 125/1000 [00:01<00:07, 111.95it/s]\n",
      "LP: -642.4:   0%|          | 0/1000 [00:00<?, ?it/s]"
     ]
    },
    {
     "name": "stdout",
     "output_type": "stream",
     "text": [
      "Fitting 4 states...\n"
     ]
    },
    {
     "name": "stderr",
     "output_type": "stream",
     "text": [
      "Converged to LP: -606.5:  22%|██▏       | 215/1000 [00:02<00:09, 82.13it/s]\n",
      "Converged to LP: -617.7:  27%|██▋       | 271/1000 [00:02<00:07, 95.47it/s] \n",
      "Converged to LP: -615.8:  37%|███▋      | 369/1000 [00:03<00:06, 97.13it/s] \n",
      "Converged to LP: -611.1:  53%|█████▎    | 533/1000 [00:05<00:04, 100.43it/s]\n",
      "Converged to LP: -605.6:  60%|█████▉    | 598/1000 [00:05<00:03, 104.88it/s]\n"
     ]
    },
    {
     "name": "stdout",
     "output_type": "stream",
     "text": [
      "Fitting 5 states...\n"
     ]
    },
    {
     "name": "stderr",
     "output_type": "stream",
     "text": [
      "Converged to LP: -649.9:  38%|███▊      | 382/1000 [00:05<00:08, 75.61it/s]\n",
      "Converged to LP: -649.7:  62%|██████▏   | 616/1000 [00:07<00:04, 81.71it/s]\n",
      "Converged to LP: -653.9:  65%|██████▍   | 648/1000 [00:08<00:04, 79.80it/s]\n",
      "Converged to LP: -638.9:  75%|███████▌  | 751/1000 [00:09<00:03, 81.87it/s] \n",
      "Converged to LP: -659.0:  82%|████████▏ | 817/1000 [00:09<00:02, 82.68it/s] \n",
      "Converged to LP: -402.0:   0%|          | 2/1000 [00:00<00:05, 166.34it/s]\n",
      "Converged to LP: -406.0:   0%|          | 2/1000 [00:00<00:06, 164.45it/s]\n",
      "Converged to LP: -408.3:   0%|          | 2/1000 [00:00<00:06, 159.89it/s]\n",
      "Converged to LP: -396.6:   0%|          | 2/1000 [00:00<00:06, 162.74it/s]\n",
      "LP: -417.6:   0%|          | 0/1000 [00:00<?, ?it/s]"
     ]
    },
    {
     "name": "stdout",
     "output_type": "stream",
     "text": [
      "Fitting session 10...\n",
      "Fitting 1 states...\n",
      "Fitting 2 states...\n"
     ]
    },
    {
     "name": "stderr",
     "output_type": "stream",
     "text": [
      "Converged to LP: -417.6:   0%|          | 2/1000 [00:00<00:06, 161.45it/s]\n",
      "Converged to LP: -449.8:   1%|          | 7/1000 [00:00<00:08, 122.56it/s]\n",
      "Converged to LP: -445.3:   1%|          | 11/1000 [00:00<00:07, 138.39it/s]\n",
      "Converged to LP: -454.3:   2%|▏         | 18/1000 [00:00<00:06, 153.63it/s]\n",
      "Converged to LP: -462.5:   1%|          | 12/1000 [00:00<00:07, 125.06it/s]\n",
      "Converged to LP: -456.8:   2%|▏         | 20/1000 [00:00<00:06, 160.73it/s]\n",
      "LP: -510.5:   0%|          | 0/1000 [00:00<?, ?it/s]"
     ]
    },
    {
     "name": "stdout",
     "output_type": "stream",
     "text": [
      "Fitting 3 states...\n"
     ]
    },
    {
     "name": "stderr",
     "output_type": "stream",
     "text": [
      "Converged to LP: -504.8:   6%|▋         | 64/1000 [00:00<00:09, 100.38it/s]\n",
      "Converged to LP: -491.1:   8%|▊         | 77/1000 [00:00<00:08, 103.48it/s]\n",
      "Converged to LP: -491.8:  11%|█         | 110/1000 [00:00<00:07, 111.79it/s]\n",
      "Converged to LP: -498.1:  11%|█▏        | 113/1000 [00:01<00:08, 108.37it/s]\n",
      "Converged to LP: -500.7:  13%|█▎        | 134/1000 [00:01<00:07, 121.13it/s]\n",
      "LP: -555.7:   1%|          | 7/1000 [00:00<00:14, 66.86it/s]"
     ]
    },
    {
     "name": "stdout",
     "output_type": "stream",
     "text": [
      "Fitting 4 states...\n"
     ]
    },
    {
     "name": "stderr",
     "output_type": "stream",
     "text": [
      "Converged to LP: -535.6:  17%|█▋        | 171/1000 [00:01<00:09, 86.03it/s]\n",
      "Converged to LP: -568.1:  28%|██▊       | 277/1000 [00:02<00:07, 95.38it/s] \n",
      "Converged to LP: -547.1:  31%|███       | 311/1000 [00:03<00:07, 95.64it/s] \n",
      "Converged to LP: -544.3:  39%|███▉      | 392/1000 [00:04<00:06, 97.84it/s] \n",
      "Converged to LP: -559.6:  57%|█████▋    | 568/1000 [00:05<00:03, 112.26it/s]\n",
      "LP: -608.8:   0%|          | 0/1000 [00:00<?, ?it/s]"
     ]
    },
    {
     "name": "stdout",
     "output_type": "stream",
     "text": [
      "Fitting 5 states...\n"
     ]
    },
    {
     "name": "stderr",
     "output_type": "stream",
     "text": [
      "Converged to LP: -578.8:  11%|█▏        | 113/1000 [00:01<00:12, 73.44it/s]\n",
      "Converged to LP: -597.2:  44%|████▍     | 442/1000 [00:05<00:06, 85.42it/s]\n",
      "Converged to LP: -610.7:  50%|█████     | 500/1000 [00:06<00:06, 82.48it/s]\n",
      "Converged to LP: -582.5:  52%|█████▎    | 525/1000 [00:06<00:05, 84.03it/s]\n",
      "Converged to LP: -580.9:  65%|██████▍   | 649/1000 [00:07<00:04, 84.04it/s]\n",
      "Converged to LP: -394.9:   0%|          | 2/1000 [00:00<00:08, 117.00it/s]\n",
      "Converged to LP: -400.1:   0%|          | 2/1000 [00:00<00:09, 109.78it/s]\n",
      "Converged to LP: -408.8:   0%|          | 2/1000 [00:00<00:09, 104.34it/s]\n",
      "Converged to LP: -403.8:   0%|          | 2/1000 [00:00<00:09, 106.37it/s]\n",
      "Converged to LP: -396.6:   0%|          | 2/1000 [00:00<00:07, 133.76it/s]\n"
     ]
    },
    {
     "name": "stdout",
     "output_type": "stream",
     "text": [
      "Fitting session 11...\n",
      "Fitting 1 states...\n",
      "Fitting 2 states...\n"
     ]
    },
    {
     "name": "stderr",
     "output_type": "stream",
     "text": [
      "Converged to LP: -448.1:   2%|▏         | 15/1000 [00:00<00:11, 89.45it/s]\n",
      "Converged to LP: -449.1:   2%|▏         | 18/1000 [00:00<00:10, 98.09it/s]\n",
      "Converged to LP: -454.1:   2%|▏         | 19/1000 [00:00<00:11, 82.00it/s]\n",
      "Converged to LP: -459.2:   3%|▎         | 31/1000 [00:00<00:08, 113.83it/s]\n",
      "Converged to LP: -442.0:   4%|▍         | 45/1000 [00:00<00:08, 106.46it/s]\n",
      "LP: -498.1:   0%|          | 0/1000 [00:00<?, ?it/s]"
     ]
    },
    {
     "name": "stdout",
     "output_type": "stream",
     "text": [
      "Fitting 3 states...\n"
     ]
    },
    {
     "name": "stderr",
     "output_type": "stream",
     "text": [
      "Converged to LP: -495.6:   6%|▋         | 65/1000 [00:00<00:09, 96.09it/s] \n",
      "Converged to LP: -494.0:   8%|▊         | 75/1000 [00:00<00:09, 97.45it/s] \n",
      "Converged to LP: -484.0:  12%|█▏        | 119/1000 [00:01<00:07, 117.99it/s]\n",
      "Converged to LP: -486.7:  15%|█▌        | 150/1000 [00:01<00:07, 117.17it/s]\n",
      "Converged to LP: -486.8:  37%|███▋      | 374/1000 [00:02<00:04, 132.45it/s]\n",
      "LP: -556.8:   0%|          | 0/1000 [00:00<?, ?it/s]"
     ]
    },
    {
     "name": "stdout",
     "output_type": "stream",
     "text": [
      "Fitting 4 states...\n"
     ]
    },
    {
     "name": "stderr",
     "output_type": "stream",
     "text": [
      "Converged to LP: -540.3:  10%|█         | 101/1000 [00:01<00:10, 84.86it/s]\n",
      "Converged to LP: -527.2:  24%|██▍       | 241/1000 [00:02<00:08, 93.19it/s] \n",
      "Converged to LP: -534.0:  39%|███▉      | 388/1000 [00:04<00:06, 93.61it/s] \n",
      "Converged to LP: -538.9:  42%|████▏     | 421/1000 [00:04<00:05, 99.93it/s] \n",
      "Converged to LP: -548.8:  72%|███████▏  | 724/1000 [00:06<00:02, 108.71it/s]\n",
      "LP: -609.6:   0%|          | 0/1000 [00:00<?, ?it/s].03it/s]"
     ]
    },
    {
     "name": "stdout",
     "output_type": "stream",
     "text": [
      "Fitting 5 states...\n"
     ]
    },
    {
     "name": "stderr",
     "output_type": "stream",
     "text": [
      "Converged to LP: -596.4:  47%|████▋     | 468/1000 [00:05<00:06, 78.07it/s]\n",
      "Converged to LP: -581.1:  47%|████▋     | 467/1000 [00:06<00:07, 73.36it/s]\n",
      "Converged to LP: -566.8:  69%|██████▉   | 690/1000 [00:08<00:03, 83.67it/s]\n",
      "Converged to LP: -580.4:  68%|██████▊   | 683/1000 [00:08<00:04, 77.19it/s] \n",
      "LP: -572.2: 100%|██████████| 1000/1000 [00:11<00:00, 86.24it/s]\n",
      "Converged to LP: -411.0:   0%|          | 2/1000 [00:00<00:06, 157.79it/s]\n",
      "Converged to LP: -413.7:   0%|          | 2/1000 [00:00<00:06, 155.41it/s]\n",
      "Converged to LP: -415.0:   0%|          | 2/1000 [00:00<00:06, 159.07it/s]\n",
      "Converged to LP: -406.3:   0%|          | 2/1000 [00:00<00:06, 160.95it/s]\n",
      "Converged to LP: -408.7:   0%|          | 2/1000 [00:00<00:06, 166.16it/s]\n",
      "LP: -469.1:   0%|          | 0/1000 [00:00<?, ?it/s]"
     ]
    },
    {
     "name": "stdout",
     "output_type": "stream",
     "text": [
      "Fitting session 12...\n",
      "Fitting 1 states...\n",
      "Fitting 2 states...\n"
     ]
    },
    {
     "name": "stderr",
     "output_type": "stream",
     "text": [
      "Converged to LP: -460.9:   1%|          | 12/1000 [00:00<00:07, 128.99it/s]\n",
      "Converged to LP: -454.6:   2%|▏         | 23/1000 [00:00<00:08, 117.76it/s]\n",
      "Converged to LP: -459.6:   3%|▎         | 28/1000 [00:00<00:08, 118.15it/s]\n",
      "Converged to LP: -454.3:   3%|▎         | 32/1000 [00:00<00:08, 118.68it/s]\n",
      "Converged to LP: -436.4:  42%|████▎     | 425/1000 [00:02<00:03, 148.57it/s]\n",
      "LP: -505.7:   1%|          | 9/1000 [00:00<00:12, 82.20it/s]"
     ]
    },
    {
     "name": "stdout",
     "output_type": "stream",
     "text": [
      "Fitting 3 states...\n"
     ]
    },
    {
     "name": "stderr",
     "output_type": "stream",
     "text": [
      "Converged to LP: -501.0:   8%|▊         | 76/1000 [00:00<00:08, 102.93it/s]\n",
      "Converged to LP: -497.8:   8%|▊         | 84/1000 [00:00<00:08, 107.90it/s]\n",
      "Converged to LP: -493.1:   9%|▉         | 90/1000 [00:00<00:09, 98.90it/s] \n",
      "Converged to LP: -490.9:  27%|██▋       | 269/1000 [00:01<00:05, 136.36it/s]\n",
      "Converged to LP: -495.6:  38%|███▊      | 382/1000 [00:03<00:05, 122.93it/s]\n",
      "LP: -570.9:   0%|          | 0/1000 [00:00<?, ?it/s]"
     ]
    },
    {
     "name": "stdout",
     "output_type": "stream",
     "text": [
      "Fitting 4 states...\n"
     ]
    },
    {
     "name": "stderr",
     "output_type": "stream",
     "text": [
      "Converged to LP: -547.6:  28%|██▊       | 279/1000 [00:02<00:07, 95.42it/s] \n",
      "Converged to LP: -540.2:  34%|███▍      | 342/1000 [00:03<00:06, 103.51it/s]\n",
      "Converged to LP: -536.2:  36%|███▌      | 358/1000 [00:03<00:06, 101.49it/s]\n",
      "Converged to LP: -531.9:  36%|███▌      | 356/1000 [00:03<00:06, 94.96it/s] \n",
      "Converged to LP: -539.8:  47%|████▋     | 467/1000 [00:04<00:05, 102.82it/s]\n",
      "LP: -603.7:   0%|          | 5/1000 [00:00<00:20, 47.57it/s]"
     ]
    },
    {
     "name": "stdout",
     "output_type": "stream",
     "text": [
      "Fitting 5 states...\n"
     ]
    },
    {
     "name": "stderr",
     "output_type": "stream",
     "text": [
      "Converged to LP: -564.5:  26%|██▌       | 256/1000 [00:03<00:09, 78.95it/s]\n",
      "Converged to LP: -590.3:  29%|██▉       | 288/1000 [00:03<00:08, 82.82it/s]\n",
      "Converged to LP: -584.4:  31%|███       | 308/1000 [00:03<00:08, 83.54it/s]\n",
      "Converged to LP: -579.1:  81%|████████▏ | 813/1000 [00:08<00:02, 91.65it/s] \n",
      "LP: -587.0: 100%|██████████| 1000/1000 [00:10<00:00, 98.27it/s] \n",
      "Converged to LP: -406.5:   0%|          | 2/1000 [00:00<00:06, 154.30it/s]\n",
      "Converged to LP: -396.6:   0%|          | 2/1000 [00:00<00:06, 148.27it/s]\n",
      "Converged to LP: -403.2:   0%|          | 2/1000 [00:00<00:07, 134.09it/s]\n",
      "Converged to LP: -400.3:   0%|          | 2/1000 [00:00<00:06, 146.81it/s]\n",
      "Converged to LP: -411.8:   0%|          | 2/1000 [00:00<00:05, 168.11it/s]\n",
      "LP: -453.4:   0%|          | 0/1000 [00:00<?, ?it/s]"
     ]
    },
    {
     "name": "stdout",
     "output_type": "stream",
     "text": [
      "Fitting session 13...\n",
      "Fitting 1 states...\n",
      "Fitting 2 states...\n"
     ]
    },
    {
     "name": "stderr",
     "output_type": "stream",
     "text": [
      "Converged to LP: -453.8:   1%|          | 10/1000 [00:00<00:09, 105.29it/s]\n",
      "Converged to LP: -444.4:   1%|          | 11/1000 [00:00<00:09, 103.73it/s]\n",
      "Converged to LP: -450.1:   1%|          | 11/1000 [00:00<00:09, 99.24it/s]\n",
      "Converged to LP: -462.4:   2%|▏         | 15/1000 [00:00<00:08, 113.50it/s]\n",
      "Converged to LP: -453.4:   3%|▎         | 34/1000 [00:00<00:05, 170.85it/s]\n",
      "LP: -517.0:   0%|          | 0/1000 [00:00<?, ?it/s]"
     ]
    },
    {
     "name": "stdout",
     "output_type": "stream",
     "text": [
      "Fitting 3 states...\n"
     ]
    },
    {
     "name": "stderr",
     "output_type": "stream",
     "text": [
      "Converged to LP: -490.8:   5%|▍         | 49/1000 [00:00<00:09, 95.24it/s] \n",
      "Converged to LP: -503.6:  14%|█▍        | 139/1000 [00:01<00:07, 120.06it/s]\n",
      "Converged to LP: -492.3:  15%|█▌        | 154/1000 [00:01<00:07, 118.50it/s]\n",
      "Converged to LP: -483.5:  25%|██▌       | 254/1000 [00:02<00:06, 124.24it/s]\n",
      "Converged to LP: -483.7:  29%|██▉       | 294/1000 [00:02<00:05, 123.64it/s]\n",
      "LP: -558.7:   0%|          | 0/1000 [00:00<?, ?it/s]"
     ]
    },
    {
     "name": "stdout",
     "output_type": "stream",
     "text": [
      "Fitting 4 states...\n"
     ]
    },
    {
     "name": "stderr",
     "output_type": "stream",
     "text": [
      "Converged to LP: -541.2:  18%|█▊        | 179/1000 [00:02<00:10, 78.01it/s] \n",
      "Converged to LP: -550.9:  19%|█▊        | 186/1000 [00:02<00:10, 79.51it/s] \n",
      "Converged to LP: -538.5:  22%|██▏       | 221/1000 [00:02<00:09, 80.99it/s] \n",
      "Converged to LP: -540.9:  47%|████▋     | 472/1000 [00:05<00:05, 91.79it/s]\n",
      "Converged to LP: -539.7:  77%|███████▋  | 768/1000 [00:08<00:02, 94.70it/s] \n",
      "LP: -613.6:   1%|          | 6/1000 [00:00<00:18, 53.46it/s]"
     ]
    },
    {
     "name": "stdout",
     "output_type": "stream",
     "text": [
      "Fitting 5 states...\n"
     ]
    },
    {
     "name": "stderr",
     "output_type": "stream",
     "text": [
      "Converged to LP: -585.6:  24%|██▍       | 244/1000 [00:03<00:10, 70.02it/s]\n",
      "Converged to LP: -584.2:  36%|███▌      | 356/1000 [00:04<00:08, 76.73it/s]\n",
      "Converged to LP: -573.6:  34%|███▍      | 344/1000 [00:04<00:08, 73.02it/s]\n",
      "Converged to LP: -578.1:  42%|████▏     | 421/1000 [00:05<00:07, 79.17it/s]\n",
      "Converged to LP: -595.1:  45%|████▍     | 446/1000 [00:05<00:07, 76.04it/s] \n",
      "Converged to LP: -432.7:   0%|          | 2/1000 [00:00<00:06, 151.00it/s]\n",
      "Converged to LP: -441.5:   0%|          | 2/1000 [00:00<00:06, 149.15it/s]\n",
      "Converged to LP: -427.8:   0%|          | 2/1000 [00:00<00:06, 146.80it/s]\n",
      "Converged to LP: -433.2:   0%|          | 2/1000 [00:00<00:07, 132.80it/s]\n",
      "Converged to LP: -417.3:   0%|          | 2/1000 [00:00<00:06, 159.66it/s]\n",
      "LP: -506.0:   0%|          | 0/1000 [00:00<?, ?it/s]"
     ]
    },
    {
     "name": "stdout",
     "output_type": "stream",
     "text": [
      "Fitting session 14...\n",
      "Fitting 1 states...\n",
      "Fitting 2 states...\n"
     ]
    },
    {
     "name": "stderr",
     "output_type": "stream",
     "text": [
      "Converged to LP: -472.9:   1%|          | 7/1000 [00:00<00:10, 94.56it/s]\n",
      "Converged to LP: -458.7:   1%|          | 7/1000 [00:00<00:09, 104.21it/s]\n",
      "Converged to LP: -463.3:   2%|▏         | 21/1000 [00:00<00:08, 117.03it/s]\n",
      "Converged to LP: -482.5:   2%|▎         | 25/1000 [00:00<00:07, 128.15it/s]\n",
      "Converged to LP: -469.9:   3%|▎         | 28/1000 [00:00<00:07, 128.15it/s]\n"
     ]
    },
    {
     "name": "stdout",
     "output_type": "stream",
     "text": [
      "Fitting 3 states...\n"
     ]
    },
    {
     "name": "stderr",
     "output_type": "stream",
     "text": [
      "Converged to LP: -526.9:   5%|▍         | 46/1000 [00:00<00:10, 95.00it/s]\n",
      "Converged to LP: -519.2:   6%|▋         | 63/1000 [00:00<00:07, 119.29it/s]\n",
      "Converged to LP: -503.5:   8%|▊         | 79/1000 [00:00<00:07, 115.84it/s]\n",
      "Converged to LP: -507.7:  11%|█         | 109/1000 [00:00<00:07, 120.96it/s]\n",
      "Converged to LP: -510.2:  14%|█▍        | 144/1000 [00:01<00:06, 124.10it/s]\n",
      "LP: -594.2:   0%|          | 0/1000 [00:00<?, ?it/s]"
     ]
    },
    {
     "name": "stdout",
     "output_type": "stream",
     "text": [
      "Fitting 4 states...\n"
     ]
    },
    {
     "name": "stderr",
     "output_type": "stream",
     "text": [
      "Converged to LP: -553.1:  23%|██▎       | 232/1000 [00:02<00:08, 91.98it/s]\n",
      "Converged to LP: -555.4:  25%|██▌       | 250/1000 [00:02<00:08, 93.23it/s] \n",
      "Converged to LP: -564.0:  38%|███▊      | 380/1000 [00:03<00:06, 95.42it/s] \n",
      "Converged to LP: -572.3:  66%|██████▌   | 657/1000 [00:06<00:03, 103.93it/s]\n",
      "Converged to LP: -553.5:  72%|███████▏  | 724/1000 [00:06<00:02, 107.69it/s]\n"
     ]
    },
    {
     "name": "stdout",
     "output_type": "stream",
     "text": [
      "Fitting 5 states...\n"
     ]
    },
    {
     "name": "stderr",
     "output_type": "stream",
     "text": [
      "Converged to LP: -591.9:  41%|████      | 410/1000 [00:05<00:07, 79.11it/s]\n",
      "Converged to LP: -611.9:  44%|████▍     | 444/1000 [00:05<00:06, 79.99it/s]\n",
      "Converged to LP: -603.9:  52%|█████▏    | 521/1000 [00:06<00:05, 82.29it/s]\n",
      "Converged to LP: -615.4:  52%|█████▏    | 522/1000 [00:06<00:05, 80.09it/s] \n",
      "Converged to LP: -598.8:  64%|██████▍   | 642/1000 [00:07<00:04, 86.28it/s] \n",
      "Converged to LP: -426.9:   0%|          | 2/1000 [00:00<00:06, 159.99it/s]\n"
     ]
    },
    {
     "name": "stdout",
     "output_type": "stream",
     "text": [
      "Fitting session 15...\n",
      "Fitting 1 states...\n",
      "Fitting 2 states...\n"
     ]
    },
    {
     "name": "stderr",
     "output_type": "stream",
     "text": [
      "Converged to LP: -455.5:   0%|          | 2/1000 [00:00<00:07, 127.92it/s]\n",
      "Converged to LP: -439.7:   0%|          | 2/1000 [00:00<00:07, 136.91it/s]\n",
      "Converged to LP: -446.7:   0%|          | 2/1000 [00:00<00:06, 160.86it/s]\n",
      "Converged to LP: -442.1:   0%|          | 2/1000 [00:00<00:05, 172.20it/s]\n",
      "Converged to LP: -494.8:   1%|          | 7/1000 [00:00<00:07, 124.53it/s]\n",
      "Converged to LP: -466.0:   1%|          | 9/1000 [00:00<00:07, 124.28it/s]\n",
      "Converged to LP: -483.5:   1%|▏         | 13/1000 [00:00<00:07, 123.42it/s]\n",
      "Converged to LP: -485.4:   2%|▏         | 24/1000 [00:00<00:06, 141.29it/s]\n",
      "Converged to LP: -482.6:   3%|▎         | 34/1000 [00:00<00:07, 137.84it/s]\n",
      "LP: -551.7:   0%|          | 0/1000 [00:00<?, ?it/s]"
     ]
    },
    {
     "name": "stdout",
     "output_type": "stream",
     "text": [
      "Fitting 3 states...\n"
     ]
    },
    {
     "name": "stderr",
     "output_type": "stream",
     "text": [
      "Converged to LP: -537.0:   6%|▌         | 59/1000 [00:00<00:09, 97.37it/s]\n",
      "Converged to LP: -521.6:   7%|▋         | 70/1000 [00:00<00:09, 99.79it/s] \n",
      "Converged to LP: -521.0:   8%|▊         | 83/1000 [00:00<00:10, 85.93it/s]\n",
      "Converged to LP: -509.5:  12%|█▏        | 118/1000 [00:01<00:08, 106.42it/s]\n",
      "Converged to LP: -523.8:  15%|█▌        | 152/1000 [00:01<00:07, 119.08it/s]\n",
      "LP: -566.8:   0%|          | 0/1000 [00:00<?, ?it/s].81it/s]"
     ]
    },
    {
     "name": "stdout",
     "output_type": "stream",
     "text": [
      "Fitting 4 states...\n"
     ]
    },
    {
     "name": "stderr",
     "output_type": "stream",
     "text": [
      "Converged to LP: -571.9:   7%|▋         | 66/1000 [00:00<00:12, 74.68it/s]\n",
      "Converged to LP: -551.9:  12%|█▏        | 119/1000 [00:01<00:08, 99.15it/s] \n",
      "Converged to LP: -533.0:  21%|██        | 212/1000 [00:02<00:08, 93.70it/s] \n",
      "Converged to LP: -561.5:  22%|██▏       | 220/1000 [00:02<00:08, 97.45it/s] \n",
      "Converged to LP: -564.1:  55%|█████▌    | 554/1000 [00:04<00:03, 115.57it/s]\n",
      "LP: -634.0:   0%|          | 0/1000 [00:00<?, ?it/s]"
     ]
    },
    {
     "name": "stdout",
     "output_type": "stream",
     "text": [
      "Fitting 5 states...\n"
     ]
    },
    {
     "name": "stderr",
     "output_type": "stream",
     "text": [
      "Converged to LP: -607.2:  16%|█▌        | 155/1000 [00:02<00:11, 75.83it/s]\n",
      "Converged to LP: -587.4:  21%|██        | 212/1000 [00:02<00:09, 79.69it/s] \n",
      "Converged to LP: -603.5:  38%|███▊      | 378/1000 [00:04<00:07, 84.47it/s] \n",
      "Converged to LP: -618.2:  43%|████▎     | 434/1000 [00:04<00:06, 87.57it/s] \n",
      "LP: -592.1: 100%|██████████| 1000/1000 [00:10<00:00, 98.50it/s]\n",
      "Converged to LP: -418.6:   0%|          | 2/1000 [00:00<00:06, 161.68it/s]\n",
      "Converged to LP: -423.4:   0%|          | 2/1000 [00:00<00:06, 159.03it/s]\n",
      "Converged to LP: -429.8:   0%|          | 2/1000 [00:00<00:06, 162.71it/s]\n",
      "Converged to LP: -432.9:   0%|          | 2/1000 [00:00<00:05, 177.20it/s]\n",
      "Converged to LP: -420.2:   0%|          | 2/1000 [00:00<00:05, 174.93it/s]\n",
      "LP: -480.4:   0%|          | 0/1000 [00:00<?, ?it/s]"
     ]
    },
    {
     "name": "stdout",
     "output_type": "stream",
     "text": [
      "Fitting session 16...\n",
      "Fitting 1 states...\n",
      "Fitting 2 states...\n"
     ]
    },
    {
     "name": "stderr",
     "output_type": "stream",
     "text": [
      "Converged to LP: -473.4:   1%|          | 11/1000 [00:00<00:08, 121.69it/s]\n",
      "Converged to LP: -479.0:   1%|          | 12/1000 [00:00<00:08, 120.63it/s]\n",
      "Converged to LP: -483.1:   2%|▏         | 16/1000 [00:00<00:07, 136.94it/s]\n",
      "Converged to LP: -470.9:   2%|▏         | 17/1000 [00:00<00:08, 111.53it/s]\n",
      "Converged to LP: -469.4:   3%|▎         | 31/1000 [00:00<00:08, 118.20it/s]\n",
      "LP: -515.0:   1%|          | 9/1000 [00:00<00:12, 82.49it/s]s]"
     ]
    },
    {
     "name": "stdout",
     "output_type": "stream",
     "text": [
      "Fitting 3 states...\n"
     ]
    },
    {
     "name": "stderr",
     "output_type": "stream",
     "text": [
      "Converged to LP: -516.0:   5%|▍         | 48/1000 [00:00<00:09, 99.88it/s] \n",
      "Converged to LP: -525.1:   9%|▊         | 87/1000 [00:00<00:07, 130.02it/s]\n",
      "Converged to LP: -526.3:   9%|▉         | 89/1000 [00:00<00:07, 122.94it/s]\n",
      "Converged to LP: -519.1:  11%|█▏        | 113/1000 [00:00<00:07, 115.68it/s]\n",
      "Converged to LP: -505.4:  51%|█████     | 510/1000 [00:03<00:03, 143.22it/s]\n",
      "LP: -580.5:   0%|          | 0/1000 [00:00<?, ?it/s]"
     ]
    },
    {
     "name": "stdout",
     "output_type": "stream",
     "text": [
      "Fitting 4 states...\n"
     ]
    },
    {
     "name": "stderr",
     "output_type": "stream",
     "text": [
      "Converged to LP: -565.3:  15%|█▌        | 154/1000 [00:01<00:09, 92.42it/s] \n",
      "Converged to LP: -572.8:  20%|█▉        | 196/1000 [00:02<00:08, 92.89it/s] \n",
      "Converged to LP: -561.7:  25%|██▌       | 252/1000 [00:02<00:07, 95.52it/s] \n",
      "Converged to LP: -562.5:  27%|██▋       | 270/1000 [00:03<00:08, 89.44it/s] \n",
      "Converged to LP: -550.4:  34%|███▍      | 340/1000 [00:03<00:06, 104.16it/s]\n",
      "LP: -646.0:   0%|          | 0/1000 [00:00<?, ?it/s]"
     ]
    },
    {
     "name": "stdout",
     "output_type": "stream",
     "text": [
      "Fitting 5 states...\n"
     ]
    },
    {
     "name": "stderr",
     "output_type": "stream",
     "text": [
      "Converged to LP: -615.4:  20%|██        | 205/1000 [00:02<00:11, 72.01it/s]\n",
      "Converged to LP: -606.6:  28%|██▊       | 282/1000 [00:03<00:08, 80.41it/s]\n",
      "Converged to LP: -597.9:  33%|███▎      | 331/1000 [00:04<00:08, 80.72it/s]\n",
      "Converged to LP: -598.3:  34%|███▎      | 337/1000 [00:04<00:08, 80.91it/s] \n",
      "Converged to LP: -601.1:  72%|███████▏  | 722/1000 [00:07<00:02, 93.45it/s] \n",
      "Converged to LP: -374.4:   0%|          | 2/1000 [00:00<00:06, 149.27it/s]\n",
      "Converged to LP: -390.9:   0%|          | 0/1000 [00:00<?, ?it/s]"
     ]
    },
    {
     "name": "stdout",
     "output_type": "stream",
     "text": [
      "Fitting session 17...\n",
      "Fitting 1 states...\n",
      "Fitting 2 states...\n"
     ]
    },
    {
     "name": "stderr",
     "output_type": "stream",
     "text": [
      "Converged to LP: -390.9:   0%|          | 2/1000 [00:00<00:06, 155.31it/s]\n",
      "Converged to LP: -394.2:   0%|          | 2/1000 [00:00<00:08, 123.97it/s]\n",
      "Converged to LP: -386.4:   0%|          | 2/1000 [00:00<00:08, 115.18it/s]\n",
      "Converged to LP: -395.2:   0%|          | 2/1000 [00:00<00:06, 151.85it/s]\n",
      "Converged to LP: -439.3:   2%|▏         | 16/1000 [00:00<00:07, 125.24it/s]\n",
      "Converged to LP: -424.0:   2%|▏         | 17/1000 [00:00<00:08, 121.43it/s]\n",
      "Converged to LP: -442.8:   2%|▏         | 16/1000 [00:00<00:08, 115.34it/s]\n",
      "Converged to LP: -438.5:   1%|▏         | 13/1000 [00:00<00:08, 111.91it/s]\n",
      "Converged to LP: -434.1:   2%|▏         | 18/1000 [00:00<00:08, 113.60it/s]\n",
      "LP: -489.7:   0%|          | 0/1000 [00:00<?, ?it/s].50it/s]"
     ]
    },
    {
     "name": "stdout",
     "output_type": "stream",
     "text": [
      "Fitting 3 states...\n"
     ]
    },
    {
     "name": "stderr",
     "output_type": "stream",
     "text": [
      "Converged to LP: -487.1:   5%|▌         | 50/1000 [00:00<00:10, 92.22it/s] \n",
      "Converged to LP: -481.2:   6%|▌         | 58/1000 [00:00<00:09, 96.60it/s] \n",
      "Converged to LP: -482.5:   7%|▋         | 74/1000 [00:00<00:09, 97.51it/s] \n",
      "Converged to LP: -475.3:   9%|▊         | 86/1000 [00:00<00:08, 105.86it/s]\n",
      "Converged to LP: -454.5:  15%|█▍        | 148/1000 [00:01<00:06, 122.94it/s]\n",
      "LP: -531.0:   0%|          | 0/1000 [00:00<?, ?it/s].26it/s]"
     ]
    },
    {
     "name": "stdout",
     "output_type": "stream",
     "text": [
      "Fitting 4 states...\n"
     ]
    },
    {
     "name": "stderr",
     "output_type": "stream",
     "text": [
      "Converged to LP: -498.9:  15%|█▌        | 154/1000 [00:01<00:09, 87.61it/s] \n",
      "Converged to LP: -509.4:  15%|█▍        | 149/1000 [00:01<00:09, 86.47it/s] \n",
      "Converged to LP: -523.6:  19%|█▉        | 194/1000 [00:02<00:08, 90.01it/s] \n",
      "Converged to LP: -521.7:  27%|██▋       | 266/1000 [00:02<00:07, 97.67it/s] \n",
      "Converged to LP: -523.7:  40%|████      | 401/1000 [00:03<00:05, 108.43it/s]\n",
      "LP: -603.3:   0%|          | 0/1000 [00:00<?, ?it/s]"
     ]
    },
    {
     "name": "stdout",
     "output_type": "stream",
     "text": [
      "Fitting 5 states...\n"
     ]
    },
    {
     "name": "stderr",
     "output_type": "stream",
     "text": [
      "Converged to LP: -567.1:  22%|██▏       | 220/1000 [00:02<00:09, 78.32it/s]\n",
      "Converged to LP: -568.9:  28%|██▊       | 283/1000 [00:03<00:08, 79.95it/s]\n",
      "Converged to LP: -564.2:  38%|███▊      | 376/1000 [00:04<00:07, 80.32it/s]\n",
      "Converged to LP: -542.6:  46%|████▌     | 455/1000 [00:05<00:06, 87.57it/s] \n",
      "Converged to LP: -550.5:  60%|██████    | 604/1000 [00:06<00:04, 93.27it/s] \n",
      "LP: -466.2:   0%|          | 0/1000 [00:00<?, ?it/s]"
     ]
    },
    {
     "name": "stdout",
     "output_type": "stream",
     "text": [
      "Fitting session 18...\n",
      "Fitting 1 states...\n",
      "Fitting 2 states...\n"
     ]
    },
    {
     "name": "stderr",
     "output_type": "stream",
     "text": [
      "Converged to LP: -459.5:   0%|          | 2/1000 [00:00<00:08, 115.00it/s]\n",
      "Converged to LP: -441.3:   0%|          | 2/1000 [00:00<00:08, 123.38it/s]\n",
      "Converged to LP: -447.5:   0%|          | 2/1000 [00:00<00:06, 145.86it/s]\n",
      "Converged to LP: -442.4:   0%|          | 2/1000 [00:00<00:06, 156.19it/s]\n",
      "Converged to LP: -451.4:   0%|          | 2/1000 [00:00<00:06, 144.81it/s]\n",
      "Converged to LP: -491.5:   1%|▏         | 13/1000 [00:00<00:08, 114.15it/s]\n",
      "Converged to LP: -492.4:   2%|▏         | 15/1000 [00:00<00:09, 105.47it/s]\n",
      "Converged to LP: -487.6:   2%|▏         | 16/1000 [00:00<00:09, 100.85it/s]\n",
      "Converged to LP: -488.1:   2%|▏         | 17/1000 [00:00<00:08, 114.80it/s]\n",
      "Converged to LP: -504.9:   3%|▎         | 31/1000 [00:00<00:08, 118.37it/s]\n",
      "LP: -561.0:   0%|          | 0/1000 [00:00<?, ?it/s]"
     ]
    },
    {
     "name": "stdout",
     "output_type": "stream",
     "text": [
      "Fitting 3 states...\n"
     ]
    },
    {
     "name": "stderr",
     "output_type": "stream",
     "text": [
      "Converged to LP: -549.7:  17%|█▋        | 173/1000 [00:01<00:07, 106.79it/s]\n",
      "Converged to LP: -535.2:  18%|█▊        | 177/1000 [00:01<00:07, 107.61it/s]\n",
      "Converged to LP: -539.4:  33%|███▎      | 330/1000 [00:02<00:05, 121.16it/s]\n",
      "Converged to LP: -534.1:  30%|███       | 303/1000 [00:02<00:06, 111.54it/s]\n",
      "Converged to LP: -528.2:  72%|███████▏  | 723/1000 [00:05<00:02, 137.47it/s]\n",
      "LP: -610.5:   0%|          | 0/1000 [00:00<?, ?it/s]"
     ]
    },
    {
     "name": "stdout",
     "output_type": "stream",
     "text": [
      "Fitting 4 states...\n"
     ]
    },
    {
     "name": "stderr",
     "output_type": "stream",
     "text": [
      "Converged to LP: -585.1:  10%|▉         | 95/1000 [00:01<00:09, 93.94it/s] \n",
      "Converged to LP: -597.6:  14%|█▎        | 137/1000 [00:01<00:09, 91.09it/s] \n",
      "Converged to LP: -584.9:  26%|██▌       | 258/1000 [00:02<00:07, 93.72it/s]\n",
      "Converged to LP: -578.9:  31%|███       | 307/1000 [00:03<00:07, 91.26it/s]\n",
      "Converged to LP: -570.6:  60%|██████    | 604/1000 [00:06<00:03, 99.49it/s] \n",
      "  0%|          | 0/1000 [00:00<?, ?it/s]00<?, ?it/s]"
     ]
    },
    {
     "name": "stdout",
     "output_type": "stream",
     "text": [
      "Fitting 5 states...\n"
     ]
    },
    {
     "name": "stderr",
     "output_type": "stream",
     "text": [
      "Converged to LP: -623.3:  30%|███       | 303/1000 [00:03<00:09, 76.23it/s]\n",
      "Converged to LP: -649.2:  36%|███▌      | 361/1000 [00:04<00:07, 81.23it/s]\n",
      "Converged to LP: -628.6:  55%|█████▍    | 549/1000 [00:06<00:05, 83.13it/s]\n",
      "Converged to LP: -618.1:  80%|████████  | 804/1000 [00:09<00:02, 85.54it/s] \n",
      "LP: -620.2: 100%|██████████| 1000/1000 [00:11<00:00, 90.42it/s] \n",
      "Converged to LP: -408.0:   0%|          | 2/1000 [00:00<00:06, 155.84it/s]\n",
      "Converged to LP: -396.7:   0%|          | 2/1000 [00:00<00:07, 139.39it/s]\n",
      "Converged to LP: -413.3:   0%|          | 2/1000 [00:00<00:06, 157.36it/s]\n",
      "Converged to LP: -408.2:   0%|          | 2/1000 [00:00<00:06, 147.22it/s]\n",
      "Converged to LP: -399.1:   0%|          | 2/1000 [00:00<00:06, 156.15it/s]\n",
      "LP: -449.0:   0%|          | 0/1000 [00:00<?, ?it/s]"
     ]
    },
    {
     "name": "stdout",
     "output_type": "stream",
     "text": [
      "Fitting session 19...\n",
      "Fitting 1 states...\n",
      "Fitting 2 states...\n"
     ]
    },
    {
     "name": "stderr",
     "output_type": "stream",
     "text": [
      "Converged to LP: -459.9:   1%|▏         | 13/1000 [00:00<00:07, 125.15it/s]\n",
      "Converged to LP: -446.2:   2%|▏         | 16/1000 [00:00<00:08, 109.62it/s]\n",
      "Converged to LP: -454.9:   2%|▎         | 25/1000 [00:00<00:08, 119.20it/s]\n",
      "Converged to LP: -463.0:   5%|▌         | 50/1000 [00:00<00:07, 131.24it/s]\n",
      "Converged to LP: -439.9:   5%|▌         | 52/1000 [00:00<00:07, 126.49it/s]\n",
      "LP: -523.7:   0%|          | 0/1000 [00:00<?, ?it/s]"
     ]
    },
    {
     "name": "stdout",
     "output_type": "stream",
     "text": [
      "Fitting 3 states...\n"
     ]
    },
    {
     "name": "stderr",
     "output_type": "stream",
     "text": [
      "Converged to LP: -497.6:   9%|▊         | 86/1000 [00:00<00:08, 103.74it/s]\n",
      "Converged to LP: -502.0:  10%|█         | 104/1000 [00:00<00:08, 106.97it/s]\n",
      "Converged to LP: -495.8:  12%|█▏        | 117/1000 [00:01<00:08, 99.18it/s] \n",
      "Converged to LP: -491.6:  17%|█▋        | 166/1000 [00:01<00:07, 111.49it/s]\n",
      "Converged to LP: -508.0:  21%|██        | 212/1000 [00:01<00:06, 122.09it/s]\n",
      "LP: -558.3:   0%|          | 5/1000 [00:00<00:20, 48.80it/s]"
     ]
    },
    {
     "name": "stdout",
     "output_type": "stream",
     "text": [
      "Fitting 4 states...\n"
     ]
    },
    {
     "name": "stderr",
     "output_type": "stream",
     "text": [
      "Converged to LP: -555.5:  16%|█▌        | 155/1000 [00:01<00:09, 89.36it/s]\n",
      "Converged to LP: -562.8:  26%|██▌       | 259/1000 [00:02<00:07, 101.50it/s]\n",
      "Converged to LP: -545.2:  26%|██▌       | 258/1000 [00:02<00:07, 96.40it/s] \n",
      "Converged to LP: -549.0:  31%|███       | 309/1000 [00:03<00:06, 101.49it/s]\n",
      "Converged to LP: -545.3:  31%|███       | 309/1000 [00:03<00:06, 99.85it/s] \n"
     ]
    },
    {
     "name": "stdout",
     "output_type": "stream",
     "text": [
      "Fitting 5 states...\n"
     ]
    },
    {
     "name": "stderr",
     "output_type": "stream",
     "text": [
      "Converged to LP: -590.5:  24%|██▍       | 241/1000 [00:03<00:10, 70.58it/s]\n",
      "Converged to LP: -581.2:  44%|████▍     | 438/1000 [00:05<00:06, 81.30it/s]\n",
      "Converged to LP: -594.7:  71%|███████   | 706/1000 [00:08<00:03, 85.54it/s] \n",
      "Converged to LP: -598.3:  73%|███████▎  | 728/1000 [00:08<00:03, 87.32it/s] \n",
      "Converged to LP: -573.3:  84%|████████▍ | 843/1000 [00:09<00:01, 87.74it/s] \n",
      "Converged to LP: -513.7:   0%|          | 2/1000 [00:00<00:09, 100.85it/s]\n",
      "Converged to LP: -506.0:   0%|          | 2/1000 [00:00<00:10, 91.39it/s]\n",
      "Converged to LP: -515.4:   0%|          | 2/1000 [00:00<00:10, 97.62it/s]\n",
      "Converged to LP: -508.9:   0%|          | 2/1000 [00:00<00:09, 107.15it/s]\n",
      "LP: -507.4:   0%|          | 0/1000 [00:00<?, ?it/s]"
     ]
    },
    {
     "name": "stdout",
     "output_type": "stream",
     "text": [
      "Fitting session 20...\n",
      "Fitting 1 states...\n",
      "Fitting 2 states...\n"
     ]
    },
    {
     "name": "stderr",
     "output_type": "stream",
     "text": [
      "Converged to LP: -507.4:   0%|          | 2/1000 [00:00<00:07, 133.11it/s]\n",
      "Converged to LP: -551.3:   1%|▏         | 14/1000 [00:00<00:07, 123.33it/s]\n",
      "Converged to LP: -561.1:   2%|▏         | 17/1000 [00:00<00:08, 110.00it/s]\n",
      "Converged to LP: -555.6:   2%|▏         | 21/1000 [00:00<00:09, 101.96it/s]\n",
      "Converged to LP: -557.3:   3%|▎         | 32/1000 [00:00<00:08, 108.90it/s]\n",
      "Converged to LP: -549.6:   6%|▌         | 58/1000 [00:00<00:07, 122.94it/s]\n",
      "LP: -608.4:   0%|          | 0/1000 [00:00<?, ?it/s]"
     ]
    },
    {
     "name": "stdout",
     "output_type": "stream",
     "text": [
      "Fitting 3 states...\n"
     ]
    },
    {
     "name": "stderr",
     "output_type": "stream",
     "text": [
      "Converged to LP: -605.5:   7%|▋         | 66/1000 [00:00<00:09, 103.66it/s]\n",
      "Converged to LP: -603.8:   9%|▊         | 87/1000 [00:00<00:09, 97.89it/s] \n",
      "Converged to LP: -611.4:  12%|█▏        | 123/1000 [00:01<00:08, 104.22it/s]\n",
      "Converged to LP: -597.1:  20%|█▉        | 196/1000 [00:01<00:06, 116.73it/s]\n",
      "Converged to LP: -597.0:  56%|█████▌    | 559/1000 [00:04<00:03, 129.05it/s]\n",
      "LP: -665.0:   0%|          | 0/1000 [00:00<?, ?it/s].69it/s]"
     ]
    },
    {
     "name": "stdout",
     "output_type": "stream",
     "text": [
      "Fitting 4 states...\n"
     ]
    },
    {
     "name": "stderr",
     "output_type": "stream",
     "text": [
      "Converged to LP: -650.7:  15%|█▍        | 149/1000 [00:01<00:10, 82.75it/s] \n",
      "Converged to LP: -657.5:  24%|██▍       | 241/1000 [00:02<00:08, 88.33it/s] \n",
      "Converged to LP: -637.6:  24%|██▍       | 238/1000 [00:02<00:09, 84.49it/s]\n",
      "Converged to LP: -645.0:  38%|███▊      | 381/1000 [00:04<00:07, 86.54it/s]\n",
      "Converged to LP: -648.2:  47%|████▋     | 474/1000 [00:05<00:05, 89.53it/s] \n",
      "LP: -717.6:   0%|          | 0/1000 [00:00<?, ?it/s]"
     ]
    },
    {
     "name": "stdout",
     "output_type": "stream",
     "text": [
      "Fitting 5 states...\n"
     ]
    },
    {
     "name": "stderr",
     "output_type": "stream",
     "text": [
      "Converged to LP: -698.7:  22%|██▏       | 217/1000 [00:03<00:12, 63.58it/s]\n",
      "Converged to LP: -695.7:  23%|██▎       | 230/1000 [00:03<00:11, 64.27it/s]\n",
      "Converged to LP: -705.2:  43%|████▎     | 433/1000 [00:06<00:08, 70.66it/s]\n",
      "Converged to LP: -691.6:  66%|██████▌   | 655/1000 [00:08<00:04, 76.93it/s]\n",
      "LP: -681.3: 100%|██████████| 1000/1000 [00:11<00:00, 83.43it/s]\n",
      "Converged to LP: -483.7:   0%|          | 2/1000 [00:00<00:07, 139.58it/s]\n",
      "Converged to LP: -473.8:   0%|          | 2/1000 [00:00<00:06, 149.96it/s]\n",
      "Converged to LP: -473.7:   0%|          | 2/1000 [00:00<00:06, 142.78it/s]\n",
      "Converged to LP: -483.4:   0%|          | 2/1000 [00:00<00:06, 156.12it/s]\n",
      "Converged to LP: -475.1:   0%|          | 2/1000 [00:00<00:05, 170.14it/s]\n",
      "LP: -535.0:   0%|          | 0/1000 [00:00<?, ?it/s]"
     ]
    },
    {
     "name": "stdout",
     "output_type": "stream",
     "text": [
      "Fitting session 21...\n",
      "Fitting 1 states...\n",
      "Fitting 2 states...\n"
     ]
    },
    {
     "name": "stderr",
     "output_type": "stream",
     "text": [
      "Converged to LP: -531.3:   1%|▏         | 13/1000 [00:00<00:09, 109.12it/s]\n",
      "Converged to LP: -533.2:   1%|          | 9/1000 [00:00<00:09, 102.09it/s]\n",
      "Converged to LP: -523.5:   2%|▏         | 16/1000 [00:00<00:08, 112.46it/s]\n",
      "Converged to LP: -524.6:   2%|▏         | 22/1000 [00:00<00:08, 116.97it/s]\n",
      "Converged to LP: -521.3:   3%|▎         | 30/1000 [00:00<00:07, 121.43it/s]\n"
     ]
    },
    {
     "name": "stdout",
     "output_type": "stream",
     "text": [
      "Fitting 3 states...\n"
     ]
    },
    {
     "name": "stderr",
     "output_type": "stream",
     "text": [
      "Converged to LP: -564.6:   7%|▋         | 71/1000 [00:00<00:09, 99.98it/s]\n",
      "Converged to LP: -561.8:   6%|▋         | 64/1000 [00:00<00:10, 93.15it/s]\n",
      "Converged to LP: -571.1:   8%|▊         | 82/1000 [00:00<00:08, 103.09it/s]\n",
      "Converged to LP: -564.2:  10%|█         | 102/1000 [00:01<00:09, 98.84it/s]\n",
      "Converged to LP: -576.7:  12%|█▏        | 124/1000 [00:01<00:07, 112.38it/s]\n",
      "LP: -624.6:   0%|          | 0/1000 [00:00<?, ?it/s]"
     ]
    },
    {
     "name": "stdout",
     "output_type": "stream",
     "text": [
      "Fitting 4 states...\n"
     ]
    },
    {
     "name": "stderr",
     "output_type": "stream",
     "text": [
      "Converged to LP: -627.9:   8%|▊         | 84/1000 [00:01<00:10, 83.62it/s]\n",
      "Converged to LP: -610.7:  10%|▉         | 98/1000 [00:01<00:11, 81.63it/s]\n",
      "Converged to LP: -613.4:  24%|██▍       | 241/1000 [00:02<00:07, 95.63it/s] \n",
      "Converged to LP: -604.7:  24%|██▍       | 245/1000 [00:02<00:08, 91.82it/s] \n",
      "Converged to LP: -615.9:  31%|███       | 309/1000 [00:03<00:07, 88.21it/s] \n"
     ]
    },
    {
     "name": "stdout",
     "output_type": "stream",
     "text": [
      "Fitting 5 states...\n"
     ]
    },
    {
     "name": "stderr",
     "output_type": "stream",
     "text": [
      "Converged to LP: -656.1:  15%|█▍        | 149/1000 [00:02<00:12, 70.48it/s]\n",
      "Converged to LP: -643.0:  33%|███▎      | 330/1000 [00:04<00:08, 78.48it/s]\n",
      "Converged to LP: -658.0:  52%|█████▏    | 515/1000 [00:05<00:05, 86.30it/s] \n",
      "LP: -658.7:  56%|█████▌    | 556/1000 [00:06<00:04, 100.82it/s], 86.16it/s] \n",
      "Converged to LP: -658.0:  86%|████████▋ | 864/1000 [00:09<00:01, 90.95it/s] \n",
      "Converged to LP: -516.8:   0%|          | 2/1000 [00:00<00:06, 153.14it/s]\n"
     ]
    },
    {
     "name": "stdout",
     "output_type": "stream",
     "text": [
      "Fitting session 22...\n",
      "Fitting 1 states...\n",
      "Fitting 2 states...\n"
     ]
    },
    {
     "name": "stderr",
     "output_type": "stream",
     "text": [
      "Converged to LP: -532.2:   0%|          | 2/1000 [00:00<00:07, 127.29it/s]\n",
      "Converged to LP: -537.1:   0%|          | 2/1000 [00:00<00:07, 133.69it/s]\n",
      "Converged to LP: -529.1:   0%|          | 2/1000 [00:00<00:07, 130.38it/s]\n",
      "Converged to LP: -543.5:   0%|          | 2/1000 [00:00<00:06, 149.88it/s]\n",
      "Converged to LP: -545.9:   1%|          | 10/1000 [00:00<00:08, 111.27it/s]\n",
      "Converged to LP: -558.6:   1%|          | 12/1000 [00:00<00:08, 121.66it/s]\n",
      "Converged to LP: -560.5:   1%|          | 10/1000 [00:00<00:10, 95.81it/s]\n",
      "Converged to LP: -572.9:   1%|          | 12/1000 [00:00<00:08, 116.37it/s]\n",
      "Converged to LP: -568.9:   2%|▏         | 20/1000 [00:00<00:07, 124.42it/s]\n",
      "LP: -609.2:   1%|          | 7/1000 [00:00<00:14, 68.15it/s]"
     ]
    },
    {
     "name": "stdout",
     "output_type": "stream",
     "text": [
      "Fitting 3 states...\n"
     ]
    },
    {
     "name": "stderr",
     "output_type": "stream",
     "text": [
      "Converged to LP: -598.7:   6%|▌         | 55/1000 [00:00<00:10, 90.93it/s] \n",
      "Converged to LP: -614.5:   6%|▋         | 64/1000 [00:00<00:09, 98.26it/s] \n",
      "Converged to LP: -608.4:   7%|▋         | 70/1000 [00:00<00:09, 102.90it/s]\n",
      "Converged to LP: -594.4:   7%|▋         | 68/1000 [00:00<00:09, 96.33it/s] \n",
      "Converged to LP: -607.0:   6%|▋         | 63/1000 [00:00<00:10, 89.38it/s]\n"
     ]
    },
    {
     "name": "stdout",
     "output_type": "stream",
     "text": [
      "Fitting 4 states...\n"
     ]
    },
    {
     "name": "stderr",
     "output_type": "stream",
     "text": [
      "Converged to LP: -660.3:   9%|▉         | 90/1000 [00:01<00:11, 79.24it/s]\n",
      "Converged to LP: -657.3:  19%|█▉        | 188/1000 [00:02<00:09, 88.11it/s] \n",
      "Converged to LP: -659.8:  27%|██▋       | 269/1000 [00:02<00:08, 90.69it/s] \n",
      "Converged to LP: -624.5:  40%|████      | 403/1000 [00:04<00:06, 99.36it/s] \n",
      "Converged to LP: -661.6:  61%|██████    | 611/1000 [00:05<00:03, 102.87it/s]\n",
      "LP: -728.1:   0%|          | 0/1000 [00:00<?, ?it/s]"
     ]
    },
    {
     "name": "stdout",
     "output_type": "stream",
     "text": [
      "Fitting 5 states...\n"
     ]
    },
    {
     "name": "stderr",
     "output_type": "stream",
     "text": [
      "Converged to LP: -700.9:  39%|███▉      | 391/1000 [00:05<00:08, 72.65it/s]\n",
      "Converged to LP: -694.4:  47%|████▋     | 473/1000 [00:06<00:06, 75.91it/s]\n",
      "Converged to LP: -664.6:  53%|█████▎    | 528/1000 [00:06<00:06, 78.31it/s]\n",
      "Converged to LP: -701.4:  63%|██████▎   | 632/1000 [00:07<00:04, 81.29it/s]\n",
      "LP: -698.2: 100%|██████████| 1000/1000 [00:12<00:00, 81.89it/s]\n",
      "Converged to LP: -446.5:   0%|          | 2/1000 [00:00<00:08, 111.32it/s]\n",
      "Converged to LP: -432.5:   0%|          | 2/1000 [00:00<00:08, 115.01it/s]\n",
      "Converged to LP: -440.2:   0%|          | 2/1000 [00:00<00:10, 95.96it/s]\n",
      "Converged to LP: -459.4:   0%|          | 2/1000 [00:00<00:07, 138.64it/s]\n",
      "Converged to LP: -446.8:   0%|          | 2/1000 [00:00<00:07, 129.01it/s]\n",
      "LP: -494.9:   0%|          | 0/1000 [00:00<?, ?it/s]"
     ]
    },
    {
     "name": "stdout",
     "output_type": "stream",
     "text": [
      "Fitting session 23...\n",
      "Fitting 1 states...\n",
      "Fitting 2 states...\n"
     ]
    },
    {
     "name": "stderr",
     "output_type": "stream",
     "text": [
      "Converged to LP: -494.3:   1%|          | 9/1000 [00:00<00:10, 95.58it/s]\n",
      "Converged to LP: -497.7:   1%|          | 11/1000 [00:00<00:10, 96.86it/s] \n",
      "Converged to LP: -479.8:   2%|▏         | 18/1000 [00:00<00:08, 117.99it/s]\n",
      "Converged to LP: -506.8:   2%|▏         | 19/1000 [00:00<00:09, 105.52it/s]\n",
      "Converged to LP: -486.8:   9%|▉         | 93/1000 [00:00<00:06, 138.68it/s]\n",
      "LP: -535.4:   1%|          | 8/1000 [00:00<00:12, 79.27it/s]"
     ]
    },
    {
     "name": "stdout",
     "output_type": "stream",
     "text": [
      "Fitting 3 states...\n"
     ]
    },
    {
     "name": "stderr",
     "output_type": "stream",
     "text": [
      "LP: -541.2:   8%|▊         | 78/1000 [00:00<00:09, 94.27it/s]08, 111.42it/s]\n",
      "Converged to LP: -524.6:  14%|█▍        | 141/1000 [00:01<00:08, 102.07it/s]\n",
      "Converged to LP: -553.4:  26%|██▋       | 264/1000 [00:02<00:06, 108.06it/s]\n",
      "Converged to LP: -531.3:  45%|████▌     | 454/1000 [00:04<00:05, 107.66it/s]\n",
      "Converged to LP: -533.2:  51%|█████     | 508/1000 [00:04<00:04, 117.13it/s]\n",
      "LP: -626.3:   0%|          | 0/1000 [00:00<?, ?it/s]"
     ]
    },
    {
     "name": "stdout",
     "output_type": "stream",
     "text": [
      "Fitting 4 states...\n"
     ]
    },
    {
     "name": "stderr",
     "output_type": "stream",
     "text": [
      "Converged to LP: -564.8:  14%|█▎        | 136/1000 [00:01<00:10, 81.15it/s]\n",
      "Converged to LP: -587.0:  15%|█▌        | 150/1000 [00:01<00:09, 87.53it/s]\n",
      "Converged to LP: -571.5:  53%|█████▎    | 526/1000 [00:05<00:04, 100.66it/s]\n",
      "Converged to LP: -582.3:  74%|███████▎  | 735/1000 [00:07<00:02, 101.15it/s]\n",
      "Converged to LP: -593.0:  82%|████████▏ | 824/1000 [00:07<00:01, 103.58it/s]\n",
      "LP: -651.2:   0%|          | 4/1000 [00:00<00:27, 36.56it/s]"
     ]
    },
    {
     "name": "stdout",
     "output_type": "stream",
     "text": [
      "Fitting 5 states...\n"
     ]
    },
    {
     "name": "stderr",
     "output_type": "stream",
     "text": [
      "Converged to LP: -612.9:  40%|████      | 402/1000 [00:05<00:07, 79.51it/s]\n",
      "Converged to LP: -636.4:  41%|████      | 410/1000 [00:05<00:07, 78.38it/s]\n",
      "Converged to LP: -608.6:  46%|████▋     | 465/1000 [00:06<00:07, 73.00it/s]\n",
      "Converged to LP: -626.5:  57%|█████▋    | 569/1000 [00:07<00:05, 79.17it/s] \n",
      "Converged to LP: -627.7:  81%|████████  | 812/1000 [00:09<00:02, 86.35it/s] \n",
      "Converged to LP: -531.9:   0%|          | 2/1000 [00:00<00:06, 142.69it/s]\n",
      "Converged to LP: -540.6:   0%|          | 2/1000 [00:00<00:06, 149.58it/s]\n",
      "Converged to LP: -524.0:   0%|          | 2/1000 [00:00<00:07, 132.10it/s]\n",
      "Converged to LP: -525.9:   0%|          | 2/1000 [00:00<00:06, 148.16it/s]\n",
      "Converged to LP: -534.2:   0%|          | 2/1000 [00:00<00:05, 167.63it/s]\n",
      "LP: -589.5:   0%|          | 0/1000 [00:00<?, ?it/s]"
     ]
    },
    {
     "name": "stdout",
     "output_type": "stream",
     "text": [
      "Fitting session 24...\n",
      "Fitting 1 states...\n",
      "Fitting 2 states...\n"
     ]
    },
    {
     "name": "stderr",
     "output_type": "stream",
     "text": [
      "Converged to LP: -565.8:   1%|          | 10/1000 [00:00<00:10, 95.67it/s]\n",
      "Converged to LP: -572.1:   1%|▏         | 13/1000 [00:00<00:09, 104.93it/s]\n",
      "Converged to LP: -572.5:   2%|▏         | 21/1000 [00:00<00:08, 110.67it/s]\n",
      "Converged to LP: -582.8:   3%|▎         | 28/1000 [00:00<00:08, 115.95it/s]\n",
      "Converged to LP: -574.1:   4%|▍         | 40/1000 [00:00<00:08, 119.02it/s]\n",
      "LP: -614.0:   0%|          | 0/1000 [00:00<?, ?it/s]"
     ]
    },
    {
     "name": "stdout",
     "output_type": "stream",
     "text": [
      "Fitting 3 states...\n"
     ]
    },
    {
     "name": "stderr",
     "output_type": "stream",
     "text": [
      "Converged to LP: -601.3:  10%|█         | 104/1000 [00:01<00:09, 98.47it/s]\n",
      "Converged to LP: -609.4:  12%|█▏        | 118/1000 [00:01<00:08, 99.66it/s] \n",
      "Converged to LP: -604.1:  14%|█▎        | 136/1000 [00:01<00:09, 93.83it/s] \n",
      "Converged to LP: -626.3:  24%|██▎       | 235/1000 [00:02<00:07, 103.47it/s]\n",
      "Converged to LP: -590.2:  31%|███▏      | 314/1000 [00:02<00:05, 115.36it/s]\n"
     ]
    },
    {
     "name": "stdout",
     "output_type": "stream",
     "text": [
      "Fitting 4 states...\n"
     ]
    },
    {
     "name": "stderr",
     "output_type": "stream",
     "text": [
      "Converged to LP: -637.5:  12%|█▏        | 116/1000 [00:01<00:11, 75.39it/s]\n",
      "Converged to LP: -657.7:  16%|█▌        | 159/1000 [00:02<00:11, 75.75it/s]\n",
      "Converged to LP: -659.2:  26%|██▌       | 262/1000 [00:02<00:08, 87.97it/s] \n",
      "Converged to LP: -644.1:  35%|███▌      | 354/1000 [00:03<00:06, 95.70it/s] \n",
      "Converged to LP: -636.2:  41%|████      | 406/1000 [00:04<00:05, 99.84it/s] \n",
      "LP: -715.8:   0%|          | 5/1000 [00:00<00:21, 46.75it/s]"
     ]
    },
    {
     "name": "stdout",
     "output_type": "stream",
     "text": [
      "Fitting 5 states...\n"
     ]
    },
    {
     "name": "stderr",
     "output_type": "stream",
     "text": [
      "Converged to LP: -695.7:  36%|███▌      | 362/1000 [00:05<00:08, 72.22it/s]\n",
      "Converged to LP: -691.6:  38%|███▊      | 377/1000 [00:05<00:08, 70.04it/s]\n",
      "LP: -703.6:  46%|████▋     | 463/1000 [00:06<00:06, 87.91it/s]7, 70.85it/s]\n",
      "Converged to LP: -703.4:  74%|███████▍  | 740/1000 [00:09<00:03, 78.05it/s]\n",
      "Converged to LP: -703.8:  82%|████████▏ | 824/1000 [00:10<00:02, 78.77it/s]\n",
      "Converged to LP: -302.3:   0%|          | 2/1000 [00:00<00:07, 133.85it/s]\n",
      "Converged to LP: -305.0:   0%|          | 2/1000 [00:00<00:06, 143.38it/s]\n",
      "Converged to LP: -317.7:   0%|          | 2/1000 [00:00<00:06, 157.69it/s]\n",
      "Converged to LP: -301.8:   0%|          | 2/1000 [00:00<00:05, 172.43it/s]\n",
      "Converged to LP: -316.4:   0%|          | 2/1000 [00:00<00:06, 149.47it/s]\n",
      "LP: -365.2:   0%|          | 0/1000 [00:00<?, ?it/s]"
     ]
    },
    {
     "name": "stdout",
     "output_type": "stream",
     "text": [
      "Fitting session 25...\n",
      "Fitting 1 states...\n",
      "Fitting 2 states...\n"
     ]
    },
    {
     "name": "stderr",
     "output_type": "stream",
     "text": [
      "Converged to LP: -348.9:   1%|          | 10/1000 [00:00<00:08, 114.80it/s]\n",
      "Converged to LP: -352.4:   1%|          | 10/1000 [00:00<00:09, 105.05it/s]\n",
      "Converged to LP: -346.1:   1%|          | 8/1000 [00:00<00:09, 104.24it/s]\n",
      "Converged to LP: -360.6:   1%|          | 8/1000 [00:00<00:10, 94.77it/s]\n",
      "Converged to LP: -362.7:   1%|▏         | 13/1000 [00:00<00:10, 98.47it/s]\n",
      "LP: -406.0:   0%|          | 0/1000 [00:00<?, ?it/s]"
     ]
    },
    {
     "name": "stdout",
     "output_type": "stream",
     "text": [
      "Fitting 3 states...\n"
     ]
    },
    {
     "name": "stderr",
     "output_type": "stream",
     "text": [
      "Converged to LP: -398.0:   6%|▌         | 61/1000 [00:00<00:09, 104.15it/s]\n",
      "Converged to LP: -410.0:   6%|▋         | 63/1000 [00:00<00:08, 108.59it/s]\n",
      "Converged to LP: -411.3:   6%|▋         | 65/1000 [00:00<00:08, 104.35it/s]\n",
      "Converged to LP: -396.8:   7%|▋         | 74/1000 [00:00<00:08, 113.87it/s]\n",
      "Converged to LP: -396.1:   9%|▉         | 92/1000 [00:00<00:07, 119.73it/s]\n",
      "LP: -460.8:   0%|          | 0/1000 [00:00<?, ?it/s]"
     ]
    },
    {
     "name": "stdout",
     "output_type": "stream",
     "text": [
      "Fitting 4 states...\n"
     ]
    },
    {
     "name": "stderr",
     "output_type": "stream",
     "text": [
      "Converged to LP: -445.8:  15%|█▍        | 146/1000 [00:01<00:07, 111.19it/s]\n",
      "Converged to LP: -433.0:  22%|██▏       | 224/1000 [00:01<00:06, 116.91it/s]\n",
      "Converged to LP: -435.3:  25%|██▌       | 251/1000 [00:02<00:06, 112.41it/s]\n",
      "Converged to LP: -444.0:  32%|███▏      | 315/1000 [00:02<00:06, 109.55it/s]\n",
      "Converged to LP: -444.6:  45%|████▍     | 448/1000 [00:03<00:04, 127.26it/s]\n",
      "LP: -518.8:   1%|          | 6/1000 [00:00<00:17, 56.62it/s]"
     ]
    },
    {
     "name": "stdout",
     "output_type": "stream",
     "text": [
      "Fitting 5 states...\n"
     ]
    },
    {
     "name": "stderr",
     "output_type": "stream",
     "text": [
      "Converged to LP: -500.0:  22%|██▏       | 219/1000 [00:02<00:09, 86.14it/s] \n",
      "Converged to LP: -486.8:  42%|████▏     | 419/1000 [00:04<00:06, 90.72it/s] \n",
      "Converged to LP: -483.9:  44%|████▍     | 438/1000 [00:04<00:05, 93.94it/s] \n",
      "Converged to LP: -480.3:  67%|██████▋   | 673/1000 [00:06<00:03, 96.91it/s] \n",
      "Converged to LP: -488.1:  95%|█████████▌| 950/1000 [00:09<00:00, 104.44it/s]\n"
     ]
    },
    {
     "name": "stdout",
     "output_type": "stream",
     "text": [
      "Fitting session 26...\n",
      "Fitting 1 states...\n",
      "Fitting 2 states...\n"
     ]
    },
    {
     "name": "stderr",
     "output_type": "stream",
     "text": [
      "Converged to LP: -508.5:   0%|          | 2/1000 [00:00<00:06, 144.43it/s]\n",
      "Converged to LP: -514.9:   0%|          | 2/1000 [00:00<00:06, 143.26it/s]\n",
      "Converged to LP: -514.6:   0%|          | 2/1000 [00:00<00:07, 137.36it/s]\n",
      "Converged to LP: -513.9:   0%|          | 2/1000 [00:00<00:06, 148.84it/s]\n",
      "Converged to LP: -503.3:   0%|          | 2/1000 [00:00<00:06, 152.04it/s]\n",
      "Converged to LP: -540.6:   1%|          | 7/1000 [00:00<00:08, 122.56it/s]\n",
      "LP: -545.0:   0%|          | 0/1000 [00:00<?, ?it/s]:00<00:08, 114.28it/s]\n",
      "Converged to LP: -552.1:   1%|          | 7/1000 [00:00<00:10, 94.33it/s]\n",
      "Converged to LP: -545.0:   1%|          | 11/1000 [00:00<00:08, 114.14it/s]\n",
      "Converged to LP: -532.6:   1%|          | 8/1000 [00:00<00:11, 84.73it/s]\n",
      "LP: -586.8:   1%|          | 8/1000 [00:00<00:13, 75.64it/s]"
     ]
    },
    {
     "name": "stdout",
     "output_type": "stream",
     "text": [
      "Fitting 3 states...\n"
     ]
    },
    {
     "name": "stderr",
     "output_type": "stream",
     "text": [
      "Converged to LP: -599.6:   6%|▋         | 65/1000 [00:00<00:09, 102.03it/s]\n",
      "Converged to LP: -595.5:   8%|▊         | 85/1000 [00:00<00:10, 90.59it/s] \n",
      "Converged to LP: -604.7:  12%|█▏        | 115/1000 [00:01<00:08, 108.04it/s]\n",
      "Converged to LP: -584.7:  18%|█▊        | 184/1000 [00:01<00:06, 127.81it/s]\n",
      "Converged to LP: -598.3:  21%|██        | 211/1000 [00:01<00:06, 122.56it/s]\n",
      "LP: -687.2:   0%|          | 0/1000 [00:00<?, ?it/s]"
     ]
    },
    {
     "name": "stdout",
     "output_type": "stream",
     "text": [
      "Fitting 4 states...\n"
     ]
    },
    {
     "name": "stderr",
     "output_type": "stream",
     "text": [
      "Converged to LP: -640.5:  11%|█▏        | 113/1000 [00:01<00:11, 78.13it/s]\n",
      "Converged to LP: -643.3:  11%|█         | 112/1000 [00:01<00:12, 72.17it/s]\n",
      "Converged to LP: -621.7:  14%|█▍        | 145/1000 [00:01<00:10, 81.68it/s] \n",
      "Converged to LP: -612.9:  32%|███▏      | 320/1000 [00:03<00:07, 93.45it/s] \n",
      "Converged to LP: -632.9:  34%|███▍      | 340/1000 [00:03<00:07, 90.97it/s] \n",
      "LP: -698.6:   0%|          | 5/1000 [00:00<00:22, 45.01it/s]"
     ]
    },
    {
     "name": "stdout",
     "output_type": "stream",
     "text": [
      "Fitting 5 states...\n"
     ]
    },
    {
     "name": "stderr",
     "output_type": "stream",
     "text": [
      "Converged to LP: -671.2:  26%|██▌       | 262/1000 [00:03<00:10, 69.06it/s]\n",
      "Converged to LP: -680.0:  40%|████      | 405/1000 [00:05<00:07, 76.93it/s]\n",
      "Converged to LP: -689.8:  56%|█████▋    | 564/1000 [00:07<00:05, 80.21it/s]\n",
      "Converged to LP: -680.1:  58%|█████▊    | 579/1000 [00:07<00:05, 79.08it/s] \n",
      "Converged to LP: -689.7:  65%|██████▌   | 653/1000 [00:08<00:04, 80.89it/s] \n",
      "Converged to LP: -497.3:   0%|          | 2/1000 [00:00<00:06, 153.16it/s]\n",
      "Converged to LP: -491.6:   0%|          | 2/1000 [00:00<00:06, 154.79it/s]\n",
      "Converged to LP: -476.5:   0%|          | 2/1000 [00:00<00:06, 144.49it/s]\n",
      "Converged to LP: -486.4:   0%|          | 2/1000 [00:00<00:06, 159.52it/s]\n",
      "Converged to LP: -491.6:   0%|          | 2/1000 [00:00<00:06, 165.69it/s]\n",
      "Converged to LP: -542.3:   1%|          | 9/1000 [00:00<00:07, 126.80it/s]\n",
      "LP: -531.5:   0%|          | 0/1000 [00:00<?, ?it/s]"
     ]
    },
    {
     "name": "stdout",
     "output_type": "stream",
     "text": [
      "Fitting session 27...\n",
      "Fitting 1 states...\n",
      "Fitting 2 states...\n"
     ]
    },
    {
     "name": "stderr",
     "output_type": "stream",
     "text": [
      "Converged to LP: -518.7:   1%|          | 9/1000 [00:00<00:07, 133.15it/s]\n",
      "Converged to LP: -531.5:   1%|          | 8/1000 [00:00<00:07, 139.61it/s]\n",
      "Converged to LP: -537.2:   1%|          | 11/1000 [00:00<00:07, 132.90it/s]\n",
      "Converged to LP: -539.0:   1%|          | 11/1000 [00:00<00:07, 139.99it/s]\n",
      "LP: -578.0:   1%|          | 7/1000 [00:00<00:15, 63.83it/s]"
     ]
    },
    {
     "name": "stdout",
     "output_type": "stream",
     "text": [
      "Fitting 3 states...\n"
     ]
    },
    {
     "name": "stderr",
     "output_type": "stream",
     "text": [
      "Converged to LP: -570.1:   5%|▌         | 53/1000 [00:00<00:09, 96.06it/s] \n",
      "Converged to LP: -572.1:   6%|▌         | 62/1000 [00:00<00:09, 94.61it/s] \n",
      "Converged to LP: -559.4:   7%|▋         | 67/1000 [00:00<00:09, 100.25it/s]\n",
      "Converged to LP: -564.0:  17%|█▋        | 167/1000 [00:01<00:07, 115.05it/s]\n",
      "Converged to LP: -571.8:  18%|█▊        | 185/1000 [00:01<00:07, 107.54it/s]\n",
      "LP: -626.5:   0%|          | 5/1000 [00:00<00:22, 43.66it/s]"
     ]
    },
    {
     "name": "stdout",
     "output_type": "stream",
     "text": [
      "Fitting 4 states...\n"
     ]
    },
    {
     "name": "stderr",
     "output_type": "stream",
     "text": [
      "Converged to LP: -627.5:  14%|█▍        | 143/1000 [00:01<00:09, 94.40it/s]\n",
      "Converged to LP: -614.2:  16%|█▌        | 159/1000 [00:01<00:09, 90.93it/s] \n",
      "Converged to LP: -607.7:  22%|██▏       | 216/1000 [00:02<00:08, 96.95it/s] \n",
      "Converged to LP: -588.6:  30%|███       | 303/1000 [00:02<00:06, 103.40it/s]\n",
      "Converged to LP: -611.9:  43%|████▎     | 432/1000 [00:04<00:05, 100.38it/s]\n",
      "LP: -696.3:   0%|          | 0/1000 [00:00<?, ?it/s].66it/s]"
     ]
    },
    {
     "name": "stdout",
     "output_type": "stream",
     "text": [
      "Fitting 5 states...\n"
     ]
    },
    {
     "name": "stderr",
     "output_type": "stream",
     "text": [
      "Converged to LP: -651.5:  30%|██▉       | 295/1000 [00:03<00:09, 75.73it/s]\n",
      "Converged to LP: -668.3:  29%|██▉       | 292/1000 [00:03<00:09, 73.99it/s]\n",
      "Converged to LP: -628.0:  31%|███       | 307/1000 [00:04<00:09, 73.66it/s]\n",
      "Converged to LP: -656.7:  32%|███▏      | 318/1000 [00:04<00:08, 76.50it/s]\n",
      "Converged to LP: -656.5:  86%|████████▌ | 859/1000 [00:09<00:01, 88.12it/s]\n"
     ]
    },
    {
     "name": "stdout",
     "output_type": "stream",
     "text": [
      "Fitting session 28...\n",
      "Fitting 1 states...\n",
      "Fitting 2 states...\n"
     ]
    },
    {
     "name": "stderr",
     "output_type": "stream",
     "text": [
      "Converged to LP: -474.0:   0%|          | 2/1000 [00:00<00:08, 114.23it/s]\n",
      "Converged to LP: -467.0:   0%|          | 2/1000 [00:00<00:07, 129.34it/s]\n",
      "Converged to LP: -467.1:   0%|          | 2/1000 [00:00<00:08, 122.70it/s]\n",
      "Converged to LP: -486.0:   0%|          | 2/1000 [00:00<00:07, 140.16it/s]\n",
      "Converged to LP: -492.3:   0%|          | 2/1000 [00:00<00:06, 152.95it/s]\n",
      "Converged to LP: -513.1:   1%|          | 11/1000 [00:00<00:07, 126.99it/s]\n",
      "Converged to LP: -503.5:   1%|          | 8/1000 [00:00<00:08, 117.24it/s]\n",
      "Converged to LP: -520.2:   1%|          | 7/1000 [00:00<00:08, 121.82it/s]\n",
      "Converged to LP: -500.5:   1%|          | 12/1000 [00:00<00:07, 124.94it/s]\n",
      "Converged to LP: -529.8:   1%|          | 11/1000 [00:00<00:08, 119.75it/s]\n",
      "LP: -543.2:   1%|          | 6/1000 [00:00<00:17, 57.27it/s]"
     ]
    },
    {
     "name": "stdout",
     "output_type": "stream",
     "text": [
      "Fitting 3 states...\n"
     ]
    },
    {
     "name": "stderr",
     "output_type": "stream",
     "text": [
      "Converged to LP: -556.5:   5%|▌         | 53/1000 [00:00<00:09, 96.24it/s] \n",
      "Converged to LP: -531.4:  10%|▉         | 95/1000 [00:01<00:10, 88.62it/s] \n",
      "Converged to LP: -551.1:  10%|█         | 104/1000 [00:01<00:10, 86.63it/s] \n",
      "Converged to LP: -566.4:  11%|█         | 109/1000 [00:01<00:09, 89.37it/s] \n",
      "Converged to LP: -556.2:  38%|███▊      | 378/1000 [00:03<00:05, 111.27it/s]\n",
      "LP: -648.5:   0%|          | 0/1000 [00:00<?, ?it/s]"
     ]
    },
    {
     "name": "stdout",
     "output_type": "stream",
     "text": [
      "Fitting 4 states...\n"
     ]
    },
    {
     "name": "stderr",
     "output_type": "stream",
     "text": [
      "Converged to LP: -607.5:   5%|▍         | 49/1000 [00:00<00:13, 72.96it/s]\n",
      "Converged to LP: -595.2:  19%|█▉        | 194/1000 [00:02<00:09, 89.40it/s] \n",
      "Converged to LP: -599.4:  24%|██▍       | 244/1000 [00:02<00:07, 97.37it/s] \n",
      "Converged to LP: -621.3:  24%|██▎       | 235/1000 [00:02<00:08, 90.68it/s] \n",
      "Converged to LP: -602.7:  39%|███▉      | 391/1000 [00:03<00:06, 101.36it/s]\n",
      "LP: -675.5:   0%|          | 4/1000 [00:00<00:26, 37.51it/s]"
     ]
    },
    {
     "name": "stdout",
     "output_type": "stream",
     "text": [
      "Fitting 5 states...\n"
     ]
    },
    {
     "name": "stderr",
     "output_type": "stream",
     "text": [
      "Converged to LP: -647.6:  30%|███       | 303/1000 [00:04<00:10, 68.46it/s]\n",
      "Converged to LP: -625.8:  43%|████▎     | 432/1000 [00:06<00:08, 67.63it/s]\n",
      "Converged to LP: -648.7:  53%|█████▎    | 533/1000 [00:07<00:06, 70.87it/s]\n",
      "LP: -645.3: 100%|██████████| 1000/1000 [00:12<00:00, 81.26it/s]\n",
      "LP: -654.8: 100%|██████████| 1000/1000 [00:12<00:00, 80.63it/s] \n",
      "Converged to LP: -498.4:   0%|          | 2/1000 [00:00<00:06, 152.40it/s]\n",
      "Converged to LP: -499.8:   0%|          | 2/1000 [00:00<00:07, 133.48it/s]\n",
      "Converged to LP: -503.9:   0%|          | 2/1000 [00:00<00:06, 155.22it/s]\n",
      "Converged to LP: -502.8:   0%|          | 2/1000 [00:00<00:06, 155.83it/s]\n",
      "Converged to LP: -515.1:   0%|          | 2/1000 [00:00<00:06, 146.93it/s]\n",
      "LP: -542.9:   0%|          | 0/1000 [00:00<?, ?it/s]"
     ]
    },
    {
     "name": "stdout",
     "output_type": "stream",
     "text": [
      "Fitting session 29...\n",
      "Fitting 1 states...\n",
      "Fitting 2 states...\n"
     ]
    },
    {
     "name": "stderr",
     "output_type": "stream",
     "text": [
      "LP: -542.7:   0%|          | 0/1000 [00:00<?, ?it/s]0:00<00:08, 115.31it/s]\n",
      "Converged to LP: -539.6:   1%|▏         | 13/1000 [00:00<00:09, 107.30it/s]\n",
      "Converged to LP: -544.2:   1%|          | 11/1000 [00:00<00:10, 95.75it/s]\n",
      "Converged to LP: -542.7:   1%|          | 11/1000 [00:00<00:09, 103.48it/s]\n",
      "Converged to LP: -555.6:   1%|          | 11/1000 [00:00<00:09, 100.68it/s]\n",
      "LP: -585.7:   0%|          | 0/1000 [00:00<?, ?it/s].57it/s]"
     ]
    },
    {
     "name": "stdout",
     "output_type": "stream",
     "text": [
      "Fitting 3 states...\n"
     ]
    },
    {
     "name": "stderr",
     "output_type": "stream",
     "text": [
      "Converged to LP: -576.6:  11%|█         | 106/1000 [00:01<00:08, 102.58it/s]\n",
      "Converged to LP: -581.1:  11%|█         | 112/1000 [00:01<00:08, 101.78it/s]\n",
      "Converged to LP: -572.7:  11%|█▏        | 113/1000 [00:01<00:09, 95.34it/s] \n",
      "Converged to LP: -585.2:  14%|█▍        | 142/1000 [00:01<00:08, 100.56it/s]\n",
      "Converged to LP: -568.5:  17%|█▋        | 172/1000 [00:01<00:08, 100.85it/s]\n"
     ]
    },
    {
     "name": "stdout",
     "output_type": "stream",
     "text": [
      "Fitting 4 states...\n"
     ]
    },
    {
     "name": "stderr",
     "output_type": "stream",
     "text": [
      "Converged to LP: -620.1:  16%|█▌        | 159/1000 [00:01<00:10, 83.55it/s]\n",
      "Converged to LP: -619.3:  30%|███       | 301/1000 [00:03<00:07, 92.55it/s]\n",
      "Converged to LP: -621.2:  32%|███▏      | 322/1000 [00:03<00:07, 94.39it/s] \n",
      "Converged to LP: -637.7:  76%|███████▋  | 763/1000 [00:07<00:02, 105.20it/s]\n",
      "LP: -623.8: 100%|██████████| 1000/1000 [00:09<00:00, 107.93it/s]\n",
      "LP: -696.2:   0%|          | 0/1000 [00:00<?, ?it/s]"
     ]
    },
    {
     "name": "stdout",
     "output_type": "stream",
     "text": [
      "Fitting 5 states...\n"
     ]
    },
    {
     "name": "stderr",
     "output_type": "stream",
     "text": [
      "Converged to LP: -674.2:  14%|█▍        | 141/1000 [00:02<00:12, 69.88it/s]\n",
      "Converged to LP: -671.1:  18%|█▊        | 185/1000 [00:02<00:11, 71.74it/s]\n",
      "Converged to LP: -662.8:  23%|██▎       | 229/1000 [00:02<00:09, 77.45it/s]\n",
      "Converged to LP: -663.9:  42%|████▏     | 423/1000 [00:05<00:07, 81.96it/s]\n",
      "Converged to LP: -667.1:  80%|███████▉  | 797/1000 [00:08<00:02, 89.05it/s] \n",
      "Converged to LP: -518.0:   0%|          | 2/1000 [00:00<00:08, 120.64it/s]\n",
      "Converged to LP: -515.0:   0%|          | 2/1000 [00:00<00:07, 131.62it/s]\n",
      "Converged to LP: -527.4:   0%|          | 2/1000 [00:00<00:07, 140.24it/s]\n",
      "Converged to LP: -517.6:   0%|          | 2/1000 [00:00<00:07, 142.39it/s]\n"
     ]
    },
    {
     "name": "stdout",
     "output_type": "stream",
     "text": [
      "Fitting session 30...\n",
      "Fitting 1 states...\n",
      "Fitting 2 states...\n"
     ]
    },
    {
     "name": "stderr",
     "output_type": "stream",
     "text": [
      "Converged to LP: -516.6:   0%|          | 2/1000 [00:00<00:07, 138.45it/s]\n",
      "Converged to LP: -551.3:   2%|▏         | 15/1000 [00:00<00:07, 124.88it/s]\n",
      "Converged to LP: -561.3:   1%|          | 12/1000 [00:00<00:08, 110.77it/s]\n",
      "Converged to LP: -552.0:   2%|▏         | 15/1000 [00:00<00:07, 124.63it/s]\n",
      "Converged to LP: -545.1:   1%|          | 11/1000 [00:00<00:10, 98.22it/s]\n",
      "Converged to LP: -553.2:   2%|▎         | 25/1000 [00:00<00:07, 127.74it/s]\n",
      "LP: -592.6:   1%|          | 8/1000 [00:00<00:13, 74.87it/s]"
     ]
    },
    {
     "name": "stdout",
     "output_type": "stream",
     "text": [
      "Fitting 3 states...\n"
     ]
    },
    {
     "name": "stderr",
     "output_type": "stream",
     "text": [
      "Converged to LP: -604.3:   6%|▌         | 55/1000 [00:00<00:10, 92.29it/s]\n",
      "Converged to LP: -595.5:   7%|▋         | 73/1000 [00:00<00:10, 88.77it/s]\n",
      "Converged to LP: -601.4:   9%|▉         | 92/1000 [00:00<00:08, 104.42it/s]\n",
      "Converged to LP: -588.9:   9%|▉         | 89/1000 [00:00<00:09, 97.92it/s] \n",
      "Converged to LP: -598.4:  10%|█         | 103/1000 [00:01<00:09, 98.61it/s]\n",
      "LP: -643.4:   0%|          | 0/1000 [00:00<?, ?it/s]"
     ]
    },
    {
     "name": "stdout",
     "output_type": "stream",
     "text": [
      "Fitting 4 states...\n"
     ]
    },
    {
     "name": "stderr",
     "output_type": "stream",
     "text": [
      "Converged to LP: -637.2:   5%|▍         | 46/1000 [00:00<00:12, 74.77it/s]\n",
      "Converged to LP: -637.0:  19%|█▉        | 189/1000 [00:02<00:08, 91.79it/s] \n",
      "Converged to LP: -627.8:  24%|██▎       | 236/1000 [00:02<00:07, 96.92it/s] \n",
      "Converged to LP: -630.0:  23%|██▎       | 233/1000 [00:02<00:08, 94.08it/s] \n",
      "Converged to LP: -635.8:  29%|██▉       | 290/1000 [00:03<00:07, 92.33it/s] \n"
     ]
    },
    {
     "name": "stdout",
     "output_type": "stream",
     "text": [
      "Fitting 5 states...\n"
     ]
    },
    {
     "name": "stderr",
     "output_type": "stream",
     "text": [
      "Converged to LP: -676.0:  23%|██▎       | 233/1000 [00:03<00:10, 70.34it/s]\n",
      "Converged to LP: -676.5:  27%|██▋       | 274/1000 [00:03<00:09, 76.29it/s]\n",
      "Converged to LP: -657.3:  29%|██▉       | 290/1000 [00:04<00:10, 70.99it/s]\n",
      "Converged to LP: -686.2:  46%|████▌     | 458/1000 [00:05<00:06, 82.08it/s] \n",
      "Converged to LP: -676.4:  66%|██████▌   | 662/1000 [00:07<00:04, 83.85it/s] \n",
      "LP: -419.4:   0%|          | 0/1000 [00:00<?, ?it/s]"
     ]
    },
    {
     "name": "stdout",
     "output_type": "stream",
     "text": [
      "Fitting session 31...\n",
      "Fitting 1 states...\n",
      "Fitting 2 states...\n"
     ]
    },
    {
     "name": "stderr",
     "output_type": "stream",
     "text": [
      "Converged to LP: -415.0:   0%|          | 2/1000 [00:00<00:06, 144.10it/s]\n",
      "Converged to LP: -420.0:   0%|          | 2/1000 [00:00<00:08, 122.47it/s]\n",
      "Converged to LP: -423.5:   0%|          | 2/1000 [00:00<00:06, 157.36it/s]\n",
      "Converged to LP: -412.3:   0%|          | 2/1000 [00:00<00:06, 151.63it/s]\n",
      "Converged to LP: -440.1:   0%|          | 2/1000 [00:00<00:05, 180.37it/s]\n",
      "Converged to LP: -465.9:   2%|▎         | 25/1000 [00:00<00:09, 104.96it/s]\n",
      "Converged to LP: -456.6:   4%|▍         | 44/1000 [00:00<00:08, 113.08it/s]\n",
      "Converged to LP: -489.3:   7%|▋         | 72/1000 [00:00<00:07, 126.63it/s]\n",
      "Converged to LP: -455.8:   8%|▊         | 84/1000 [00:00<00:07, 124.44it/s]\n",
      "Converged to LP: -465.6:  15%|█▌        | 153/1000 [00:01<00:06, 133.02it/s]\n",
      "LP: -542.1:   1%|          | 8/1000 [00:00<00:12, 78.55it/s]"
     ]
    },
    {
     "name": "stdout",
     "output_type": "stream",
     "text": [
      "Fitting 3 states...\n"
     ]
    },
    {
     "name": "stderr",
     "output_type": "stream",
     "text": [
      "Converged to LP: -539.8:   8%|▊         | 76/1000 [00:00<00:08, 105.11it/s]\n",
      "Converged to LP: -498.7:   7%|▋         | 74/1000 [00:00<00:09, 97.05it/s] \n",
      "Converged to LP: -516.7:  11%|█         | 108/1000 [00:00<00:08, 108.55it/s]\n",
      "Converged to LP: -502.8:  18%|█▊        | 181/1000 [00:01<00:07, 116.53it/s]\n",
      "Converged to LP: -518.0:  18%|█▊        | 184/1000 [00:01<00:07, 106.82it/s]\n",
      "LP: -597.3:   0%|          | 0/1000 [00:00<?, ?it/s]"
     ]
    },
    {
     "name": "stdout",
     "output_type": "stream",
     "text": [
      "Fitting 4 states...\n"
     ]
    },
    {
     "name": "stderr",
     "output_type": "stream",
     "text": [
      "Converged to LP: -565.7:  10%|█         | 104/1000 [00:01<00:11, 76.69it/s]\n",
      "Converged to LP: -552.3:  25%|██▌       | 250/1000 [00:02<00:07, 95.04it/s] \n",
      "Converged to LP: -566.8:  31%|███       | 312/1000 [00:03<00:07, 90.38it/s] \n",
      "Converged to LP: -585.6:  83%|████████▎ | 831/1000 [00:08<00:01, 103.54it/s]\n",
      "Converged to LP: -535.3:  91%|█████████ | 908/1000 [00:08<00:00, 103.33it/s]\n",
      "LP: -623.3:   0%|          | 5/1000 [00:00<00:22, 44.48it/s]"
     ]
    },
    {
     "name": "stdout",
     "output_type": "stream",
     "text": [
      "Fitting 5 states...\n"
     ]
    },
    {
     "name": "stderr",
     "output_type": "stream",
     "text": [
      "Converged to LP: -599.9:  36%|███▌      | 356/1000 [00:04<00:08, 77.36it/s]\n",
      "Converged to LP: -605.7:  63%|██████▎   | 634/1000 [00:07<00:04, 83.25it/s]\n",
      "Converged to LP: -588.7:  86%|████████▌ | 861/1000 [00:09<00:01, 87.26it/s]\n",
      "Converged to LP: -591.2:  87%|████████▋ | 870/1000 [00:10<00:01, 86.08it/s]\n",
      "LP: -621.1: 100%|██████████| 1000/1000 [00:11<00:00, 89.01it/s]\n",
      "Converged to LP: -481.8:   0%|          | 2/1000 [00:00<00:06, 149.68it/s]\n",
      "Converged to LP: -495.6:   0%|          | 2/1000 [00:00<00:06, 160.55it/s]\n",
      "Converged to LP: -484.2:   0%|          | 2/1000 [00:00<00:06, 148.53it/s]\n",
      "Converged to LP: -471.7:   0%|          | 2/1000 [00:00<00:07, 139.61it/s]\n",
      "Converged to LP: -490.3:   0%|          | 2/1000 [00:00<00:08, 124.40it/s]\n"
     ]
    },
    {
     "name": "stdout",
     "output_type": "stream",
     "text": [
      "Fitting session 32...\n",
      "Fitting 1 states...\n",
      "Fitting 2 states...\n"
     ]
    },
    {
     "name": "stderr",
     "output_type": "stream",
     "text": [
      "Converged to LP: -534.8:   1%|          | 6/1000 [00:00<00:12, 82.41it/s]\n",
      "Converged to LP: -529.1:   2%|▏         | 21/1000 [00:00<00:08, 117.34it/s]\n",
      "Converged to LP: -528.2:   3%|▎         | 28/1000 [00:00<00:08, 111.68it/s]\n",
      "Converged to LP: -534.6:   3%|▎         | 28/1000 [00:00<00:08, 117.29it/s]\n",
      "Converged to LP: -517.1:   8%|▊         | 80/1000 [00:00<00:06, 136.74it/s]\n",
      "LP: -587.5:   1%|          | 8/1000 [00:00<00:14, 70.00it/s]"
     ]
    },
    {
     "name": "stdout",
     "output_type": "stream",
     "text": [
      "Fitting 3 states...\n"
     ]
    },
    {
     "name": "stderr",
     "output_type": "stream",
     "text": [
      "Converged to LP: -586.6:   6%|▌         | 62/1000 [00:00<00:08, 106.05it/s]\n",
      "Converged to LP: -573.9:   7%|▋         | 68/1000 [00:00<00:10, 89.16it/s]\n",
      "Converged to LP: -587.3:   9%|▉         | 90/1000 [00:00<00:08, 106.50it/s]\n",
      "Converged to LP: -566.4:  14%|█▍        | 144/1000 [00:01<00:07, 120.73it/s]\n",
      "Converged to LP: -577.0:  16%|█▋        | 165/1000 [00:01<00:06, 123.35it/s]\n"
     ]
    },
    {
     "name": "stdout",
     "output_type": "stream",
     "text": [
      "Fitting 4 states...\n"
     ]
    },
    {
     "name": "stderr",
     "output_type": "stream",
     "text": [
      "Converged to LP: -613.6:  25%|██▌       | 251/1000 [00:02<00:08, 90.17it/s] \n",
      "Converged to LP: -629.4:  26%|██▌       | 256/1000 [00:02<00:08, 88.69it/s] \n",
      "Converged to LP: -609.8:  28%|██▊       | 276/1000 [00:03<00:08, 86.14it/s]\n",
      "Converged to LP: -629.8:  37%|███▋      | 371/1000 [00:03<00:06, 93.09it/s] \n",
      "Converged to LP: -620.0:  42%|████▏     | 421/1000 [00:04<00:05, 97.31it/s] \n",
      "LP: -697.7:   0%|          | 0/1000 [00:00<?, ?it/s]"
     ]
    },
    {
     "name": "stdout",
     "output_type": "stream",
     "text": [
      "Fitting 5 states...\n"
     ]
    },
    {
     "name": "stderr",
     "output_type": "stream",
     "text": [
      "Converged to LP: -662.7:  38%|███▊      | 382/1000 [00:05<00:08, 75.66it/s]\n",
      "Converged to LP: -660.3:  50%|████▉     | 496/1000 [00:06<00:06, 79.39it/s]\n",
      "Converged to LP: -684.8:  53%|█████▎    | 528/1000 [00:06<00:05, 81.25it/s]\n",
      "Converged to LP: -659.8:  57%|█████▋    | 568/1000 [00:07<00:05, 75.89it/s] \n",
      "Converged to LP: -653.0:  72%|███████▏  | 717/1000 [00:08<00:03, 84.31it/s] \n",
      "Converged to LP: -510.8:   0%|          | 2/1000 [00:00<00:06, 144.50it/s]\n",
      "Converged to LP: -539.1:   0%|          | 2/1000 [00:00<00:06, 144.87it/s]\n",
      "Converged to LP: -531.7:   0%|          | 2/1000 [00:00<00:09, 109.15it/s]\n",
      "Converged to LP: -529.4:   0%|          | 2/1000 [00:00<00:06, 146.66it/s]\n",
      "Converged to LP: -531.1:   0%|          | 2/1000 [00:00<00:05, 169.93it/s]\n",
      "LP: -541.4:   0%|          | 0/1000 [00:00<?, ?it/s]"
     ]
    },
    {
     "name": "stdout",
     "output_type": "stream",
     "text": [
      "Fitting session 33...\n",
      "Fitting 1 states...\n",
      "Fitting 2 states...\n"
     ]
    },
    {
     "name": "stderr",
     "output_type": "stream",
     "text": [
      "Converged to LP: -537.4:   1%|▏         | 13/1000 [00:00<00:10, 93.00it/s]\n",
      "Converged to LP: -563.5:   1%|          | 11/1000 [00:00<00:10, 93.32it/s]\n",
      "Converged to LP: -551.7:   1%|          | 11/1000 [00:00<00:11, 89.89it/s]\n",
      "Converged to LP: -573.2:   2%|▏         | 15/1000 [00:00<00:09, 98.70it/s]\n",
      "Converged to LP: -557.0:   1%|▏         | 13/1000 [00:00<00:09, 104.99it/s]\n",
      "LP: -631.5:   0%|          | 0/1000 [00:00<?, ?it/s]"
     ]
    },
    {
     "name": "stdout",
     "output_type": "stream",
     "text": [
      "Fitting 3 states...\n"
     ]
    },
    {
     "name": "stderr",
     "output_type": "stream",
     "text": [
      "Converged to LP: -579.2:   4%|▍         | 45/1000 [00:00<00:10, 87.59it/s]\n",
      "Converged to LP: -592.8:  10%|▉         | 95/1000 [00:00<00:08, 110.28it/s]\n",
      "Converged to LP: -591.1:  11%|█▏        | 113/1000 [00:01<00:08, 106.85it/s]\n",
      "Converged to LP: -597.5:  16%|█▌        | 159/1000 [00:01<00:07, 119.83it/s]\n",
      "Converged to LP: -615.8:  20%|██        | 205/1000 [00:01<00:06, 128.87it/s]\n",
      "LP: -673.0:   0%|          | 0/1000 [00:00<?, ?it/s]"
     ]
    },
    {
     "name": "stdout",
     "output_type": "stream",
     "text": [
      "Fitting 4 states...\n"
     ]
    },
    {
     "name": "stderr",
     "output_type": "stream",
     "text": [
      "LP: -643.0:  13%|█▎        | 133/1000 [00:01<00:08, 96.71it/s]0, 83.66it/s] \n",
      "Converged to LP: -630.6:  15%|█▍        | 147/1000 [00:01<00:09, 85.50it/s] \n",
      "Converged to LP: -619.9:  31%|███       | 310/1000 [00:03<00:07, 90.69it/s] \n",
      "Converged to LP: -633.6:  34%|███▍      | 340/1000 [00:03<00:07, 92.03it/s] \n",
      "Converged to LP: -641.6:  46%|████▌     | 459/1000 [00:04<00:05, 98.80it/s] \n",
      "LP: -718.3:   0%|          | 0/1000 [00:00<?, ?it/s]"
     ]
    },
    {
     "name": "stdout",
     "output_type": "stream",
     "text": [
      "Fitting 5 states...\n"
     ]
    },
    {
     "name": "stderr",
     "output_type": "stream",
     "text": [
      "Converged to LP: -662.2:  29%|██▉       | 291/1000 [00:04<00:10, 69.47it/s]\n",
      "Converged to LP: -678.2:  35%|███▌      | 354/1000 [00:04<00:08, 73.31it/s]\n",
      "Converged to LP: -676.2:  60%|██████    | 603/1000 [00:07<00:04, 79.98it/s]\n",
      "Converged to LP: -669.9:  70%|███████   | 704/1000 [00:08<00:03, 78.79it/s]\n",
      "LP: -684.2: 100%|██████████| 1000/1000 [00:11<00:00, 85.01it/s]\n",
      "Converged to LP: -476.4:   0%|          | 2/1000 [00:00<00:06, 151.22it/s]\n",
      "Converged to LP: -479.6:   0%|          | 2/1000 [00:00<00:07, 136.98it/s]\n",
      "Converged to LP: -488.5:   0%|          | 2/1000 [00:00<00:07, 137.78it/s]\n",
      "Converged to LP: -491.9:   0%|          | 2/1000 [00:00<00:06, 160.94it/s]\n",
      "Converged to LP: -487.8:   0%|          | 2/1000 [00:00<00:06, 164.72it/s]\n",
      "LP: -534.8:   0%|          | 0/1000 [00:00<?, ?it/s]"
     ]
    },
    {
     "name": "stdout",
     "output_type": "stream",
     "text": [
      "Fitting session 34...\n",
      "Fitting 1 states...\n",
      "Fitting 2 states...\n"
     ]
    },
    {
     "name": "stderr",
     "output_type": "stream",
     "text": [
      "Converged to LP: -521.7:   1%|          | 8/1000 [00:00<00:09, 105.17it/s]\n",
      "Converged to LP: -530.1:   1%|          | 11/1000 [00:00<00:09, 103.74it/s]\n",
      "Converged to LP: -532.2:   2%|▏         | 19/1000 [00:00<00:08, 113.47it/s]\n",
      "Converged to LP: -525.7:   4%|▍         | 44/1000 [00:00<00:07, 132.99it/s]\n",
      "Converged to LP: -531.8:   5%|▌         | 50/1000 [00:00<00:07, 129.66it/s]\n",
      "LP: -592.1:   0%|          | 0/1000 [00:00<?, ?it/s]"
     ]
    },
    {
     "name": "stdout",
     "output_type": "stream",
     "text": [
      "Fitting 3 states...\n"
     ]
    },
    {
     "name": "stderr",
     "output_type": "stream",
     "text": [
      "Converged to LP: -562.9:   8%|▊         | 79/1000 [00:00<00:09, 93.11it/s] \n",
      "Converged to LP: -569.4:   7%|▋         | 69/1000 [00:00<00:11, 80.91it/s]\n",
      "Converged to LP: -574.5:   8%|▊         | 78/1000 [00:00<00:09, 92.51it/s] \n",
      "Converged to LP: -572.2:  10%|█         | 103/1000 [00:01<00:09, 96.17it/s] \n",
      "Converged to LP: -571.1:  14%|█▎        | 136/1000 [00:01<00:07, 108.65it/s]\n",
      "LP: -629.0:   1%|          | 7/1000 [00:00<00:15, 62.95it/s]"
     ]
    },
    {
     "name": "stdout",
     "output_type": "stream",
     "text": [
      "Fitting 4 states...\n"
     ]
    },
    {
     "name": "stderr",
     "output_type": "stream",
     "text": [
      "Converged to LP: -607.0:  23%|██▎       | 227/1000 [00:02<00:09, 85.12it/s] \n",
      "Converged to LP: -612.2:  35%|███▍      | 349/1000 [00:03<00:07, 88.47it/s] \n",
      "Converged to LP: -603.8:  36%|███▌      | 355/1000 [00:04<00:07, 85.89it/s] \n",
      "Converged to LP: -607.7:  44%|████▎     | 435/1000 [00:04<00:06, 91.25it/s] \n",
      "Converged to LP: -615.7:  45%|████▌     | 454/1000 [00:04<00:05, 93.05it/s] \n",
      "LP: -683.9:   0%|          | 5/1000 [00:00<00:20, 48.64it/s]"
     ]
    },
    {
     "name": "stdout",
     "output_type": "stream",
     "text": [
      "Fitting 5 states...\n"
     ]
    },
    {
     "name": "stderr",
     "output_type": "stream",
     "text": [
      "Converged to LP: -657.9:  21%|██        | 211/1000 [00:02<00:11, 71.29it/s]\n",
      "Converged to LP: -650.4:  43%|████▎     | 434/1000 [00:05<00:07, 76.20it/s]\n",
      "Converged to LP: -655.4:  52%|█████▏    | 521/1000 [00:06<00:05, 80.44it/s]\n",
      "Converged to LP: -643.5:  67%|██████▋   | 667/1000 [00:08<00:04, 82.23it/s] \n",
      "Converged to LP: -647.9:  77%|███████▋  | 770/1000 [00:09<00:02, 85.44it/s] \n",
      "Converged to LP: -488.5:   0%|          | 2/1000 [00:00<00:08, 116.85it/s]\n",
      "Converged to LP: -520.4:   0%|          | 2/1000 [00:00<00:08, 123.98it/s]\n",
      "Converged to LP: -512.2:   0%|          | 2/1000 [00:00<00:07, 136.58it/s]\n",
      "LP: -526.4:   0%|          | 0/1000 [00:00<?, ?it/s]"
     ]
    },
    {
     "name": "stdout",
     "output_type": "stream",
     "text": [
      "Fitting session 35...\n",
      "Fitting 1 states...\n",
      "Fitting 2 states...\n"
     ]
    },
    {
     "name": "stderr",
     "output_type": "stream",
     "text": [
      "Converged to LP: -504.3:   0%|          | 2/1000 [00:00<00:06, 153.51it/s]\n",
      "Converged to LP: -518.3:   0%|          | 2/1000 [00:00<00:07, 131.83it/s]\n",
      "Converged to LP: -529.3:   2%|▏         | 17/1000 [00:00<00:09, 105.73it/s]\n",
      "Converged to LP: -556.2:   1%|          | 12/1000 [00:00<00:12, 79.90it/s]\n",
      "Converged to LP: -548.7:   1%|▏         | 14/1000 [00:00<00:11, 84.58it/s]\n",
      "Converged to LP: -554.0:   2%|▏         | 15/1000 [00:00<00:13, 73.26it/s]\n",
      "Converged to LP: -548.7:  11%|█▏        | 114/1000 [00:00<00:07, 119.05it/s]\n"
     ]
    },
    {
     "name": "stdout",
     "output_type": "stream",
     "text": [
      "Fitting 3 states...\n"
     ]
    },
    {
     "name": "stderr",
     "output_type": "stream",
     "text": [
      "Converged to LP: -608.4:  12%|█▏        | 115/1000 [00:01<00:09, 97.49it/s] \n",
      "Converged to LP: -580.0:  21%|██        | 208/1000 [00:02<00:08, 97.36it/s] \n",
      "Converged to LP: -604.3:  22%|██▏       | 217/1000 [00:02<00:07, 100.13it/s]\n",
      "Converged to LP: -599.3:  24%|██▍       | 244/1000 [00:02<00:07, 96.17it/s] \n",
      "Converged to LP: -589.0:  30%|███       | 301/1000 [00:02<00:06, 101.88it/s]\n",
      "LP: -680.8:   0%|          | 0/1000 [00:00<?, ?it/s]"
     ]
    },
    {
     "name": "stdout",
     "output_type": "stream",
     "text": [
      "Fitting 4 states...\n"
     ]
    },
    {
     "name": "stderr",
     "output_type": "stream",
     "text": [
      "Converged to LP: -639.9:  12%|█▏        | 123/1000 [00:01<00:13, 65.47it/s]\n",
      "Converged to LP: -646.6:  14%|█▍        | 143/1000 [00:02<00:12, 70.73it/s]\n",
      "Converged to LP: -620.2:  26%|██▌       | 258/1000 [00:03<00:09, 77.62it/s]\n",
      "Converged to LP: -647.4:  30%|███       | 304/1000 [00:04<00:09, 75.02it/s]\n",
      "Converged to LP: -651.0:  33%|███▎      | 330/1000 [00:04<00:08, 79.42it/s]\n",
      "LP: -729.1:   0%|          | 0/1000 [00:00<?, ?it/s].31it/s]"
     ]
    },
    {
     "name": "stdout",
     "output_type": "stream",
     "text": [
      "Fitting 5 states...\n"
     ]
    },
    {
     "name": "stderr",
     "output_type": "stream",
     "text": [
      "Converged to LP: -678.5:  32%|███▏      | 319/1000 [00:05<00:10, 63.04it/s]\n",
      "Converged to LP: -692.0:  44%|████▎     | 437/1000 [00:06<00:08, 67.51it/s]\n",
      "Converged to LP: -664.9:  72%|███████▎  | 725/1000 [00:09<00:03, 73.22it/s]\n",
      "LP: -690.7: 100%|██████████| 1000/1000 [00:12<00:00, 77.06it/s]\n",
      "Converged to LP: -683.0: 100%|█████████▉| 999/1000 [00:13<00:00, 76.73it/s]\n",
      "Converged to LP: -530.2:   0%|          | 2/1000 [00:00<00:07, 140.96it/s]\n",
      "Converged to LP: -528.2:   0%|          | 2/1000 [00:00<00:07, 141.76it/s]\n",
      "Converged to LP: -536.6:   0%|          | 2/1000 [00:00<00:07, 132.11it/s]\n",
      "Converged to LP: -526.9:   0%|          | 2/1000 [00:00<00:07, 137.90it/s]\n",
      "Converged to LP: -528.8:   0%|          | 2/1000 [00:00<00:06, 147.25it/s]\n",
      "LP: -588.2:   0%|          | 0/1000 [00:00<?, ?it/s]"
     ]
    },
    {
     "name": "stdout",
     "output_type": "stream",
     "text": [
      "Fitting session 36...\n",
      "Fitting 1 states...\n",
      "Fitting 2 states...\n"
     ]
    },
    {
     "name": "stderr",
     "output_type": "stream",
     "text": [
      "Converged to LP: -572.3:   0%|          | 4/1000 [00:00<00:12, 78.52it/s]\n",
      "Converged to LP: -561.0:   1%|          | 12/1000 [00:00<00:09, 106.63it/s]\n",
      "Converged to LP: -562.5:   1%|          | 9/1000 [00:00<00:10, 94.48it/s]\n",
      "Converged to LP: -561.1:   2%|▏         | 21/1000 [00:00<00:09, 105.21it/s]\n",
      "Converged to LP: -558.1:   4%|▍         | 38/1000 [00:00<00:08, 110.92it/s]\n",
      "LP: -630.4:   0%|          | 0/1000 [00:00<?, ?it/s]"
     ]
    },
    {
     "name": "stdout",
     "output_type": "stream",
     "text": [
      "Fitting 3 states...\n"
     ]
    },
    {
     "name": "stderr",
     "output_type": "stream",
     "text": [
      "Converged to LP: -602.1:   8%|▊         | 77/1000 [00:00<00:10, 87.89it/s]\n",
      "Converged to LP: -596.3:   8%|▊         | 83/1000 [00:00<00:10, 88.41it/s]\n",
      "Converged to LP: -592.8:   8%|▊         | 83/1000 [00:00<00:10, 86.12it/s]\n",
      "Converged to LP: -596.6:  11%|█         | 110/1000 [00:01<00:09, 92.18it/s]\n",
      "Converged to LP: -590.9:  12%|█▏        | 123/1000 [00:01<00:09, 97.07it/s] \n"
     ]
    },
    {
     "name": "stdout",
     "output_type": "stream",
     "text": [
      "Fitting 4 states...\n"
     ]
    },
    {
     "name": "stderr",
     "output_type": "stream",
     "text": [
      "Converged to LP: -642.4:  32%|███▏      | 321/1000 [00:03<00:08, 83.18it/s]\n",
      "Converged to LP: -652.1:  54%|█████▍    | 538/1000 [00:06<00:05, 88.46it/s]\n",
      "Converged to LP: -646.4:  76%|███████▋  | 765/1000 [00:08<00:02, 91.59it/s]\n",
      "Converged to LP: -643.9:  97%|█████████▋| 966/1000 [00:10<00:00, 91.68it/s]\n",
      "LP: -652.4: 100%|██████████| 1000/1000 [00:11<00:00, 88.54it/s]\n",
      "LP: -718.7:   0%|          | 4/1000 [00:00<00:26, 37.25it/s]"
     ]
    },
    {
     "name": "stdout",
     "output_type": "stream",
     "text": [
      "Fitting 5 states...\n"
     ]
    },
    {
     "name": "stderr",
     "output_type": "stream",
     "text": [
      "Converged to LP: -691.1:  24%|██▍       | 245/1000 [00:03<00:10, 70.14it/s]\n",
      "Converged to LP: -681.6:  32%|███▎      | 325/1000 [00:04<00:09, 69.69it/s]\n",
      "Converged to LP: -684.2:  38%|███▊      | 382/1000 [00:05<00:09, 68.28it/s]\n",
      "Converged to LP: -688.9:  47%|████▋     | 470/1000 [00:06<00:07, 71.01it/s]\n",
      "Converged to LP: -685.4:  59%|█████▉    | 590/1000 [00:08<00:05, 73.15it/s]\n",
      "LP: -499.6:   0%|          | 0/1000 [00:00<?, ?it/s]"
     ]
    },
    {
     "name": "stdout",
     "output_type": "stream",
     "text": [
      "Fitting session 37...\n",
      "Fitting 1 states...\n",
      "Fitting 2 states...\n"
     ]
    },
    {
     "name": "stderr",
     "output_type": "stream",
     "text": [
      "Converged to LP: -417.0:   0%|          | 2/1000 [00:00<00:10, 97.28it/s]\n",
      "Converged to LP: -389.2:   0%|          | 2/1000 [00:00<00:10, 97.60it/s]\n",
      "Converged to LP: -409.5:   0%|          | 2/1000 [00:00<00:08, 121.05it/s]\n",
      "Converged to LP: -392.8:   0%|          | 2/1000 [00:00<00:07, 129.49it/s]\n",
      "Converged to LP: -403.1:   0%|          | 2/1000 [00:00<00:07, 140.68it/s]\n",
      "Converged to LP: -436.2:   2%|▏         | 19/1000 [00:00<00:10, 96.54it/s]\n",
      "Converged to LP: -435.3:   2%|▏         | 19/1000 [00:00<00:10, 96.57it/s]\n",
      "Converged to LP: -419.5:   3%|▎         | 26/1000 [00:00<00:09, 99.33it/s]\n",
      "Converged to LP: -434.1:   3%|▎         | 27/1000 [00:00<00:09, 102.99it/s]\n",
      "Converged to LP: -415.3:   3%|▎         | 31/1000 [00:00<00:10, 94.55it/s]\n",
      "LP: -497.4:   1%|          | 8/1000 [00:00<00:13, 74.98it/s]"
     ]
    },
    {
     "name": "stdout",
     "output_type": "stream",
     "text": [
      "Fitting 3 states...\n"
     ]
    },
    {
     "name": "stderr",
     "output_type": "stream",
     "text": [
      "Converged to LP: -473.0:  13%|█▎        | 134/1000 [00:01<00:09, 95.69it/s] \n",
      "Converged to LP: -488.8:  18%|█▊        | 180/1000 [00:01<00:07, 105.94it/s]\n",
      "Converged to LP: -488.4:  20%|██        | 200/1000 [00:01<00:07, 107.75it/s]\n",
      "Converged to LP: -467.6:  22%|██▏       | 220/1000 [00:01<00:07, 110.49it/s]\n",
      "Converged to LP: -489.0:  52%|█████▏    | 517/1000 [00:04<00:03, 124.25it/s]\n",
      "LP: -609.1:   0%|          | 0/1000 [00:00<?, ?it/s]"
     ]
    },
    {
     "name": "stdout",
     "output_type": "stream",
     "text": [
      "Fitting 4 states...\n"
     ]
    },
    {
     "name": "stderr",
     "output_type": "stream",
     "text": [
      "Converged to LP: -521.7:   8%|▊         | 84/1000 [00:01<00:12, 74.92it/s]\n",
      "Converged to LP: -520.2:  17%|█▋        | 172/1000 [00:02<00:10, 79.83it/s]\n",
      "Converged to LP: -539.5:  18%|█▊        | 184/1000 [00:02<00:09, 82.67it/s]\n",
      "Converged to LP: -537.9:  16%|█▋        | 165/1000 [00:02<00:11, 74.27it/s]\n",
      "Converged to LP: -536.5:  25%|██▌       | 254/1000 [00:02<00:08, 90.15it/s] \n",
      "LP: -639.1:   0%|          | 0/1000 [00:00<?, ?it/s]"
     ]
    },
    {
     "name": "stdout",
     "output_type": "stream",
     "text": [
      "Fitting 5 states...\n"
     ]
    },
    {
     "name": "stderr",
     "output_type": "stream",
     "text": [
      "Converged to LP: -576.0:  39%|███▉      | 391/1000 [00:05<00:08, 71.82it/s]\n",
      "Converged to LP: -590.1:  42%|████▏     | 423/1000 [00:05<00:07, 73.09it/s]\n",
      "Converged to LP: -557.9:  47%|████▋     | 472/1000 [00:06<00:07, 74.34it/s]\n",
      "Converged to LP: -577.9:  48%|████▊     | 483/1000 [00:06<00:07, 72.91it/s]\n",
      "Converged to LP: -568.1:  61%|██████    | 607/1000 [00:07<00:05, 77.63it/s]\n",
      "Converged to LP: -494.5:   0%|          | 2/1000 [00:00<00:06, 160.25it/s]\n",
      "Converged to LP: -502.5:   0%|          | 2/1000 [00:00<00:07, 136.75it/s]\n",
      "Converged to LP: -478.1:   0%|          | 2/1000 [00:00<00:07, 140.42it/s]\n",
      "Converged to LP: -494.8:   0%|          | 2/1000 [00:00<00:06, 163.04it/s]\n",
      "Converged to LP: -483.9:   0%|          | 2/1000 [00:00<00:06, 161.75it/s]\n",
      "LP: -553.5:   0%|          | 0/1000 [00:00<?, ?it/s]"
     ]
    },
    {
     "name": "stdout",
     "output_type": "stream",
     "text": [
      "Fitting session 38...\n",
      "Fitting 1 states...\n",
      "Fitting 2 states...\n"
     ]
    },
    {
     "name": "stderr",
     "output_type": "stream",
     "text": [
      "Converged to LP: -544.0:   1%|          | 10/1000 [00:00<00:08, 121.14it/s]\n",
      "Converged to LP: -553.5:   1%|▏         | 14/1000 [00:00<00:07, 134.43it/s]\n",
      "Converged to LP: -545.8:   1%|▏         | 14/1000 [00:00<00:08, 118.62it/s]\n",
      "Converged to LP: -526.1:   1%|          | 12/1000 [00:00<00:09, 101.08it/s]\n",
      "Converged to LP: -534.3:   1%|          | 11/1000 [00:00<00:09, 107.55it/s]\n",
      "LP: -601.9:   1%|          | 8/1000 [00:00<00:13, 75.25it/s]"
     ]
    },
    {
     "name": "stdout",
     "output_type": "stream",
     "text": [
      "Fitting 3 states...\n"
     ]
    },
    {
     "name": "stderr",
     "output_type": "stream",
     "text": [
      "Converged to LP: -595.1:  10%|█         | 105/1000 [00:00<00:08, 108.31it/s]\n",
      "Converged to LP: -571.5:  12%|█▏        | 123/1000 [00:01<00:07, 117.31it/s]\n",
      "Converged to LP: -594.9:  17%|█▋        | 174/1000 [00:01<00:07, 104.33it/s]\n",
      "Converged to LP: -579.5:  19%|█▉        | 192/1000 [00:01<00:07, 104.32it/s]\n",
      "Converged to LP: -576.8:  20%|██        | 205/1000 [00:01<00:07, 104.08it/s]\n",
      "LP: -637.8:   0%|          | 0/1000 [00:00<?, ?it/s].64it/s]"
     ]
    },
    {
     "name": "stdout",
     "output_type": "stream",
     "text": [
      "Fitting 4 states...\n"
     ]
    },
    {
     "name": "stderr",
     "output_type": "stream",
     "text": [
      "Converged to LP: -613.0:  21%|██        | 207/1000 [00:02<00:08, 92.14it/s] \n",
      "Converged to LP: -627.4:  28%|██▊       | 282/1000 [00:03<00:07, 91.58it/s] \n",
      "Converged to LP: -639.6:  32%|███▏      | 320/1000 [00:03<00:07, 94.36it/s] \n",
      "Converged to LP: -629.0:  74%|███████▍  | 743/1000 [00:07<00:02, 95.80it/s] \n",
      "Converged to LP: -621.3:  97%|█████████▋| 973/1000 [00:09<00:00, 103.87it/s]\n",
      "LP: -709.2:   0%|          | 0/1000 [00:00<?, ?it/s]"
     ]
    },
    {
     "name": "stdout",
     "output_type": "stream",
     "text": [
      "Fitting 5 states...\n"
     ]
    },
    {
     "name": "stderr",
     "output_type": "stream",
     "text": [
      "Converged to LP: -673.8:  16%|█▌        | 160/1000 [00:02<00:12, 67.36it/s]\n",
      "Converged to LP: -682.1:  24%|██▎       | 235/1000 [00:03<00:10, 71.94it/s]\n",
      "Converged to LP: -673.6:  43%|████▎     | 431/1000 [00:05<00:07, 79.88it/s]\n",
      "Converged to LP: -651.1:  62%|██████▏   | 616/1000 [00:07<00:04, 84.78it/s] \n",
      "Converged to LP: -661.1:  70%|███████   | 703/1000 [00:08<00:03, 86.44it/s] \n",
      "Converged to LP: -503.7:   0%|          | 2/1000 [00:00<00:06, 154.36it/s]\n",
      "Converged to LP: -506.8:   0%|          | 2/1000 [00:00<00:06, 156.84it/s]\n",
      "Converged to LP: -501.7:   0%|          | 2/1000 [00:00<00:07, 139.24it/s]\n",
      "Converged to LP: -491.4:   0%|          | 2/1000 [00:00<00:09, 104.42it/s]\n",
      "Converged to LP: -481.5:   0%|          | 2/1000 [00:00<00:06, 150.13it/s]\n"
     ]
    },
    {
     "name": "stdout",
     "output_type": "stream",
     "text": [
      "Fitting session 39...\n",
      "Fitting 1 states...\n",
      "Fitting 2 states...\n"
     ]
    },
    {
     "name": "stderr",
     "output_type": "stream",
     "text": [
      "Converged to LP: -550.1:   1%|          | 11/1000 [00:00<00:10, 90.02it/s]\n",
      "Converged to LP: -551.4:   1%|          | 10/1000 [00:00<00:10, 93.73it/s]\n",
      "Converged to LP: -542.2:   1%|          | 9/1000 [00:00<00:10, 98.35it/s]\n",
      "Converged to LP: -547.1:   1%|          | 12/1000 [00:00<00:08, 116.16it/s]\n",
      "Converged to LP: -527.0:  17%|█▋        | 168/1000 [00:01<00:06, 137.60it/s]\n",
      "LP: -600.7:   1%|          | 9/1000 [00:00<00:12, 79.19it/s]"
     ]
    },
    {
     "name": "stdout",
     "output_type": "stream",
     "text": [
      "Fitting 3 states...\n"
     ]
    },
    {
     "name": "stderr",
     "output_type": "stream",
     "text": [
      "Converged to LP: -599.5:   9%|▉         | 94/1000 [00:00<00:08, 105.00it/s]\n",
      "Converged to LP: -592.2:  11%|█         | 110/1000 [00:01<00:08, 106.74it/s]\n",
      "Converged to LP: -574.6:  14%|█▎        | 136/1000 [00:01<00:07, 110.58it/s]\n",
      "Converged to LP: -597.1:  14%|█▎        | 135/1000 [00:01<00:08, 103.24it/s]\n",
      "Converged to LP: -595.5:  16%|█▋        | 163/1000 [00:01<00:07, 114.53it/s]\n",
      "LP: -655.5:   0%|          | 0/1000 [00:00<?, ?it/s]"
     ]
    },
    {
     "name": "stdout",
     "output_type": "stream",
     "text": [
      "Fitting 4 states...\n"
     ]
    },
    {
     "name": "stderr",
     "output_type": "stream",
     "text": [
      "Converged to LP: -645.0:  10%|█         | 105/1000 [00:01<00:12, 72.36it/s]\n",
      "Converged to LP: -638.3:  13%|█▎        | 128/1000 [00:01<00:09, 87.86it/s]\n",
      "Converged to LP: -639.2:  26%|██▋       | 264/1000 [00:02<00:07, 92.17it/s] \n",
      "Converged to LP: -618.2:  27%|██▋       | 271/1000 [00:03<00:08, 88.78it/s] \n",
      "Converged to LP: -633.3:  45%|████▌     | 451/1000 [00:04<00:05, 101.84it/s]\n",
      "LP: -715.1:   0%|          | 5/1000 [00:00<00:20, 49.50it/s]"
     ]
    },
    {
     "name": "stdout",
     "output_type": "stream",
     "text": [
      "Fitting 5 states...\n"
     ]
    },
    {
     "name": "stderr",
     "output_type": "stream",
     "text": [
      "Converged to LP: -681.8:  43%|████▎     | 430/1000 [00:05<00:07, 73.88it/s]\n",
      "Converged to LP: -679.5:  45%|████▍     | 447/1000 [00:05<00:07, 76.28it/s]\n",
      "Converged to LP: -681.6:  67%|██████▋   | 672/1000 [00:08<00:04, 80.18it/s]\n",
      "Converged to LP: -683.2:  71%|███████   | 712/1000 [00:08<00:03, 83.70it/s]\n",
      "Converged to LP: -655.2:  87%|████████▋ | 866/1000 [00:10<00:01, 85.92it/s] \n",
      "Converged to LP: -508.4:   0%|          | 2/1000 [00:00<00:06, 155.06it/s]\n",
      "Converged to LP: -474.0:   0%|          | 2/1000 [00:00<00:07, 141.43it/s]\n",
      "Converged to LP: -491.7:   0%|          | 2/1000 [00:00<00:06, 150.14it/s]\n",
      "Converged to LP: -492.5:   0%|          | 2/1000 [00:00<00:05, 170.60it/s]\n",
      "Converged to LP: -477.6:   0%|          | 2/1000 [00:00<00:06, 149.02it/s]\n",
      "LP: -551.9:   0%|          | 0/1000 [00:00<?, ?it/s]"
     ]
    },
    {
     "name": "stdout",
     "output_type": "stream",
     "text": [
      "Fitting session 40...\n",
      "Fitting 1 states...\n",
      "Fitting 2 states...\n"
     ]
    },
    {
     "name": "stderr",
     "output_type": "stream",
     "text": [
      "Converged to LP: -518.7:   1%|          | 9/1000 [00:00<00:12, 80.34it/s]\n",
      "Converged to LP: -551.7:   1%|          | 12/1000 [00:00<00:12, 80.90it/s]\n",
      "Converged to LP: -535.7:   1%|▏         | 14/1000 [00:00<00:11, 89.29it/s]\n",
      "Converged to LP: -538.5:   1%|▏         | 14/1000 [00:00<00:10, 95.75it/s]\n",
      "Converged to LP: -525.6:   2%|▏         | 24/1000 [00:00<00:08, 116.48it/s]\n"
     ]
    },
    {
     "name": "stdout",
     "output_type": "stream",
     "text": [
      "Fitting 3 states...\n"
     ]
    },
    {
     "name": "stderr",
     "output_type": "stream",
     "text": [
      "Converged to LP: -557.2:   6%|▌         | 62/1000 [00:00<00:10, 91.92it/s] \n",
      "Converged to LP: -571.2:   6%|▌         | 61/1000 [00:00<00:11, 84.35it/s]\n",
      "Converged to LP: -576.5:   7%|▋         | 73/1000 [00:00<00:10, 92.62it/s] \n",
      "Converged to LP: -556.9:  11%|█         | 109/1000 [00:00<00:08, 109.77it/s]\n",
      "Converged to LP: -582.9:  11%|█▏        | 114/1000 [00:01<00:08, 106.38it/s]\n",
      "LP: -655.2:   1%|          | 6/1000 [00:00<00:18, 52.92it/s]"
     ]
    },
    {
     "name": "stdout",
     "output_type": "stream",
     "text": [
      "Fitting 4 states...\n"
     ]
    },
    {
     "name": "stderr",
     "output_type": "stream",
     "text": [
      "Converged to LP: -625.9:  18%|█▊        | 183/1000 [00:02<00:09, 88.84it/s] \n",
      "Converged to LP: -606.7:  34%|███▍      | 340/1000 [00:03<00:07, 91.52it/s] \n",
      "Converged to LP: -614.6:  34%|███▍      | 342/1000 [00:03<00:07, 91.21it/s] \n",
      "Converged to LP: -598.2:  44%|████▍     | 440/1000 [00:04<00:05, 97.43it/s] \n",
      "Converged to LP: -631.4:  61%|██████    | 607/1000 [00:06<00:04, 97.76it/s] \n",
      "LP: -726.9:   0%|          | 0/1000 [00:00<?, ?it/s]"
     ]
    },
    {
     "name": "stdout",
     "output_type": "stream",
     "text": [
      "Fitting 5 states...\n"
     ]
    },
    {
     "name": "stderr",
     "output_type": "stream",
     "text": [
      "Converged to LP: -650.4:  14%|█▎        | 137/1000 [00:02<00:14, 58.69it/s]\n",
      "Converged to LP: -654.2:  39%|███▉      | 392/1000 [00:05<00:08, 68.14it/s]\n",
      "Converged to LP: -683.9:  47%|████▋     | 469/1000 [00:06<00:07, 70.10it/s]\n",
      "Converged to LP: -659.5:  51%|█████     | 506/1000 [00:06<00:06, 73.93it/s]\n",
      "Converged to LP: -658.2:  97%|█████████▋| 967/1000 [00:11<00:00, 85.73it/s] \n",
      "Converged to LP: -485.4:   0%|          | 2/1000 [00:00<00:06, 148.67it/s]\n",
      "Converged to LP: -467.2:   0%|          | 2/1000 [00:00<00:06, 143.13it/s]\n",
      "Converged to LP: -483.7:   0%|          | 2/1000 [00:00<00:06, 144.00it/s]\n",
      "Converged to LP: -476.9:   0%|          | 2/1000 [00:00<00:06, 149.49it/s]\n",
      "Converged to LP: -485.5:   0%|          | 2/1000 [00:00<00:06, 152.00it/s]\n",
      "LP: -526.7:   0%|          | 0/1000 [00:00<?, ?it/s]"
     ]
    },
    {
     "name": "stdout",
     "output_type": "stream",
     "text": [
      "Fitting session 41...\n",
      "Fitting 1 states...\n",
      "Fitting 2 states...\n"
     ]
    },
    {
     "name": "stderr",
     "output_type": "stream",
     "text": [
      "Converged to LP: -501.9:   1%|          | 7/1000 [00:00<00:11, 85.13it/s]\n",
      "Converged to LP: -519.6:   1%|          | 8/1000 [00:00<00:08, 110.48it/s]\n",
      "Converged to LP: -509.4:   1%|▏         | 14/1000 [00:00<00:08, 112.25it/s]\n",
      "Converged to LP: -526.4:   2%|▏         | 20/1000 [00:00<00:08, 112.12it/s]\n",
      "Converged to LP: -521.0:   3%|▎         | 27/1000 [00:00<00:08, 117.40it/s]\n",
      "LP: -553.6:   1%|          | 6/1000 [00:00<00:17, 57.57it/s]"
     ]
    },
    {
     "name": "stdout",
     "output_type": "stream",
     "text": [
      "Fitting 3 states...\n"
     ]
    },
    {
     "name": "stderr",
     "output_type": "stream",
     "text": [
      "Converged to LP: -562.1:   4%|▎         | 36/1000 [00:00<00:10, 96.35it/s] \n",
      "Converged to LP: -567.6:   5%|▌         | 53/1000 [00:00<00:10, 93.50it/s] \n",
      "Converged to LP: -552.0:   7%|▋         | 66/1000 [00:00<00:10, 93.34it/s] \n",
      "Converged to LP: -567.7:   8%|▊         | 85/1000 [00:00<00:09, 98.33it/s] \n",
      "Converged to LP: -551.5:  12%|█▏        | 122/1000 [00:00<00:07, 123.82it/s]\n",
      "LP: -625.4:   1%|          | 7/1000 [00:00<00:16, 61.21it/s]"
     ]
    },
    {
     "name": "stdout",
     "output_type": "stream",
     "text": [
      "Fitting 4 states...\n"
     ]
    },
    {
     "name": "stderr",
     "output_type": "stream",
     "text": [
      "Converged to LP: -613.0:   4%|▎         | 37/1000 [00:00<00:13, 70.93it/s]\n",
      "Converged to LP: -599.9:  14%|█▍        | 139/1000 [00:01<00:09, 88.73it/s] \n",
      "Converged to LP: -609.2:  22%|██▏       | 217/1000 [00:02<00:08, 90.45it/s] \n",
      "Converged to LP: -607.3:  34%|███▎      | 336/1000 [00:03<00:06, 98.86it/s] \n",
      "Converged to LP: -576.2:  35%|███▌      | 353/1000 [00:03<00:06, 100.85it/s]\n",
      "LP: -685.4:   0%|          | 0/1000 [00:00<?, ?it/s]"
     ]
    },
    {
     "name": "stdout",
     "output_type": "stream",
     "text": [
      "Fitting 5 states...\n"
     ]
    },
    {
     "name": "stderr",
     "output_type": "stream",
     "text": [
      "Converged to LP: -655.3:  23%|██▎       | 229/1000 [00:03<00:10, 71.61it/s]\n",
      "Converged to LP: -653.1:  28%|██▊       | 278/1000 [00:03<00:10, 70.83it/s]\n",
      "Converged to LP: -643.6:  47%|████▋     | 471/1000 [00:06<00:06, 77.70it/s]\n",
      "Converged to LP: -654.5:  74%|███████▍  | 739/1000 [00:08<00:03, 82.57it/s] \n",
      "Converged to LP: -626.4:  91%|█████████ | 907/1000 [00:10<00:01, 88.77it/s] \n",
      "Converged to LP: -444.7:   0%|          | 2/1000 [00:00<00:06, 151.73it/s]\n",
      "Converged to LP: -458.7:   0%|          | 2/1000 [00:00<00:06, 154.45it/s]\n",
      "Converged to LP: -456.5:   0%|          | 2/1000 [00:00<00:06, 152.91it/s]\n",
      "LP: -465.5:   0%|          | 0/1000 [00:00<?, ?it/s]"
     ]
    },
    {
     "name": "stdout",
     "output_type": "stream",
     "text": [
      "Fitting session 42...\n",
      "Fitting 1 states...\n",
      "Fitting 2 states...\n"
     ]
    },
    {
     "name": "stderr",
     "output_type": "stream",
     "text": [
      "Converged to LP: -452.2:   0%|          | 2/1000 [00:00<00:06, 142.73it/s]\n",
      "Converged to LP: -447.1:   0%|          | 2/1000 [00:00<00:07, 131.44it/s]\n",
      "Converged to LP: -484.9:   1%|          | 10/1000 [00:00<00:08, 123.16it/s]\n",
      "Converged to LP: -480.6:   2%|▏         | 20/1000 [00:00<00:08, 122.24it/s]\n",
      "Converged to LP: -483.5:   2%|▏         | 18/1000 [00:00<00:07, 126.61it/s]\n",
      "Converged to LP: -478.1:   2%|▏         | 16/1000 [00:00<00:08, 119.44it/s]\n",
      "Converged to LP: -483.5:   3%|▎         | 29/1000 [00:00<00:07, 128.68it/s]\n",
      "LP: -536.1:   0%|          | 0/1000 [00:00<?, ?it/s]"
     ]
    },
    {
     "name": "stdout",
     "output_type": "stream",
     "text": [
      "Fitting 3 states...\n"
     ]
    },
    {
     "name": "stderr",
     "output_type": "stream",
     "text": [
      "Converged to LP: -532.4:   6%|▌         | 57/1000 [00:00<00:09, 104.53it/s]\n",
      "Converged to LP: -527.9:  10%|█         | 103/1000 [00:00<00:08, 107.03it/s]\n",
      "Converged to LP: -533.3:  11%|█▏        | 114/1000 [00:01<00:08, 102.67it/s]\n",
      "Converged to LP: -523.7:  11%|█         | 111/1000 [00:01<00:08, 100.87it/s]\n",
      "Converged to LP: -527.1:  15%|█▍        | 148/1000 [00:01<00:07, 113.19it/s]\n",
      "LP: -580.0:   1%|          | 6/1000 [00:00<00:17, 55.51it/s]"
     ]
    },
    {
     "name": "stdout",
     "output_type": "stream",
     "text": [
      "Fitting 4 states...\n"
     ]
    },
    {
     "name": "stderr",
     "output_type": "stream",
     "text": [
      "Converged to LP: -585.8:  14%|█▍        | 144/1000 [00:01<00:09, 89.60it/s]\n",
      "Converged to LP: -572.9:  16%|█▌        | 156/1000 [00:01<00:09, 92.72it/s]\n",
      "Converged to LP: -571.6:  18%|█▊        | 180/1000 [00:01<00:08, 91.45it/s] \n",
      "Converged to LP: -585.5:  20%|██        | 201/1000 [00:02<00:08, 93.33it/s] \n",
      "Converged to LP: -572.9:  22%|██▏       | 219/1000 [00:02<00:08, 93.40it/s] \n",
      "LP: -683.0:   0%|          | 0/1000 [00:00<?, ?it/s]"
     ]
    },
    {
     "name": "stdout",
     "output_type": "stream",
     "text": [
      "Fitting 5 states...\n"
     ]
    },
    {
     "name": "stderr",
     "output_type": "stream",
     "text": [
      "Converged to LP: -625.4:  25%|██▍       | 249/1000 [00:03<00:09, 77.45it/s]\n",
      "Converged to LP: -628.5:  30%|███       | 301/1000 [00:04<00:09, 73.53it/s]\n",
      "Converged to LP: -623.4:  36%|███▌      | 360/1000 [00:04<00:08, 73.44it/s]\n",
      "Converged to LP: -619.4:  41%|████      | 406/1000 [00:05<00:07, 79.56it/s] \n",
      "Converged to LP: -628.7:  45%|████▍     | 448/1000 [00:05<00:06, 80.40it/s] \n",
      "Converged to LP: -453.8:   0%|          | 2/1000 [00:00<00:09, 104.91it/s]\n",
      "Converged to LP: -477.3:   0%|          | 2/1000 [00:00<00:08, 117.03it/s]\n",
      "Converged to LP: -486.0:   0%|          | 2/1000 [00:00<00:07, 124.95it/s]\n",
      "Converged to LP: -484.1:   0%|          | 2/1000 [00:00<00:06, 145.75it/s]\n",
      "Converged to LP: -480.6:   0%|          | 2/1000 [00:00<00:06, 149.58it/s]\n",
      "LP: -549.3:   0%|          | 0/1000 [00:00<?, ?it/s]"
     ]
    },
    {
     "name": "stdout",
     "output_type": "stream",
     "text": [
      "Fitting session 43...\n",
      "Fitting 1 states...\n",
      "Fitting 2 states...\n"
     ]
    },
    {
     "name": "stderr",
     "output_type": "stream",
     "text": [
      "Converged to LP: -528.5:   2%|▏         | 19/1000 [00:00<00:09, 104.24it/s]\n",
      "Converged to LP: -532.7:   2%|▏         | 23/1000 [00:00<00:09, 100.15it/s]\n",
      "Converged to LP: -496.2:   5%|▍         | 46/1000 [00:00<00:08, 114.06it/s]\n",
      "Converged to LP: -527.2:   5%|▌         | 54/1000 [00:00<00:08, 118.00it/s]\n",
      "Converged to LP: -535.4:  12%|█▏        | 117/1000 [00:00<00:06, 132.83it/s]\n",
      "LP: -574.8:   0%|          | 0/1000 [00:00<?, ?it/s].28it/s]"
     ]
    },
    {
     "name": "stdout",
     "output_type": "stream",
     "text": [
      "Fitting 3 states...\n"
     ]
    },
    {
     "name": "stderr",
     "output_type": "stream",
     "text": [
      "Converged to LP: -565.3:   8%|▊         | 85/1000 [00:00<00:09, 94.99it/s] \n",
      "Converged to LP: -559.0:   9%|▉         | 94/1000 [00:00<00:09, 98.80it/s] \n",
      "Converged to LP: -566.5:  10%|▉         | 96/1000 [00:01<00:09, 95.05it/s]\n",
      "Converged to LP: -565.0:  11%|█▏        | 113/1000 [00:01<00:09, 98.19it/s] \n",
      "Converged to LP: -534.0:  20%|██        | 203/1000 [00:01<00:06, 121.88it/s]\n",
      "LP: -642.5:   0%|          | 0/1000 [00:00<?, ?it/s]"
     ]
    },
    {
     "name": "stdout",
     "output_type": "stream",
     "text": [
      "Fitting 4 states...\n"
     ]
    },
    {
     "name": "stderr",
     "output_type": "stream",
     "text": [
      "Converged to LP: -615.7:  14%|█▍        | 145/1000 [00:01<00:09, 92.28it/s] \n",
      "Converged to LP: -615.6:  17%|█▋        | 166/1000 [00:01<00:09, 90.84it/s] \n",
      "Converged to LP: -619.3:  36%|███▌      | 355/1000 [00:03<00:06, 96.72it/s] \n",
      "Converged to LP: -622.1:  42%|████▏     | 420/1000 [00:04<00:05, 99.23it/s] \n",
      "Converged to LP: -582.0:  53%|█████▎    | 531/1000 [00:05<00:04, 103.22it/s]\n"
     ]
    },
    {
     "name": "stdout",
     "output_type": "stream",
     "text": [
      "Fitting 5 states...\n"
     ]
    },
    {
     "name": "stderr",
     "output_type": "stream",
     "text": [
      "Converged to LP: -652.4:  21%|██▏       | 213/1000 [00:02<00:10, 75.65it/s]\n",
      "Converged to LP: -654.3:  32%|███▏      | 321/1000 [00:04<00:09, 74.58it/s]\n",
      "Converged to LP: -648.3:  58%|█████▊    | 576/1000 [00:07<00:05, 81.87it/s]\n",
      "Converged to LP: -615.1:  58%|█████▊    | 584/1000 [00:07<00:05, 80.62it/s] \n",
      "LP: -643.7: 100%|██████████| 1000/1000 [00:11<00:00, 86.12it/s]\n"
     ]
    },
    {
     "name": "stdout",
     "output_type": "stream",
     "text": [
      "Fitting session 44...\n",
      "Fitting 1 states...\n",
      "Fitting 2 states...\n"
     ]
    },
    {
     "name": "stderr",
     "output_type": "stream",
     "text": [
      "Converged to LP: -437.6:   0%|          | 2/1000 [00:00<00:08, 111.82it/s]\n",
      "Converged to LP: -444.4:   0%|          | 2/1000 [00:00<00:11, 86.34it/s]\n",
      "Converged to LP: -443.5:   0%|          | 2/1000 [00:00<00:10, 97.35it/s]\n",
      "Converged to LP: -439.8:   0%|          | 2/1000 [00:00<00:09, 102.31it/s]\n",
      "Converged to LP: -441.8:   0%|          | 2/1000 [00:00<00:08, 122.38it/s]\n",
      "Converged to LP: -462.9:   1%|          | 7/1000 [00:00<00:11, 88.70it/s]\n",
      "Converged to LP: -470.9:   1%|          | 7/1000 [00:00<00:11, 88.75it/s]\n",
      "Converged to LP: -474.6:   1%|          | 7/1000 [00:00<00:11, 89.50it/s]\n",
      "Converged to LP: -463.5:   1%|          | 7/1000 [00:00<00:11, 84.85it/s]\n",
      "Converged to LP: -470.0:   1%|          | 8/1000 [00:00<00:10, 99.14it/s]\n",
      "LP: -520.8:   1%|          | 7/1000 [00:00<00:15, 63.38it/s]"
     ]
    },
    {
     "name": "stdout",
     "output_type": "stream",
     "text": [
      "Fitting 3 states...\n"
     ]
    },
    {
     "name": "stderr",
     "output_type": "stream",
     "text": [
      "Converged to LP: -513.2:   4%|▍         | 39/1000 [00:00<00:10, 88.09it/s]\n",
      "Converged to LP: -494.5:   5%|▌         | 50/1000 [00:00<00:09, 104.17it/s]\n",
      "Converged to LP: -518.5:   6%|▌         | 59/1000 [00:00<00:09, 103.27it/s]\n",
      "Converged to LP: -502.0:  10%|█         | 105/1000 [00:00<00:07, 116.84it/s]\n",
      "Converged to LP: -498.3:  20%|█▉        | 198/1000 [00:01<00:06, 129.40it/s]\n",
      "LP: -596.6:   0%|          | 0/1000 [00:00<?, ?it/s]"
     ]
    },
    {
     "name": "stdout",
     "output_type": "stream",
     "text": [
      "Fitting 4 states...\n"
     ]
    },
    {
     "name": "stderr",
     "output_type": "stream",
     "text": [
      "Converged to LP: -553.7:  11%|█         | 110/1000 [00:01<00:09, 92.03it/s] \n",
      "Converged to LP: -551.9:  20%|██        | 203/1000 [00:02<00:08, 97.04it/s] \n",
      "Converged to LP: -557.0:  25%|██▌       | 253/1000 [00:02<00:07, 106.37it/s]\n",
      "Converged to LP: -550.4:  31%|███       | 307/1000 [00:02<00:06, 107.04it/s]\n",
      "Converged to LP: -555.9:  48%|████▊     | 481/1000 [00:04<00:04, 110.21it/s]\n",
      "LP: -626.9:   0%|          | 0/1000 [00:00<?, ?it/s].36it/s]"
     ]
    },
    {
     "name": "stdout",
     "output_type": "stream",
     "text": [
      "Fitting 5 states...\n"
     ]
    },
    {
     "name": "stderr",
     "output_type": "stream",
     "text": [
      "Converged to LP: -601.0:  14%|█▍        | 144/1000 [00:01<00:11, 73.07it/s]\n",
      "Converged to LP: -591.5:  31%|███▏      | 313/1000 [00:03<00:08, 80.40it/s]\n",
      "Converged to LP: -601.9:  34%|███▍      | 344/1000 [00:04<00:08, 80.87it/s] \n",
      "Converged to LP: -592.6:  37%|███▋      | 373/1000 [00:04<00:07, 81.31it/s] \n",
      "Converged to LP: -592.4:  58%|█████▊    | 585/1000 [00:06<00:04, 92.93it/s] \n",
      "Converged to LP: -467.0:   0%|          | 2/1000 [00:00<00:06, 148.26it/s]\n",
      "Converged to LP: -452.6:   0%|          | 2/1000 [00:00<00:06, 157.99it/s]\n",
      "Converged to LP: -459.5:   0%|          | 2/1000 [00:00<00:08, 114.68it/s]\n",
      "Converged to LP: -459.8:   0%|          | 2/1000 [00:00<00:06, 147.85it/s]\n",
      "Converged to LP: -477.9:   0%|          | 2/1000 [00:00<00:06, 164.87it/s]\n",
      "LP: -519.4:   0%|          | 0/1000 [00:00<?, ?it/s]"
     ]
    },
    {
     "name": "stdout",
     "output_type": "stream",
     "text": [
      "Fitting session 45...\n",
      "Fitting 1 states...\n",
      "Fitting 2 states...\n"
     ]
    },
    {
     "name": "stderr",
     "output_type": "stream",
     "text": [
      "Converged to LP: -514.3:   1%|          | 6/1000 [00:00<00:10, 97.42it/s]\n",
      "Converged to LP: -501.2:   2%|▏         | 19/1000 [00:00<00:08, 115.43it/s]\n",
      "Converged to LP: -501.4:   2%|▏         | 16/1000 [00:00<00:09, 101.21it/s]\n",
      "Converged to LP: -508.2:   2%|▏         | 20/1000 [00:00<00:10, 95.97it/s] \n",
      "Converged to LP: -491.6:   3%|▎         | 32/1000 [00:00<00:08, 112.64it/s]\n",
      "LP: -549.8:   0%|          | 0/1000 [00:00<?, ?it/s]"
     ]
    },
    {
     "name": "stdout",
     "output_type": "stream",
     "text": [
      "Fitting 3 states...\n"
     ]
    },
    {
     "name": "stderr",
     "output_type": "stream",
     "text": [
      "Converged to LP: -539.9:   5%|▌         | 50/1000 [00:00<00:10, 87.21it/s]\n",
      "Converged to LP: -535.6:   6%|▌         | 56/1000 [00:00<00:11, 83.80it/s]\n",
      "Converged to LP: -549.4:  10%|█         | 101/1000 [00:00<00:08, 101.86it/s]\n",
      "Converged to LP: -558.2:  10%|▉         | 97/1000 [00:01<00:10, 88.81it/s] \n",
      "Converged to LP: -546.7:  18%|█▊        | 185/1000 [00:01<00:06, 121.57it/s]\n"
     ]
    },
    {
     "name": "stdout",
     "output_type": "stream",
     "text": [
      "Fitting 4 states...\n"
     ]
    },
    {
     "name": "stderr",
     "output_type": "stream",
     "text": [
      "Converged to LP: -581.3:  13%|█▎        | 134/1000 [00:01<00:10, 79.43it/s]\n",
      "Converged to LP: -598.5:  16%|█▋        | 163/1000 [00:01<00:09, 89.17it/s]\n",
      "Converged to LP: -598.3:  16%|█▌        | 158/1000 [00:01<00:09, 85.99it/s]\n",
      "Converged to LP: -602.6:  18%|█▊        | 175/1000 [00:02<00:09, 86.09it/s] \n",
      "Converged to LP: -589.1:  49%|████▉     | 488/1000 [00:04<00:04, 102.45it/s]\n",
      "LP: -682.3:   0%|          | 0/1000 [00:00<?, ?it/s]"
     ]
    },
    {
     "name": "stdout",
     "output_type": "stream",
     "text": [
      "Fitting 5 states...\n"
     ]
    },
    {
     "name": "stderr",
     "output_type": "stream",
     "text": [
      "Converged to LP: -648.2:  23%|██▎       | 230/1000 [00:03<00:11, 67.74it/s]\n",
      "Converged to LP: -628.7:  42%|████▏     | 418/1000 [00:05<00:07, 76.73it/s]\n",
      "Converged to LP: -650.4:  49%|████▉     | 494/1000 [00:06<00:06, 75.81it/s]\n",
      "Converged to LP: -629.6:  50%|████▉     | 499/1000 [00:06<00:06, 76.50it/s]\n",
      "Converged to LP: -640.2:  52%|█████▏    | 521/1000 [00:06<00:06, 79.61it/s]\n"
     ]
    }
   ],
   "source": [
    "# session-wise fitting with 5 fold cross-validation\n",
    "models_session_state_fold, train_ll_session, test_ll_session = session_wise_fit_cv(choices_session_wise, inputs_session_wise, masks=masks_session_wise, n_sessions=len((session_metadata[\"session_id\"])), init_params=init_params, state_range=np.arange(1, 6), n_iters=1000)"
   ]
  },
  {
   "cell_type": "code",
   "execution_count": null,
   "metadata": {},
   "outputs": [
    {
     "ename": "TabError",
     "evalue": "inconsistent use of tabs and spaces in indentation (3681515432.py, line 12)",
     "output_type": "error",
     "traceback": [
      "\u001b[0;36m  Cell \u001b[0;32mIn[58], line 12\u001b[0;36m\u001b[0m\n\u001b[0;31m    df = {\u001b[0m\n\u001b[0m    ^\u001b[0m\n\u001b[0;31mTabError\u001b[0m\u001b[0;31m:\u001b[0m inconsistent use of tabs and spaces in indentation\n"
     ]
    }
   ],
   "source": [
    "# store data and models for aggregated\n",
    "global_fits = {\"models\": models_glm_hmm, \"fits_lls_glm_hmm\": fit_lls_glm_hmm, \"init_params\": init_params}\n",
    "session_wise_fits = {\n",
    "\t\"models\": models_session_state_fold,\n",
    "\t\"train_ll\": train_ll_session,\n",
    "\t\"test_ll\": test_ll_session,\n",
    "}\n",
    "# store data and models for session-wise\n",
    "session_data = {}\n",
    "for idx, session_id in enumerate(session_metadata[\"session_id\"]):\n",
    "    inputs = inputs_session_wise[idx]\n",
    "\tdf = {\n",
    "\t\t\"choices\": choices_session_wise[idx].ravel(),\n",
    "\t\t\"stimulus\": unnormalized_inputs_session_wise[idx][:, 0],\n",
    "\t\t\"normalized_stimulus\": inputs[:, 0],\n",
    "\t\t\"bias\": inputs[:, 1],\n",
    "\t\t\"mask\": masks_session_wise[idx].ravel(),\n",
    "\t\t\"trial_num\": GP_trial_num_session_wise[idx].ravel(),\n",
    "\t\t\"prob_toRF\": prob_toRF_session_wise[idx].ravel(),\n",
    "\t}\n",
    "\n",
    "\n",
    "\tfor t in range(n_trial_back):\n",
    "\t\tdf[f\"prev_choice_{t+1}\"] = inputs[:, current_trial_param + t]\n",
    "\t\tdf[f\"prev_target_{t+1}\"] = inputs[:, current_trial_param + n_trial_back + t]\n",
    "\n",
    "    session_data[session_id] = pd.DataFrame(df)\n",
    "\n",
    "\n",
    "models_and_data = {\n",
    "\t\"global\": global_fits,\n",
    "\t\"session_wise\":session_wise_fits,\n",
    "\t\"data\": session_data,\n",
    "}\n",
    "\n",
    "with open(Path(processed_dir, f\"global_glm_hmm_{_TRIALS}.pkl\"), \"wb\") as f:\n",
    "\tpickle.dump(models_and_data, f)"
   ]
  }
 ],
 "metadata": {
  "kernelspec": {
   "display_name": "Python 3",
   "language": "python",
   "name": "python3"
  },
  "language_info": {
   "codemirror_mode": {
    "name": "ipython",
    "version": 3
   },
   "file_extension": ".py",
   "mimetype": "text/x-python",
   "name": "python",
   "nbconvert_exporter": "python",
   "pygments_lexer": "ipython3",
   "version": "3.10.6"
  }
 },
 "nbformat": 4,
 "nbformat_minor": 2
}
