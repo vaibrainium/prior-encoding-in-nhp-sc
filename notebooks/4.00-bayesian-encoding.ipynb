{
 "cells": [
  {
   "cell_type": "code",
   "execution_count": 10,
   "metadata": {},
   "outputs": [],
   "source": [
    "import numpy as np\n",
    "import torch\n",
    "from torch.autograd import Variable\n",
    "from matplotlib import pyplot as plt\n"
   ]
  },
  {
   "cell_type": "code",
   "execution_count": 15,
   "metadata": {},
   "outputs": [],
   "source": [
    "import numpy as np\n",
    "import torch\n",
    "from torch.nn.init import normal, constant\n",
    "from torch import nn\n",
    "from torch.utils.data import TensorDataset, DataLoader\n",
    "from torch.autograd import Variable\n",
    "from torch.nn import functional as F\n",
    "from collections import OrderedDict\n",
    "\n",
    "class Net(nn.Module):\n",
    "    def __init__(self, n_channel=96, n_hidden=100, n_output=51, dropout=0.9, std=0.01):\n",
    "        super().__init__()\n",
    "        self.n_channel = n_channel\n",
    "        self.std = std\n",
    "        self.n_output = n_output\n",
    "        self.dropout = dropout\n",
    "\n",
    "        if not isinstance(n_hidden, (list, tuple)):\n",
    "            n_hidden = (n_hidden,)\n",
    "\n",
    "\n",
    "        # prune out 0\n",
    "        n_hidden = [i for i in n_hidden if i != 0]\n",
    "\n",
    "        self.n_hidden = n_hidden\n",
    "\n",
    "        n_prev = n_channel\n",
    "        hiddens = []\n",
    "\n",
    "        for n in n_hidden:\n",
    "            hiddens.append(nn.Linear(n_prev, n))\n",
    "            hiddens.append(nn.ReLU())\n",
    "            if dropout > 0.0:\n",
    "                hiddens.append(nn.Dropout(p=dropout, inplace=True))\n",
    "            n_prev = n\n",
    "        if len(hiddens) > 0:\n",
    "            self.hiddens = nn.Sequential(*hiddens)\n",
    "        else:\n",
    "            self.hiddens = lambda x: x\n",
    "        self.ro_layer = nn.Linear(n_prev, n_output)\n",
    "\n",
    "        self.initialize()\n",
    "\n",
    "    def forward(self, x):\n",
    "        x = self.hiddens(x)\n",
    "        x = self.ro_layer(x)\n",
    "        return x\n",
    "\n",
    "    def initialize(self):\n",
    "        def fn(mod):\n",
    "            if isinstance(mod, nn.Linear):\n",
    "                normal(mod.weight, std=self.std)\n",
    "                constant(mod.bias, 0)\n",
    "        self.apply(fn)"
   ]
  },
  {
   "cell_type": "code",
   "execution_count": 5,
   "metadata": {},
   "outputs": [
    {
     "name": "stdout",
     "output_type": "stream",
     "text": [
      "Working!\n"
     ]
    }
   ],
   "source": [
    "print('Working!')\n",
    "\n",
    "#bin_width, bin_counts, clip_outside = (BinConfig() & key).fetch1('bin_width', 'bin_counts', 'clip_outside')\n",
    "bin_counts = 61\n",
    "bin_width = 1.0\n",
    "clip_outside = True\n",
    "delta = bin_width\n",
    "nbins = bin_counts"
   ]
  },
  {
   "cell_type": "code",
   "execution_count": 8,
   "metadata": {},
   "outputs": [],
   "source": [
    "sigmaA = 3\n",
    "sigmaB = 15\n",
    "pv = (np.arange(nbins) - nbins//2) * delta\n",
    "prior = np.log(np.exp(- pv**2 / 2 / sigmaA**2) / sigmaA + np.exp(- pv**2 / 2 / sigmaB**2) / sigmaB)\n",
    "prior = Variable(torch.from_numpy(prior)).cuda().float()"
   ]
  },
  {
   "cell_type": "code",
   "execution_count": null,
   "metadata": {},
   "outputs": [
    {
     "name": "stderr",
     "output_type": "stream",
     "text": [
      "/tmp/ipykernel_89596/969746929.py:52: UserWarning: nn.init.normal is now deprecated in favor of nn.init.normal_.\n",
      "  normal(mod.weight, std=self.std)\n",
      "/tmp/ipykernel_89596/969746929.py:53: UserWarning: nn.init.constant is now deprecated in favor of nn.init.constant_.\n",
      "  constant(mod.bias, 0)\n"
     ]
    }
   ],
   "source": []
  },
  {
   "cell_type": "code",
   "execution_count": null,
   "metadata": {},
   "outputs": [],
   "source": [
    "net = Net(n_output=61, n_hidden=[600, 600], std=0.001, dropout=0.5)\n",
    "net.cuda()\n",
    "loss = nn.CrossEntropyLoss().cuda()\n",
    "\n",
    "net.eval()\n",
    "y = net(valid_x)\n",
    "\n",
    "y = y + prior\n",
    "val, idx = torch.max(y, 1)\n",
    "yd = y.data.cpu().numpy()\n",
    "\n",
    "plt.subplot(211)\n",
    "t_hat = idx.data.cpu().numpy()\n",
    "plt.scatter(t_hat, valid_ori)\n",
    "\n",
    "print(np.sqrt(np.mean((t_hat - valid_ori)**2)) * delta)\n",
    "\n",
    "plt.subplot(212)\n",
    "\n",
    "plt.plot(yd[47])"
   ]
  },
  {
   "cell_type": "markdown",
   "metadata": {},
   "source": [
    "## ISSUES\n",
    "\n",
    "1. Sequential data recording\n",
    "2. "
   ]
  }
 ],
 "metadata": {
  "kernelspec": {
   "display_name": "Python 3",
   "language": "python",
   "name": "python3"
  },
  "language_info": {
   "codemirror_mode": {
    "name": "ipython",
    "version": 3
   },
   "file_extension": ".py",
   "mimetype": "text/x-python",
   "name": "python",
   "nbconvert_exporter": "python",
   "pygments_lexer": "ipython3",
   "version": "3.10.12"
  }
 },
 "nbformat": 4,
 "nbformat_minor": 2
}
