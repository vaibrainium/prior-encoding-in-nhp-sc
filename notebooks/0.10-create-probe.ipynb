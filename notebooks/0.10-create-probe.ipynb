{
 "cells": [
  {
   "cell_type": "code",
   "execution_count": 1,
   "metadata": {},
   "outputs": [
    {
     "name": "stdout",
     "output_type": "stream",
     "text": [
      "Config path: /src/config loaded, file-exists: True\n"
     ]
    }
   ],
   "source": [
    "import numpy as np\n",
    "from kilosort.io import save_probe\n",
    "\n",
    "from src.utils import config_path"
   ]
  },
  {
   "cell_type": "markdown",
   "metadata": {},
   "source": [
    "## S-probe mapping"
   ]
  },
  {
   "cell_type": "code",
   "execution_count": 3,
   "metadata": {},
   "outputs": [],
   "source": [
    "plexon_chan_map = {\n",
    "\t0: 0,\n",
    "\t1: 2,\n",
    "\t2: 4,\n",
    "\t3: 6,\n",
    "\t4: 8,\n",
    "\t5: 10,\n",
    "\t6: 12,\n",
    "\t7: 14,\n",
    "\t8: 1,\n",
    "\t9: 3,\n",
    "\t10: 5,\n",
    "\t11: 7,\n",
    "\t12: 9,\n",
    "\t13: 11,\n",
    "\t14: 13,\n",
    "\t15: 15,\n",
    "}"
   ]
  },
  {
   "cell_type": "code",
   "execution_count": 5,
   "metadata": {},
   "outputs": [
    {
     "name": "stdout",
     "output_type": "stream",
     "text": [
      "{'chanMap': [0, 2, 4, 6, 8, 10, 12, 14, 1, 3, 5, 7, 9, 11, 13, 15], 'xc': array([7.5, 7.5, 7.5, 7.5, 7.5, 7.5, 7.5, 7.5, 7.5, 7.5, 7.5, 7.5, 7.5,\n",
      "       7.5, 7.5, 7.5]), 'yc': array([  7.5,  57.5, 107.5, 157.5, 207.5, 257.5, 307.5, 357.5, 407.5,\n",
      "       457.5, 507.5, 557.5, 607.5, 657.5, 707.5, 757.5]), 'kcoords': array([0., 0., 0., 0., 0., 0., 0., 0., 0., 0., 0., 0., 0., 0., 0., 0.]), 'n_chan': 16}\n"
     ]
    }
   ],
   "source": [
    "chanMap = list(plexon_chan_map.values())\n",
    "kcoords = np.zeros(16)\n",
    "n_chan = 16\n",
    "contact_x = 15\n",
    "contact_y = 15\n",
    "intercontact_distance = 50\n",
    "\n",
    "xc = np.ones(16) * contact_x / 2\n",
    "yc = np.array([(contact_y / 2) + intercontact_distance * i for i in range(16)])\n",
    "\n",
    "probe = {\"chanMap\": chanMap, \"xc\": xc, \"yc\": yc, \"kcoords\": kcoords, \"n_chan\": n_chan}\n",
    "\n",
    "print(probe)"
   ]
  },
  {
   "cell_type": "code",
   "execution_count": 8,
   "metadata": {},
   "outputs": [],
   "source": [
    "save_probe(probe, f\"{config_path}/s-probe.json\")"
   ]
  }
 ],
 "metadata": {
  "kernelspec": {
   "display_name": "Python 3",
   "language": "python",
   "name": "python3"
  },
  "language_info": {
   "codemirror_mode": {
    "name": "ipython",
    "version": 3
   },
   "file_extension": ".py",
   "mimetype": "text/x-python",
   "name": "python",
   "nbconvert_exporter": "python",
   "pygments_lexer": "ipython3",
   "version": "3.10.12"
  }
 },
 "nbformat": 4,
 "nbformat_minor": 2
}
