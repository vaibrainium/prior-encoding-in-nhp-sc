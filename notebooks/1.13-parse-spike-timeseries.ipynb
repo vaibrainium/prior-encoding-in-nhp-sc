{
 "cells": [
  {
   "cell_type": "code",
   "execution_count": null,
   "metadata": {},
   "outputs": [
    {
     "name": "stdout",
     "output_type": "stream",
     "text": [
      "The autoreload extension is already loaded. To reload it, use:\n",
      "  %reload_ext autoreload\n"
     ]
    }
   ],
   "source": [
    "%matplotlib inline\n",
    "%load_ext autoreload\n",
    "%autoreload 2\n",
    "from notebooks.imports import *\n",
    "from pathlib import Path\n",
    "from scipy.ndimage import gaussian_filter1d"
   ]
  },
  {
   "cell_type": "code",
   "execution_count": 3,
   "metadata": {},
   "outputs": [],
   "source": [
    "from config import dir_config, ephys_config\n",
    "compiled_dir = Path(dir_config.data.compiled)\n",
    "processed_dir = Path(dir_config.data.processed)"
   ]
  },
  {
   "cell_type": "markdown",
   "metadata": {},
   "source": [
    "### Extract spike timeseries aligned to specific event for every unit"
   ]
  },
  {
   "cell_type": "markdown",
   "metadata": {},
   "source": [
    "### utils"
   ]
  },
  {
   "cell_type": "code",
   "execution_count": 25,
   "metadata": {},
   "outputs": [],
   "source": [
    "# Function to align and convolve spike trains\n",
    "def get_aligned_spike_trains(cluster_spike_time, timestamps, trial_info, alignment_settings, alignment_buffer, sampling_rate=30, sigma=10):\n",
    "    \n",
    "    \n",
    "\n",
    "    n_trials = len(trial_info)\n",
    "    duration = 30000\n",
    "\n",
    "    spike_trains = np.zeros((n_trials, duration), dtype=np.float32)  * np.nan\n",
    "    convolved_spike_trains = np.zeros((n_trials, duration), dtype=np.float32) * np.nan\n",
    "\n",
    "    start_time_ms = -500\n",
    "    end_time_ms = 1000\n",
    "    start_alignment_event = 'fixation_onset'\n",
    "    end_alignment_event = 'response_onset'\n",
    "\n",
    "    result = {\n",
    "        'events_relative_timing':{\n",
    "            'fixation_onset': np.full(n_trials, np.nan),\n",
    "            'target_onset': np.full(n_trials, np.nan),\n",
    "            'stimulus_onset': np.full(n_trials, np.nan),\n",
    "            'go_onset': np.full(n_trials, np.nan),\n",
    "            'response_onset': np.full(n_trials, np.nan)\n",
    "        }\n",
    "    }\n",
    "\n",
    "        # Iterate through trials\n",
    "    for idx_trial, trial_num in enumerate(trial_info.index):\n",
    "        if np.isnan(trial_info.reaction_time[trial_num]):\n",
    "            spike_trains[idx_trial,:] *= np.nan\n",
    "            convolved_spike_trains[idx_trial,:] *= np.nan\n",
    "            continue\n",
    "\n",
    "        start_timestamp = timestamps.loc[trial_num, start_alignment_event] + start_time_ms * sampling_rate\n",
    "        end_timestamp = timestamps.loc[trial_num, end_alignment_event] + end_time_ms * sampling_rate\n",
    "\n",
    "        # fill with 0 from start to end\n",
    "        spike_trains[idx_trial, :np.ceil((end_timestamp-start_timestamp) / sampling_rate).astype(int)] = 0\n",
    "        convolved_spike_trains[idx_trial, :np.ceil((end_timestamp-start_timestamp) / sampling_rate).astype(int)] = 0\n",
    "        \n",
    "        # Filter spike times from start_timestamp to end_timestamp\n",
    "        temp_spike_times = cluster_spike_time[\n",
    "            (cluster_spike_time >= start_timestamp) & (cluster_spike_time <= end_timestamp)\n",
    "        ] - start_timestamp\n",
    "\n",
    "        spike_idx = np.ceil(temp_spike_times / sampling_rate).astype(int)\n",
    "        spike_trains[idx_trial, spike_idx] = 1\n",
    "\n",
    "        # Convolve spike trains\n",
    "        convolved_spike_trains[idx_trial,:] = gaussian_filter1d(spike_trains[idx_trial,:], sigma=sigma, truncate=3)\n",
    "\n",
    "        # fill in event timing relative to start_timestamp\n",
    "        for event_name in result[\"events_relative_timing\"].keys():\n",
    "            result[\"events_relative_timing\"][event_name][idx_trial] = np.ceil((timestamps.loc[trial_num, event_name]-start_timestamp) / sampling_rate).astype(int)\n",
    "\n",
    "\n",
    "    # Store results\n",
    "    result['spike_trains'] = spike_trains\n",
    "    result['convolved_spike_trains'] = convolved_spike_trains * 1000\n",
    "\n",
    "    return result\n"
   ]
  },
  {
   "cell_type": "code",
   "execution_count": 26,
   "metadata": {},
   "outputs": [],
   "source": [
    "\n",
    "# Load neuron metadata\n",
    "neuron_metadata = pd.read_csv(Path(compiled_dir, \"neuron_metadata.csv\"), index_col=None)\n",
    "ephys_neuron_wise = {event['alignment_event']: {} for event in ephys_config.alignment_settings_GP}\n",
    "\n",
    "# Main loop for each neuron\n",
    "for neuron in neuron_metadata.neuron_id:\n",
    "    session_name = neuron_metadata.session_id[neuron - 1]\n",
    "    cluster_id = neuron_metadata.cluster[neuron - 1]\n",
    "\n",
    "    # Load required data\n",
    "    timestamps_path = Path(compiled_dir, session_name, f\"{session_name}_timestamps.csv\")\n",
    "    trial_info_path = Path(compiled_dir, session_name, f\"{session_name}_trial.csv\")\n",
    "    spike_times_path = Path(compiled_dir, session_name, \"spike_times.npy\")\n",
    "    spike_clusters_path = Path(compiled_dir, session_name, \"spike_clusters.npy\")\n",
    "    spike_times_mat_path = Path(compiled_dir, session_name, \"spike_times.mat\")\n",
    "    spike_clusters_mat_path = Path(compiled_dir, session_name, \"spike_clusters.mat\")\n",
    "\n",
    "    if not (timestamps_path.is_file() and trial_info_path.is_file()):\n",
    "        print(f\"Missing files for session: {session_name}\")\n",
    "        continue\n",
    "\n",
    "    timestamps = pd.read_csv(timestamps_path, index_col=None)\n",
    "    trial_info = pd.read_csv(trial_info_path, index_col=None)\n",
    "\n",
    "    # Load spike data\n",
    "    if spike_times_path.is_file() and spike_clusters_path.is_file():\n",
    "        spike_times = np.load(spike_times_path)\n",
    "        spike_clusters = np.load(spike_clusters_path)\n",
    "    elif spike_times_mat_path.is_file() and spike_clusters_mat_path.is_file():\n",
    "        spike_times = scipy.io.loadmat(spike_times_mat_path)['spike_times'].ravel()\n",
    "        spike_clusters = scipy.io.loadmat(spike_clusters_mat_path)['spike_clusters'].ravel()\n",
    "    else:\n",
    "        print(f\"Spike times and clusters not found in {session_name} for neuron {neuron}\")\n",
    "        continue\n",
    "\n",
    "    # Filter spike times for the current cluster\n",
    "    cluster_spike_time = spike_times[spike_clusters == cluster_id]\n",
    "    GP_trial_info = trial_info[(trial_info.task_type == 1)]# & (~np.isnan(trial_info.reaction_time))]\n",
    "\n",
    "    # Get aligned and convolved spike trains\n",
    "    results = get_aligned_spike_trains(\n",
    "        cluster_spike_time, timestamps, GP_trial_info,\n",
    "        ephys_config.alignment_settings_GP, ephys_config.alignment_buffer\n",
    "    )\n",
    "\n",
    "    # Save results\n",
    "    ephys_neuron_wise[neuron]={\n",
    "        \"spike_trains\": results['spike_trains'],\n",
    "        \"convolved_spike_trains\": results['convolved_spike_trains'],\n",
    "        \"event_relative_timing\": results['events_relative_timing'],\n",
    "        \"trial_number\": GP_trial_info.trial_number\n",
    "    }"
   ]
  },
  {
   "cell_type": "code",
   "execution_count": 27,
   "metadata": {},
   "outputs": [],
   "source": [
    "import pickle\n",
    "with open(Path(processed_dir, \"ephys_neuron_wise_whole_trial.pkl\"), 'wb') as handle:\n",
    "    pickle.dump(ephys_neuron_wise, handle, protocol=pickle.HIGHEST_PROTOCOL)"
   ]
  },
  {
   "cell_type": "code",
   "execution_count": null,
   "metadata": {},
   "outputs": [],
   "source": []
  }
 ],
 "metadata": {
  "kernelspec": {
   "display_name": "prior-sc",
   "language": "python",
   "name": "python3"
  },
  "language_info": {
   "codemirror_mode": {
    "name": "ipython",
    "version": 3
   },
   "file_extension": ".py",
   "mimetype": "text/x-python",
   "name": "python",
   "nbconvert_exporter": "python",
   "pygments_lexer": "ipython3",
   "version": "3.11.9"
  }
 },
 "nbformat": 4,
 "nbformat_minor": 2
}
