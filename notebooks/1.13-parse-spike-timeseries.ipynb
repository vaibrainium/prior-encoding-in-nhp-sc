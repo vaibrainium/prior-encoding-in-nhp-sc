{
 "cells": [
  {
   "cell_type": "code",
   "execution_count": null,
   "metadata": {},
   "outputs": [
    {
     "name": "stdout",
     "output_type": "stream",
     "text": [
      "The autoreload extension is already loaded. To reload it, use:\n",
      "  %reload_ext autoreload\n"
     ]
    }
   ],
   "source": [
    "%matplotlib inline\n",
    "%load_ext autoreload\n",
    "%autoreload 2\n",
    "from notebooks.imports import *\n",
    "from pathlib import Path\n",
    "from scipy.ndimage import gaussian_filter1d"
   ]
  },
  {
   "cell_type": "code",
   "execution_count": 3,
   "metadata": {},
   "outputs": [],
   "source": [
    "from config import dir_config, ephys_config\n",
    "\n",
    "compiled_dir = Path(dir_config.data.compiled)\n",
    "processed_dir = Path(dir_config.data.processed)"
   ]
  },
  {
   "cell_type": "markdown",
   "metadata": {},
   "source": [
    "### Extract spike timeseries aligned to specific event for every unit"
   ]
  },
  {
   "cell_type": "markdown",
   "metadata": {},
   "source": [
    "### utils"
   ]
  },
  {
   "cell_type": "code",
   "execution_count": 25,
   "metadata": {},
   "outputs": [],
   "source": [
    "# Function to align and convolve spike trains\n",
    "def get_aligned_spike_trains(cluster_spike_time, timestamps, trial_info, alignment_settings, alignment_buffer, sampling_rate=30, sigma=10):\n",
    "\tn_trials = len(trial_info)\n",
    "\tduration = 30000\n",
    "\n",
    "\tspike_trains = np.zeros((n_trials, duration), dtype=np.float32) * np.nan\n",
    "\tconvolved_spike_trains = np.zeros((n_trials, duration), dtype=np.float32) * np.nan\n",
    "\n",
    "\tstart_time_ms = -500\n",
    "\tend_time_ms = 1000\n",
    "\tstart_alignment_event = \"fixation_onset\"\n",
    "\tend_alignment_event = \"response_onset\"\n",
    "\n",
    "\tresult = {\n",
    "\t\t\"events_relative_timing\": {\n",
    "\t\t\t\"fixation_onset\": np.full(n_trials, np.nan),\n",
    "\t\t\t\"target_onset\": np.full(n_trials, np.nan),\n",
    "\t\t\t\"stimulus_onset\": np.full(n_trials, np.nan),\n",
    "\t\t\t\"go_onset\": np.full(n_trials, np.nan),\n",
    "\t\t\t\"response_onset\": np.full(n_trials, np.nan),\n",
    "\t\t}\n",
    "\t}\n",
    "\n",
    "\t# Iterate through trials\n",
    "\tfor idx_trial, trial_num in enumerate(trial_info.index):\n",
    "\t\tif np.isnan(trial_info.reaction_time[trial_num]):\n",
    "\t\t\tspike_trains[idx_trial, :] *= np.nan\n",
    "\t\t\tconvolved_spike_trains[idx_trial, :] *= np.nan\n",
    "\t\t\tcontinue\n",
    "\n",
    "\t\tstart_timestamp = timestamps.loc[trial_num, start_alignment_event] + start_time_ms * sampling_rate\n",
    "\t\tend_timestamp = timestamps.loc[trial_num, end_alignment_event] + end_time_ms * sampling_rate\n",
    "\n",
    "\t\t# fill with 0 from start to end\n",
    "\t\tspike_trains[idx_trial, : np.ceil((end_timestamp - start_timestamp) / sampling_rate).astype(int)] = 0\n",
    "\t\tconvolved_spike_trains[idx_trial, : np.ceil((end_timestamp - start_timestamp) / sampling_rate).astype(int)] = 0\n",
    "\n",
    "\t\t# Filter spike times from start_timestamp to end_timestamp\n",
    "\t\ttemp_spike_times = cluster_spike_time[(cluster_spike_time >= start_timestamp) & (cluster_spike_time <= end_timestamp)] - start_timestamp\n",
    "\n",
    "\t\tspike_idx = np.ceil(temp_spike_times / sampling_rate).astype(int)\n",
    "\t\tspike_trains[idx_trial, spike_idx] = 1\n",
    "\n",
    "\t\t# Convolve spike trains\n",
    "\t\tconvolved_spike_trains[idx_trial, :] = gaussian_filter1d(spike_trains[idx_trial, :], sigma=sigma, truncate=3)\n",
    "\n",
    "\t\t# fill in event timing relative to start_timestamp\n",
    "\t\tfor event_name in result[\"events_relative_timing\"].keys():\n",
    "\t\t\tresult[\"events_relative_timing\"][event_name][idx_trial] = np.ceil((timestamps.loc[trial_num, event_name] - start_timestamp) / sampling_rate).astype(int)\n",
    "\n",
    "\t# Store results\n",
    "\tresult[\"spike_trains\"] = spike_trains\n",
    "\tresult[\"convolved_spike_trains\"] = convolved_spike_trains * 1000\n",
    "\n",
    "\treturn result"
   ]
  },
  {
   "cell_type": "code",
   "execution_count": 26,
   "metadata": {},
   "outputs": [],
   "source": [
    "# Load neuron metadata\n",
    "neuron_metadata = pd.read_csv(Path(compiled_dir, \"neuron_metadata.csv\"), index_col=None)\n",
    "ephys_neuron_wise = {event[\"alignment_event\"]: {} for event in ephys_config.alignment_settings_GP}\n",
    "\n",
    "# Main loop for each neuron\n",
    "for neuron in neuron_metadata.neuron_id:\n",
    "\tsession_name = neuron_metadata.session_id[neuron - 1]\n",
    "\tcluster_id = neuron_metadata.cluster[neuron - 1]\n",
    "\n",
    "\t# Load required data\n",
    "\ttimestamps_path = Path(compiled_dir, session_name, f\"{session_name}_timestamps.csv\")\n",
    "\ttrial_info_path = Path(compiled_dir, session_name, f\"{session_name}_trial.csv\")\n",
    "\tspike_times_path = Path(compiled_dir, session_name, \"spike_times.npy\")\n",
    "\tspike_clusters_path = Path(compiled_dir, session_name, \"spike_clusters.npy\")\n",
    "\tspike_times_mat_path = Path(compiled_dir, session_name, \"spike_times.mat\")\n",
    "\tspike_clusters_mat_path = Path(compiled_dir, session_name, \"spike_clusters.mat\")\n",
    "\n",
    "\tif not (timestamps_path.is_file() and trial_info_path.is_file()):\n",
    "\t\tprint(f\"Missing files for session: {session_name}\")\n",
    "\t\tcontinue\n",
    "\n",
    "\ttimestamps = pd.read_csv(timestamps_path, index_col=None)\n",
    "\ttrial_info = pd.read_csv(trial_info_path, index_col=None)\n",
    "\n",
    "\t# Load spike data\n",
    "\tif spike_times_path.is_file() and spike_clusters_path.is_file():\n",
    "\t\tspike_times = np.load(spike_times_path)\n",
    "\t\tspike_clusters = np.load(spike_clusters_path)\n",
    "\telif spike_times_mat_path.is_file() and spike_clusters_mat_path.is_file():\n",
    "\t\tspike_times = scipy.io.loadmat(spike_times_mat_path)[\"spike_times\"].ravel()\n",
    "\t\tspike_clusters = scipy.io.loadmat(spike_clusters_mat_path)[\"spike_clusters\"].ravel()\n",
    "\telse:\n",
    "\t\tprint(f\"Spike times and clusters not found in {session_name} for neuron {neuron}\")\n",
    "\t\tcontinue\n",
    "\n",
    "\t# Filter spike times for the current cluster\n",
    "\tcluster_spike_time = spike_times[spike_clusters == cluster_id]\n",
    "\tGP_trial_info = trial_info[(trial_info.task_type == 1)]  # & (~np.isnan(trial_info.reaction_time))]\n",
    "\n",
    "\t# Get aligned and convolved spike trains\n",
    "\tresults = get_aligned_spike_trains(cluster_spike_time, timestamps, GP_trial_info, ephys_config.alignment_settings_GP, ephys_config.alignment_buffer)\n",
    "\n",
    "\t# Save results\n",
    "\tephys_neuron_wise[neuron] = {\"spike_trains\": results[\"spike_trains\"], \"convolved_spike_trains\": results[\"convolved_spike_trains\"], \"event_relative_timing\": results[\"events_relative_timing\"], \"trial_number\": GP_trial_info.trial_number}"
   ]
  },
  {
   "cell_type": "code",
   "execution_count": 27,
   "metadata": {},
   "outputs": [],
   "source": [
    "import pickle\n",
    "\n",
    "with open(Path(processed_dir, \"ephys_neuron_wise_whole_trial.pkl\"), \"wb\") as handle:\n",
    "\tpickle.dump(ephys_neuron_wise, handle, protocol=pickle.HIGHEST_PROTOCOL)"
   ]
  },
  {
   "cell_type": "code",
   "execution_count": null,
   "metadata": {},
   "outputs": [],
   "source": []
  }
 ],
 "metadata": {
  "kernelspec": {
   "display_name": "prior-sc",
   "language": "python",
   "name": "python3"
  },
  "language_info": {
   "codemirror_mode": {
    "name": "ipython",
    "version": 3
   },
   "file_extension": ".py",
   "mimetype": "text/x-python",
   "name": "python",
   "nbconvert_exporter": "python",
   "pygments_lexer": "ipython3",
   "version": "3.11.9"
  }
 },
 "nbformat": 4,
 "nbformat_minor": 2
}
