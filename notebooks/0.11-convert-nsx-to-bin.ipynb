{
 "cells": [
  {
   "cell_type": "code",
   "execution_count": 1,
   "metadata": {},
   "outputs": [],
   "source": [
    "%matplotlib inline\n",
    "%load_ext autoreload\n",
    "%autoreload 2\n",
    "from notebooks.imports import *"
   ]
  },
  {
   "cell_type": "code",
   "execution_count": 2,
   "metadata": {},
   "outputs": [],
   "source": [
    "from kilosort import run_kilosort, io\n",
    "import spikeinterface.extractors as se"
   ]
  },
  {
   "cell_type": "markdown",
   "metadata": {},
   "source": [
    "### Load Configs"
   ]
  },
  {
   "cell_type": "code",
   "execution_count": 34,
   "metadata": {},
   "outputs": [],
   "source": [
    "from config import dir_config, main_config, s_probe_path\n",
    "\n",
    "raw_dir = Path(dir_config.data.raw)\n",
    "sorting_dir = Path(dir_config.data.sorting)\n",
    "compiled_dir = Path(dir_config.data.compiled)\n",
    "\n",
    "session_metadata = pd.read_csv(Path(compiled_dir, \"sessions_metadata.csv\"), index_col=None)"
   ]
  },
  {
   "cell_type": "markdown",
   "metadata": {},
   "source": [
    "### Utils functions"
   ]
  },
  {
   "cell_type": "code",
   "execution_count": 67,
   "metadata": {},
   "outputs": [],
   "source": [
    "\n",
    "def convert_nsx_to_bin(nsx_path, nsx_name, bin_path, bin_name):\n",
    "    nsx_data, N, c, s, fs, probe_path = None, None, None, None, None, None\n",
    "    \n",
    "    nsx_file = Path(nsx_path, f'{nsx_name}.ns5')\n",
    "    if nsx_file.exists():\n",
    "        nsx_data = se.read_blackrock(file_path=Path(nsx_path, nsx_name), stream_id='5')   \n",
    "        filename, N, c, s, fs, probe_path = io.spikeinterface_to_binary(\n",
    "        nsx_data, bin_path, data_name=f\"{bin_name}.bin\", dtype=np.int16,\n",
    "        chunksize=60000, export_probe=True, probe_name='probe.prb'\n",
    "        )\n",
    "        print(f\"{N}, {c}, {s}, {fs}, {probe_path}\")\n",
    "    else:\n",
    "        print(f\"File {nsx_file} does not exist\")\n",
    "    return nsx_data, N, c, s, fs, probe_path"
   ]
  },
  {
   "cell_type": "markdown",
   "metadata": {},
   "source": [
    "## Covert blackrock (NSX) data to bin"
   ]
  },
  {
   "cell_type": "code",
   "execution_count": 74,
   "metadata": {},
   "outputs": [
    {
     "name": "stdout",
     "output_type": "stream",
     "text": [
      "Bin file exists for: \t 210126_GP_JP\n",
      "Raw data does not exist for: \t 210205_GP_JP\n",
      "Raw data does not exist for: \t 210210_GP_JP\n",
      "Raw data does not exist for: \t 210211_GP_JP\n",
      "Raw data does not exist for: \t 210216_GP_JP\n",
      "Raw data does not exist for: \t 210217_GP_JP\n",
      "Raw data does not exist for: \t 210224_GP_JP\n",
      "Raw data does not exist for: \t 210302_GP_JP\n",
      "Raw data does not exist for: \t 210305_GP_JP\n",
      "Raw data does not exist for: \t 210311_GP_JP\n",
      "Raw data does not exist for: \t 210312_GP_JP\n",
      "Raw data does not exist for: \t 210315_GP_JP\n",
      "Raw data does not exist for: \t 210316_GP_JP\n",
      "Raw data does not exist for: \t 210317_GP_JP\n",
      "Raw data does not exist for: \t 210318_GP_JP\n",
      "Raw data does not exist for: \t 210323_GP_JP\n",
      "Raw data does not exist for: \t 210413_GP_JP\n",
      "Raw data does not exist for: \t 210524_GP_JP\n",
      "Raw data does not exist for: \t 210525_GP_JP\n",
      "Raw data does not exist for: \t 210528_GP_JP\n",
      "Raw data does not exist for: \t 210601_GP_JP\n",
      "Raw data does not exist for: \t 210602_GP_JP\n",
      "Raw data does not exist for: \t 210603_GP_JP\n",
      "Raw data does not exist for: \t 210608_GP_JP\n",
      "Raw data does not exist for: \t 210609_GP_JP\n",
      "Raw data does not exist for: \t 210708_GP_JP\n"
     ]
    }
   ],
   "source": [
    "for idx, session_id in enumerate(session_metadata['session_id']):\n",
    "    # Construct the path to the raw and binary file\n",
    "    nsx_path = Path(raw_dir) / session_id\n",
    "    nsx_name = session_id\n",
    "    bin_path = Path(sorting_dir) / session_id\n",
    "    bin_name = session_id\n",
    "    bin_file = bin_path / f\"{bin_name}.bin\"\n",
    "    \n",
    "    try:\n",
    "        # check if raw data exists\n",
    "        if not nsx_path.exists():\n",
    "            print(f\"Raw data does not exist for: \\t {session_id}\")\n",
    "            continue\n",
    "        \n",
    "        # Check if the binary file already exists\n",
    "        if not bin_file.exists():\n",
    "            print(f\"Converting {session_id} to binary\")            \n",
    "            # Call the conversion function\n",
    "            nsx_data, N, c, s, fs, probe_path = convert_nsx_to_bin(nsx_path=str(nsx_path), nsx_name=nsx_name, bin_path=str(bin_path), bin_name=bin_name)\n",
    "        else:\n",
    "            print(f\"Bin file exists for: \\t {bin_name}\")\n",
    "    except Exception as e:\n",
    "        print(f\"Error: {e}\")\n",
    "        continue"
   ]
  },
  {
   "cell_type": "markdown",
   "metadata": {},
   "source": [
    "## Run Kilosort"
   ]
  },
  {
   "cell_type": "markdown",
   "metadata": {},
   "source": [
    "#### KS settings"
   ]
  },
  {
   "cell_type": "code",
   "execution_count": 36,
   "metadata": {},
   "outputs": [],
   "source": [
    "drift_correction = True\n",
    "\n",
    "settings_s_probe_ucla = {\n",
    "    'fs': 30000,\n",
    "    'batch_size': 120000,\n",
    "    'min_template_size': 30,\n",
    "    'nearest_templates': 6,\n",
    "    'n_chan_bin': 18,\n",
    "}\n",
    "settings_s_probe_uw = {\n",
    "    'fs': 30000,\n",
    "    'batch_size': 120000,\n",
    "    'min_template_size': 30,\n",
    "    'nearest_templates': 6,\n",
    "    'n_chan_bin': 19,\n",
    "}\n",
    "if drift_correction:\n",
    "    settings_s_probe_ucla['nblocks'] = 1\n",
    "    settings_s_probe_uw['nblocks'] = 1\n",
    "\n",
    "\n",
    "s_probe = io.load_probe(s_probe_path)\n",
    "assert s_probe is not None, 'No probe information exported by SpikeInterface'"
   ]
  },
  {
   "cell_type": "code",
   "execution_count": 45,
   "metadata": {},
   "outputs": [
    {
     "name": "stdout",
     "output_type": "stream",
     "text": [
      "/mnt/prior-data/sorting/210126_GP_JP/210126_GP_JP.bin\n"
     ]
    }
   ],
   "source": [
    "\n",
    "\n",
    "for idx, session_id in enumerate(session_metadata['session_id']):\n",
    "    try:\n",
    "        session_path = Path(sorting_dir, session_id)\n",
    "        bin_file = f\"{str(session_path)}/{session_id}.bin\"\n",
    "        if session_path.exists():\n",
    "            # importing correct settings and probe\n",
    "            if session_metadata['probe'][idx] == 's-probe':\n",
    "                subject_id = session_metadata['subject'][idx]\n",
    "                if subject_id == 'Jasper':\n",
    "                    settings = settings_s_probe_ucla\n",
    "                    probe = s_probe\n",
    "                elif subject_id == 'Taz':\n",
    "                    settings = settings_s_probe_uw\n",
    "                    probe = s_probe\n",
    "                    \n",
    "                # run kilosort\n",
    "                ops, st, clu, tF, Wall, similar_templates, is_ref, est_contam_rate, kept_spikes = run_kilosort(\n",
    "                    settings=settings, probe=probe, filename=bin_file,\n",
    "                )\n",
    "            elif session_metadata['probe'][idx] == 'single':\n",
    "                print(f\"Single electrode probe won't be processed with kilosort: {session_id}\")\n",
    "        else:\n",
    "            print(f\"Session not found: {session_id}\")\n",
    "            continue   \n",
    "\n",
    "    except Exception as e:\n",
    "        print(f\"Error in {session_id}: {e}\")\n",
    "        continue"
   ]
  }
 ],
 "metadata": {
  "kernelspec": {
   "display_name": "venv",
   "language": "python",
   "name": "python3"
  },
  "language_info": {
   "codemirror_mode": {
    "name": "ipython",
    "version": 3
   },
   "file_extension": ".py",
   "mimetype": "text/x-python",
   "name": "python",
   "nbconvert_exporter": "python",
   "pygments_lexer": "ipython3",
   "version": "3.10.12"
  }
 },
 "nbformat": 4,
 "nbformat_minor": 2
}
