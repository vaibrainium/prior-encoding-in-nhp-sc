{
 "cells": [
  {
   "cell_type": "code",
   "execution_count": 1,
   "metadata": {},
   "outputs": [],
   "source": [
    "%matplotlib inline\n",
    "%load_ext autoreload\n",
    "%autoreload 2\n",
    "from notebooks.imports import *"
   ]
  },
  {
   "cell_type": "code",
   "execution_count": 2,
   "metadata": {},
   "outputs": [],
   "source": [
    "from kilosort import run_kilosort, io\n",
    "import spikeinterface.extractors as se"
   ]
  },
  {
   "cell_type": "markdown",
   "metadata": {},
   "source": [
    "### Load Configs"
   ]
  },
  {
   "cell_type": "code",
   "execution_count": 34,
   "metadata": {},
   "outputs": [],
   "source": [
    "from config import dir_config, s_probe_path\n",
    "\n",
    "raw_dir = Path(dir_config.data.raw)\n",
    "sorting_dir = Path(dir_config.data.sorting)\n",
    "compiled_dir = Path(dir_config.data.compiled)\n",
    "\n",
    "session_metadata = pd.read_csv(Path(compiled_dir, \"sessions_metadata.csv\"), index_col=None)"
   ]
  },
  {
   "cell_type": "markdown",
   "metadata": {},
   "source": [
    "### Utils functions"
   ]
  },
  {
   "cell_type": "code",
   "execution_count": 67,
   "metadata": {},
   "outputs": [],
   "source": [
    "def convert_nsx_to_bin(nsx_path, nsx_name, bin_path, bin_name):\n",
    "\tnsx_data, N, c, s, fs, probe_path = None, None, None, None, None, None\n",
    "\n",
    "\tnsx_file = Path(nsx_path, f\"{nsx_name}.ns5\")\n",
    "\tif nsx_file.exists():\n",
    "\t\tnsx_data = se.read_blackrock(file_path=Path(nsx_path, nsx_name), stream_id=\"5\")\n",
    "\t\tfilename, N, c, s, fs, probe_path = io.spikeinterface_to_binary(nsx_data, bin_path, data_name=f\"{bin_name}.bin\", dtype=np.int16, chunksize=60000, export_probe=True, probe_name=\"probe.prb\")\n",
    "\t\tprint(f\"{N}, {c}, {s}, {fs}, {probe_path}\")\n",
    "\telse:\n",
    "\t\tprint(f\"File {nsx_file} does not exist\")\n",
    "\treturn nsx_data, N, c, s, fs, probe_path"
   ]
  },
  {
   "cell_type": "markdown",
   "metadata": {},
   "source": [
    "## Covert blackrock (NSX) data to bin"
   ]
  },
  {
   "cell_type": "code",
   "execution_count": 74,
   "metadata": {},
   "outputs": [
    {
     "name": "stdout",
     "output_type": "stream",
     "text": [
      "Bin file exists for: \t 210126_GP_JP\n",
      "Raw data does not exist for: \t 210205_GP_JP\n",
      "Raw data does not exist for: \t 210210_GP_JP\n",
      "Raw data does not exist for: \t 210211_GP_JP\n",
      "Raw data does not exist for: \t 210216_GP_JP\n",
      "Raw data does not exist for: \t 210217_GP_JP\n",
      "Raw data does not exist for: \t 210224_GP_JP\n",
      "Raw data does not exist for: \t 210302_GP_JP\n",
      "Raw data does not exist for: \t 210305_GP_JP\n",
      "Raw data does not exist for: \t 210311_GP_JP\n",
      "Raw data does not exist for: \t 210312_GP_JP\n",
      "Raw data does not exist for: \t 210315_GP_JP\n",
      "Raw data does not exist for: \t 210316_GP_JP\n",
      "Raw data does not exist for: \t 210317_GP_JP\n",
      "Raw data does not exist for: \t 210318_GP_JP\n",
      "Raw data does not exist for: \t 210323_GP_JP\n",
      "Raw data does not exist for: \t 210413_GP_JP\n",
      "Raw data does not exist for: \t 210524_GP_JP\n",
      "Raw data does not exist for: \t 210525_GP_JP\n",
      "Raw data does not exist for: \t 210528_GP_JP\n",
      "Raw data does not exist for: \t 210601_GP_JP\n",
      "Raw data does not exist for: \t 210602_GP_JP\n",
      "Raw data does not exist for: \t 210603_GP_JP\n",
      "Raw data does not exist for: \t 210608_GP_JP\n",
      "Raw data does not exist for: \t 210609_GP_JP\n",
      "Raw data does not exist for: \t 210708_GP_JP\n"
     ]
    }
   ],
   "source": [
    "for idx, session_id in enumerate(session_metadata[\"session_id\"]):\n",
    "\t# Construct the path to the raw and binary file\n",
    "\tnsx_path = Path(raw_dir) / session_id\n",
    "\tnsx_name = session_id\n",
    "\tbin_path = Path(sorting_dir) / session_id\n",
    "\tbin_name = session_id\n",
    "\tbin_file = bin_path / f\"{bin_name}.bin\"\n",
    "\n",
    "\ttry:\n",
    "\t\t# check if raw data exists\n",
    "\t\tif not nsx_path.exists():\n",
    "\t\t\tprint(f\"Raw data does not exist for: \\t {session_id}\")\n",
    "\t\t\tcontinue\n",
    "\n",
    "\t\t# Check if the binary file already exists\n",
    "\t\tif not bin_file.exists():\n",
    "\t\t\tprint(f\"Converting {session_id} to binary\")\n",
    "\t\t\t# Call the conversion function\n",
    "\t\t\tnsx_data, N, c, s, fs, probe_path = convert_nsx_to_bin(nsx_path=str(nsx_path), nsx_name=nsx_name, bin_path=str(bin_path), bin_name=bin_name)\n",
    "\t\telse:\n",
    "\t\t\tprint(f\"Bin file exists for: \\t {bin_name}\")\n",
    "\texcept Exception as e:\n",
    "\t\tprint(f\"Error: {e}\")\n",
    "\t\tcontinue"
   ]
  },
  {
   "cell_type": "markdown",
   "metadata": {},
   "source": [
    "## Run Kilosort"
   ]
  },
  {
   "cell_type": "markdown",
   "metadata": {},
   "source": [
    "#### KS settings"
   ]
  },
  {
   "cell_type": "code",
   "execution_count": 36,
   "metadata": {},
   "outputs": [],
   "source": [
    "drift_correction = True\n",
    "\n",
    "settings_s_probe_ucla = {\n",
    "\t\"fs\": 30000,\n",
    "\t\"batch_size\": 120000,\n",
    "\t\"min_template_size\": 30,\n",
    "\t\"nearest_templates\": 6,\n",
    "\t\"n_chan_bin\": 18,\n",
    "}\n",
    "settings_s_probe_uw = {\n",
    "\t\"fs\": 30000,\n",
    "\t\"batch_size\": 120000,\n",
    "\t\"min_template_size\": 30,\n",
    "\t\"nearest_templates\": 6,\n",
    "\t\"n_chan_bin\": 19,\n",
    "}\n",
    "if drift_correction:\n",
    "\tsettings_s_probe_ucla[\"nblocks\"] = 1\n",
    "\tsettings_s_probe_uw[\"nblocks\"] = 1\n",
    "\n",
    "\n",
    "s_probe = io.load_probe(s_probe_path)\n",
    "assert s_probe is not None, \"No probe information exported by SpikeInterface\""
   ]
  },
  {
   "cell_type": "code",
   "execution_count": 45,
   "metadata": {},
   "outputs": [
    {
     "name": "stdout",
     "output_type": "stream",
     "text": [
      "/mnt/prior-data/sorting/210126_GP_JP/210126_GP_JP.bin\n"
     ]
    }
   ],
   "source": [
    "for idx, session_id in enumerate(session_metadata[\"session_id\"]):\n",
    "\ttry:\n",
    "\t\tsession_path = Path(sorting_dir, session_id)\n",
    "\t\tbin_file = f\"{str(session_path)}/{session_id}.bin\"\n",
    "\t\tif session_path.exists():\n",
    "\t\t\t# importing correct settings and probe\n",
    "\t\t\tif session_metadata[\"probe\"][idx] == \"s-probe\":\n",
    "\t\t\t\tsubject_id = session_metadata[\"subject\"][idx]\n",
    "\t\t\t\tif subject_id == \"Jasper\":\n",
    "\t\t\t\t\tsettings = settings_s_probe_ucla\n",
    "\t\t\t\t\tprobe = s_probe\n",
    "\t\t\t\telif subject_id == \"Taz\":\n",
    "\t\t\t\t\tsettings = settings_s_probe_uw\n",
    "\t\t\t\t\tprobe = s_probe\n",
    "\n",
    "\t\t\t\t# run kilosort\n",
    "\t\t\t\tops, st, clu, tF, Wall, similar_templates, is_ref, est_contam_rate, kept_spikes = run_kilosort(\n",
    "\t\t\t\t\tsettings=settings,\n",
    "\t\t\t\t\tprobe=probe,\n",
    "\t\t\t\t\tfilename=bin_file,\n",
    "\t\t\t\t)\n",
    "\t\t\telif session_metadata[\"probe\"][idx] == \"single\":\n",
    "\t\t\t\tprint(f\"Single electrode probe won't be processed with kilosort: {session_id}\")\n",
    "\t\telse:\n",
    "\t\t\tprint(f\"Session not found: {session_id}\")\n",
    "\t\t\tcontinue\n",
    "\n",
    "\texcept Exception as e:\n",
    "\t\tprint(f\"Error in {session_id}: {e}\")\n",
    "\t\tcontinue"
   ]
  }
 ],
 "metadata": {
  "kernelspec": {
   "display_name": "venv",
   "language": "python",
   "name": "python3"
  },
  "language_info": {
   "codemirror_mode": {
    "name": "ipython",
    "version": 3
   },
   "file_extension": ".py",
   "mimetype": "text/x-python",
   "name": "python",
   "nbconvert_exporter": "python",
   "pygments_lexer": "ipython3",
   "version": "3.10.12"
  }
 },
 "nbformat": 4,
 "nbformat_minor": 2
}
