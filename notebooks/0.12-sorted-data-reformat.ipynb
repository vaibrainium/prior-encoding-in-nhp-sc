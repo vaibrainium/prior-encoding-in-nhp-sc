{
 "cells": [
  {
   "cell_type": "code",
   "execution_count": 2,
   "metadata": {},
   "outputs": [],
   "source": [
    "%matplotlib inline\n",
    "%load_ext autoreload\n",
    "%autoreload 2\n",
    "from notebooks.imports import *\n"
   ]
  },
  {
   "cell_type": "markdown",
   "metadata": {},
   "source": [
    "### Load Configs"
   ]
  },
  {
   "cell_type": "code",
   "execution_count": 4,
   "metadata": {},
   "outputs": [],
   "source": [
    "from config import dir_config, main_config"
   ]
  },
  {
   "cell_type": "code",
   "execution_count": 64,
   "metadata": {},
   "outputs": [],
   "source": [
    "# Sorted data path to test\n",
    "\n",
    "\n",
    "sorted_data_path = Path(\"/mnt/data/prior-encoding-in-nhp-sc/bin-data/kilosort4\")\n",
    "\n",
    "spike_times = np.load(sorted_data_path / \"spike_times.npy\")\n",
    "spike_clusters = np.load(sorted_data_path / \"spike_clusters.npy\")\n",
    "cluster_info = pd.read_csv(sorted_data_path / \"cluster_info.tsv\", sep='\\t', index_col=False)\n",
    "\n",
    "# sorted good clusters\n",
    "good_clusters = cluster_info[cluster_info.group == 'good']\n"
   ]
  },
  {
   "cell_type": "code",
   "execution_count": 56,
   "metadata": {},
   "outputs": [],
   "source": [
    "date = '240625' # yymmdd\n",
    "subject = 'TZ' # subject id XX\n",
    "task = 'GP' # GP/VGS\n",
    "session_name = f\"{date}_{task}_{subject}\"\n",
    "\n",
    "session_behav = f\"{session_name}_trial\"\n",
    "session_ephy = f\"{session_name}_ephys\"\n",
    "session_eye_tracking = f\"{session_name}_eye_tracking\"\n",
    "session_timestamps = f\"{session_name}_timestamps\"\n"
   ]
  },
  {
   "cell_type": "markdown",
   "metadata": {},
   "source": [
    "### Saving csv file"
   ]
  },
  {
   "cell_type": "code",
   "execution_count": 52,
   "metadata": {},
   "outputs": [],
   "source": [
    "ephys_info = pd.DataFrame()\n",
    "\n",
    "ephys_info['cluster_id'] = good_clusters['cluster_id']\n",
    "ephys_info['channel'] = good_clusters['ch']\n",
    "ephys_info['electrode_depth'] = good_clusters['depth']"
   ]
  },
  {
   "cell_type": "code",
   "execution_count": 69,
   "metadata": {},
   "outputs": [],
   "source": [
    "# filter cluster info to only include 'good' group\n",
    "good_clusters = cluster_info[cluster_info.group == 'good']\n",
    "# Extract spike train for each cluster from spike times as pandas dataframe\n",
    "spike_train = {}\n",
    "# Get cluster info of cluster ids in cluster_groups\n",
    "for cluster_id in good_clusters.cluster_id:\n",
    "    spike_train[cluster_id] = spike_times[spike_clusters == cluster_id]\n",
    "\n",
    "np.save(sorted_data_path / f\"{session_ephy}.npy\", spike_train)"
   ]
  }
 ],
 "metadata": {
  "kernelspec": {
   "display_name": "Python 3",
   "language": "python",
   "name": "python3"
  },
  "language_info": {
   "codemirror_mode": {
    "name": "ipython",
    "version": 3
   },
   "file_extension": ".py",
   "mimetype": "text/x-python",
   "name": "python",
   "nbconvert_exporter": "python",
   "pygments_lexer": "ipython3",
   "version": "3.10.12"
  }
 },
 "nbformat": 4,
 "nbformat_minor": 2
}
