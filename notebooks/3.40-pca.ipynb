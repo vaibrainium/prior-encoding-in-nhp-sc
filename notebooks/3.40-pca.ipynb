{
 "cells": [
  {
   "cell_type": "code",
   "execution_count": 1,
   "metadata": {},
   "outputs": [],
   "source": [
    "%matplotlib inline\n",
    "%load_ext autoreload\n",
    "%autoreload 2"
   ]
  },
  {
   "cell_type": "code",
   "execution_count": 2,
   "metadata": {},
   "outputs": [],
   "source": [
    "import numpy as np\n",
    "import numpy.random as npr\n",
    "import pandas as pd\n",
    "import matplotlib.pyplot as plt\n",
    "import matplotlib.gridspec as gridspec  # Import for custom grid layout\n",
    "from scipy import stats\n",
    "import pickle\n",
    "from sklearn.preprocessing import StandardScaler\n",
    "from sklearn.decomposition import PCA\n",
    "from sklearn.utils import resample\n",
    "from joblib import Parallel, delayed\n",
    "import plotly.graph_objects as go\n",
    "import plotly.express as px\n",
    "\n",
    "from notebooks.imports import *\n",
    "from config import dir_config, main_config, ephys_config\n",
    "from src.utils import pmf_utils, plot_utils, ephys_utils\n"
   ]
  },
  {
   "cell_type": "code",
   "execution_count": 3,
   "metadata": {},
   "outputs": [],
   "source": [
    "compiled_dir = Path(dir_config.data.compiled)\n",
    "processed_dir = Path(dir_config.data.processed)"
   ]
  },
  {
   "cell_type": "markdown",
   "metadata": {},
   "source": [
    "## Utils"
   ]
  },
  {
   "cell_type": "code",
   "execution_count": null,
   "metadata": {},
   "outputs": [],
   "source": [
    "def plot_PSTH(neuron_id, epochs=[\"target_onset\", \"stimulus_onset\", \"response_onset\"]):\n",
    "    _, ax = plt.subplots(1, len(epochs), figsize=(15, 5))\n",
    "    ax_idx = 0\n",
    "    if \"target_onset\" in epochs:\n",
    "        ax[ax_idx].plot(np.nanmean(target_onset[\"biased_state\"][neuron_id], axis=0), label=\"biased\")\n",
    "        ax[ax_idx].plot(np.nanmean(target_onset[\"unbiased_state\"][neuron_id], axis=0), label=\"unbiased\")\n",
    "        ax[ax_idx].vlines(200, 0, 10, color=\"black\", linestyle=\"--\", linewidth=1)\n",
    "        ax[ax_idx].set_title(\"Target Onset\")\n",
    "        ax_idx += 1\n",
    "    if \"stimulus_onset\" in epochs:\n",
    "        ax[ax_idx].plot(np.nanmean(stimulus_onset[\"biased_state\"][neuron_id], axis=0), label=\"biased\")\n",
    "        ax[ax_idx].plot(np.nanmean(stimulus_onset[\"unbiased_state\"][neuron_id], axis=0), label=\"unbiased\")\n",
    "        ax[ax_idx].vlines(100, 0, 10, color=\"black\", linestyle=\"--\", linewidth=1)\n",
    "        ax[ax_idx].set_title(\"Stimulus Onset\")\n",
    "        ax_idx += 1\n",
    "    if \"response_onset\" in epochs:\n",
    "        ax[ax_idx].plot(np.nanmean(response_onset[\"biased_state\"][neuron_id], axis=0), label=\"biased\")\n",
    "        ax[ax_idx].plot(np.nanmean(response_onset[\"unbiased_state\"][neuron_id], axis=0), label=\"unbiased\")\n",
    "        ax[ax_idx].vlines(300, 0, 10, color=\"black\", linestyle=\"--\", linewidth=1)\n",
    "        ax[ax_idx].set_title(\"Response Onset\")\n",
    "        ax_idx += 1\n",
    "    ax[-1].legend(bbox_to_anchor=(1.05, 1), loc='upper left')\n",
    "\n",
    "def get_neuron_condition_trials(sessions, trial_info):\n",
    "    \"\"\"\n",
    "    Optimized function to get neuron condition trials with reduced function calls.\n",
    "    \"\"\"\n",
    "    neuron_condition_dict = {}\n",
    "    conditions_list = [\n",
    "        (\"coh_0_choice_toRF_corr\", (0, 1)),\n",
    "        (\"coh_6_choice_toRF_corr\", (0.06, 1, 1)),\n",
    "        (\"coh_20_choice_toRF_corr\", (0.2, 1, 1)),\n",
    "        (\"coh_50_choice_toRF_corr\", (0.5, 1, 1)),\n",
    "        (\"coh_0_choice_awayRF_corr\", (0, 0)),\n",
    "        (\"coh_6_choice_awayRF_corr\", (0.06, 0, 1)),\n",
    "        (\"coh_20_choice_awayRF_corr\", (0.2, 0, 1)),\n",
    "        (\"coh_50_choice_awayRF_corr\", (0.5, 0, 1))\n",
    "    ]\n",
    "\n",
    "    for session_id in sessions:\n",
    "        neuron_ids = neuron_metadata.neuron_id[neuron_metadata.session_id == session_id].values\n",
    "        conditions = {key: np.array(ephys_utils.get_trial_num(trial_info[session_id], *vals)) for key, vals in conditions_list}\n",
    "        \n",
    "        for neuron_id in neuron_ids:\n",
    "            neuron_condition_dict[neuron_id] = conditions.copy()  # Use copy to prevent reference issues\n",
    "\n",
    "    return neuron_condition_dict\n",
    "\n",
    "def create_pca_matrix_by_condition(neuron_condition_dict, normalize = True):\n",
    "    conditions = [\n",
    "        \"coh_0_choice_toRF_corr\",\n",
    "        \"coh_6_choice_toRF_corr\",\n",
    "        \"coh_20_choice_toRF_corr\",\n",
    "        \"coh_50_choice_toRF_corr\",\n",
    "        \"coh_0_choice_awayRF_corr\",\n",
    "        \"coh_6_choice_awayRF_corr\",\n",
    "        \"coh_20_choice_awayRF_corr\",\n",
    "        \"coh_50_choice_awayRF_corr\"\n",
    "        ]\n",
    "    PCA_data = {event: [] for event in ephys_config[\"alignment_settings_GP\"].keys()}\n",
    "    condition_len = {event: {} for event in ephys_config[\"alignment_settings_GP\"].keys()}    \n",
    "\n",
    "    for alignment in ephys_config[\"alignment_settings_GP\"].keys():\n",
    "        for condition in conditions:\n",
    "            time_duration = ephys_config[\"alignment_settings_GP\"][alignment][\"end_time_ms\"] - ephys_config[\"alignment_settings_GP\"][alignment][\"start_time_ms\"] + 1\n",
    "            all_neuron_data = np.full((len(neuron_condition_dict.keys()), time_duration), np.nan)\n",
    "            for neuron_idx, neuron_id in enumerate(neuron_condition_dict.keys()):        \n",
    "                trials = neuron_condition_dict[neuron_id][condition]\n",
    "                condition_data = ephys_utils.get_neural_data_from_trial_num(ephys[alignment][neuron_id], trials, type=\"convolved_spike_trains\")\n",
    "                if alignment == \"stimulus_onset\":\n",
    "                    non_nan_50_prct_timepoint = np.where(np.sum(np.isnan(condition_data), axis=0)/len(trials) > 0.5)[0]\n",
    "                    if non_nan_50_prct_timepoint.size==0:\n",
    "                        non_nan_50_prct_timepoint = condition_data.shape[1]\n",
    "                    else:\n",
    "                        non_nan_50_prct_timepoint = non_nan_50_prct_timepoint[0] - 1\n",
    "\n",
    "                    neuron_array = condition_data[:,:non_nan_50_prct_timepoint]\n",
    "                    all_neuron_data[neuron_idx, :non_nan_50_prct_timepoint] = np.nanmean(neuron_array,axis=0)\n",
    "            \n",
    "                elif alignment == \"response_onset\":\n",
    "                    non_nan_50_prct_timepoint = np.where(np.sum(np.isnan(condition_data), axis=0)/len(trials) > 0.5)[0]\n",
    "                    if non_nan_50_prct_timepoint.size==0:\n",
    "                        non_nan_50_prct_timepoint = 0\n",
    "                    else:\n",
    "                        non_nan_50_prct_timepoint = non_nan_50_prct_timepoint[-1] + 1\n",
    "                    neuron_array = condition_data[:,non_nan_50_prct_timepoint:]\n",
    "                    all_neuron_data[neuron_idx, non_nan_50_prct_timepoint:] = np.nanmean(neuron_array,axis=0)\n",
    "                elif alignment == \"target_onset\":\n",
    "                    all_neuron_data[neuron_idx,:] = np.nanmean(condition_data,axis=0)\n",
    "\n",
    "            \n",
    "            all_non_nan_mask = ~np.any(np.isnan(all_neuron_data), axis=0)\n",
    "            all_neuron_data = all_neuron_data[:, all_non_nan_mask]\n",
    "            PCA_data[alignment].append(all_neuron_data)\n",
    "            if all_neuron_data.shape[1] == 0:\n",
    "                pass\n",
    "            condition_len[alignment][condition] = all_neuron_data.shape[1]\n",
    "\n",
    "        \n",
    "        PCA_data[alignment] = np.hstack(PCA_data[alignment])\n",
    "\n",
    "        if normalize:\n",
    "            scaler = StandardScaler()\n",
    "            PCA_data[alignment] = scaler.fit_transform(PCA_data[alignment].T).T\n",
    "\n",
    "    return PCA_data, condition_len\n",
    "\n",
    "def go_scatter(fig, x, y, z=None, name=\" \", color=None, markersize=2, linestyle=\"solid\", linewidth=2, mode=\"lines+markers\", opacity=0.8, showlegend=False):\n",
    "    \"\"\"Helper function to add a 2D or 3D scatter plot to a Plotly figure.\"\"\"\n",
    "    if z is None:\n",
    "        fig.add_trace(go.Scatter(\n",
    "            x=x, y=y,\n",
    "            mode=mode,\n",
    "            marker=dict(\n",
    "                size=markersize,\n",
    "                color=color if color is not None else 'black',\n",
    "                opacity=opacity\n",
    "            ),\n",
    "            line=dict(width=linewidth, dash=linestyle),\n",
    "            opacity=opacity,\n",
    "            name=name,\n",
    "            showlegend=showlegend\n",
    "        ))\n",
    "    else:\n",
    "        fig.add_trace(go.Scatter3d(\n",
    "            x=x, y=y, z=z,\n",
    "            mode=mode,\n",
    "            marker=dict(\n",
    "                size=markersize,\n",
    "                color=color if color is not None else 'black',\n",
    "                opacity=opacity\n",
    "            ),\n",
    "            line=dict(width=linewidth, dash=linestyle),\n",
    "            opacity=opacity,  \n",
    "            name=name,\n",
    "            showlegend=showlegend\n",
    "        ))\n",
    "\n",
    "def plot_pca_projection(fig, conditions, state_values,\n",
    "                        proj_biased_mean, proj_unbiased_mean,\n",
    "                        timepoints_list, onset_time, axes=(0, 1)):\n",
    "    \"\"\"\n",
    "    Function to plot PCA projections with SEM as shaded areas.\n",
    "    Now supports 2D and 3D plotting by choosing the number of axes.\n",
    "    \"\"\"\n",
    "    condition_dict = {\n",
    "        \"coh_0_choice_toRF_corr\": {\"index\": 0, \"color\": \"blue\", \"biased_lw\": 5, \"unbiased_lw\": 2, \"opacity\": 1},\n",
    "        \"coh_6_choice_toRF_corr\": {\"index\": 1, \"color\": \"green\", \"biased_lw\": 5, \"unbiased_lw\": 2, \"opacity\": 1},\n",
    "        \"coh_20_choice_toRF_corr\": {\"index\": 2, \"color\": \"orange\", \"biased_lw\": 5, \"unbiased_lw\": 2, \"opacity\":1},\n",
    "        \"coh_50_choice_toRF_corr\": {\"index\": 3, \"color\": \"red\", \"biased_lw\": 5, \"unbiased_lw\": 2, \"opacity\": 1},\n",
    "        \"coh_0_choice_awayRF_corr\": {\"index\": 4, \"color\": \"blue\", \"biased_lw\": 5, \"unbiased_lw\": 2, \"opacity\": 0.3},\n",
    "        \"coh_6_choice_awayRF_corr\": {\"index\": 5, \"color\": \"green\", \"biased_lw\": 5, \"unbiased_lw\": 2, \"opacity\": 0.3},\n",
    "        \"coh_20_choice_awayRF_corr\": {\"index\": 6, \"color\": \"orange\", \"biased_lw\": 5, \"unbiased_lw\": 2, \"opacity\": 0.3},\n",
    "        \"coh_50_choice_awayRF_corr\": {\"index\": 7, \"color\": \"red\", \"biased_lw\": 5, \"unbiased_lw\": 2, \"opacity\": 0.3},\n",
    "    }\n",
    "\n",
    "    for condition in conditions:\n",
    "        condition_params = condition_dict[condition]  # Extract plotting parameters\n",
    "        # condition = condition_params[\"index\"]\n",
    "        \n",
    "        for state in state_values:\n",
    "            name = f\"{condition}_{state}\"\n",
    "            # Select mean and parameters\n",
    "            if state == \"biased_state\":\n",
    "                mean = proj_biased_mean[condition]\n",
    "                linewidth = condition_params[\"biased_lw\"]\n",
    "            else:\n",
    "                mean = proj_unbiased_mean[condition]\n",
    "                linewidth = condition_params[\"unbiased_lw\"]\n",
    "\n",
    "            # Plot using the selected axes\n",
    "            if len(axes) == 2:\n",
    "                go_scatter(fig, mean[axes[0]], mean[axes[1]], \n",
    "                           name=name, color=condition_params[\"color\"], \n",
    "                           mode=\"lines\", linewidth=linewidth, opacity=condition_params[\"opacity\"],showlegend=True)\n",
    "            elif len(axes) == 3:\n",
    "                go_scatter(fig, mean[axes[0]], mean[axes[1]], mean[axes[2]],\n",
    "                           name=name, color=condition_params[\"color\"], \n",
    "                           mode=\"lines\", linewidth=linewidth, opacity=condition_params[\"opacity\"],showlegend=True)\n",
    "\n",
    "    # Highlight key time points\n",
    "    for idx, timepoint in enumerate(timepoints_list):\n",
    "        for condition in conditions:\n",
    "            condition_params = condition_dict[condition]\n",
    "            \n",
    "            for state in state_values:\n",
    "                marker_size = 8 if idx == 0 else 5\n",
    "                if state == \"biased_state\":\n",
    "                    if ~np.all(np.isnan(proj_biased_mean[condition][:,timepoint])):\n",
    "                        x, y = proj_biased_mean[condition][axes[0], timepoint], proj_biased_mean[condition][axes[1], timepoint]\n",
    "                        z = proj_biased_mean[condition][axes[2], timepoint] if len(axes) == 3 else None\n",
    "                        go_scatter(fig, [x], [y], [z] if z is not None else None,\n",
    "                           color=\"black\", markersize=marker_size, mode=\"markers\")\n",
    "                else:\n",
    "                    if ~np.all(np.isnan(proj_unbiased_mean[condition][:,timepoint])):\n",
    "                        x, y = proj_unbiased_mean[condition][axes[0], timepoint], proj_unbiased_mean[condition][axes[1], timepoint]\n",
    "                        z = proj_unbiased_mean[condition][axes[2], timepoint] if len(axes) == 3 else None \n",
    "                        go_scatter(fig, [x], [y], [z] if z is not None else None,\n",
    "                           color=\"black\", markersize=marker_size, mode=\"markers\")\n",
    "\n",
    "    # Mark onset time with violet dots\n",
    "    for condition in conditions:\n",
    "        condition_params = condition_dict[condition]\n",
    "        # condition = condition_params[\"index\"]\n",
    "        \n",
    "        for state in state_values:\n",
    "            if state == \"biased_state\":\n",
    "                if ~np.all(np.isnan(proj_biased_mean[condition][:,onset_time])):\n",
    "                    x, y = proj_biased_mean[condition][axes[0], onset_time], proj_biased_mean[condition][axes[1], onset_time]\n",
    "                    z = proj_biased_mean[condition][axes[2], onset_time] if len(axes) == 3 else None\n",
    "                    go_scatter(fig, [x], [y], [z] if z is not None else None,\n",
    "                       color=\"violet\", markersize=10, mode=\"markers\")\n",
    "            else:\n",
    "                if ~np.all(np.isnan(proj_unbiased_mean[condition][:,onset_time])):\n",
    "                    x, y = proj_unbiased_mean[condition][axes[0], onset_time], proj_unbiased_mean[condition][axes[1], onset_time]\n",
    "                    z = proj_unbiased_mean[condition][axes[2], onset_time] if len(axes) == 3 else None\n",
    "                    go_scatter(fig, [x], [y], [z] if z is not None else None,\n",
    "                       color=\"violet\", markersize=10, mode=\"markers\")\n",
    "                    \n",
    "    go_scatter(fig,[None],[None],[None] if len(axes) == 3 else None, name=\"Onset Time\", color=\"violet\", markersize=10, mode=\"markers\", showlegend=True)\n",
    "    go_scatter(fig,[None],[None],[None] if len(axes) == 3 else None, name=f\"{timepoints_list[1]-timepoints_list[0]}ms spacing\", color=\"black\", markersize=8, mode=\"markers\", showlegend=True)\n",
    "\n",
    "def plot_pca_projection_and_sem(fig, conditions, state_values,\n",
    "                        proj_biased_mean, proj_unbiased_mean,\n",
    "                        proj_biased_std, proj_unbiased_std,\n",
    "                        timepoints_list, onset_time, axes=(0, 1)):\n",
    "    \"\"\"\n",
    "    Function to plot PCA projections with Mean and Std as shaded areas.\n",
    "    Supports both 2D and 3D plotting.\n",
    "    \"\"\"\n",
    "    condition_dict = {\n",
    "        \"coh_0_choice_toRF_corr\": {\"color\": \"blue\", \"opacity\": 1},\n",
    "        \"coh_6_choice_toRF_corr\": {\"color\": \"green\", \"opacity\": 1},\n",
    "        \"coh_20_choice_toRF_corr\": {\"color\": \"orange\", \"opacity\": 1},\n",
    "        \"coh_50_choice_toRF_corr\": {\"color\": \"red\", \"opacity\": 1},\n",
    "        \"coh_0_choice_awayRF_corr\": {\"color\": \"blue\", \"opacity\": 0.3},\n",
    "        \"coh_6_choice_awayRF_corr\": {\"color\": \"green\", \"opacity\": 0.3},\n",
    "        \"coh_20_choice_awayRF_corr\": {\"color\": \"orange\", \"opacity\": 0.3},\n",
    "        \"coh_50_choice_awayRF_corr\": {\"color\": \"red\", \"opacity\": 0.3},\n",
    "    }\n",
    "    \n",
    "    for condition in conditions:\n",
    "        condition_params = condition_dict[condition]\n",
    "        color = condition_params[\"color\"]\n",
    "        opacity = condition_params[\"opacity\"]\n",
    "        \n",
    "        for state in state_values:\n",
    "            name = f\"{condition}_{state}\"\n",
    "            \n",
    "            if state == \"biased_state\":\n",
    "                mean = proj_biased_mean[condition]\n",
    "                std = proj_biased_std[condition]\n",
    "            else:\n",
    "                mean = proj_unbiased_mean[condition]\n",
    "                std = proj_unbiased_std[condition]\n",
    "            if len(axes) == 2:\n",
    "                valid_mask = ~np.isnan(mean[axes[0]]) & ~np.isnan(std[axes[0]]) & ~np.isnan(mean[axes[1]]) & ~np.isnan(std[axes[1]])\n",
    "                # Plot mean\n",
    "                go_scatter(fig, mean[axes[0]][valid_mask], mean[axes[1]][valid_mask], \n",
    "                           name=name, color=color, mode=\"lines\", linewidth=2, opacity=opacity, showlegend=True)\n",
    "                # Plot standard deviation as shaded area\n",
    "                x_valid = np.concatenate([\n",
    "                    (mean[axes[0]][valid_mask] + std[axes[0]][valid_mask]*5), \n",
    "                    (mean[axes[0]][valid_mask] - std[axes[0]][valid_mask]*5)[::-1]])\n",
    "                y_valid = np.concatenate([\n",
    "                    (mean[axes[1]][valid_mask] + std[axes[1]][valid_mask]*5), \n",
    "                    (mean[axes[1]][valid_mask] - std[axes[1]][valid_mask]*5)[::-1]])\n",
    "                fig.add_trace(go.Scatter(\n",
    "                    x=x_valid, \n",
    "                    y=y_valid,\n",
    "                    fill='toself',\n",
    "                    fillcolor=color,\n",
    "                    opacity=0.2,\n",
    "                    line=dict(width=0),\n",
    "                    showlegend=False,\n",
    "                    name=f\"{name}_std\"\n",
    "                ))\n",
    "\n",
    "            elif len(axes) == 3:\n",
    "                # Plot mean\n",
    "                go_scatter(fig, mean[axes[0]], mean[axes[1]], mean[axes[2]],\n",
    "                           name=name, color=color, mode=\"lines\", linewidth=2, opacity=opacity, showlegend=True)\n",
    "                # Plot standard deviation as lines (shading is not directly possible in 3D)\n",
    "                for std_offset in [-1, 1]:\n",
    "                # Offset for all three axes\n",
    "                    go_scatter(fig, \n",
    "                            mean[axes[0]] + std_offset * std[axes[0]],  # X with std\n",
    "                            mean[axes[1]] + std_offset * std[axes[1]],  # Y with std\n",
    "                            mean[axes[2]] + std_offset * std[axes[2]],  # Z with std\n",
    "                            name=f\"{name}_std\", color=color, mode=\"lines\", opacity=0.2, showlegend=False)\n",
    "\n",
    "    # Highlight key time points\n",
    "    for idx, timepoint in enumerate(timepoints_list):\n",
    "        for condition in conditions:\n",
    "            condition_params = condition_dict[condition]\n",
    "            \n",
    "            for state in state_values:\n",
    "                marker_size = 8 if idx == 0 else 5\n",
    "                if state == \"biased_state\":\n",
    "                    if ~np.all(np.isnan(proj_biased_mean[condition][:,timepoint])):\n",
    "                        x, y = proj_biased_mean[condition][axes[0], timepoint], proj_biased_mean[condition][axes[1], timepoint]\n",
    "                        z = proj_biased_mean[condition][axes[2], timepoint] if len(axes) == 3 else None\n",
    "                        go_scatter(fig, [x], [y], [z] if z is not None else None,\n",
    "                           color=\"black\", markersize=marker_size, mode=\"markers\")\n",
    "                else:\n",
    "                    if ~np.all(np.isnan(proj_unbiased_mean[condition][:,timepoint])):\n",
    "                        x, y = proj_unbiased_mean[condition][axes[0], timepoint], proj_unbiased_mean[condition][axes[1], timepoint]\n",
    "                        z = proj_unbiased_mean[condition][axes[2], timepoint] if len(axes) == 3 else None \n",
    "                        go_scatter(fig, [x], [y], [z] if z is not None else None,\n",
    "                           color=\"black\", markersize=marker_size, mode=\"markers\")\n",
    "                        \n",
    "    # Mark onset time with violet dots\n",
    "    for condition in conditions:\n",
    "        for state in state_values:\n",
    "            if state == \"biased_state\":\n",
    "                mean = proj_biased_mean[condition]\n",
    "            else:\n",
    "                mean = proj_unbiased_mean[condition]\n",
    "            \n",
    "            if ~np.all(np.isnan(mean[:, onset_time])):\n",
    "                x, y = mean[axes[0], onset_time], mean[axes[1], onset_time]\n",
    "                z = mean[axes[2], onset_time] if len(axes) == 3 else None\n",
    "                go_scatter(fig, [x], [y], [z] if z is not None else None,\n",
    "                           color=\"violet\", markersize=10, mode=\"markers\")\n",
    "    \n",
    "    go_scatter(fig,[None],[None],[None] if len(axes) == 3 else None, name=\"Onset Time\", color=\"violet\", markersize=10, mode=\"markers\", showlegend=True)\n",
    "    go_scatter(fig,[None],[None],[None] if len(axes) == 3 else None, name=f\"{timepoints_list[1]-timepoints_list[0]}ms spacing\", color=\"black\", markersize=8, mode=\"markers\", showlegend=True)\n",
    "\n",
    "def bootstrap_iteration(idx_bootstrap, neuron_condition_dict, pc_weights, normalize): \n",
    "    \"\"\"\n",
    "    Optimized bootstrap iteration using NumPy and vectorized operations.\n",
    "    \"\"\"  \n",
    "    # Only resample trials, avoiding unnecessary dictionary modifications\n",
    "    bootstrapped_dict = {\n",
    "        neuron_id: {cond: (resample(trials, random_state=idx_bootstrap) if idx_bootstrap > 0 else trials)\n",
    "                    for cond, trials in conditions.items()}\n",
    "        for neuron_id, conditions in neuron_condition_dict.items()\n",
    "    }\n",
    "\n",
    "    # Generate PCA data\n",
    "    PCA_data, cond_len = create_pca_matrix_by_condition(bootstrapped_dict, normalize=normalize)\n",
    "\n",
    "    pc_proj_cond = {\n",
    "        alignment: split_array_by_cond(\n",
    "            pc_weights[alignment][:, :3].T @ PCA_data[alignment], \n",
    "            cond_len[alignment], \n",
    "            alignment\n",
    "        )\n",
    "        for alignment in ephys_config[\"alignment_settings_GP\"]\n",
    "    }\n",
    "\n",
    "    # return idx_bootstrap, pc_proj_cond\n",
    "    return pc_proj_cond\n",
    "\n",
    "def bootstrap_PCA(sessions, trial_info, pc_weights, normalize=True, n_bootstraps=1000):\n",
    "    \"\"\"\n",
    "    Optimized parallelized PCA bootstrapping.\n",
    "    \"\"\"\n",
    "    pc_projection = {\n",
    "        \"mean\": {event: None for event in ephys_config[\"alignment_settings_GP\"]},\n",
    "        \"bootstrap_sem\": {event: {} for event in ephys_config[\"alignment_settings_GP\"]},\n",
    "        \"bootstrap\": {event: [] for event in ephys_config[\"alignment_settings_GP\"]}\n",
    "    }\n",
    "\n",
    "    # Precompute neuron condition trials once to avoid redundancy\n",
    "    neuron_condition_dict = get_neuron_condition_trials(sessions, trial_info)\n",
    "\n",
    "    # Run bootstrap iterations in parallel\n",
    "    results = Parallel(n_jobs=-1, backend=\"loky\", batch_size=10, verbose=True)(\n",
    "        delayed(bootstrap_iteration)(idx, neuron_condition_dict, pc_weights, normalize)\n",
    "        for idx in range(n_bootstraps + 1)\n",
    "    )\n",
    "\n",
    "    # Process results efficiently\n",
    "    for alignment in ephys_config[\"alignment_settings_GP\"]:\n",
    "        first_result = results[0][alignment]\n",
    "        bootstrap_results = np.array([proj[alignment] for proj in results[1:]])\n",
    "\n",
    "        pc_projection[\"mean\"][alignment] = first_result\n",
    "        pc_projection[\"bootstrap\"][alignment] = bootstrap_results      \n",
    "        for condition in first_result.keys():\n",
    "            pc_projection[\"bootstrap_sem\"][alignment][condition] = stats.sem(\n",
    "                np.array([bootstrap_results[iteration][condition] for iteration in range(len(bootstrap_results))]), axis=0, nan_policy='omit')\n",
    "\n",
    "    return pc_projection\n",
    "\n",
    "def split_array_by_cond(data, array_lengths,alignment):\n",
    "    duration = ephys_config[\"alignment_settings_GP\"][alignment][\"end_time_ms\"] - ephys_config[\"alignment_settings_GP\"][alignment][\"start_time_ms\"] + 1\n",
    "    split_arrays = {key: np.full((3,duration), np.nan) for key in array_lengths.keys()}\n",
    "    start_idx = 0\n",
    "    # print(array_lengths)\n",
    "    for key, length in array_lengths.items():        \n",
    "        end_idx = start_idx + length\n",
    "        # print(start_idx, end_idx)\n",
    "\n",
    "        if alignment == \"response_onset\":\n",
    "            split_arrays[key][:,-(end_idx-start_idx):] = data[:, start_idx:end_idx]\n",
    "        else:\n",
    "            split_arrays[key][:,:(end_idx-start_idx)] = data[:, start_idx:end_idx]\n",
    "        start_idx = end_idx\n",
    "    return split_arrays\n"
   ]
  },
  {
   "cell_type": "markdown",
   "metadata": {},
   "source": [
    "## Load Data"
   ]
  },
  {
   "cell_type": "code",
   "execution_count": 5,
   "metadata": {},
   "outputs": [],
   "source": [
    "with open(Path(processed_dir, f'glm_hmm_all_trials_prior_based_initialization_final.pkl'), 'rb') as f:\n",
    "    glm_hmm = pickle.load(f)\n",
    "\n",
    "with open(Path(processed_dir, f'ephys_neuron_wise.pkl'), 'rb') as f:\n",
    "    ephys = pickle.load(f)\n",
    "\n",
    "session_metadata = pd.read_csv(Path(compiled_dir, 'sessions_metadata.csv'))\n",
    "neuron_metadata = pd.read_csv(Path(compiled_dir, 'neuron_metadata.csv'))\n",
    "\n",
    "sessions_to_remove = [\"241209_GP_TZ\"]\n",
    "session_metadata = session_metadata[~session_metadata[\"session_id\"].isin(sessions_to_remove)]\n",
    "neuron_metadata = neuron_metadata[~neuron_metadata[\"session_id\"].isin(sessions_to_remove)]"
   ]
  },
  {
   "cell_type": "markdown",
   "metadata": {},
   "source": [
    "## Extract biased and unbiased states"
   ]
  },
  {
   "cell_type": "code",
   "execution_count": 6,
   "metadata": {},
   "outputs": [],
   "source": [
    "toRF_sessions = session_metadata[\"session_id\"][session_metadata.prior_direction == \"toRF\"]\n",
    "awayRF_sessions = session_metadata[\"session_id\"][session_metadata.prior_direction == \"awayRF\"]"
   ]
  },
  {
   "cell_type": "code",
   "execution_count": 7,
   "metadata": {},
   "outputs": [],
   "source": [
    "state_occupancy = {}\n",
    "for idx_session, session_id in enumerate(glm_hmm[\"session_wise\"][\"data\"]):\n",
    "    model = glm_hmm[\"session_wise\"][\"models\"][session_id]\n",
    "    choices = glm_hmm[\"session_wise\"][\"data\"][session_id][\"choices\"].values.reshape(-1, 1)\n",
    "    input = np.array(glm_hmm[\"session_wise\"][\"data\"][session_id][[\"normalized_stimulus\",\"bias\",\"previous_choice\",\"previous_target\"]])\n",
    "    if glm_hmm[\"session_wise\"][\"data\"][session_id][\"mask\"] is None:\n",
    "        mask = None\n",
    "    else:\n",
    "        mask = glm_hmm[\"session_wise\"][\"data\"][session_id][\"mask\"]\n",
    "    mask = np.ones_like(choices, dtype=bool) if mask is None else mask\n",
    "\n",
    "    posterior_probs = model.expected_states(data=choices, input=input, mask=np.array(mask).reshape(-1,1))[0]\n",
    "    biased_idx = (posterior_probs[:, 1] > 0.5) & np.array(mask)\n",
    "    unbiased_idx = (posterior_probs[:, 0] > 0.5) & np.array(mask)\n",
    "    state_occupancy[session_id] = {\n",
    "        \"biased_state_trials\": glm_hmm[\"session_wise\"][\"data\"][session_id][\"trial_num\"][biased_idx],\n",
    "        \"unbiased_state_trials\": glm_hmm[\"session_wise\"][\"data\"][session_id][\"trial_num\"][unbiased_idx]}\n"
   ]
  },
  {
   "cell_type": "code",
   "execution_count": 8,
   "metadata": {},
   "outputs": [],
   "source": [
    "biased_state_trial_info = {}\n",
    "unbiased_state_trial_info = {}\n",
    "for session_id in session_metadata.session_id:\n",
    "    biased_state_trials = state_occupancy[session_id][\"biased_state_trials\"]\n",
    "    biased_state_trial_info[session_id] = glm_hmm[\"session_wise\"][\"data\"][session_id].loc[np.isin(glm_hmm[\"session_wise\"][\"data\"][session_id][\"trial_num\"], biased_state_trials)]\n",
    "    unbiased_state_trials = state_occupancy[session_id][\"unbiased_state_trials\"]\n",
    "    unbiased_state_trial_info[session_id] = glm_hmm[\"session_wise\"][\"data\"][session_id].loc[np.isin(glm_hmm[\"session_wise\"][\"data\"][session_id][\"trial_num\"], unbiased_state_trials)]"
   ]
  },
  {
   "cell_type": "markdown",
   "metadata": {},
   "source": [
    "## Ephys!!!"
   ]
  },
  {
   "cell_type": "markdown",
   "metadata": {},
   "source": [
    "### Preprocessing for PCA"
   ]
  },
  {
   "cell_type": "code",
   "execution_count": 9,
   "metadata": {},
   "outputs": [],
   "source": [
    "PCA_data_toRF,_ = create_pca_matrix_by_condition(get_neuron_condition_trials(toRF_sessions, glm_hmm[\"session_wise\"][\"data\"]), normalize = True)\n",
    "PCA_data_awayRF,_ = create_pca_matrix_by_condition(get_neuron_condition_trials(awayRF_sessions, glm_hmm[\"session_wise\"][\"data\"]), normalize = True)"
   ]
  },
  {
   "cell_type": "markdown",
   "metadata": {},
   "source": [
    "### Compute PCA"
   ]
  },
  {
   "cell_type": "code",
   "execution_count": 10,
   "metadata": {},
   "outputs": [],
   "source": [
    "n_components = 10\n",
    "pca = PCA(n_components=n_components)\n",
    "toRF_pc, toRF_pc_weights = {}, {}\n",
    "awayRF_pc, awayRF_pc_weights = {}, {}\n",
    "for alignment in ephys_config[\"alignment_settings_GP\"].keys():\n",
    "    toRF_pc[alignment] = pca.fit(PCA_data_toRF[alignment])\n",
    "    toRF_pc_weights[alignment] = pca.fit_transform(PCA_data_toRF[alignment])\n",
    "    awayRF_pc[alignment] = pca.fit(PCA_data_awayRF[alignment])\n",
    "    awayRF_pc_weights[alignment] = pca.fit_transform(PCA_data_awayRF[alignment])"
   ]
  },
  {
   "cell_type": "markdown",
   "metadata": {},
   "source": [
    "### Projections"
   ]
  },
  {
   "cell_type": "code",
   "execution_count": 11,
   "metadata": {},
   "outputs": [],
   "source": [
    "PCA_data_prior_toRF_biased_state, cond_len_prior_to_RF_biased_state = create_pca_matrix_by_condition(get_neuron_condition_trials(toRF_sessions, biased_state_trial_info), normalize = True)\n",
    "PCA_data_prior_toRF_unbiased_state,  cond_len_prior_to_RF_unbiased_state = create_pca_matrix_by_condition(get_neuron_condition_trials(toRF_sessions, unbiased_state_trial_info), normalize = True)"
   ]
  },
  {
   "cell_type": "code",
   "execution_count": 12,
   "metadata": {},
   "outputs": [],
   "source": [
    "# project neural data onto first 3 PCs\n",
    "pc_biased_state_conds, pc_unbiased_state_conds = {},{}\n",
    "for alignment in ephys_config[\"alignment_settings_GP\"].keys():\n",
    "    pc_proj_biased_state = (toRF_pc_weights[alignment][:,:3].T @ PCA_data_prior_toRF_biased_state[alignment])\n",
    "    pc_proj_unbiased_state = (toRF_pc_weights[alignment][:,:3].T @ PCA_data_prior_toRF_unbiased_state[alignment])\n",
    "    # split by conditions\n",
    "    pc_biased_state_conds[alignment] = split_array_by_cond(pc_proj_biased_state, cond_len_prior_to_RF_biased_state[alignment], alignment)\n",
    "    pc_unbiased_state_conds[alignment] = split_array_by_cond(pc_proj_unbiased_state, cond_len_prior_to_RF_unbiased_state[alignment], alignment)"
   ]
  },
  {
   "cell_type": "markdown",
   "metadata": {},
   "source": [
    "#### bootstrap"
   ]
  },
  {
   "cell_type": "code",
   "execution_count": 21,
   "metadata": {},
   "outputs": [
    {
     "name": "stderr",
     "output_type": "stream",
     "text": [
      "[Parallel(n_jobs=-1)]: Using backend LokyBackend with 16 concurrent workers.\n",
      "[Parallel(n_jobs=-1)]: Done 212 tasks      | elapsed: 31.2min\n",
      "[Parallel(n_jobs=-1)]: Done 970 out of 1001 | elapsed: 32.3min remaining:  1.0min\n",
      "[Parallel(n_jobs=-1)]: Done 1001 out of 1001 | elapsed: 32.4min finished\n"
     ]
    }
   ],
   "source": [
    "pc_projection_biased_state_toRF_prior = bootstrap_PCA(toRF_sessions, biased_state_trial_info, toRF_pc_weights, normalize=True)"
   ]
  },
  {
   "cell_type": "code",
   "execution_count": 20,
   "metadata": {},
   "outputs": [
    {
     "name": "stderr",
     "output_type": "stream",
     "text": [
      "[Parallel(n_jobs=-1)]: Using backend LokyBackend with 16 concurrent workers.\n",
      "[Parallel(n_jobs=-1)]: Done 212 tasks      | elapsed:   55.7s\n",
      "[Parallel(n_jobs=-1)]: Done 1001 out of 1001 | elapsed:  2.2min finished\n"
     ]
    }
   ],
   "source": [
    "pc_projection_unbiased_state_toRF_prior = bootstrap_PCA(toRF_sessions, unbiased_state_trial_info, toRF_pc_weights, normalize=True)"
   ]
  },
  {
   "cell_type": "code",
   "execution_count": 22,
   "metadata": {},
   "outputs": [
    {
     "name": "stderr",
     "output_type": "stream",
     "text": [
      "[Parallel(n_jobs=-1)]: Using backend LokyBackend with 16 concurrent workers.\n",
      "[Parallel(n_jobs=-1)]: Done 212 tasks      | elapsed: 32.1min\n",
      "[Parallel(n_jobs=-1)]: Done 1001 out of 1001 | elapsed: 33.3min finished\n"
     ]
    }
   ],
   "source": [
    "pc_projection_biased_state_awayRF_prior = bootstrap_PCA(awayRF_sessions, biased_state_trial_info, awayRF_pc_weights, normalize=True)"
   ]
  },
  {
   "cell_type": "code",
   "execution_count": 23,
   "metadata": {},
   "outputs": [
    {
     "name": "stderr",
     "output_type": "stream",
     "text": [
      "[Parallel(n_jobs=-1)]: Using backend LokyBackend with 16 concurrent workers.\n",
      "[Parallel(n_jobs=-1)]: Done 212 tasks      | elapsed: 31.1min\n",
      "[Parallel(n_jobs=-1)]: Done 970 out of 1001 | elapsed: 32.2min remaining:  1.0min\n",
      "[Parallel(n_jobs=-1)]: Done 1001 out of 1001 | elapsed: 32.2min finished\n"
     ]
    }
   ],
   "source": [
    "pc_projection_unbiased_state_awayRF_prior = bootstrap_PCA(awayRF_sessions, unbiased_state_trial_info, awayRF_pc_weights, normalize=True)"
   ]
  },
  {
   "cell_type": "code",
   "execution_count": 24,
   "metadata": {},
   "outputs": [],
   "source": [
    "pc_projection = {\"toRF_prior\": {\n",
    "                    \"biased_state\": pc_projection_biased_state_toRF_prior, \n",
    "                    \"unbiased_state\": pc_projection_unbiased_state_toRF_prior\n",
    "                    },\n",
    "                \"awayRF_prior\": {\n",
    "                    \"biased_state\": pc_projection_biased_state_awayRF_prior,\n",
    "                    \"unbiased_state\": pc_projection_unbiased_state_awayRF_prior\n",
    "                    },\n",
    "                }\n",
    "\n",
    "\n",
    "import pickle\n",
    "with open(Path(processed_dir, f'pc_projection.pkl'), 'wb') as f:\n",
    "    pickle.dump(pc_projection, f)"
   ]
  },
  {
   "cell_type": "markdown",
   "metadata": {},
   "source": [
    "## Plot neural trajectories"
   ]
  },
  {
   "cell_type": "code",
   "execution_count": 85,
   "metadata": {},
   "outputs": [
    {
     "data": {
      "application/vnd.plotly.v1+json": {
       "config": {
        "plotlyServerURL": "https://plot.ly"
       },
       "data": [
        {
         "line": {
          "dash": "solid",
          "width": 5
         },
         "marker": {
          "color": "blue",
          "opacity": 1,
          "size": 2
         },
         "mode": "lines",
         "name": "coh_0_choice_toRF_corr_biased_state",
         "opacity": 1,
         "showlegend": true,
         "type": "scatter3d",
         "x": {
          "bdata": "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",
          "dtype": "f8"
         },
         "y": {
          "bdata": "q1aXuMaEgMBtmkRPspSAwA2sftLWoIDASbw5IBaxgMDSVrzliciAwP8Uol4L2oDAEwnBiyP4gMAMLA4xnReBwEqQsiO6PYHA7PiD2QZfgcDmoAQ3jomBwCNO8Zhat4HAx/HN3kvdgcApkmMcCAKCwA3Ln3EhJILAu87Ys4dFgsDy5natslqCwFkWyjH+bILABWfjE+dzgsDeMhbTOHOCwHfL4L8GaILAbtnWqhFRgsC0sGljnS6CwNpeRyrDBILAg4u/njHTgcB7y7cNhpmBwM0Z6paZXoHAPoIVfFIagcCgrW7TsNiAwF07XZFSmIDAZaLNPfpPgMCtd4g3OwGAwAQbJKZVZn/AKfBbQsrOfsBZFn4SC0F+wOtRGtGbuX3AhP/ehSQqfcBKSaKoI6V8wIL2YjCgJXzArCW8F2eje8D+6UlpnjZ7wMQ1/OWE0nrAfDWV5Lt/esDE1RQCFip6wDFrnO8p6XnAPmMszNS0ecDp7g1mNpN5wG1EpBQwiHnAEJ5+f+CIecCqvGN+1o15wC7pAfiLt3nAu4VHtGj0ecAaWs4vNBp6wDlzeBpUTXrAmfWV9x2GesAqvpScI8V6wDAIqsGCBnvAaMb/K9w1e8APdWD9IWl7wMu8pWUeinvAQuPZQVeze8AKo2LOkdB7wHaom8PJyHvAkiQ8/3PGe8Agyp/o4bl7wNH+rz7XnHvAoUeQjhB4e8B2cYBoqkd7wBQUPrDhAnvAbKQ8jIe3esA6hk/NC2Z6wCuz+BeRAHrApwYvwW18ecB2o7KKjvx4wBMJvCsnanjA7C4AtivId8CgmKLWDwt3wHePypaxQXbA2SeJyMRndcDEDQvSyop0wAJKnSZ6n3PA92PN0UGqcsDX0dRTMrZxwGOQLzyHz3DARciQC+fjb8ADhZXBDTZuwAPz5fvAumzAa0yWtfpYa8DOHGNh/i9qwHGB5zhdKWnACHa7eYRcaMBOgv7MM99nwO9oSWMnfmfADEd5AstBZ8DMDHnOkFFnwCRveLModmfAhX8W2XLGZ8CS2U1/MDxowHF2fOiQ12jAIMiV1J+hacBsJpfg5mhqwIzHsk6+bmvAxNSL+32ObMCQPDaOPbttwJ2SDPKgD2/AofH1a9hDcMAcy1fXTAxxwLJiol9033HAP9A8VPSxcsCF9RA7LJFzwDaIt6Upe3TAC8SUCB1edcD3AjwE5z12wGUnK3Y9NXfAnf1sdWQReMDTSMf0VuR4wKJsu/9upXnAGFofG99kesDDpty84Rh7wChSMgNRs3vALug7qvlKfMBKVfphncV8wP6cK2GeNH3Aq6xso/6ZfcBqusiP9ex9wKwGOMgVN37A5/wOatt2fsDI+ZJi4ZV+wNGekeMRrH7ADPkDchi0fsD9L9ioU55+wLdUieWZdX7AuOtlzCIzfsDdg7ALeNZ9wFThJwQON33A8s8KGep6fMAtWAjYmIZ7wNsGUl6gYHrALuotmM0IecCT4sfT6GZ3wJvNaOgIhnXABgndBcZkc8C8A0bhMQdxwMP16/oW2WzANRfVllsCZ8DjSYqD+9pgwLt1wuHbgVTAfXXpGNyWOsDD09tZOfw+QE0q5ixMf1ZAxdGsbmq3YkBVf2qBnzBqQOqwR4xvyHBA8m4/8wNhdECFLSHIStZ3QLcWRQC0M3tAFWdswKBPfkA9dNkq7JyAQIp9AM9f6YFAjv0Tar8Xg0AdtrRbjBqEQDyx4oTb7oRAPxXNubKmhUCxXwRFYDWGQHFAanHtmIZA25425eXchkDhRZHgnP2GQAajvSEOAIdALTpG35bmhkBv8umyprWGQEEFvtbGboZAkAxNvCAThkCgw2iQT7GFQJzHkOXnO4VAUFkN6/fChEAUbl/SvjeEQMT0y0vCq4NAZcyEPCodg0BVs4Dbk4yCQKukiu6kAYJArOP4zdtugUCA2CLMn+SAQEF6eRdcWoBAjqAvknWtf0BBVBOyn6V+QM5pplrttn1A10+leIzofEDyzwqC5Sd8QBX1FUM4f3tA/AyGxTcCe0CJ6Py7jJp6QCTmHXO8UnpAm5Coht8tekCj8iMCyCZ6QH+DXBY2SHpAk7yDSJWBekAH5GzRPOh6QNISCk1cZHtAdkEpTzX5e0Cm9vgUkrJ8QE87WxUpZ31AZw/tlFU1fkBJ7jz1IBZ/QM1X8F7s939A5gyqsd1vgEAp5IImldiAQKTbJ4F3RYFAgZJZp7urgUAGXR003QyCQOJLEFCbYYJAc6Yj57u2gkAAfkmh8vyCQG6TE4CQOINAUZqAOCRrg0CIjVQoE5eDQKk/lXkXsINAVCVZ+my4g0C0kSfcJ72DQB8SXYCzs4NAG9JVazaig0DtUn6k+4SDQNJ9fGiqZoNAOdV3VudAg0BiG+vQZQqDQDiepreR2oJAENcr8nGpgkAKUHPeknSCQI2W59AoS4JAyjqSRusjgkAIblx3sgaCQJ1lL6sF8oFAumoHDmXqgUCRvKfh0u+BQDi5HM5JBoJAJKaRxMssgkBSYLQTZWWCQEIuBJaptIJArK9LsPkPg0ANdofovoSDQC6oLkU0CIRAYpvhqBmWhEA6rxh6uD2FQNUlOv+J64VAvD8w3BuphkAFsIMbNWyHQB7hpE99N4hAseaszJoDiUB+ma1KJ8yJQGxiQujhlYpAR6oECIBVi0BtaFtTiwyMQJninHLwwIxAB+xg5z9ojUCeXLmLvP2NQEIz/JuLhI5AUEwPuonujkD1mAFeY0iPQLrQDB+QjY9A9itJTi+9j0CvFo3C/tqPQG00r2scx49AEqDRaQm7j0Cao+kt75ePQNCepzsnWI9Aa34a18zjjkD+ZW0tJoKOQG2VrD4PFY5AlYST+j6fjUBZgIJHwhGNQOaY63Awf4xA14xLK+jai0AX4rL2WiuLQEpWJpwZfYpA17vG11DBiUC8+ltqOtaIQKzGqO5+A4hAbQCeTx8HiEC2DLtdFjaHQNuG8NwFW4ZAQQYi6Ed4hUC28af1ro6EQIVlhTPKm4NAPmil6PScgkDRhvjHV6KBQM0U8HT5pIBA7aWbIm4qf0CP1TY/oA59QIL5RhJ5AHtABMWLb4XveEAzAj1bCFF3QJl0vAwvUHVAolcoc75Xc0CN6xUEjXBxQHXxqYDxQG9AvEOB82ura0AhAgimkoJoQBnrXkMMgGVAszzGau24YkCDpZ1gxyBgQL2w4McZZ1pAwNWEr0/kVUC2Aa/1xxxSQB/Z2QDYkExAx+llJPkKRkB3HuNaBxs9QDauP/xpBCpAPK0mxl8C+T+QiHLbO0siwPviTYoR9zLA6lofahQaPcChc4Dr475EwHvXxkQVNEnAaavHa0deScDBrbQJjOFMwOnHDMTSLFDAUnL9iiDnUcCg2SjUtSBVwMvFyiQ1rlbA91AKgYoPWMDYBFq3xuVZwO0eL2CrW1vAB3AoeQ2BXMCAReGJK2JdwA0ROMsl4V/Aq5ekBtWcYMCYEdnNFmVhwN1tLlx4LWLAScMryfINY8DH7C7jhAlkwIrDoNSE32TAiGO1VqDLZcAiis0VUd5mwP7uE6/p3WfACXVXSYD7aMBB0Bi3qKZqwNGfJUZJz2vA716w26Q/bcAJg/m2BjxwwFsWzh7yFnHAkdstL9z2cMDYkqK8Z7BxwM3qMiKWrnLAq9ERLFN4c8ANhbL8rYF0wBmlsfHpXHXAc6YNPSJNdsCGLPcval93wLqbLLDfNXjAOc7Mb94PecAfc7mCtdV5wFqnG3ethHnAMlIfeeEresCdVVf3yXd6wJdHDpbe6HrAUf7SDUsfe8DeOc5XArl7wAd35C/b8XvAvXQk3Jz7e8BLZ0I6cfV7wHHaeSm2ynvA0pZBwmfhe8CSF/JfpHF7wAHp62yrTXvAMvGv2yfKesBNaSKIUel5wN+fdShOQ3nAjetFlwSleMAEaBIELp54wLeUA06Qz3jAUPCAsCBReMCLZHVo9OB3wKNru1IkfnfADhCheY7TdsCGdZmEiI12wIpse8a+GHfARlgo4v6/dsBrw9A8Ubl2wA2kB9/WqHbANDlGJSM5d8Cb7lXH99V2wCcLLdJQaXfAPLJbX9TNd8Dy0UiQmqp3wLr6kUqWVHjAltuMoSHzeMBrhqxA+rV6wNOmHbTWW3rALFXSf71ee8CFqPERmcR7wH8rB12kKn3AItwtlx2kfsBHUXYPCASAwPj61YKSrIDAeoSy5ycggcAAAAAAAAD4fwAAAAAAAPh/AAAAAAAA+H8AAAAAAAD4fwAAAAAAAPh/AAAAAAAA+H8AAAAAAAD4fwAAAAAAAPh/AAAAAAAA+H8AAAAAAAD4fwAAAAAAAPh/AAAAAAAA+H8AAAAAAAD4fwAAAAAAAPh/AAAAAAAA+H8AAAAAAAD4fwAAAAAAAPh/AAAAAAAA+H8AAAAAAAD4fwAAAAAAAPh/AAAAAAAA+H8AAAAAAAD4fwAAAAAAAPh/AAAAAAAA+H8AAAAAAAD4fwAAAAAAAPh/AAAAAAAA+H8AAAAAAAD4fwAAAAAAAPh/AAAAAAAA+H8AAAAAAAD4fwAAAAAAAPh/AAAAAAAA+H8AAAAAAAD4fwAAAAAAAPh/AAAAAAAA+H8AAAAAAAD4fwAAAAAAAPh/AAAAAAAA+H8AAAAAAAD4fwAAAAAAAPh/AAAAAAAA+H8AAAAAAAD4fwAAAAAAAPh/AAAAAAAA+H8AAAAAAAD4fwAAAAAAAPh/AAAAAAAA+H8AAAAAAAD4fwAAAAAAAPh/AAAAAAAA+H8AAAAAAAD4fwAAAAAAAPh/AAAAAAAA+H8AAAAAAAD4fwAAAAAAAPh/AAAAAAAA+H8AAAAAAAD4fwAAAAAAAPh/AAAAAAAA+H8AAAAAAAD4fwAAAAAAAPh/AAAAAAAA+H8AAAAAAAD4fwAAAAAAAPh/AAAAAAAA+H8AAAAAAAD4fwAAAAAAAPh/AAAAAAAA+H8AAAAAAAD4fwAAAAAAAPh/AAAAAAAA+H8AAAAAAAD4fwAAAAAAAPh/AAAAAAAA+H8AAAAAAAD4fwAAAAAAAPh/AAAAAAAA+H8AAAAAAAD4fwAAAAAAAPh/AAAAAAAA+H8AAAAAAAD4fwAAAAAAAPh/AAAAAAAA+H8AAAAAAAD4fwAAAAAAAPh/AAAAAAAA+H8AAAAAAAD4fwAAAAAAAPh/AAAAAAAA+H8AAAAAAAD4fwAAAAAAAPh/AAAAAAAA+H8AAAAAAAD4fwAAAAAAAPh/AAAAAAAA+H8AAAAAAAD4fwAAAAAAAPh/AAAAAAAA+H8AAAAAAAD4fwAAAAAAAPh/AAAAAAAA+H8AAAAAAAD4fwAAAAAAAPh/AAAAAAAA+H8AAAAAAAD4fwAAAAAAAPh/AAAAAAAA+H8AAAAAAAD4fwAAAAAAAPh/AAAAAAAA+H8AAAAAAAD4fwAAAAAAAPh/AAAAAAAA+H8AAAAAAAD4fwAAAAAAAPh/AAAAAAAA+H8AAAAAAAD4fwAAAAAAAPh/AAAAAAAA+H8AAAAAAAD4fwAAAAAAAPh/AAAAAAAA+H8AAAAAAAD4fwAAAAAAAPh/AAAAAAAA+H8AAAAAAAD4fwAAAAAAAPh/AAAAAAAA+H8AAAAAAAD4fwAAAAAAAPh/AAAAAAAA+H8AAAAAAAD4fwAAAAAAAPh/AAAAAAAA+H8AAAAAAAD4fwAAAAAAAPh/AAAAAAAA+H8AAAAAAAD4fwAAAAAAAPh/AAAAAAAA+H8AAAAAAAD4fwAAAAAAAPh/AAAAAAAA+H8AAAAAAAD4fwAAAAAAAPh/AAAAAAAA+H8AAAAAAAD4fwAAAAAAAPh/AAAAAAAA+H8AAAAAAAD4fwAAAAAAAPh/AAAAAAAA+H8AAAAAAAD4fwAAAAAAAPh/AAAAAAAA+H8AAAAAAAD4fwAAAAAAAPh/AAAAAAAA+H8AAAAAAAD4fwAAAAAAAPh/AAAAAAAA+H8AAAAAAAD4fwAAAAAAAPh/AAAAAAAA+H8AAAAAAAD4fwAAAAAAAPh/AAAAAAAA+H8AAAAAAAD4fwAAAAAAAPh/AAAAAAAA+H8AAAAAAAD4fwAAAAAAAPh/AAAAAAAA+H8AAAAAAAD4fwAAAAAAAPh/AAAAAAAA+H8AAAAAAAD4fwAAAAAAAPh/AAAAAAAA+H8AAAAAAAD4fwAAAAAAAPh/AAAAAAAA+H8AAAAAAAD4fwAAAAAAAPh/AAAAAAAA+H8AAAAAAAD4fwAAAAAAAPh/AAAAAAAA+H8AAAAAAAD4fwAAAAAAAPh/AAAAAAAA+H8AAAAAAAD4fwAAAAAAAPh/AAAAAAAA+H8AAAAAAAD4fwAAAAAAAPh/AAAAAAAA+H8AAAAAAAD4fwAAAAAAAPh/AAAAAAAA+H8AAAAAAAD4fwAAAAAAAPh/AAAAAAAA+H8AAAAAAAD4fwAAAAAAAPh/AAAAAAAA+H8AAAAAAAD4fwAAAAAAAPh/AAAAAAAA+H8AAAAAAAD4fwAAAAAAAPh/AAAAAAAA+H8AAAAAAAD4fwAAAAAAAPh/AAAAAAAA+H8AAAAAAAD4fwAAAAAAAPh/AAAAAAAA+H8AAAAAAAD4fwAAAAAAAPh/AAAAAAAA+H8AAAAAAAD4fwAAAAAAAPh/AAAAAAAA+H8AAAAAAAD4fwAAAAAAAPh/AAAAAAAA+H8AAAAAAAD4fwAAAAAAAPh/AAAAAAAA+H8AAAAAAAD4fwAAAAAAAPh/AAAAAAAA+H8AAAAAAAD4fwAAAAAAAPh/AAAAAAAA+H8AAAAAAAD4fwAAAAAAAPh/AAAAAAAA+H8AAAAAAAD4fwAAAAAAAPh/AAAAAAAA+H8AAAAAAAD4fwAAAAAAAPh/AAAAAAAA+H8AAAAAAAD4fwAAAAAAAPh/AAAAAAAA+H8AAAAAAAD4fwAAAAAAAPh/AAAAAAAA+H8AAAAAAAD4fwAAAAAAAPh/AAAAAAAA+H8AAAAAAAD4fwAAAAAAAPh/AAAAAAAA+H8AAAAAAAD4fwAAAAAAAPh/AAAAAAAA+H8AAAAAAAD4fwAAAAAAAPh/AAAAAAAA+H8AAAAAAAD4fwAAAAAAAPh/AAAAAAAA+H8AAAAAAAD4fwAAAAAAAPh/AAAAAAAA+H8AAAAAAAD4fwAAAAAAAPh/AAAAAAAA+H8AAAAAAAD4fwAAAAAAAPh/AAAAAAAA+H8AAAAAAAD4fwAAAAAAAPh/AAAAAAAA+H8AAAAAAAD4fwAAAAAAAPh/AAAAAAAA+H8AAAAAAAD4fwAAAAAAAPh/AAAAAAAA+H8AAAAAAAD4fwAAAAAAAPh/AAAAAAAA+H8AAAAAAAD4fwAAAAAAAPh/AAAAAAAA+H8AAAAAAAD4fwAAAAAAAPh/AAAAAAAA+H8AAAAAAAD4fwAAAAAAAPh/AAAAAAAA+H8AAAAAAAD4fwAAAAAAAPh/AAAAAAAA+H8AAAAAAAD4fwAAAAAAAPh/AAAAAAAA+H8AAAAAAAD4fwAAAAAAAPh/AAAAAAAA+H8AAAAAAAD4fwAAAAAAAPh/AAAAAAAA+H8AAAAAAAD4fwAAAAAAAPh/AAAAAAAA+H8AAAAAAAD4fwAAAAAAAPh/AAAAAAAA+H8AAAAAAAD4fwAAAAAAAPh/AAAAAAAA+H8AAAAAAAD4fwAAAAAAAPh/AAAAAAAA+H8AAAAAAAD4fwAAAAAAAPh/AAAAAAAA+H8AAAAAAAD4fwAAAAAAAPh/AAAAAAAA+H8AAAAAAAD4fwAAAAAAAPh/AAAAAAAA+H8AAAAAAAD4fwAAAAAAAPh/AAAAAAAA+H8AAAAAAAD4fwAAAAAAAPh/AAAAAAAA+H8AAAAAAAD4fwAAAAAAAPh/AAAAAAAA+H8AAAAAAAD4fwAAAAAAAPh/AAAAAAAA+H8AAAAAAAD4fwAAAAAAAPh/AAAAAAAA+H8AAAAAAAD4fwAAAAAAAPh/AAAAAAAA+H8AAAAAAAD4fwAAAAAAAPh/AAAAAAAA+H8AAAAAAAD4fwAAAAAAAPh/AAAAAAAA+H8AAAAAAAD4fwAAAAAAAPh/AAAAAAAA+H8AAAAAAAD4fwAAAAAAAPh/AAAAAAAA+H8AAAAAAAD4fwAAAAAAAPh/AAAAAAAA+H8AAAAAAAD4fwAAAAAAAPh/AAAAAAAA+H8AAAAAAAD4fwAAAAAAAPh/AAAAAAAA+H8AAAAAAAD4fwAAAAAAAPh/AAAAAAAA+H8AAAAAAAD4fwAAAAAAAPh/AAAAAAAA+H8AAAAAAAD4fwAAAAAAAPh/AAAAAAAA+H8AAAAAAAD4fwAAAAAAAPh/AAAAAAAA+H8AAAAAAAD4fwAAAAAAAPh/AAAAAAAA+H8AAAAAAAD4fwAAAAAAAPh/AAAAAAAA+H8AAAAAAAD4fwAAAAAAAPh/AAAAAAAA+H8AAAAAAAD4fwAAAAAAAPh/AAAAAAAA+H8AAAAAAAD4fwAAAAAAAPh/AAAAAAAA+H8AAAAAAAD4fwAAAAAAAPh/AAAAAAAA+H8AAAAAAAD4fwAAAAAAAPh/AAAAAAAA+H8AAAAAAAD4fwAAAAAAAPh/AAAAAAAA+H8AAAAAAAD4fwAAAAAAAPh/AAAAAAAA+H8AAAAAAAD4fwAAAAAAAPh/AAAAAAAA+H8AAAAAAAD4fwAAAAAAAPh/AAAAAAAA+H8AAAAAAAD4fwAAAAAAAPh/AAAAAAAA+H8AAAAAAAD4fwAAAAAAAPh/AAAAAAAA+H8AAAAAAAD4fwAAAAAAAPh/AAAAAAAA+H8AAAAAAAD4fwAAAAAAAPh/AAAAAAAA+H8AAAAAAAD4fwAAAAAAAPh/AAAAAAAA+H8AAAAAAAD4fwAAAAAAAPh/AAAAAAAA+H8AAAAAAAD4fwAAAAAAAPh/AAAAAAAA+H8AAAAAAAD4fwAAAAAAAPh/AAAAAAAA+H8AAAAAAAD4fwAAAAAAAPh/AAAAAAAA+H8AAAAAAAD4fwAAAAAAAPh/AAAAAAAA+H8AAAAAAAD4fwAAAAAAAPh/AAAAAAAA+H8AAAAAAAD4fwAAAAAAAPh/AAAAAAAA+H8AAAAAAAD4fwAAAAAAAPh/AAAAAAAA+H8AAAAAAAD4fwAAAAAAAPh/AAAAAAAA+H8AAAAAAAD4fwAAAAAAAPh/AAAAAAAA+H8AAAAAAAD4fwAAAAAAAPh/AAAAAAAA+H8AAAAAAAD4fwAAAAAAAPh/AAAAAAAA+H8AAAAAAAD4fwAAAAAAAPh/AAAAAAAA+H8AAAAAAAD4fwAAAAAAAPh/AAAAAAAA+H8AAAAAAAD4fwAAAAAAAPh/AAAAAAAA+H8AAAAAAAD4fwAAAAAAAPh/AAAAAAAA+H8AAAAAAAD4fwAAAAAAAPh/AAAAAAAA+H8AAAAAAAD4fwAAAAAAAPh/AAAAAAAA+H8AAAAAAAD4fwAAAAAAAPh/AAAAAAAA+H8AAAAAAAD4fwAAAAAAAPh/AAAAAAAA+H8AAAAAAAD4fwAAAAAAAPh/AAAAAAAA+H8AAAAAAAD4fwAAAAAAAPh/AAAAAAAA+H8AAAAAAAD4fwAAAAAAAPh/AAAAAAAA+H8AAAAAAAD4fwAAAAAAAPh/AAAAAAAA+H8AAAAAAAD4fwAAAAAAAPh/AAAAAAAA+H8AAAAAAAD4fwAAAAAAAPh/AAAAAAAA+H8=",
          "dtype": "f8"
         },
         "z": {
          "bdata": "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",
          "dtype": "f8"
         }
        },
        {
         "line": {
          "dash": "solid",
          "width": 2
         },
         "marker": {
          "color": "blue",
          "opacity": 1,
          "size": 2
         },
         "mode": "lines",
         "name": "coh_0_choice_toRF_corr_unbiased_state",
         "opacity": 1,
         "showlegend": true,
         "type": "scatter3d",
         "x": {
          "bdata": "g/KBdt2OhcAIp+r8e0mFwJuwU+t1AYXAW8LaP1+4hMAKSxL6vGaEwK61EdmtFITAefS7UQvCg8C7USzTVHWDwJl3UtMhJYPAtGnJLyLagsCGLA0XoIuCwCMy5VMoPoLA+NzluIL5gcC0vQfDCLqBwAt+/vrXfoHAOLWG78VCgcA2o2ttiAuBwERykHb/2IDAXgs3oiKrgMB8n9FklIGAwGsYnidmYIDAp3bjzsRCgMAGtK59Si2AwKCl5MFyGIDABciS6wEOgMDY8XuFFAaAwF+cvBtFBoDA41P+V+IMgMCl/nzwyRSAwOdEskXdIYDARkAVpAYzgMCaK6881k6AwGH20up5aoDABsmzrbmJgMBPlV2mXquAwHUMPXauzYDAOPvDHQL4gMAPnDomtiOBwG77vqeJTIHA1gnZCgx8gcCHUIJrDa6BwA3TrmR34YHAsjA5Ef0ZgsBvmVGW1lCCwKUT6fCck4LA6yDCAQzUgsCeW6LQnReDwGcamqW1VoPAFIAfl4WYg8DS6e8PO92DwIKvSMz2FoTADvBU+55WhMAhtrZ1yIiEwPRmeBGQtITAcFAmn37jhMBPC5scsgWFwM1bEYsVIoXARiK1E6swhcBPhRWAgjmFwHpRItXbNYXAwb8P7h4mhcAPWm8SzAuFwFTgkf1r4oTAkWzW0HSvhMBv1noFn3GEwG8ndQF1LITAqYZ1mp7cg8CANQjjOIiDwCkb1GYUJ4PAf/1tzcfGgsB+CBtt+2SCwHshaGbhBILAhhRCdeiogcCJ7Qe6z0eBwJ+oFMOI8oDAsWnivCWkgMBxYU1yQ2KAwN8sWDh4LIDA6baSz94AgMDMeaYGQsx/wJZKwP4lsn/AHrI8Cduyf8Cw8BXtBsx/wOZPu5NdBYDADza3w34rgMAwDgGJp16AwNlT+FUGm4DAw8sAJO3YgMDUgUMNvhuBwP9VGCtWYYHAmyS32l+ngcB3hZoVUuqBwBN/Pm7dI4LAKz+vo4FhgsAsDI46aZWCwGUOvcyVwYLAlFPnWHfngsDm4MjWcwODwG8D3zYlGIPAJlmuQCUng8CMHzyhNDCDwBSVqRewMYPAkIZTRwgxg8AqBI75TymDwOU0TPy6IIPAzKsj9jkRg8Cx7N+q0wSDwM3dyVsu94LAlm7MSunxgsDID3WPYOiCwOziQI+j4ILAyJUpx1XegsDgi7ZzLNWCwA5K10vs14LAJu9ueWvagsCaX+KzNNqCwI8uUZR73YLAI05ucQzogsCT0zGRo/SCwClJR4C5AoPAWgj4MgUZg8DmqF7pZjWDwE3i0KaTUYPA51PG2cp2g8DegpGVZp6DwOlXOqugyIPAN7vk9BP5g8CbhlfFyy+EwEU4DEupaoTA7REvHHSohMDABjhLxu2EwBRTYskbMYXAxq9nTZp+hcDK6OuWDtWFwKF1YM1tMYbAA2ZH+DiMhsDZmc7EuvKGwJZv2IOsXIfAKagTUxPOh8A60RaCH0WIwN7Ch2DYwIjAszUHG9k/icAWlhX2lciJwBe5AhQuV4rAgQacfVvgisBGBtYxcG+LwOIEGnc8/ovAVCHsXMqJjMCS9vBpfRCNwPfSXLKIj43A1Y2N5n0BjsDM4fPEVmSOwEJcRR82vY7Au5ruQacHj8Am6zxVaDyPwCIqmhktYY/AAaLCl/Zsj8B1BHjtMm6PwEzH1nbfXo/AdG6uOkw/j8DfZjFmNg2PwKZ//epFyI7ACeN4Q858jsDEn4/ptiOOwLOBvaLwxY3AXL6jQoNkjcDXHfymtfuMwKZ9hGJClIzAhBtszgIrjMA7H83pgcyLwGT/nv4AdYvA20zyqQwhi8CY/okTMdeKwCcs5hxomorApaJNq65kisBZZ1/nODqKwGDFV/a9HIrAgOwmmVcLisBdlziB9v6JwHU5cB/+/InA1EIzsUoHisBmg85SNxWKwPQbdgs8JIrAmFRm+jc4isBzktlALkuKwFVOxCpLX4rA2AUDfV9sisAswCMQB3eKwBQ+3IMUgIrALsKWl8d8isB534raenOKwGPHH3EEXorAEJlQcr4/isA+uMWRqBSKwElGheIM4onA5ZR76JekicAskdjLymGJwMsdjym2FYnAkPacoJDHiMBkRNLbOnKIwE6TT0G/GIjAss9CBpW7h8D9Rc3zRl6HwDW7AobW/IbAUyHif3CbhsBJ7p2SjD2GwJpLR7vv3oXAGqsD/y95hcAOqVJj6RWFwHFsLFcVr4TACYkUGbRJhMBYAutnZuODwGw6OTiVeYPASeeYeREJg8BJhzUZfpaCwM+rMTvkG4LAwWYjDfeegcDDm8T1DiKBwCz/5MqAmIDAfbudMnMLgMAyg5G0q/1+wM/bgk+Z2X3Au9nXfA6zfMDNGaWs4nh7wInpuFyePHrAndIdUBD0eMBb9Uq0LqN3wJAYSDFtWXbAi2Maa0MFdcBhDokV1atzwKRhvUt8NnLAdIfgGBfCcMA0ULb5zpFuwM6ZfuS1hmvASFd79VpYaMCWczfYRQ1lwPph3bbrtWHAz1ig3mJ+XMDfW6dNVDlVwIqKRT1XsEvAiI+UiWKEOMCNnHnKl5kZQAfhAA09m0NAXX0uKYb+UUCrZTjHE4FaQC5RY9P/jGFAIF0VPp3lZUDmT5uZ1DtqQNz7wUQxom5AdfKgUPWPcUAFOona071zQN4vKajC4HVAleEuMnAmeED+ob9B2C16QPr+3jPzInxAqV1fB7/+fUCl6RJY6Lp/QB95ELndq4BAn2PuWJ5ygUAFJr1pgyOCQKqCKGQayIJA3JruZ1hZg0CR9Kn3FOKDQLjpdnjSXYRAU6monynThED79RUfqECFQE5zdmpKroVA+nfWgjsbhkAVR/2XM4iGQG5nPoT9AodAF0gHibhah0Ddlyamw/KHQCWW9RcAjIhAvqAFP3sviUB1QxHYLfuJQKYNTEaW44pAvb83JbTai0B2IU5T5O6MQGe6YicsGI5Ao72UlKouj0CNocw6hzyQQIKsyTYU6JBASPvqRA6JkUDfiJmGZDuSQGapM68Q8pJAweFXat+nk0AxCjyzy2KUQOC+g8PlEpVAm6OlkCy8lUARyPX+GWWWQES13+wJ0pZAjTms/nhal0CJjloSndWXQKrgsGzYJZhAGJ0HPHGqmED770kFkP2YQK+ShsWnb5lATkt3sITdmUD2sw24R0SaQNTlG2vFsJpALnysS9z9mkCvsl4BX3KbQKEiDccBvZtA7SOZCM0dnEAdgd6FcIGcQJM69cL855xAzYp+nw9VnUBjfK/pkJ6dQPVV3zLfE55A/F5LDCl+nkDNtfNT5v6eQIJK0ZD/ZJ9AKtQjDjBjn0AYqXhurgOgQN6kcGrVRqBAozatXTp/oECQR1uj6MygQHrW79kWIaFAd2aKfQh0oUBY6ZHZNMKhQEgYP+i3BqJA6c31bb1IokDsNRjttXyiQGdM98SkyaJAvljvPG71okCaLTL2dyijQLcrwBFbVKNALtERppuLo0CyDu08z9ajQIIzmt0k7qNA644ctL4spEA4+E0kN2GkQHAucs31e6RAkGLPByGhpEBD7oFXOtikQKFlyH4w+qRAenoSB/YgpUB6t5vaBjylQFpkDFPsX6VAGXC4jcSUpUB7sDUNLr2lQMOxE5j1u6VAyNjr/EbVpUAhSGK/S+ylQPiJrbDxFaZAa+68I2dDpkBWHdMu52emQCv56rS8jaZAIpJWAr2VpkCEz2/Vn8amQBQCmBY5zaZAGbUK7vLypkBhGlSvUwCnQAeM6GWOD6dAEVUZy60up0D0yx0qtCWnQC71EirlLqdANLGHtCM1p0Ab/A7sn0+nQPx55BioZqdAlT+SMDZ0p0BsTw9s1o6nQAAAAAAAAPh/AAAAAAAA+H8AAAAAAAD4fwAAAAAAAPh/AAAAAAAA+H8AAAAAAAD4fwAAAAAAAPh/AAAAAAAA+H8AAAAAAAD4fwAAAAAAAPh/AAAAAAAA+H8AAAAAAAD4fwAAAAAAAPh/AAAAAAAA+H8AAAAAAAD4fwAAAAAAAPh/AAAAAAAA+H8AAAAAAAD4fwAAAAAAAPh/AAAAAAAA+H8AAAAAAAD4fwAAAAAAAPh/AAAAAAAA+H8AAAAAAAD4fwAAAAAAAPh/AAAAAAAA+H8AAAAAAAD4fwAAAAAAAPh/AAAAAAAA+H8AAAAAAAD4fwAAAAAAAPh/AAAAAAAA+H8AAAAAAAD4fwAAAAAAAPh/AAAAAAAA+H8AAAAAAAD4fwAAAAAAAPh/AAAAAAAA+H8AAAAAAAD4fwAAAAAAAPh/AAAAAAAA+H8AAAAAAAD4fwAAAAAAAPh/AAAAAAAA+H8AAAAAAAD4fwAAAAAAAPh/AAAAAAAA+H8AAAAAAAD4fwAAAAAAAPh/AAAAAAAA+H8AAAAAAAD4fwAAAAAAAPh/AAAAAAAA+H8AAAAAAAD4fwAAAAAAAPh/AAAAAAAA+H8AAAAAAAD4fwAAAAAAAPh/AAAAAAAA+H8AAAAAAAD4fwAAAAAAAPh/AAAAAAAA+H8AAAAAAAD4fwAAAAAAAPh/AAAAAAAA+H8AAAAAAAD4fwAAAAAAAPh/AAAAAAAA+H8AAAAAAAD4fwAAAAAAAPh/AAAAAAAA+H8AAAAAAAD4fwAAAAAAAPh/AAAAAAAA+H8AAAAAAAD4fwAAAAAAAPh/AAAAAAAA+H8AAAAAAAD4fwAAAAAAAPh/AAAAAAAA+H8AAAAAAAD4fwAAAAAAAPh/AAAAAAAA+H8AAAAAAAD4fwAAAAAAAPh/AAAAAAAA+H8AAAAAAAD4fwAAAAAAAPh/AAAAAAAA+H8AAAAAAAD4fwAAAAAAAPh/AAAAAAAA+H8AAAAAAAD4fwAAAAAAAPh/AAAAAAAA+H8AAAAAAAD4fwAAAAAAAPh/AAAAAAAA+H8AAAAAAAD4fwAAAAAAAPh/AAAAAAAA+H8AAAAAAAD4fwAAAAAAAPh/AAAAAAAA+H8AAAAAAAD4fwAAAAAAAPh/AAAAAAAA+H8AAAAAAAD4fwAAAAAAAPh/AAAAAAAA+H8AAAAAAAD4fwAAAAAAAPh/AAAAAAAA+H8AAAAAAAD4fwAAAAAAAPh/AAAAAAAA+H8AAAAAAAD4fwAAAAAAAPh/AAAAAAAA+H8AAAAAAAD4fwAAAAAAAPh/AAAAAAAA+H8AAAAAAAD4fwAAAAAAAPh/AAAAAAAA+H8AAAAAAAD4fwAAAAAAAPh/AAAAAAAA+H8AAAAAAAD4fwAAAAAAAPh/AAAAAAAA+H8AAAAAAAD4fwAAAAAAAPh/AAAAAAAA+H8AAAAAAAD4fwAAAAAAAPh/AAAAAAAA+H8AAAAAAAD4fwAAAAAAAPh/AAAAAAAA+H8AAAAAAAD4fwAAAAAAAPh/AAAAAAAA+H8AAAAAAAD4fwAAAAAAAPh/AAAAAAAA+H8AAAAAAAD4fwAAAAAAAPh/AAAAAAAA+H8AAAAAAAD4fwAAAAAAAPh/AAAAAAAA+H8AAAAAAAD4fwAAAAAAAPh/AAAAAAAA+H8AAAAAAAD4fwAAAAAAAPh/AAAAAAAA+H8AAAAAAAD4fwAAAAAAAPh/AAAAAAAA+H8AAAAAAAD4fwAAAAAAAPh/AAAAAAAA+H8AAAAAAAD4fwAAAAAAAPh/AAAAAAAA+H8AAAAAAAD4fwAAAAAAAPh/AAAAAAAA+H8AAAAAAAD4fwAAAAAAAPh/AAAAAAAA+H8AAAAAAAD4fwAAAAAAAPh/AAAAAAAA+H8AAAAAAAD4fwAAAAAAAPh/AAAAAAAA+H8AAAAAAAD4fwAAAAAAAPh/AAAAAAAA+H8AAAAAAAD4fwAAAAAAAPh/AAAAAAAA+H8AAAAAAAD4fwAAAAAAAPh/AAAAAAAA+H8AAAAAAAD4fwAAAAAAAPh/AAAAAAAA+H8AAAAAAAD4fwAAAAAAAPh/AAAAAAAA+H8AAAAAAAD4fwAAAAAAAPh/AAAAAAAA+H8AAAAAAAD4fwAAAAAAAPh/AAAAAAAA+H8AAAAAAAD4fwAAAAAAAPh/AAAAAAAA+H8AAAAAAAD4fwAAAAAAAPh/AAAAAAAA+H8AAAAAAAD4fwAAAAAAAPh/AAAAAAAA+H8AAAAAAAD4fwAAAAAAAPh/AAAAAAAA+H8AAAAAAAD4fwAAAAAAAPh/AAAAAAAA+H8AAAAAAAD4fwAAAAAAAPh/AAAAAAAA+H8AAAAAAAD4fwAAAAAAAPh/AAAAAAAA+H8AAAAAAAD4fwAAAAAAAPh/AAAAAAAA+H8AAAAAAAD4fwAAAAAAAPh/AAAAAAAA+H8AAAAAAAD4fwAAAAAAAPh/AAAAAAAA+H8AAAAAAAD4fwAAAAAAAPh/AAAAAAAA+H8AAAAAAAD4fwAAAAAAAPh/AAAAAAAA+H8AAAAAAAD4fwAAAAAAAPh/AAAAAAAA+H8AAAAAAAD4fwAAAAAAAPh/AAAAAAAA+H8AAAAAAAD4fwAAAAAAAPh/AAAAAAAA+H8AAAAAAAD4fwAAAAAAAPh/AAAAAAAA+H8AAAAAAAD4fwAAAAAAAPh/AAAAAAAA+H8AAAAAAAD4fwAAAAAAAPh/AAAAAAAA+H8AAAAAAAD4fwAAAAAAAPh/AAAAAAAA+H8AAAAAAAD4fwAAAAAAAPh/AAAAAAAA+H8AAAAAAAD4fwAAAAAAAPh/AAAAAAAA+H8AAAAAAAD4fwAAAAAAAPh/AAAAAAAA+H8AAAAAAAD4fwAAAAAAAPh/AAAAAAAA+H8AAAAAAAD4fwAAAAAAAPh/AAAAAAAA+H8AAAAAAAD4fwAAAAAAAPh/AAAAAAAA+H8AAAAAAAD4fwAAAAAAAPh/AAAAAAAA+H8AAAAAAAD4fwAAAAAAAPh/AAAAAAAA+H8AAAAAAAD4fwAAAAAAAPh/AAAAAAAA+H8AAAAAAAD4fwAAAAAAAPh/AAAAAAAA+H8AAAAAAAD4fwAAAAAAAPh/AAAAAAAA+H8AAAAAAAD4fwAAAAAAAPh/AAAAAAAA+H8AAAAAAAD4fwAAAAAAAPh/AAAAAAAA+H8AAAAAAAD4fwAAAAAAAPh/AAAAAAAA+H8AAAAAAAD4fwAAAAAAAPh/AAAAAAAA+H8AAAAAAAD4fwAAAAAAAPh/AAAAAAAA+H8AAAAAAAD4fwAAAAAAAPh/AAAAAAAA+H8AAAAAAAD4fwAAAAAAAPh/AAAAAAAA+H8AAAAAAAD4fwAAAAAAAPh/AAAAAAAA+H8AAAAAAAD4fwAAAAAAAPh/AAAAAAAA+H8AAAAAAAD4fwAAAAAAAPh/AAAAAAAA+H8AAAAAAAD4fwAAAAAAAPh/AAAAAAAA+H8AAAAAAAD4fwAAAAAAAPh/AAAAAAAA+H8AAAAAAAD4fwAAAAAAAPh/AAAAAAAA+H8AAAAAAAD4fwAAAAAAAPh/AAAAAAAA+H8AAAAAAAD4fwAAAAAAAPh/AAAAAAAA+H8AAAAAAAD4fwAAAAAAAPh/AAAAAAAA+H8AAAAAAAD4fwAAAAAAAPh/AAAAAAAA+H8AAAAAAAD4fwAAAAAAAPh/AAAAAAAA+H8AAAAAAAD4fwAAAAAAAPh/AAAAAAAA+H8AAAAAAAD4fwAAAAAAAPh/AAAAAAAA+H8AAAAAAAD4fwAAAAAAAPh/AAAAAAAA+H8AAAAAAAD4fwAAAAAAAPh/AAAAAAAA+H8AAAAAAAD4fwAAAAAAAPh/AAAAAAAA+H8AAAAAAAD4fwAAAAAAAPh/AAAAAAAA+H8AAAAAAAD4fwAAAAAAAPh/AAAAAAAA+H8AAAAAAAD4fwAAAAAAAPh/AAAAAAAA+H8AAAAAAAD4fwAAAAAAAPh/AAAAAAAA+H8AAAAAAAD4fwAAAAAAAPh/AAAAAAAA+H8AAAAAAAD4fwAAAAAAAPh/AAAAAAAA+H8AAAAAAAD4fwAAAAAAAPh/AAAAAAAA+H8AAAAAAAD4fwAAAAAAAPh/AAAAAAAA+H8AAAAAAAD4fwAAAAAAAPh/AAAAAAAA+H8AAAAAAAD4fwAAAAAAAPh/AAAAAAAA+H8AAAAAAAD4fwAAAAAAAPh/AAAAAAAA+H8AAAAAAAD4fwAAAAAAAPh/AAAAAAAA+H8AAAAAAAD4fwAAAAAAAPh/AAAAAAAA+H8AAAAAAAD4fwAAAAAAAPh/AAAAAAAA+H8AAAAAAAD4fwAAAAAAAPh/AAAAAAAA+H8AAAAAAAD4fwAAAAAAAPh/AAAAAAAA+H8AAAAAAAD4fwAAAAAAAPh/AAAAAAAA+H8AAAAAAAD4fwAAAAAAAPh/AAAAAAAA+H8AAAAAAAD4fwAAAAAAAPh/AAAAAAAA+H8AAAAAAAD4fwAAAAAAAPh/AAAAAAAA+H8AAAAAAAD4fwAAAAAAAPh/AAAAAAAA+H8AAAAAAAD4fwAAAAAAAPh/AAAAAAAA+H8AAAAAAAD4fwAAAAAAAPh/AAAAAAAA+H8AAAAAAAD4fwAAAAAAAPh/AAAAAAAA+H8AAAAAAAD4fwAAAAAAAPh/AAAAAAAA+H8AAAAAAAD4fwAAAAAAAPh/AAAAAAAA+H8AAAAAAAD4fwAAAAAAAPh/AAAAAAAA+H8AAAAAAAD4fwAAAAAAAPh/AAAAAAAA+H8AAAAAAAD4fwAAAAAAAPh/AAAAAAAA+H8AAAAAAAD4fwAAAAAAAPh/AAAAAAAA+H8AAAAAAAD4fwAAAAAAAPh/AAAAAAAA+H8AAAAAAAD4fwAAAAAAAPh/AAAAAAAA+H8AAAAAAAD4fwAAAAAAAPh/AAAAAAAA+H8AAAAAAAD4fwAAAAAAAPh/AAAAAAAA+H8AAAAAAAD4fwAAAAAAAPh/AAAAAAAA+H8AAAAAAAD4fwAAAAAAAPh/AAAAAAAA+H8AAAAAAAD4fwAAAAAAAPh/AAAAAAAA+H8AAAAAAAD4fwAAAAAAAPh/AAAAAAAA+H8AAAAAAAD4fwAAAAAAAPh/AAAAAAAA+H8AAAAAAAD4fwAAAAAAAPh/AAAAAAAA+H8AAAAAAAD4fwAAAAAAAPh/AAAAAAAA+H8AAAAAAAD4fwAAAAAAAPh/AAAAAAAA+H8AAAAAAAD4fwAAAAAAAPh/AAAAAAAA+H8AAAAAAAD4fwAAAAAAAPh/AAAAAAAA+H8AAAAAAAD4fwAAAAAAAPh/AAAAAAAA+H8AAAAAAAD4fwAAAAAAAPh/AAAAAAAA+H8AAAAAAAD4fwAAAAAAAPh/AAAAAAAA+H8AAAAAAAD4fwAAAAAAAPh/AAAAAAAA+H8AAAAAAAD4fwAAAAAAAPh/AAAAAAAA+H8AAAAAAAD4fwAAAAAAAPh/AAAAAAAA+H8AAAAAAAD4fwAAAAAAAPh/AAAAAAAA+H8AAAAAAAD4fwAAAAAAAPh/AAAAAAAA+H8AAAAAAAD4fwAAAAAAAPh/AAAAAAAA+H8AAAAAAAD4fwAAAAAAAPh/AAAAAAAA+H8AAAAAAAD4fwAAAAAAAPh/AAAAAAAA+H8AAAAAAAD4fwAAAAAAAPh/AAAAAAAA+H8AAAAAAAD4fwAAAAAAAPh/AAAAAAAA+H8AAAAAAAD4fwAAAAAAAPh/AAAAAAAA+H8AAAAAAAD4fwAAAAAAAPh/AAAAAAAA+H8AAAAAAAD4fwAAAAAAAPh/AAAAAAAA+H8=",
          "dtype": "f8"
         },
         "y": {
          "bdata": "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",
          "dtype": "f8"
         },
         "z": {
          "bdata": "8Dn5jpcubMBPxROw9WpswD6nfhwChmzA9dsFTTySbMCFlhLtxH9swBExvHV8S2zA6PuXt0f+a8DVOpqOy59rwIGRZM2oLGvAgQ+IJBmxasAgPBlfLC9qwEKTrv2Ho2nA9u2UjMYeacApuwIT8JhowE6GQVERC2jAEhZRR1yTZ8ARRBYcjylnwG0Mews4yGbANfoLAtJ3ZsAz1ih8SS5mwCd4QQFk9WXAHllOVJPRZcB3xX6xvq1lwIvsYEkSmmXAzXvWRKWVZcBQLXsOI5FlwDQIzY4rkGXAIe/AyeOOZcB9I+rb2ZRlwKcmDirCjWXAQaegtWChZcD0LBzYXLJlwLNR0jsBvWXAOkDoFsfMZcBKXN24jtdlwMVGA5Qw7WXAGqc2TyoHZsDuBjXGaxtmwGWGf5LNLGbAqo8lP6IxZsAdydAyUTlmwHuOJklPR2bAgZ4Cy+9MZsAcKK9sTVdmwFZ9giGCZWbAjvUk/hZxZsBKY72GkHdmwAsUnOsZbWbA/bqoweZnZsAehh88XF5mwF0X24MHSmbArips1s9DZsAK72VvCC1mwP8pW4NICGbAIpTaNQbqZcAOke2YycJlwGOgKUDBlGXA73A867lgZcAgekyBwyJlwOIEvzJw2WTACb1SOSmFZMDKCfUs6jFkwOX1OeHyyGPAfpVGONJbY8BGZ2szJOhiwAcQw8DNfGLAtfczQaQGYsDTaNCwlZZhwOdyedNpKmHAV4lpaK2/YMC3xfJsB2JgwK4Bq8M7BWDAOOLKuO6CX8C/ZbXXSgRfwGOob7Rhx17AGyGHphu1XsB/sKi5u6tewIFXtccW2V7A36eVc+wuX8CItZzsy6hfwM84QLHvJmDACXmSNKmPYMBw7zY4KP9gwA75Pto2h2HAaGb4tj4bYsBYLpaaYbliwKBptdAbWWPAPBORD84BZMD4imGX7q5kwN8KRefpVWXAzChNhy8JZsCeXL7SJKlmwEtoAbJOTGfAVNjNSGLxZ8AR8RIu6IVowMKvXW03FmnAta6m8N2XacAFYZH/TARqwMVyLWPHa2rAxANMEn7LasBpvhOh6hxrwMPKPFIkYWvAamvnMIqJa8BtO8ThLKtrwJk8uZ3Ew2vAm6N07/LPa8AHhaa+es9rwNu2Vd2wxWvAAnJluUvAa8BT9OS4aLdrwAJ8fr9WrGvAHVhadTKpa8Bo97dl2Z1rwH0RrWq+mmvAU8dCR0ioa8AsWf2v369rwFojNatyv2vAuIHLahHZa8D41s10MuxrwFyBsVTYAGzAwswTY3QbbMCh8BOUVzJswC0+wqw8MmzAodllEEA8bMDQB3k3vy1swIcHJDJGEmzAcmudaNvaa8BR4PNbk5RrwDb7jP5ePGvAEdctF+XKasDFa04J5kFqwJS1wMx3mWnAEUjVYDzRaMCjss1cR9tnwPqbyxgyzWbA3XbrN7mNZcBXvAvR3StkwKqHi1XApWLAOqR3w9vpYMAjSx3RteBdwL0Pc05moVnAUB6znZXhVMBg5VmhQUhPwKULGJdyz0PARYV+POGfLcDVkgSQ3CYnQHbULF9d5ENAy11RRgFbUUDUaXhMWR5ZQM5Mn0U5jmBAlBr7UI6ZZEC7ROoCs7hoQNLLENcUzWxAZwr/uSxncEAJh3S+0VZyQCF59WXTK3RAxUn0qdLldUD+BdJkX3Z3QJVmdCf/1HhAY7aAM0QCekBSXLUqSvp6QJe5vbntvntA5YyTSLhGfEADONGQeox8QDs07CejoHxAsF4QDXJ9fEClYoa+yiZ8QD7QlxqZmXtAgSU8WqPYekBsKGFbVe15QC5mAdt04nhAhXC+7sGyd0BuPQGKYWl2QIU/Rl6gBXVAbHgxKEuOc0B41qKoYQ5yQOWNf9fjeXBA5Y9+x3i/bUBAFrw9tIJqQErSLZmkR2dAIyuFwB4IZEBpVbViaNVgQKQASSlKUltApL9htb8uVUA0gOmKwohOQGmlpPoTCUNAc6T95QJ5MECvs4pW9xQQwIIMRUaqYzfA5n615MRnRMCXZUZF92BMwL3KG2BAtVHA8qN77jvRVMBNh2BioYZXwBTPrShns1nA9dWblthoW8CXmuosa7xcwDwi5VlYjl3AyN/bvI4WXsCyDKFIvjNewHEJC1fP/V3AjUt8SaRqXcDuHvP7GbZcwHL9TxXZ0VvAQtkOkBTSWsAXq9EAgapZwI++PJvheVjA92M9U99VV8BFZmjEsSVWwAZHFHVPA1XAFKeyUs4EVMDKBbRnshlTwGMaCOtwVlLAJp5G7xmqUcB0luKNHSJRwIFbZ4XEs1DAGpoOp3tuUMCZhY572FdQwGirAAkeVlDAco4yuNhaUMB2x0uav5NQwGXnkL8r3lDAXHcpvM9MUcD6Ko/pWcNRwC/X02j8RlLAQZobjQzqUsBTb10mbKtTwBpEkV47iFTAFr0JTHtzVcDIbqDkLWVWwLUbZK1RWFfAOeyV9cpvWMDDZ6djcqFZwN+SWEsj1lrA5y7uomMuXMBwv6/qe5ldwI6uhkpIDl/AzgoP5EpHYMBvv1rm4QxhwBY/HnDc1mHAPjTsdgCtYsDLO6scoX1jwC/Yf6m3RWTAGuKLq64WZcBQs6eequ1lwPRu+klXtWbA40tMN+hqZ8C5xems/hpowBSymCNdv2jAN+ZJBqlPacDUHOZ6f9hpwI0uo5MMTmrA7cfxIxY4a8DJhXQG+Z1rwI57HGA++mvAWjh2QB5XbMCv0zY1SatswOTyKM/y/mzAjGfp6XNabcCHNeUiHLhtwEAWoePqKm7AbZ9FC+zBbsD+SBok7GRvwAk2lIamDXDAFk21EQ11cMAD03lzrehwwJ8owlNbcXHA1IA2GXL7ccBa2xl9to5ywMCfmd+tLHPAXXhx3FN6c8Bv9XivmiB0wIA4yYWNvnTAdbMPYEQ7dcD+qp+Hy9N1wMRc26p0bnbA0xwd2AACd8ClPn7AkI13wNJNHR/zDnjAB6VAY5t3eMAktNdy9PV4wEGc1M0rPXnAKHm9zbyrecAMk6tqgCR6wDmeuj3QonrA/kYr58Aje8BgIAhE/MJ7wGvmVB/gT3zA3XGRvHTefMBSmp3l+HF9wH4JroN4wX3ARxKgiV5bfsBfiZrj1Nx+wFeNVtXPbH/AYa94DekHgMDCUnLzFT2AwHdqgMRBhoDAzrIkvIPMgMCERsF7IgyBwCxGKSloI4HAG98JpD9NgcD7SS8F6nyBwMbfZ4BLw4HABAdNYuHlgcDs++F+MgGCwO06fmtNFILAg/7w22wjgsCoWhQSGhSCwPoMu/avFYLAjVV6yW0JgsC8776eJg+CwODul8/K+4HAnVUXWWbigcBhQ7c6afuBwHhNAc+d+YHAsY8JYBLtgcA2xjOk74qBwNnUnDjuh4HArj9MsXR/gcCxH441Bm2BwL2VnlbmN4HAcc2JsJb+gMAb/myq/XqAwNEAwNk3Y4DALXBvZhhJgMCzTc+PFcx/wO5LWNnvSH/AV79t/hTofsAOnM+Qgr5+wLaEL8O6b3zA2qyPJg48fMDOwAFAL797wIPBM09kqnvAh15a2JG4esDNiygiTh96wNIe8jWLAnnACAMqC3iKeMDlluzycV53wDGWzLUnq3bAu75rasL6dcDwkjVp7zp1wBP8/p/mN3TAXOsFyB5Rc8BIRKgeOyBzwNpHY7s733HAcFB5l/xuccCTZSj9H91wwMHyIlwWNHDAOQ9lmYhdb8BgwlUxAyluwJ5S/Pa9h23APPbicRcNb8BpQ1HGVFhuwK1tdNp7627A8DSK5WeibsBTpOmGPVVtwEB/LUM1rW3AqrMHVYujbcBGH3eoIz9twAWIxXN4FmzA0u0PwWMsa8Dm6h6qaK9qwAAAAAAAAPh/AAAAAAAA+H8AAAAAAAD4fwAAAAAAAPh/AAAAAAAA+H8AAAAAAAD4fwAAAAAAAPh/AAAAAAAA+H8AAAAAAAD4fwAAAAAAAPh/AAAAAAAA+H8AAAAAAAD4fwAAAAAAAPh/AAAAAAAA+H8AAAAAAAD4fwAAAAAAAPh/AAAAAAAA+H8AAAAAAAD4fwAAAAAAAPh/AAAAAAAA+H8AAAAAAAD4fwAAAAAAAPh/AAAAAAAA+H8AAAAAAAD4fwAAAAAAAPh/AAAAAAAA+H8AAAAAAAD4fwAAAAAAAPh/AAAAAAAA+H8AAAAAAAD4fwAAAAAAAPh/AAAAAAAA+H8AAAAAAAD4fwAAAAAAAPh/AAAAAAAA+H8AAAAAAAD4fwAAAAAAAPh/AAAAAAAA+H8AAAAAAAD4fwAAAAAAAPh/AAAAAAAA+H8AAAAAAAD4fwAAAAAAAPh/AAAAAAAA+H8AAAAAAAD4fwAAAAAAAPh/AAAAAAAA+H8AAAAAAAD4fwAAAAAAAPh/AAAAAAAA+H8AAAAAAAD4fwAAAAAAAPh/AAAAAAAA+H8AAAAAAAD4fwAAAAAAAPh/AAAAAAAA+H8AAAAAAAD4fwAAAAAAAPh/AAAAAAAA+H8AAAAAAAD4fwAAAAAAAPh/AAAAAAAA+H8AAAAAAAD4fwAAAAAAAPh/AAAAAAAA+H8AAAAAAAD4fwAAAAAAAPh/AAAAAAAA+H8AAAAAAAD4fwAAAAAAAPh/AAAAAAAA+H8AAAAAAAD4fwAAAAAAAPh/AAAAAAAA+H8AAAAAAAD4fwAAAAAAAPh/AAAAAAAA+H8AAAAAAAD4fwAAAAAAAPh/AAAAAAAA+H8AAAAAAAD4fwAAAAAAAPh/AAAAAAAA+H8AAAAAAAD4fwAAAAAAAPh/AAAAAAAA+H8AAAAAAAD4fwAAAAAAAPh/AAAAAAAA+H8AAAAAAAD4fwAAAAAAAPh/AAAAAAAA+H8AAAAAAAD4fwAAAAAAAPh/AAAAAAAA+H8AAAAAAAD4fwAAAAAAAPh/AAAAAAAA+H8AAAAAAAD4fwAAAAAAAPh/AAAAAAAA+H8AAAAAAAD4fwAAAAAAAPh/AAAAAAAA+H8AAAAAAAD4fwAAAAAAAPh/AAAAAAAA+H8AAAAAAAD4fwAAAAAAAPh/AAAAAAAA+H8AAAAAAAD4fwAAAAAAAPh/AAAAAAAA+H8AAAAAAAD4fwAAAAAAAPh/AAAAAAAA+H8AAAAAAAD4fwAAAAAAAPh/AAAAAAAA+H8AAAAAAAD4fwAAAAAAAPh/AAAAAAAA+H8AAAAAAAD4fwAAAAAAAPh/AAAAAAAA+H8AAAAAAAD4fwAAAAAAAPh/AAAAAAAA+H8AAAAAAAD4fwAAAAAAAPh/AAAAAAAA+H8AAAAAAAD4fwAAAAAAAPh/AAAAAAAA+H8AAAAAAAD4fwAAAAAAAPh/AAAAAAAA+H8AAAAAAAD4fwAAAAAAAPh/AAAAAAAA+H8AAAAAAAD4fwAAAAAAAPh/AAAAAAAA+H8AAAAAAAD4fwAAAAAAAPh/AAAAAAAA+H8AAAAAAAD4fwAAAAAAAPh/AAAAAAAA+H8AAAAAAAD4fwAAAAAAAPh/AAAAAAAA+H8AAAAAAAD4fwAAAAAAAPh/AAAAAAAA+H8AAAAAAAD4fwAAAAAAAPh/AAAAAAAA+H8AAAAAAAD4fwAAAAAAAPh/AAAAAAAA+H8AAAAAAAD4fwAAAAAAAPh/AAAAAAAA+H8AAAAAAAD4fwAAAAAAAPh/AAAAAAAA+H8AAAAAAAD4fwAAAAAAAPh/AAAAAAAA+H8AAAAAAAD4fwAAAAAAAPh/AAAAAAAA+H8AAAAAAAD4fwAAAAAAAPh/AAAAAAAA+H8AAAAAAAD4fwAAAAAAAPh/AAAAAAAA+H8AAAAAAAD4fwAAAAAAAPh/AAAAAAAA+H8AAAAAAAD4fwAAAAAAAPh/AAAAAAAA+H8AAAAAAAD4fwAAAAAAAPh/AAAAAAAA+H8AAAAAAAD4fwAAAAAAAPh/AAAAAAAA+H8AAAAAAAD4fwAAAAAAAPh/AAAAAAAA+H8AAAAAAAD4fwAAAAAAAPh/AAAAAAAA+H8AAAAAAAD4fwAAAAAAAPh/AAAAAAAA+H8AAAAAAAD4fwAAAAAAAPh/AAAAAAAA+H8AAAAAAAD4fwAAAAAAAPh/AAAAAAAA+H8AAAAAAAD4fwAAAAAAAPh/AAAAAAAA+H8AAAAAAAD4fwAAAAAAAPh/AAAAAAAA+H8AAAAAAAD4fwAAAAAAAPh/AAAAAAAA+H8AAAAAAAD4fwAAAAAAAPh/AAAAAAAA+H8AAAAAAAD4fwAAAAAAAPh/AAAAAAAA+H8AAAAAAAD4fwAAAAAAAPh/AAAAAAAA+H8AAAAAAAD4fwAAAAAAAPh/AAAAAAAA+H8AAAAAAAD4fwAAAAAAAPh/AAAAAAAA+H8AAAAAAAD4fwAAAAAAAPh/AAAAAAAA+H8AAAAAAAD4fwAAAAAAAPh/AAAAAAAA+H8AAAAAAAD4fwAAAAAAAPh/AAAAAAAA+H8AAAAAAAD4fwAAAAAAAPh/AAAAAAAA+H8AAAAAAAD4fwAAAAAAAPh/AAAAAAAA+H8AAAAAAAD4fwAAAAAAAPh/AAAAAAAA+H8AAAAAAAD4fwAAAAAAAPh/AAAAAAAA+H8AAAAAAAD4fwAAAAAAAPh/AAAAAAAA+H8AAAAAAAD4fwAAAAAAAPh/AAAAAAAA+H8AAAAAAAD4fwAAAAAAAPh/AAAAAAAA+H8AAAAAAAD4fwAAAAAAAPh/AAAAAAAA+H8AAAAAAAD4fwAAAAAAAPh/AAAAAAAA+H8AAAAAAAD4fwAAAAAAAPh/AAAAAAAA+H8AAAAAAAD4fwAAAAAAAPh/AAAAAAAA+H8AAAAAAAD4fwAAAAAAAPh/AAAAAAAA+H8AAAAAAAD4fwAAAAAAAPh/AAAAAAAA+H8AAAAAAAD4fwAAAAAAAPh/AAAAAAAA+H8AAAAAAAD4fwAAAAAAAPh/AAAAAAAA+H8AAAAAAAD4fwAAAAAAAPh/AAAAAAAA+H8AAAAAAAD4fwAAAAAAAPh/AAAAAAAA+H8AAAAAAAD4fwAAAAAAAPh/AAAAAAAA+H8AAAAAAAD4fwAAAAAAAPh/AAAAAAAA+H8AAAAAAAD4fwAAAAAAAPh/AAAAAAAA+H8AAAAAAAD4fwAAAAAAAPh/AAAAAAAA+H8AAAAAAAD4fwAAAAAAAPh/AAAAAAAA+H8AAAAAAAD4fwAAAAAAAPh/AAAAAAAA+H8AAAAAAAD4fwAAAAAAAPh/AAAAAAAA+H8AAAAAAAD4fwAAAAAAAPh/AAAAAAAA+H8AAAAAAAD4fwAAAAAAAPh/AAAAAAAA+H8AAAAAAAD4fwAAAAAAAPh/AAAAAAAA+H8AAAAAAAD4fwAAAAAAAPh/AAAAAAAA+H8AAAAAAAD4fwAAAAAAAPh/AAAAAAAA+H8AAAAAAAD4fwAAAAAAAPh/AAAAAAAA+H8AAAAAAAD4fwAAAAAAAPh/AAAAAAAA+H8AAAAAAAD4fwAAAAAAAPh/AAAAAAAA+H8AAAAAAAD4fwAAAAAAAPh/AAAAAAAA+H8AAAAAAAD4fwAAAAAAAPh/AAAAAAAA+H8AAAAAAAD4fwAAAAAAAPh/AAAAAAAA+H8AAAAAAAD4fwAAAAAAAPh/AAAAAAAA+H8AAAAAAAD4fwAAAAAAAPh/AAAAAAAA+H8AAAAAAAD4fwAAAAAAAPh/AAAAAAAA+H8AAAAAAAD4fwAAAAAAAPh/AAAAAAAA+H8AAAAAAAD4fwAAAAAAAPh/AAAAAAAA+H8AAAAAAAD4fwAAAAAAAPh/AAAAAAAA+H8AAAAAAAD4fwAAAAAAAPh/AAAAAAAA+H8AAAAAAAD4fwAAAAAAAPh/AAAAAAAA+H8AAAAAAAD4fwAAAAAAAPh/AAAAAAAA+H8AAAAAAAD4fwAAAAAAAPh/AAAAAAAA+H8AAAAAAAD4fwAAAAAAAPh/AAAAAAAA+H8AAAAAAAD4fwAAAAAAAPh/AAAAAAAA+H8AAAAAAAD4fwAAAAAAAPh/AAAAAAAA+H8AAAAAAAD4fwAAAAAAAPh/AAAAAAAA+H8AAAAAAAD4fwAAAAAAAPh/AAAAAAAA+H8AAAAAAAD4fwAAAAAAAPh/AAAAAAAA+H8AAAAAAAD4fwAAAAAAAPh/AAAAAAAA+H8AAAAAAAD4fwAAAAAAAPh/AAAAAAAA+H8AAAAAAAD4fwAAAAAAAPh/AAAAAAAA+H8AAAAAAAD4fwAAAAAAAPh/AAAAAAAA+H8AAAAAAAD4fwAAAAAAAPh/AAAAAAAA+H8AAAAAAAD4fwAAAAAAAPh/AAAAAAAA+H8AAAAAAAD4fwAAAAAAAPh/AAAAAAAA+H8AAAAAAAD4fwAAAAAAAPh/AAAAAAAA+H8AAAAAAAD4fwAAAAAAAPh/AAAAAAAA+H8AAAAAAAD4fwAAAAAAAPh/AAAAAAAA+H8AAAAAAAD4fwAAAAAAAPh/AAAAAAAA+H8AAAAAAAD4fwAAAAAAAPh/AAAAAAAA+H8AAAAAAAD4fwAAAAAAAPh/AAAAAAAA+H8AAAAAAAD4fwAAAAAAAPh/AAAAAAAA+H8AAAAAAAD4fwAAAAAAAPh/AAAAAAAA+H8AAAAAAAD4fwAAAAAAAPh/AAAAAAAA+H8AAAAAAAD4fwAAAAAAAPh/AAAAAAAA+H8AAAAAAAD4fwAAAAAAAPh/AAAAAAAA+H8AAAAAAAD4fwAAAAAAAPh/AAAAAAAA+H8AAAAAAAD4fwAAAAAAAPh/AAAAAAAA+H8AAAAAAAD4fwAAAAAAAPh/AAAAAAAA+H8AAAAAAAD4fwAAAAAAAPh/AAAAAAAA+H8AAAAAAAD4fwAAAAAAAPh/AAAAAAAA+H8AAAAAAAD4fwAAAAAAAPh/AAAAAAAA+H8AAAAAAAD4fwAAAAAAAPh/AAAAAAAA+H8AAAAAAAD4fwAAAAAAAPh/AAAAAAAA+H8AAAAAAAD4fwAAAAAAAPh/AAAAAAAA+H8AAAAAAAD4fwAAAAAAAPh/AAAAAAAA+H8AAAAAAAD4fwAAAAAAAPh/AAAAAAAA+H8AAAAAAAD4fwAAAAAAAPh/AAAAAAAA+H8AAAAAAAD4fwAAAAAAAPh/AAAAAAAA+H8AAAAAAAD4fwAAAAAAAPh/AAAAAAAA+H8AAAAAAAD4fwAAAAAAAPh/AAAAAAAA+H8AAAAAAAD4fwAAAAAAAPh/AAAAAAAA+H8AAAAAAAD4fwAAAAAAAPh/AAAAAAAA+H8AAAAAAAD4fwAAAAAAAPh/AAAAAAAA+H8AAAAAAAD4fwAAAAAAAPh/AAAAAAAA+H8AAAAAAAD4fwAAAAAAAPh/AAAAAAAA+H8AAAAAAAD4fwAAAAAAAPh/AAAAAAAA+H8AAAAAAAD4fwAAAAAAAPh/AAAAAAAA+H8AAAAAAAD4fwAAAAAAAPh/AAAAAAAA+H8AAAAAAAD4fwAAAAAAAPh/AAAAAAAA+H8AAAAAAAD4fwAAAAAAAPh/AAAAAAAA+H8AAAAAAAD4fwAAAAAAAPh/AAAAAAAA+H8AAAAAAAD4fwAAAAAAAPh/AAAAAAAA+H8AAAAAAAD4fwAAAAAAAPh/AAAAAAAA+H8AAAAAAAD4fwAAAAAAAPh/AAAAAAAA+H8AAAAAAAD4fwAAAAAAAPh/AAAAAAAA+H8AAAAAAAD4fwAAAAAAAPh/AAAAAAAA+H8=",
          "dtype": "f8"
         }
        },
        {
         "line": {
          "dash": "solid",
          "width": 5
         },
         "marker": {
          "color": "red",
          "opacity": 1,
          "size": 2
         },
         "mode": "lines",
         "name": "coh_50_choice_toRF_corr_biased_state",
         "opacity": 1,
         "showlegend": true,
         "type": "scatter3d",
         "x": {
          "bdata": "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",
          "dtype": "f8"
         },
         "y": {
          "bdata": "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",
          "dtype": "f8"
         },
         "z": {
          "bdata": "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",
          "dtype": "f8"
         }
        },
        {
         "line": {
          "dash": "solid",
          "width": 2
         },
         "marker": {
          "color": "red",
          "opacity": 1,
          "size": 2
         },
         "mode": "lines",
         "name": "coh_50_choice_toRF_corr_unbiased_state",
         "opacity": 1,
         "showlegend": true,
         "type": "scatter3d",
         "x": {
          "bdata": "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",
          "dtype": "f8"
         },
         "y": {
          "bdata": "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",
          "dtype": "f8"
         },
         "z": {
          "bdata": "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",
          "dtype": "f8"
         }
        },
        {
         "line": {
          "dash": "solid",
          "width": 2
         },
         "marker": {
          "color": "black",
          "opacity": 0.8,
          "size": 8
         },
         "mode": "markers",
         "name": " ",
         "opacity": 0.8,
         "showlegend": false,
         "type": "scatter3d",
         "x": [
          -543.4636571053252
         ],
         "y": [
          -528.5970317672085
         ],
         "z": [
          -110.07068841353754
         ]
        },
        {
         "line": {
          "dash": "solid",
          "width": 2
         },
         "marker": {
          "color": "black",
          "opacity": 0.8,
          "size": 8
         },
         "mode": "markers",
         "name": " ",
         "opacity": 0.8,
         "showlegend": false,
         "type": "scatter3d",
         "x": [
          -689.8581361915716
         ],
         "y": [
          -569.4622893340128
         ],
         "z": [
          -225.45600079228416
         ]
        },
        {
         "line": {
          "dash": "solid",
          "width": 2
         },
         "marker": {
          "color": "black",
          "opacity": 0.8,
          "size": 8
         },
         "mode": "markers",
         "name": " ",
         "opacity": 0.8,
         "showlegend": false,
         "type": "scatter3d",
         "x": [
          -592.2440710103864
         ],
         "y": [
          -342.11282614091846
         ],
         "z": [
          -216.0996088057787
         ]
        },
        {
         "line": {
          "dash": "solid",
          "width": 2
         },
         "marker": {
          "color": "black",
          "opacity": 0.8,
          "size": 8
         },
         "mode": "markers",
         "name": " ",
         "opacity": 0.8,
         "showlegend": false,
         "type": "scatter3d",
         "x": [
          -857.0114466110936
         ],
         "y": [
          -670.8221295174075
         ],
         "z": [
          -209.8710661517121
         ]
        },
        {
         "line": {
          "dash": "solid",
          "width": 2
         },
         "marker": {
          "color": "black",
          "opacity": 0.8,
          "size": 5
         },
         "mode": "markers",
         "name": " ",
         "opacity": 0.8,
         "showlegend": false,
         "type": "scatter3d",
         "x": [
          -283.83924977127276
         ],
         "y": [
          -211.2781832649374
         ],
         "z": [
          18.251823105043343
         ]
        },
        {
         "line": {
          "dash": "solid",
          "width": 2
         },
         "marker": {
          "color": "black",
          "opacity": 0.8,
          "size": 5
         },
         "mode": "markers",
         "name": " ",
         "opacity": 0.8,
         "showlegend": false,
         "type": "scatter3d",
         "x": [
          -614.0256981560829
         ],
         "y": [
          -557.729332127927
         ],
         "z": [
          -216.90364126068314
         ]
        },
        {
         "line": {
          "dash": "solid",
          "width": 2
         },
         "marker": {
          "color": "black",
          "opacity": 0.8,
          "size": 5
         },
         "mode": "markers",
         "name": " ",
         "opacity": 0.8,
         "showlegend": false,
         "type": "scatter3d",
         "x": [
          -730.4108439065146
         ],
         "y": [
          -382.61576476463824
         ],
         "z": [
          -96.55899817178394
         ]
        },
        {
         "line": {
          "dash": "solid",
          "width": 2
         },
         "marker": {
          "color": "black",
          "opacity": 0.8,
          "size": 5
         },
         "mode": "markers",
         "name": " ",
         "opacity": 0.8,
         "showlegend": false,
         "type": "scatter3d",
         "x": [
          -692.8838321692405
         ],
         "y": [
          -514.455467834237
         ],
         "z": [
          -204.06681504290992
         ]
        },
        {
         "line": {
          "dash": "solid",
          "width": 2
         },
         "marker": {
          "color": "black",
          "opacity": 0.8,
          "size": 5
         },
         "mode": "markers",
         "name": " ",
         "opacity": 0.8,
         "showlegend": false,
         "type": "scatter3d",
         "x": [
          -932.3465301606022
         ],
         "y": [
          470.4475301326501
         ],
         "z": [
          -37.21242400867357
         ]
        },
        {
         "line": {
          "dash": "solid",
          "width": 2
         },
         "marker": {
          "color": "black",
          "opacity": 0.8,
          "size": 5
         },
         "mode": "markers",
         "name": " ",
         "opacity": 0.8,
         "showlegend": false,
         "type": "scatter3d",
         "x": [
          -771.0933862892941
         ],
         "y": [
          491.3800742987711
         ],
         "z": [
          -119.96578003003903
         ]
        },
        {
         "line": {
          "dash": "solid",
          "width": 2
         },
         "marker": {
          "color": "black",
          "opacity": 0.8,
          "size": 5
         },
         "mode": "markers",
         "name": " ",
         "opacity": 0.8,
         "showlegend": false,
         "type": "scatter3d",
         "x": [
          -698.411505943496
         ],
         "y": [
          572.2323822093139
         ],
         "z": [
          -81.6988112298423
         ]
        },
        {
         "line": {
          "dash": "solid",
          "width": 2
         },
         "marker": {
          "color": "black",
          "opacity": 0.8,
          "size": 5
         },
         "mode": "markers",
         "name": " ",
         "opacity": 0.8,
         "showlegend": false,
         "type": "scatter3d",
         "x": [
          -794.8633232984773
         ],
         "y": [
          582.90552188484
         ],
         "z": [
          -185.7839008857838
         ]
        },
        {
         "line": {
          "dash": "solid",
          "width": 2
         },
         "marker": {
          "color": "black",
          "opacity": 0.8,
          "size": 5
         },
         "mode": "markers",
         "name": " ",
         "opacity": 0.8,
         "showlegend": false,
         "type": "scatter3d",
         "x": [
          1448.3058821116513
         ],
         "y": [
          87.56736362430729
         ],
         "z": [
          -375.68011863878223
         ]
        },
        {
         "line": {
          "dash": "solid",
          "width": 2
         },
         "marker": {
          "color": "black",
          "opacity": 0.8,
          "size": 5
         },
         "mode": "markers",
         "name": " ",
         "opacity": 0.8,
         "showlegend": false,
         "type": "scatter3d",
         "x": [
          1727.4651324225229
         ],
         "y": [
          248.64849681797847
         ],
         "z": [
          -553.6560745974742
         ]
        },
        {
         "line": {
          "dash": "solid",
          "width": 2
         },
         "marker": {
          "color": "black",
          "opacity": 0.8,
          "size": 5
         },
         "mode": "markers",
         "name": " ",
         "opacity": 0.8,
         "showlegend": false,
         "type": "scatter3d",
         "x": [
          623.6415821765921
         ],
         "y": [
          1040.0756980054168
         ],
         "z": [
          -451.36215130753646
         ]
        },
        {
         "line": {
          "dash": "solid",
          "width": 2
         },
         "marker": {
          "color": "black",
          "opacity": 0.8,
          "size": 5
         },
         "mode": "markers",
         "name": " ",
         "opacity": 0.8,
         "showlegend": false,
         "type": "scatter3d",
         "x": [
          1052.2703499886761
         ],
         "y": [
          889.000443914533
         ],
         "z": [
          -415.62090634308913
         ]
        },
        {
         "line": {
          "dash": "solid",
          "width": 2
         },
         "marker": {
          "color": "violet",
          "opacity": 0.8,
          "size": 10
         },
         "mode": "markers",
         "name": " ",
         "opacity": 0.8,
         "showlegend": false,
         "type": "scatter3d",
         "x": [
          -283.83924977127276
         ],
         "y": [
          -211.2781832649374
         ],
         "z": [
          18.251823105043343
         ]
        },
        {
         "line": {
          "dash": "solid",
          "width": 2
         },
         "marker": {
          "color": "violet",
          "opacity": 0.8,
          "size": 10
         },
         "mode": "markers",
         "name": " ",
         "opacity": 0.8,
         "showlegend": false,
         "type": "scatter3d",
         "x": [
          -614.0256981560829
         ],
         "y": [
          -557.729332127927
         ],
         "z": [
          -216.90364126068314
         ]
        },
        {
         "line": {
          "dash": "solid",
          "width": 2
         },
         "marker": {
          "color": "violet",
          "opacity": 0.8,
          "size": 10
         },
         "mode": "markers",
         "name": " ",
         "opacity": 0.8,
         "showlegend": false,
         "type": "scatter3d",
         "x": [
          -730.4108439065146
         ],
         "y": [
          -382.61576476463824
         ],
         "z": [
          -96.55899817178394
         ]
        },
        {
         "line": {
          "dash": "solid",
          "width": 2
         },
         "marker": {
          "color": "violet",
          "opacity": 0.8,
          "size": 10
         },
         "mode": "markers",
         "name": " ",
         "opacity": 0.8,
         "showlegend": false,
         "type": "scatter3d",
         "x": [
          -692.8838321692405
         ],
         "y": [
          -514.455467834237
         ],
         "z": [
          -204.06681504290992
         ]
        },
        {
         "line": {
          "dash": "solid",
          "width": 2
         },
         "marker": {
          "color": "violet",
          "opacity": 0.8,
          "size": 10
         },
         "mode": "markers",
         "name": "Onset Time",
         "opacity": 0.8,
         "showlegend": true,
         "type": "scatter3d",
         "x": [
          null
         ],
         "y": [
          null
         ],
         "z": [
          null
         ]
        },
        {
         "line": {
          "dash": "solid",
          "width": 2
         },
         "marker": {
          "color": "black",
          "opacity": 0.8,
          "size": 8
         },
         "mode": "markers",
         "name": "100ms spacing",
         "opacity": 0.8,
         "showlegend": true,
         "type": "scatter3d",
         "x": [
          null
         ],
         "y": [
          null
         ],
         "z": [
          null
         ]
        }
       ],
       "layout": {
        "height": 1200,
        "scene": {
         "xaxis": {
          "title": {
           "text": "PC1"
          }
         },
         "yaxis": {
          "title": {
           "text": "PC2"
          }
         },
         "zaxis": {
          "title": {
           "text": "PC3"
          }
         }
        },
        "template": {
         "data": {
          "bar": [
           {
            "error_x": {
             "color": "#2a3f5f"
            },
            "error_y": {
             "color": "#2a3f5f"
            },
            "marker": {
             "line": {
              "color": "#E5ECF6",
              "width": 0.5
             },
             "pattern": {
              "fillmode": "overlay",
              "size": 10,
              "solidity": 0.2
             }
            },
            "type": "bar"
           }
          ],
          "barpolar": [
           {
            "marker": {
             "line": {
              "color": "#E5ECF6",
              "width": 0.5
             },
             "pattern": {
              "fillmode": "overlay",
              "size": 10,
              "solidity": 0.2
             }
            },
            "type": "barpolar"
           }
          ],
          "carpet": [
           {
            "aaxis": {
             "endlinecolor": "#2a3f5f",
             "gridcolor": "white",
             "linecolor": "white",
             "minorgridcolor": "white",
             "startlinecolor": "#2a3f5f"
            },
            "baxis": {
             "endlinecolor": "#2a3f5f",
             "gridcolor": "white",
             "linecolor": "white",
             "minorgridcolor": "white",
             "startlinecolor": "#2a3f5f"
            },
            "type": "carpet"
           }
          ],
          "choropleth": [
           {
            "colorbar": {
             "outlinewidth": 0,
             "ticks": ""
            },
            "type": "choropleth"
           }
          ],
          "contour": [
           {
            "colorbar": {
             "outlinewidth": 0,
             "ticks": ""
            },
            "colorscale": [
             [
              0,
              "#0d0887"
             ],
             [
              0.1111111111111111,
              "#46039f"
             ],
             [
              0.2222222222222222,
              "#7201a8"
             ],
             [
              0.3333333333333333,
              "#9c179e"
             ],
             [
              0.4444444444444444,
              "#bd3786"
             ],
             [
              0.5555555555555556,
              "#d8576b"
             ],
             [
              0.6666666666666666,
              "#ed7953"
             ],
             [
              0.7777777777777778,
              "#fb9f3a"
             ],
             [
              0.8888888888888888,
              "#fdca26"
             ],
             [
              1,
              "#f0f921"
             ]
            ],
            "type": "contour"
           }
          ],
          "contourcarpet": [
           {
            "colorbar": {
             "outlinewidth": 0,
             "ticks": ""
            },
            "type": "contourcarpet"
           }
          ],
          "heatmap": [
           {
            "colorbar": {
             "outlinewidth": 0,
             "ticks": ""
            },
            "colorscale": [
             [
              0,
              "#0d0887"
             ],
             [
              0.1111111111111111,
              "#46039f"
             ],
             [
              0.2222222222222222,
              "#7201a8"
             ],
             [
              0.3333333333333333,
              "#9c179e"
             ],
             [
              0.4444444444444444,
              "#bd3786"
             ],
             [
              0.5555555555555556,
              "#d8576b"
             ],
             [
              0.6666666666666666,
              "#ed7953"
             ],
             [
              0.7777777777777778,
              "#fb9f3a"
             ],
             [
              0.8888888888888888,
              "#fdca26"
             ],
             [
              1,
              "#f0f921"
             ]
            ],
            "type": "heatmap"
           }
          ],
          "histogram": [
           {
            "marker": {
             "pattern": {
              "fillmode": "overlay",
              "size": 10,
              "solidity": 0.2
             }
            },
            "type": "histogram"
           }
          ],
          "histogram2d": [
           {
            "colorbar": {
             "outlinewidth": 0,
             "ticks": ""
            },
            "colorscale": [
             [
              0,
              "#0d0887"
             ],
             [
              0.1111111111111111,
              "#46039f"
             ],
             [
              0.2222222222222222,
              "#7201a8"
             ],
             [
              0.3333333333333333,
              "#9c179e"
             ],
             [
              0.4444444444444444,
              "#bd3786"
             ],
             [
              0.5555555555555556,
              "#d8576b"
             ],
             [
              0.6666666666666666,
              "#ed7953"
             ],
             [
              0.7777777777777778,
              "#fb9f3a"
             ],
             [
              0.8888888888888888,
              "#fdca26"
             ],
             [
              1,
              "#f0f921"
             ]
            ],
            "type": "histogram2d"
           }
          ],
          "histogram2dcontour": [
           {
            "colorbar": {
             "outlinewidth": 0,
             "ticks": ""
            },
            "colorscale": [
             [
              0,
              "#0d0887"
             ],
             [
              0.1111111111111111,
              "#46039f"
             ],
             [
              0.2222222222222222,
              "#7201a8"
             ],
             [
              0.3333333333333333,
              "#9c179e"
             ],
             [
              0.4444444444444444,
              "#bd3786"
             ],
             [
              0.5555555555555556,
              "#d8576b"
             ],
             [
              0.6666666666666666,
              "#ed7953"
             ],
             [
              0.7777777777777778,
              "#fb9f3a"
             ],
             [
              0.8888888888888888,
              "#fdca26"
             ],
             [
              1,
              "#f0f921"
             ]
            ],
            "type": "histogram2dcontour"
           }
          ],
          "mesh3d": [
           {
            "colorbar": {
             "outlinewidth": 0,
             "ticks": ""
            },
            "type": "mesh3d"
           }
          ],
          "parcoords": [
           {
            "line": {
             "colorbar": {
              "outlinewidth": 0,
              "ticks": ""
             }
            },
            "type": "parcoords"
           }
          ],
          "pie": [
           {
            "automargin": true,
            "type": "pie"
           }
          ],
          "scatter": [
           {
            "fillpattern": {
             "fillmode": "overlay",
             "size": 10,
             "solidity": 0.2
            },
            "type": "scatter"
           }
          ],
          "scatter3d": [
           {
            "line": {
             "colorbar": {
              "outlinewidth": 0,
              "ticks": ""
             }
            },
            "marker": {
             "colorbar": {
              "outlinewidth": 0,
              "ticks": ""
             }
            },
            "type": "scatter3d"
           }
          ],
          "scattercarpet": [
           {
            "marker": {
             "colorbar": {
              "outlinewidth": 0,
              "ticks": ""
             }
            },
            "type": "scattercarpet"
           }
          ],
          "scattergeo": [
           {
            "marker": {
             "colorbar": {
              "outlinewidth": 0,
              "ticks": ""
             }
            },
            "type": "scattergeo"
           }
          ],
          "scattergl": [
           {
            "marker": {
             "colorbar": {
              "outlinewidth": 0,
              "ticks": ""
             }
            },
            "type": "scattergl"
           }
          ],
          "scattermap": [
           {
            "marker": {
             "colorbar": {
              "outlinewidth": 0,
              "ticks": ""
             }
            },
            "type": "scattermap"
           }
          ],
          "scattermapbox": [
           {
            "marker": {
             "colorbar": {
              "outlinewidth": 0,
              "ticks": ""
             }
            },
            "type": "scattermapbox"
           }
          ],
          "scatterpolar": [
           {
            "marker": {
             "colorbar": {
              "outlinewidth": 0,
              "ticks": ""
             }
            },
            "type": "scatterpolar"
           }
          ],
          "scatterpolargl": [
           {
            "marker": {
             "colorbar": {
              "outlinewidth": 0,
              "ticks": ""
             }
            },
            "type": "scatterpolargl"
           }
          ],
          "scatterternary": [
           {
            "marker": {
             "colorbar": {
              "outlinewidth": 0,
              "ticks": ""
             }
            },
            "type": "scatterternary"
           }
          ],
          "surface": [
           {
            "colorbar": {
             "outlinewidth": 0,
             "ticks": ""
            },
            "colorscale": [
             [
              0,
              "#0d0887"
             ],
             [
              0.1111111111111111,
              "#46039f"
             ],
             [
              0.2222222222222222,
              "#7201a8"
             ],
             [
              0.3333333333333333,
              "#9c179e"
             ],
             [
              0.4444444444444444,
              "#bd3786"
             ],
             [
              0.5555555555555556,
              "#d8576b"
             ],
             [
              0.6666666666666666,
              "#ed7953"
             ],
             [
              0.7777777777777778,
              "#fb9f3a"
             ],
             [
              0.8888888888888888,
              "#fdca26"
             ],
             [
              1,
              "#f0f921"
             ]
            ],
            "type": "surface"
           }
          ],
          "table": [
           {
            "cells": {
             "fill": {
              "color": "#EBF0F8"
             },
             "line": {
              "color": "white"
             }
            },
            "header": {
             "fill": {
              "color": "#C8D4E3"
             },
             "line": {
              "color": "white"
             }
            },
            "type": "table"
           }
          ]
         },
         "layout": {
          "annotationdefaults": {
           "arrowcolor": "#2a3f5f",
           "arrowhead": 0,
           "arrowwidth": 1
          },
          "autotypenumbers": "strict",
          "coloraxis": {
           "colorbar": {
            "outlinewidth": 0,
            "ticks": ""
           }
          },
          "colorscale": {
           "diverging": [
            [
             0,
             "#8e0152"
            ],
            [
             0.1,
             "#c51b7d"
            ],
            [
             0.2,
             "#de77ae"
            ],
            [
             0.3,
             "#f1b6da"
            ],
            [
             0.4,
             "#fde0ef"
            ],
            [
             0.5,
             "#f7f7f7"
            ],
            [
             0.6,
             "#e6f5d0"
            ],
            [
             0.7,
             "#b8e186"
            ],
            [
             0.8,
             "#7fbc41"
            ],
            [
             0.9,
             "#4d9221"
            ],
            [
             1,
             "#276419"
            ]
           ],
           "sequential": [
            [
             0,
             "#0d0887"
            ],
            [
             0.1111111111111111,
             "#46039f"
            ],
            [
             0.2222222222222222,
             "#7201a8"
            ],
            [
             0.3333333333333333,
             "#9c179e"
            ],
            [
             0.4444444444444444,
             "#bd3786"
            ],
            [
             0.5555555555555556,
             "#d8576b"
            ],
            [
             0.6666666666666666,
             "#ed7953"
            ],
            [
             0.7777777777777778,
             "#fb9f3a"
            ],
            [
             0.8888888888888888,
             "#fdca26"
            ],
            [
             1,
             "#f0f921"
            ]
           ],
           "sequentialminus": [
            [
             0,
             "#0d0887"
            ],
            [
             0.1111111111111111,
             "#46039f"
            ],
            [
             0.2222222222222222,
             "#7201a8"
            ],
            [
             0.3333333333333333,
             "#9c179e"
            ],
            [
             0.4444444444444444,
             "#bd3786"
            ],
            [
             0.5555555555555556,
             "#d8576b"
            ],
            [
             0.6666666666666666,
             "#ed7953"
            ],
            [
             0.7777777777777778,
             "#fb9f3a"
            ],
            [
             0.8888888888888888,
             "#fdca26"
            ],
            [
             1,
             "#f0f921"
            ]
           ]
          },
          "colorway": [
           "#636efa",
           "#EF553B",
           "#00cc96",
           "#ab63fa",
           "#FFA15A",
           "#19d3f3",
           "#FF6692",
           "#B6E880",
           "#FF97FF",
           "#FECB52"
          ],
          "font": {
           "color": "#2a3f5f"
          },
          "geo": {
           "bgcolor": "white",
           "lakecolor": "white",
           "landcolor": "#E5ECF6",
           "showlakes": true,
           "showland": true,
           "subunitcolor": "white"
          },
          "hoverlabel": {
           "align": "left"
          },
          "hovermode": "closest",
          "mapbox": {
           "style": "light"
          },
          "paper_bgcolor": "white",
          "plot_bgcolor": "#E5ECF6",
          "polar": {
           "angularaxis": {
            "gridcolor": "white",
            "linecolor": "white",
            "ticks": ""
           },
           "bgcolor": "#E5ECF6",
           "radialaxis": {
            "gridcolor": "white",
            "linecolor": "white",
            "ticks": ""
           }
          },
          "scene": {
           "xaxis": {
            "backgroundcolor": "#E5ECF6",
            "gridcolor": "white",
            "gridwidth": 2,
            "linecolor": "white",
            "showbackground": true,
            "ticks": "",
            "zerolinecolor": "white"
           },
           "yaxis": {
            "backgroundcolor": "#E5ECF6",
            "gridcolor": "white",
            "gridwidth": 2,
            "linecolor": "white",
            "showbackground": true,
            "ticks": "",
            "zerolinecolor": "white"
           },
           "zaxis": {
            "backgroundcolor": "#E5ECF6",
            "gridcolor": "white",
            "gridwidth": 2,
            "linecolor": "white",
            "showbackground": true,
            "ticks": "",
            "zerolinecolor": "white"
           }
          },
          "shapedefaults": {
           "line": {
            "color": "#2a3f5f"
           }
          },
          "ternary": {
           "aaxis": {
            "gridcolor": "white",
            "linecolor": "white",
            "ticks": ""
           },
           "baxis": {
            "gridcolor": "white",
            "linecolor": "white",
            "ticks": ""
           },
           "bgcolor": "#E5ECF6",
           "caxis": {
            "gridcolor": "white",
            "linecolor": "white",
            "ticks": ""
           }
          },
          "title": {
           "x": 0.05
          },
          "xaxis": {
           "automargin": true,
           "gridcolor": "white",
           "linecolor": "white",
           "ticks": "",
           "title": {
            "standoff": 15
           },
           "zerolinecolor": "white",
           "zerolinewidth": 2
          },
          "yaxis": {
           "automargin": true,
           "gridcolor": "white",
           "linecolor": "white",
           "ticks": "",
           "title": {
            "standoff": 15
           },
           "zerolinecolor": "white",
           "zerolinewidth": 2
          }
         }
        },
        "title": {
         "text": "Interactive 3D PCA Projection"
        },
        "width": 1600
       }
      }
     },
     "metadata": {},
     "output_type": "display_data"
    }
   ],
   "source": [
    "alignment = \"stimulus_onset\"\n",
    "state_values = [\"biased_state\",\"unbiased_state\"]  # States\n",
    "\n",
    "# Define colors for each coherence level\n",
    "alignment_dict = ephys_config[\"alignment_settings_GP\"][alignment]\n",
    "conditions = [\n",
    "        \"coh_0_choice_toRF_corr\",\n",
    "        # \"coh_6_choice_toRF_corr\",\n",
    "        # \"coh_20_choice_toRF_corr\",\n",
    "        \"coh_50_choice_toRF_corr\",\n",
    "        # \"coh_0_choice_awayRF_corr\",\n",
    "        # \"coh_6_choice_awayRF_corr\",\n",
    "        # \"coh_20_choice_awayRF_corr\",\n",
    "        # \"coh_50_choice_awayRF_corr\"\n",
    "        ]\n",
    "\n",
    "if alignment == \"response_onset\":\n",
    "    timepoints_list = np.arange(0, alignment_dict[\"end_time_ms\"] - alignment_dict[\"start_time_ms\"] + 1, 50)\n",
    "else:\n",
    "    timepoints_list=np.arange(0, alignment_dict[\"end_time_ms\"] - alignment_dict[\"start_time_ms\"] + 1, 100)\n",
    "\n",
    "# Create a figure\n",
    "fig = go.Figure()\n",
    "# plot_pca_projection(fig, conditions, state_values,\n",
    "#                     pc_biased_state_conds[alignment], pc_unbiased_state_conds[alignment],\n",
    "#                     timepoints_list=timepoints_list, onset_time = - alignment_dict[\"start_time_ms\"],axes=(0,2))\n",
    "plot_pca_projection(fig, conditions, state_values,\n",
    "                    pc_projection_biased_state_toRF_prior[\"mean\"][alignment], pc_projection_unbiased_state_toRF_prior[\"mean\"][alignment],\n",
    "                    timepoints_list=timepoints_list, onset_time = - alignment_dict[\"start_time_ms\"],axes=(0,1,2))\n",
    "\n",
    "# Set plot labels\n",
    "fig.update_layout(\n",
    "    width = 1600,\n",
    "    height= 1200,\n",
    "    scene=dict(\n",
    "        xaxis_title=\"PC1\",\n",
    "        yaxis_title=\"PC2\",\n",
    "        zaxis_title=\"PC3\"\n",
    "    ),\n",
    "    title=\"Interactive 3D PCA Projection\"\n",
    ")\n",
    "\n",
    "fig.show()"
   ]
  },
  {
   "cell_type": "markdown",
   "metadata": {},
   "source": [
    "### SEM plotting"
   ]
  },
  {
   "cell_type": "code",
   "execution_count": 93,
   "metadata": {},
   "outputs": [
    {
     "data": {
      "application/vnd.plotly.v1+json": {
       "config": {
        "plotlyServerURL": "https://plot.ly"
       },
       "data": [
        {
         "line": {
          "dash": "solid",
          "width": 2
         },
         "marker": {
          "color": "blue",
          "opacity": 1,
          "size": 2
         },
         "mode": "lines",
         "name": "coh_0_choice_toRF_corr_biased_state",
         "opacity": 1,
         "showlegend": true,
         "type": "scatter",
         "x": {
          "bdata": "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",
          "dtype": "f8"
         },
         "y": {
          "bdata": "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",
          "dtype": "f8"
         }
        },
        {
         "fill": "toself",
         "fillcolor": "blue",
         "line": {
          "width": 0
         },
         "name": "coh_0_choice_toRF_corr_biased_state_std",
         "opacity": 0.2,
         "showlegend": false,
         "type": "scatter",
         "x": {
          "bdata": "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",
          "dtype": "f8"
         },
         "y": {
          "bdata": "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",
          "dtype": "f8"
         }
        },
        {
         "line": {
          "dash": "solid",
          "width": 2
         },
         "marker": {
          "color": "blue",
          "opacity": 1,
          "size": 2
         },
         "mode": "lines",
         "name": "coh_0_choice_toRF_corr_unbiased_state",
         "opacity": 1,
         "showlegend": true,
         "type": "scatter",
         "x": {
          "bdata": "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",
          "dtype": "f8"
         },
         "y": {
          "bdata": "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",
          "dtype": "f8"
         }
        },
        {
         "fill": "toself",
         "fillcolor": "blue",
         "line": {
          "width": 0
         },
         "name": "coh_0_choice_toRF_corr_unbiased_state_std",
         "opacity": 0.2,
         "showlegend": false,
         "type": "scatter",
         "x": {
          "bdata": "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",
          "dtype": "f8"
         },
         "y": {
          "bdata": "rsm0l6lba8DyfZKNT5xrwAGCxmWJu2vAnR8bJ8jLa8CEZwFWAr1rwIDMFOcbjGvAUP3WittBa8AXzAixD+ZqwG6NGlpGdWrAuah9EaD7acBCF6YMjHtpwDK+tfli8WjAHqGb+sttaMAl/1SnGelnwGxlY2gyXGfAfHbKW3TlZsATZWjZeHxmwAHk6QISHGbAHGKgx6DMZcD2eZ/GEYRlwAf3cM8uTGXA+plK+2spZcDT/pOkqQZlwJT0/cgf9GTASAHJy6vwZMBOExlJ/+xkwLcN/qK17GTArMIOB/HrZMAAR88FFfJkwONIVlqz6mTAsOoZVaX9ZMArdJG5ng1lwCoGf87+FmXAttrZhy8lZcC1NsF7LC5lwAjbi1/cQWXAJuWAEuRZZcAElT36E2xlwFWt3d5Ue2XA/rW1iyF+ZcDLlHynyYNlwDSPP3/5j2XA7ZJGnOKTZcBgJtG+oZxlwHP8v7BZqWXAxsmIl1KzZcBSHK63aLhlwNwENgyZrGXAEMw50TGmZcAO4SejWZtlwHDyukTUhWXA8lgzFYN+ZcDRVMDKpGZlwHa3x8b4QGXAqAC/2r0hZcBJTEy2yvlkwKgEidYQy2TA9FOeQr6WZMA4IJVeelhkwGzOiuwjD2TAUZ8poCG7Y8AgryxvW2hjwGB5dVkxAGPA56gXZCCUYsBEerUrqiFiwP3KWvCpt2HAHKZITeNCYcB8k0y+TdRgwFzDfd+WaWDAK3VjpiYAYMDKq6Y3aUdfwJwdl8cBkF7A9tkJgHYKXsAPWilHeY1dwOJ9+zxnUl3A9yCwNJJBXcCpyF1SnjldwJjnFeo2aF3AssPQgFK/XcCM+PpMOzpewDzpF21r4F7AFrBdC7SyX8DS/SzxNklgwNlxsel30WDAvnbAOH1lYcAtaSNxigNiwK6OnOzSomLAKfMPxwdLY8C25qLLgvdjwJuhfDHunWTAMPG5y6pQZcDRTLKoVPBlwIiP2HRok2bAPSsRGLM4Z8AJbhBv4M1nwOMviOVFX2jAHqqwp4DiaMBa5PDN1FBpwOP4lbt5umnA47lZK5AcasBRAFcldnBqwIpO4Qoet2rA1DcfpMfhasDSml9/SwVrwNoyoBVVH2vACpTeSmUsa8D4do8eRCxrwFDn/EJIImvAstTwPUEca8BpSJ0SZBJrwCBiT3INBmvAg6jLoHgBa8AvW0FBnfRqwBp4mbUE8GrAfVNOCjT8asBxq1EVqAJrwLDBZq84EWvAQqP2ihMqa8AQ6StprjxrwCSgdDHxUGvAXl6JHjpra8BTxFz6AIJrwEsB5VbggWvA3O09M9yLa8AeyhkoY31rwOdzyt7/YWvA6akq23gqa8CAdHnPMuRqwA5kNfO6i2rA0YhKGwUaasCxtZqXspBpwF3wwvLh52jA9zgYrjMfaMAvfizdxChnwPfEb6EwGmbA13io3FbaZMBMiujRHnhjwLvkfse78WHA6vj/+MI1YMCduRpkaXhcwKnqCFFLOVjAPbYsrex5U8ASjpamf3pMwL028YV8A0HACtl2eUN4IsBAOP86ZSIxQD3Pg4piqUZAoj68yyq8UkBMJE+/Hn5aQI/cXkOMPWFAyVdL4GxIZUAVc69tH2dpQNe+xkk8e21APyBcwC++cEAwGXq/0a1yQI/r7PrggnRANkwDywM9dkB+lEz7tc13QBbZTrmMLHlAZJZl9gtaekA8GZBiUVJ7QA9nxQIlF3xA1UbBDCiffEDpi2CrBuV8QC6jjcBS+XxACeK4kjPWfEA1dKsOj398QEUA5K9U8ntA/pv8nlkxe0A9o5rqAkZ6QJbvuVAfO3lArU5Es2oLeEDu8v48K8J2QEltul+MXnVAUUGoqGfnc0AvNIta02dyQOw97kG503BAh9LCXgR0bkAXLJL0ODhrQEomu80d/mdA+juAeIK/ZEAN9PBvtY1hQKpjwTJTxFxAyxmJyuKhVkD3n7zxIbhQQCrZz0wZ8UVASnJkSTxHNkCg6VE9J078P9p21H01oDHAU8rzXdyKQcDx8SreY4pJwJt93h6+TVDA+E3QAfptU8ByA/7q3SdWwOol36YCWljAbz5UNOQUWsAlsXgq1W1bwE0tD0AlRVzAXGU7IZLSXMAwozrkt/RcwDpvBCYzw1zA91+BUvMzXMCSJ/7eqYJbwDI1/17SoFrA5CttDMOiWcAEbpjlJ3xYwO2DNf3cS1fAWTZws5MnVsA1uuKknvZUwFX9NvUc01PABMLAL3DTUsANBbcF8+ZRwCeBWJ+OIlHADt4F0zx1UMDv/h0diNlPwNGC0i6+/E7Axr8c5r5yTsDOvrSyBUdOwANfOUJnRU7AmXp1M5hRTsAeoB+cZMZOwDJ0WBbCXk/A2gHWwZofUMB3uUm2nJdQwB6R0mOhHFHAqgG2fA/BUcAMua10o4NSwFRRftVmYVPAEWHlfZpNVMB0HCtyF0BVwEk+apHxM1bAz130uABMV8DYC/8q931YwM2C9w2qslnA80oSZo0KW8CshNUZ6XRcwO0ODu506F3AfakKzAVnX8Cc8NcL03dgwMizUNlOQGHAbgqytpgUYsDYVEnOOONiwOUXlm86qWPA9gC1ZAJ4ZMBCmNFouUxlwL3eDAAzEmbA9sZC4NHFZsBWjMgBK3RnwGWu2og2F2jAWclYWqemaMDenE7D/C5pwErtmvR9pGnAXF7LnVWPasDcSE644fVqwCZNOXUpU2vAJeFwKkexa8DVtXLNrgZswFSzkAe4W2zAeTTZbWS4bMBBfudXFBdtwIKA2lXAim3AICK+/1QibsAlPaFwncVuwFFQSkkTfG/AG4Yl3UslcMBNQVaNpZhwwDRu4jL7IHHA9ZiNKK6qccDP+N+7jT1ywIicBhoZ23LAM4JVuTUoc8DMgAX5H85zwBjZV061a3TAXCNwGMvndMDVeJA2/n91wF3UNjhpGnbAt8CHrLCtdsBesTWmBzl3wLtPE/4tunfA7bW4ya8ieMC4lHRMsaB4wDeL8IiC53jAuG730LNVecB9j84lE855wBmzclcTTHrArRu4JL3MesAq7rPzoGt7wKsmhE1L+HvAWplVYs2GfMDbZKRwQhp9wLEUpezHaX3A376kp4UDfsCXtfW6QYV+wMYe7r+TFX/As2P9Hdy4f8D0pUX3+RGAwIpO/RpMW4DA0yTh+7ChgMA3/bdnbuGAwEf/FEXw+IDA0pyDXtgigcD5o16lclKBwDcDG+MTmIHAKNDQzYa6gcCxK42mstWBwFlCRveb6IHAFjTlRnX3gcCDtsj14eeBwCewJs4A6YHAfzJAKE/cgcC/9GDMUeGBwFIhbCvlzIHAKH+xJH6ygcC1c+qBXcqBwByn6ZYWx4HAFMYyhuy4gcAXw0u7E1aBwPUDZNQ4UYHA5Lmv+wtHgcArebwqyzKBwGGiIwX0+4DA5juL44vBgMCzML7w8TyAwLiOPgMMJIDAr6n4gAYJgMDx38byl0p/wLlu+R40x37AYidxOfVlfsCvAjXsNTx+wMfoK4CN93vAP/2mCXDEe8Ay4MhhFEh7wCmz2RKGNHvAwUg7lidDesD24Npfvap5wCTbo+uRj3jACGWpPAoYeMBVN3NtvOt2wFGKLQa3OHbAuuU62HmIdcChC2n8S8h0wOA/U6/lw3PAcR5AJrHbcsAu/LNu/alywAO1G8KaZnHAuwKjTrfzcMDmcDMXzl5wwH5G7umxZW/Alxvk/jNUbsDlAc4rnhltwPzXkwd9cWzAsFq8513zbcDbZZh6MDptwIu6xmCoyG3AuscI4AZ7bcCSZpfFEShswC98yQEsgmzAiTcEXHJzbMCk7WciyglswMk52BkO3mrAb4EUlLjvacBdgyCI/G9pwG9SHczU7mvANVoL7g5pbMBB1rLN4k5twOhQhi59dG7Ayy8LTqTTbsBRgpGEPthuwBTiO0hpgm7AJqIL68jJb8BnEBGqJwdwwPcgChJ5dm/A5MgEfmgTcMBAzWTm/p1uwNuC3TZoOG/AbQHzmW4zcMBDwk7DU7VwwEBaHeNxW3HAJZ5P4EHqccCx2qq03FdywGKMnM54lnPAR7jLaYzGc8BGuKqQ56t0wD8aAtaSrXXAvJec/AptdsARomtlmB13wHX2ZXgn0XfACKGq2eX8eMCAYkCAhHV5wKQ2duTek3rATXR5Gvwte8Ddz42LQiB8wGqhOh5KNnzAdVx4Q6yzfMClIDMG6Od8wG01ajXPQH/ATFdqwzRqf8AjKbeTq8p/wLvda5bJJoDAqzbmSyqJgMDqckGwY6KAwIPLG2QJuYDA/F6IfaE7gcAZiRmo2HOBwDfGX0BBp4HAeMXoZt23gcC9pdWco76BwFXJG43Lv4HATlngOTghgsDU8xgHJSyCwA0ThPN0LILAEix9jU4SgsBuvMNzsCqCwLnqHHH7PILAm3i0aow2gsDNaU8fX0KCwM3+Xy5SQILA8Mj8cGRPgsCBM7bf/j+CwCfMNleyLILA4D3J9jsRgsBVvLQdg+6BwP3v/2Rhp4HAZCGQ6aZ3gcARjT0N4E2BwNGPyo/WNoHAyUBofFb3gMBkhgNuN7GAwJD/nu8xaIDA6KzyC2QzgMDo+77qC8R/wCddPwxoNH/Ar2WbazezfsBL/rYaKRl+wMnPllqvyX3AYErNFhw2fcArpiXxdKd8wJZSXJRXGnzAT3KeqcR6e8BZiQIkjfl6wJuWiK/tenrAmIODysUBesBLrbgS1ZJ5wJDTOpk3S3nAIZTI/IbMeMDpSydAuGN4wOzLxtoZ4nfA73iyA1FWd8Ar5X8dgMJ2wCfdrtiYJ3bAjkOvp72OdcDolzq9ZRF1wBJq7GUVc3TAh26N/3HMc8D4oiylQn5zwOW9Uz7f33LAs2jfCTZMcsAK46F0u8FxwLlknVm1OHHAERRFRs7EcMDqQ4NoQ11wwGyqyWsdAnDAuhzNFoNhb8D+q2dxFctuwM3s4u0jWW7An5r5ZYP8bcB0MsGWLaJtwInx+pzjT23Aj497VvX8bMD2qf9KU6FswLbCmlQQRmzAfjEYqtbga8DQb6sym/dqwMqcfTICgmrAFQM7sqr4acDDtVa+g2dpwBz/CljSwWjA0NBVjv4PaMAr/+eTe1hnwF7OfdSbjmbAPsNi8lq1ZcB5mGnjNOJkwL4iDWsJGGTADl4mN2hFY8BkyusGam1iwEKO3cDwoWHA3cAY4hLbYMAXp3/TDRpgwDT6ibsOvl7A2xLK3zlSXcDxormInPlbwK7DT5ztxFrAo3o3MpWTWcAh+V3JsXxYwBzBFVdEilfAGxkuGlyZVsDgNqTnD69VwJolDdg001TA2DKBnQkTVMBAHdVtV3FTwH2c1BwX71LA3ux8tgR6UsCxlPVz9gxSwN2+h+ZMxFHAmF+qVuWMUcBOp+RwiIlRwMurwh0ujFHAUdQO25ejUcCZdWXzKelRwHAtNg13V1LAPl6HC/feUsCfs7c2U4pTwIcGsclxTFTAJIykdSw2VcC3kPH0gTNWwFUS7uPEVFfAlZEK8yqEWMAx+UM55qdZwCroChza2FrAoIawE2YBXMCyxaDL3wJdwEoW6BiK6V3AIzd3QFWhXsCooxGIazhfwDR2B63Ecl/ANFp8WItaX8ArF7tzi9dewAmEXC8BC17Ae23j+My8XMA+eHyqywxbwCgLw9lk5VjA7Pkm2300VsDfF1mhwhxTwD3ZYayKN0/AeTN3a61ER8AqorUOHyc9wOPwND68niPAOa0tBZNVJUCocXmoDiFAQHrAWTJBoUtAfWU6oJy7U0CendAfQeBZQMW2eVUbHWBATBqKCLtQY0BKfqBkK5FmQGkA5oYvzWlAQ006MO0KbUDe3RBtDiBwQMF4uvbvtHFAh6+6py41c0DBEdJctKx0QO6HA9eXEHZAXZI4Khlad0DG3Ehlyol4QJutJ8ynlHlABK97Fe1/ekA3oEuF3UB7QBVRYW4GzntAV9tnh7AkfEBIxUqP80d8QB3kQXbuM3xA9dJlhEjue0AfDLZwtmZ7QGif2vJConpAYtabcHyqeUAU9JmVcX14QH53V84IH3dAVEfliKGOdUCzBv7QxdRzQOL0br3R/3FAj/ShsykQcEDN2Fpk7R5sQGEWJZhGCmhAX92qwa/qY0Aber+PzL1fQFyvodmTvldA6fnMga/zT0Cv2dUzWB9BQFJqFVTdERhAwBjDf79jNMCN4D6oaJtGwFeeDs4BC1HAY4Y5jj5JVsDRNN1LgQlbwKncHz4CSV/Aik/vjfSdYcCZKpjjxFljwGLuLtCc32TA43QukxtBZsD9cieQM4BnwBfnbtzJjWjAK1eSE0WDacDLer6mDUtqwNkhAnsZ82rAUSURE8V7a8BekuQJA+1rwCJMbujzRGzA+ywQ9j2LbMAnm32FjMJswIJF2EYb3mzAZsWN7aPsbMAPe58CmeJswO8cyy2u4mzAJjuep67LbMCUYu53v7BswODEb4C2m2zALmCgSg+IbMAEhQOnrG1swOcGqUoXXWzAKTs3hFxUbMDgqsAfeEVswKGTLooVR2zAtwfpSexQbMDkla0MoFJswD2gLF9tXGzAUg/aNFZkbMBmhq53GWlswBaTvV6xcmzALLMKlIBzbMBYRtIlNGhswAjcKEQOUWzAAJ+vvUwxbMD8RpiZKgtswIF80BxfyWvApU0++Wt6a8Cn7MQKFR1rwLDdMTHFt2rATLOcOTtNasChLzP1KM1pwBl0Fe3vPWnAa4WKeRGqaMAOQSrvNAVowGtsyvz0YWfAaGDgQrTBZsAjdA2d5Q1mwDovIGNaZmXATzMSWJS4ZMCSRM60ZA9kwIPzCMQ4b2PAElYwNQDRYsBDgMzK9TxiwA7hQH8ZtWHABxp2Y/hFYcAAffSrqd1gwEI5H0aui2DABkYtM0NPYMC1Y6pS+yRgwCrMeZDsDmDAnxAvjFIUYMBy6fEVLh5gwLe4IDSOPWDAPfXFeLN9YMCOdIqjdsJgwIk1Ej5aIGHAg51vKjR/YcByInXHPOthwCo+VKPdWGLATkkfNWXKYsARVSuR8UFjwEhUITuermPAFYJ1DIQjZMBqcv5otJFkwHRkvep4+2TAwdp70jBPZcBYO/N4vKNlwAjUA6QM7WXA6o3ak7UqZsAePMqpcV5mwNPVjnvIi2bAnCf2kE6yZsCInO4/mM9mwEOJCxRs82bAavyklxwJZ8BKPPvCOg5nwC4rF9VeIWfA6qkXspspZ8A6IwLLmi1nwEKqzFW4NmfAViHBZNsuZ8A5/kSSqiFnwNgpjRr5EWfAFaq++fwFZ8DCjQ0Tpf5mwG/9JL7Y7mbAVmmV8iLlZsB1XyFGRt5mwNh4LJLDymbADmnsi3C0ZsCCsnrIhJhmwN+B+fXwgGbAvqX2pV50ZsA8nSWpA2NmwL3lpvYaV2bA0mMnFhxFZsBrBMb50DBmwPr/BLKeN2bAlhtzjNYxZsCxApx6oTNmwFJH3dNGNWbAUvbjvZ46ZsCC5MPJBEBmwBuMab7TVGbAQhhSrbp5ZsBH+REzmZ5mwHAysjGB2GbATpJ3PAMjZ8DZNAwUXnRnwA8jxF6l1mfAqLXXMkRBaMAwpx868LlowC13sH7GSGnAzjqOHsHPacBSaKcBrVVqwP5gjLHM4mrASXaSN5Jma8CUla5AC+RrwJOpK2yHWWzAgPpY5LO6bMCilWME3QptwIbFI4SHQm3ATZjwcrBYbcB7zDbTelBtwKwMldKbOW3AMqo9hoUBbcA=",
          "dtype": "f8"
         }
        },
        {
         "line": {
          "dash": "solid",
          "width": 2
         },
         "marker": {
          "color": "red",
          "opacity": 1,
          "size": 2
         },
         "mode": "lines",
         "name": "coh_50_choice_toRF_corr_biased_state",
         "opacity": 1,
         "showlegend": true,
         "type": "scatter",
         "x": {
          "bdata": "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",
          "dtype": "f8"
         },
         "y": {
          "bdata": "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",
          "dtype": "f8"
         }
        },
        {
         "fill": "toself",
         "fillcolor": "red",
         "line": {
          "width": 0
         },
         "name": "coh_50_choice_toRF_corr_biased_state_std",
         "opacity": 0.2,
         "showlegend": false,
         "type": "scatter",
         "x": {
          "bdata": "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",
          "dtype": "f8"
         },
         "y": {
          "bdata": "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",
          "dtype": "f8"
         }
        },
        {
         "line": {
          "dash": "solid",
          "width": 2
         },
         "marker": {
          "color": "red",
          "opacity": 1,
          "size": 2
         },
         "mode": "lines",
         "name": "coh_50_choice_toRF_corr_unbiased_state",
         "opacity": 1,
         "showlegend": true,
         "type": "scatter",
         "x": {
          "bdata": "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",
          "dtype": "f8"
         },
         "y": {
          "bdata": "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",
          "dtype": "f8"
         }
        },
        {
         "fill": "toself",
         "fillcolor": "red",
         "line": {
          "width": 0
         },
         "name": "coh_50_choice_toRF_corr_unbiased_state_std",
         "opacity": 0.2,
         "showlegend": false,
         "type": "scatter",
         "x": {
          "bdata": "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",
          "dtype": "f8"
         },
         "y": {
          "bdata": "Soc4OzEhacCjOyarrYxqwMJ9sv8G6mvA8hb6DQs5bcCrdogKqGBuwOmDUPSSZm/AXVK4aVYccMDZYBy8aXFwwPR6Q2sRrnDAOZ64pQ3TcMDugDYrettwwF45Y3aXz3DAZ0aVsdWscMBve8gkFXZwwHL3Z2CIMHDA7irxXevFb8BkmJJ9GiVvwMLcO741cG7A0aU7PBmzbcDDJEQIofRswPZroX9QPGzAndIrARCPa8CobSa+QexqwAWxnWSuVWrAAUNFxw7YacBarPkxYU9pwJr/Bmiw3WjA8zraQrp3aMBPnkFKYhdowHaO0GW+xmfACbZg0dhsZ8B9iQganB5nwAbrpqv61GbAEpzOCc2DZsABQnJuoEVmwFmok4JiAmbA7s6tP8fHZcCPWQ6SrY9lwA6MtjxzX2XAWc3OYCEtZcAqBctuifZkwNBzTHQDy2TAykhPdR+WZMBjORNtbW5kwFsvuV4gP2TAS7XP028VZMAdp15XfuRjwLWwejKusmPA9BdKbw98Y8Cipe5gB0BjwEua5CvpA2PAdZFK5U27YsCv+AI6/nZiwBDu3brIO2LA1V9ljLz9YcDcR6RRTr9hwE1T/jB4iGHAVu+itp1JYcDdFQ21rBZhwKbEAB2E8GDAmNl0KUXLYMBZ8reG0axgwCyjoWEJoWDAM1V32XabYMAP5HGWUJdgwJM7M6hFnWDAeacIKo6fYMAELlCBuqdgwM1dkGNnp2DAqLv1CT6dYMACP33t8phgwJLXB7rwk2DAFhL9AQl8YMCthZD53WNgwBWKasiFTWDAs1XDXB0lYMB91bYEOwJgwI3QSHuiv1/AP932EfKSX8DiNbA/IWhfwOOiburkX1/AJDK1rXB0X8BggYmFF65fwIm60qB9AmDAMH2aJo0/YMAEuJRh+pxgwGdneZC/CGHAxp1WqsGDYcBZkofOqgxiwNovo5rqoGLAP4HzEZ1FY8BpYAZdbPZjwP531MM7oWTAyBZoaItTZcCivFKXG/plwDnWf4ttj2bAHc07Ma0iZ8C2hVydAaJnwD9HTuj8DWjAW+woZABsaMAtT/ISV71owNSf//yEBGnARlKzM+07acCR/H0MYmhpwHZhpw9RgmnAfGkCc1idacCPK4jkdrFpwIs/OXmyx2nAJGvjeEvlacChQjGAr/1pwAAzhOzKHWrAiH4FG95AasAL4NDsC2VqwBx2B7+giWrACPAwZ+CxasDI3X7WpNxqwO34DficBWvAwOnGS5oma8Bj+L9HLj5rwGO2EmT0TGvApHIUQs5Ma8CcAwpznzFrwE5YRk65BmvA5LZ7aRO2asDEwh7ItklqwC4YsKc9wGnA6k7v9JIeacAU1ztoZ1lowNYaHb8IeWfAkDT0sFh2ZsBpPeG+SVplwLU9qU2rE2TAao+ZPeauYsBeedQpfDBhwH3B+mlXGF/AOBFqBWqNW8Cjc926etBXwJ5+01cIxlPARNXm6OSVTsAY28dOlQtFwBJtHpTE1jXAAJ8B8akJxb+ISJ2FvhQ3QEvo/6XwDEhA6LiUS1eTUkDFY6Gb1o5ZQG1uS/bsfWBAhB4FlKNWZEDsY7d671RoQOSgqy9IbWxAptSZWP1GcECTe3w8MWJyQNW0r+aHeHRAvjvHQ0eLdkCPPErrVo54QIMv/oMReXpAQl44eWtFfEB1Z9nO6uZ9QGEC4+iHW39AQqQ3O+pPgECkB7ES4dOAQJuOxRtfPYFAuhOfW9SHgUBXW1wYubOBQE//yBNxv4FAzYe6SvmqgUACTehabniBQBrM1EmHK4FAvv2xeQzBgEAOrdjXR0CAQJC+MilbUH9AsnW8I9n9fUBw8nW6L4h8QEJTJRGb93pAgZQf7kBSeUBPFe7RGaF3QFiN8vB033VARSGxkg8TdEBsBfvaFUNyQAfHSaA5a3BAtx0IAJ4ubUD52EiIGJNpQNU43AVX72VAJmCw8nRdYkBv3NLWm7FdQOUTBsg90VZA5IZfRvUSUECh8OnRGS9DQJmxmaG86SlAegryLnoMJ8AdTWWaNT9BwPfBueBOLEzAO0uxpz09U8B6hOACfgtYwIRZZzCsclzAdCeWkwI1YMCSv7R/texhwNqxQEkXbGPAMFlyWVevZMDhDOtNO7dlwFPFBGIHhmbAYNjWjZgGZ8AKpe4b7ENnwCccXlXMO2fA5Kryacz9ZsCp/KfadntmwBv9yVMfyWXAXQTqNl7iZMDO78eaKtRjwK3XiLYroWLA/r2vLzVIYcAlFtSQjKNfwFYHT7dor1zARnKgu9WZWcCqRsQV2ppWwKaxNMpgp1PAsUTs/BXPUMDFYGb0TT9MwE4Gn8w7H0fAElBkz7WjQsDbpXCI2n89wIx3TABirTbAk2PH/wDKMcA1mMB6UhwswBr7jbe2TCfAA9UHQn36JMA6K53H700kwP4fEEMtyyXAVWLsxzPDKcBkNa6Hpe8uwHu4rlwD1jLAqoIWcuOKNsA4W/Ptz/M6wPG0hVrgpj/A5SBx48AoQsBI5D18OopEwI2q6DH4F0fAnTRHL0iTScAlrsqujvRLwK1gQGRFV07AVu2Q4PU8UMDVa9tiJmlRwMz4S3v5fVLA2P82olyIU8ClOcrjBKpUwGbkK0Pgy1XAUYSOhkX5VsCovHSWqCpYwABHXU8qclnAXUKrdtfEWsBuwJqX/yhcwFt04MtJxF3Asfz0cVdWX8BYtEJjbZBgwMWAzsyMe2HAE474Q+93YsA5jhFHMHhjwL/Gy8kXkWTAbFmPFiWxZcDRyEaaOcZmwOYGmz0F6GfAIEYqSUHyaMCKKr/39xpqwA3IIllxMWvADSfuo6c2bMBXa/tP2CdtwDlbh2SDCm7A8yBJwHqwbsDQDJWOPnpvwGSd2OvOE3DAKY1FTdVbcMCd2g6e2aRwwOCsI1rB53DA4imD2t8KccCOWdH0uiVxwLOD/d2bVnHAw1mHO557ccBF6vHaBqtxwCbYR248MXHAzFRSRE1fccCxNe6sF5NxwAxGR6mLynHA63tQiE8LcsDQ7R/f7FJywGuyuuoVg3LAIdm6uXzXcsC4Ofxy/j1zwN+ETNQcuXPAsYZTQVsudMB0/CviXKF0wO7HFp1sTXXAJJ+PX2+JdcA8SqqO2BV2wNVOeZa5onXAevFoyVsndsBsMLIi88F2wEjrtrOnYHfAAwOGzUXtd8BvHYqVi2h4wEB8RqYjA3nArBUMjLuWecBP8DOYxFB6wPi7t0az5nrA1sZMzOPLe8DmAjRTtEJ8wBocVtgSCH3APSXctJLTfcBzjqvgdn1+wB9DeoinM3/AcQ+Cx5LVf8BKbeZIhT6AwFbX3NiQZ4DAwqpE0GGGgMB5Nj0Nga+AwJzgW41HzIDAEHNO4v4SgcBJ+Srl8GWBwPMUmy+ql4HAIpr/PZ3VgcDGcVGRS8KBwE4iDdlT1IHATpPdeH/kgcBvlw0dvcqBwPDT0lDOhYHAnWcpSlHRgMAOLDSjB9GAwAZi/51lq4DAESyxg6lwgMAfNRT8JyWAwJGnGH2+G4DAGzEM0jyIgMDTzpi914+AwGXjo6jX14DAOFx944ARgcB6UdgMRzaBwIWcpvkmNYHAAHc5P1zogcCpdQvO/SyCwC5yDvZ2RYLANMaD1NAzgsCKbnUvmiGCwEBeJo08NYLAp6p2/Sb3gcB9t2HukcWBwHSuj2BfdIHAntessNAtgcAz1gMU8xGBwKJFGDkD6YDAOJeeZ+DKgMASHHzMEKKAwFMvM8G1ToDAZ+KD5J77f8CD72IvQUV/wL++/Xepm37AzBKkAyHPfcDG6DJnhQl9wIBGpBrjk3zALJmKc2Ste8Bz5+Tqrhd7wKCY7uoiXXrAWKyYlrfJecALBA07sC55wEeI3eFEsnjAAoY53qskeMCeBBMr0YV3wJzxDKA463bAJ/57SMBmdsBM4PYGet92wPLoqE1/UnbAfgx9w1kWdsC8099a12p1wANenAld+HTAZbuYUPWDdMA4y0m1EQp0wJtwjLobpXPA52mLOopSc8DQNfhBlCRzwAs0qZNu33LAHBOJ02GhcsAvtr6TtGxywGrAsC2lO3LA6sPs8SwQcsBncv7aIY1ywIvzUNghX3LAj8NNcYw7csB8/ATGtgtywFiYOys38XHAdrMRQTDOccApyLZ4j4pxwJWo2yYwQHHAzDyUdDj2cMA0jwxzDZ1wwFTHuEYpNXDAm7NEBZG8b8BdOuuEQ9JuwGc6q2j72G3AZUCo8C7LbMCeflXLA6xrwPwNuCdGemrALJf62kxnacCNgwki/TxowBK5uW6wH2fA9+YwTdz3ZcB5GMvE09dkwLNg3q8M0WPARSOvw73OYsCErH+bGN5hwBUIxG7682DAX9o6wagmYMASVSkU5KlewMFcRlJ8Pl3AatpUCBblW8A8GSjVBZdawL32D79lX1nANMTtYMgrWMAT8Jmv0gNXwMgrRsSH3FXA1FHhhsfMVMBl8OqH0bJTwB45l5P5gVLAiupbcDNtUcDvu7s3ijlQwH/TtggUD07AZUEt8W+TS8CUEsfdLQhJwA0qnE9Jq0bAyQ8tGfxcRMCBPCGB2QtCwChl2kxOwj/AYea3RggiPMAYiQwHzNg4wOye1++dVTbAtpt5GkVsNMAggo5bZLwzwPw43UhlHjTAmbGXO/JONcAeaq0kZbo3wN1oOH++djvA3OG8doorQMA6yYg74ZFDwID9ML22ckfA0FeojFrqS8B9Koe0vINQwF/E/rUxMlPAEN7LJGoKVsDeyOm4wv5YwDLDKpvw/1vAGBcNvCEZX8Dvmz8I7whhwIYBCrNbgmLAaZiMOeXeY8AAYXa06BVlwMnIgxWPKGbAG8KPS/ITZ8BVgMZDJ8tnwLLvDh9mUmjA5xADUiGVaMCCssqd2aFowCT2oeLIaGjAeSqaDCTsZ8BVkbAr4iBnwA7k7c24G2bAVJyiv6/aZMDubZsl/VxjwI7Gs+wbpmHAQofvaHZVX8C6AcgTcO1awN/KSqcfHVbAh3gC9M7yUMD5mspAsPBGwGOQVlEl1zbAUJV7k7oa+z9CJPJ/RSs7QGotnu10k0pAr1T+FhMLVED9btJuU+1aQNRUTrxz+2BAsxP1kuSMZECzf5dQtS9oQEd400eqyWtAkhcB1E5vb0CkKQQB9o1xQNU8T8tJXHNAPuKRRbomdUAjf6MjRuZ2QM1VCOgNlXhAPmpe5t43ekDQMuHosMV7QIxrc9piOH1AWqoljN6HfkAYvptu1rR/QEiUG4yDWYBAzEnUilvCgEDaMHuWhg2BQK0kGpZbPoFAR5/+7yNRgUB1y564tEOBQBhBr6xYFoFAnfAAmpTKgEAcSrXf/l+AQCv70X+Etn9AFeub8SxxfkAHvSgXJ/x8QFQTBg7pWntAmwcpKoWPeUDFDD9kVaZ3QIzABpBmpXVAFwYuy4CVc0BNaV/4KoJxQHBU8MXq1G5AJPyD6Km7akCgG2fIB6tmQE66aSOQtGJAfwiFknjGXUAlmqT/T2hWQLcOeRe/9U5AeesTMJH1QUDk0yiKAyomQMU/ta8dACjA+O+Gf6nEQMD+STQ4wdVKwGyRsXWWKVLAKPriT3+fVsCLctzG3aVawEKIWTUAX17AL+KXIN3zYMAstoKUT5diwOQZR6ImFWTAcdtkB7l5ZcAP11QtisBmwKqoI+8E3WfA9ujnM4/gaMBWMbPcnMFpwOS4h7w+iGrAgpooJ7cra8C4TODcVrdrwNL7IYO+JWzAgDmqALh4bMAsYlMUGaZswP58etXbw2zAA6dBVp3GbMBXYpwzarpswILqahMcpWzAFxSHnJCGbMCyeJfr1l9swJrPLdU4N2zAnjn8cN4QbMAn/hWNLu5rwFYRa/+8y2vAgN9Vyh6qa8CPmKz3X4trwMbOQSYgdGvAazS6eHJXa8A/l5CYmkFrwORiy8erLWvA6mPv8j0Sa8BNy7g0fPdqwLLPVKqwyWrACootYWmQasBHvKef70ZqwBcrDf668mnAq7tNX2KRacDc0Wa+pyFpwBnuNPJjnmjAW62/S9kGaMB8sh9iOG1nwHL02vg/wmbAGNSTd5ILZsAdazX/lFxlwJ1TW5Dhp2TARFs8kd3/Y8DBVjm9WmhjwMInJ2+C3GLALXsybztfYsBs2sU2mvFhwEjZsEbVkmHA17cg7wBVYcAU8+lucSlhwK6RuRQIDWHArlwZx7sDYcBVCMAqlAlhwPGLaKtYIWHAXHbek6w6YcArmVt9z2BhwFcdiYe5h2HAB/GnWsi0YcDBrfMDBdBhwCBGUxNf7WHAKIYzBl0KYsB0mw+rexRiwKZXDiN/HWLAG1AkwwwsYsCmFWVwVTBiwCdj3yhoK2LAOXC0/I4rYsAftH6TXidiwM1atIdTLGLAvhWP38IxYsCJbsCndDxiwMTj1rrqWGLAREgSHnh7YsDdK49M/51iwCyhE+iFzGLA2bu6xo8GY8C2okXcHDhjwKn93PfvcGPAtidt7kWpY8B5dihK095jwJ/EtqfNHWTAQfOjPFNhZMBWxgZi5phkwPSpcngl0WTAkeA9IW8EZcB1DFBOrjNlwCkJaTbbYmXAVSV6iFyLZcBHgxFoMLplwPrRN6j/4WXADiATOWoXZsDiRfV0r0NmwJvvrSIne2bAzCKx1H2uZsBXrxxWZt9mwAR27scjGGfAk4frzT5TZ8BTTU7fz5ZnwN4swBA01WfAPNT1ppwmaMCN407HnXBowD0nVbsDwGjAsh/5mxIcacA1mf1PXHBpwLkveQRa1mnAlC6ELGNEasBiQ/4Y58BqwIlsy4t6V2vAm2l+1djla8AUdXij/o9swOOjSrbjSG3AhKk+VAAObsATyYe8at9uwMUVyWSLt2/A2PvDYBZHcMC01pF9yq1wwE19DcajCXHAXjzpBJNhccDveTReFrBxwMs+xIYl7nHAWLV2V2gWcsAAldH86SVywO1HPJcqH3LA+CKJofv5ccBNh/GmO7txwK9m0vdlYnHAVTHZuS30cMBOCDF00mpwwORsXyFXn2/AcN1+UFxAbsCtufnWidJswBoJBlGOVmvA",
          "dtype": "f8"
         }
        },
        {
         "line": {
          "dash": "solid",
          "width": 2
         },
         "marker": {
          "color": "black",
          "opacity": 0.8,
          "size": 8
         },
         "mode": "markers",
         "name": " ",
         "opacity": 0.8,
         "showlegend": false,
         "type": "scatter",
         "x": [
          -528.5970317672085
         ],
         "y": [
          -110.07068841353754
         ]
        },
        {
         "line": {
          "dash": "solid",
          "width": 2
         },
         "marker": {
          "color": "black",
          "opacity": 0.8,
          "size": 8
         },
         "mode": "markers",
         "name": " ",
         "opacity": 0.8,
         "showlegend": false,
         "type": "scatter",
         "x": [
          -569.4622893340128
         ],
         "y": [
          -225.45600079228416
         ]
        },
        {
         "line": {
          "dash": "solid",
          "width": 2
         },
         "marker": {
          "color": "black",
          "opacity": 0.8,
          "size": 8
         },
         "mode": "markers",
         "name": " ",
         "opacity": 0.8,
         "showlegend": false,
         "type": "scatter",
         "x": [
          -342.11282614091846
         ],
         "y": [
          -216.0996088057787
         ]
        },
        {
         "line": {
          "dash": "solid",
          "width": 2
         },
         "marker": {
          "color": "black",
          "opacity": 0.8,
          "size": 8
         },
         "mode": "markers",
         "name": " ",
         "opacity": 0.8,
         "showlegend": false,
         "type": "scatter",
         "x": [
          -670.8221295174075
         ],
         "y": [
          -209.8710661517121
         ]
        },
        {
         "line": {
          "dash": "solid",
          "width": 2
         },
         "marker": {
          "color": "black",
          "opacity": 0.8,
          "size": 5
         },
         "mode": "markers",
         "name": " ",
         "opacity": 0.8,
         "showlegend": false,
         "type": "scatter",
         "x": [
          -211.2781832649374
         ],
         "y": [
          18.251823105043343
         ]
        },
        {
         "line": {
          "dash": "solid",
          "width": 2
         },
         "marker": {
          "color": "black",
          "opacity": 0.8,
          "size": 5
         },
         "mode": "markers",
         "name": " ",
         "opacity": 0.8,
         "showlegend": false,
         "type": "scatter",
         "x": [
          -557.729332127927
         ],
         "y": [
          -216.90364126068314
         ]
        },
        {
         "line": {
          "dash": "solid",
          "width": 2
         },
         "marker": {
          "color": "black",
          "opacity": 0.8,
          "size": 5
         },
         "mode": "markers",
         "name": " ",
         "opacity": 0.8,
         "showlegend": false,
         "type": "scatter",
         "x": [
          -382.61576476463824
         ],
         "y": [
          -96.55899817178394
         ]
        },
        {
         "line": {
          "dash": "solid",
          "width": 2
         },
         "marker": {
          "color": "black",
          "opacity": 0.8,
          "size": 5
         },
         "mode": "markers",
         "name": " ",
         "opacity": 0.8,
         "showlegend": false,
         "type": "scatter",
         "x": [
          -514.455467834237
         ],
         "y": [
          -204.06681504290992
         ]
        },
        {
         "line": {
          "dash": "solid",
          "width": 2
         },
         "marker": {
          "color": "black",
          "opacity": 0.8,
          "size": 5
         },
         "mode": "markers",
         "name": " ",
         "opacity": 0.8,
         "showlegend": false,
         "type": "scatter",
         "x": [
          470.4475301326501
         ],
         "y": [
          -37.21242400867357
         ]
        },
        {
         "line": {
          "dash": "solid",
          "width": 2
         },
         "marker": {
          "color": "black",
          "opacity": 0.8,
          "size": 5
         },
         "mode": "markers",
         "name": " ",
         "opacity": 0.8,
         "showlegend": false,
         "type": "scatter",
         "x": [
          491.3800742987711
         ],
         "y": [
          -119.96578003003903
         ]
        },
        {
         "line": {
          "dash": "solid",
          "width": 2
         },
         "marker": {
          "color": "black",
          "opacity": 0.8,
          "size": 5
         },
         "mode": "markers",
         "name": " ",
         "opacity": 0.8,
         "showlegend": false,
         "type": "scatter",
         "x": [
          572.2323822093139
         ],
         "y": [
          -81.6988112298423
         ]
        },
        {
         "line": {
          "dash": "solid",
          "width": 2
         },
         "marker": {
          "color": "black",
          "opacity": 0.8,
          "size": 5
         },
         "mode": "markers",
         "name": " ",
         "opacity": 0.8,
         "showlegend": false,
         "type": "scatter",
         "x": [
          582.90552188484
         ],
         "y": [
          -185.7839008857838
         ]
        },
        {
         "line": {
          "dash": "solid",
          "width": 2
         },
         "marker": {
          "color": "black",
          "opacity": 0.8,
          "size": 5
         },
         "mode": "markers",
         "name": " ",
         "opacity": 0.8,
         "showlegend": false,
         "type": "scatter",
         "x": [
          87.56736362430729
         ],
         "y": [
          -375.68011863878223
         ]
        },
        {
         "line": {
          "dash": "solid",
          "width": 2
         },
         "marker": {
          "color": "black",
          "opacity": 0.8,
          "size": 5
         },
         "mode": "markers",
         "name": " ",
         "opacity": 0.8,
         "showlegend": false,
         "type": "scatter",
         "x": [
          248.64849681797847
         ],
         "y": [
          -553.6560745974742
         ]
        },
        {
         "line": {
          "dash": "solid",
          "width": 2
         },
         "marker": {
          "color": "black",
          "opacity": 0.8,
          "size": 5
         },
         "mode": "markers",
         "name": " ",
         "opacity": 0.8,
         "showlegend": false,
         "type": "scatter",
         "x": [
          1040.0756980054168
         ],
         "y": [
          -451.36215130753646
         ]
        },
        {
         "line": {
          "dash": "solid",
          "width": 2
         },
         "marker": {
          "color": "black",
          "opacity": 0.8,
          "size": 5
         },
         "mode": "markers",
         "name": " ",
         "opacity": 0.8,
         "showlegend": false,
         "type": "scatter",
         "x": [
          889.000443914533
         ],
         "y": [
          -415.62090634308913
         ]
        },
        {
         "line": {
          "dash": "solid",
          "width": 2
         },
         "marker": {
          "color": "violet",
          "opacity": 0.8,
          "size": 10
         },
         "mode": "markers",
         "name": " ",
         "opacity": 0.8,
         "showlegend": false,
         "type": "scatter",
         "x": [
          -211.2781832649374
         ],
         "y": [
          18.251823105043343
         ]
        },
        {
         "line": {
          "dash": "solid",
          "width": 2
         },
         "marker": {
          "color": "violet",
          "opacity": 0.8,
          "size": 10
         },
         "mode": "markers",
         "name": " ",
         "opacity": 0.8,
         "showlegend": false,
         "type": "scatter",
         "x": [
          -557.729332127927
         ],
         "y": [
          -216.90364126068314
         ]
        },
        {
         "line": {
          "dash": "solid",
          "width": 2
         },
         "marker": {
          "color": "violet",
          "opacity": 0.8,
          "size": 10
         },
         "mode": "markers",
         "name": " ",
         "opacity": 0.8,
         "showlegend": false,
         "type": "scatter",
         "x": [
          -382.61576476463824
         ],
         "y": [
          -96.55899817178394
         ]
        },
        {
         "line": {
          "dash": "solid",
          "width": 2
         },
         "marker": {
          "color": "violet",
          "opacity": 0.8,
          "size": 10
         },
         "mode": "markers",
         "name": " ",
         "opacity": 0.8,
         "showlegend": false,
         "type": "scatter",
         "x": [
          -514.455467834237
         ],
         "y": [
          -204.06681504290992
         ]
        },
        {
         "line": {
          "dash": "solid",
          "width": 2
         },
         "marker": {
          "color": "violet",
          "opacity": 0.8,
          "size": 10
         },
         "mode": "markers",
         "name": "Onset Time",
         "opacity": 0.8,
         "showlegend": true,
         "type": "scatter",
         "x": [
          null
         ],
         "y": [
          null
         ]
        },
        {
         "line": {
          "dash": "solid",
          "width": 2
         },
         "marker": {
          "color": "black",
          "opacity": 0.8,
          "size": 8
         },
         "mode": "markers",
         "name": "100ms spacing",
         "opacity": 0.8,
         "showlegend": true,
         "type": "scatter",
         "x": [
          null
         ],
         "y": [
          null
         ]
        }
       ],
       "layout": {
        "height": 1200,
        "scene": {
         "xaxis": {
          "title": {
           "text": "PC1"
          }
         },
         "yaxis": {
          "title": {
           "text": "PC2"
          }
         },
         "zaxis": {
          "title": {
           "text": "PC3"
          }
         }
        },
        "template": {
         "data": {
          "bar": [
           {
            "error_x": {
             "color": "#2a3f5f"
            },
            "error_y": {
             "color": "#2a3f5f"
            },
            "marker": {
             "line": {
              "color": "#E5ECF6",
              "width": 0.5
             },
             "pattern": {
              "fillmode": "overlay",
              "size": 10,
              "solidity": 0.2
             }
            },
            "type": "bar"
           }
          ],
          "barpolar": [
           {
            "marker": {
             "line": {
              "color": "#E5ECF6",
              "width": 0.5
             },
             "pattern": {
              "fillmode": "overlay",
              "size": 10,
              "solidity": 0.2
             }
            },
            "type": "barpolar"
           }
          ],
          "carpet": [
           {
            "aaxis": {
             "endlinecolor": "#2a3f5f",
             "gridcolor": "white",
             "linecolor": "white",
             "minorgridcolor": "white",
             "startlinecolor": "#2a3f5f"
            },
            "baxis": {
             "endlinecolor": "#2a3f5f",
             "gridcolor": "white",
             "linecolor": "white",
             "minorgridcolor": "white",
             "startlinecolor": "#2a3f5f"
            },
            "type": "carpet"
           }
          ],
          "choropleth": [
           {
            "colorbar": {
             "outlinewidth": 0,
             "ticks": ""
            },
            "type": "choropleth"
           }
          ],
          "contour": [
           {
            "colorbar": {
             "outlinewidth": 0,
             "ticks": ""
            },
            "colorscale": [
             [
              0,
              "#0d0887"
             ],
             [
              0.1111111111111111,
              "#46039f"
             ],
             [
              0.2222222222222222,
              "#7201a8"
             ],
             [
              0.3333333333333333,
              "#9c179e"
             ],
             [
              0.4444444444444444,
              "#bd3786"
             ],
             [
              0.5555555555555556,
              "#d8576b"
             ],
             [
              0.6666666666666666,
              "#ed7953"
             ],
             [
              0.7777777777777778,
              "#fb9f3a"
             ],
             [
              0.8888888888888888,
              "#fdca26"
             ],
             [
              1,
              "#f0f921"
             ]
            ],
            "type": "contour"
           }
          ],
          "contourcarpet": [
           {
            "colorbar": {
             "outlinewidth": 0,
             "ticks": ""
            },
            "type": "contourcarpet"
           }
          ],
          "heatmap": [
           {
            "colorbar": {
             "outlinewidth": 0,
             "ticks": ""
            },
            "colorscale": [
             [
              0,
              "#0d0887"
             ],
             [
              0.1111111111111111,
              "#46039f"
             ],
             [
              0.2222222222222222,
              "#7201a8"
             ],
             [
              0.3333333333333333,
              "#9c179e"
             ],
             [
              0.4444444444444444,
              "#bd3786"
             ],
             [
              0.5555555555555556,
              "#d8576b"
             ],
             [
              0.6666666666666666,
              "#ed7953"
             ],
             [
              0.7777777777777778,
              "#fb9f3a"
             ],
             [
              0.8888888888888888,
              "#fdca26"
             ],
             [
              1,
              "#f0f921"
             ]
            ],
            "type": "heatmap"
           }
          ],
          "histogram": [
           {
            "marker": {
             "pattern": {
              "fillmode": "overlay",
              "size": 10,
              "solidity": 0.2
             }
            },
            "type": "histogram"
           }
          ],
          "histogram2d": [
           {
            "colorbar": {
             "outlinewidth": 0,
             "ticks": ""
            },
            "colorscale": [
             [
              0,
              "#0d0887"
             ],
             [
              0.1111111111111111,
              "#46039f"
             ],
             [
              0.2222222222222222,
              "#7201a8"
             ],
             [
              0.3333333333333333,
              "#9c179e"
             ],
             [
              0.4444444444444444,
              "#bd3786"
             ],
             [
              0.5555555555555556,
              "#d8576b"
             ],
             [
              0.6666666666666666,
              "#ed7953"
             ],
             [
              0.7777777777777778,
              "#fb9f3a"
             ],
             [
              0.8888888888888888,
              "#fdca26"
             ],
             [
              1,
              "#f0f921"
             ]
            ],
            "type": "histogram2d"
           }
          ],
          "histogram2dcontour": [
           {
            "colorbar": {
             "outlinewidth": 0,
             "ticks": ""
            },
            "colorscale": [
             [
              0,
              "#0d0887"
             ],
             [
              0.1111111111111111,
              "#46039f"
             ],
             [
              0.2222222222222222,
              "#7201a8"
             ],
             [
              0.3333333333333333,
              "#9c179e"
             ],
             [
              0.4444444444444444,
              "#bd3786"
             ],
             [
              0.5555555555555556,
              "#d8576b"
             ],
             [
              0.6666666666666666,
              "#ed7953"
             ],
             [
              0.7777777777777778,
              "#fb9f3a"
             ],
             [
              0.8888888888888888,
              "#fdca26"
             ],
             [
              1,
              "#f0f921"
             ]
            ],
            "type": "histogram2dcontour"
           }
          ],
          "mesh3d": [
           {
            "colorbar": {
             "outlinewidth": 0,
             "ticks": ""
            },
            "type": "mesh3d"
           }
          ],
          "parcoords": [
           {
            "line": {
             "colorbar": {
              "outlinewidth": 0,
              "ticks": ""
             }
            },
            "type": "parcoords"
           }
          ],
          "pie": [
           {
            "automargin": true,
            "type": "pie"
           }
          ],
          "scatter": [
           {
            "fillpattern": {
             "fillmode": "overlay",
             "size": 10,
             "solidity": 0.2
            },
            "type": "scatter"
           }
          ],
          "scatter3d": [
           {
            "line": {
             "colorbar": {
              "outlinewidth": 0,
              "ticks": ""
             }
            },
            "marker": {
             "colorbar": {
              "outlinewidth": 0,
              "ticks": ""
             }
            },
            "type": "scatter3d"
           }
          ],
          "scattercarpet": [
           {
            "marker": {
             "colorbar": {
              "outlinewidth": 0,
              "ticks": ""
             }
            },
            "type": "scattercarpet"
           }
          ],
          "scattergeo": [
           {
            "marker": {
             "colorbar": {
              "outlinewidth": 0,
              "ticks": ""
             }
            },
            "type": "scattergeo"
           }
          ],
          "scattergl": [
           {
            "marker": {
             "colorbar": {
              "outlinewidth": 0,
              "ticks": ""
             }
            },
            "type": "scattergl"
           }
          ],
          "scattermap": [
           {
            "marker": {
             "colorbar": {
              "outlinewidth": 0,
              "ticks": ""
             }
            },
            "type": "scattermap"
           }
          ],
          "scattermapbox": [
           {
            "marker": {
             "colorbar": {
              "outlinewidth": 0,
              "ticks": ""
             }
            },
            "type": "scattermapbox"
           }
          ],
          "scatterpolar": [
           {
            "marker": {
             "colorbar": {
              "outlinewidth": 0,
              "ticks": ""
             }
            },
            "type": "scatterpolar"
           }
          ],
          "scatterpolargl": [
           {
            "marker": {
             "colorbar": {
              "outlinewidth": 0,
              "ticks": ""
             }
            },
            "type": "scatterpolargl"
           }
          ],
          "scatterternary": [
           {
            "marker": {
             "colorbar": {
              "outlinewidth": 0,
              "ticks": ""
             }
            },
            "type": "scatterternary"
           }
          ],
          "surface": [
           {
            "colorbar": {
             "outlinewidth": 0,
             "ticks": ""
            },
            "colorscale": [
             [
              0,
              "#0d0887"
             ],
             [
              0.1111111111111111,
              "#46039f"
             ],
             [
              0.2222222222222222,
              "#7201a8"
             ],
             [
              0.3333333333333333,
              "#9c179e"
             ],
             [
              0.4444444444444444,
              "#bd3786"
             ],
             [
              0.5555555555555556,
              "#d8576b"
             ],
             [
              0.6666666666666666,
              "#ed7953"
             ],
             [
              0.7777777777777778,
              "#fb9f3a"
             ],
             [
              0.8888888888888888,
              "#fdca26"
             ],
             [
              1,
              "#f0f921"
             ]
            ],
            "type": "surface"
           }
          ],
          "table": [
           {
            "cells": {
             "fill": {
              "color": "#EBF0F8"
             },
             "line": {
              "color": "white"
             }
            },
            "header": {
             "fill": {
              "color": "#C8D4E3"
             },
             "line": {
              "color": "white"
             }
            },
            "type": "table"
           }
          ]
         },
         "layout": {
          "annotationdefaults": {
           "arrowcolor": "#2a3f5f",
           "arrowhead": 0,
           "arrowwidth": 1
          },
          "autotypenumbers": "strict",
          "coloraxis": {
           "colorbar": {
            "outlinewidth": 0,
            "ticks": ""
           }
          },
          "colorscale": {
           "diverging": [
            [
             0,
             "#8e0152"
            ],
            [
             0.1,
             "#c51b7d"
            ],
            [
             0.2,
             "#de77ae"
            ],
            [
             0.3,
             "#f1b6da"
            ],
            [
             0.4,
             "#fde0ef"
            ],
            [
             0.5,
             "#f7f7f7"
            ],
            [
             0.6,
             "#e6f5d0"
            ],
            [
             0.7,
             "#b8e186"
            ],
            [
             0.8,
             "#7fbc41"
            ],
            [
             0.9,
             "#4d9221"
            ],
            [
             1,
             "#276419"
            ]
           ],
           "sequential": [
            [
             0,
             "#0d0887"
            ],
            [
             0.1111111111111111,
             "#46039f"
            ],
            [
             0.2222222222222222,
             "#7201a8"
            ],
            [
             0.3333333333333333,
             "#9c179e"
            ],
            [
             0.4444444444444444,
             "#bd3786"
            ],
            [
             0.5555555555555556,
             "#d8576b"
            ],
            [
             0.6666666666666666,
             "#ed7953"
            ],
            [
             0.7777777777777778,
             "#fb9f3a"
            ],
            [
             0.8888888888888888,
             "#fdca26"
            ],
            [
             1,
             "#f0f921"
            ]
           ],
           "sequentialminus": [
            [
             0,
             "#0d0887"
            ],
            [
             0.1111111111111111,
             "#46039f"
            ],
            [
             0.2222222222222222,
             "#7201a8"
            ],
            [
             0.3333333333333333,
             "#9c179e"
            ],
            [
             0.4444444444444444,
             "#bd3786"
            ],
            [
             0.5555555555555556,
             "#d8576b"
            ],
            [
             0.6666666666666666,
             "#ed7953"
            ],
            [
             0.7777777777777778,
             "#fb9f3a"
            ],
            [
             0.8888888888888888,
             "#fdca26"
            ],
            [
             1,
             "#f0f921"
            ]
           ]
          },
          "colorway": [
           "#636efa",
           "#EF553B",
           "#00cc96",
           "#ab63fa",
           "#FFA15A",
           "#19d3f3",
           "#FF6692",
           "#B6E880",
           "#FF97FF",
           "#FECB52"
          ],
          "font": {
           "color": "#2a3f5f"
          },
          "geo": {
           "bgcolor": "white",
           "lakecolor": "white",
           "landcolor": "#E5ECF6",
           "showlakes": true,
           "showland": true,
           "subunitcolor": "white"
          },
          "hoverlabel": {
           "align": "left"
          },
          "hovermode": "closest",
          "mapbox": {
           "style": "light"
          },
          "paper_bgcolor": "white",
          "plot_bgcolor": "#E5ECF6",
          "polar": {
           "angularaxis": {
            "gridcolor": "white",
            "linecolor": "white",
            "ticks": ""
           },
           "bgcolor": "#E5ECF6",
           "radialaxis": {
            "gridcolor": "white",
            "linecolor": "white",
            "ticks": ""
           }
          },
          "scene": {
           "xaxis": {
            "backgroundcolor": "#E5ECF6",
            "gridcolor": "white",
            "gridwidth": 2,
            "linecolor": "white",
            "showbackground": true,
            "ticks": "",
            "zerolinecolor": "white"
           },
           "yaxis": {
            "backgroundcolor": "#E5ECF6",
            "gridcolor": "white",
            "gridwidth": 2,
            "linecolor": "white",
            "showbackground": true,
            "ticks": "",
            "zerolinecolor": "white"
           },
           "zaxis": {
            "backgroundcolor": "#E5ECF6",
            "gridcolor": "white",
            "gridwidth": 2,
            "linecolor": "white",
            "showbackground": true,
            "ticks": "",
            "zerolinecolor": "white"
           }
          },
          "shapedefaults": {
           "line": {
            "color": "#2a3f5f"
           }
          },
          "ternary": {
           "aaxis": {
            "gridcolor": "white",
            "linecolor": "white",
            "ticks": ""
           },
           "baxis": {
            "gridcolor": "white",
            "linecolor": "white",
            "ticks": ""
           },
           "bgcolor": "#E5ECF6",
           "caxis": {
            "gridcolor": "white",
            "linecolor": "white",
            "ticks": ""
           }
          },
          "title": {
           "x": 0.05
          },
          "xaxis": {
           "automargin": true,
           "gridcolor": "white",
           "linecolor": "white",
           "ticks": "",
           "title": {
            "standoff": 15
           },
           "zerolinecolor": "white",
           "zerolinewidth": 2
          },
          "yaxis": {
           "automargin": true,
           "gridcolor": "white",
           "linecolor": "white",
           "ticks": "",
           "title": {
            "standoff": 15
           },
           "zerolinecolor": "white",
           "zerolinewidth": 2
          }
         }
        },
        "title": {
         "text": "Interactive 3D PCA Projection"
        },
        "width": 1600
       }
      }
     },
     "metadata": {},
     "output_type": "display_data"
    }
   ],
   "source": [
    "alignment = \"stimulus_onset\"\n",
    "state_values = [\"biased_state\",\"unbiased_state\"]  # States\n",
    "\n",
    "# Define colors for each coherence level\n",
    "alignment_dict = ephys_config[\"alignment_settings_GP\"][alignment]\n",
    "conditions = [\n",
    "        \"coh_0_choice_toRF_corr\",\n",
    "        # \"coh_6_choice_toRF_corr\",\n",
    "        # \"coh_20_choice_toRF_corr\",\n",
    "        \"coh_50_choice_toRF_corr\",\n",
    "        # \"coh_0_choice_awayRF_corr\",\n",
    "        # \"coh_6_choice_awayRF_corr\",\n",
    "        # \"coh_20_choice_awayRF_corr\",\n",
    "        # \"coh_50_choice_awayRF_corr\"\n",
    "        ]\n",
    "\n",
    "if alignment == \"response_onset\":\n",
    "    timepoints_list = np.arange(0, alignment_dict[\"end_time_ms\"] - alignment_dict[\"start_time_ms\"] + 1, 50)\n",
    "else:\n",
    "    timepoints_list=np.arange(0, alignment_dict[\"end_time_ms\"] - alignment_dict[\"start_time_ms\"] + 1, 100)\n",
    "\n",
    "# Create a figure\n",
    "fig = go.Figure()\n",
    "plot_pca_projection_and_sem(fig, conditions, state_values,\n",
    "                    pc_projection_biased_state_toRF_prior[\"mean\"][alignment], pc_projection_unbiased_state_toRF_prior[\"mean\"][alignment], pc_projection_biased_state_toRF_prior[\"bootstrap_sem\"][alignment], pc_projection_unbiased_state_toRF_prior[\"bootstrap_sem\"][alignment],\n",
    "                    timepoints_list=timepoints_list, onset_time = - alignment_dict[\"start_time_ms\"], axes=(1,2))\n",
    "# Set plot labels\n",
    "fig.update_layout(\n",
    "    width = 1600,\n",
    "    height= 1200,\n",
    "    scene=dict(\n",
    "        xaxis_title=\"PC1\",\n",
    "        yaxis_title=\"PC2\",\n",
    "        zaxis_title=\"PC3\"\n",
    "    ),\n",
    "    title=\"Interactive 3D PCA Projection\"\n",
    ")\n",
    "\n",
    "fig.show()\n"
   ]
  }
 ],
 "metadata": {
  "kernelspec": {
   "display_name": "prior-sc",
   "language": "python",
   "name": "python3"
  },
  "language_info": {
   "codemirror_mode": {
    "name": "ipython",
    "version": 3
   },
   "file_extension": ".py",
   "mimetype": "text/x-python",
   "name": "python",
   "nbconvert_exporter": "python",
   "pygments_lexer": "ipython3",
   "version": "3.11.9"
  }
 },
 "nbformat": 4,
 "nbformat_minor": 2
}
