{
 "cells": [
  {
   "cell_type": "code",
   "execution_count": 2,
   "metadata": {},
   "outputs": [],
   "source": [
    "%matplotlib inline\n",
    "%load_ext autoreload\n",
    "%autoreload 2"
   ]
  },
  {
   "cell_type": "code",
   "execution_count": 3,
   "metadata": {},
   "outputs": [],
   "source": [
    "import numpy as np\n",
    "import numpy.random as npr\n",
    "import pandas as pd\n",
    "import matplotlib.pyplot as plt\n",
    "import matplotlib.gridspec as gridspec  # Import for custom grid layout\n",
    "from scipy import stats\n",
    "import pickle\n",
    "from sklearn.preprocessing import StandardScaler\n",
    "from sklearn.decomposition import PCA\n",
    "from sklearn.utils import resample\n",
    "from joblib import Parallel, delayed\n",
    "import plotly.graph_objects as go\n",
    "import plotly.express as px\n",
    "\n",
    "from notebooks.imports import *\n",
    "from config import dir_config, main_config, ephys_config\n",
    "from src.utils import pmf_utils, plot_utils, ephys_utils\n"
   ]
  },
  {
   "cell_type": "code",
   "execution_count": 4,
   "metadata": {},
   "outputs": [],
   "source": [
    "compiled_dir = Path(dir_config.data.compiled)\n",
    "processed_dir = Path(dir_config.data.processed)"
   ]
  },
  {
   "cell_type": "markdown",
   "metadata": {},
   "source": [
    "## Utils"
   ]
  },
  {
   "cell_type": "code",
   "execution_count": 5,
   "metadata": {},
   "outputs": [],
   "source": [
    "def get_neuron_condition_trials(sessions, trial_info):\n",
    "    \"\"\"\n",
    "    Optimized function to get neuron condition trials with reduced function calls.\n",
    "    \"\"\"\n",
    "    neuron_condition_dict = {}\n",
    "    conditions_list = [\n",
    "        (\"coh_0_choice_toRF_corr\", (0, 1)),\n",
    "        (\"coh_6_choice_toRF_corr\", (0.06, 1, 1)),\n",
    "        (\"coh_20_choice_toRF_corr\", (0.2, 1, 1)),\n",
    "        (\"coh_50_choice_toRF_corr\", (0.5, 1, 1)),\n",
    "        (\"coh_0_choice_awayRF_corr\", (0, 0)),\n",
    "        (\"coh_6_choice_awayRF_corr\", (0.06, 0, 1)),\n",
    "        (\"coh_20_choice_awayRF_corr\", (0.2, 0, 1)),\n",
    "        (\"coh_50_choice_awayRF_corr\", (0.5, 0, 1))\n",
    "    ]\n",
    "\n",
    "    for session_id in sessions:\n",
    "        neuron_ids = neuron_metadata.neuron_id[neuron_metadata.session_id == session_id].values\n",
    "        conditions = {key: np.array(ephys_utils.get_trial_num(trial_info[session_id], *vals)) for key, vals in conditions_list}\n",
    "        \n",
    "        for neuron_id in neuron_ids:\n",
    "            neuron_condition_dict[neuron_id] = conditions.copy()  # Use copy to prevent reference issues\n",
    "\n",
    "    return neuron_condition_dict\n",
    "\n",
    "def create_pca_matrix_by_condition(neuron_condition_dict, normalize = True):\n",
    "    conditions = [\n",
    "        \"coh_0_choice_toRF_corr\",\n",
    "        \"coh_6_choice_toRF_corr\",\n",
    "        \"coh_20_choice_toRF_corr\",\n",
    "        \"coh_50_choice_toRF_corr\",\n",
    "        \"coh_0_choice_awayRF_corr\",\n",
    "        \"coh_6_choice_awayRF_corr\",\n",
    "        \"coh_20_choice_awayRF_corr\",\n",
    "        \"coh_50_choice_awayRF_corr\"\n",
    "        ]\n",
    "    PCA_data = {event: [] for event in ephys_config[\"alignment_settings_GP\"].keys()}\n",
    "    condition_len = {event: {} for event in ephys_config[\"alignment_settings_GP\"].keys()}    \n",
    "\n",
    "    for alignment in ephys_config[\"alignment_settings_GP\"].keys():\n",
    "        for condition in conditions:\n",
    "            time_duration = ephys_config[\"alignment_settings_GP\"][alignment][\"end_time_ms\"] - ephys_config[\"alignment_settings_GP\"][alignment][\"start_time_ms\"] + 1\n",
    "            all_neuron_data = np.full((len(neuron_condition_dict.keys()), time_duration), np.nan)\n",
    "            for neuron_idx, neuron_id in enumerate(neuron_condition_dict.keys()):        \n",
    "                trials = neuron_condition_dict[neuron_id][condition]\n",
    "                condition_data = ephys_utils.get_neural_data_from_trial_num(ephys[alignment][neuron_id], trials, type=\"convolved_spike_trains\")\n",
    "                if alignment == \"stimulus_onset\":\n",
    "                    non_nan_50_prct_timepoint = np.where(np.sum(np.isnan(condition_data), axis=0)/len(trials) > 0.5)[0]\n",
    "                    if non_nan_50_prct_timepoint.size==0:\n",
    "                        non_nan_50_prct_timepoint = condition_data.shape[1]\n",
    "                    else:\n",
    "                        non_nan_50_prct_timepoint = non_nan_50_prct_timepoint[0] - 1\n",
    "\n",
    "                    neuron_array = condition_data[:,:non_nan_50_prct_timepoint]\n",
    "                    all_neuron_data[neuron_idx, :non_nan_50_prct_timepoint] = np.nanmean(neuron_array,axis=0)\n",
    "            \n",
    "                elif alignment == \"response_onset\":\n",
    "                    non_nan_50_prct_timepoint = np.where(np.sum(np.isnan(condition_data), axis=0)/len(trials) > 0.5)[0]\n",
    "                    if non_nan_50_prct_timepoint.size==0:\n",
    "                        non_nan_50_prct_timepoint = 0\n",
    "                    else:\n",
    "                        non_nan_50_prct_timepoint = non_nan_50_prct_timepoint[-1] + 1\n",
    "                    neuron_array = condition_data[:,non_nan_50_prct_timepoint:]\n",
    "                    all_neuron_data[neuron_idx, non_nan_50_prct_timepoint:] = np.nanmean(neuron_array,axis=0)\n",
    "                elif alignment == \"target_onset\":\n",
    "                    all_neuron_data[neuron_idx,:] = np.nanmean(condition_data,axis=0)\n",
    "\n",
    "            \n",
    "            all_non_nan_mask = ~np.any(np.isnan(all_neuron_data), axis=0)\n",
    "            all_neuron_data = all_neuron_data[:, all_non_nan_mask]\n",
    "            PCA_data[alignment].append(all_neuron_data)\n",
    "            if all_neuron_data.shape[1] == 0:\n",
    "                pass\n",
    "            condition_len[alignment][condition] = all_neuron_data.shape[1]\n",
    "\n",
    "        \n",
    "        PCA_data[alignment] = np.hstack(PCA_data[alignment])\n",
    "\n",
    "        if normalize:\n",
    "            scaler = StandardScaler()\n",
    "            PCA_data[alignment] = scaler.fit_transform(PCA_data[alignment].T).T\n",
    "\n",
    "    return PCA_data, condition_len\n",
    "\n",
    "def go_scatter(fig, x, y, z=None, name=\" \", color=None, markersize=2, linestyle=\"solid\", linewidth=2, mode=\"lines+markers\", opacity=0.8, showlegend=False):\n",
    "    \"\"\"Helper function to add a 2D or 3D scatter plot to a Plotly figure.\"\"\"\n",
    "    if z is None:\n",
    "        fig.add_trace(go.Scatter(\n",
    "            x=x, y=y,\n",
    "            mode=mode,\n",
    "            marker=dict(\n",
    "                size=markersize,\n",
    "                color=color if color is not None else 'black',\n",
    "                opacity=opacity\n",
    "            ),\n",
    "            line=dict(width=linewidth, dash=linestyle),\n",
    "            opacity=opacity,\n",
    "            name=name,\n",
    "            showlegend=showlegend\n",
    "        ))\n",
    "    else:\n",
    "        fig.add_trace(go.Scatter3d(\n",
    "            x=x, y=y, z=z,\n",
    "            mode=mode,\n",
    "            marker=dict(\n",
    "                size=markersize,\n",
    "                color=color if color is not None else 'black',\n",
    "                opacity=opacity\n",
    "            ),\n",
    "            line=dict(width=linewidth, dash=linestyle),\n",
    "            opacity=opacity,  \n",
    "            name=name,\n",
    "            showlegend=showlegend\n",
    "        ))\n",
    "\n",
    "def plot_pca_projection(fig, conditions, state_values,\n",
    "                        proj_biased_mean, proj_unbiased_mean,\n",
    "                        timepoints_list, onset_time, axes=(0, 1)):\n",
    "    \"\"\"\n",
    "    Function to plot PCA projections with SEM as shaded areas.\n",
    "    Now supports 2D and 3D plotting by choosing the number of axes.\n",
    "    \"\"\"\n",
    "    condition_dict = {\n",
    "        \"coh_0_choice_toRF_corr\": {\"index\": 0, \"color\": \"blue\", \"biased_lw\": 5, \"unbiased_lw\": 2, \"opacity\": 1},\n",
    "        \"coh_6_choice_toRF_corr\": {\"index\": 1, \"color\": \"green\", \"biased_lw\": 5, \"unbiased_lw\": 2, \"opacity\": 1},\n",
    "        \"coh_20_choice_toRF_corr\": {\"index\": 2, \"color\": \"orange\", \"biased_lw\": 5, \"unbiased_lw\": 2, \"opacity\":1},\n",
    "        \"coh_50_choice_toRF_corr\": {\"index\": 3, \"color\": \"red\", \"biased_lw\": 5, \"unbiased_lw\": 2, \"opacity\": 1},\n",
    "        \"coh_0_choice_awayRF_corr\": {\"index\": 4, \"color\": \"blue\", \"biased_lw\": 5, \"unbiased_lw\": 2, \"opacity\": 0.3},\n",
    "        \"coh_6_choice_awayRF_corr\": {\"index\": 5, \"color\": \"green\", \"biased_lw\": 5, \"unbiased_lw\": 2, \"opacity\": 0.3},\n",
    "        \"coh_20_choice_awayRF_corr\": {\"index\": 6, \"color\": \"orange\", \"biased_lw\": 5, \"unbiased_lw\": 2, \"opacity\": 0.3},\n",
    "        \"coh_50_choice_awayRF_corr\": {\"index\": 7, \"color\": \"red\", \"biased_lw\": 5, \"unbiased_lw\": 2, \"opacity\": 0.3},\n",
    "    }\n",
    "\n",
    "    for condition in conditions:\n",
    "        condition_params = condition_dict[condition]  # Extract plotting parameters\n",
    "        # condition = condition_params[\"index\"]\n",
    "        \n",
    "        for state in state_values:\n",
    "            name = f\"{condition}_{state}\"\n",
    "            # Select mean and parameters\n",
    "            if state == \"biased_state\":\n",
    "                mean = proj_biased_mean[condition]\n",
    "                linewidth = condition_params[\"biased_lw\"]\n",
    "            else:\n",
    "                mean = proj_unbiased_mean[condition]\n",
    "                linewidth = condition_params[\"unbiased_lw\"]\n",
    "\n",
    "            # Plot using the selected axes\n",
    "            if len(axes) == 2:\n",
    "                go_scatter(fig, mean[axes[0]], mean[axes[1]], \n",
    "                           name=name, color=condition_params[\"color\"], \n",
    "                           mode=\"lines\", linewidth=linewidth, opacity=condition_params[\"opacity\"],showlegend=True)\n",
    "            elif len(axes) == 3:\n",
    "                go_scatter(fig, mean[axes[0]], mean[axes[1]], mean[axes[2]],\n",
    "                           name=name, color=condition_params[\"color\"], \n",
    "                           mode=\"lines\", linewidth=linewidth, opacity=condition_params[\"opacity\"],showlegend=True)\n",
    "\n",
    "    # Highlight key time points\n",
    "    for idx, timepoint in enumerate(timepoints_list):\n",
    "        for condition in conditions:\n",
    "            condition_params = condition_dict[condition]\n",
    "            \n",
    "            for state in state_values:\n",
    "                marker_size = 8 if idx == 0 else 5\n",
    "                if state == \"biased_state\":\n",
    "                    if ~np.all(np.isnan(proj_biased_mean[condition][:,timepoint])):\n",
    "                        x, y = proj_biased_mean[condition][axes[0], timepoint], proj_biased_mean[condition][axes[1], timepoint]\n",
    "                        z = proj_biased_mean[condition][axes[2], timepoint] if len(axes) == 3 else None\n",
    "                        go_scatter(fig, [x], [y], [z] if z is not None else None,\n",
    "                           color=\"black\", markersize=marker_size, mode=\"markers\")\n",
    "                else:\n",
    "                    if ~np.all(np.isnan(proj_unbiased_mean[condition][:,timepoint])):\n",
    "                        x, y = proj_unbiased_mean[condition][axes[0], timepoint], proj_unbiased_mean[condition][axes[1], timepoint]\n",
    "                        z = proj_unbiased_mean[condition][axes[2], timepoint] if len(axes) == 3 else None \n",
    "                        go_scatter(fig, [x], [y], [z] if z is not None else None,\n",
    "                           color=\"black\", markersize=marker_size, mode=\"markers\")\n",
    "\n",
    "    # Mark onset time with violet dots\n",
    "    for condition in conditions:\n",
    "        condition_params = condition_dict[condition]\n",
    "        # condition = condition_params[\"index\"]\n",
    "        \n",
    "        for state in state_values:\n",
    "            if state == \"biased_state\":\n",
    "                if ~np.all(np.isnan(proj_biased_mean[condition][:,onset_time])):\n",
    "                    x, y = proj_biased_mean[condition][axes[0], onset_time], proj_biased_mean[condition][axes[1], onset_time]\n",
    "                    z = proj_biased_mean[condition][axes[2], onset_time] if len(axes) == 3 else None\n",
    "                    go_scatter(fig, [x], [y], [z] if z is not None else None,\n",
    "                       color=\"violet\", markersize=10, mode=\"markers\")\n",
    "            else:\n",
    "                if ~np.all(np.isnan(proj_unbiased_mean[condition][:,onset_time])):\n",
    "                    x, y = proj_unbiased_mean[condition][axes[0], onset_time], proj_unbiased_mean[condition][axes[1], onset_time]\n",
    "                    z = proj_unbiased_mean[condition][axes[2], onset_time] if len(axes) == 3 else None\n",
    "                    go_scatter(fig, [x], [y], [z] if z is not None else None,\n",
    "                       color=\"violet\", markersize=10, mode=\"markers\")\n",
    "                    \n",
    "    go_scatter(fig,[None],[None],[None] if len(axes) == 3 else None, name=\"Onset Time\", color=\"violet\", markersize=10, mode=\"markers\", showlegend=True)\n",
    "    go_scatter(fig,[None],[None],[None] if len(axes) == 3 else None, name=f\"{timepoints_list[1]-timepoints_list[0]}ms spacing\", color=\"black\", markersize=8, mode=\"markers\", showlegend=True)\n",
    "\n",
    "def plot_pca_projection_and_sem(fig, conditions, state_values,\n",
    "                        proj_biased_mean, proj_unbiased_mean,\n",
    "                        proj_biased_std, proj_unbiased_std,\n",
    "                        timepoints_list, onset_time, axes=(0, 1)):\n",
    "    \"\"\"\n",
    "    Function to plot PCA projections with Mean and Std as shaded areas.\n",
    "    Supports both 2D and 3D plotting.\n",
    "    \"\"\"\n",
    "    condition_dict = {\n",
    "        \"coh_0_choice_toRF_corr\": {\"color\": \"blue\", \"opacity\": 1},\n",
    "        \"coh_6_choice_toRF_corr\": {\"color\": \"green\", \"opacity\": 1},\n",
    "        \"coh_20_choice_toRF_corr\": {\"color\": \"orange\", \"opacity\": 1},\n",
    "        \"coh_50_choice_toRF_corr\": {\"color\": \"red\", \"opacity\": 1},\n",
    "        \"coh_0_choice_awayRF_corr\": {\"color\": \"blue\", \"opacity\": 0.3},\n",
    "        \"coh_6_choice_awayRF_corr\": {\"color\": \"green\", \"opacity\": 0.3},\n",
    "        \"coh_20_choice_awayRF_corr\": {\"color\": \"orange\", \"opacity\": 0.3},\n",
    "        \"coh_50_choice_awayRF_corr\": {\"color\": \"red\", \"opacity\": 0.3},\n",
    "    }\n",
    "    \n",
    "    for condition in conditions:\n",
    "        condition_params = condition_dict[condition]\n",
    "        color = condition_params[\"color\"]\n",
    "        opacity = condition_params[\"opacity\"]\n",
    "        \n",
    "        for state in state_values:\n",
    "            name = f\"{condition}_{state}\"\n",
    "            \n",
    "            if state == \"biased_state\":\n",
    "                mean = proj_biased_mean[condition]\n",
    "                std = proj_biased_std[condition]\n",
    "            else:\n",
    "                mean = proj_unbiased_mean[condition]\n",
    "                std = proj_unbiased_std[condition]\n",
    "            if len(axes) == 2:\n",
    "                valid_mask = ~np.isnan(mean[axes[0]]) & ~np.isnan(std[axes[0]]) & ~np.isnan(mean[axes[1]]) & ~np.isnan(std[axes[1]])\n",
    "                # Plot mean\n",
    "                go_scatter(fig, mean[axes[0]][valid_mask], mean[axes[1]][valid_mask], \n",
    "                           name=name, color=color, mode=\"lines\", linewidth=2, opacity=opacity, showlegend=True)\n",
    "                # Plot standard deviation as shaded area\n",
    "                x_valid = np.concatenate([\n",
    "                    (mean[axes[0]][valid_mask] + std[axes[0]][valid_mask]*5), \n",
    "                    (mean[axes[0]][valid_mask] - std[axes[0]][valid_mask]*5)[::-1]])\n",
    "                y_valid = np.concatenate([\n",
    "                    (mean[axes[1]][valid_mask] + std[axes[1]][valid_mask]*5), \n",
    "                    (mean[axes[1]][valid_mask] - std[axes[1]][valid_mask]*5)[::-1]])\n",
    "                fig.add_trace(go.Scatter(\n",
    "                    x=x_valid, \n",
    "                    y=y_valid,\n",
    "                    fill='toself',\n",
    "                    fillcolor=color,\n",
    "                    opacity=0.2,\n",
    "                    line=dict(width=0),\n",
    "                    showlegend=False,\n",
    "                    name=f\"{name}_std\"\n",
    "                ))\n",
    "\n",
    "            elif len(axes) == 3:\n",
    "                # Plot mean\n",
    "                go_scatter(fig, mean[axes[0]], mean[axes[1]], mean[axes[2]],\n",
    "                           name=name, color=color, mode=\"lines\", linewidth=2, opacity=opacity, showlegend=True)\n",
    "                # Plot standard deviation as lines (shading is not directly possible in 3D)\n",
    "                for std_offset in [-1, 1]:\n",
    "                # Offset for all three axes\n",
    "                    go_scatter(fig, \n",
    "                            mean[axes[0]] + std_offset * std[axes[0]],  # X with std\n",
    "                            mean[axes[1]] + std_offset * std[axes[1]],  # Y with std\n",
    "                            mean[axes[2]] + std_offset * std[axes[2]],  # Z with std\n",
    "                            name=f\"{name}_std\", color=color, mode=\"lines\", opacity=0.2, showlegend=False)\n",
    "\n",
    "    # Highlight key time points\n",
    "    for idx, timepoint in enumerate(timepoints_list):\n",
    "        for condition in conditions:\n",
    "            condition_params = condition_dict[condition]\n",
    "            \n",
    "            for state in state_values:\n",
    "                marker_size = 8 if idx == 0 else 5\n",
    "                if state == \"biased_state\":\n",
    "                    if ~np.all(np.isnan(proj_biased_mean[condition][:,timepoint])):\n",
    "                        x, y = proj_biased_mean[condition][axes[0], timepoint], proj_biased_mean[condition][axes[1], timepoint]\n",
    "                        z = proj_biased_mean[condition][axes[2], timepoint] if len(axes) == 3 else None\n",
    "                        go_scatter(fig, [x], [y], [z] if z is not None else None,\n",
    "                           color=\"black\", markersize=marker_size, mode=\"markers\")\n",
    "                else:\n",
    "                    if ~np.all(np.isnan(proj_unbiased_mean[condition][:,timepoint])):\n",
    "                        x, y = proj_unbiased_mean[condition][axes[0], timepoint], proj_unbiased_mean[condition][axes[1], timepoint]\n",
    "                        z = proj_unbiased_mean[condition][axes[2], timepoint] if len(axes) == 3 else None \n",
    "                        go_scatter(fig, [x], [y], [z] if z is not None else None,\n",
    "                           color=\"black\", markersize=marker_size, mode=\"markers\")\n",
    "                        \n",
    "    # Mark onset time with violet dots\n",
    "    for condition in conditions:\n",
    "        for state in state_values:\n",
    "            if state == \"biased_state\":\n",
    "                mean = proj_biased_mean[condition]\n",
    "            else:\n",
    "                mean = proj_unbiased_mean[condition]\n",
    "            \n",
    "            if ~np.all(np.isnan(mean[:, onset_time])):\n",
    "                x, y = mean[axes[0], onset_time], mean[axes[1], onset_time]\n",
    "                z = mean[axes[2], onset_time] if len(axes) == 3 else None\n",
    "                go_scatter(fig, [x], [y], [z] if z is not None else None,\n",
    "                           color=\"violet\", markersize=10, mode=\"markers\")\n",
    "    \n",
    "    go_scatter(fig,[None],[None],[None] if len(axes) == 3 else None, name=\"Onset Time\", color=\"violet\", markersize=10, mode=\"markers\", showlegend=True)\n",
    "    go_scatter(fig,[None],[None],[None] if len(axes) == 3 else None, name=f\"{timepoints_list[1]-timepoints_list[0]}ms spacing\", color=\"black\", markersize=8, mode=\"markers\", showlegend=True)\n",
    "\n",
    "def bootstrap_iteration(idx_bootstrap, neuron_condition_dict, pc_weights, normalize): \n",
    "    \"\"\"\n",
    "    Optimized bootstrap iteration using NumPy and vectorized operations.\n",
    "    \"\"\"  \n",
    "    # Only resample trials, avoiding unnecessary dictionary modifications\n",
    "    bootstrapped_dict = {\n",
    "        neuron_id: {cond: (resample(trials, random_state=idx_bootstrap) if idx_bootstrap > 0 else trials)\n",
    "                    for cond, trials in conditions.items()}\n",
    "        for neuron_id, conditions in neuron_condition_dict.items()\n",
    "    }\n",
    "\n",
    "    # Generate PCA data\n",
    "    PCA_data, cond_len = create_pca_matrix_by_condition(bootstrapped_dict, normalize=normalize)\n",
    "\n",
    "    pc_proj_cond = {\n",
    "        alignment: split_array_by_cond(\n",
    "            pc_weights[alignment][:, :3].T @ PCA_data[alignment], \n",
    "            cond_len[alignment], \n",
    "            alignment\n",
    "        )\n",
    "        for alignment in ephys_config[\"alignment_settings_GP\"]\n",
    "    }\n",
    "\n",
    "    # return idx_bootstrap, pc_proj_cond\n",
    "    return pc_proj_cond\n",
    "\n",
    "def bootstrap_PCA(sessions, trial_info, pc_weights, normalize=True, n_bootstraps=1000):\n",
    "    \"\"\"\n",
    "    Optimized parallelized PCA bootstrapping.\n",
    "    \"\"\"\n",
    "    pc_projection = {\n",
    "        \"mean\": {event: None for event in ephys_config[\"alignment_settings_GP\"]},\n",
    "        \"bootstrap_sem\": {event: {} for event in ephys_config[\"alignment_settings_GP\"]},\n",
    "        \"bootstrap\": {event: [] for event in ephys_config[\"alignment_settings_GP\"]}\n",
    "    }\n",
    "\n",
    "    # Precompute neuron condition trials once to avoid redundancy\n",
    "    neuron_condition_dict = get_neuron_condition_trials(sessions, trial_info)\n",
    "\n",
    "    # Run bootstrap iterations in parallel\n",
    "    results = Parallel(n_jobs=-1, backend=\"loky\", batch_size=10, verbose=True)(\n",
    "        delayed(bootstrap_iteration)(idx, neuron_condition_dict, pc_weights, normalize)\n",
    "        for idx in range(n_bootstraps + 1)\n",
    "    )\n",
    "\n",
    "    # Process results efficiently\n",
    "    for alignment in ephys_config[\"alignment_settings_GP\"]:\n",
    "        first_result = results[0][alignment]\n",
    "        bootstrap_results = np.array([proj[alignment] for proj in results[1:]])\n",
    "\n",
    "        pc_projection[\"mean\"][alignment] = first_result\n",
    "        pc_projection[\"bootstrap\"][alignment] = bootstrap_results      \n",
    "        for condition in first_result.keys():\n",
    "            pc_projection[\"bootstrap_sem\"][alignment][condition] = stats.sem(\n",
    "                np.array([bootstrap_results[iteration][condition] for iteration in range(len(bootstrap_results))]), axis=0, nan_policy='omit')\n",
    "\n",
    "    return pc_projection\n",
    "\n",
    "def split_array_by_cond(data, array_lengths,alignment):\n",
    "    duration = ephys_config[\"alignment_settings_GP\"][alignment][\"end_time_ms\"] - ephys_config[\"alignment_settings_GP\"][alignment][\"start_time_ms\"] + 1\n",
    "    split_arrays = {key: np.full((3,duration), np.nan) for key in array_lengths.keys()}\n",
    "    start_idx = 0\n",
    "    # print(array_lengths)\n",
    "    for key, length in array_lengths.items():        \n",
    "        end_idx = start_idx + length\n",
    "        # print(start_idx, end_idx)\n",
    "\n",
    "        if alignment == \"response_onset\":\n",
    "            split_arrays[key][:,-(end_idx-start_idx):] = data[:, start_idx:end_idx]\n",
    "        else:\n",
    "            split_arrays[key][:,:(end_idx-start_idx)] = data[:, start_idx:end_idx]\n",
    "        start_idx = end_idx\n",
    "    return split_arrays\n"
   ]
  },
  {
   "cell_type": "markdown",
   "metadata": {},
   "source": [
    "## Load Data"
   ]
  },
  {
   "cell_type": "code",
   "execution_count": 25,
   "metadata": {},
   "outputs": [],
   "source": [
    "with open(Path(processed_dir, f'glm_hmm_all_trials_prior_based_initialization_final.pkl'), 'rb') as f:\n",
    "    glm_hmm = pickle.load(f)\n",
    "\n",
    "with open(Path(processed_dir, f'ephys_neuron_wise.pkl'), 'rb') as f:\n",
    "    ephys = pickle.load(f)\n",
    "\n",
    "session_metadata = pd.read_csv(Path(compiled_dir, 'sessions_metadata.csv'))\n",
    "neuron_metadata = pd.read_csv(Path(compiled_dir, 'neuron_metadata.csv'))\n",
    "\n",
    "session_to_exclude = [\"210210_GP_JP\",\"241209_GP_TZ\"]\n",
    "session_metadata = session_metadata[~session_metadata[\"session_id\"].isin(session_to_exclude)]\n",
    "neuron_metadata = neuron_metadata[~neuron_metadata[\"session_id\"].isin(session_to_exclude)]"
   ]
  },
  {
   "cell_type": "markdown",
   "metadata": {},
   "source": [
    "## Extract biased and unbiased states, toRF and awayRF prior sessions"
   ]
  },
  {
   "cell_type": "code",
   "execution_count": 26,
   "metadata": {},
   "outputs": [],
   "source": [
    "toRF_sessions = session_metadata[\"session_id\"][session_metadata.prior_direction == \"toRF\"]\n",
    "awayRF_sessions = session_metadata[\"session_id\"][session_metadata.prior_direction == \"awayRF\"]"
   ]
  },
  {
   "cell_type": "code",
   "execution_count": 27,
   "metadata": {},
   "outputs": [],
   "source": [
    "state_occupancy = {}\n",
    "for idx_session, session_id in enumerate(glm_hmm[\"session_wise\"][\"data\"]):\n",
    "    model = glm_hmm[\"session_wise\"][\"models\"][session_id]\n",
    "    choices = glm_hmm[\"session_wise\"][\"data\"][session_id][\"choices\"].values.reshape(-1, 1)\n",
    "    input = np.array(glm_hmm[\"session_wise\"][\"data\"][session_id][[\"normalized_stimulus\",\"bias\",\"previous_choice\",\"previous_target\"]])\n",
    "    if glm_hmm[\"session_wise\"][\"data\"][session_id][\"mask\"] is None:\n",
    "        mask = None\n",
    "    else:\n",
    "        mask = glm_hmm[\"session_wise\"][\"data\"][session_id][\"mask\"]\n",
    "    mask = np.ones_like(choices, dtype=bool) if mask is None else mask\n",
    "\n",
    "    posterior_probs = model.expected_states(data=choices, input=input, mask=np.array(mask).reshape(-1,1))[0]\n",
    "    biased_idx = (posterior_probs[:, 1] > 0.5) & np.array(mask)\n",
    "    unbiased_idx = (posterior_probs[:, 0] > 0.5) & np.array(mask)\n",
    "    state_occupancy[session_id] = {\n",
    "        \"biased_state_trials\": glm_hmm[\"session_wise\"][\"data\"][session_id][\"trial_num\"][biased_idx],\n",
    "        \"unbiased_state_trials\": glm_hmm[\"session_wise\"][\"data\"][session_id][\"trial_num\"][unbiased_idx]}\n"
   ]
  },
  {
   "cell_type": "code",
   "execution_count": 28,
   "metadata": {},
   "outputs": [],
   "source": [
    "biased_state_trial_info = {}\n",
    "unbiased_state_trial_info = {}\n",
    "for session_id in session_metadata.session_id:\n",
    "    biased_state_trials = state_occupancy[session_id][\"biased_state_trials\"]\n",
    "    biased_state_trial_info[session_id] = glm_hmm[\"session_wise\"][\"data\"][session_id].loc[np.isin(glm_hmm[\"session_wise\"][\"data\"][session_id][\"trial_num\"], biased_state_trials)]\n",
    "    unbiased_state_trials = state_occupancy[session_id][\"unbiased_state_trials\"]\n",
    "    unbiased_state_trial_info[session_id] = glm_hmm[\"session_wise\"][\"data\"][session_id].loc[np.isin(glm_hmm[\"session_wise\"][\"data\"][session_id][\"trial_num\"], unbiased_state_trials)]"
   ]
  },
  {
   "cell_type": "markdown",
   "metadata": {},
   "source": [
    "## Ephys!!!"
   ]
  },
  {
   "cell_type": "markdown",
   "metadata": {},
   "source": [
    "### Preprocessing for PCA"
   ]
  },
  {
   "cell_type": "code",
   "execution_count": 29,
   "metadata": {},
   "outputs": [],
   "source": [
    "PCA_data_toRF,_ = create_pca_matrix_by_condition(get_neuron_condition_trials(toRF_sessions, glm_hmm[\"session_wise\"][\"data\"]), normalize = True)\n",
    "PCA_data_awayRF,_ = create_pca_matrix_by_condition(get_neuron_condition_trials(awayRF_sessions, glm_hmm[\"session_wise\"][\"data\"]), normalize = True)"
   ]
  },
  {
   "cell_type": "markdown",
   "metadata": {},
   "source": [
    "### Compute PCA"
   ]
  },
  {
   "cell_type": "code",
   "execution_count": 30,
   "metadata": {},
   "outputs": [],
   "source": [
    "n_components = 10\n",
    "pca = PCA(n_components=n_components)\n",
    "toRF_pc, toRF_pc_weights = {}, {}\n",
    "awayRF_pc, awayRF_pc_weights = {}, {}\n",
    "for alignment in ephys_config[\"alignment_settings_GP\"].keys():\n",
    "    toRF_pc[alignment] = pca.fit(PCA_data_toRF[alignment])\n",
    "    toRF_pc_weights[alignment] = pca.fit_transform(PCA_data_toRF[alignment])\n",
    "    awayRF_pc[alignment] = pca.fit(PCA_data_awayRF[alignment])\n",
    "    awayRF_pc_weights[alignment] = pca.fit_transform(PCA_data_awayRF[alignment])"
   ]
  },
  {
   "cell_type": "markdown",
   "metadata": {},
   "source": [
    "### Projections"
   ]
  },
  {
   "cell_type": "code",
   "execution_count": 31,
   "metadata": {},
   "outputs": [],
   "source": [
    "PCA_data_prior_toRF_biased_state, cond_len_prior_to_RF_biased_state = create_pca_matrix_by_condition(get_neuron_condition_trials(toRF_sessions, biased_state_trial_info), normalize = True)\n",
    "PCA_data_prior_toRF_unbiased_state,  cond_len_prior_to_RF_unbiased_state = create_pca_matrix_by_condition(get_neuron_condition_trials(toRF_sessions, unbiased_state_trial_info), normalize = True)"
   ]
  },
  {
   "cell_type": "code",
   "execution_count": 32,
   "metadata": {},
   "outputs": [],
   "source": [
    "# project neural data onto first 3 PCs\n",
    "pc_biased_state_conds, pc_unbiased_state_conds = {},{}\n",
    "for alignment in ephys_config[\"alignment_settings_GP\"].keys():\n",
    "    pc_proj_biased_state = (toRF_pc_weights[alignment][:,:3].T @ PCA_data_prior_toRF_biased_state[alignment])\n",
    "    pc_proj_unbiased_state = (toRF_pc_weights[alignment][:,:3].T @ PCA_data_prior_toRF_unbiased_state[alignment])\n",
    "    # split by conditions\n",
    "    pc_biased_state_conds[alignment] = split_array_by_cond(pc_proj_biased_state, cond_len_prior_to_RF_biased_state[alignment], alignment)\n",
    "    pc_unbiased_state_conds[alignment] = split_array_by_cond(pc_proj_unbiased_state, cond_len_prior_to_RF_unbiased_state[alignment], alignment)"
   ]
  },
  {
   "cell_type": "markdown",
   "metadata": {},
   "source": [
    "### Project dpca axes onto pc subspace"
   ]
  },
  {
   "cell_type": "code",
   "execution_count": null,
   "metadata": {},
   "outputs": [],
   "source": [
    "with open(Path(processed_dir, f'dpca_results.pkl'), 'rb') as f:\n",
    "    dpca_dict = pickle.load(f)\n",
    "\n",
    "dpca_results = dpca_dict[\"results\"]"
   ]
  },
  {
   "cell_type": "code",
   "execution_count": 21,
   "metadata": {},
   "outputs": [],
   "source": [
    "choice_axis = {\"toRF_prior\": {}, \"awayRF_prior\": {}}\n",
    "time_axis = {\"toRF_prior\": {}, \"awayRF_prior\": {}}\n",
    "stimulus_axis = {\"toRF_prior\": {}, \"awayRF_prior\": {}}\n",
    "bias_axis = {\"toRF_prior\": {}, \"awayRF_prior\": {}}\n",
    "\n",
    "for prior_idx, prior in enumerate([\"toRF_prior\", \"awayRF_prior\"]):\n",
    "    for alignment in ephys_config[\"alignment_settings_GP\"]:\n",
    "        choice_axis[prior][alignment] = dpca_results[prior][alignment][\"model\"].D['c'][:,0]\n",
    "        time_axis[prior][alignment] = dpca_results[prior][alignment][\"model\"].D['t'][:,0]\n",
    "        stimulus_axis[prior][alignment] = dpca_results[prior][alignment][\"model\"].D['s'][:,0]\n",
    "        bias_axis[prior][alignment] = dpca_results[prior][alignment][\"model\"].D['b'][:,0]"
   ]
  },
  {
   "cell_type": "code",
   "execution_count": 33,
   "metadata": {},
   "outputs": [
    {
     "data": {
      "text/plain": [
       "((3, 86), (86,))"
      ]
     },
     "execution_count": 33,
     "metadata": {},
     "output_type": "execute_result"
    }
   ],
   "source": [
    "toRF_pc_weights[alignment][:,:3].T.shape, choice_axis['toRF_prior'][alignment].shape"
   ]
  },
  {
   "cell_type": "code",
   "execution_count": 34,
   "metadata": {},
   "outputs": [
    {
     "data": {
      "text/plain": [
       "array([ 68.55391014,  25.44774056, -27.9048165 ])"
      ]
     },
     "execution_count": 34,
     "metadata": {},
     "output_type": "execute_result"
    }
   ],
   "source": [
    "alignment = \"response_onset\"\n",
    "toRF_pc_weights[alignment][:,:3].T @ choice_axis['toRF_prior'][alignment]"
   ]
  },
  {
   "cell_type": "markdown",
   "metadata": {},
   "source": [
    "#### bootstrap"
   ]
  },
  {
   "cell_type": "code",
   "execution_count": 14,
   "metadata": {},
   "outputs": [
    {
     "name": "stderr",
     "output_type": "stream",
     "text": [
      "[Parallel(n_jobs=-1)]: Using backend LokyBackend with 16 concurrent workers.\n",
      "[Parallel(n_jobs=-1)]: Done 212 tasks      | elapsed:   56.6s\n",
      "[Parallel(n_jobs=-1)]: Done 970 out of 1001 | elapsed:  2.3min remaining:    4.3s\n",
      "[Parallel(n_jobs=-1)]: Done 1001 out of 1001 | elapsed:  2.3min finished\n"
     ]
    }
   ],
   "source": [
    "pc_projection_biased_state_toRF_prior = bootstrap_PCA(toRF_sessions, biased_state_trial_info, toRF_pc_weights, normalize=True)"
   ]
  },
  {
   "cell_type": "code",
   "execution_count": 15,
   "metadata": {},
   "outputs": [
    {
     "name": "stderr",
     "output_type": "stream",
     "text": [
      "[Parallel(n_jobs=-1)]: Using backend LokyBackend with 16 concurrent workers.\n",
      "[Parallel(n_jobs=-1)]: Done 212 tasks      | elapsed: 32.1min\n",
      "[Parallel(n_jobs=-1)]: Done 1001 out of 1001 | elapsed: 33.5min finished\n"
     ]
    }
   ],
   "source": [
    "pc_projection_unbiased_state_toRF_prior = bootstrap_PCA(toRF_sessions, unbiased_state_trial_info, toRF_pc_weights, normalize=True)"
   ]
  },
  {
   "cell_type": "code",
   "execution_count": 16,
   "metadata": {},
   "outputs": [
    {
     "name": "stderr",
     "output_type": "stream",
     "text": [
      "[Parallel(n_jobs=-1)]: Using backend LokyBackend with 16 concurrent workers.\n",
      "[Parallel(n_jobs=-1)]: Done 212 tasks      | elapsed: 31.2min\n",
      "[Parallel(n_jobs=-1)]: Done 1001 out of 1001 | elapsed: 32.5min finished\n"
     ]
    }
   ],
   "source": [
    "pc_projection_biased_state_awayRF_prior = bootstrap_PCA(awayRF_sessions, biased_state_trial_info, awayRF_pc_weights, normalize=True)"
   ]
  },
  {
   "cell_type": "code",
   "execution_count": null,
   "metadata": {},
   "outputs": [],
   "source": [
    "pc_projection_unbiased_state_awayRF_prior = bootstrap_PCA(awayRF_sessions, unbiased_state_trial_info, awayRF_pc_weights, normalize=True)"
   ]
  },
  {
   "cell_type": "code",
   "execution_count": null,
   "metadata": {},
   "outputs": [],
   "source": [
    "pc_projection = {\"toRF_prior\": {\n",
    "                    \"biased_state\": pc_projection_biased_state_toRF_prior, \n",
    "                    \"unbiased_state\": pc_projection_unbiased_state_toRF_prior\n",
    "                    },\n",
    "                \"awayRF_prior\": {\n",
    "                    \"biased_state\": pc_projection_biased_state_awayRF_prior,\n",
    "                    \"unbiased_state\": pc_projection_unbiased_state_awayRF_prior\n",
    "                    },\n",
    "                }\n",
    "\n",
    "\n",
    "import pickle\n",
    "with open(Path(processed_dir, f'pc_projection.pkl'), 'wb') as f:\n",
    "    pickle.dump(pc_projection, f)"
   ]
  },
  {
   "cell_type": "code",
   "execution_count": 67,
   "metadata": {},
   "outputs": [],
   "source": [
    "import pickle\n",
    "with open(Path(processed_dir, f'pc_projection.pkl'), 'rb') as f:\n",
    "    pc_projection = pickle.load(f)"
   ]
  },
  {
   "cell_type": "code",
   "execution_count": 68,
   "metadata": {},
   "outputs": [],
   "source": [
    "pc_projection_biased_state_awayRF_prior = pc_projection[\"awayRF_prior\"][\"biased_state\"]\n",
    "pc_projection_unbiased_state_awayRF_prior = pc_projection[\"awayRF_prior\"][\"unbiased_state\"]"
   ]
  },
  {
   "cell_type": "markdown",
   "metadata": {},
   "source": [
    "## Plot neural trajectories"
   ]
  },
  {
   "cell_type": "code",
   "execution_count": 57,
   "metadata": {},
   "outputs": [],
   "source": [
    "def add_axis_arrow(fig,x,y,z,color='red',legend=None):\n",
    "\n",
    "    # Create the vector line\n",
    "    line = go.Scatter3d(\n",
    "        x=[0, x],  # Start and end x-coordinates\n",
    "        y=[0, y],  # Start and end y-coordinates\n",
    "        z=[0, z],  # Start and end z-coordinates\n",
    "        mode='lines',  \n",
    "        line=dict(color=color, width=6),\n",
    "        name=legend\n",
    "    )\n",
    "\n",
    "    # Create the arrowhead using a Cone\n",
    "    arrow = go.Cone(\n",
    "        x=[x],  # Arrowhead at the endpoint\n",
    "        y=[y],  \n",
    "        z=[z],  \n",
    "        u=[x],  # Vector direction\n",
    "        v=[y],  \n",
    "        w=[z],  \n",
    "        sizemode=\"absolute\",\n",
    "        sizeref=100,  # Adjust the size of the arrowhead\n",
    "        anchor=\"tail\",\n",
    "        colorscale=[[0, 'red'], [1, 'red']],\n",
    "        showscale=False\n",
    "    )\n",
    "\n",
    "    # Create the figure\n",
    "    fig.add_trace(line)\n",
    "    fig.add_trace(arrow)\n"
   ]
  },
  {
   "cell_type": "markdown",
   "metadata": {},
   "source": [
    "#### toRF prior sessions"
   ]
  },
  {
   "cell_type": "code",
   "execution_count": 75,
   "metadata": {},
   "outputs": [
    {
     "data": {
      "application/vnd.plotly.v1+json": {
       "config": {
        "plotlyServerURL": "https://plot.ly"
       },
       "data": [
        {
         "line": {
          "dash": "solid",
          "width": 2
         },
         "marker": {
          "color": "blue",
          "opacity": 1,
          "size": 2
         },
         "mode": "lines",
         "name": "coh_0_choice_toRF_corr_unbiased_state",
         "opacity": 1,
         "showlegend": true,
         "type": "scatter3d",
         "x": {
          "bdata": "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",
          "dtype": "f8"
         },
         "y": {
          "bdata": "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",
          "dtype": "f8"
         },
         "z": {
          "bdata": "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",
          "dtype": "f8"
         }
        },
        {
         "line": {
          "dash": "solid",
          "width": 2
         },
         "marker": {
          "color": "green",
          "opacity": 1,
          "size": 2
         },
         "mode": "lines",
         "name": "coh_6_choice_toRF_corr_unbiased_state",
         "opacity": 1,
         "showlegend": true,
         "type": "scatter3d",
         "x": {
          "bdata": "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",
          "dtype": "f8"
         },
         "y": {
          "bdata": "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",
          "dtype": "f8"
         },
         "z": {
          "bdata": "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",
          "dtype": "f8"
         }
        },
        {
         "line": {
          "dash": "solid",
          "width": 2
         },
         "marker": {
          "color": "orange",
          "opacity": 1,
          "size": 2
         },
         "mode": "lines",
         "name": "coh_20_choice_toRF_corr_unbiased_state",
         "opacity": 1,
         "showlegend": true,
         "type": "scatter3d",
         "x": {
          "bdata": "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",
          "dtype": "f8"
         },
         "y": {
          "bdata": "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",
          "dtype": "f8"
         },
         "z": {
          "bdata": "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",
          "dtype": "f8"
         }
        },
        {
         "line": {
          "dash": "solid",
          "width": 2
         },
         "marker": {
          "color": "red",
          "opacity": 1,
          "size": 2
         },
         "mode": "lines",
         "name": "coh_50_choice_toRF_corr_unbiased_state",
         "opacity": 1,
         "showlegend": true,
         "type": "scatter3d",
         "x": {
          "bdata": "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",
          "dtype": "f8"
         },
         "y": {
          "bdata": "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",
          "dtype": "f8"
         },
         "z": {
          "bdata": "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",
          "dtype": "f8"
         }
        },
        {
         "line": {
          "dash": "solid",
          "width": 2
         },
         "marker": {
          "color": "blue",
          "opacity": 0.3,
          "size": 2
         },
         "mode": "lines",
         "name": "coh_0_choice_awayRF_corr_unbiased_state",
         "opacity": 0.3,
         "showlegend": true,
         "type": "scatter3d",
         "x": {
          "bdata": "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",
          "dtype": "f8"
         },
         "y": {
          "bdata": "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",
          "dtype": "f8"
         },
         "z": {
          "bdata": "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",
          "dtype": "f8"
         }
        },
        {
         "line": {
          "dash": "solid",
          "width": 2
         },
         "marker": {
          "color": "green",
          "opacity": 0.3,
          "size": 2
         },
         "mode": "lines",
         "name": "coh_6_choice_awayRF_corr_unbiased_state",
         "opacity": 0.3,
         "showlegend": true,
         "type": "scatter3d",
         "x": {
          "bdata": "57aUoYPCiMCmPeNUhvuIwHQ1BifySonA6h4mu3SUicD3GnPKouWJwBTG3TmCPIrAcY/v8YSTisD06xqL1/OKwHVWCF4iSIvAQOYDm0ubi8Ca+/qFLeGLwBcg2pZgGIzA8rcL2dFCjMAkNB5MC1SMwHDrc1axYYzAv1QzxYRdjMAcLFPq3UGMwPmlIo0/F4zAfzCiNVnTi8CxWundhnyLwLFyegIjFovA/jFaadGnisCdPm+a9DWKwLadZ9QPyInAilrgufdWicBBBbkMKeiIwOrs6tYRjYjA5cfNgxA0iMC6W8rbqPSHwAz3dkTfyIfARE+Zfh2sh8BatH/yEJmHwAcWw1O3pIfATiNdcPXKh8DazOrSU/yHwLlDHCDJQIjAmFlewMCGiMBM7bl9MuKIwBRG7cJxOYnAER1EvbGYicDlTkdXAPGJwBqg/arhNorAGpfVn3B6isDAtmUI4Z2KwBntuW0/torAebjvZBnLisBUKqveRr+KwOFlvtKPnYrASsXQQ7VsisCNVy4uMy6KwCx/1jFM2onA/c1bSeh7icB9UYTo4RKJwJzpGjo5rYjAvUrmfo1SiMCh4EEDZ/WHwEgv1W5xrofA0g4nmWd7h8B126uomleHwJFue9d0Q4fAjdZdrdRHh8AefGTfp2uHwG3divgYl4fAUOS6Jbrah8DXh7XZEUGIwBRCNF56q4jAhcpxgxEjicDuxO1tj5iJwD1vRdY5AYrA1XVZQuBzisCTCtIjpsyKwJHQe/JgJovAY6TG9N1ti8D7JKCzlqOLwMzbG4O/zYvAprW7edbRi8DVKoy0a8mLwK+vsa/DrovA+YqqdOaGi8CflWJ2C1eLwPUsiyxdFIvAqNI8V3jNisBPQWC1IHiKwJDBGnS7IYrAzL9qssiyicCRUZGwaUSJwBlUXVr6zIjAVjIzYnhXiMDatWGm4dyHwPaDW7z/X4fAdM3ga+XNhsApo/6aoz6GwAK0U2KYrIXAwHUmT/0LhcChngluulqEwM0PbAJnsIPAUrLvJrn2gsBq67LLwjaCwJ3YGR+SZYHASGu3Uw2jgMDOqU/KKL9/wIpcnkUwLX7AA3+9hFCffMDky0d+Lv16wIcfAWufhHnAjWtvspgKeMDypNwczmN2wCQWR75eAnXA3cT2lQWoc8Cs49sybDlywK2frarC6HDAlpax9bo2b8Bj3bV5QcZswNwZp5xNO2rAt0/dueOvZ8Bg21N0olFlwPu4PQd79mLA0Gcb27nWYMDK5854uYZdwJXwlNZRrFnA87FSBkp7VsDPZk4CnyZUwDf5JjVVL1LAL4X4/4v9UMCZYcBTWFVQwJVr6q5ABVDAnvh0mvG2UMAomxzdeudSwPSvO1lEiFXAk2tu0aHsWMABmHZZNjxdwHg+eUUsbGHAgDJJw4BjZMDwpKXgwb5nwCf3ocObqWvAUEdB1Mvgb8BndgkiZi9ywPoW3I5Po3TAWzZt3Nwld8DiOs8l+uB5wGNEc1/npXzAOe45UNGYf8C/7pWdZkCBwF8C4yqwtoLARoUdtxYwhMCZb0KBEaCFwGd76BCWD4fAaOkQ5z1yiMDjgAtiirqJwCXRKNcZ6orARHX/RcsCjMCA+C078AqNwJ0K8xud543ALfIPVVKjjsAlKfAcTDmPwJWVsbB/rY/AV20yO/34j8A76d3hKBaQwELYASa7H5DAuZhsMHIekMCiyRmvHAWQwGmM/yQExo/ASyfhFS13j8CHiR6qJguPwDO0m9MYjo7AmaiQz9wWjsAxs8wXG5ONwLOEt3TWDo3AczxquDp/jMBForOlUviLwAfrig+EeovA4uSNvroEi8CUXuKWTrCKwPVJxQLLYIrAIW1eGYcmisB+siVyDvqJwLV7d+DB4YnArpAkIkPbicAtwXcLAuqJwCovF4P1IYrABpmy1oRwisC/iRsavb2KwBu4sb7DG4vAf0LVtOySi8AHkGbNOCaMwMj9Y8UMwIzAP3kuFvRkjcAvrUn0WxGOwJPJ8dk9r47AnoGW6INnj8DLRsXtGgmQwI6i2npCWpDA5JrSDl2jkMCHFQ7TIO2QwINAVEFSM5HAq+aYwppkkcDkbXR9DY2RwLnK6b/QspHAyp2WRZXLkcBYUj0IZdmRwOig4Qok1pHAWojkcSPJkcAHzqkVAqyRwJR4/MUIh5HAcEssNuNakcD7FXYY5ByRwInr8hQl3ZDAIt5I4ymNkMBQEsoYMjWQwLnfujPbq4/A/rwm6XzijsCPElCSzBKOwC9i/vdRKY3AtZ4bij1EjMC/YO9DWlOLwE9XEZqEaYrAdFH545t1icA67rmIy3eIwMyjfFNUbofAWYWxTxdphsC+t3Z1DFiFwDnP3mlgT4TAQiqraiw/g8CuTifk2yaCwPbbp92lHoHAbg9Z3c4AgMANQciGI599wIVhmssaaXvAY9r5MDQXecAfapVuWM52wK8sJVZ8lHTAe3Dn0a5NcsDwZdI6ugtwwIJPopixmGvAmth9el9HZ8Cn/ahvRWVjwAgZAJYHiF/ATKVQ3PpSWMDuZOPhsM1RwDhtcgTu1EfAh4/YUmZzOcDNM5FjHMMYwMMB6ct1Wx1Ag3w2alh6NEDJUakUkPE9QE5iju2QIUJADtC7UrDYQ0CJD32JwblEQDvG/+GD0kRAaCmW9XwqREAr0til081CQEzLouuyaUBAdWU7LZ7ZPEDJlltaIwo5QB3FgYwHEDZA3Yu7u6/ENUDZg83zOP80QCsQXKwvLTdAjyYJhCn9PEAidHoAM/FCQBLsy7u4EEhAGKbfT/YtT0CAfbR9nONTQNBvLmL8F1lATEuaSGQEX0BtM2JX4NtiQBCAKH6CamZA+7T7PmllakCdhdSw26RuQDlrQUAdhXFATSyfO4HNc0AdFNOl9Sd2QOyp5HrskXhA4UrmGAfmekBdNVHJZ0h9QKHmcQv8pX9ARMFIzX8CgUATt/owhBuCQDCNqm+dKoNAXayBRpYmhEDYYuKvFCWFQKTHyX1VEoZAXN4b10f6hkDA9HUUn86HQJ5SmT/bm4hAw90yUSJkiUDjnAGSfQ6KQGaZFj07sIpAQsMnh1tbi0CWsy73V/CLQA2izybHhIxAqDGFw1AXjUA7sNRiZ5aNQNzQbgBlEY5A53TZGwqPjkB7QLOoiwePQDjCWvc6kI9AmWMIkT4EkECYZux6HT6QQBK/1I3ZeJBAaJ8hgyS2kECFsDubSvGQQLfgb67XK5FAEG3M+n9gkUA/FcFm8oaRQFeD8dJltJFACa5ITWPfkUB0BW98JQOSQNGdwCOYH5JAtaGCmhE1kkAmRABrW0OSQB7EIHbOTJJAlyGmaIRGkkAerxCrYzaSQC7GCNUlI5JAxQLSjo3+kUBSmerYusiRQHVTy7szjJFAANER8odCkUD1JdvPf+qQQOv3lTQEiJBADVGU8AkmkEAty2S6DGqPQA5grDqXgo5Afv0z30WNjUBiZSPbVaOMQO5yjejIuItAevBAQhvdikD+0XaLXQiKQEWkKrnCNYlAXczGg9eXiEDSqdf2UcuHQEfGhJyMXIdA+3a4ZGwYh0DalKyPEfeGQJJvoCiHE4dAyfq+voFMh0CXiC3YWbGHQOGfpEo6S4hAtv2TIJcAiUDtwE55QXeJQCAek97JpIhAKS93/yXBiUBAtWtv8e6KQHF6gDS3LoxA7Q+BMSZ6jUAQPBwd97uOQE6zH29O8I9Af1pqQuyOkEDKJZu0whGRQJITf2dYiJFA1zCfOpfbkUADoYG2Fx6SQJ3zwiceRZJATZzD7ouukUAR+zqNLYKRQAIEGuRJOJFAM11IA2kimUBP+067qqWZQJvg/AA+D5pAQF4e4OZLmkAUBpQN1ZKaQBYoHForr5pAjzIIFrO0mkArM5qweLCaQCHu6zj5o5pA4+J0pGaBmkBLq5adF1OaQN/vyaa2NJpAb5tPQOUAmkAcRvFvveuZQGWhNaYuv5lAy0xbkguUmUCRDAMWSx+ZQPo38X0H/5hAzHzMaJ6+mECE4yHD4LuYQApyLG5I85hAfTslZXjymEBPYI/fBP6YQMrBaUKsFplAmPIH9jk1mUC+PnI4WU2ZQOa+F5CGcJlAQPx6D6ijmUC+NNSskOWZQHvC8jNKEppAg0AJzUQ9mkAUIgQtQF+aQFSWmUdCoJpAv9vAvAm4mkCt7mRBp7yaQK0aE3Ltk5pAOoX8N0WzmkBkrDbEsY2aQCaiPIWgXZpAmh4OZATpmkB156i38kKaQCdHy4zVW5pADXOWKf4gm0A+yl2KnsSaQKDnAMPVX5pAuLc90FvwmUDuQZRkaT2ZQOIOVzK5zJhAWx9DAVp3mEAhTm6mKRCYQAqM7WOAWZdAbj7x1y7ylkDeQv34QY6WQOPt11n79JVAQRCd/buzlUA5p65taGGVQKtcX/jbC5VA5VkXi/i4lED4uz/J5eqTQBz0G2PHD5RAp2SiQZ3Kk0Am9iNweYqTQFe7U0KET5NAP+hg28/wkkCGl9Hxf4ySQJ0W4b/lgpJAug5KNQtRkkBHOI6ZRiqSQEmHZ8C35JFAFuIVI6EVkkCow9iQG/iRQJ2VQFYS2ZFAumG/T4X+kUCydSEO+OqRQCmFDSERvZFANOJMKBmPkUBS7PYtoXORQAAAAAAAAPh/AAAAAAAA+H8AAAAAAAD4fwAAAAAAAPh/AAAAAAAA+H8AAAAAAAD4fwAAAAAAAPh/AAAAAAAA+H8AAAAAAAD4fwAAAAAAAPh/AAAAAAAA+H8AAAAAAAD4fwAAAAAAAPh/AAAAAAAA+H8AAAAAAAD4fwAAAAAAAPh/AAAAAAAA+H8AAAAAAAD4fwAAAAAAAPh/AAAAAAAA+H8AAAAAAAD4fwAAAAAAAPh/AAAAAAAA+H8AAAAAAAD4fwAAAAAAAPh/AAAAAAAA+H8AAAAAAAD4fwAAAAAAAPh/AAAAAAAA+H8AAAAAAAD4fwAAAAAAAPh/AAAAAAAA+H8AAAAAAAD4fwAAAAAAAPh/AAAAAAAA+H8AAAAAAAD4fwAAAAAAAPh/AAAAAAAA+H8AAAAAAAD4fwAAAAAAAPh/AAAAAAAA+H8AAAAAAAD4fwAAAAAAAPh/AAAAAAAA+H8AAAAAAAD4fwAAAAAAAPh/AAAAAAAA+H8AAAAAAAD4fwAAAAAAAPh/AAAAAAAA+H8AAAAAAAD4fwAAAAAAAPh/AAAAAAAA+H8AAAAAAAD4fwAAAAAAAPh/AAAAAAAA+H8AAAAAAAD4fwAAAAAAAPh/AAAAAAAA+H8AAAAAAAD4fwAAAAAAAPh/AAAAAAAA+H8AAAAAAAD4fwAAAAAAAPh/AAAAAAAA+H8AAAAAAAD4fwAAAAAAAPh/AAAAAAAA+H8AAAAAAAD4fwAAAAAAAPh/AAAAAAAA+H8AAAAAAAD4fwAAAAAAAPh/AAAAAAAA+H8AAAAAAAD4fwAAAAAAAPh/AAAAAAAA+H8AAAAAAAD4fwAAAAAAAPh/AAAAAAAA+H8AAAAAAAD4fwAAAAAAAPh/AAAAAAAA+H8AAAAAAAD4fwAAAAAAAPh/AAAAAAAA+H8AAAAAAAD4fwAAAAAAAPh/AAAAAAAA+H8AAAAAAAD4fwAAAAAAAPh/AAAAAAAA+H8AAAAAAAD4fwAAAAAAAPh/AAAAAAAA+H8AAAAAAAD4fwAAAAAAAPh/AAAAAAAA+H8AAAAAAAD4fwAAAAAAAPh/AAAAAAAA+H8AAAAAAAD4fwAAAAAAAPh/AAAAAAAA+H8AAAAAAAD4fwAAAAAAAPh/AAAAAAAA+H8AAAAAAAD4fwAAAAAAAPh/AAAAAAAA+H8AAAAAAAD4fwAAAAAAAPh/AAAAAAAA+H8AAAAAAAD4fwAAAAAAAPh/AAAAAAAA+H8AAAAAAAD4fwAAAAAAAPh/AAAAAAAA+H8AAAAAAAD4fwAAAAAAAPh/AAAAAAAA+H8AAAAAAAD4fwAAAAAAAPh/AAAAAAAA+H8AAAAAAAD4fwAAAAAAAPh/AAAAAAAA+H8AAAAAAAD4fwAAAAAAAPh/AAAAAAAA+H8AAAAAAAD4fwAAAAAAAPh/AAAAAAAA+H8AAAAAAAD4fwAAAAAAAPh/AAAAAAAA+H8AAAAAAAD4fwAAAAAAAPh/AAAAAAAA+H8AAAAAAAD4fwAAAAAAAPh/AAAAAAAA+H8AAAAAAAD4fwAAAAAAAPh/AAAAAAAA+H8AAAAAAAD4fwAAAAAAAPh/AAAAAAAA+H8AAAAAAAD4fwAAAAAAAPh/AAAAAAAA+H8AAAAAAAD4fwAAAAAAAPh/AAAAAAAA+H8AAAAAAAD4fwAAAAAAAPh/AAAAAAAA+H8AAAAAAAD4fwAAAAAAAPh/AAAAAAAA+H8AAAAAAAD4fwAAAAAAAPh/AAAAAAAA+H8AAAAAAAD4fwAAAAAAAPh/AAAAAAAA+H8AAAAAAAD4fwAAAAAAAPh/AAAAAAAA+H8AAAAAAAD4fwAAAAAAAPh/AAAAAAAA+H8AAAAAAAD4fwAAAAAAAPh/AAAAAAAA+H8AAAAAAAD4fwAAAAAAAPh/AAAAAAAA+H8AAAAAAAD4fwAAAAAAAPh/AAAAAAAA+H8AAAAAAAD4fwAAAAAAAPh/AAAAAAAA+H8AAAAAAAD4fwAAAAAAAPh/AAAAAAAA+H8AAAAAAAD4fwAAAAAAAPh/AAAAAAAA+H8AAAAAAAD4fwAAAAAAAPh/AAAAAAAA+H8AAAAAAAD4fwAAAAAAAPh/AAAAAAAA+H8AAAAAAAD4fwAAAAAAAPh/AAAAAAAA+H8AAAAAAAD4fwAAAAAAAPh/AAAAAAAA+H8AAAAAAAD4fwAAAAAAAPh/AAAAAAAA+H8AAAAAAAD4fwAAAAAAAPh/AAAAAAAA+H8AAAAAAAD4fwAAAAAAAPh/AAAAAAAA+H8AAAAAAAD4fwAAAAAAAPh/AAAAAAAA+H8AAAAAAAD4fwAAAAAAAPh/AAAAAAAA+H8AAAAAAAD4fwAAAAAAAPh/AAAAAAAA+H8AAAAAAAD4fwAAAAAAAPh/AAAAAAAA+H8AAAAAAAD4fwAAAAAAAPh/AAAAAAAA+H8AAAAAAAD4fwAAAAAAAPh/AAAAAAAA+H8AAAAAAAD4fwAAAAAAAPh/AAAAAAAA+H8AAAAAAAD4fwAAAAAAAPh/AAAAAAAA+H8AAAAAAAD4fwAAAAAAAPh/AAAAAAAA+H8AAAAAAAD4fwAAAAAAAPh/AAAAAAAA+H8AAAAAAAD4fwAAAAAAAPh/AAAAAAAA+H8AAAAAAAD4fwAAAAAAAPh/AAAAAAAA+H8AAAAAAAD4fwAAAAAAAPh/AAAAAAAA+H8AAAAAAAD4fwAAAAAAAPh/AAAAAAAA+H8AAAAAAAD4fwAAAAAAAPh/AAAAAAAA+H8AAAAAAAD4fwAAAAAAAPh/AAAAAAAA+H8AAAAAAAD4fwAAAAAAAPh/AAAAAAAA+H8AAAAAAAD4fwAAAAAAAPh/AAAAAAAA+H8AAAAAAAD4fwAAAAAAAPh/AAAAAAAA+H8AAAAAAAD4fwAAAAAAAPh/AAAAAAAA+H8AAAAAAAD4fwAAAAAAAPh/AAAAAAAA+H8AAAAAAAD4fwAAAAAAAPh/AAAAAAAA+H8AAAAAAAD4fwAAAAAAAPh/AAAAAAAA+H8AAAAAAAD4fwAAAAAAAPh/AAAAAAAA+H8AAAAAAAD4fwAAAAAAAPh/AAAAAAAA+H8AAAAAAAD4fwAAAAAAAPh/AAAAAAAA+H8AAAAAAAD4fwAAAAAAAPh/AAAAAAAA+H8AAAAAAAD4fwAAAAAAAPh/AAAAAAAA+H8AAAAAAAD4fwAAAAAAAPh/AAAAAAAA+H8AAAAAAAD4fwAAAAAAAPh/AAAAAAAA+H8AAAAAAAD4fwAAAAAAAPh/AAAAAAAA+H8AAAAAAAD4fwAAAAAAAPh/AAAAAAAA+H8AAAAAAAD4fwAAAAAAAPh/AAAAAAAA+H8AAAAAAAD4fwAAAAAAAPh/AAAAAAAA+H8AAAAAAAD4fwAAAAAAAPh/AAAAAAAA+H8AAAAAAAD4fwAAAAAAAPh/AAAAAAAA+H8AAAAAAAD4fwAAAAAAAPh/AAAAAAAA+H8AAAAAAAD4fwAAAAAAAPh/AAAAAAAA+H8AAAAAAAD4fwAAAAAAAPh/AAAAAAAA+H8AAAAAAAD4fwAAAAAAAPh/AAAAAAAA+H8AAAAAAAD4fwAAAAAAAPh/AAAAAAAA+H8AAAAAAAD4fwAAAAAAAPh/AAAAAAAA+H8AAAAAAAD4fwAAAAAAAPh/AAAAAAAA+H8AAAAAAAD4fwAAAAAAAPh/AAAAAAAA+H8AAAAAAAD4fwAAAAAAAPh/AAAAAAAA+H8AAAAAAAD4fwAAAAAAAPh/AAAAAAAA+H8AAAAAAAD4fwAAAAAAAPh/AAAAAAAA+H8AAAAAAAD4fwAAAAAAAPh/AAAAAAAA+H8AAAAAAAD4fwAAAAAAAPh/AAAAAAAA+H8AAAAAAAD4fwAAAAAAAPh/AAAAAAAA+H8AAAAAAAD4fwAAAAAAAPh/AAAAAAAA+H8AAAAAAAD4fwAAAAAAAPh/AAAAAAAA+H8AAAAAAAD4fwAAAAAAAPh/AAAAAAAA+H8AAAAAAAD4fwAAAAAAAPh/AAAAAAAA+H8AAAAAAAD4fwAAAAAAAPh/AAAAAAAA+H8AAAAAAAD4fwAAAAAAAPh/AAAAAAAA+H8AAAAAAAD4fwAAAAAAAPh/AAAAAAAA+H8AAAAAAAD4fwAAAAAAAPh/AAAAAAAA+H8AAAAAAAD4fwAAAAAAAPh/AAAAAAAA+H8AAAAAAAD4fwAAAAAAAPh/AAAAAAAA+H8AAAAAAAD4fwAAAAAAAPh/AAAAAAAA+H8AAAAAAAD4fwAAAAAAAPh/AAAAAAAA+H8AAAAAAAD4fwAAAAAAAPh/AAAAAAAA+H8AAAAAAAD4fwAAAAAAAPh/AAAAAAAA+H8AAAAAAAD4fwAAAAAAAPh/AAAAAAAA+H8AAAAAAAD4fwAAAAAAAPh/AAAAAAAA+H8AAAAAAAD4fwAAAAAAAPh/AAAAAAAA+H8AAAAAAAD4fwAAAAAAAPh/AAAAAAAA+H8AAAAAAAD4fwAAAAAAAPh/AAAAAAAA+H8AAAAAAAD4fwAAAAAAAPh/AAAAAAAA+H8AAAAAAAD4fwAAAAAAAPh/AAAAAAAA+H8AAAAAAAD4fwAAAAAAAPh/AAAAAAAA+H8AAAAAAAD4fwAAAAAAAPh/AAAAAAAA+H8AAAAAAAD4fwAAAAAAAPh/AAAAAAAA+H8AAAAAAAD4fwAAAAAAAPh/AAAAAAAA+H8AAAAAAAD4fwAAAAAAAPh/AAAAAAAA+H8AAAAAAAD4fwAAAAAAAPh/AAAAAAAA+H8AAAAAAAD4fwAAAAAAAPh/AAAAAAAA+H8AAAAAAAD4fwAAAAAAAPh/AAAAAAAA+H8AAAAAAAD4fwAAAAAAAPh/AAAAAAAA+H8AAAAAAAD4fwAAAAAAAPh/AAAAAAAA+H8AAAAAAAD4fwAAAAAAAPh/AAAAAAAA+H8AAAAAAAD4fwAAAAAAAPh/AAAAAAAA+H8AAAAAAAD4fwAAAAAAAPh/AAAAAAAA+H8AAAAAAAD4fwAAAAAAAPh/AAAAAAAA+H8=",
          "dtype": "f8"
         },
         "y": {
          "bdata": "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",
          "dtype": "f8"
         },
         "z": {
          "bdata": "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",
          "dtype": "f8"
         }
        },
        {
         "line": {
          "dash": "solid",
          "width": 2
         },
         "marker": {
          "color": "orange",
          "opacity": 0.3,
          "size": 2
         },
         "mode": "lines",
         "name": "coh_20_choice_awayRF_corr_unbiased_state",
         "opacity": 0.3,
         "showlegend": true,
         "type": "scatter3d",
         "x": {
          "bdata": "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",
          "dtype": "f8"
         },
         "y": {
          "bdata": "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",
          "dtype": "f8"
         },
         "z": {
          "bdata": "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",
          "dtype": "f8"
         }
        },
        {
         "line": {
          "dash": "solid",
          "width": 2
         },
         "marker": {
          "color": "red",
          "opacity": 0.3,
          "size": 2
         },
         "mode": "lines",
         "name": "coh_50_choice_awayRF_corr_unbiased_state",
         "opacity": 0.3,
         "showlegend": true,
         "type": "scatter3d",
         "x": {
          "bdata": "cc0uB3bnicBN3bgwmbmJwMgiCdCIl4nAZrUrBJB+icB8tbU6J3CJwByKcejAX4nA5lomW8dXicAPV/aPQl6JwKW3EUzCbonAaKQGWM6IicDAosCEj6eJwP/LgllaxYnAGUzp0HPticDCdb1MwiGKwEJlRYX2WIrA/azd6hGQisB9BsMWQcuKwE43Kff2DIvAXJihw6dMi8A5pE1+un+LwPuXabzGtovAqcZqGJ/si8DAVf46JhSMwEUqs2rFM4zAAYXzCS5GjMC3nHnk81GMwMLuawtKR4zAwqM1unEljMA2DmW2uvaLwPgYuoXLr4vAGjkg56NXi8B0mXGeRPGKwNR3U8CFc4rA+usVZXjwicBEBqbdvlmJwKw11W3/tojAd2bI2iAUiMCyZZqgk2mHwI4L1luQvYbAl1CoTA4QhsBBDz3ZPXmFwPHjuDbi7YTAcne+rUJshMC9G9WmS/2DwLQA3NUnooPA/Yvte2tUg8AmLZuwuxyDwINr//gw/4LAg02JY1zxgsBPRfKNl/qCwLyo8FSoEoPAtJzu8PpBg8AU8NPAtXeDwAhLLpnmvoPABM/PF4sPhMCZfbOFsmaEwNITypFayITAOSWDFYE1hcDibDf29Z2FwCQ88pOdC4bAQ1iCpEF2hsCHGZEAnt+GwDj9gn9OP4fAZXD6n0SVh8CYQFpt1OuHwD8VaG4POIjAK4Y1Gb16iMDoh8kTaqmIwD8Q8iAUxYjAoD4SMuTPiMC9r9KmrsaIwDJG66P2q4jAMGwJAvGHiMD0RI8pdlOIwHIEcQxGCYjAOajeLi6vh8DJgTTjcUuHwGypwwNz2IbAjbBFCPRahsD6gFMXjtOFwJenELZQSoXA4/6YQoi6hMCppqb9DieEwDc69DaelYPAzX0CPnQMg8BOjJ7PB4KCwCOl0d2I+YHAe/betJx0gcDf2bJlq/eAwOG69Bn1goDAHVHpNQURgMBYz8ejZkV/wP/Aaobien7Ak3nKoUvMfcDEauD+ilt9wGQn2GoN7HzA0y+mYOqcfMBQZwpJPnJ8wA12RPksgHzAGqGkVU+2fMBFVhewIyR9wBdscbvVtn3Aul2kgYCGfsAMSxHxDqN/wLHdQUBge4DA1KUBxmVBgcArACIWhiOCwA7b0zmmF4PAy2gGds8ehMAzds9DBjWFwK0LZuLvW4bAKe2hJaaAh8CX+7uwK6CIwO7mtv1cvInAhedNE83JisAeJ9WumcqLwGMT7GQEqozAQFFjA3FzjcAB5qjlhyCOwCmFXBEBqY7AoZQt3HMIj8BIv9Pp30SPwGsPkmRIWY/AVeJJzDBRj8DfLiHvbyiPwNkMVLY3247AmoTvb+90jsDB0xkTU/WNwBEmZngsa43A6rgR2KTOjMAGBwWr9ieMwG1udkW1eYvAT77DnN7QisD4SuT7XCmKwGi/ujX5iYnANx3xhHnviMDMfMNxhWOIwCZKsnKg54fAai5tNnR/h8CB9KKsFCGHwBi1DAsu04bASnd3QtOchsBRCadTo3CGwFzln/RSV4bAQTfNbhhMhsBi9jg3V0aGwEw7WWzGVIbA7Wx+qttmhsBSfURf7IiGwFwtBecFqobAkd1o5dbQhsDxVawY5fyGwPZHuluXIYfAi5QMaVxDh8D/TLhEO2OHwEjn+4uXcIfATGmck5OQh8ABbetlIaGHwMlNrzonpIfA/le/zcumh8BF41tXXZ2HwGSv/bFWlYfA/FyNEAyDh8AR4uHo42yHwEU4PhAgT4fAgsDsHM4zh8BrAZ1PORyHwHIJZl3WHIfAWSstnXsZh8BUmracaRqHwByG04MGLofAvbx2gHRGh8DHLwDr9HKHwFcIXe1wsYfApeakOpsEiMC3LM/5nWiIwHK2u3nB1ojAxFoAJGddicBDhNKeWO+JwI5LqXFNjIrAO6yy4vE5i8BQDSyW1eqLwPnZaPbXo4zAAxZ4uNtijcAAuY7wfCSOwKXVWk3t3I7A6hGZF82Sj8BqG8v2pSCQwEV3HnaBd5DA8r+3TEvEkMB1rCB9XgqRwF7T5T6kSZHA1aj3r5WAkcBebNOxAquRwKB4D4+hzJHAgeC6ERXikcBz3lC40uyRwJMNbbh/6pHAzOc6EoHbkcAf7Nn1zbqRwD/S9V07jpHA6J7kDL5RkcD3gIdd+AeRwFYsU/RlsJDAWo+bmB1PkMB1mFr/572PwBFDKRIfzo7AiYeA5mPHjcB5p9PkRriMwO2dQsWznIvAHmbwM6Z/isCUXApwm2CJwMYHG27VQYjAC9H7DgA1h8C/AvvfPjGGwCnCvqcwPoXAuU2B9vdfhMDMWTuVf5aDwCLjDUEo84LAeWI/sjdmgsB/jJFPre6BwPLq8S19joHA11+uMcQ9gcA6GbZR+QmBwMuqe3jc5YDAMoIsQAHNgMA+8c4qtcCAwKktdk7KuoDA6GPKKH6kgMAIaDqnFZ2AwG6AS2muloDA7xr4tPiAgMCw5fAReGaAwEdkTwk2OoDA4onkHgYFgMCTh2SMB39/wKxqKo/i5H7ADpcyg9k2fsBNYMQOCnN9wN3fAhwonnzAIxcpEtbGe8DbozDrMdt6wKI2Q9hG83nATfR3aSYBecAeHBDqDxJ4wCAG5M/qJ3fAL0kk9qlFdsAO5VKzR4N1wKVKjPostHTA9UWpusPic8CndlEVISdzwDyIVsDFb3LA4+1zzMHCccD7tZpFKh9xwAEyHMtocnDAXDHyL0SFb8COweFRky9uwKtGus0WzmzAxMae7XRaa8CHSsyeisppwJ3XUVC4N2jAlf4ISS+AZsBWrwNgX65kwPPYnKl+rWLAlgA3SsqKYMANdxln5XNcwIDq6+ClzVfA9T2iAqDYUsBGj77bRtZLwH2WQ617jkHAmMLppyqBLcB0kifuoD0YQJge63smQzpARXMOT0dtRkC91xBXHL9PQAsVnrFqLVRA4OjEsjlAWECrr4FCUP9bQA3ENjAoNl9AtCim6cYaYUDjlvxCI0xiQGsLoRbBUGNAEBejvE8uZEAz4rZXg9RkQHHpnCcIZmVAHrd3H/nHZUAjq/Hq9ApmQGrnTwSqPGZADVT07453ZkCDHzF5K5pmQC13MwbBsWZAQfuw0TfVZkB1aCZphfpmQNDfrAWeKmdAxLGW1llfZ0BrSdzSOcVnQENdlZgdMGhAqnEMUl8TaUDrxUcGdqNpQJoT+/YwVGpAreG3hKkba0B6vFL20gFsQDcRQkAz+WxA5UvHWoq4bkA9SEeOfd5vQPfrbh2s+nBAsbisqDOlcUBA5nI6t1hyQFL8Yj81/3JAE03GSz7Jc0CeLAchSYp0QIvfNGfkXnVAMMi4AyQrdkCZqpSwvAd3QERO3TaR7ndAf5EvhdDAeEDbN1bYlJl5QIm3GOPjhHpAhkDvl4Vte0BzOK/VwUl8QAKgS4+WUX1ADLmsHwpsfkBCasI2nGZ/QM9LBSO8zn9AN/VzxzxtgEDgWLKKr/KAQDh/tEmQd4FAC0VkFF/+gUB4yT+ri4eCQKu4jx3U44JAaH/Uyd9eg0CoLur34fiDQI8yrKZtl4RAj9NqvNgZhUCODlGgjYiFQHFC0TsmJYZA88+8kAWHhkD9sUjbid6GQP/7eCc6M4dAU9Dro8X9h0CTvjsm2k6IQEQAEgwKnIhA/7tyadTiiEAjWPUdtyGJQMLdsAF3XYlAehtJGuk5iUBlQ1TcDh2JQPnnVhsoKYlAhIZK9hJkiUAGORnWkYKJQLYL2uB+jolAos0FMdxGikBS1CEgaT+KQGEagJrLNopASEYkZzI/ikDlKqMg7zuKQMMzf2wtF4pA30D0FxkHikAtpQdaov6JQPvKtj8RT4pAk+h9CJNDikD0kkZSA1SKQHYohzXbYYpAPcAkaz2likDQUrvAjh6KQF6rkJq5PYpAYD2yrsRkikAMoVmd+muKQOQ39Pj2EotAHpIkxCk+i0DC3U+lh22LQA1l8vGkdotAf7nL4tOei0DqHpCfVLCLQOC4qbbl5otAdRPQR8wLjEBlUX5N7RWMQJBxsUAalYxAG/en11AmjUDMPm9CZaiNQB9QPa+sFI5AOSWBV7CrjkD/wD2Bnp6PQO7lWFewGJBAU5c1KFc1j0CrGlNRyWOPQIfoY9aKG49ARFPJm2lRj0ApnvsVkYKPQOV/58QHrI9A7wMzBPzoj0AAAAAAAAD4fwAAAAAAAPh/AAAAAAAA+H8AAAAAAAD4fwAAAAAAAPh/AAAAAAAA+H8AAAAAAAD4fwAAAAAAAPh/AAAAAAAA+H8AAAAAAAD4fwAAAAAAAPh/AAAAAAAA+H8AAAAAAAD4fwAAAAAAAPh/AAAAAAAA+H8AAAAAAAD4fwAAAAAAAPh/AAAAAAAA+H8AAAAAAAD4fwAAAAAAAPh/AAAAAAAA+H8AAAAAAAD4fwAAAAAAAPh/AAAAAAAA+H8AAAAAAAD4fwAAAAAAAPh/AAAAAAAA+H8AAAAAAAD4fwAAAAAAAPh/AAAAAAAA+H8AAAAAAAD4fwAAAAAAAPh/AAAAAAAA+H8AAAAAAAD4fwAAAAAAAPh/AAAAAAAA+H8AAAAAAAD4fwAAAAAAAPh/AAAAAAAA+H8AAAAAAAD4fwAAAAAAAPh/AAAAAAAA+H8AAAAAAAD4fwAAAAAAAPh/AAAAAAAA+H8AAAAAAAD4fwAAAAAAAPh/AAAAAAAA+H8AAAAAAAD4fwAAAAAAAPh/AAAAAAAA+H8AAAAAAAD4fwAAAAAAAPh/AAAAAAAA+H8AAAAAAAD4fwAAAAAAAPh/AAAAAAAA+H8AAAAAAAD4fwAAAAAAAPh/AAAAAAAA+H8AAAAAAAD4fwAAAAAAAPh/AAAAAAAA+H8AAAAAAAD4fwAAAAAAAPh/AAAAAAAA+H8AAAAAAAD4fwAAAAAAAPh/AAAAAAAA+H8AAAAAAAD4fwAAAAAAAPh/AAAAAAAA+H8AAAAAAAD4fwAAAAAAAPh/AAAAAAAA+H8AAAAAAAD4fwAAAAAAAPh/AAAAAAAA+H8AAAAAAAD4fwAAAAAAAPh/AAAAAAAA+H8AAAAAAAD4fwAAAAAAAPh/AAAAAAAA+H8AAAAAAAD4fwAAAAAAAPh/AAAAAAAA+H8AAAAAAAD4fwAAAAAAAPh/AAAAAAAA+H8AAAAAAAD4fwAAAAAAAPh/AAAAAAAA+H8AAAAAAAD4fwAAAAAAAPh/AAAAAAAA+H8AAAAAAAD4fwAAAAAAAPh/AAAAAAAA+H8AAAAAAAD4fwAAAAAAAPh/AAAAAAAA+H8AAAAAAAD4fwAAAAAAAPh/AAAAAAAA+H8AAAAAAAD4fwAAAAAAAPh/AAAAAAAA+H8AAAAAAAD4fwAAAAAAAPh/AAAAAAAA+H8AAAAAAAD4fwAAAAAAAPh/AAAAAAAA+H8AAAAAAAD4fwAAAAAAAPh/AAAAAAAA+H8AAAAAAAD4fwAAAAAAAPh/AAAAAAAA+H8AAAAAAAD4fwAAAAAAAPh/AAAAAAAA+H8AAAAAAAD4fwAAAAAAAPh/AAAAAAAA+H8AAAAAAAD4fwAAAAAAAPh/AAAAAAAA+H8AAAAAAAD4fwAAAAAAAPh/AAAAAAAA+H8AAAAAAAD4fwAAAAAAAPh/AAAAAAAA+H8AAAAAAAD4fwAAAAAAAPh/AAAAAAAA+H8AAAAAAAD4fwAAAAAAAPh/AAAAAAAA+H8AAAAAAAD4fwAAAAAAAPh/AAAAAAAA+H8AAAAAAAD4fwAAAAAAAPh/AAAAAAAA+H8AAAAAAAD4fwAAAAAAAPh/AAAAAAAA+H8AAAAAAAD4fwAAAAAAAPh/AAAAAAAA+H8AAAAAAAD4fwAAAAAAAPh/AAAAAAAA+H8AAAAAAAD4fwAAAAAAAPh/AAAAAAAA+H8AAAAAAAD4fwAAAAAAAPh/AAAAAAAA+H8AAAAAAAD4fwAAAAAAAPh/AAAAAAAA+H8AAAAAAAD4fwAAAAAAAPh/AAAAAAAA+H8AAAAAAAD4fwAAAAAAAPh/AAAAAAAA+H8AAAAAAAD4fwAAAAAAAPh/AAAAAAAA+H8AAAAAAAD4fwAAAAAAAPh/AAAAAAAA+H8AAAAAAAD4fwAAAAAAAPh/AAAAAAAA+H8AAAAAAAD4fwAAAAAAAPh/AAAAAAAA+H8AAAAAAAD4fwAAAAAAAPh/AAAAAAAA+H8AAAAAAAD4fwAAAAAAAPh/AAAAAAAA+H8AAAAAAAD4fwAAAAAAAPh/AAAAAAAA+H8AAAAAAAD4fwAAAAAAAPh/AAAAAAAA+H8AAAAAAAD4fwAAAAAAAPh/AAAAAAAA+H8AAAAAAAD4fwAAAAAAAPh/AAAAAAAA+H8AAAAAAAD4fwAAAAAAAPh/AAAAAAAA+H8AAAAAAAD4fwAAAAAAAPh/AAAAAAAA+H8AAAAAAAD4fwAAAAAAAPh/AAAAAAAA+H8AAAAAAAD4fwAAAAAAAPh/AAAAAAAA+H8AAAAAAAD4fwAAAAAAAPh/AAAAAAAA+H8AAAAAAAD4fwAAAAAAAPh/AAAAAAAA+H8AAAAAAAD4fwAAAAAAAPh/AAAAAAAA+H8AAAAAAAD4fwAAAAAAAPh/AAAAAAAA+H8AAAAAAAD4fwAAAAAAAPh/AAAAAAAA+H8AAAAAAAD4fwAAAAAAAPh/AAAAAAAA+H8AAAAAAAD4fwAAAAAAAPh/AAAAAAAA+H8AAAAAAAD4fwAAAAAAAPh/AAAAAAAA+H8AAAAAAAD4fwAAAAAAAPh/AAAAAAAA+H8AAAAAAAD4fwAAAAAAAPh/AAAAAAAA+H8AAAAAAAD4fwAAAAAAAPh/AAAAAAAA+H8AAAAAAAD4fwAAAAAAAPh/AAAAAAAA+H8AAAAAAAD4fwAAAAAAAPh/AAAAAAAA+H8AAAAAAAD4fwAAAAAAAPh/AAAAAAAA+H8AAAAAAAD4fwAAAAAAAPh/AAAAAAAA+H8AAAAAAAD4fwAAAAAAAPh/AAAAAAAA+H8AAAAAAAD4fwAAAAAAAPh/AAAAAAAA+H8AAAAAAAD4fwAAAAAAAPh/AAAAAAAA+H8AAAAAAAD4fwAAAAAAAPh/AAAAAAAA+H8AAAAAAAD4fwAAAAAAAPh/AAAAAAAA+H8AAAAAAAD4fwAAAAAAAPh/AAAAAAAA+H8AAAAAAAD4fwAAAAAAAPh/AAAAAAAA+H8AAAAAAAD4fwAAAAAAAPh/AAAAAAAA+H8AAAAAAAD4fwAAAAAAAPh/AAAAAAAA+H8AAAAAAAD4fwAAAAAAAPh/AAAAAAAA+H8AAAAAAAD4fwAAAAAAAPh/AAAAAAAA+H8AAAAAAAD4fwAAAAAAAPh/AAAAAAAA+H8AAAAAAAD4fwAAAAAAAPh/AAAAAAAA+H8AAAAAAAD4fwAAAAAAAPh/AAAAAAAA+H8AAAAAAAD4fwAAAAAAAPh/AAAAAAAA+H8AAAAAAAD4fwAAAAAAAPh/AAAAAAAA+H8AAAAAAAD4fwAAAAAAAPh/AAAAAAAA+H8AAAAAAAD4fwAAAAAAAPh/AAAAAAAA+H8AAAAAAAD4fwAAAAAAAPh/AAAAAAAA+H8AAAAAAAD4fwAAAAAAAPh/AAAAAAAA+H8AAAAAAAD4fwAAAAAAAPh/AAAAAAAA+H8AAAAAAAD4fwAAAAAAAPh/AAAAAAAA+H8AAAAAAAD4fwAAAAAAAPh/AAAAAAAA+H8AAAAAAAD4fwAAAAAAAPh/AAAAAAAA+H8AAAAAAAD4fwAAAAAAAPh/AAAAAAAA+H8AAAAAAAD4fwAAAAAAAPh/AAAAAAAA+H8AAAAAAAD4fwAAAAAAAPh/AAAAAAAA+H8AAAAAAAD4fwAAAAAAAPh/AAAAAAAA+H8AAAAAAAD4fwAAAAAAAPh/AAAAAAAA+H8AAAAAAAD4fwAAAAAAAPh/AAAAAAAA+H8AAAAAAAD4fwAAAAAAAPh/AAAAAAAA+H8AAAAAAAD4fwAAAAAAAPh/AAAAAAAA+H8AAAAAAAD4fwAAAAAAAPh/AAAAAAAA+H8AAAAAAAD4fwAAAAAAAPh/AAAAAAAA+H8AAAAAAAD4fwAAAAAAAPh/AAAAAAAA+H8AAAAAAAD4fwAAAAAAAPh/AAAAAAAA+H8AAAAAAAD4fwAAAAAAAPh/AAAAAAAA+H8AAAAAAAD4fwAAAAAAAPh/AAAAAAAA+H8AAAAAAAD4fwAAAAAAAPh/AAAAAAAA+H8AAAAAAAD4fwAAAAAAAPh/AAAAAAAA+H8AAAAAAAD4fwAAAAAAAPh/AAAAAAAA+H8AAAAAAAD4fwAAAAAAAPh/AAAAAAAA+H8AAAAAAAD4fwAAAAAAAPh/AAAAAAAA+H8AAAAAAAD4fwAAAAAAAPh/AAAAAAAA+H8AAAAAAAD4fwAAAAAAAPh/AAAAAAAA+H8AAAAAAAD4fwAAAAAAAPh/AAAAAAAA+H8AAAAAAAD4fwAAAAAAAPh/AAAAAAAA+H8AAAAAAAD4fwAAAAAAAPh/AAAAAAAA+H8AAAAAAAD4fwAAAAAAAPh/AAAAAAAA+H8AAAAAAAD4fwAAAAAAAPh/AAAAAAAA+H8AAAAAAAD4fwAAAAAAAPh/AAAAAAAA+H8AAAAAAAD4fwAAAAAAAPh/AAAAAAAA+H8AAAAAAAD4fwAAAAAAAPh/AAAAAAAA+H8AAAAAAAD4fwAAAAAAAPh/AAAAAAAA+H8AAAAAAAD4fwAAAAAAAPh/AAAAAAAA+H8AAAAAAAD4fwAAAAAAAPh/AAAAAAAA+H8AAAAAAAD4fwAAAAAAAPh/AAAAAAAA+H8AAAAAAAD4fwAAAAAAAPh/AAAAAAAA+H8AAAAAAAD4fwAAAAAAAPh/AAAAAAAA+H8AAAAAAAD4fwAAAAAAAPh/AAAAAAAA+H8AAAAAAAD4fwAAAAAAAPh/AAAAAAAA+H8AAAAAAAD4fwAAAAAAAPh/AAAAAAAA+H8AAAAAAAD4fwAAAAAAAPh/AAAAAAAA+H8AAAAAAAD4fwAAAAAAAPh/AAAAAAAA+H8AAAAAAAD4fwAAAAAAAPh/AAAAAAAA+H8AAAAAAAD4fwAAAAAAAPh/AAAAAAAA+H8AAAAAAAD4fwAAAAAAAPh/AAAAAAAA+H8AAAAAAAD4fwAAAAAAAPh/AAAAAAAA+H8AAAAAAAD4fwAAAAAAAPh/AAAAAAAA+H8AAAAAAAD4fwAAAAAAAPh/AAAAAAAA+H8AAAAAAAD4fwAAAAAAAPh/AAAAAAAA+H8AAAAAAAD4fwAAAAAAAPh/AAAAAAAA+H8AAAAAAAD4fwAAAAAAAPh/AAAAAAAA+H8AAAAAAAD4fwAAAAAAAPh/AAAAAAAA+H8AAAAAAAD4fwAAAAAAAPh/AAAAAAAA+H8AAAAAAAD4fwAAAAAAAPh/AAAAAAAA+H8AAAAAAAD4fwAAAAAAAPh/AAAAAAAA+H8AAAAAAAD4fwAAAAAAAPh/AAAAAAAA+H8AAAAAAAD4fwAAAAAAAPh/AAAAAAAA+H8AAAAAAAD4fwAAAAAAAPh/AAAAAAAA+H8AAAAAAAD4fwAAAAAAAPh/AAAAAAAA+H8AAAAAAAD4fwAAAAAAAPh/AAAAAAAA+H8AAAAAAAD4fwAAAAAAAPh/AAAAAAAA+H8AAAAAAAD4fwAAAAAAAPh/AAAAAAAA+H8=",
          "dtype": "f8"
         },
         "y": {
          "bdata": "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",
          "dtype": "f8"
         },
         "z": {
          "bdata": "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",
          "dtype": "f8"
         }
        },
        {
         "line": {
          "dash": "solid",
          "width": 2
         },
         "marker": {
          "color": "black",
          "opacity": 0.8,
          "size": 8
         },
         "mode": "markers",
         "name": " ",
         "opacity": 0.8,
         "showlegend": false,
         "type": "scatter3d",
         "x": [
          -689.8581355547002
         ],
         "y": [
          -569.4622780914278
         ],
         "z": [
          -225.45611055778483
         ]
        },
        {
         "line": {
          "dash": "solid",
          "width": 2
         },
         "marker": {
          "color": "black",
          "opacity": 0.8,
          "size": 8
         },
         "mode": "markers",
         "name": " ",
         "opacity": 0.8,
         "showlegend": false,
         "type": "scatter3d",
         "x": [
          -515.2603344095
         ],
         "y": [
          -560.8639747366318
         ],
         "z": [
          -282.1373130590179
         ]
        },
        {
         "line": {
          "dash": "solid",
          "width": 2
         },
         "marker": {
          "color": "black",
          "opacity": 0.8,
          "size": 8
         },
         "mode": "markers",
         "name": " ",
         "opacity": 0.8,
         "showlegend": false,
         "type": "scatter3d",
         "x": [
          -878.2547774528598
         ],
         "y": [
          -522.8431160933973
         ],
         "z": [
          -217.78123585335192
         ]
        },
        {
         "line": {
          "dash": "solid",
          "width": 2
         },
         "marker": {
          "color": "black",
          "opacity": 0.8,
          "size": 8
         },
         "mode": "markers",
         "name": " ",
         "opacity": 0.8,
         "showlegend": false,
         "type": "scatter3d",
         "x": [
          -857.0114441952369
         ],
         "y": [
          -670.8219521759864
         ],
         "z": [
          -209.8712385281629
         ]
        },
        {
         "line": {
          "dash": "solid",
          "width": 2
         },
         "marker": {
          "color": "black",
          "opacity": 0.8,
          "size": 8
         },
         "mode": "markers",
         "name": " ",
         "opacity": 0.8,
         "showlegend": false,
         "type": "scatter3d",
         "x": [
          -547.4294351343701
         ],
         "y": [
          -497.6432687863052
         ],
         "z": [
          -117.87325876763796
         ]
        },
        {
         "line": {
          "dash": "solid",
          "width": 2
         },
         "marker": {
          "color": "black",
          "opacity": 0.8,
          "size": 8
         },
         "mode": "markers",
         "name": " ",
         "opacity": 0.8,
         "showlegend": false,
         "type": "scatter3d",
         "x": [
          -792.314273034889
         ],
         "y": [
          -638.4872193182196
         ],
         "z": [
          194.39307411969648
         ]
        },
        {
         "line": {
          "dash": "solid",
          "width": 2
         },
         "marker": {
          "color": "black",
          "opacity": 0.8,
          "size": 8
         },
         "mode": "markers",
         "name": " ",
         "opacity": 0.8,
         "showlegend": false,
         "type": "scatter3d",
         "x": [
          -529.989879536837
         ],
         "y": [
          -580.7786680364912
         ],
         "z": [
          -127.89759139374631
         ]
        },
        {
         "line": {
          "dash": "solid",
          "width": 2
         },
         "marker": {
          "color": "black",
          "opacity": 0.8,
          "size": 8
         },
         "mode": "markers",
         "name": " ",
         "opacity": 0.8,
         "showlegend": false,
         "type": "scatter3d",
         "x": [
          -828.9326308876463
         ],
         "y": [
          -571.2835303009081
         ],
         "z": [
          -168.99991951651782
         ]
        },
        {
         "line": {
          "dash": "solid",
          "width": 2
         },
         "marker": {
          "color": "black",
          "opacity": 0.8,
          "size": 5
         },
         "mode": "markers",
         "name": " ",
         "opacity": 0.8,
         "showlegend": false,
         "type": "scatter3d",
         "x": [
          -614.0256953162246
         ],
         "y": [
          -557.7292054666924
         ],
         "z": [
          -216.90429189279251
         ]
        },
        {
         "line": {
          "dash": "solid",
          "width": 2
         },
         "marker": {
          "color": "black",
          "opacity": 0.8,
          "size": 5
         },
         "mode": "markers",
         "name": " ",
         "opacity": 0.8,
         "showlegend": false,
         "type": "scatter3d",
         "x": [
          -729.6821540791631
         ],
         "y": [
          -610.4249180532759
         ],
         "z": [
          -192.7101047807565
         ]
        },
        {
         "line": {
          "dash": "solid",
          "width": 2
         },
         "marker": {
          "color": "black",
          "opacity": 0.8,
          "size": 5
         },
         "mode": "markers",
         "name": " ",
         "opacity": 0.8,
         "showlegend": false,
         "type": "scatter3d",
         "x": [
          -472.866796704369
         ],
         "y": [
          -583.2504390122607
         ],
         "z": [
          -245.6635764432098
         ]
        },
        {
         "line": {
          "dash": "solid",
          "width": 2
         },
         "marker": {
          "color": "black",
          "opacity": 0.8,
          "size": 5
         },
         "mode": "markers",
         "name": " ",
         "opacity": 0.8,
         "showlegend": false,
         "type": "scatter3d",
         "x": [
          -692.8838325146751
         ],
         "y": [
          -514.4554972063843
         ],
         "z": [
          -204.06700415258717
         ]
        },
        {
         "line": {
          "dash": "solid",
          "width": 2
         },
         "marker": {
          "color": "black",
          "opacity": 0.8,
          "size": 5
         },
         "mode": "markers",
         "name": " ",
         "opacity": 0.8,
         "showlegend": false,
         "type": "scatter3d",
         "x": [
          -723.6844891185693
         ],
         "y": [
          -611.4793273498693
         ],
         "z": [
          70.11144291921642
         ]
        },
        {
         "line": {
          "dash": "solid",
          "width": 2
         },
         "marker": {
          "color": "black",
          "opacity": 0.8,
          "size": 5
         },
         "mode": "markers",
         "name": " ",
         "opacity": 0.8,
         "showlegend": false,
         "type": "scatter3d",
         "x": [
          -507.94745856398083
         ],
         "y": [
          -754.5165355939324
         ],
         "z": [
          56.58579299035346
         ]
        },
        {
         "line": {
          "dash": "solid",
          "width": 2
         },
         "marker": {
          "color": "black",
          "opacity": 0.8,
          "size": 5
         },
         "mode": "markers",
         "name": " ",
         "opacity": 0.8,
         "showlegend": false,
         "type": "scatter3d",
         "x": [
          -412.53127710866715
         ],
         "y": [
          -413.2135557996855
         ],
         "z": [
          -100.40410798993574
         ]
        },
        {
         "line": {
          "dash": "solid",
          "width": 2
         },
         "marker": {
          "color": "black",
          "opacity": 0.8,
          "size": 5
         },
         "mode": "markers",
         "name": " ",
         "opacity": 0.8,
         "showlegend": false,
         "type": "scatter3d",
         "x": [
          -466.25871285549175
         ],
         "y": [
          -576.0639826989042
         ],
         "z": [
          -103.0216337245895
         ]
        },
        {
         "line": {
          "dash": "solid",
          "width": 2
         },
         "marker": {
          "color": "black",
          "opacity": 0.8,
          "size": 5
         },
         "mode": "markers",
         "name": " ",
         "opacity": 0.8,
         "showlegend": false,
         "type": "scatter3d",
         "x": [
          -771.093382167105
         ],
         "y": [
          491.3801982284701
         ],
         "z": [
          -119.965834525424
         ]
        },
        {
         "line": {
          "dash": "solid",
          "width": 2
         },
         "marker": {
          "color": "black",
          "opacity": 0.8,
          "size": 5
         },
         "mode": "markers",
         "name": " ",
         "opacity": 0.8,
         "showlegend": false,
         "type": "scatter3d",
         "x": [
          -895.7383719695566
         ],
         "y": [
          501.09191036672496
         ],
         "z": [
          -54.8419513195385
         ]
        },
        {
         "line": {
          "dash": "solid",
          "width": 2
         },
         "marker": {
          "color": "black",
          "opacity": 0.8,
          "size": 5
         },
         "mode": "markers",
         "name": " ",
         "opacity": 0.8,
         "showlegend": false,
         "type": "scatter3d",
         "x": [
          -722.3341868797445
         ],
         "y": [
          511.52040855859127
         ],
         "z": [
          -22.145463741805234
         ]
        },
        {
         "line": {
          "dash": "solid",
          "width": 2
         },
         "marker": {
          "color": "black",
          "opacity": 0.8,
          "size": 5
         },
         "mode": "markers",
         "name": " ",
         "opacity": 0.8,
         "showlegend": false,
         "type": "scatter3d",
         "x": [
          -794.8633198037118
         ],
         "y": [
          582.9056917701292
         ],
         "z": [
          -185.7836747107286
         ]
        },
        {
         "line": {
          "dash": "solid",
          "width": 2
         },
         "marker": {
          "color": "black",
          "opacity": 0.8,
          "size": 5
         },
         "mode": "markers",
         "name": " ",
         "opacity": 0.8,
         "showlegend": false,
         "type": "scatter3d",
         "x": [
          -930.9457546209976
         ],
         "y": [
          488.79770545534217
         ],
         "z": [
          41.79302588414104
         ]
        },
        {
         "line": {
          "dash": "solid",
          "width": 2
         },
         "marker": {
          "color": "black",
          "opacity": 0.8,
          "size": 5
         },
         "mode": "markers",
         "name": " ",
         "opacity": 0.8,
         "showlegend": false,
         "type": "scatter3d",
         "x": [
          -1141.5351977591
         ],
         "y": [
          427.794156201176
         ],
         "z": [
          236.38775356950217
         ]
        },
        {
         "line": {
          "dash": "solid",
          "width": 2
         },
         "marker": {
          "color": "black",
          "opacity": 0.8,
          "size": 5
         },
         "mode": "markers",
         "name": " ",
         "opacity": 0.8,
         "showlegend": false,
         "type": "scatter3d",
         "x": [
          -705.5727050396949
         ],
         "y": [
          670.2785522197152
         ],
         "z": [
          37.412343711540196
         ]
        },
        {
         "line": {
          "dash": "solid",
          "width": 2
         },
         "marker": {
          "color": "black",
          "opacity": 0.8,
          "size": 5
         },
         "mode": "markers",
         "name": " ",
         "opacity": 0.8,
         "showlegend": false,
         "type": "scatter3d",
         "x": [
          -1123.5579756173681
         ],
         "y": [
          485.30204564112586
         ],
         "z": [
          -15.607724526956384
         ]
        },
        {
         "line": {
          "dash": "solid",
          "width": 2
         },
         "marker": {
          "color": "black",
          "opacity": 0.8,
          "size": 5
         },
         "mode": "markers",
         "name": " ",
         "opacity": 0.8,
         "showlegend": false,
         "type": "scatter3d",
         "x": [
          1727.4651318036674
         ],
         "y": [
          248.64836140262375
         ],
         "z": [
          -553.6554445126542
         ]
        },
        {
         "line": {
          "dash": "solid",
          "width": 2
         },
         "marker": {
          "color": "black",
          "opacity": 0.8,
          "size": 5
         },
         "mode": "markers",
         "name": " ",
         "opacity": 0.8,
         "showlegend": false,
         "type": "scatter3d",
         "x": [
          1635.2326342564857
         ],
         "y": [
          320.726672825964
         ],
         "z": [
          -501.75834736910684
         ]
        },
        {
         "line": {
          "dash": "solid",
          "width": 2
         },
         "marker": {
          "color": "black",
          "opacity": 0.8,
          "size": 5
         },
         "mode": "markers",
         "name": " ",
         "opacity": 0.8,
         "showlegend": false,
         "type": "scatter3d",
         "x": [
          1448.5584639326837
         ],
         "y": [
          508.3129415438602
         ],
         "z": [
          -673.4117688504099
         ]
        },
        {
         "line": {
          "dash": "solid",
          "width": 2
         },
         "marker": {
          "color": "black",
          "opacity": 0.8,
          "size": 5
         },
         "mode": "markers",
         "name": " ",
         "opacity": 0.8,
         "showlegend": false,
         "type": "scatter3d",
         "x": [
          1052.2703509642893
         ],
         "y": [
          889.0004038555877
         ],
         "z": [
          -415.6213329246831
         ]
        },
        {
         "line": {
          "dash": "solid",
          "width": 2
         },
         "marker": {
          "color": "black",
          "opacity": 0.8,
          "size": 5
         },
         "mode": "markers",
         "name": " ",
         "opacity": 0.8,
         "showlegend": false,
         "type": "scatter3d",
         "x": [
          835.6759624329749
         ],
         "y": [
          187.73980837073546
         ],
         "z": [
          -240.08036250659657
         ]
        },
        {
         "line": {
          "dash": "solid",
          "width": 2
         },
         "marker": {
          "color": "black",
          "opacity": 0.8,
          "size": 5
         },
         "mode": "markers",
         "name": " ",
         "opacity": 0.8,
         "showlegend": false,
         "type": "scatter3d",
         "x": [
          1069.5356564763588
         ],
         "y": [
          375.835894572876
         ],
         "z": [
          -154.20485936657397
         ]
        },
        {
         "line": {
          "dash": "solid",
          "width": 2
         },
         "marker": {
          "color": "black",
          "opacity": 0.8,
          "size": 5
         },
         "mode": "markers",
         "name": " ",
         "opacity": 0.8,
         "showlegend": false,
         "type": "scatter3d",
         "x": [
          934.8014548816816
         ],
         "y": [
          498.42783186663695
         ],
         "z": [
          -275.50341027613905
         ]
        },
        {
         "line": {
          "dash": "solid",
          "width": 2
         },
         "marker": {
          "color": "black",
          "opacity": 0.8,
          "size": 5
         },
         "mode": "markers",
         "name": " ",
         "opacity": 0.8,
         "showlegend": false,
         "type": "scatter3d",
         "x": [
          216.86444316782345
         ],
         "y": [
          666.1459658007855
         ],
         "z": [
          -108.34425307994239
         ]
        },
        {
         "line": {
          "dash": "solid",
          "width": 2
         },
         "marker": {
          "color": "black",
          "opacity": 0.8,
          "size": 5
         },
         "mode": "markers",
         "name": " ",
         "opacity": 0.8,
         "showlegend": false,
         "type": "scatter3d",
         "x": [
          1748.9099451833804
         ],
         "y": [
          -591.8014758028854
         ],
         "z": [
          455.8911033548887
         ]
        },
        {
         "line": {
          "dash": "solid",
          "width": 2
         },
         "marker": {
          "color": "black",
          "opacity": 0.8,
          "size": 5
         },
         "mode": "markers",
         "name": " ",
         "opacity": 0.8,
         "showlegend": false,
         "type": "scatter3d",
         "x": [
          1713.1548247008027
         ],
         "y": [
          -428.27964285180246
         ],
         "z": [
          641.8445761781866
         ]
        },
        {
         "line": {
          "dash": "solid",
          "width": 2
         },
         "marker": {
          "color": "black",
          "opacity": 0.8,
          "size": 5
         },
         "mode": "markers",
         "name": " ",
         "opacity": 0.8,
         "showlegend": false,
         "type": "scatter3d",
         "x": [
          1583.6021730919779
         ],
         "y": [
          -205.28269338893708
         ],
         "z": [
          109.60935061290903
         ]
        },
        {
         "line": {
          "dash": "solid",
          "width": 2
         },
         "marker": {
          "color": "violet",
          "opacity": 0.8,
          "size": 10
         },
         "mode": "markers",
         "name": " ",
         "opacity": 0.8,
         "showlegend": false,
         "type": "scatter3d",
         "x": [
          -614.0256953162246
         ],
         "y": [
          -557.7292054666924
         ],
         "z": [
          -216.90429189279251
         ]
        },
        {
         "line": {
          "dash": "solid",
          "width": 2
         },
         "marker": {
          "color": "violet",
          "opacity": 0.8,
          "size": 10
         },
         "mode": "markers",
         "name": " ",
         "opacity": 0.8,
         "showlegend": false,
         "type": "scatter3d",
         "x": [
          -729.6821540791631
         ],
         "y": [
          -610.4249180532759
         ],
         "z": [
          -192.7101047807565
         ]
        },
        {
         "line": {
          "dash": "solid",
          "width": 2
         },
         "marker": {
          "color": "violet",
          "opacity": 0.8,
          "size": 10
         },
         "mode": "markers",
         "name": " ",
         "opacity": 0.8,
         "showlegend": false,
         "type": "scatter3d",
         "x": [
          -472.866796704369
         ],
         "y": [
          -583.2504390122607
         ],
         "z": [
          -245.6635764432098
         ]
        },
        {
         "line": {
          "dash": "solid",
          "width": 2
         },
         "marker": {
          "color": "violet",
          "opacity": 0.8,
          "size": 10
         },
         "mode": "markers",
         "name": " ",
         "opacity": 0.8,
         "showlegend": false,
         "type": "scatter3d",
         "x": [
          -692.8838325146751
         ],
         "y": [
          -514.4554972063843
         ],
         "z": [
          -204.06700415258717
         ]
        },
        {
         "line": {
          "dash": "solid",
          "width": 2
         },
         "marker": {
          "color": "violet",
          "opacity": 0.8,
          "size": 10
         },
         "mode": "markers",
         "name": " ",
         "opacity": 0.8,
         "showlegend": false,
         "type": "scatter3d",
         "x": [
          -723.6844891185693
         ],
         "y": [
          -611.4793273498693
         ],
         "z": [
          70.11144291921642
         ]
        },
        {
         "line": {
          "dash": "solid",
          "width": 2
         },
         "marker": {
          "color": "violet",
          "opacity": 0.8,
          "size": 10
         },
         "mode": "markers",
         "name": " ",
         "opacity": 0.8,
         "showlegend": false,
         "type": "scatter3d",
         "x": [
          -507.94745856398083
         ],
         "y": [
          -754.5165355939324
         ],
         "z": [
          56.58579299035346
         ]
        },
        {
         "line": {
          "dash": "solid",
          "width": 2
         },
         "marker": {
          "color": "violet",
          "opacity": 0.8,
          "size": 10
         },
         "mode": "markers",
         "name": " ",
         "opacity": 0.8,
         "showlegend": false,
         "type": "scatter3d",
         "x": [
          -412.53127710866715
         ],
         "y": [
          -413.2135557996855
         ],
         "z": [
          -100.40410798993574
         ]
        },
        {
         "line": {
          "dash": "solid",
          "width": 2
         },
         "marker": {
          "color": "violet",
          "opacity": 0.8,
          "size": 10
         },
         "mode": "markers",
         "name": " ",
         "opacity": 0.8,
         "showlegend": false,
         "type": "scatter3d",
         "x": [
          -466.25871285549175
         ],
         "y": [
          -576.0639826989042
         ],
         "z": [
          -103.0216337245895
         ]
        },
        {
         "line": {
          "dash": "solid",
          "width": 2
         },
         "marker": {
          "color": "violet",
          "opacity": 0.8,
          "size": 10
         },
         "mode": "markers",
         "name": "Onset Time",
         "opacity": 0.8,
         "showlegend": true,
         "type": "scatter3d",
         "x": [
          null
         ],
         "y": [
          null
         ],
         "z": [
          null
         ]
        },
        {
         "line": {
          "dash": "solid",
          "width": 2
         },
         "marker": {
          "color": "black",
          "opacity": 0.8,
          "size": 8
         },
         "mode": "markers",
         "name": "100ms spacing",
         "opacity": 0.8,
         "showlegend": true,
         "type": "scatter3d",
         "x": [
          null
         ],
         "y": [
          null
         ],
         "z": [
          null
         ]
        },
        {
         "line": {
          "color": "red",
          "width": 6
         },
         "mode": "lines",
         "name": "Choice Axis",
         "type": "scatter3d",
         "x": [
          0,
          1143.5474720231005
         ],
         "y": [
          0,
          520.3843740789841
         ],
         "z": [
          0,
          2478.6588653848166
         ]
        },
        {
         "anchor": "tail",
         "colorscale": [
          [
           0,
           "red"
          ],
          [
           1,
           "red"
          ]
         ],
         "showscale": false,
         "sizemode": "absolute",
         "sizeref": 100,
         "type": "cone",
         "u": [
          1143.5474720231005
         ],
         "v": [
          520.3843740789841
         ],
         "w": [
          2478.6588653848166
         ],
         "x": [
          1143.5474720231005
         ],
         "y": [
          520.3843740789841
         ],
         "z": [
          2478.6588653848166
         ]
        }
       ],
       "layout": {
        "height": 1200,
        "scene": {
         "xaxis": {
          "title": {
           "text": "PC1"
          }
         },
         "yaxis": {
          "title": {
           "text": "PC2"
          }
         },
         "zaxis": {
          "title": {
           "text": "PC3"
          }
         }
        },
        "template": {
         "data": {
          "bar": [
           {
            "error_x": {
             "color": "#2a3f5f"
            },
            "error_y": {
             "color": "#2a3f5f"
            },
            "marker": {
             "line": {
              "color": "#E5ECF6",
              "width": 0.5
             },
             "pattern": {
              "fillmode": "overlay",
              "size": 10,
              "solidity": 0.2
             }
            },
            "type": "bar"
           }
          ],
          "barpolar": [
           {
            "marker": {
             "line": {
              "color": "#E5ECF6",
              "width": 0.5
             },
             "pattern": {
              "fillmode": "overlay",
              "size": 10,
              "solidity": 0.2
             }
            },
            "type": "barpolar"
           }
          ],
          "carpet": [
           {
            "aaxis": {
             "endlinecolor": "#2a3f5f",
             "gridcolor": "white",
             "linecolor": "white",
             "minorgridcolor": "white",
             "startlinecolor": "#2a3f5f"
            },
            "baxis": {
             "endlinecolor": "#2a3f5f",
             "gridcolor": "white",
             "linecolor": "white",
             "minorgridcolor": "white",
             "startlinecolor": "#2a3f5f"
            },
            "type": "carpet"
           }
          ],
          "choropleth": [
           {
            "colorbar": {
             "outlinewidth": 0,
             "ticks": ""
            },
            "type": "choropleth"
           }
          ],
          "contour": [
           {
            "colorbar": {
             "outlinewidth": 0,
             "ticks": ""
            },
            "colorscale": [
             [
              0,
              "#0d0887"
             ],
             [
              0.1111111111111111,
              "#46039f"
             ],
             [
              0.2222222222222222,
              "#7201a8"
             ],
             [
              0.3333333333333333,
              "#9c179e"
             ],
             [
              0.4444444444444444,
              "#bd3786"
             ],
             [
              0.5555555555555556,
              "#d8576b"
             ],
             [
              0.6666666666666666,
              "#ed7953"
             ],
             [
              0.7777777777777778,
              "#fb9f3a"
             ],
             [
              0.8888888888888888,
              "#fdca26"
             ],
             [
              1,
              "#f0f921"
             ]
            ],
            "type": "contour"
           }
          ],
          "contourcarpet": [
           {
            "colorbar": {
             "outlinewidth": 0,
             "ticks": ""
            },
            "type": "contourcarpet"
           }
          ],
          "heatmap": [
           {
            "colorbar": {
             "outlinewidth": 0,
             "ticks": ""
            },
            "colorscale": [
             [
              0,
              "#0d0887"
             ],
             [
              0.1111111111111111,
              "#46039f"
             ],
             [
              0.2222222222222222,
              "#7201a8"
             ],
             [
              0.3333333333333333,
              "#9c179e"
             ],
             [
              0.4444444444444444,
              "#bd3786"
             ],
             [
              0.5555555555555556,
              "#d8576b"
             ],
             [
              0.6666666666666666,
              "#ed7953"
             ],
             [
              0.7777777777777778,
              "#fb9f3a"
             ],
             [
              0.8888888888888888,
              "#fdca26"
             ],
             [
              1,
              "#f0f921"
             ]
            ],
            "type": "heatmap"
           }
          ],
          "histogram": [
           {
            "marker": {
             "pattern": {
              "fillmode": "overlay",
              "size": 10,
              "solidity": 0.2
             }
            },
            "type": "histogram"
           }
          ],
          "histogram2d": [
           {
            "colorbar": {
             "outlinewidth": 0,
             "ticks": ""
            },
            "colorscale": [
             [
              0,
              "#0d0887"
             ],
             [
              0.1111111111111111,
              "#46039f"
             ],
             [
              0.2222222222222222,
              "#7201a8"
             ],
             [
              0.3333333333333333,
              "#9c179e"
             ],
             [
              0.4444444444444444,
              "#bd3786"
             ],
             [
              0.5555555555555556,
              "#d8576b"
             ],
             [
              0.6666666666666666,
              "#ed7953"
             ],
             [
              0.7777777777777778,
              "#fb9f3a"
             ],
             [
              0.8888888888888888,
              "#fdca26"
             ],
             [
              1,
              "#f0f921"
             ]
            ],
            "type": "histogram2d"
           }
          ],
          "histogram2dcontour": [
           {
            "colorbar": {
             "outlinewidth": 0,
             "ticks": ""
            },
            "colorscale": [
             [
              0,
              "#0d0887"
             ],
             [
              0.1111111111111111,
              "#46039f"
             ],
             [
              0.2222222222222222,
              "#7201a8"
             ],
             [
              0.3333333333333333,
              "#9c179e"
             ],
             [
              0.4444444444444444,
              "#bd3786"
             ],
             [
              0.5555555555555556,
              "#d8576b"
             ],
             [
              0.6666666666666666,
              "#ed7953"
             ],
             [
              0.7777777777777778,
              "#fb9f3a"
             ],
             [
              0.8888888888888888,
              "#fdca26"
             ],
             [
              1,
              "#f0f921"
             ]
            ],
            "type": "histogram2dcontour"
           }
          ],
          "mesh3d": [
           {
            "colorbar": {
             "outlinewidth": 0,
             "ticks": ""
            },
            "type": "mesh3d"
           }
          ],
          "parcoords": [
           {
            "line": {
             "colorbar": {
              "outlinewidth": 0,
              "ticks": ""
             }
            },
            "type": "parcoords"
           }
          ],
          "pie": [
           {
            "automargin": true,
            "type": "pie"
           }
          ],
          "scatter": [
           {
            "fillpattern": {
             "fillmode": "overlay",
             "size": 10,
             "solidity": 0.2
            },
            "type": "scatter"
           }
          ],
          "scatter3d": [
           {
            "line": {
             "colorbar": {
              "outlinewidth": 0,
              "ticks": ""
             }
            },
            "marker": {
             "colorbar": {
              "outlinewidth": 0,
              "ticks": ""
             }
            },
            "type": "scatter3d"
           }
          ],
          "scattercarpet": [
           {
            "marker": {
             "colorbar": {
              "outlinewidth": 0,
              "ticks": ""
             }
            },
            "type": "scattercarpet"
           }
          ],
          "scattergeo": [
           {
            "marker": {
             "colorbar": {
              "outlinewidth": 0,
              "ticks": ""
             }
            },
            "type": "scattergeo"
           }
          ],
          "scattergl": [
           {
            "marker": {
             "colorbar": {
              "outlinewidth": 0,
              "ticks": ""
             }
            },
            "type": "scattergl"
           }
          ],
          "scattermap": [
           {
            "marker": {
             "colorbar": {
              "outlinewidth": 0,
              "ticks": ""
             }
            },
            "type": "scattermap"
           }
          ],
          "scattermapbox": [
           {
            "marker": {
             "colorbar": {
              "outlinewidth": 0,
              "ticks": ""
             }
            },
            "type": "scattermapbox"
           }
          ],
          "scatterpolar": [
           {
            "marker": {
             "colorbar": {
              "outlinewidth": 0,
              "ticks": ""
             }
            },
            "type": "scatterpolar"
           }
          ],
          "scatterpolargl": [
           {
            "marker": {
             "colorbar": {
              "outlinewidth": 0,
              "ticks": ""
             }
            },
            "type": "scatterpolargl"
           }
          ],
          "scatterternary": [
           {
            "marker": {
             "colorbar": {
              "outlinewidth": 0,
              "ticks": ""
             }
            },
            "type": "scatterternary"
           }
          ],
          "surface": [
           {
            "colorbar": {
             "outlinewidth": 0,
             "ticks": ""
            },
            "colorscale": [
             [
              0,
              "#0d0887"
             ],
             [
              0.1111111111111111,
              "#46039f"
             ],
             [
              0.2222222222222222,
              "#7201a8"
             ],
             [
              0.3333333333333333,
              "#9c179e"
             ],
             [
              0.4444444444444444,
              "#bd3786"
             ],
             [
              0.5555555555555556,
              "#d8576b"
             ],
             [
              0.6666666666666666,
              "#ed7953"
             ],
             [
              0.7777777777777778,
              "#fb9f3a"
             ],
             [
              0.8888888888888888,
              "#fdca26"
             ],
             [
              1,
              "#f0f921"
             ]
            ],
            "type": "surface"
           }
          ],
          "table": [
           {
            "cells": {
             "fill": {
              "color": "#EBF0F8"
             },
             "line": {
              "color": "white"
             }
            },
            "header": {
             "fill": {
              "color": "#C8D4E3"
             },
             "line": {
              "color": "white"
             }
            },
            "type": "table"
           }
          ]
         },
         "layout": {
          "annotationdefaults": {
           "arrowcolor": "#2a3f5f",
           "arrowhead": 0,
           "arrowwidth": 1
          },
          "autotypenumbers": "strict",
          "coloraxis": {
           "colorbar": {
            "outlinewidth": 0,
            "ticks": ""
           }
          },
          "colorscale": {
           "diverging": [
            [
             0,
             "#8e0152"
            ],
            [
             0.1,
             "#c51b7d"
            ],
            [
             0.2,
             "#de77ae"
            ],
            [
             0.3,
             "#f1b6da"
            ],
            [
             0.4,
             "#fde0ef"
            ],
            [
             0.5,
             "#f7f7f7"
            ],
            [
             0.6,
             "#e6f5d0"
            ],
            [
             0.7,
             "#b8e186"
            ],
            [
             0.8,
             "#7fbc41"
            ],
            [
             0.9,
             "#4d9221"
            ],
            [
             1,
             "#276419"
            ]
           ],
           "sequential": [
            [
             0,
             "#0d0887"
            ],
            [
             0.1111111111111111,
             "#46039f"
            ],
            [
             0.2222222222222222,
             "#7201a8"
            ],
            [
             0.3333333333333333,
             "#9c179e"
            ],
            [
             0.4444444444444444,
             "#bd3786"
            ],
            [
             0.5555555555555556,
             "#d8576b"
            ],
            [
             0.6666666666666666,
             "#ed7953"
            ],
            [
             0.7777777777777778,
             "#fb9f3a"
            ],
            [
             0.8888888888888888,
             "#fdca26"
            ],
            [
             1,
             "#f0f921"
            ]
           ],
           "sequentialminus": [
            [
             0,
             "#0d0887"
            ],
            [
             0.1111111111111111,
             "#46039f"
            ],
            [
             0.2222222222222222,
             "#7201a8"
            ],
            [
             0.3333333333333333,
             "#9c179e"
            ],
            [
             0.4444444444444444,
             "#bd3786"
            ],
            [
             0.5555555555555556,
             "#d8576b"
            ],
            [
             0.6666666666666666,
             "#ed7953"
            ],
            [
             0.7777777777777778,
             "#fb9f3a"
            ],
            [
             0.8888888888888888,
             "#fdca26"
            ],
            [
             1,
             "#f0f921"
            ]
           ]
          },
          "colorway": [
           "#636efa",
           "#EF553B",
           "#00cc96",
           "#ab63fa",
           "#FFA15A",
           "#19d3f3",
           "#FF6692",
           "#B6E880",
           "#FF97FF",
           "#FECB52"
          ],
          "font": {
           "color": "#2a3f5f"
          },
          "geo": {
           "bgcolor": "white",
           "lakecolor": "white",
           "landcolor": "#E5ECF6",
           "showlakes": true,
           "showland": true,
           "subunitcolor": "white"
          },
          "hoverlabel": {
           "align": "left"
          },
          "hovermode": "closest",
          "mapbox": {
           "style": "light"
          },
          "paper_bgcolor": "white",
          "plot_bgcolor": "#E5ECF6",
          "polar": {
           "angularaxis": {
            "gridcolor": "white",
            "linecolor": "white",
            "ticks": ""
           },
           "bgcolor": "#E5ECF6",
           "radialaxis": {
            "gridcolor": "white",
            "linecolor": "white",
            "ticks": ""
           }
          },
          "scene": {
           "xaxis": {
            "backgroundcolor": "#E5ECF6",
            "gridcolor": "white",
            "gridwidth": 2,
            "linecolor": "white",
            "showbackground": true,
            "ticks": "",
            "zerolinecolor": "white"
           },
           "yaxis": {
            "backgroundcolor": "#E5ECF6",
            "gridcolor": "white",
            "gridwidth": 2,
            "linecolor": "white",
            "showbackground": true,
            "ticks": "",
            "zerolinecolor": "white"
           },
           "zaxis": {
            "backgroundcolor": "#E5ECF6",
            "gridcolor": "white",
            "gridwidth": 2,
            "linecolor": "white",
            "showbackground": true,
            "ticks": "",
            "zerolinecolor": "white"
           }
          },
          "shapedefaults": {
           "line": {
            "color": "#2a3f5f"
           }
          },
          "ternary": {
           "aaxis": {
            "gridcolor": "white",
            "linecolor": "white",
            "ticks": ""
           },
           "baxis": {
            "gridcolor": "white",
            "linecolor": "white",
            "ticks": ""
           },
           "bgcolor": "#E5ECF6",
           "caxis": {
            "gridcolor": "white",
            "linecolor": "white",
            "ticks": ""
           }
          },
          "title": {
           "x": 0.05
          },
          "xaxis": {
           "automargin": true,
           "gridcolor": "white",
           "linecolor": "white",
           "ticks": "",
           "title": {
            "standoff": 15
           },
           "zerolinecolor": "white",
           "zerolinewidth": 2
          },
          "yaxis": {
           "automargin": true,
           "gridcolor": "white",
           "linecolor": "white",
           "ticks": "",
           "title": {
            "standoff": 15
           },
           "zerolinecolor": "white",
           "zerolinewidth": 2
          }
         }
        },
        "title": {
         "text": "Interactive 3D PCA Projection"
        },
        "width": 1600
       }
      }
     },
     "metadata": {},
     "output_type": "display_data"
    }
   ],
   "source": [
    "alignment = \"stimulus_onset\"\n",
    "state_values = [\"unbiased_state\"]#,\"unbiased_state\"]  # States\n",
    "\n",
    "[x_choice,y_choice,z_choice] = toRF_pc_weights[alignment][:,:3].T @ choice_axis['toRF_prior'][alignment]\n",
    "[x_stimulus,y_stimulus,z_stimulus] = toRF_pc_weights[alignment][:,:3].T @ stimulus_axis['toRF_prior'][alignment]\n",
    "[x_bias,y_bias,z_bias] = toRF_pc_weights[alignment][:,:3].T @ bias_axis['toRF_prior'][alignment]\n",
    "\n",
    "# Define colors for each coherence level\n",
    "alignment_dict = ephys_config[\"alignment_settings_GP\"][alignment]\n",
    "conditions = [\n",
    "        \"coh_0_choice_toRF_corr\",\n",
    "        \"coh_6_choice_toRF_corr\",\n",
    "        \"coh_20_choice_toRF_corr\",\n",
    "        \"coh_50_choice_toRF_corr\",\n",
    "        \"coh_0_choice_awayRF_corr\",\n",
    "        \"coh_6_choice_awayRF_corr\",\n",
    "        \"coh_20_choice_awayRF_corr\",\n",
    "        \"coh_50_choice_awayRF_corr\"\n",
    "        ]\n",
    "\n",
    "if alignment == \"response_onset\":\n",
    "    timepoints_list = np.arange(0, alignment_dict[\"end_time_ms\"] - alignment_dict[\"start_time_ms\"] + 1, 50)\n",
    "else:\n",
    "    timepoints_list=np.arange(0, alignment_dict[\"end_time_ms\"] - alignment_dict[\"start_time_ms\"] + 1, 100)\n",
    "\n",
    "# Create a figure\n",
    "fig = go.Figure()\n",
    "plot_pca_projection(fig, conditions, state_values,\n",
    "                    pc_projection_biased_state_toRF_prior[\"mean\"][alignment], pc_projection_unbiased_state_toRF_prior[\"mean\"][alignment],\n",
    "                    timepoints_list=timepoints_list, onset_time = - alignment_dict[\"start_time_ms\"],axes=(0,1,2))\n",
    "magnif = 50\n",
    "# add_axis_arrow(fig,x_stimulus*magnif,y_stimulus*magnif,z_stimulus*magnif,color = 'black',legend='Stimulus Axis')\n",
    "add_axis_arrow(fig,x_choice*magnif,y_choice*magnif,z_choice*magnif,color = 'red',legend='Choice Axis')\n",
    "# add_axis_arrow(fig,x_bias*magnif,y_bias*magnif,z_bias*magnif,color = 'blue',legend='Bias Axis')\n",
    "\n",
    "# Set plot labels\n",
    "fig.update_layout(\n",
    "    width = 1600,\n",
    "    height= 1200,\n",
    "    scene=dict(\n",
    "        xaxis_title=\"PC1\",\n",
    "        yaxis_title=\"PC2\",\n",
    "        zaxis_title=\"PC3\"\n",
    "    ),\n",
    "    title=\"Interactive 3D PCA Projection\"\n",
    ")\n",
    "\n",
    "fig.show()"
   ]
  },
  {
   "cell_type": "markdown",
   "metadata": {},
   "source": [
    "#### awayRF sessions"
   ]
  },
  {
   "cell_type": "code",
   "execution_count": 69,
   "metadata": {},
   "outputs": [
    {
     "data": {
      "application/vnd.plotly.v1+json": {
       "config": {
        "plotlyServerURL": "https://plot.ly"
       },
       "data": [
        {
         "line": {
          "dash": "solid",
          "width": 5
         },
         "marker": {
          "color": "blue",
          "opacity": 1,
          "size": 2
         },
         "mode": "lines",
         "name": "coh_0_choice_toRF_corr_biased_state",
         "opacity": 1,
         "showlegend": true,
         "type": "scatter3d",
         "x": {
          "bdata": "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",
          "dtype": "f8"
         },
         "y": {
          "bdata": "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",
          "dtype": "f8"
         },
         "z": {
          "bdata": "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",
          "dtype": "f8"
         }
        },
        {
         "line": {
          "dash": "solid",
          "width": 2
         },
         "marker": {
          "color": "blue",
          "opacity": 1,
          "size": 2
         },
         "mode": "lines",
         "name": "coh_0_choice_toRF_corr_unbiased_state",
         "opacity": 1,
         "showlegend": true,
         "type": "scatter3d",
         "x": {
          "bdata": "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",
          "dtype": "f8"
         },
         "y": {
          "bdata": "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",
          "dtype": "f8"
         },
         "z": {
          "bdata": "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",
          "dtype": "f8"
         }
        },
        {
         "line": {
          "dash": "solid",
          "width": 5
         },
         "marker": {
          "color": "red",
          "opacity": 1,
          "size": 2
         },
         "mode": "lines",
         "name": "coh_50_choice_toRF_corr_biased_state",
         "opacity": 1,
         "showlegend": true,
         "type": "scatter3d",
         "x": {
          "bdata": "L82eFdqaksD877U21amSwCS057ybuJLALR/B2ynGksBeNg5ZZsySwLB3ENFQz5LAlci3eP7NksDjuaxjqsWSwCbE96fFuZLABJYqGhamksCEAA0Js4iSwFjC3e1TaZLA6SmHY69DksCBratwNhWSwHyJ/S2I35HAEbmFL2ClkcAjzQrP5GKRwNWX5DIiF5HAPV3RzDXHkMAfK19H5naQwCg+m4z2IJDAJTG9uNmTj8DCPtOLe+qOwDUPU2jcRY7Ab6fWFeirjcAr/jHbeQ6NwP3zcX5ke4zAp9oCm3r2i8DOH/JKn3eLwO0lUW/hDIvAZpWm7eC5isDVKnlTgHWKwKxCBgrIPorArk7/uhUgisDmnYEtYRSKwATa2T+CEYrAcx4VcocfisBG1JfLF0SKwOPSVP5EaYrAEmor+YuaisAotQqhF9KKwN9C9zApEovAN+QdIahUi8DVFEdNhJeLwC3LgFpv54vAh2N60Fc2jMCFFuEse4aMwEqqmW+a2YzAuKLkUrsjjcA2B4gfUm+NwCAvz1eJrI3ABIA8Ru3pjcBmAuatXRiOwNISUdDYO47ALe0vOq1TjsCGGK20tFyOwMINcSi4WI7A624GIkBPjsCaF2n1RDGOwHPMCUnv+o3AlAW+DOa1jcCC0h0JE1+NwBREf4Ch+YzAOiyjuA6HjMAUbMotRQKMwK9FTNGKfovAi0dnI0HwisDlk/yrAGOKwPs69qSx3onABtnlialTicAAgnLhLtmIwBg5SC8daIjAjfC+8w4GiMAugqUQDruHwDl9GMzfh4fAj/BDwvdah8AZEs5LikmHwJ+Z5XexXIfA+dBbG8eEh8DqvSyz3b6HwDv2F1RZDIjARAcEWlhniMAh7ViqWseIwPTN5UgUL4nAdncxby+bicCXSpvFIwSKwB0y73+tb4rAgCOTqKTUisAnQ03vJCqLwBBLEgGVc4vAxU2lb3uqi8Anj18DRtGLwAcAbrwA5ovAKXwrJDnvi8AVFLz8yOaLwGqgQRK714vATZQLNvSzi8DU96NueIOLwO/Go720PovAhFixRm78isA9as5j07iKwEQa76+faYrA34L+VeQTisAY7RrMJMOJwMx7v5nzcYnAJa9/fZslicCdU6fIRemIwNbnqyA/tIjAu47lKrt8iMA3Vvcv2VyIwPhaAPUdP4jA+LdHMzIziMCBS7hknTGIwI0KZ+Z7SojAmuy0o8ViiMC3LVoVbo+IwJLQsIOQwYjAZsUvF2n3iMDiFQA1iDCJwC88ksmmcYnAx1ZDMIe/icA2dgBaPP6JwCIca1wxN4rA47j8gdhsisD7dST2QZeKwImKRf4dvorA6EqVOifWisDtY7j65+GKwNnb471i4IrA3sZPaHbPisDwprpy37iKwDh15z7ymIrAOHYmtH5risD8I4wAYTSKwIZCQBIc74nA4WoXagqoicDjFj7HBWaJwPoqmQwZGInAMJTQB/vCiMBzQDpZD26IwIuyBxfbEojAcBKE9Zqzh8DMhlLSGFWHwD1S3kFz9IbAo3QJVnCLhsDgtAQpaCGGwPUqj5Wnq4XAnzFa/W49hcBKFBOpmsKEwDz69gTHS4TAYwZ043bMg8DXojRSrVGDwIn/zmQA24LA+Xra7mJtgsALsvnRNAOCwA1n31wjn4HA75/o3qdQgcA0Oz2oQROBwMSwytN26IDAs5blx+bWgMBa4iNS6daAwIP2OzC78YDAysTEJIQvgcBj6Om63n6BwGGVGuwo3YHA7Ru0oT5agsBDZItWuumCwM25UAdNhoPAH7KSkds5hMAeNILnmgWFwE8N7XWK0IXAqy0zkjCdhsDlXe1WF2WHwEH4sZbFLojAg2h66TjpiMDyQVRD95aJwLyX/zHVKYrA7NTzroesisD65J9h9x2LwOwx5+AFbIvAi4mFFnSki8DTpm99u7yLwKmEbeKTuYvAiglvZSyii8AlUNOLcWyLwMcTpiXsJIvA0CZKevHIisCvKbSevlyKwLRzsyb+34nAHbm1009dicCz/wCP3dKIwEcVdrHkTYjAZyb0+L3Bh8AlepHBpD2HwAK88TQZt4bAZBI02G45hsDXekfl2cWFwIAlWXU3UoXAFjs5LbPfhMAZw6+O2m6EwLz78K93DITAr4aWcp2wg8BbpI1iQFmDwOKe/jPt/oLAYVeieA2ogsD/BZ7oqEiCwMlYYlEy6YHACrUcTBKLgcCW3zIL/yGBwMN9XOmrw4DAaEAd1E5bgMBTW9jPDuh/wDYz7HwVA3/ABO42mXYZfsDvgY6d6ih9wDltl5loPnzAgvV8VxFRe8Cz6ruZEVB6wLU5Uc6FWHnAR+006M5aeMDauQ3JvVt3wF7WgZ0ZX3bAxqh+u6VJdcBUEg7q5jB0wNSXo6BGJHPAsSnD4WUWcsCS4hpjZPtwwDmXOGctqW/AloXPiTk7bcCcSpN3fsVqwNSqS1YyB2jA3MqZyd0pZcBUd72nNHtiwCxeNFYZBF/AWZRTjh50WMDZy9UVG7ZRwPO8FXIT0EXANOhWb92qLsCmPHZ5k3UsQOIGIFAETEZAwUJGhQuzUkBpTf8phllaQAGATfHaC2FAFf8a6DG2ZED+y1rnNW9oQFv/LqXBD2xACt4hxk2Lb0BsuGS6r4BxQCU07+xWKXNA7unvxuqodEBnZ16dNC52QNaPO/fhmXdA+l02NT4AeUAyqPxOpEd6QDfdmfyif3tAej1a/UCtfEDh/ieoYtB9QMNZJrU29H5AA9+NI0MMgEDtaBjIa5iAQAh8x6MTJYFA3LO/JXezgUByvLSQ7ESCQBdwUv5P2YJAdnNJ09hog0BLomP/I/yDQDbOeouzkYRAADfc/gwthUDSW9v5jM+FQFDtbsT6fYZAetC/wGc2h0AWFYSQV+6HQE7lws1ar4hAVGjP+1Z4iUB9tRpKuU2KQBEvn+CPM4tAB22mMbgCjEBNkfDavPiMQHXiDBoz9Y1AKyuQhc3/jkADtqt4oAuQQOjf6g9wm5BAsI+yySIfkUBuUNnp+5yRQAke/RngJpJAhPuxUk6ukkBVJ32YrTaTQDKn93HpuZNASrH2RTc3lEC2Pl10aKOUQOFltkXjGZVAcw1E9OWHlUCYCFki5O+VQDTk9kpkXJZALlYKybzAlkDpcnM0HyGXQANG8dR5hJdAHFCyl+/rl0C5YoncEliYQHPE2xbQx5hAA6nWnqw2mUBuTNVbdqWZQHyXv5ddSZpAKxJZJb/FmkAUAy1RwUmbQLBsrESCmptATmsnDW0enEBzyDl8nKmcQOLfjjt/MJ1AkCwrwxK5nUAUfFNwXHKdQMAEJ7Kk6J1AtlIn0GIznkDn16FB3cWeQFtSV2qC9p5AoAtF0H9dn0DTDXLlhsyfQDgMrMm4DaBAclXH3+IQoEABArWsnUOgQDuWqO0Xd6BAgk+bZvSloEDF/Wxop9mgQHcVlDHS3qBAlnFE1wtEoUCGoPhsilKhQBrsOGGUaaFABlOHdZ+aoUAGqmiHd8ehQHQXMkGD3aFAWiaopTiqoUDS+D62EdqhQAbcnEVwyqFA79MsoIHeoUDOZFzSk/2hQHUfI3rjKqJArDrx5w5KokAmQrUvyHSiQLO+m5Koh6JAf5Mv9pqwokDOIc8GV8CiQDjV2fPN46JATkPUcPIRo0Anb+i62z2jQIWs9PznOaNAhjotcLRgo0DpPVv3+YOjQNdxryworaNA983SjBe9o0AsmQnSJtGjQPpMdJR936NAFnMvd/HVo0A0Czb/i8yjQF5QoAOo8qNAFwz4oVzSo0Bvwj2Mh+qjQFuwyUyZGqRA35VS3jUzpEBbwjUB3WCkQA2TC31cd6RAPBlCcrf8o0BUodtqvTWkQGdnjflWUaRAfbwjhwmNpEAAAAAAAAD4fwAAAAAAAPh/AAAAAAAA+H8AAAAAAAD4fwAAAAAAAPh/AAAAAAAA+H8AAAAAAAD4fwAAAAAAAPh/AAAAAAAA+H8AAAAAAAD4fwAAAAAAAPh/AAAAAAAA+H8AAAAAAAD4fwAAAAAAAPh/AAAAAAAA+H8AAAAAAAD4fwAAAAAAAPh/AAAAAAAA+H8AAAAAAAD4fwAAAAAAAPh/AAAAAAAA+H8AAAAAAAD4fwAAAAAAAPh/AAAAAAAA+H8AAAAAAAD4fwAAAAAAAPh/AAAAAAAA+H8AAAAAAAD4fwAAAAAAAPh/AAAAAAAA+H8AAAAAAAD4fwAAAAAAAPh/AAAAAAAA+H8AAAAAAAD4fwAAAAAAAPh/AAAAAAAA+H8AAAAAAAD4fwAAAAAAAPh/AAAAAAAA+H8AAAAAAAD4fwAAAAAAAPh/AAAAAAAA+H8AAAAAAAD4fwAAAAAAAPh/AAAAAAAA+H8AAAAAAAD4fwAAAAAAAPh/AAAAAAAA+H8AAAAAAAD4fwAAAAAAAPh/AAAAAAAA+H8AAAAAAAD4fwAAAAAAAPh/AAAAAAAA+H8AAAAAAAD4fwAAAAAAAPh/AAAAAAAA+H8AAAAAAAD4fwAAAAAAAPh/AAAAAAAA+H8AAAAAAAD4fwAAAAAAAPh/AAAAAAAA+H8AAAAAAAD4fwAAAAAAAPh/AAAAAAAA+H8AAAAAAAD4fwAAAAAAAPh/AAAAAAAA+H8AAAAAAAD4fwAAAAAAAPh/AAAAAAAA+H8AAAAAAAD4fwAAAAAAAPh/AAAAAAAA+H8AAAAAAAD4fwAAAAAAAPh/AAAAAAAA+H8AAAAAAAD4fwAAAAAAAPh/AAAAAAAA+H8AAAAAAAD4fwAAAAAAAPh/AAAAAAAA+H8AAAAAAAD4fwAAAAAAAPh/AAAAAAAA+H8AAAAAAAD4fwAAAAAAAPh/AAAAAAAA+H8AAAAAAAD4fwAAAAAAAPh/AAAAAAAA+H8AAAAAAAD4fwAAAAAAAPh/AAAAAAAA+H8AAAAAAAD4fwAAAAAAAPh/AAAAAAAA+H8AAAAAAAD4fwAAAAAAAPh/AAAAAAAA+H8AAAAAAAD4fwAAAAAAAPh/AAAAAAAA+H8AAAAAAAD4fwAAAAAAAPh/AAAAAAAA+H8AAAAAAAD4fwAAAAAAAPh/AAAAAAAA+H8AAAAAAAD4fwAAAAAAAPh/AAAAAAAA+H8AAAAAAAD4fwAAAAAAAPh/AAAAAAAA+H8AAAAAAAD4fwAAAAAAAPh/AAAAAAAA+H8AAAAAAAD4fwAAAAAAAPh/AAAAAAAA+H8AAAAAAAD4fwAAAAAAAPh/AAAAAAAA+H8AAAAAAAD4fwAAAAAAAPh/AAAAAAAA+H8AAAAAAAD4fwAAAAAAAPh/AAAAAAAA+H8AAAAAAAD4fwAAAAAAAPh/AAAAAAAA+H8AAAAAAAD4fwAAAAAAAPh/AAAAAAAA+H8AAAAAAAD4fwAAAAAAAPh/AAAAAAAA+H8AAAAAAAD4fwAAAAAAAPh/AAAAAAAA+H8AAAAAAAD4fwAAAAAAAPh/AAAAAAAA+H8AAAAAAAD4fwAAAAAAAPh/AAAAAAAA+H8AAAAAAAD4fwAAAAAAAPh/AAAAAAAA+H8AAAAAAAD4fwAAAAAAAPh/AAAAAAAA+H8AAAAAAAD4fwAAAAAAAPh/AAAAAAAA+H8AAAAAAAD4fwAAAAAAAPh/AAAAAAAA+H8AAAAAAAD4fwAAAAAAAPh/AAAAAAAA+H8AAAAAAAD4fwAAAAAAAPh/AAAAAAAA+H8AAAAAAAD4fwAAAAAAAPh/AAAAAAAA+H8AAAAAAAD4fwAAAAAAAPh/AAAAAAAA+H8AAAAAAAD4fwAAAAAAAPh/AAAAAAAA+H8AAAAAAAD4fwAAAAAAAPh/AAAAAAAA+H8AAAAAAAD4fwAAAAAAAPh/AAAAAAAA+H8AAAAAAAD4fwAAAAAAAPh/AAAAAAAA+H8AAAAAAAD4fwAAAAAAAPh/AAAAAAAA+H8AAAAAAAD4fwAAAAAAAPh/AAAAAAAA+H8AAAAAAAD4fwAAAAAAAPh/AAAAAAAA+H8AAAAAAAD4fwAAAAAAAPh/AAAAAAAA+H8AAAAAAAD4fwAAAAAAAPh/AAAAAAAA+H8AAAAAAAD4fwAAAAAAAPh/AAAAAAAA+H8AAAAAAAD4fwAAAAAAAPh/AAAAAAAA+H8AAAAAAAD4fwAAAAAAAPh/AAAAAAAA+H8AAAAAAAD4fwAAAAAAAPh/AAAAAAAA+H8AAAAAAAD4fwAAAAAAAPh/AAAAAAAA+H8AAAAAAAD4fwAAAAAAAPh/AAAAAAAA+H8AAAAAAAD4fwAAAAAAAPh/AAAAAAAA+H8AAAAAAAD4fwAAAAAAAPh/AAAAAAAA+H8AAAAAAAD4fwAAAAAAAPh/AAAAAAAA+H8AAAAAAAD4fwAAAAAAAPh/AAAAAAAA+H8AAAAAAAD4fwAAAAAAAPh/AAAAAAAA+H8AAAAAAAD4fwAAAAAAAPh/AAAAAAAA+H8AAAAAAAD4fwAAAAAAAPh/AAAAAAAA+H8AAAAAAAD4fwAAAAAAAPh/AAAAAAAA+H8AAAAAAAD4fwAAAAAAAPh/AAAAAAAA+H8AAAAAAAD4fwAAAAAAAPh/AAAAAAAA+H8AAAAAAAD4fwAAAAAAAPh/AAAAAAAA+H8AAAAAAAD4fwAAAAAAAPh/AAAAAAAA+H8AAAAAAAD4fwAAAAAAAPh/AAAAAAAA+H8AAAAAAAD4fwAAAAAAAPh/AAAAAAAA+H8AAAAAAAD4fwAAAAAAAPh/AAAAAAAA+H8AAAAAAAD4fwAAAAAAAPh/AAAAAAAA+H8AAAAAAAD4fwAAAAAAAPh/AAAAAAAA+H8AAAAAAAD4fwAAAAAAAPh/AAAAAAAA+H8AAAAAAAD4fwAAAAAAAPh/AAAAAAAA+H8AAAAAAAD4fwAAAAAAAPh/AAAAAAAA+H8AAAAAAAD4fwAAAAAAAPh/AAAAAAAA+H8AAAAAAAD4fwAAAAAAAPh/AAAAAAAA+H8AAAAAAAD4fwAAAAAAAPh/AAAAAAAA+H8AAAAAAAD4fwAAAAAAAPh/AAAAAAAA+H8AAAAAAAD4fwAAAAAAAPh/AAAAAAAA+H8AAAAAAAD4fwAAAAAAAPh/AAAAAAAA+H8AAAAAAAD4fwAAAAAAAPh/AAAAAAAA+H8AAAAAAAD4fwAAAAAAAPh/AAAAAAAA+H8AAAAAAAD4fwAAAAAAAPh/AAAAAAAA+H8AAAAAAAD4fwAAAAAAAPh/AAAAAAAA+H8AAAAAAAD4fwAAAAAAAPh/AAAAAAAA+H8AAAAAAAD4fwAAAAAAAPh/AAAAAAAA+H8AAAAAAAD4fwAAAAAAAPh/AAAAAAAA+H8AAAAAAAD4fwAAAAAAAPh/AAAAAAAA+H8AAAAAAAD4fwAAAAAAAPh/AAAAAAAA+H8AAAAAAAD4fwAAAAAAAPh/AAAAAAAA+H8AAAAAAAD4fwAAAAAAAPh/AAAAAAAA+H8AAAAAAAD4fwAAAAAAAPh/AAAAAAAA+H8AAAAAAAD4fwAAAAAAAPh/AAAAAAAA+H8AAAAAAAD4fwAAAAAAAPh/AAAAAAAA+H8AAAAAAAD4fwAAAAAAAPh/AAAAAAAA+H8AAAAAAAD4fwAAAAAAAPh/AAAAAAAA+H8AAAAAAAD4fwAAAAAAAPh/AAAAAAAA+H8AAAAAAAD4fwAAAAAAAPh/AAAAAAAA+H8AAAAAAAD4fwAAAAAAAPh/AAAAAAAA+H8AAAAAAAD4fwAAAAAAAPh/AAAAAAAA+H8AAAAAAAD4fwAAAAAAAPh/AAAAAAAA+H8AAAAAAAD4fwAAAAAAAPh/AAAAAAAA+H8AAAAAAAD4fwAAAAAAAPh/AAAAAAAA+H8AAAAAAAD4fwAAAAAAAPh/AAAAAAAA+H8AAAAAAAD4fwAAAAAAAPh/AAAAAAAA+H8AAAAAAAD4fwAAAAAAAPh/AAAAAAAA+H8AAAAAAAD4fwAAAAAAAPh/AAAAAAAA+H8AAAAAAAD4fwAAAAAAAPh/AAAAAAAA+H8AAAAAAAD4fwAAAAAAAPh/AAAAAAAA+H8AAAAAAAD4fwAAAAAAAPh/AAAAAAAA+H8AAAAAAAD4fwAAAAAAAPh/AAAAAAAA+H8AAAAAAAD4fwAAAAAAAPh/AAAAAAAA+H8AAAAAAAD4fwAAAAAAAPh/AAAAAAAA+H8AAAAAAAD4fwAAAAAAAPh/AAAAAAAA+H8AAAAAAAD4fwAAAAAAAPh/AAAAAAAA+H8AAAAAAAD4fwAAAAAAAPh/AAAAAAAA+H8AAAAAAAD4fwAAAAAAAPh/AAAAAAAA+H8AAAAAAAD4fwAAAAAAAPh/AAAAAAAA+H8AAAAAAAD4fwAAAAAAAPh/AAAAAAAA+H8AAAAAAAD4fwAAAAAAAPh/AAAAAAAA+H8AAAAAAAD4fwAAAAAAAPh/AAAAAAAA+H8AAAAAAAD4fwAAAAAAAPh/AAAAAAAA+H8AAAAAAAD4fwAAAAAAAPh/AAAAAAAA+H8AAAAAAAD4fwAAAAAAAPh/AAAAAAAA+H8AAAAAAAD4fwAAAAAAAPh/AAAAAAAA+H8AAAAAAAD4fwAAAAAAAPh/AAAAAAAA+H8AAAAAAAD4fwAAAAAAAPh/AAAAAAAA+H8AAAAAAAD4fwAAAAAAAPh/AAAAAAAA+H8AAAAAAAD4fwAAAAAAAPh/AAAAAAAA+H8AAAAAAAD4fwAAAAAAAPh/AAAAAAAA+H8AAAAAAAD4fwAAAAAAAPh/AAAAAAAA+H8AAAAAAAD4fwAAAAAAAPh/AAAAAAAA+H8AAAAAAAD4fwAAAAAAAPh/AAAAAAAA+H8AAAAAAAD4fwAAAAAAAPh/AAAAAAAA+H8AAAAAAAD4fwAAAAAAAPh/AAAAAAAA+H8AAAAAAAD4fwAAAAAAAPh/AAAAAAAA+H8AAAAAAAD4fwAAAAAAAPh/AAAAAAAA+H8AAAAAAAD4fwAAAAAAAPh/AAAAAAAA+H8AAAAAAAD4fwAAAAAAAPh/AAAAAAAA+H8AAAAAAAD4fwAAAAAAAPh/AAAAAAAA+H8AAAAAAAD4fwAAAAAAAPh/AAAAAAAA+H8AAAAAAAD4fwAAAAAAAPh/AAAAAAAA+H8AAAAAAAD4fwAAAAAAAPh/AAAAAAAA+H8AAAAAAAD4fwAAAAAAAPh/AAAAAAAA+H8AAAAAAAD4fwAAAAAAAPh/AAAAAAAA+H8AAAAAAAD4fwAAAAAAAPh/AAAAAAAA+H8AAAAAAAD4fwAAAAAAAPh/AAAAAAAA+H8AAAAAAAD4fwAAAAAAAPh/AAAAAAAA+H8AAAAAAAD4fwAAAAAAAPh/AAAAAAAA+H8AAAAAAAD4fwAAAAAAAPh/AAAAAAAA+H8AAAAAAAD4fwAAAAAAAPh/AAAAAAAA+H8AAAAAAAD4fwAAAAAAAPh/AAAAAAAA+H8AAAAAAAD4fwAAAAAAAPh/AAAAAAAA+H8AAAAAAAD4fwAAAAAAAPh/AAAAAAAA+H8AAAAAAAD4fwAAAAAAAPh/AAAAAAAA+H8AAAAAAAD4fwAAAAAAAPh/AAAAAAAA+H8AAAAAAAD4fwAAAAAAAPh/AAAAAAAA+H8AAAAAAAD4fwAAAAAAAPh/AAAAAAAA+H8AAAAAAAD4fwAAAAAAAPh/AAAAAAAA+H8AAAAAAAD4fwAAAAAAAPh/AAAAAAAA+H8=",
          "dtype": "f8"
         },
         "y": {
          "bdata": "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",
          "dtype": "f8"
         },
         "z": {
          "bdata": "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",
          "dtype": "f8"
         }
        },
        {
         "line": {
          "dash": "solid",
          "width": 2
         },
         "marker": {
          "color": "red",
          "opacity": 1,
          "size": 2
         },
         "mode": "lines",
         "name": "coh_50_choice_toRF_corr_unbiased_state",
         "opacity": 1,
         "showlegend": true,
         "type": "scatter3d",
         "x": {
          "bdata": "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",
          "dtype": "f8"
         },
         "y": {
          "bdata": "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",
          "dtype": "f8"
         },
         "z": {
          "bdata": "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",
          "dtype": "f8"
         }
        },
        {
         "line": {
          "dash": "solid",
          "width": 5
         },
         "marker": {
          "color": "blue",
          "opacity": 0.3,
          "size": 2
         },
         "mode": "lines",
         "name": "coh_0_choice_awayRF_corr_biased_state",
         "opacity": 0.3,
         "showlegend": true,
         "type": "scatter3d",
         "x": {
          "bdata": "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",
          "dtype": "f8"
         },
         "y": {
          "bdata": "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",
          "dtype": "f8"
         },
         "z": {
          "bdata": "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",
          "dtype": "f8"
         }
        },
        {
         "line": {
          "dash": "solid",
          "width": 2
         },
         "marker": {
          "color": "blue",
          "opacity": 0.3,
          "size": 2
         },
         "mode": "lines",
         "name": "coh_0_choice_awayRF_corr_unbiased_state",
         "opacity": 0.3,
         "showlegend": true,
         "type": "scatter3d",
         "x": {
          "bdata": "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",
          "dtype": "f8"
         },
         "y": {
          "bdata": "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",
          "dtype": "f8"
         },
         "z": {
          "bdata": "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",
          "dtype": "f8"
         }
        },
        {
         "line": {
          "dash": "solid",
          "width": 5
         },
         "marker": {
          "color": "red",
          "opacity": 0.3,
          "size": 2
         },
         "mode": "lines",
         "name": "coh_50_choice_awayRF_corr_biased_state",
         "opacity": 0.3,
         "showlegend": true,
         "type": "scatter3d",
         "x": {
          "bdata": "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",
          "dtype": "f8"
         },
         "y": {
          "bdata": "273Z9rh3gcD4nsCtLmmBwNAgaHX+UYHARA2zBPQ5gcA29MKAah6BwHI9G6zOA4HAPzJOgnjngMDmVJs0dM2AwBXiesvJsIDAM18XOrGUgMBZlso9LHeAwCTNZUNRXoDAO5F6dT5IgMAtnaWrrzaAwMA+N5zhKYDAIvu4vxAhgMDJZeDr/CGAwEQsoNwDJ4DAFZHBCIwygMDaf/6ue0iAwMWhNJN2YYDARGslWPKGgMANXbPnhrGAwCuJ6JYQ4oDAjSGtFnYYgcBjdC6CdlKBwKfITdMmkYHAbqb0dvPXgcDkNMrvOR+CwHeCIQzyY4LAtCIVIS2rgsBwy3F4ku6CwOJMRj5qNYPAPAsQACl4g8C2st4gCbiDwB60a46T8IPAh9nyZZwdhMCkluGvnEyEwKZFers5dYTAP0IZc96UhMB3TnUi+qmEwHJagZcUt4TAtAIzjQm9hMAlypUC7LeEwJKcf7PspITAbnIkrhCBhMBS6XaPiFWEwDR82IJ0GYTAkdkePQnUg8DLNzF/l36DwG/EepEwGoPARUi/TNumgsBkx5BcgSiCwC2qtNzEooHAJotR03MRgcBxbti+FHmAwD79hV8atX/Av2d02IhufsA6Fu/qcyd9wBKgWhqY6XvARIZiXUm5esBQV3jjBo55wBHLIbGqd3jAepU06e59d8DbDtjpPZ92wLCs0qw803XABGUvnZsudcCcG/0oS690wFujK7eeTnTAiQI2nqYRdMCB1CwF8/NzwHvV1By5+nPACyWRFq4adMD05WD4J1t0wB4Cp6bBsXTAWPFq6qUddcBs6XH2UJ91wJWacvsHLXbAgDaZ2GDJdsDdZvS8ymd3wCJfl4sMDXjACRzihgq6eMBSKrTQxGR5wL7GXj85DnrAdkxfUZW0esCxIo1ceE97wCTRUblP5XvAJjpq7mBpfMA8b5Gah+Z8wKnzlJjOVH3AVbJJ3sq/fcACpzqkSh1+wLzYD24lbX7AN7cNMvasfsCampUMc+F+wD/3DKQmEn/AO49Abmc7f8DyolqkQWh/wHZ81wF3fH/A4ion50uRf8Cc+knTtKh/wJX+BolkvX/AcAjTCTjIf8C+PLU0aNd/wHkgAJY94n/AJlN1otjzf8B6dpDIYASAwJERBBa5CIDAZ5bzVmQMgMA0AHIa6w2AwL2F2F1NDIDAweyosA0HgMCCwlNFGf9/wHX50tRk4n/AgNFSe2q8f8ALlOJ7upF/wNZl8mm4WX/A64eRDG4ef8CeO7FQ0th+wGbG/1LwiX7ALugCF+csfsDeOBJJk8t9wD1X4h73Zn3AYfeuc7H4fMBzO+bvsnt8wOdQ0Bpi73vABzcaC8tfe8C4D8UfLLR6wEDAjdJp/XnABxXsIuczecAdOyTIyFh4wHWiYQn4YXfAp6gLKS9MdsDqXP9UXxR1wKN2SGRLuXPAQ+wP2Bg6csDHcwtM65BwwAe59R8kZm3A53WXxaNNacD21sXz3M9kwELFcwTx4F/An6TuIaZHVcDQ/Ny9dNFDwN4DVLGqaCFALWVLaerJTUCPY8q2xTdcQGZNXQau+2RAlCoO4/8IbEB3pjPUj5NxQO+w+vCIJ3VAotxICq6teEAIn0oLfCB8QLLxjFQEZ39AqhaZTM0+gUBH5M1BfKiCQDEYuZb17oNAx/3ajSQLhUD+AzWCqvmFQO3Ron9ltoZAZq7kx2xDh0CmufJwoZqHQO4Abwgpw4dAACqjlsO4h0DNgHlju3uHQJtLul1/HIdAQTnYbj6UhkD7DqXVr+2FQNQen/8CMIVAkQ1NTs1ghEAJu2YztoWDQHYN7ZGto4JAiterYjzFgUAwgVdJeemAQApscrmPG4BAgtrPdoO6fkB11MOrVGB9QLwAIfQgLXxAlBzDngAme0AxqA55T096QMcFytDjn3lAQEtO51YbeUBEUd5S88F4QAybKMA4mHhAGJ4PuCCWeEBulJQTLLN4QPEFUGve63hAJrHDvCk9eUD01gCPkq55QOItsD14OHpARrUgx5HWekCWwfBUH417QI2d67jLYHxAZbpMAitCfUDBx1SAiDN+QJEYQRHHNX9A6nyuKd8qgEBFXlYLNsGAQI9gQ74nXYFAzGyY5n3+gUB7/YPDdKOCQJVQP4T+S4NAQa20gBL3g0Dg9CtzGJ+EQLPwmel0RIVAEfIQ3L3mhUAbEnRsB4CGQGZB9SggDodAO0xTNySTh0CZ6o7/LQ2IQL/2aoEBc4hAKQAnWlbJiEAnzuA4Sw6JQPdtoCpiQIlAdGr8PqBhiUB4C7pYm3CJQM7Yc1Qva4lAsCwgc1BRiUC/JihN1CmJQCLTeT9774hAeJUPJv+kiEBH8iKHhUmIQN8RFSlu4odAmVeVnkBwh0A/nlW2C/OGQFhw3QDBcYZAB9TTOtznhUC8tbG3aFyFQLe3nA1d0IRA51fXV/xDhEBUtXNK4reDQEs0srTAL4NA4dUf3TirgkBGPk4IbSuCQAWV7wgdsoFACSoFOPA9gUDFLHn3ZNCAQJ2dDyZ0boBAncE0omQVgEDT+CoX+31/QKDHOWVN435AKWe2KPVOfkBUPUt5XMd9QLF5k8toS31A76xW5pDVfEDmBaF/K258QESI70OGEXxAqF481eO8e0DNfqPuxHh7QO43gMokNHtAh9PLkCP2ekBxt0QKt8l6QBWx9YCymXpAOLXvApxpekAMTxsexkF6QPsIei4OIXpAGr66lx/6eUABKo6Nhs95QGIzrlvbr3lAG2x7B+uLeUCpWmZj/Wd5QLP+7hrbQ3lAjkFAdW4XeUCze2kOHuh4QEG9Ot3LtnhAhO5rdi96eEASeE7ZcjN4QOK7tjaa53dA7gkjejmad0DWMrR0BXV3QA2MtxvBC3dAw+hCpkiWdkB76T/jvSN2QD5v2qF7onVAdmQ+AMwTdUCzdGvGRYJ0QGYxdQAe13NArjNQnQ82c0A21wezMHxyQGGVNGFTu3FAdN4xAEAFcUD1ka89szhwQNnyoN9Nz25A7xu58AwlbUB5m46y8z1rQHYt8WD4o2lAtWYL6grrZ0BQGKJKvyFnQFVmFk+msmVArIfqgCmRZEBdBmBjWOBiQDXqx1W2KmFAkJM5GWQrYEDZpwdBWfNdQJxHyRTRzltA0cM2MyZOWkCcH1XKH75YQO/d/Hm3j1ZAuMNBF2XNVEBLy5OalsNTQLuA+H8c+VJAB7fUsVASUkD5Mos6tHtRQNdUWdtK1VBAdLjPFdLAUUD6JtlmvzNSQGQ1eMWIqVJAsFLN8ilMU0A485gW4g5VQGH2BrKXPFVAXcDy91dnVkC1yf1F3AhWQOX2zmEq+lVAEbfxq2bXVUCXkkdj3DNWQLNc/RpH/1dA6s57CDcOWEDDU2R8ow5XQDA5FPK6gVZAQqHOM4HMVkBYvnYYYDpYQHmxXTppeVhAGtYArVT3WEAo4beashJZQM7HMqtvWFlAdtPX/egkWUCBfV9gsLNYQLzRa2WDElhAoemuBwdeV0CUFO4W6MRWQOGZ5p1ewFVADcphQX3nVEAOZgpF29tUQMZZwfBr21RASkriiHFIVUDYk+V/bMBVQD8aBbNfl1VAmKoFaNbyVEBQphx72otSQAf2GfEWTlJAIHOyE8PWUUBtHWubgNpPQA2l0Gp0JU9AXwzJIVgIUUDn5cVKONBIQH+DRIZfWU1AgKk2s40QU0Cqyx3pj5lTQCWwC1Gte1RAkfxn5Xv3U0AAAAAAAAD4fwAAAAAAAPh/AAAAAAAA+H8AAAAAAAD4fwAAAAAAAPh/AAAAAAAA+H8AAAAAAAD4fwAAAAAAAPh/AAAAAAAA+H8AAAAAAAD4fwAAAAAAAPh/AAAAAAAA+H8AAAAAAAD4fwAAAAAAAPh/AAAAAAAA+H8AAAAAAAD4fwAAAAAAAPh/AAAAAAAA+H8AAAAAAAD4fwAAAAAAAPh/AAAAAAAA+H8AAAAAAAD4fwAAAAAAAPh/AAAAAAAA+H8AAAAAAAD4fwAAAAAAAPh/AAAAAAAA+H8AAAAAAAD4fwAAAAAAAPh/AAAAAAAA+H8AAAAAAAD4fwAAAAAAAPh/AAAAAAAA+H8AAAAAAAD4fwAAAAAAAPh/AAAAAAAA+H8AAAAAAAD4fwAAAAAAAPh/AAAAAAAA+H8AAAAAAAD4fwAAAAAAAPh/AAAAAAAA+H8AAAAAAAD4fwAAAAAAAPh/AAAAAAAA+H8AAAAAAAD4fwAAAAAAAPh/AAAAAAAA+H8AAAAAAAD4fwAAAAAAAPh/AAAAAAAA+H8AAAAAAAD4fwAAAAAAAPh/AAAAAAAA+H8AAAAAAAD4fwAAAAAAAPh/AAAAAAAA+H8AAAAAAAD4fwAAAAAAAPh/AAAAAAAA+H8AAAAAAAD4fwAAAAAAAPh/AAAAAAAA+H8AAAAAAAD4fwAAAAAAAPh/AAAAAAAA+H8AAAAAAAD4fwAAAAAAAPh/AAAAAAAA+H8AAAAAAAD4fwAAAAAAAPh/AAAAAAAA+H8AAAAAAAD4fwAAAAAAAPh/AAAAAAAA+H8AAAAAAAD4fwAAAAAAAPh/AAAAAAAA+H8AAAAAAAD4fwAAAAAAAPh/AAAAAAAA+H8AAAAAAAD4fwAAAAAAAPh/AAAAAAAA+H8AAAAAAAD4fwAAAAAAAPh/AAAAAAAA+H8AAAAAAAD4fwAAAAAAAPh/AAAAAAAA+H8AAAAAAAD4fwAAAAAAAPh/AAAAAAAA+H8AAAAAAAD4fwAAAAAAAPh/AAAAAAAA+H8AAAAAAAD4fwAAAAAAAPh/AAAAAAAA+H8AAAAAAAD4fwAAAAAAAPh/AAAAAAAA+H8AAAAAAAD4fwAAAAAAAPh/AAAAAAAA+H8AAAAAAAD4fwAAAAAAAPh/AAAAAAAA+H8AAAAAAAD4fwAAAAAAAPh/AAAAAAAA+H8AAAAAAAD4fwAAAAAAAPh/AAAAAAAA+H8AAAAAAAD4fwAAAAAAAPh/AAAAAAAA+H8AAAAAAAD4fwAAAAAAAPh/AAAAAAAA+H8AAAAAAAD4fwAAAAAAAPh/AAAAAAAA+H8AAAAAAAD4fwAAAAAAAPh/AAAAAAAA+H8AAAAAAAD4fwAAAAAAAPh/AAAAAAAA+H8AAAAAAAD4fwAAAAAAAPh/AAAAAAAA+H8AAAAAAAD4fwAAAAAAAPh/AAAAAAAA+H8AAAAAAAD4fwAAAAAAAPh/AAAAAAAA+H8AAAAAAAD4fwAAAAAAAPh/AAAAAAAA+H8AAAAAAAD4fwAAAAAAAPh/AAAAAAAA+H8AAAAAAAD4fwAAAAAAAPh/AAAAAAAA+H8AAAAAAAD4fwAAAAAAAPh/AAAAAAAA+H8AAAAAAAD4fwAAAAAAAPh/AAAAAAAA+H8AAAAAAAD4fwAAAAAAAPh/AAAAAAAA+H8AAAAAAAD4fwAAAAAAAPh/AAAAAAAA+H8AAAAAAAD4fwAAAAAAAPh/AAAAAAAA+H8AAAAAAAD4fwAAAAAAAPh/AAAAAAAA+H8AAAAAAAD4fwAAAAAAAPh/AAAAAAAA+H8AAAAAAAD4fwAAAAAAAPh/AAAAAAAA+H8AAAAAAAD4fwAAAAAAAPh/AAAAAAAA+H8AAAAAAAD4fwAAAAAAAPh/AAAAAAAA+H8AAAAAAAD4fwAAAAAAAPh/AAAAAAAA+H8AAAAAAAD4fwAAAAAAAPh/AAAAAAAA+H8AAAAAAAD4fwAAAAAAAPh/AAAAAAAA+H8AAAAAAAD4fwAAAAAAAPh/AAAAAAAA+H8AAAAAAAD4fwAAAAAAAPh/AAAAAAAA+H8AAAAAAAD4fwAAAAAAAPh/AAAAAAAA+H8AAAAAAAD4fwAAAAAAAPh/AAAAAAAA+H8AAAAAAAD4fwAAAAAAAPh/AAAAAAAA+H8AAAAAAAD4fwAAAAAAAPh/AAAAAAAA+H8AAAAAAAD4fwAAAAAAAPh/AAAAAAAA+H8AAAAAAAD4fwAAAAAAAPh/AAAAAAAA+H8AAAAAAAD4fwAAAAAAAPh/AAAAAAAA+H8AAAAAAAD4fwAAAAAAAPh/AAAAAAAA+H8AAAAAAAD4fwAAAAAAAPh/AAAAAAAA+H8AAAAAAAD4fwAAAAAAAPh/AAAAAAAA+H8AAAAAAAD4fwAAAAAAAPh/AAAAAAAA+H8AAAAAAAD4fwAAAAAAAPh/AAAAAAAA+H8AAAAAAAD4fwAAAAAAAPh/AAAAAAAA+H8AAAAAAAD4fwAAAAAAAPh/AAAAAAAA+H8AAAAAAAD4fwAAAAAAAPh/AAAAAAAA+H8AAAAAAAD4fwAAAAAAAPh/AAAAAAAA+H8AAAAAAAD4fwAAAAAAAPh/AAAAAAAA+H8AAAAAAAD4fwAAAAAAAPh/AAAAAAAA+H8AAAAAAAD4fwAAAAAAAPh/AAAAAAAA+H8AAAAAAAD4fwAAAAAAAPh/AAAAAAAA+H8AAAAAAAD4fwAAAAAAAPh/AAAAAAAA+H8AAAAAAAD4fwAAAAAAAPh/AAAAAAAA+H8AAAAAAAD4fwAAAAAAAPh/AAAAAAAA+H8AAAAAAAD4fwAAAAAAAPh/AAAAAAAA+H8AAAAAAAD4fwAAAAAAAPh/AAAAAAAA+H8AAAAAAAD4fwAAAAAAAPh/AAAAAAAA+H8AAAAAAAD4fwAAAAAAAPh/AAAAAAAA+H8AAAAAAAD4fwAAAAAAAPh/AAAAAAAA+H8AAAAAAAD4fwAAAAAAAPh/AAAAAAAA+H8AAAAAAAD4fwAAAAAAAPh/AAAAAAAA+H8AAAAAAAD4fwAAAAAAAPh/AAAAAAAA+H8AAAAAAAD4fwAAAAAAAPh/AAAAAAAA+H8AAAAAAAD4fwAAAAAAAPh/AAAAAAAA+H8AAAAAAAD4fwAAAAAAAPh/AAAAAAAA+H8AAAAAAAD4fwAAAAAAAPh/AAAAAAAA+H8AAAAAAAD4fwAAAAAAAPh/AAAAAAAA+H8AAAAAAAD4fwAAAAAAAPh/AAAAAAAA+H8AAAAAAAD4fwAAAAAAAPh/AAAAAAAA+H8AAAAAAAD4fwAAAAAAAPh/AAAAAAAA+H8AAAAAAAD4fwAAAAAAAPh/AAAAAAAA+H8AAAAAAAD4fwAAAAAAAPh/AAAAAAAA+H8AAAAAAAD4fwAAAAAAAPh/AAAAAAAA+H8AAAAAAAD4fwAAAAAAAPh/AAAAAAAA+H8AAAAAAAD4fwAAAAAAAPh/AAAAAAAA+H8AAAAAAAD4fwAAAAAAAPh/AAAAAAAA+H8AAAAAAAD4fwAAAAAAAPh/AAAAAAAA+H8AAAAAAAD4fwAAAAAAAPh/AAAAAAAA+H8AAAAAAAD4fwAAAAAAAPh/AAAAAAAA+H8AAAAAAAD4fwAAAAAAAPh/AAAAAAAA+H8AAAAAAAD4fwAAAAAAAPh/AAAAAAAA+H8AAAAAAAD4fwAAAAAAAPh/AAAAAAAA+H8AAAAAAAD4fwAAAAAAAPh/AAAAAAAA+H8AAAAAAAD4fwAAAAAAAPh/AAAAAAAA+H8AAAAAAAD4fwAAAAAAAPh/AAAAAAAA+H8AAAAAAAD4fwAAAAAAAPh/AAAAAAAA+H8AAAAAAAD4fwAAAAAAAPh/AAAAAAAA+H8AAAAAAAD4fwAAAAAAAPh/AAAAAAAA+H8AAAAAAAD4fwAAAAAAAPh/AAAAAAAA+H8AAAAAAAD4fwAAAAAAAPh/AAAAAAAA+H8AAAAAAAD4fwAAAAAAAPh/AAAAAAAA+H8AAAAAAAD4fwAAAAAAAPh/AAAAAAAA+H8AAAAAAAD4fwAAAAAAAPh/AAAAAAAA+H8AAAAAAAD4fwAAAAAAAPh/AAAAAAAA+H8AAAAAAAD4fwAAAAAAAPh/AAAAAAAA+H8AAAAAAAD4fwAAAAAAAPh/AAAAAAAA+H8AAAAAAAD4fwAAAAAAAPh/AAAAAAAA+H8AAAAAAAD4fwAAAAAAAPh/AAAAAAAA+H8AAAAAAAD4fwAAAAAAAPh/AAAAAAAA+H8AAAAAAAD4fwAAAAAAAPh/AAAAAAAA+H8AAAAAAAD4fwAAAAAAAPh/AAAAAAAA+H8AAAAAAAD4fwAAAAAAAPh/AAAAAAAA+H8AAAAAAAD4fwAAAAAAAPh/AAAAAAAA+H8AAAAAAAD4fwAAAAAAAPh/AAAAAAAA+H8AAAAAAAD4fwAAAAAAAPh/AAAAAAAA+H8AAAAAAAD4fwAAAAAAAPh/AAAAAAAA+H8AAAAAAAD4fwAAAAAAAPh/AAAAAAAA+H8AAAAAAAD4fwAAAAAAAPh/AAAAAAAA+H8AAAAAAAD4fwAAAAAAAPh/AAAAAAAA+H8AAAAAAAD4fwAAAAAAAPh/AAAAAAAA+H8AAAAAAAD4fwAAAAAAAPh/AAAAAAAA+H8AAAAAAAD4fwAAAAAAAPh/AAAAAAAA+H8AAAAAAAD4fwAAAAAAAPh/AAAAAAAA+H8AAAAAAAD4fwAAAAAAAPh/AAAAAAAA+H8AAAAAAAD4fwAAAAAAAPh/AAAAAAAA+H8AAAAAAAD4fwAAAAAAAPh/AAAAAAAA+H8AAAAAAAD4fwAAAAAAAPh/AAAAAAAA+H8AAAAAAAD4fwAAAAAAAPh/AAAAAAAA+H8AAAAAAAD4fwAAAAAAAPh/AAAAAAAA+H8AAAAAAAD4fwAAAAAAAPh/AAAAAAAA+H8AAAAAAAD4fwAAAAAAAPh/AAAAAAAA+H8AAAAAAAD4fwAAAAAAAPh/AAAAAAAA+H8AAAAAAAD4fwAAAAAAAPh/AAAAAAAA+H8AAAAAAAD4fwAAAAAAAPh/AAAAAAAA+H8AAAAAAAD4fwAAAAAAAPh/AAAAAAAA+H8AAAAAAAD4fwAAAAAAAPh/AAAAAAAA+H8AAAAAAAD4fwAAAAAAAPh/AAAAAAAA+H8AAAAAAAD4fwAAAAAAAPh/AAAAAAAA+H8AAAAAAAD4fwAAAAAAAPh/AAAAAAAA+H8AAAAAAAD4fwAAAAAAAPh/AAAAAAAA+H8AAAAAAAD4fwAAAAAAAPh/AAAAAAAA+H8AAAAAAAD4fwAAAAAAAPh/AAAAAAAA+H8AAAAAAAD4fwAAAAAAAPh/AAAAAAAA+H8AAAAAAAD4fwAAAAAAAPh/AAAAAAAA+H8AAAAAAAD4fwAAAAAAAPh/AAAAAAAA+H8AAAAAAAD4fwAAAAAAAPh/AAAAAAAA+H8AAAAAAAD4fwAAAAAAAPh/AAAAAAAA+H8AAAAAAAD4fwAAAAAAAPh/AAAAAAAA+H8AAAAAAAD4fwAAAAAAAPh/AAAAAAAA+H8AAAAAAAD4fwAAAAAAAPh/AAAAAAAA+H8AAAAAAAD4fwAAAAAAAPh/AAAAAAAA+H8AAAAAAAD4fwAAAAAAAPh/AAAAAAAA+H8AAAAAAAD4fwAAAAAAAPh/AAAAAAAA+H8AAAAAAAD4fwAAAAAAAPh/AAAAAAAA+H8AAAAAAAD4fwAAAAAAAPh/AAAAAAAA+H8AAAAAAAD4fwAAAAAAAPh/AAAAAAAA+H8AAAAAAAD4fwAAAAAAAPh/AAAAAAAA+H8AAAAAAAD4fwAAAAAAAPh/AAAAAAAA+H8AAAAAAAD4fwAAAAAAAPh/AAAAAAAA+H8AAAAAAAD4fwAAAAAAAPh/AAAAAAAA+H8AAAAAAAD4fwAAAAAAAPh/AAAAAAAA+H8=",
          "dtype": "f8"
         },
         "z": {
          "bdata": "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",
          "dtype": "f8"
         }
        },
        {
         "line": {
          "dash": "solid",
          "width": 2
         },
         "marker": {
          "color": "red",
          "opacity": 0.3,
          "size": 2
         },
         "mode": "lines",
         "name": "coh_50_choice_awayRF_corr_unbiased_state",
         "opacity": 0.3,
         "showlegend": true,
         "type": "scatter3d",
         "x": {
          "bdata": "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",
          "dtype": "f8"
         },
         "y": {
          "bdata": "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",
          "dtype": "f8"
         },
         "z": {
          "bdata": "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",
          "dtype": "f8"
         }
        },
        {
         "line": {
          "dash": "solid",
          "width": 2
         },
         "marker": {
          "color": "black",
          "opacity": 0.8,
          "size": 8
         },
         "mode": "markers",
         "name": " ",
         "opacity": 0.8,
         "showlegend": false,
         "type": "scatter3d",
         "x": [
          -701.9598572057338
         ],
         "y": [
          -311.6290860789546
         ],
         "z": [
          119.5703214340796
         ]
        },
        {
         "line": {
          "dash": "solid",
          "width": 2
         },
         "marker": {
          "color": "black",
          "opacity": 0.8,
          "size": 8
         },
         "mode": "markers",
         "name": " ",
         "opacity": 0.8,
         "showlegend": false,
         "type": "scatter3d",
         "x": [
          -667.2763047173548
         ],
         "y": [
          -428.68322483051776
         ],
         "z": [
          -3.469031286940427
         ]
        },
        {
         "line": {
          "dash": "solid",
          "width": 2
         },
         "marker": {
          "color": "black",
          "opacity": 0.8,
          "size": 8
         },
         "mode": "markers",
         "name": " ",
         "opacity": 0.8,
         "showlegend": false,
         "type": "scatter3d",
         "x": [
          -1190.7129730999693
         ],
         "y": [
          -533.7209553492916
         ],
         "z": [
          152.05814419361627
         ]
        },
        {
         "line": {
          "dash": "solid",
          "width": 2
         },
         "marker": {
          "color": "black",
          "opacity": 0.8,
          "size": 8
         },
         "mode": "markers",
         "name": " ",
         "opacity": 0.8,
         "showlegend": false,
         "type": "scatter3d",
         "x": [
          -891.8895830846529
         ],
         "y": [
          -510.7804278343425
         ],
         "z": [
          135.79797523754226
         ]
        },
        {
         "line": {
          "dash": "solid",
          "width": 2
         },
         "marker": {
          "color": "black",
          "opacity": 0.8,
          "size": 8
         },
         "mode": "markers",
         "name": " ",
         "opacity": 0.8,
         "showlegend": false,
         "type": "scatter3d",
         "x": [
          -808.4583269111378
         ],
         "y": [
          -459.7668022402545
         ],
         "z": [
          43.46642808146935
         ]
        },
        {
         "line": {
          "dash": "solid",
          "width": 2
         },
         "marker": {
          "color": "black",
          "opacity": 0.8,
          "size": 8
         },
         "mode": "markers",
         "name": " ",
         "opacity": 0.8,
         "showlegend": false,
         "type": "scatter3d",
         "x": [
          -873.1934791741941
         ],
         "y": [
          -299.8057791895578
         ],
         "z": [
          57.65734235848268
         ]
        },
        {
         "line": {
          "dash": "solid",
          "width": 2
         },
         "marker": {
          "color": "black",
          "opacity": 0.8,
          "size": 8
         },
         "mode": "markers",
         "name": " ",
         "opacity": 0.8,
         "showlegend": false,
         "type": "scatter3d",
         "x": [
          -852.5068476483399
         ],
         "y": [
          -558.9653145800652
         ],
         "z": [
          60.295871614649826
         ]
        },
        {
         "line": {
          "dash": "solid",
          "width": 2
         },
         "marker": {
          "color": "black",
          "opacity": 0.8,
          "size": 8
         },
         "mode": "markers",
         "name": " ",
         "opacity": 0.8,
         "showlegend": false,
         "type": "scatter3d",
         "x": [
          -772.6307461236378
         ],
         "y": [
          -507.0634641646394
         ],
         "z": [
          -21.31714112699162
         ]
        },
        {
         "line": {
          "dash": "solid",
          "width": 2
         },
         "marker": {
          "color": "black",
          "opacity": 0.8,
          "size": 5
         },
         "mode": "markers",
         "name": " ",
         "opacity": 0.8,
         "showlegend": false,
         "type": "scatter3d",
         "x": [
          -955.1204995564991
         ],
         "y": [
          -212.52613912255492
         ],
         "z": [
          -9.02768745175754
         ]
        },
        {
         "line": {
          "dash": "solid",
          "width": 2
         },
         "marker": {
          "color": "black",
          "opacity": 0.8,
          "size": 5
         },
         "mode": "markers",
         "name": " ",
         "opacity": 0.8,
         "showlegend": false,
         "type": "scatter3d",
         "x": [
          -635.06307973447
         ],
         "y": [
          -587.5207297645062
         ],
         "z": [
          67.23316700385945
         ]
        },
        {
         "line": {
          "dash": "solid",
          "width": 2
         },
         "marker": {
          "color": "black",
          "opacity": 0.8,
          "size": 5
         },
         "mode": "markers",
         "name": " ",
         "opacity": 0.8,
         "showlegend": false,
         "type": "scatter3d",
         "x": [
          -855.1032177091762
         ],
         "y": [
          -342.9750006853412
         ],
         "z": [
          126.03592347831943
         ]
        },
        {
         "line": {
          "dash": "solid",
          "width": 2
         },
         "marker": {
          "color": "black",
          "opacity": 0.8,
          "size": 5
         },
         "mode": "markers",
         "name": " ",
         "opacity": 0.8,
         "showlegend": false,
         "type": "scatter3d",
         "x": [
          -1132.93306284419
         ],
         "y": [
          -554.8274643743969
         ],
         "z": [
          120.34509374134659
         ]
        },
        {
         "line": {
          "dash": "solid",
          "width": 2
         },
         "marker": {
          "color": "black",
          "opacity": 0.8,
          "size": 5
         },
         "mode": "markers",
         "name": " ",
         "opacity": 0.8,
         "showlegend": false,
         "type": "scatter3d",
         "x": [
          -710.6594388150562
         ],
         "y": [
          -408.3326491269713
         ],
         "z": [
          28.21084776352036
         ]
        },
        {
         "line": {
          "dash": "solid",
          "width": 2
         },
         "marker": {
          "color": "black",
          "opacity": 0.8,
          "size": 5
         },
         "mode": "markers",
         "name": " ",
         "opacity": 0.8,
         "showlegend": false,
         "type": "scatter3d",
         "x": [
          -864.3524664137603
         ],
         "y": [
          -336.7985719666952
         ],
         "z": [
          12.947521955307431
         ]
        },
        {
         "line": {
          "dash": "solid",
          "width": 2
         },
         "marker": {
          "color": "black",
          "opacity": 0.8,
          "size": 5
         },
         "mode": "markers",
         "name": " ",
         "opacity": 0.8,
         "showlegend": false,
         "type": "scatter3d",
         "x": [
          -879.6296977952264
         ],
         "y": [
          -506.5441468133738
         ],
         "z": [
          33.29091417672296
         ]
        },
        {
         "line": {
          "dash": "solid",
          "width": 2
         },
         "marker": {
          "color": "black",
          "opacity": 0.8,
          "size": 5
         },
         "mode": "markers",
         "name": " ",
         "opacity": 0.8,
         "showlegend": false,
         "type": "scatter3d",
         "x": [
          -748.6878187155612
         ],
         "y": [
          -497.4929106662866
         ],
         "z": [
          76.24461167290842
         ]
        },
        {
         "line": {
          "dash": "solid",
          "width": 2
         },
         "marker": {
          "color": "black",
          "opacity": 0.8,
          "size": 5
         },
         "mode": "markers",
         "name": " ",
         "opacity": 0.8,
         "showlegend": false,
         "type": "scatter3d",
         "x": [
          -868.5707402766182
         ],
         "y": [
          690.8540662163019
         ],
         "z": [
          151.32405458272066
         ]
        },
        {
         "line": {
          "dash": "solid",
          "width": 2
         },
         "marker": {
          "color": "black",
          "opacity": 0.8,
          "size": 5
         },
         "mode": "markers",
         "name": " ",
         "opacity": 0.8,
         "showlegend": false,
         "type": "scatter3d",
         "x": [
          -608.9673849432135
         ],
         "y": [
          756.8608692859539
         ],
         "z": [
          253.35718980316247
         ]
        },
        {
         "line": {
          "dash": "solid",
          "width": 2
         },
         "marker": {
          "color": "black",
          "opacity": 0.8,
          "size": 5
         },
         "mode": "markers",
         "name": " ",
         "opacity": 0.8,
         "showlegend": false,
         "type": "scatter3d",
         "x": [
          -641.5584410502265
         ],
         "y": [
          677.719220882181
         ],
         "z": [
          214.23470214465289
         ]
        },
        {
         "line": {
          "dash": "solid",
          "width": 2
         },
         "marker": {
          "color": "black",
          "opacity": 0.8,
          "size": 5
         },
         "mode": "markers",
         "name": " ",
         "opacity": 0.8,
         "showlegend": false,
         "type": "scatter3d",
         "x": [
          -589.8643421418343
         ],
         "y": [
          763.958790191061
         ],
         "z": [
          293.33757036959383
         ]
        },
        {
         "line": {
          "dash": "solid",
          "width": 2
         },
         "marker": {
          "color": "black",
          "opacity": 0.8,
          "size": 5
         },
         "mode": "markers",
         "name": " ",
         "opacity": 0.8,
         "showlegend": false,
         "type": "scatter3d",
         "x": [
          -507.6778106185271
         ],
         "y": [
          639.3836637476832
         ],
         "z": [
          127.73771373001948
         ]
        },
        {
         "line": {
          "dash": "solid",
          "width": 2
         },
         "marker": {
          "color": "black",
          "opacity": 0.8,
          "size": 5
         },
         "mode": "markers",
         "name": " ",
         "opacity": 0.8,
         "showlegend": false,
         "type": "scatter3d",
         "x": [
          -632.9461204884406
         ],
         "y": [
          658.8964619799119
         ],
         "z": [
          271.65489300634306
         ]
        },
        {
         "line": {
          "dash": "solid",
          "width": 2
         },
         "marker": {
          "color": "black",
          "opacity": 0.8,
          "size": 5
         },
         "mode": "markers",
         "name": " ",
         "opacity": 0.8,
         "showlegend": false,
         "type": "scatter3d",
         "x": [
          -695.366367471082
         ],
         "y": [
          617.4992756792514
         ],
         "z": [
          181.58104686753
         ]
        },
        {
         "line": {
          "dash": "solid",
          "width": 2
         },
         "marker": {
          "color": "black",
          "opacity": 0.8,
          "size": 5
         },
         "mode": "markers",
         "name": " ",
         "opacity": 0.8,
         "showlegend": false,
         "type": "scatter3d",
         "x": [
          -498.2628809528456
         ],
         "y": [
          708.3138861055006
         ],
         "z": [
          131.45271404942076
         ]
        },
        {
         "line": {
          "dash": "solid",
          "width": 2
         },
         "marker": {
          "color": "black",
          "opacity": 0.8,
          "size": 5
         },
         "mode": "markers",
         "name": " ",
         "opacity": 0.8,
         "showlegend": false,
         "type": "scatter3d",
         "x": [
          1230.621161451358
         ],
         "y": [
          -15.806322943979845
         ],
         "z": [
          -162.23869823262748
         ]
        },
        {
         "line": {
          "dash": "solid",
          "width": 2
         },
         "marker": {
          "color": "black",
          "opacity": 0.8,
          "size": 5
         },
         "mode": "markers",
         "name": " ",
         "opacity": 0.8,
         "showlegend": false,
         "type": "scatter3d",
         "x": [
          2284.7584003589204
         ],
         "y": [
          20.92920779850842
         ],
         "z": [
          -91.490473553729
         ]
        },
        {
         "line": {
          "dash": "solid",
          "width": 2
         },
         "marker": {
          "color": "black",
          "opacity": 0.8,
          "size": 5
         },
         "mode": "markers",
         "name": " ",
         "opacity": 0.8,
         "showlegend": false,
         "type": "scatter3d",
         "x": [
          1613.6685746708542
         ],
         "y": [
          784.866559363155
         ],
         "z": [
          -77.76888575125497
         ]
        },
        {
         "line": {
          "dash": "solid",
          "width": 2
         },
         "marker": {
          "color": "black",
          "opacity": 0.8,
          "size": 5
         },
         "mode": "markers",
         "name": " ",
         "opacity": 0.8,
         "showlegend": false,
         "type": "scatter3d",
         "x": [
          2378.1361631339573
         ],
         "y": [
          685.8451950469789
         ],
         "z": [
          144.97756874369293
         ]
        },
        {
         "line": {
          "dash": "solid",
          "width": 2
         },
         "marker": {
          "color": "black",
          "opacity": 0.8,
          "size": 5
         },
         "mode": "markers",
         "name": " ",
         "opacity": 0.8,
         "showlegend": false,
         "type": "scatter3d",
         "x": [
          926.0708139191685
         ],
         "y": [
          -12.199058971784602
         ],
         "z": [
          -392.7739667602143
         ]
        },
        {
         "line": {
          "dash": "solid",
          "width": 2
         },
         "marker": {
          "color": "black",
          "opacity": 0.8,
          "size": 5
         },
         "mode": "markers",
         "name": " ",
         "opacity": 0.8,
         "showlegend": false,
         "type": "scatter3d",
         "x": [
          1336.279514432788
         ],
         "y": [
          -373.2301520111729
         ],
         "z": [
          -230.9303470347718
         ]
        },
        {
         "line": {
          "dash": "solid",
          "width": 2
         },
         "marker": {
          "color": "black",
          "opacity": 0.8,
          "size": 5
         },
         "mode": "markers",
         "name": " ",
         "opacity": 0.8,
         "showlegend": false,
         "type": "scatter3d",
         "x": [
          407.1424528562138
         ],
         "y": [
          72.28617521069474
         ],
         "z": [
          -340.62966914078294
         ]
        },
        {
         "line": {
          "dash": "solid",
          "width": 2
         },
         "marker": {
          "color": "black",
          "opacity": 0.8,
          "size": 5
         },
         "mode": "markers",
         "name": " ",
         "opacity": 0.8,
         "showlegend": false,
         "type": "scatter3d",
         "x": [
          722.2410207065345
         ],
         "y": [
          48.39864953115355
         ],
         "z": [
          -425.85353919407265
         ]
        },
        {
         "line": {
          "dash": "solid",
          "width": 2
         },
         "marker": {
          "color": "black",
          "opacity": 0.8,
          "size": 5
         },
         "mode": "markers",
         "name": " ",
         "opacity": 0.8,
         "showlegend": false,
         "type": "scatter3d",
         "x": [
          2183.8247663560323
         ],
         "y": [
          -970.1040091783344
         ],
         "z": [
          400.656208796941
         ]
        },
        {
         "line": {
          "dash": "solid",
          "width": 2
         },
         "marker": {
          "color": "black",
          "opacity": 0.8,
          "size": 5
         },
         "mode": "markers",
         "name": " ",
         "opacity": 0.8,
         "showlegend": false,
         "type": "scatter3d",
         "x": [
          930.2107674516964
         ],
         "y": [
          -720.9875504655803
         ],
         "z": [
          119.94873653348532
         ]
        },
        {
         "line": {
          "dash": "solid",
          "width": 2
         },
         "marker": {
          "color": "violet",
          "opacity": 0.8,
          "size": 10
         },
         "mode": "markers",
         "name": " ",
         "opacity": 0.8,
         "showlegend": false,
         "type": "scatter3d",
         "x": [
          -955.1204995564991
         ],
         "y": [
          -212.52613912255492
         ],
         "z": [
          -9.02768745175754
         ]
        },
        {
         "line": {
          "dash": "solid",
          "width": 2
         },
         "marker": {
          "color": "violet",
          "opacity": 0.8,
          "size": 10
         },
         "mode": "markers",
         "name": " ",
         "opacity": 0.8,
         "showlegend": false,
         "type": "scatter3d",
         "x": [
          -635.06307973447
         ],
         "y": [
          -587.5207297645062
         ],
         "z": [
          67.23316700385945
         ]
        },
        {
         "line": {
          "dash": "solid",
          "width": 2
         },
         "marker": {
          "color": "violet",
          "opacity": 0.8,
          "size": 10
         },
         "mode": "markers",
         "name": " ",
         "opacity": 0.8,
         "showlegend": false,
         "type": "scatter3d",
         "x": [
          -855.1032177091762
         ],
         "y": [
          -342.9750006853412
         ],
         "z": [
          126.03592347831943
         ]
        },
        {
         "line": {
          "dash": "solid",
          "width": 2
         },
         "marker": {
          "color": "violet",
          "opacity": 0.8,
          "size": 10
         },
         "mode": "markers",
         "name": " ",
         "opacity": 0.8,
         "showlegend": false,
         "type": "scatter3d",
         "x": [
          -1132.93306284419
         ],
         "y": [
          -554.8274643743969
         ],
         "z": [
          120.34509374134659
         ]
        },
        {
         "line": {
          "dash": "solid",
          "width": 2
         },
         "marker": {
          "color": "violet",
          "opacity": 0.8,
          "size": 10
         },
         "mode": "markers",
         "name": " ",
         "opacity": 0.8,
         "showlegend": false,
         "type": "scatter3d",
         "x": [
          -710.6594388150562
         ],
         "y": [
          -408.3326491269713
         ],
         "z": [
          28.21084776352036
         ]
        },
        {
         "line": {
          "dash": "solid",
          "width": 2
         },
         "marker": {
          "color": "violet",
          "opacity": 0.8,
          "size": 10
         },
         "mode": "markers",
         "name": " ",
         "opacity": 0.8,
         "showlegend": false,
         "type": "scatter3d",
         "x": [
          -864.3524664137603
         ],
         "y": [
          -336.7985719666952
         ],
         "z": [
          12.947521955307431
         ]
        },
        {
         "line": {
          "dash": "solid",
          "width": 2
         },
         "marker": {
          "color": "violet",
          "opacity": 0.8,
          "size": 10
         },
         "mode": "markers",
         "name": " ",
         "opacity": 0.8,
         "showlegend": false,
         "type": "scatter3d",
         "x": [
          -879.6296977952264
         ],
         "y": [
          -506.5441468133738
         ],
         "z": [
          33.29091417672296
         ]
        },
        {
         "line": {
          "dash": "solid",
          "width": 2
         },
         "marker": {
          "color": "violet",
          "opacity": 0.8,
          "size": 10
         },
         "mode": "markers",
         "name": " ",
         "opacity": 0.8,
         "showlegend": false,
         "type": "scatter3d",
         "x": [
          -748.6878187155612
         ],
         "y": [
          -497.4929106662866
         ],
         "z": [
          76.24461167290842
         ]
        },
        {
         "line": {
          "dash": "solid",
          "width": 2
         },
         "marker": {
          "color": "violet",
          "opacity": 0.8,
          "size": 10
         },
         "mode": "markers",
         "name": "Onset Time",
         "opacity": 0.8,
         "showlegend": true,
         "type": "scatter3d",
         "x": [
          null
         ],
         "y": [
          null
         ],
         "z": [
          null
         ]
        },
        {
         "line": {
          "dash": "solid",
          "width": 2
         },
         "marker": {
          "color": "black",
          "opacity": 0.8,
          "size": 8
         },
         "mode": "markers",
         "name": "100ms spacing",
         "opacity": 0.8,
         "showlegend": true,
         "type": "scatter3d",
         "x": [
          null
         ],
         "y": [
          null
         ],
         "z": [
          null
         ]
        },
        {
         "line": {
          "color": "red",
          "width": 6
         },
         "mode": "lines",
         "name": "Choice Axis",
         "type": "scatter3d",
         "x": [
          0,
          -2143.4350289632002
         ],
         "y": [
          0,
          -1437.106304256179
         ],
         "z": [
          0,
          -1394.7981339073074
         ]
        },
        {
         "anchor": "tail",
         "colorscale": [
          [
           0,
           "red"
          ],
          [
           1,
           "red"
          ]
         ],
         "showscale": false,
         "sizemode": "absolute",
         "sizeref": 100,
         "type": "cone",
         "u": [
          -2143.4350289632002
         ],
         "v": [
          -1437.106304256179
         ],
         "w": [
          -1394.7981339073074
         ],
         "x": [
          -2143.4350289632002
         ],
         "y": [
          -1437.106304256179
         ],
         "z": [
          -1394.7981339073074
         ]
        },
        {
         "line": {
          "color": "blue",
          "width": 6
         },
         "mode": "lines",
         "name": "Bias Axis",
         "type": "scatter3d",
         "x": [
          0,
          1354.606496894706
         ],
         "y": [
          0,
          -1049.2047645451614
         ],
         "z": [
          0,
          -702.7060992191575
         ]
        },
        {
         "anchor": "tail",
         "colorscale": [
          [
           0,
           "red"
          ],
          [
           1,
           "red"
          ]
         ],
         "showscale": false,
         "sizemode": "absolute",
         "sizeref": 100,
         "type": "cone",
         "u": [
          1354.606496894706
         ],
         "v": [
          -1049.2047645451614
         ],
         "w": [
          -702.7060992191575
         ],
         "x": [
          1354.606496894706
         ],
         "y": [
          -1049.2047645451614
         ],
         "z": [
          -702.7060992191575
         ]
        }
       ],
       "layout": {
        "height": 1200,
        "scene": {
         "xaxis": {
          "title": {
           "text": "PC1"
          }
         },
         "yaxis": {
          "title": {
           "text": "PC2"
          }
         },
         "zaxis": {
          "title": {
           "text": "PC3"
          }
         }
        },
        "template": {
         "data": {
          "bar": [
           {
            "error_x": {
             "color": "#2a3f5f"
            },
            "error_y": {
             "color": "#2a3f5f"
            },
            "marker": {
             "line": {
              "color": "#E5ECF6",
              "width": 0.5
             },
             "pattern": {
              "fillmode": "overlay",
              "size": 10,
              "solidity": 0.2
             }
            },
            "type": "bar"
           }
          ],
          "barpolar": [
           {
            "marker": {
             "line": {
              "color": "#E5ECF6",
              "width": 0.5
             },
             "pattern": {
              "fillmode": "overlay",
              "size": 10,
              "solidity": 0.2
             }
            },
            "type": "barpolar"
           }
          ],
          "carpet": [
           {
            "aaxis": {
             "endlinecolor": "#2a3f5f",
             "gridcolor": "white",
             "linecolor": "white",
             "minorgridcolor": "white",
             "startlinecolor": "#2a3f5f"
            },
            "baxis": {
             "endlinecolor": "#2a3f5f",
             "gridcolor": "white",
             "linecolor": "white",
             "minorgridcolor": "white",
             "startlinecolor": "#2a3f5f"
            },
            "type": "carpet"
           }
          ],
          "choropleth": [
           {
            "colorbar": {
             "outlinewidth": 0,
             "ticks": ""
            },
            "type": "choropleth"
           }
          ],
          "contour": [
           {
            "colorbar": {
             "outlinewidth": 0,
             "ticks": ""
            },
            "colorscale": [
             [
              0,
              "#0d0887"
             ],
             [
              0.1111111111111111,
              "#46039f"
             ],
             [
              0.2222222222222222,
              "#7201a8"
             ],
             [
              0.3333333333333333,
              "#9c179e"
             ],
             [
              0.4444444444444444,
              "#bd3786"
             ],
             [
              0.5555555555555556,
              "#d8576b"
             ],
             [
              0.6666666666666666,
              "#ed7953"
             ],
             [
              0.7777777777777778,
              "#fb9f3a"
             ],
             [
              0.8888888888888888,
              "#fdca26"
             ],
             [
              1,
              "#f0f921"
             ]
            ],
            "type": "contour"
           }
          ],
          "contourcarpet": [
           {
            "colorbar": {
             "outlinewidth": 0,
             "ticks": ""
            },
            "type": "contourcarpet"
           }
          ],
          "heatmap": [
           {
            "colorbar": {
             "outlinewidth": 0,
             "ticks": ""
            },
            "colorscale": [
             [
              0,
              "#0d0887"
             ],
             [
              0.1111111111111111,
              "#46039f"
             ],
             [
              0.2222222222222222,
              "#7201a8"
             ],
             [
              0.3333333333333333,
              "#9c179e"
             ],
             [
              0.4444444444444444,
              "#bd3786"
             ],
             [
              0.5555555555555556,
              "#d8576b"
             ],
             [
              0.6666666666666666,
              "#ed7953"
             ],
             [
              0.7777777777777778,
              "#fb9f3a"
             ],
             [
              0.8888888888888888,
              "#fdca26"
             ],
             [
              1,
              "#f0f921"
             ]
            ],
            "type": "heatmap"
           }
          ],
          "histogram": [
           {
            "marker": {
             "pattern": {
              "fillmode": "overlay",
              "size": 10,
              "solidity": 0.2
             }
            },
            "type": "histogram"
           }
          ],
          "histogram2d": [
           {
            "colorbar": {
             "outlinewidth": 0,
             "ticks": ""
            },
            "colorscale": [
             [
              0,
              "#0d0887"
             ],
             [
              0.1111111111111111,
              "#46039f"
             ],
             [
              0.2222222222222222,
              "#7201a8"
             ],
             [
              0.3333333333333333,
              "#9c179e"
             ],
             [
              0.4444444444444444,
              "#bd3786"
             ],
             [
              0.5555555555555556,
              "#d8576b"
             ],
             [
              0.6666666666666666,
              "#ed7953"
             ],
             [
              0.7777777777777778,
              "#fb9f3a"
             ],
             [
              0.8888888888888888,
              "#fdca26"
             ],
             [
              1,
              "#f0f921"
             ]
            ],
            "type": "histogram2d"
           }
          ],
          "histogram2dcontour": [
           {
            "colorbar": {
             "outlinewidth": 0,
             "ticks": ""
            },
            "colorscale": [
             [
              0,
              "#0d0887"
             ],
             [
              0.1111111111111111,
              "#46039f"
             ],
             [
              0.2222222222222222,
              "#7201a8"
             ],
             [
              0.3333333333333333,
              "#9c179e"
             ],
             [
              0.4444444444444444,
              "#bd3786"
             ],
             [
              0.5555555555555556,
              "#d8576b"
             ],
             [
              0.6666666666666666,
              "#ed7953"
             ],
             [
              0.7777777777777778,
              "#fb9f3a"
             ],
             [
              0.8888888888888888,
              "#fdca26"
             ],
             [
              1,
              "#f0f921"
             ]
            ],
            "type": "histogram2dcontour"
           }
          ],
          "mesh3d": [
           {
            "colorbar": {
             "outlinewidth": 0,
             "ticks": ""
            },
            "type": "mesh3d"
           }
          ],
          "parcoords": [
           {
            "line": {
             "colorbar": {
              "outlinewidth": 0,
              "ticks": ""
             }
            },
            "type": "parcoords"
           }
          ],
          "pie": [
           {
            "automargin": true,
            "type": "pie"
           }
          ],
          "scatter": [
           {
            "fillpattern": {
             "fillmode": "overlay",
             "size": 10,
             "solidity": 0.2
            },
            "type": "scatter"
           }
          ],
          "scatter3d": [
           {
            "line": {
             "colorbar": {
              "outlinewidth": 0,
              "ticks": ""
             }
            },
            "marker": {
             "colorbar": {
              "outlinewidth": 0,
              "ticks": ""
             }
            },
            "type": "scatter3d"
           }
          ],
          "scattercarpet": [
           {
            "marker": {
             "colorbar": {
              "outlinewidth": 0,
              "ticks": ""
             }
            },
            "type": "scattercarpet"
           }
          ],
          "scattergeo": [
           {
            "marker": {
             "colorbar": {
              "outlinewidth": 0,
              "ticks": ""
             }
            },
            "type": "scattergeo"
           }
          ],
          "scattergl": [
           {
            "marker": {
             "colorbar": {
              "outlinewidth": 0,
              "ticks": ""
             }
            },
            "type": "scattergl"
           }
          ],
          "scattermap": [
           {
            "marker": {
             "colorbar": {
              "outlinewidth": 0,
              "ticks": ""
             }
            },
            "type": "scattermap"
           }
          ],
          "scattermapbox": [
           {
            "marker": {
             "colorbar": {
              "outlinewidth": 0,
              "ticks": ""
             }
            },
            "type": "scattermapbox"
           }
          ],
          "scatterpolar": [
           {
            "marker": {
             "colorbar": {
              "outlinewidth": 0,
              "ticks": ""
             }
            },
            "type": "scatterpolar"
           }
          ],
          "scatterpolargl": [
           {
            "marker": {
             "colorbar": {
              "outlinewidth": 0,
              "ticks": ""
             }
            },
            "type": "scatterpolargl"
           }
          ],
          "scatterternary": [
           {
            "marker": {
             "colorbar": {
              "outlinewidth": 0,
              "ticks": ""
             }
            },
            "type": "scatterternary"
           }
          ],
          "surface": [
           {
            "colorbar": {
             "outlinewidth": 0,
             "ticks": ""
            },
            "colorscale": [
             [
              0,
              "#0d0887"
             ],
             [
              0.1111111111111111,
              "#46039f"
             ],
             [
              0.2222222222222222,
              "#7201a8"
             ],
             [
              0.3333333333333333,
              "#9c179e"
             ],
             [
              0.4444444444444444,
              "#bd3786"
             ],
             [
              0.5555555555555556,
              "#d8576b"
             ],
             [
              0.6666666666666666,
              "#ed7953"
             ],
             [
              0.7777777777777778,
              "#fb9f3a"
             ],
             [
              0.8888888888888888,
              "#fdca26"
             ],
             [
              1,
              "#f0f921"
             ]
            ],
            "type": "surface"
           }
          ],
          "table": [
           {
            "cells": {
             "fill": {
              "color": "#EBF0F8"
             },
             "line": {
              "color": "white"
             }
            },
            "header": {
             "fill": {
              "color": "#C8D4E3"
             },
             "line": {
              "color": "white"
             }
            },
            "type": "table"
           }
          ]
         },
         "layout": {
          "annotationdefaults": {
           "arrowcolor": "#2a3f5f",
           "arrowhead": 0,
           "arrowwidth": 1
          },
          "autotypenumbers": "strict",
          "coloraxis": {
           "colorbar": {
            "outlinewidth": 0,
            "ticks": ""
           }
          },
          "colorscale": {
           "diverging": [
            [
             0,
             "#8e0152"
            ],
            [
             0.1,
             "#c51b7d"
            ],
            [
             0.2,
             "#de77ae"
            ],
            [
             0.3,
             "#f1b6da"
            ],
            [
             0.4,
             "#fde0ef"
            ],
            [
             0.5,
             "#f7f7f7"
            ],
            [
             0.6,
             "#e6f5d0"
            ],
            [
             0.7,
             "#b8e186"
            ],
            [
             0.8,
             "#7fbc41"
            ],
            [
             0.9,
             "#4d9221"
            ],
            [
             1,
             "#276419"
            ]
           ],
           "sequential": [
            [
             0,
             "#0d0887"
            ],
            [
             0.1111111111111111,
             "#46039f"
            ],
            [
             0.2222222222222222,
             "#7201a8"
            ],
            [
             0.3333333333333333,
             "#9c179e"
            ],
            [
             0.4444444444444444,
             "#bd3786"
            ],
            [
             0.5555555555555556,
             "#d8576b"
            ],
            [
             0.6666666666666666,
             "#ed7953"
            ],
            [
             0.7777777777777778,
             "#fb9f3a"
            ],
            [
             0.8888888888888888,
             "#fdca26"
            ],
            [
             1,
             "#f0f921"
            ]
           ],
           "sequentialminus": [
            [
             0,
             "#0d0887"
            ],
            [
             0.1111111111111111,
             "#46039f"
            ],
            [
             0.2222222222222222,
             "#7201a8"
            ],
            [
             0.3333333333333333,
             "#9c179e"
            ],
            [
             0.4444444444444444,
             "#bd3786"
            ],
            [
             0.5555555555555556,
             "#d8576b"
            ],
            [
             0.6666666666666666,
             "#ed7953"
            ],
            [
             0.7777777777777778,
             "#fb9f3a"
            ],
            [
             0.8888888888888888,
             "#fdca26"
            ],
            [
             1,
             "#f0f921"
            ]
           ]
          },
          "colorway": [
           "#636efa",
           "#EF553B",
           "#00cc96",
           "#ab63fa",
           "#FFA15A",
           "#19d3f3",
           "#FF6692",
           "#B6E880",
           "#FF97FF",
           "#FECB52"
          ],
          "font": {
           "color": "#2a3f5f"
          },
          "geo": {
           "bgcolor": "white",
           "lakecolor": "white",
           "landcolor": "#E5ECF6",
           "showlakes": true,
           "showland": true,
           "subunitcolor": "white"
          },
          "hoverlabel": {
           "align": "left"
          },
          "hovermode": "closest",
          "mapbox": {
           "style": "light"
          },
          "paper_bgcolor": "white",
          "plot_bgcolor": "#E5ECF6",
          "polar": {
           "angularaxis": {
            "gridcolor": "white",
            "linecolor": "white",
            "ticks": ""
           },
           "bgcolor": "#E5ECF6",
           "radialaxis": {
            "gridcolor": "white",
            "linecolor": "white",
            "ticks": ""
           }
          },
          "scene": {
           "xaxis": {
            "backgroundcolor": "#E5ECF6",
            "gridcolor": "white",
            "gridwidth": 2,
            "linecolor": "white",
            "showbackground": true,
            "ticks": "",
            "zerolinecolor": "white"
           },
           "yaxis": {
            "backgroundcolor": "#E5ECF6",
            "gridcolor": "white",
            "gridwidth": 2,
            "linecolor": "white",
            "showbackground": true,
            "ticks": "",
            "zerolinecolor": "white"
           },
           "zaxis": {
            "backgroundcolor": "#E5ECF6",
            "gridcolor": "white",
            "gridwidth": 2,
            "linecolor": "white",
            "showbackground": true,
            "ticks": "",
            "zerolinecolor": "white"
           }
          },
          "shapedefaults": {
           "line": {
            "color": "#2a3f5f"
           }
          },
          "ternary": {
           "aaxis": {
            "gridcolor": "white",
            "linecolor": "white",
            "ticks": ""
           },
           "baxis": {
            "gridcolor": "white",
            "linecolor": "white",
            "ticks": ""
           },
           "bgcolor": "#E5ECF6",
           "caxis": {
            "gridcolor": "white",
            "linecolor": "white",
            "ticks": ""
           }
          },
          "title": {
           "x": 0.05
          },
          "xaxis": {
           "automargin": true,
           "gridcolor": "white",
           "linecolor": "white",
           "ticks": "",
           "title": {
            "standoff": 15
           },
           "zerolinecolor": "white",
           "zerolinewidth": 2
          },
          "yaxis": {
           "automargin": true,
           "gridcolor": "white",
           "linecolor": "white",
           "ticks": "",
           "title": {
            "standoff": 15
           },
           "zerolinecolor": "white",
           "zerolinewidth": 2
          }
         }
        },
        "title": {
         "text": "Interactive 3D PCA Projection"
        },
        "width": 1600
       }
      }
     },
     "metadata": {},
     "output_type": "display_data"
    }
   ],
   "source": [
    "alignment = \"stimulus_onset\"\n",
    "state_values = [\"biased_state\",\"unbiased_state\"]  # States\n",
    "\n",
    "[x_choice,y_choice,z_choice] = awayRF_pc_weights[alignment][:,:3].T @ choice_axis['awayRF_prior'][alignment]\n",
    "[x_stimulus,y_stimulus,z_stimulus] = awayRF_pc_weights[alignment][:,:3].T @ stimulus_axis['awayRF_prior'][alignment]\n",
    "[x_bias,y_bias,z_bias] = awayRF_pc_weights[alignment][:,:3].T @ bias_axis['awayRF_prior'][alignment]\n",
    "\n",
    "# Define colors for each coherence level\n",
    "alignment_dict = ephys_config[\"alignment_settings_GP\"][alignment]\n",
    "conditions = [\n",
    "        \"coh_0_choice_toRF_corr\",\n",
    "        # \"coh_6_choice_toRF_corr\",\n",
    "        # \"coh_20_choice_toRF_corr\",\n",
    "        \"coh_50_choice_toRF_corr\",\n",
    "        \"coh_0_choice_awayRF_corr\",\n",
    "        # \"coh_6_choice_awayRF_corr\",\n",
    "        # \"coh_20_choice_awayRF_corr\",\n",
    "        \"coh_50_choice_awayRF_corr\"\n",
    "        ]\n",
    "\n",
    "if alignment == \"response_onset\":\n",
    "    timepoints_list = np.arange(0, alignment_dict[\"end_time_ms\"] - alignment_dict[\"start_time_ms\"] + 1, 50)\n",
    "else:\n",
    "    timepoints_list=np.arange(0, alignment_dict[\"end_time_ms\"] - alignment_dict[\"start_time_ms\"] + 1, 100)\n",
    "\n",
    "# Create a figure\n",
    "fig = go.Figure()\n",
    "plot_pca_projection(fig, conditions, state_values,\n",
    "                    pc_projection_biased_state_awayRF_prior[\"mean\"][alignment], pc_projection_unbiased_state_awayRF_prior[\"mean\"][alignment],\n",
    "                    timepoints_list=timepoints_list, onset_time = - alignment_dict[\"start_time_ms\"],axes=(0,1,2))\n",
    "magnif = 50\n",
    "# add_axis_arrow(fig,x_stimulus*magnif,y_stimulus*magnif,z_stimulus*magnif,color = 'black',legend='Stimulus Axis')\n",
    "add_axis_arrow(fig,x_choice*magnif,y_choice*magnif,z_choice*magnif,color = 'red',legend='Choice Axis')\n",
    "add_axis_arrow(fig,x_bias*magnif,y_bias*magnif,z_bias*magnif,color = 'blue',legend='Bias Axis')\n",
    "\n",
    "# Set plot labels\n",
    "fig.update_layout(\n",
    "    width = 1600,\n",
    "    height= 1200,\n",
    "    scene=dict(\n",
    "        xaxis_title=\"PC1\",\n",
    "        yaxis_title=\"PC2\",\n",
    "        zaxis_title=\"PC3\"\n",
    "    ),\n",
    "    title=\"Interactive 3D PCA Projection\"\n",
    ")\n",
    "\n",
    "fig.show()"
   ]
  },
  {
   "cell_type": "markdown",
   "metadata": {},
   "source": [
    "### SEM plotting"
   ]
  },
  {
   "cell_type": "code",
   "execution_count": null,
   "metadata": {},
   "outputs": [
    {
     "data": {
      "application/vnd.plotly.v1+json": {
       "config": {
        "plotlyServerURL": "https://plot.ly"
       },
       "data": [
        {
         "line": {
          "dash": "solid",
          "width": 2
         },
         "marker": {
          "color": "blue",
          "opacity": 1,
          "size": 2
         },
         "mode": "lines",
         "name": "coh_0_choice_toRF_corr_biased_state",
         "opacity": 1,
         "showlegend": true,
         "type": "scatter",
         "x": {
          "bdata": "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",
          "dtype": "f8"
         },
         "y": {
          "bdata": "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",
          "dtype": "f8"
         }
        },
        {
         "fill": "toself",
         "fillcolor": "blue",
         "line": {
          "width": 0
         },
         "name": "coh_0_choice_toRF_corr_biased_state_std",
         "opacity": 0.2,
         "showlegend": false,
         "type": "scatter",
         "x": {
          "bdata": "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",
          "dtype": "f8"
         },
         "y": {
          "bdata": "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",
          "dtype": "f8"
         }
        },
        {
         "line": {
          "dash": "solid",
          "width": 2
         },
         "marker": {
          "color": "blue",
          "opacity": 1,
          "size": 2
         },
         "mode": "lines",
         "name": "coh_0_choice_toRF_corr_unbiased_state",
         "opacity": 1,
         "showlegend": true,
         "type": "scatter",
         "x": {
          "bdata": "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",
          "dtype": "f8"
         },
         "y": {
          "bdata": "8Dn5jpcubMBPxROw9WpswD6nfhwChmzA9dsFTTySbMCFlhLtxH9swBExvHV8S2zA6PuXt0f+a8DVOpqOy59rwIGRZM2oLGvAgQ+IJBmxasAgPBlfLC9qwEKTrv2Ho2nA9u2UjMYeacApuwIT8JhowE6GQVERC2jAEhZRR1yTZ8ARRBYcjylnwG0Mews4yGbANfoLAtJ3ZsAz1ih8SS5mwCd4QQFk9WXAHllOVJPRZcB3xX6xvq1lwIvsYEkSmmXAzXvWRKWVZcBQLXsOI5FlwDQIzY4rkGXAIe/AyeOOZcB9I+rb2ZRlwKcmDirCjWXAQaegtWChZcD0LBzYXLJlwLNR0jsBvWXAOkDoFsfMZcBKXN24jtdlwMVGA5Qw7WXAGqc2TyoHZsDuBjXGaxtmwGWGf5LNLGbAqo8lP6IxZsAdydAyUTlmwHuOJklPR2bAgZ4Cy+9MZsAcKK9sTVdmwFZ9giGCZWbAjvUk/hZxZsBKY72GkHdmwAsUnOsZbWbA/bqoweZnZsAehh88XF5mwF0X24MHSmbArips1s9DZsAK72VvCC1mwP8pW4NICGbAIpTaNQbqZcAOke2YycJlwGOgKUDBlGXA73A867lgZcAgekyBwyJlwOIEvzJw2WTACb1SOSmFZMDKCfUs6jFkwOX1OeHyyGPAfpVGONJbY8BGZ2szJOhiwAcQw8DNfGLAtfczQaQGYsDTaNCwlZZhwOdyedNpKmHAV4lpaK2/YMC3xfJsB2JgwK4Bq8M7BWDAOOLKuO6CX8C/ZbXXSgRfwGOob7Rhx17AGyGHphu1XsB/sKi5u6tewIFXtccW2V7A36eVc+wuX8CItZzsy6hfwM84QLHvJmDACXmSNKmPYMBw7zY4KP9gwA75Pto2h2HAaGb4tj4bYsBYLpaaYbliwKBptdAbWWPAPBORD84BZMD4imGX7q5kwN8KRefpVWXAzChNhy8JZsCeXL7SJKlmwEtoAbJOTGfAVNjNSGLxZ8AR8RIu6IVowMKvXW03FmnAta6m8N2XacAFYZH/TARqwMVyLWPHa2rAxANMEn7LasBpvhOh6hxrwMPKPFIkYWvAamvnMIqJa8BtO8ThLKtrwJk8uZ3Ew2vAm6N07/LPa8AHhaa+es9rwNu2Vd2wxWvAAnJluUvAa8BT9OS4aLdrwAJ8fr9WrGvAHVhadTKpa8Bo97dl2Z1rwH0RrWq+mmvAU8dCR0ioa8AsWf2v369rwFojNatyv2vAuIHLahHZa8D41s10MuxrwFyBsVTYAGzAwswTY3QbbMCh8BOUVzJswC0+wqw8MmzAodllEEA8bMDQB3k3vy1swIcHJDJGEmzAcmudaNvaa8BR4PNbk5RrwDb7jP5ePGvAEdctF+XKasDFa04J5kFqwJS1wMx3mWnAEUjVYDzRaMCjss1cR9tnwPqbyxgyzWbA3XbrN7mNZcBXvAvR3StkwKqHi1XApWLAOqR3w9vpYMAjSx3RteBdwL0Pc05moVnAUB6znZXhVMBg5VmhQUhPwKULGJdyz0PARYV+POGfLcDVkgSQ3CYnQHbULF9d5ENAy11RRgFbUUDUaXhMWR5ZQM5Mn0U5jmBAlBr7UI6ZZEC7ROoCs7hoQNLLENcUzWxAZwr/uSxncEAJh3S+0VZyQCF59WXTK3RAxUn0qdLldUD+BdJkX3Z3QJVmdCf/1HhAY7aAM0QCekBSXLUqSvp6QJe5vbntvntA5YyTSLhGfEADONGQeox8QDs07CejoHxAsF4QDXJ9fEClYoa+yiZ8QD7QlxqZmXtAgSU8WqPYekBsKGFbVe15QC5mAdt04nhAhXC+7sGyd0BuPQGKYWl2QIU/Rl6gBXVAbHgxKEuOc0B41qKoYQ5yQOWNf9fjeXBA5Y9+x3i/bUBAFrw9tIJqQErSLZmkR2dAIyuFwB4IZEBpVbViaNVgQKQASSlKUltApL9htb8uVUA0gOmKwohOQGmlpPoTCUNAc6T95QJ5MECvs4pW9xQQwIIMRUaqYzfA5n615MRnRMCXZUZF92BMwL3KG2BAtVHA8qN77jvRVMBNh2BioYZXwBTPrShns1nA9dWblthoW8CXmuosa7xcwDwi5VlYjl3AyN/bvI4WXsCyDKFIvjNewHEJC1fP/V3AjUt8SaRqXcDuHvP7GbZcwHL9TxXZ0VvAQtkOkBTSWsAXq9EAgapZwI++PJvheVjA92M9U99VV8BFZmjEsSVWwAZHFHVPA1XAFKeyUs4EVMDKBbRnshlTwGMaCOtwVlLAJp5G7xmqUcB0luKNHSJRwIFbZ4XEs1DAGpoOp3tuUMCZhY572FdQwGirAAkeVlDAco4yuNhaUMB2x0uav5NQwGXnkL8r3lDAXHcpvM9MUcD6Ko/pWcNRwC/X02j8RlLAQZobjQzqUsBTb10mbKtTwBpEkV47iFTAFr0JTHtzVcDIbqDkLWVWwLUbZK1RWFfAOeyV9cpvWMDDZ6djcqFZwN+SWEsj1lrA5y7uomMuXMBwv6/qe5ldwI6uhkpIDl/AzgoP5EpHYMBvv1rm4QxhwBY/HnDc1mHAPjTsdgCtYsDLO6scoX1jwC/Yf6m3RWTAGuKLq64WZcBQs6eequ1lwPRu+klXtWbA40tMN+hqZ8C5xems/hpowBSymCNdv2jAN+ZJBqlPacDUHOZ6f9hpwI0uo5MMTmrA7cfxIxY4a8DJhXQG+Z1rwI57HGA++mvAWjh2QB5XbMCv0zY1SatswOTyKM/y/mzAjGfp6XNabcCHNeUiHLhtwEAWoePqKm7AbZ9FC+zBbsD+SBok7GRvwAk2lIamDXDAFk21EQ11cMAD03lzrehwwJ8owlNbcXHA1IA2GXL7ccBa2xl9to5ywMCfmd+tLHPAXXhx3FN6c8Bv9XivmiB0wIA4yYWNvnTAdbMPYEQ7dcD+qp+Hy9N1wMRc26p0bnbA0xwd2AACd8ClPn7AkI13wNJNHR/zDnjAB6VAY5t3eMAktNdy9PV4wEGc1M0rPXnAKHm9zbyrecAMk6tqgCR6wDmeuj3QonrA/kYr58Aje8BgIAhE/MJ7wGvmVB/gT3zA3XGRvHTefMBSmp3l+HF9wH4JroN4wX3ARxKgiV5bfsBfiZrj1Nx+wFeNVtXPbH/AYa94DekHgMDCUnLzFT2AwHdqgMRBhoDAzrIkvIPMgMCERsF7IgyBwCxGKSloI4HAG98JpD9NgcD7SS8F6nyBwMbfZ4BLw4HABAdNYuHlgcDs++F+MgGCwO06fmtNFILAg/7w22wjgsCoWhQSGhSCwPoMu/avFYLAjVV6yW0JgsC8776eJg+CwODul8/K+4HAnVUXWWbigcBhQ7c6afuBwHhNAc+d+YHAsY8JYBLtgcA2xjOk74qBwNnUnDjuh4HArj9MsXR/gcCxH441Bm2BwL2VnlbmN4HAcc2JsJb+gMAb/myq/XqAwNEAwNk3Y4DALXBvZhhJgMCzTc+PFcx/wO5LWNnvSH/AV79t/hTofsAOnM+Qgr5+wLaEL8O6b3zA2qyPJg48fMDOwAFAL797wIPBM09kqnvAh15a2JG4esDNiygiTh96wNIe8jWLAnnACAMqC3iKeMDlluzycV53wDGWzLUnq3bAu75rasL6dcDwkjVp7zp1wBP8/p/mN3TAXOsFyB5Rc8BIRKgeOyBzwNpHY7s733HAcFB5l/xuccCTZSj9H91wwMHyIlwWNHDAOQ9lmYhdb8BgwlUxAyluwJ5S/Pa9h23APPbicRcNb8BpQ1HGVFhuwK1tdNp7627A8DSK5WeibsBTpOmGPVVtwEB/LUM1rW3AqrMHVYujbcBGH3eoIz9twAWIxXN4FmzA0u0PwWMsa8Dm6h6qaK9qwA==",
          "dtype": "f8"
         }
        },
        {
         "fill": "toself",
         "fillcolor": "blue",
         "line": {
          "width": 0
         },
         "name": "coh_0_choice_toRF_corr_unbiased_state_std",
         "opacity": 0.2,
         "showlegend": false,
         "type": "scatter",
         "x": {
          "bdata": "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",
          "dtype": "f8"
         },
         "y": {
          "bdata": "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",
          "dtype": "f8"
         }
        },
        {
         "line": {
          "dash": "solid",
          "width": 2
         },
         "marker": {
          "color": "red",
          "opacity": 1,
          "size": 2
         },
         "mode": "lines",
         "name": "coh_50_choice_toRF_corr_biased_state",
         "opacity": 1,
         "showlegend": true,
         "type": "scatter",
         "x": {
          "bdata": "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",
          "dtype": "f8"
         },
         "y": {
          "bdata": "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",
          "dtype": "f8"
         }
        },
        {
         "fill": "toself",
         "fillcolor": "red",
         "line": {
          "width": 0
         },
         "name": "coh_50_choice_toRF_corr_biased_state_std",
         "opacity": 0.2,
         "showlegend": false,
         "type": "scatter",
         "x": {
          "bdata": "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",
          "dtype": "f8"
         },
         "y": {
          "bdata": "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",
          "dtype": "f8"
         }
        },
        {
         "line": {
          "dash": "solid",
          "width": 2
         },
         "marker": {
          "color": "red",
          "opacity": 1,
          "size": 2
         },
         "mode": "lines",
         "name": "coh_50_choice_toRF_corr_unbiased_state",
         "opacity": 1,
         "showlegend": true,
         "type": "scatter",
         "x": {
          "bdata": "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",
          "dtype": "f8"
         },
         "y": {
          "bdata": "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",
          "dtype": "f8"
         }
        },
        {
         "fill": "toself",
         "fillcolor": "red",
         "line": {
          "width": 0
         },
         "name": "coh_50_choice_toRF_corr_unbiased_state_std",
         "opacity": 0.2,
         "showlegend": false,
         "type": "scatter",
         "x": {
          "bdata": "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",
          "dtype": "f8"
         },
         "y": {
          "bdata": "Soc4OzEhacCjOyarrYxqwMJ9sv8G6mvA8hb6DQs5bcCrdogKqGBuwOmDUPSSZm/AXVK4aVYccMDZYBy8aXFwwPR6Q2sRrnDAOZ64pQ3TcMDugDYrettwwF45Y3aXz3DAZ0aVsdWscMBve8gkFXZwwHL3Z2CIMHDA7irxXevFb8BkmJJ9GiVvwMLcO741cG7A0aU7PBmzbcDDJEQIofRswPZroX9QPGzAndIrARCPa8CobSa+QexqwAWxnWSuVWrAAUNFxw7YacBarPkxYU9pwJr/Bmiw3WjA8zraQrp3aMBPnkFKYhdowHaO0GW+xmfACbZg0dhsZ8B9iQganB5nwAbrpqv61GbAEpzOCc2DZsABQnJuoEVmwFmok4JiAmbA7s6tP8fHZcCPWQ6SrY9lwA6MtjxzX2XAWc3OYCEtZcAqBctuifZkwNBzTHQDy2TAykhPdR+WZMBjORNtbW5kwFsvuV4gP2TAS7XP028VZMAdp15XfuRjwLWwejKusmPA9BdKbw98Y8Cipe5gB0BjwEua5CvpA2PAdZFK5U27YsCv+AI6/nZiwBDu3brIO2LA1V9ljLz9YcDcR6RRTr9hwE1T/jB4iGHAVu+itp1JYcDdFQ21rBZhwKbEAB2E8GDAmNl0KUXLYMBZ8reG0axgwCyjoWEJoWDAM1V32XabYMAP5HGWUJdgwJM7M6hFnWDAeacIKo6fYMAELlCBuqdgwM1dkGNnp2DAqLv1CT6dYMACP33t8phgwJLXB7rwk2DAFhL9AQl8YMCthZD53WNgwBWKasiFTWDAs1XDXB0lYMB91bYEOwJgwI3QSHuiv1/AP932EfKSX8DiNbA/IWhfwOOiburkX1/AJDK1rXB0X8BggYmFF65fwIm60qB9AmDAMH2aJo0/YMAEuJRh+pxgwGdneZC/CGHAxp1WqsGDYcBZkofOqgxiwNovo5rqoGLAP4HzEZ1FY8BpYAZdbPZjwP531MM7oWTAyBZoaItTZcCivFKXG/plwDnWf4ttj2bAHc07Ma0iZ8C2hVydAaJnwD9HTuj8DWjAW+woZABsaMAtT/ISV71owNSf//yEBGnARlKzM+07acCR/H0MYmhpwHZhpw9RgmnAfGkCc1idacCPK4jkdrFpwIs/OXmyx2nAJGvjeEvlacChQjGAr/1pwAAzhOzKHWrAiH4FG95AasAL4NDsC2VqwBx2B7+giWrACPAwZ+CxasDI3X7WpNxqwO34DficBWvAwOnGS5oma8Bj+L9HLj5rwGO2EmT0TGvApHIUQs5Ma8CcAwpznzFrwE5YRk65BmvA5LZ7aRO2asDEwh7ItklqwC4YsKc9wGnA6k7v9JIeacAU1ztoZ1lowNYaHb8IeWfAkDT0sFh2ZsBpPeG+SVplwLU9qU2rE2TAao+ZPeauYsBeedQpfDBhwH3B+mlXGF/AOBFqBWqNW8Cjc926etBXwJ5+01cIxlPARNXm6OSVTsAY28dOlQtFwBJtHpTE1jXAAJ8B8akJxb+ISJ2FvhQ3QEvo/6XwDEhA6LiUS1eTUkDFY6Gb1o5ZQG1uS/bsfWBAhB4FlKNWZEDsY7d671RoQOSgqy9IbWxAptSZWP1GcECTe3w8MWJyQNW0r+aHeHRAvjvHQ0eLdkCPPErrVo54QIMv/oMReXpAQl44eWtFfEB1Z9nO6uZ9QGEC4+iHW39AQqQ3O+pPgECkB7ES4dOAQJuOxRtfPYFAuhOfW9SHgUBXW1wYubOBQE//yBNxv4FAzYe6SvmqgUACTehabniBQBrM1EmHK4FAvv2xeQzBgEAOrdjXR0CAQJC+MilbUH9AsnW8I9n9fUBw8nW6L4h8QEJTJRGb93pAgZQf7kBSeUBPFe7RGaF3QFiN8vB033VARSGxkg8TdEBsBfvaFUNyQAfHSaA5a3BAtx0IAJ4ubUD52EiIGJNpQNU43AVX72VAJmCw8nRdYkBv3NLWm7FdQOUTBsg90VZA5IZfRvUSUECh8OnRGS9DQJmxmaG86SlAegryLnoMJ8AdTWWaNT9BwPfBueBOLEzAO0uxpz09U8B6hOACfgtYwIRZZzCsclzAdCeWkwI1YMCSv7R/texhwNqxQEkXbGPAMFlyWVevZMDhDOtNO7dlwFPFBGIHhmbAYNjWjZgGZ8AKpe4b7ENnwCccXlXMO2fA5Kryacz9ZsCp/KfadntmwBv9yVMfyWXAXQTqNl7iZMDO78eaKtRjwK3XiLYroWLA/r2vLzVIYcAlFtSQjKNfwFYHT7dor1zARnKgu9WZWcCqRsQV2ppWwKaxNMpgp1PAsUTs/BXPUMDFYGb0TT9MwE4Gn8w7H0fAElBkz7WjQsDbpXCI2n89wIx3TABirTbAk2PH/wDKMcA1mMB6UhwswBr7jbe2TCfAA9UHQn36JMA6K53H700kwP4fEEMtyyXAVWLsxzPDKcBkNa6Hpe8uwHu4rlwD1jLAqoIWcuOKNsA4W/Ptz/M6wPG0hVrgpj/A5SBx48AoQsBI5D18OopEwI2q6DH4F0fAnTRHL0iTScAlrsqujvRLwK1gQGRFV07AVu2Q4PU8UMDVa9tiJmlRwMz4S3v5fVLA2P82olyIU8ClOcrjBKpUwGbkK0Pgy1XAUYSOhkX5VsCovHSWqCpYwABHXU8qclnAXUKrdtfEWsBuwJqX/yhcwFt04MtJxF3Asfz0cVdWX8BYtEJjbZBgwMWAzsyMe2HAE474Q+93YsA5jhFHMHhjwL/Gy8kXkWTAbFmPFiWxZcDRyEaaOcZmwOYGmz0F6GfAIEYqSUHyaMCKKr/39xpqwA3IIllxMWvADSfuo6c2bMBXa/tP2CdtwDlbh2SDCm7A8yBJwHqwbsDQDJWOPnpvwGSd2OvOE3DAKY1FTdVbcMCd2g6e2aRwwOCsI1rB53DA4imD2t8KccCOWdH0uiVxwLOD/d2bVnHAw1mHO557ccBF6vHaBqtxwCbYR248MXHAzFRSRE1fccCxNe6sF5NxwAxGR6mLynHA63tQiE8LcsDQ7R/f7FJywGuyuuoVg3LAIdm6uXzXcsC4Ofxy/j1zwN+ETNQcuXPAsYZTQVsudMB0/CviXKF0wO7HFp1sTXXAJJ+PX2+JdcA8SqqO2BV2wNVOeZa5onXAevFoyVsndsBsMLIi88F2wEjrtrOnYHfAAwOGzUXtd8BvHYqVi2h4wEB8RqYjA3nArBUMjLuWecBP8DOYxFB6wPi7t0az5nrA1sZMzOPLe8DmAjRTtEJ8wBocVtgSCH3APSXctJLTfcBzjqvgdn1+wB9DeoinM3/AcQ+Cx5LVf8BKbeZIhT6AwFbX3NiQZ4DAwqpE0GGGgMB5Nj0Nga+AwJzgW41HzIDAEHNO4v4SgcBJ+Srl8GWBwPMUmy+ql4HAIpr/PZ3VgcDGcVGRS8KBwE4iDdlT1IHATpPdeH/kgcBvlw0dvcqBwPDT0lDOhYHAnWcpSlHRgMAOLDSjB9GAwAZi/51lq4DAESyxg6lwgMAfNRT8JyWAwJGnGH2+G4DAGzEM0jyIgMDTzpi914+AwGXjo6jX14DAOFx944ARgcB6UdgMRzaBwIWcpvkmNYHAAHc5P1zogcCpdQvO/SyCwC5yDvZ2RYLANMaD1NAzgsCKbnUvmiGCwEBeJo08NYLAp6p2/Sb3gcB9t2HukcWBwHSuj2BfdIHAntessNAtgcAz1gMU8xGBwKJFGDkD6YDAOJeeZ+DKgMASHHzMEKKAwFMvM8G1ToDAZ+KD5J77f8CD72IvQUV/wL++/Xepm37AzBKkAyHPfcDG6DJnhQl9wIBGpBrjk3zALJmKc2Ste8Bz5+Tqrhd7wKCY7uoiXXrAWKyYlrfJecALBA07sC55wEeI3eFEsnjAAoY53qskeMCeBBMr0YV3wJzxDKA463bAJ/57SMBmdsBM4PYGet92wPLoqE1/UnbAfgx9w1kWdsC8099a12p1wANenAld+HTAZbuYUPWDdMA4y0m1EQp0wJtwjLobpXPA52mLOopSc8DQNfhBlCRzwAs0qZNu33LAHBOJ02GhcsAvtr6TtGxywGrAsC2lO3LA6sPs8SwQcsBncv7aIY1ywIvzUNghX3LAj8NNcYw7csB8/ATGtgtywFiYOys38XHAdrMRQTDOccApyLZ4j4pxwJWo2yYwQHHAzDyUdDj2cMA0jwxzDZ1wwFTHuEYpNXDAm7NEBZG8b8BdOuuEQ9JuwGc6q2j72G3AZUCo8C7LbMCeflXLA6xrwPwNuCdGemrALJf62kxnacCNgwki/TxowBK5uW6wH2fA9+YwTdz3ZcB5GMvE09dkwLNg3q8M0WPARSOvw73OYsCErH+bGN5hwBUIxG7682DAX9o6wagmYMASVSkU5KlewMFcRlJ8Pl3AatpUCBblW8A8GSjVBZdawL32D79lX1nANMTtYMgrWMAT8Jmv0gNXwMgrRsSH3FXA1FHhhsfMVMBl8OqH0bJTwB45l5P5gVLAiupbcDNtUcDvu7s3ijlQwH/TtggUD07AZUEt8W+TS8CUEsfdLQhJwA0qnE9Jq0bAyQ8tGfxcRMCBPCGB2QtCwChl2kxOwj/AYea3RggiPMAYiQwHzNg4wOye1++dVTbAtpt5GkVsNMAggo5bZLwzwPw43UhlHjTAmbGXO/JONcAeaq0kZbo3wN1oOH++djvA3OG8doorQMA6yYg74ZFDwID9ML22ckfA0FeojFrqS8B9Koe0vINQwF/E/rUxMlPAEN7LJGoKVsDeyOm4wv5YwDLDKpvw/1vAGBcNvCEZX8Dvmz8I7whhwIYBCrNbgmLAaZiMOeXeY8AAYXa06BVlwMnIgxWPKGbAG8KPS/ITZ8BVgMZDJ8tnwLLvDh9mUmjA5xADUiGVaMCCssqd2aFowCT2oeLIaGjAeSqaDCTsZ8BVkbAr4iBnwA7k7c24G2bAVJyiv6/aZMDubZsl/VxjwI7Gs+wbpmHAQofvaHZVX8C6AcgTcO1awN/KSqcfHVbAh3gC9M7yUMD5mspAsPBGwGOQVlEl1zbAUJV7k7oa+z9CJPJ/RSs7QGotnu10k0pAr1T+FhMLVED9btJuU+1aQNRUTrxz+2BAsxP1kuSMZECzf5dQtS9oQEd400eqyWtAkhcB1E5vb0CkKQQB9o1xQNU8T8tJXHNAPuKRRbomdUAjf6MjRuZ2QM1VCOgNlXhAPmpe5t43ekDQMuHosMV7QIxrc9piOH1AWqoljN6HfkAYvptu1rR/QEiUG4yDWYBAzEnUilvCgEDaMHuWhg2BQK0kGpZbPoFAR5/+7yNRgUB1y564tEOBQBhBr6xYFoFAnfAAmpTKgEAcSrXf/l+AQCv70X+Etn9AFeub8SxxfkAHvSgXJ/x8QFQTBg7pWntAmwcpKoWPeUDFDD9kVaZ3QIzABpBmpXVAFwYuy4CVc0BNaV/4KoJxQHBU8MXq1G5AJPyD6Km7akCgG2fIB6tmQE66aSOQtGJAfwiFknjGXUAlmqT/T2hWQLcOeRe/9U5AeesTMJH1QUDk0yiKAyomQMU/ta8dACjA+O+Gf6nEQMD+STQ4wdVKwGyRsXWWKVLAKPriT3+fVsCLctzG3aVawEKIWTUAX17AL+KXIN3zYMAstoKUT5diwOQZR6ImFWTAcdtkB7l5ZcAP11QtisBmwKqoI+8E3WfA9ujnM4/gaMBWMbPcnMFpwOS4h7w+iGrAgpooJ7cra8C4TODcVrdrwNL7IYO+JWzAgDmqALh4bMAsYlMUGaZswP58etXbw2zAA6dBVp3GbMBXYpwzarpswILqahMcpWzAFxSHnJCGbMCyeJfr1l9swJrPLdU4N2zAnjn8cN4QbMAn/hWNLu5rwFYRa/+8y2vAgN9Vyh6qa8CPmKz3X4trwMbOQSYgdGvAazS6eHJXa8A/l5CYmkFrwORiy8erLWvA6mPv8j0Sa8BNy7g0fPdqwLLPVKqwyWrACootYWmQasBHvKef70ZqwBcrDf668mnAq7tNX2KRacDc0Wa+pyFpwBnuNPJjnmjAW62/S9kGaMB8sh9iOG1nwHL02vg/wmbAGNSTd5ILZsAdazX/lFxlwJ1TW5Dhp2TARFs8kd3/Y8DBVjm9WmhjwMInJ2+C3GLALXsybztfYsBs2sU2mvFhwEjZsEbVkmHA17cg7wBVYcAU8+lucSlhwK6RuRQIDWHArlwZx7sDYcBVCMAqlAlhwPGLaKtYIWHAXHbek6w6YcArmVt9z2BhwFcdiYe5h2HAB/GnWsi0YcDBrfMDBdBhwCBGUxNf7WHAKIYzBl0KYsB0mw+rexRiwKZXDiN/HWLAG1AkwwwsYsCmFWVwVTBiwCdj3yhoK2LAOXC0/I4rYsAftH6TXidiwM1atIdTLGLAvhWP38IxYsCJbsCndDxiwMTj1rrqWGLAREgSHnh7YsDdK49M/51iwCyhE+iFzGLA2bu6xo8GY8C2okXcHDhjwKn93PfvcGPAtidt7kWpY8B5dihK095jwJ/EtqfNHWTAQfOjPFNhZMBWxgZi5phkwPSpcngl0WTAkeA9IW8EZcB1DFBOrjNlwCkJaTbbYmXAVSV6iFyLZcBHgxFoMLplwPrRN6j/4WXADiATOWoXZsDiRfV0r0NmwJvvrSIne2bAzCKx1H2uZsBXrxxWZt9mwAR27scjGGfAk4frzT5TZ8BTTU7fz5ZnwN4swBA01WfAPNT1ppwmaMCN407HnXBowD0nVbsDwGjAsh/5mxIcacA1mf1PXHBpwLkveQRa1mnAlC6ELGNEasBiQ/4Y58BqwIlsy4t6V2vAm2l+1djla8AUdXij/o9swOOjSrbjSG3AhKk+VAAObsATyYe8at9uwMUVyWSLt2/A2PvDYBZHcMC01pF9yq1wwE19DcajCXHAXjzpBJNhccDveTReFrBxwMs+xIYl7nHAWLV2V2gWcsAAldH86SVywO1HPJcqH3LA+CKJofv5ccBNh/GmO7txwK9m0vdlYnHAVTHZuS30cMBOCDF00mpwwORsXyFXn2/AcN1+UFxAbsCtufnWidJswBoJBlGOVmvA",
          "dtype": "f8"
         }
        },
        {
         "line": {
          "dash": "solid",
          "width": 2
         },
         "marker": {
          "color": "black",
          "opacity": 0.8,
          "size": 8
         },
         "mode": "markers",
         "name": " ",
         "opacity": 0.8,
         "showlegend": false,
         "type": "scatter",
         "x": [
          -528.5970317672085
         ],
         "y": [
          -110.07068841353754
         ]
        },
        {
         "line": {
          "dash": "solid",
          "width": 2
         },
         "marker": {
          "color": "black",
          "opacity": 0.8,
          "size": 8
         },
         "mode": "markers",
         "name": " ",
         "opacity": 0.8,
         "showlegend": false,
         "type": "scatter",
         "x": [
          -569.4622893340128
         ],
         "y": [
          -225.45600079228416
         ]
        },
        {
         "line": {
          "dash": "solid",
          "width": 2
         },
         "marker": {
          "color": "black",
          "opacity": 0.8,
          "size": 8
         },
         "mode": "markers",
         "name": " ",
         "opacity": 0.8,
         "showlegend": false,
         "type": "scatter",
         "x": [
          -342.11282614091846
         ],
         "y": [
          -216.0996088057787
         ]
        },
        {
         "line": {
          "dash": "solid",
          "width": 2
         },
         "marker": {
          "color": "black",
          "opacity": 0.8,
          "size": 8
         },
         "mode": "markers",
         "name": " ",
         "opacity": 0.8,
         "showlegend": false,
         "type": "scatter",
         "x": [
          -670.8221295174075
         ],
         "y": [
          -209.8710661517121
         ]
        },
        {
         "line": {
          "dash": "solid",
          "width": 2
         },
         "marker": {
          "color": "black",
          "opacity": 0.8,
          "size": 5
         },
         "mode": "markers",
         "name": " ",
         "opacity": 0.8,
         "showlegend": false,
         "type": "scatter",
         "x": [
          -211.2781832649374
         ],
         "y": [
          18.251823105043343
         ]
        },
        {
         "line": {
          "dash": "solid",
          "width": 2
         },
         "marker": {
          "color": "black",
          "opacity": 0.8,
          "size": 5
         },
         "mode": "markers",
         "name": " ",
         "opacity": 0.8,
         "showlegend": false,
         "type": "scatter",
         "x": [
          -557.729332127927
         ],
         "y": [
          -216.90364126068314
         ]
        },
        {
         "line": {
          "dash": "solid",
          "width": 2
         },
         "marker": {
          "color": "black",
          "opacity": 0.8,
          "size": 5
         },
         "mode": "markers",
         "name": " ",
         "opacity": 0.8,
         "showlegend": false,
         "type": "scatter",
         "x": [
          -382.61576476463824
         ],
         "y": [
          -96.55899817178394
         ]
        },
        {
         "line": {
          "dash": "solid",
          "width": 2
         },
         "marker": {
          "color": "black",
          "opacity": 0.8,
          "size": 5
         },
         "mode": "markers",
         "name": " ",
         "opacity": 0.8,
         "showlegend": false,
         "type": "scatter",
         "x": [
          -514.455467834237
         ],
         "y": [
          -204.06681504290992
         ]
        },
        {
         "line": {
          "dash": "solid",
          "width": 2
         },
         "marker": {
          "color": "black",
          "opacity": 0.8,
          "size": 5
         },
         "mode": "markers",
         "name": " ",
         "opacity": 0.8,
         "showlegend": false,
         "type": "scatter",
         "x": [
          470.4475301326501
         ],
         "y": [
          -37.21242400867357
         ]
        },
        {
         "line": {
          "dash": "solid",
          "width": 2
         },
         "marker": {
          "color": "black",
          "opacity": 0.8,
          "size": 5
         },
         "mode": "markers",
         "name": " ",
         "opacity": 0.8,
         "showlegend": false,
         "type": "scatter",
         "x": [
          491.3800742987711
         ],
         "y": [
          -119.96578003003903
         ]
        },
        {
         "line": {
          "dash": "solid",
          "width": 2
         },
         "marker": {
          "color": "black",
          "opacity": 0.8,
          "size": 5
         },
         "mode": "markers",
         "name": " ",
         "opacity": 0.8,
         "showlegend": false,
         "type": "scatter",
         "x": [
          572.2323822093139
         ],
         "y": [
          -81.6988112298423
         ]
        },
        {
         "line": {
          "dash": "solid",
          "width": 2
         },
         "marker": {
          "color": "black",
          "opacity": 0.8,
          "size": 5
         },
         "mode": "markers",
         "name": " ",
         "opacity": 0.8,
         "showlegend": false,
         "type": "scatter",
         "x": [
          582.90552188484
         ],
         "y": [
          -185.7839008857838
         ]
        },
        {
         "line": {
          "dash": "solid",
          "width": 2
         },
         "marker": {
          "color": "black",
          "opacity": 0.8,
          "size": 5
         },
         "mode": "markers",
         "name": " ",
         "opacity": 0.8,
         "showlegend": false,
         "type": "scatter",
         "x": [
          87.56736362430729
         ],
         "y": [
          -375.68011863878223
         ]
        },
        {
         "line": {
          "dash": "solid",
          "width": 2
         },
         "marker": {
          "color": "black",
          "opacity": 0.8,
          "size": 5
         },
         "mode": "markers",
         "name": " ",
         "opacity": 0.8,
         "showlegend": false,
         "type": "scatter",
         "x": [
          248.64849681797847
         ],
         "y": [
          -553.6560745974742
         ]
        },
        {
         "line": {
          "dash": "solid",
          "width": 2
         },
         "marker": {
          "color": "black",
          "opacity": 0.8,
          "size": 5
         },
         "mode": "markers",
         "name": " ",
         "opacity": 0.8,
         "showlegend": false,
         "type": "scatter",
         "x": [
          1040.0756980054168
         ],
         "y": [
          -451.36215130753646
         ]
        },
        {
         "line": {
          "dash": "solid",
          "width": 2
         },
         "marker": {
          "color": "black",
          "opacity": 0.8,
          "size": 5
         },
         "mode": "markers",
         "name": " ",
         "opacity": 0.8,
         "showlegend": false,
         "type": "scatter",
         "x": [
          889.000443914533
         ],
         "y": [
          -415.62090634308913
         ]
        },
        {
         "line": {
          "dash": "solid",
          "width": 2
         },
         "marker": {
          "color": "violet",
          "opacity": 0.8,
          "size": 10
         },
         "mode": "markers",
         "name": " ",
         "opacity": 0.8,
         "showlegend": false,
         "type": "scatter",
         "x": [
          -211.2781832649374
         ],
         "y": [
          18.251823105043343
         ]
        },
        {
         "line": {
          "dash": "solid",
          "width": 2
         },
         "marker": {
          "color": "violet",
          "opacity": 0.8,
          "size": 10
         },
         "mode": "markers",
         "name": " ",
         "opacity": 0.8,
         "showlegend": false,
         "type": "scatter",
         "x": [
          -557.729332127927
         ],
         "y": [
          -216.90364126068314
         ]
        },
        {
         "line": {
          "dash": "solid",
          "width": 2
         },
         "marker": {
          "color": "violet",
          "opacity": 0.8,
          "size": 10
         },
         "mode": "markers",
         "name": " ",
         "opacity": 0.8,
         "showlegend": false,
         "type": "scatter",
         "x": [
          -382.61576476463824
         ],
         "y": [
          -96.55899817178394
         ]
        },
        {
         "line": {
          "dash": "solid",
          "width": 2
         },
         "marker": {
          "color": "violet",
          "opacity": 0.8,
          "size": 10
         },
         "mode": "markers",
         "name": " ",
         "opacity": 0.8,
         "showlegend": false,
         "type": "scatter",
         "x": [
          -514.455467834237
         ],
         "y": [
          -204.06681504290992
         ]
        },
        {
         "line": {
          "dash": "solid",
          "width": 2
         },
         "marker": {
          "color": "violet",
          "opacity": 0.8,
          "size": 10
         },
         "mode": "markers",
         "name": "Onset Time",
         "opacity": 0.8,
         "showlegend": true,
         "type": "scatter",
         "x": [
          null
         ],
         "y": [
          null
         ]
        },
        {
         "line": {
          "dash": "solid",
          "width": 2
         },
         "marker": {
          "color": "black",
          "opacity": 0.8,
          "size": 8
         },
         "mode": "markers",
         "name": "100ms spacing",
         "opacity": 0.8,
         "showlegend": true,
         "type": "scatter",
         "x": [
          null
         ],
         "y": [
          null
         ]
        }
       ],
       "layout": {
        "height": 1200,
        "scene": {
         "xaxis": {
          "title": {
           "text": "PC1"
          }
         },
         "yaxis": {
          "title": {
           "text": "PC2"
          }
         },
         "zaxis": {
          "title": {
           "text": "PC3"
          }
         }
        },
        "template": {
         "data": {
          "bar": [
           {
            "error_x": {
             "color": "#2a3f5f"
            },
            "error_y": {
             "color": "#2a3f5f"
            },
            "marker": {
             "line": {
              "color": "#E5ECF6",
              "width": 0.5
             },
             "pattern": {
              "fillmode": "overlay",
              "size": 10,
              "solidity": 0.2
             }
            },
            "type": "bar"
           }
          ],
          "barpolar": [
           {
            "marker": {
             "line": {
              "color": "#E5ECF6",
              "width": 0.5
             },
             "pattern": {
              "fillmode": "overlay",
              "size": 10,
              "solidity": 0.2
             }
            },
            "type": "barpolar"
           }
          ],
          "carpet": [
           {
            "aaxis": {
             "endlinecolor": "#2a3f5f",
             "gridcolor": "white",
             "linecolor": "white",
             "minorgridcolor": "white",
             "startlinecolor": "#2a3f5f"
            },
            "baxis": {
             "endlinecolor": "#2a3f5f",
             "gridcolor": "white",
             "linecolor": "white",
             "minorgridcolor": "white",
             "startlinecolor": "#2a3f5f"
            },
            "type": "carpet"
           }
          ],
          "choropleth": [
           {
            "colorbar": {
             "outlinewidth": 0,
             "ticks": ""
            },
            "type": "choropleth"
           }
          ],
          "contour": [
           {
            "colorbar": {
             "outlinewidth": 0,
             "ticks": ""
            },
            "colorscale": [
             [
              0,
              "#0d0887"
             ],
             [
              0.1111111111111111,
              "#46039f"
             ],
             [
              0.2222222222222222,
              "#7201a8"
             ],
             [
              0.3333333333333333,
              "#9c179e"
             ],
             [
              0.4444444444444444,
              "#bd3786"
             ],
             [
              0.5555555555555556,
              "#d8576b"
             ],
             [
              0.6666666666666666,
              "#ed7953"
             ],
             [
              0.7777777777777778,
              "#fb9f3a"
             ],
             [
              0.8888888888888888,
              "#fdca26"
             ],
             [
              1,
              "#f0f921"
             ]
            ],
            "type": "contour"
           }
          ],
          "contourcarpet": [
           {
            "colorbar": {
             "outlinewidth": 0,
             "ticks": ""
            },
            "type": "contourcarpet"
           }
          ],
          "heatmap": [
           {
            "colorbar": {
             "outlinewidth": 0,
             "ticks": ""
            },
            "colorscale": [
             [
              0,
              "#0d0887"
             ],
             [
              0.1111111111111111,
              "#46039f"
             ],
             [
              0.2222222222222222,
              "#7201a8"
             ],
             [
              0.3333333333333333,
              "#9c179e"
             ],
             [
              0.4444444444444444,
              "#bd3786"
             ],
             [
              0.5555555555555556,
              "#d8576b"
             ],
             [
              0.6666666666666666,
              "#ed7953"
             ],
             [
              0.7777777777777778,
              "#fb9f3a"
             ],
             [
              0.8888888888888888,
              "#fdca26"
             ],
             [
              1,
              "#f0f921"
             ]
            ],
            "type": "heatmap"
           }
          ],
          "histogram": [
           {
            "marker": {
             "pattern": {
              "fillmode": "overlay",
              "size": 10,
              "solidity": 0.2
             }
            },
            "type": "histogram"
           }
          ],
          "histogram2d": [
           {
            "colorbar": {
             "outlinewidth": 0,
             "ticks": ""
            },
            "colorscale": [
             [
              0,
              "#0d0887"
             ],
             [
              0.1111111111111111,
              "#46039f"
             ],
             [
              0.2222222222222222,
              "#7201a8"
             ],
             [
              0.3333333333333333,
              "#9c179e"
             ],
             [
              0.4444444444444444,
              "#bd3786"
             ],
             [
              0.5555555555555556,
              "#d8576b"
             ],
             [
              0.6666666666666666,
              "#ed7953"
             ],
             [
              0.7777777777777778,
              "#fb9f3a"
             ],
             [
              0.8888888888888888,
              "#fdca26"
             ],
             [
              1,
              "#f0f921"
             ]
            ],
            "type": "histogram2d"
           }
          ],
          "histogram2dcontour": [
           {
            "colorbar": {
             "outlinewidth": 0,
             "ticks": ""
            },
            "colorscale": [
             [
              0,
              "#0d0887"
             ],
             [
              0.1111111111111111,
              "#46039f"
             ],
             [
              0.2222222222222222,
              "#7201a8"
             ],
             [
              0.3333333333333333,
              "#9c179e"
             ],
             [
              0.4444444444444444,
              "#bd3786"
             ],
             [
              0.5555555555555556,
              "#d8576b"
             ],
             [
              0.6666666666666666,
              "#ed7953"
             ],
             [
              0.7777777777777778,
              "#fb9f3a"
             ],
             [
              0.8888888888888888,
              "#fdca26"
             ],
             [
              1,
              "#f0f921"
             ]
            ],
            "type": "histogram2dcontour"
           }
          ],
          "mesh3d": [
           {
            "colorbar": {
             "outlinewidth": 0,
             "ticks": ""
            },
            "type": "mesh3d"
           }
          ],
          "parcoords": [
           {
            "line": {
             "colorbar": {
              "outlinewidth": 0,
              "ticks": ""
             }
            },
            "type": "parcoords"
           }
          ],
          "pie": [
           {
            "automargin": true,
            "type": "pie"
           }
          ],
          "scatter": [
           {
            "fillpattern": {
             "fillmode": "overlay",
             "size": 10,
             "solidity": 0.2
            },
            "type": "scatter"
           }
          ],
          "scatter3d": [
           {
            "line": {
             "colorbar": {
              "outlinewidth": 0,
              "ticks": ""
             }
            },
            "marker": {
             "colorbar": {
              "outlinewidth": 0,
              "ticks": ""
             }
            },
            "type": "scatter3d"
           }
          ],
          "scattercarpet": [
           {
            "marker": {
             "colorbar": {
              "outlinewidth": 0,
              "ticks": ""
             }
            },
            "type": "scattercarpet"
           }
          ],
          "scattergeo": [
           {
            "marker": {
             "colorbar": {
              "outlinewidth": 0,
              "ticks": ""
             }
            },
            "type": "scattergeo"
           }
          ],
          "scattergl": [
           {
            "marker": {
             "colorbar": {
              "outlinewidth": 0,
              "ticks": ""
             }
            },
            "type": "scattergl"
           }
          ],
          "scattermap": [
           {
            "marker": {
             "colorbar": {
              "outlinewidth": 0,
              "ticks": ""
             }
            },
            "type": "scattermap"
           }
          ],
          "scattermapbox": [
           {
            "marker": {
             "colorbar": {
              "outlinewidth": 0,
              "ticks": ""
             }
            },
            "type": "scattermapbox"
           }
          ],
          "scatterpolar": [
           {
            "marker": {
             "colorbar": {
              "outlinewidth": 0,
              "ticks": ""
             }
            },
            "type": "scatterpolar"
           }
          ],
          "scatterpolargl": [
           {
            "marker": {
             "colorbar": {
              "outlinewidth": 0,
              "ticks": ""
             }
            },
            "type": "scatterpolargl"
           }
          ],
          "scatterternary": [
           {
            "marker": {
             "colorbar": {
              "outlinewidth": 0,
              "ticks": ""
             }
            },
            "type": "scatterternary"
           }
          ],
          "surface": [
           {
            "colorbar": {
             "outlinewidth": 0,
             "ticks": ""
            },
            "colorscale": [
             [
              0,
              "#0d0887"
             ],
             [
              0.1111111111111111,
              "#46039f"
             ],
             [
              0.2222222222222222,
              "#7201a8"
             ],
             [
              0.3333333333333333,
              "#9c179e"
             ],
             [
              0.4444444444444444,
              "#bd3786"
             ],
             [
              0.5555555555555556,
              "#d8576b"
             ],
             [
              0.6666666666666666,
              "#ed7953"
             ],
             [
              0.7777777777777778,
              "#fb9f3a"
             ],
             [
              0.8888888888888888,
              "#fdca26"
             ],
             [
              1,
              "#f0f921"
             ]
            ],
            "type": "surface"
           }
          ],
          "table": [
           {
            "cells": {
             "fill": {
              "color": "#EBF0F8"
             },
             "line": {
              "color": "white"
             }
            },
            "header": {
             "fill": {
              "color": "#C8D4E3"
             },
             "line": {
              "color": "white"
             }
            },
            "type": "table"
           }
          ]
         },
         "layout": {
          "annotationdefaults": {
           "arrowcolor": "#2a3f5f",
           "arrowhead": 0,
           "arrowwidth": 1
          },
          "autotypenumbers": "strict",
          "coloraxis": {
           "colorbar": {
            "outlinewidth": 0,
            "ticks": ""
           }
          },
          "colorscale": {
           "diverging": [
            [
             0,
             "#8e0152"
            ],
            [
             0.1,
             "#c51b7d"
            ],
            [
             0.2,
             "#de77ae"
            ],
            [
             0.3,
             "#f1b6da"
            ],
            [
             0.4,
             "#fde0ef"
            ],
            [
             0.5,
             "#f7f7f7"
            ],
            [
             0.6,
             "#e6f5d0"
            ],
            [
             0.7,
             "#b8e186"
            ],
            [
             0.8,
             "#7fbc41"
            ],
            [
             0.9,
             "#4d9221"
            ],
            [
             1,
             "#276419"
            ]
           ],
           "sequential": [
            [
             0,
             "#0d0887"
            ],
            [
             0.1111111111111111,
             "#46039f"
            ],
            [
             0.2222222222222222,
             "#7201a8"
            ],
            [
             0.3333333333333333,
             "#9c179e"
            ],
            [
             0.4444444444444444,
             "#bd3786"
            ],
            [
             0.5555555555555556,
             "#d8576b"
            ],
            [
             0.6666666666666666,
             "#ed7953"
            ],
            [
             0.7777777777777778,
             "#fb9f3a"
            ],
            [
             0.8888888888888888,
             "#fdca26"
            ],
            [
             1,
             "#f0f921"
            ]
           ],
           "sequentialminus": [
            [
             0,
             "#0d0887"
            ],
            [
             0.1111111111111111,
             "#46039f"
            ],
            [
             0.2222222222222222,
             "#7201a8"
            ],
            [
             0.3333333333333333,
             "#9c179e"
            ],
            [
             0.4444444444444444,
             "#bd3786"
            ],
            [
             0.5555555555555556,
             "#d8576b"
            ],
            [
             0.6666666666666666,
             "#ed7953"
            ],
            [
             0.7777777777777778,
             "#fb9f3a"
            ],
            [
             0.8888888888888888,
             "#fdca26"
            ],
            [
             1,
             "#f0f921"
            ]
           ]
          },
          "colorway": [
           "#636efa",
           "#EF553B",
           "#00cc96",
           "#ab63fa",
           "#FFA15A",
           "#19d3f3",
           "#FF6692",
           "#B6E880",
           "#FF97FF",
           "#FECB52"
          ],
          "font": {
           "color": "#2a3f5f"
          },
          "geo": {
           "bgcolor": "white",
           "lakecolor": "white",
           "landcolor": "#E5ECF6",
           "showlakes": true,
           "showland": true,
           "subunitcolor": "white"
          },
          "hoverlabel": {
           "align": "left"
          },
          "hovermode": "closest",
          "mapbox": {
           "style": "light"
          },
          "paper_bgcolor": "white",
          "plot_bgcolor": "#E5ECF6",
          "polar": {
           "angularaxis": {
            "gridcolor": "white",
            "linecolor": "white",
            "ticks": ""
           },
           "bgcolor": "#E5ECF6",
           "radialaxis": {
            "gridcolor": "white",
            "linecolor": "white",
            "ticks": ""
           }
          },
          "scene": {
           "xaxis": {
            "backgroundcolor": "#E5ECF6",
            "gridcolor": "white",
            "gridwidth": 2,
            "linecolor": "white",
            "showbackground": true,
            "ticks": "",
            "zerolinecolor": "white"
           },
           "yaxis": {
            "backgroundcolor": "#E5ECF6",
            "gridcolor": "white",
            "gridwidth": 2,
            "linecolor": "white",
            "showbackground": true,
            "ticks": "",
            "zerolinecolor": "white"
           },
           "zaxis": {
            "backgroundcolor": "#E5ECF6",
            "gridcolor": "white",
            "gridwidth": 2,
            "linecolor": "white",
            "showbackground": true,
            "ticks": "",
            "zerolinecolor": "white"
           }
          },
          "shapedefaults": {
           "line": {
            "color": "#2a3f5f"
           }
          },
          "ternary": {
           "aaxis": {
            "gridcolor": "white",
            "linecolor": "white",
            "ticks": ""
           },
           "baxis": {
            "gridcolor": "white",
            "linecolor": "white",
            "ticks": ""
           },
           "bgcolor": "#E5ECF6",
           "caxis": {
            "gridcolor": "white",
            "linecolor": "white",
            "ticks": ""
           }
          },
          "title": {
           "x": 0.05
          },
          "xaxis": {
           "automargin": true,
           "gridcolor": "white",
           "linecolor": "white",
           "ticks": "",
           "title": {
            "standoff": 15
           },
           "zerolinecolor": "white",
           "zerolinewidth": 2
          },
          "yaxis": {
           "automargin": true,
           "gridcolor": "white",
           "linecolor": "white",
           "ticks": "",
           "title": {
            "standoff": 15
           },
           "zerolinecolor": "white",
           "zerolinewidth": 2
          }
         }
        },
        "title": {
         "text": "Interactive 3D PCA Projection"
        },
        "width": 1600
       }
      }
     },
     "metadata": {},
     "output_type": "display_data"
    }
   ],
   "source": [
    "alignment = \"stimulus_onset\"\n",
    "state_values = [\"biased_state\",\"unbiased_state\"]  # States\n",
    "\n",
    "# Define colors for each coherence level\n",
    "alignment_dict = ephys_config[\"alignment_settings_GP\"][alignment]\n",
    "conditions = [\n",
    "        \"coh_0_choice_toRF_corr\",\n",
    "        # \"coh_6_choice_toRF_corr\",\n",
    "        # \"coh_20_choice_toRF_corr\",\n",
    "        \"coh_50_choice_toRF_corr\",\n",
    "        # \"coh_0_choice_awayRF_corr\",\n",
    "        # \"coh_6_choice_awayRF_corr\",\n",
    "        # \"coh_20_choice_awayRF_corr\",\n",
    "        # \"coh_50_choice_awayRF_corr\"\n",
    "        ]\n",
    "\n",
    "if alignment == \"response_onset\":\n",
    "    timepoints_list = np.arange(0, alignment_dict[\"end_time_ms\"] - alignment_dict[\"start_time_ms\"] + 1, 50)\n",
    "else:\n",
    "    timepoints_list=np.arange(0, alignment_dict[\"end_time_ms\"] - alignment_dict[\"start_time_ms\"] + 1, 100)\n",
    "\n",
    "# Create a figure\n",
    "fig = go.Figure()\n",
    "plot_pca_projection_and_sem(fig, conditions, state_values,\n",
    "                    pc_projection_biased_state_toRF_prior[\"mean\"][alignment], pc_projection_unbiased_state_toRF_prior[\"mean\"][alignment], pc_projection_biased_state_toRF_prior[\"bootstrap_sem\"][alignment], pc_projection_unbiased_state_toRF_prior[\"bootstrap_sem\"][alignment],\n",
    "                    timepoints_list=timepoints_list, onset_time = - alignment_dict[\"start_time_ms\"], axes=(1,2))\n",
    "# Set plot labels\n",
    "fig.update_layout(\n",
    "    width = 1600,\n",
    "    height= 1200,\n",
    "    scene=dict(\n",
    "        xaxis_title=\"PC1\",\n",
    "        yaxis_title=\"PC2\",\n",
    "        zaxis_title=\"PC3\"\n",
    "    ),\n",
    "    title=\"Interactive 3D PCA Projection\"\n",
    ")\n",
    "\n",
    "fig.show()\n"
   ]
  }
 ],
 "metadata": {
  "kernelspec": {
   "display_name": "prior-sc",
   "language": "python",
   "name": "python3"
  },
  "language_info": {
   "codemirror_mode": {
    "name": "ipython",
    "version": 3
   },
   "file_extension": ".py",
   "mimetype": "text/x-python",
   "name": "python",
   "nbconvert_exporter": "python",
   "pygments_lexer": "ipython3",
   "version": "3.11.9"
  }
 },
 "nbformat": 4,
 "nbformat_minor": 2
}
