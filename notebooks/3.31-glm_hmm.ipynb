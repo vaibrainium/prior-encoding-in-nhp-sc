{
 "cells": [
  {
   "cell_type": "code",
   "execution_count": 125,
   "metadata": {},
   "outputs": [],
   "source": [
    "import numpy as np\n",
    "import numpy.random as npr\n",
    "import pandas as pd\n",
    "import matplotlib.pyplot as plt\n",
    "import ssm\n",
    "from sklearn import preprocessing\n",
    "from sklearn.model_selection import KFold\n",
    "from scipy import stats\n",
    "\n",
    "from notebooks.imports import *\n",
    "from config import dir_config, main_config\n",
    "from src.utils.glm_hmm_utils import *\n",
    "\n"
   ]
  },
  {
   "cell_type": "code",
   "execution_count": 127,
   "metadata": {},
   "outputs": [],
   "source": [
    "compiled_dir = Path(dir_config.data.compiled)\n",
    "processed_dir = Path(dir_config.data.processed)"
   ]
  },
  {
   "cell_type": "markdown",
   "metadata": {},
   "source": [
    "#### utils"
   ]
  },
  {
   "cell_type": "code",
   "execution_count": 128,
   "metadata": {},
   "outputs": [],
   "source": [
    "def extract_previous_data(trial_data):\n",
    "    # npr.seed()\n",
    "    prev_choice = np.hstack([trial_data.choice[0] , trial_data.choice[:-1]])  # 0:awayRF, 1:toRF of previous valid trial\n",
    "    prev_target = np.hstack([trial_data.target[0] , trial_data.target[:-1]]) * 2 - 1 # -1:awayRF, 1:toRF of previous valid trial \n",
    "    prev_outcome = np.hstack([trial_data.outcome[0] , trial_data.outcome[:-1]])\n",
    "    prev_valid_idx = np.where(prev_outcome >= 0)[0]\n",
    "    prev_invalid_idx = np.where(prev_outcome == -1)[0]\n",
    "\n",
    "    for i in prev_invalid_idx:\n",
    "        if i < prev_valid_idx[0]: #randomly sample if no previous valid trials\n",
    "            prev_choice[i] = np.random.binomial(1,0.5)\n",
    "            prev_target[i] = np.random.binomial(1,0.5) * 2 - 1\n",
    "        else:\n",
    "            last_valid =  np.where(prev_valid_idx<i)[0][-1]\n",
    "            prev_choice[i] = prev_choice[prev_valid_idx[last_valid]]\n",
    "            prev_target[i] = prev_target[prev_valid_idx[last_valid]]\n",
    "    return prev_choice,prev_target\n",
    "\n",
    "\n"
   ]
  },
  {
   "cell_type": "markdown",
   "metadata": {},
   "source": [
    "#### create design matrix (input, output, mask)"
   ]
  },
  {
   "cell_type": "code",
   "execution_count": 129,
   "metadata": {},
   "outputs": [],
   "source": [
    "n_states = 2       # number of discrete states\n",
    "obs_dim = 1           # number of observed dimensions: choice(toRF/awayRF)\n",
    "num_categories = 2    # number of categories for output\n",
    "input_dim = 4        # input dimensions: current signed coherence, 1(bias), previous choice(toRF/awayRF), previous target side(toRF/awayRF)\n"
   ]
  },
  {
   "cell_type": "code",
   "execution_count": 130,
   "metadata": {},
   "outputs": [],
   "source": [
    "session_metadata = pd.read_csv(Path(compiled_dir, \"sessions_metadata.csv\"), index_col=None)\n",
    "inputs_session_wise = []\n",
    "choices_session_wise = []\n",
    "invalid_idx_session_wise = []\n",
    "masks_session_wise = []\n",
    "\n",
    "for session_id in (session_metadata['session_id']):\n",
    "\n",
    "    trial_data = pd.read_csv(Path(compiled_dir, session_id,f\"{session_id}_trial.csv\"), index_col=None).fillna(-1)\n",
    "    GP_trial_data = trial_data[trial_data.task_type == 1] #  all GP trials\n",
    "    # GP_trial_data = trial_data[(trial_data.task_type == 1) & (trial_data.outcome>=0)] #  valid GP trial\n",
    "    GP_trial_data = GP_trial_data.reset_index()\n",
    "    num_trials_per_sess = GP_trial_data.shape[0] # number of trials in a session\n",
    "    inpts = np.ones((1, num_trials_per_sess, input_dim)) # initialize inpts array\n",
    "\n",
    "    current_stimulus = GP_trial_data.coherence * (2*GP_trial_data.target-1)\n",
    "    inpts[0,:,0] = current_stimulus / 100\n",
    "    inpts[0,:,0] = preprocessing.scale(inpts[0,:,0]) # normalize stim values\n",
    "\n",
    "    prev_choice,prev_target = extract_previous_data(GP_trial_data)\n",
    "    inpts[0,:,2] = prev_choice * 2- 1 # -1:awayRF, 1:toRF of previous valid trial\n",
    "    inpts[0,:,3] = prev_target # -1:awayRF, 1:toRF of previous valid trial\n",
    "\n",
    "    # inpts[0,:,2] = np.hstack([GP_trial_data.choice.iloc[0] , GP_trial_data.choice.iloc[:-1]]) *2-1 # -1:awayRF, 1:toRF choice of previous valid trial\n",
    "    # inpts[0,:,3] = np.hstack([GP_trial_data.target.iloc[0] , GP_trial_data.target.iloc[:-1]]) *2-1 # -1:awayRF, 1:toRF stim values of previous valid trial\n",
    "\n",
    "    inpts = list(inpts) #convert inpts to correct format\n",
    "    inputs_session_wise = inputs_session_wise + inpts\n",
    "\n",
    "    choices = GP_trial_data.choice.values\n",
    "    choices = choices.reshape(-1,1).astype('int')\n",
    "\n",
    "    masks = np.array(choices >= 0)\n",
    "    masks_session_wise.append(masks)\n",
    "    invalid_idx = np.where(choices == -1)[0].reshape(-1,1)\n",
    "    invalid_idx_session_wise.append(invalid_idx)\n",
    "\n",
    "    # for training, replace -1 with random sample from 0,1\n",
    "    choices[choices == -1] = npr.choice(1,invalid_idx.shape[0])\n",
    "    choices_session_wise.append(choices)\n",
    "\n",
    "inputs_aggregated = []\n",
    "inputs_aggregated.append(np.vstack(inputs_session_wise))\n",
    "choices_aggregated = []\n",
    "choices_aggregated.append(np.vstack(choices_session_wise))\n",
    "masks_aggregated = []\n",
    "masks_aggregated.append(np.vstack(masks_session_wise))\n"
   ]
  },
  {
   "cell_type": "code",
   "execution_count": 131,
   "metadata": {},
   "outputs": [],
   "source": [
    "import pickle\n",
    "with open(Path(processed_dir, \"inputs_aggregated.pickle\"), 'wb') as handle:\n",
    "    pickle.dump(inputs_aggregated, handle, protocol=pickle.HIGHEST_PROTOCOL)"
   ]
  },
  {
   "cell_type": "code",
   "execution_count": 132,
   "metadata": {},
   "outputs": [],
   "source": [
    "# # read pickle to list\n",
    "# import pickle\n",
    "# with open(Path(processed_dir, \"inputs_aggregated.pickle\"), 'rb') as handle:\n",
    "#     inpts_aggregated = pickle.load(handle)"
   ]
  },
  {
   "cell_type": "code",
   "execution_count": null,
   "metadata": {},
   "outputs": [
    {
     "name": "stdout",
     "output_type": "stream",
     "text": [
      "fitting GLM globally.....\n"
     ]
    },
    {
     "data": {
      "application/vnd.jupyter.widget-view+json": {
       "model_id": "e6d5187b70bb417ba57ddbe923d014fd",
       "version_major": 2,
       "version_minor": 0
      },
      "text/plain": [
       "  0%|          | 0/1000 [00:00<?, ?it/s]"
      ]
     },
     "metadata": {},
     "output_type": "display_data"
    },
    {
     "name": "stdout",
     "output_type": "stream",
     "text": [
      "fitting GLM-HMM globally.....\n",
      "fitting 2 states.....\n",
      "Initialization   1\n"
     ]
    },
    {
     "data": {
      "application/vnd.jupyter.widget-view+json": {
       "model_id": "eea2a0b8823c456084b44380a112f14e",
       "version_major": 2,
       "version_minor": 0
      },
      "text/plain": [
       "  0%|          | 0/1000 [00:00<?, ?it/s]"
      ]
     },
     "metadata": {},
     "output_type": "display_data"
    }
   ],
   "source": [
    "# fit global data with 20 initialization\n",
    "models_glm_hmm, fit_lls_glm_hmm = global_fit(choices_aggregated, inputs_aggregated, masks_aggregated, n_iters= 1000, n_initializations=20)\n",
    "\n",
    "# get best model of 20 initializations for each state\n",
    "init_params = {\n",
    "    'glm_weights': {},\n",
    "    'transition_matrix': {}\n",
    "}\n",
    "for n_states in np.arange(2,6):\n",
    "    best_idx = np.argmax(fit_lls_glm_hmm[n_states])\n",
    "    init_params['glm_weights'][n_states] = models_glm_hmm[n_states][best_idx].observations.params\n",
    "    init_params['tranition_matrices'][n_states] = models_glm_hmm[n_states][best_idx].transitions.params\n",
    "\n",
    "# session-wise fitting with 5 fold cross-validation\n",
    "models_session_state_fold, train_ll_session, test_ll_session = session_wise_fit_cv(choices_session_wise, inputs_session_wise, masks_session_wise,\n",
    "                                                                                    len((session_metadata['session_id'])), init_params, n_iters= 1000)"
   ]
  }
 ],
 "metadata": {
  "kernelspec": {
   "display_name": "prior-sc",
   "language": "python",
   "name": "python3"
  },
  "language_info": {
   "codemirror_mode": {
    "name": "ipython",
    "version": 3
   },
   "file_extension": ".py",
   "mimetype": "text/x-python",
   "name": "python",
   "nbconvert_exporter": "python",
   "pygments_lexer": "ipython3",
   "version": "3.11.9"
  }
 },
 "nbformat": 4,
 "nbformat_minor": 2
}
