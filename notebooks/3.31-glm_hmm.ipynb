{
 "cells": [
  {
   "cell_type": "code",
   "execution_count": 17,
   "metadata": {},
   "outputs": [],
   "source": [
    "import numpy as np\n",
    "import numpy.random as npr\n",
    "import pandas as pd\n",
    "import matplotlib.pyplot as plt\n",
    "import ssm\n",
    "from sklearn import preprocessing\n",
    "from sklearn.model_selection import KFold\n",
    "from scipy import stats\n",
    "\n",
    "from notebooks.imports import *\n",
    "from config import dir_config, main_config\n",
    "from src.utils.glm_hmm_utils import *\n",
    "\n"
   ]
  },
  {
   "cell_type": "code",
   "execution_count": 18,
   "metadata": {},
   "outputs": [],
   "source": [
    "compiled_dir = Path(dir_config.data.compiled)\n",
    "processed_dir = Path(dir_config.data.processed)"
   ]
  },
  {
   "cell_type": "markdown",
   "metadata": {},
   "source": [
    "#### utils"
   ]
  },
  {
   "cell_type": "code",
   "execution_count": 19,
   "metadata": {},
   "outputs": [],
   "source": [
    "def extract_previous_data(trial_data):\n",
    "    # npr.seed()\n",
    "    prev_choice = np.hstack([trial_data.choice[0] , trial_data.choice[:-1]])  # 0:awayRF, 1:toRF of previous valid trial\n",
    "    prev_target = np.hstack([trial_data.target[0] , trial_data.target[:-1]]) * 2 - 1 # -1:awayRF, 1:toRF of previous valid trial \n",
    "    prev_outcome = np.hstack([trial_data.outcome[0] , trial_data.outcome[:-1]])\n",
    "    prev_valid_idx = np.where(prev_outcome >= 0)[0]\n",
    "    prev_invalid_idx = np.where(prev_outcome == -1)[0]\n",
    "\n",
    "    for i in prev_invalid_idx:\n",
    "        if i < prev_valid_idx[0]: #randomly sample if no previous valid trials\n",
    "            prev_choice[i] = np.random.binomial(1,0.5)\n",
    "            prev_target[i] = np.random.binomial(1,0.5) * 2 - 1\n",
    "        else:\n",
    "            last_valid =  np.where(prev_valid_idx<i)[0][-1]\n",
    "            prev_choice[i] = prev_choice[prev_valid_idx[last_valid]]\n",
    "            prev_target[i] = prev_target[prev_valid_idx[last_valid]]\n",
    "    return prev_choice,prev_target\n",
    "\n",
    "\n"
   ]
  },
  {
   "cell_type": "markdown",
   "metadata": {},
   "source": [
    "#### create design matrix (input, output, mask)"
   ]
  },
  {
   "cell_type": "code",
   "execution_count": 20,
   "metadata": {},
   "outputs": [],
   "source": [
    "n_states = 2       # number of discrete states\n",
    "obs_dim = 1           # number of observed dimensions: choice(toRF/awayRF)\n",
    "num_categories = 2    # number of categories for output\n",
    "input_dim = 4        # input dimensions: current signed coherence, 1(bias), previous choice(toRF/awayRF), previous target side(toRF/awayRF)\n"
   ]
  },
  {
   "cell_type": "code",
   "execution_count": 25,
   "metadata": {},
   "outputs": [],
   "source": [
    "session_metadata = pd.read_csv(Path(compiled_dir, \"sessions_metadata.csv\"), index_col=None)\n",
    "inputs_session_wise = []\n",
    "choices_session_wise = []\n",
    "invalid_idx_session_wise = []\n",
    "masks_session_wise = []\n",
    "\n",
    "for session_id in (session_metadata['session_id']):\n",
    "\n",
    "    trial_data = pd.read_csv(Path(compiled_dir, session_id,f\"{session_id}_trial.csv\"), index_col=None).fillna(-1)\n",
    "    GP_trial_data = trial_data[trial_data.task_type == 1] #  all GP trials\n",
    "    # GP_trial_data = trial_data[(trial_data.task_type == 1) & (trial_data.outcome>=0)] #  valid GP trial\n",
    "    GP_trial_data = GP_trial_data.reset_index()\n",
    "    num_trials_per_sess = GP_trial_data.shape[0] # number of trials in a session\n",
    "    inpts = np.ones((1, num_trials_per_sess, input_dim)) # initialize inpts array\n",
    "\n",
    "    current_stimulus = GP_trial_data.coherence * (2*GP_trial_data.target-1)\n",
    "    inpts[0,:,0] = current_stimulus / 100\n",
    "    # inpts[0,:,0] = preprocessing.scale(inpts[0,:,0]) # normalize stim values\n",
    "\n",
    "    prev_choice,prev_target = extract_previous_data(GP_trial_data)\n",
    "    inpts[0,:,2] = prev_choice * 2- 1 # -1:awayRF, 1:toRF of previous valid trial\n",
    "    inpts[0,:,3] = prev_target # -1:awayRF, 1:toRF of previous valid trial\n",
    "\n",
    "    # inpts[0,:,2] = np.hstack([GP_trial_data.choice.iloc[0] , GP_trial_data.choice.iloc[:-1]]) *2-1 # -1:awayRF, 1:toRF choice of previous valid trial\n",
    "    # inpts[0,:,3] = np.hstack([GP_trial_data.target.iloc[0] , GP_trial_data.target.iloc[:-1]]) *2-1 # -1:awayRF, 1:toRF stim values of previous valid trial\n",
    "\n",
    "    inpts = list(inpts) #convert inpts to correct format\n",
    "    inputs_session_wise = inputs_session_wise + inpts\n",
    "\n",
    "    choices = GP_trial_data.choice.values\n",
    "    choices = choices.reshape(-1,1).astype('int')\n",
    "\n",
    "    masks = np.array(choices >= 0)\n",
    "    masks_session_wise.append(masks)\n",
    "    invalid_idx = np.where(choices == -1)[0].reshape(-1,1)\n",
    "    invalid_idx_session_wise.append(invalid_idx)\n",
    "\n",
    "    # for training, replace -1 with random sample from 0,1\n",
    "    choices[choices == -1] = npr.choice(1,invalid_idx.shape[0])\n",
    "    choices_session_wise.append(choices)\n",
    "\n",
    "inputs_aggregated = []\n",
    "inputs_aggregated.append(np.vstack(inputs_session_wise))\n",
    "choices_aggregated = []\n",
    "choices_aggregated.append(np.vstack(choices_session_wise))\n",
    "masks_aggregated = []\n",
    "masks_aggregated.append(np.vstack(masks_session_wise))\n"
   ]
  },
  {
   "cell_type": "code",
   "execution_count": 22,
   "metadata": {},
   "outputs": [],
   "source": [
    "import pickle\n",
    "with open(Path(processed_dir, \"inputs_aggregated.pickle\"), 'wb') as handle:\n",
    "    pickle.dump(inputs_aggregated, handle, protocol=pickle.HIGHEST_PROTOCOL)"
   ]
  },
  {
   "cell_type": "code",
   "execution_count": 23,
   "metadata": {},
   "outputs": [],
   "source": [
    "# # read pickle to list\n",
    "# import pickle\n",
    "# with open(Path(processed_dir, \"inputs_aggregated.pickle\"), 'rb') as handle:\n",
    "#     inpts_aggregated = pickle.load(handle)"
   ]
  },
  {
   "cell_type": "code",
   "execution_count": 28,
   "metadata": {},
   "outputs": [
    {
     "name": "stdout",
     "output_type": "stream",
     "text": [
      "fitting GLM globally.....\n"
     ]
    },
    {
     "data": {
      "application/vnd.jupyter.widget-view+json": {
       "model_id": "4f4d45f69aec4f4fa0fd54710c689125",
       "version_major": 2,
       "version_minor": 0
      },
      "text/plain": [
       "  0%|          | 0/1000 [00:00<?, ?it/s]"
      ]
     },
     "metadata": {},
     "output_type": "display_data"
    },
    {
     "name": "stdout",
     "output_type": "stream",
     "text": [
      "fitting GLM-HMM globally.....\n",
      "fitting 2 states.....\n",
      "Initialization   1\n"
     ]
    },
    {
     "data": {
      "application/vnd.jupyter.widget-view+json": {
       "model_id": "c052faa6f85e45aa92e956a6b1e4330f",
       "version_major": 2,
       "version_minor": 0
      },
      "text/plain": [
       "  0%|          | 0/1000 [00:00<?, ?it/s]"
      ]
     },
     "metadata": {},
     "output_type": "display_data"
    },
    {
     "ename": "KeyboardInterrupt",
     "evalue": "",
     "output_type": "error",
     "traceback": [
      "\u001b[1;31m---------------------------------------------------------------------------\u001b[0m",
      "\u001b[1;31mKeyboardInterrupt\u001b[0m                         Traceback (most recent call last)",
      "Cell \u001b[1;32mIn[28], line 3\u001b[0m\n\u001b[0;32m      1\u001b[0m \u001b[38;5;66;03m# fit global data with 20 initialization\u001b[39;00m\n\u001b[0;32m      2\u001b[0m inputs_aggregated[\u001b[38;5;241m0\u001b[39m][:,\u001b[38;5;241m0\u001b[39m] \u001b[38;5;241m=\u001b[39m preprocessing\u001b[38;5;241m.\u001b[39mscale(inputs_aggregated[\u001b[38;5;241m0\u001b[39m][:,\u001b[38;5;241m0\u001b[39m],axis\u001b[38;5;241m=\u001b[39m\u001b[38;5;241m0\u001b[39m)\n\u001b[1;32m----> 3\u001b[0m models_glm_hmm, fit_lls_glm_hmm \u001b[38;5;241m=\u001b[39m \u001b[43mglobal_fit\u001b[49m\u001b[43m(\u001b[49m\u001b[43mchoices_aggregated\u001b[49m\u001b[43m,\u001b[49m\u001b[43m \u001b[49m\u001b[43minputs_aggregated\u001b[49m\u001b[43m,\u001b[49m\u001b[43m \u001b[49m\u001b[43mmasks_aggregated\u001b[49m\u001b[43m,\u001b[49m\u001b[43m \u001b[49m\u001b[43mstate_range\u001b[49m\u001b[38;5;241;43m=\u001b[39;49m\u001b[43m[\u001b[49m\u001b[38;5;241;43m2\u001b[39;49m\u001b[43m]\u001b[49m\u001b[43m,\u001b[49m\u001b[43mn_iters\u001b[49m\u001b[38;5;241;43m=\u001b[39;49m\u001b[43m \u001b[49m\u001b[38;5;241;43m1000\u001b[39;49m\u001b[43m,\u001b[49m\u001b[43m \u001b[49m\u001b[43mn_initializations\u001b[49m\u001b[38;5;241;43m=\u001b[39;49m\u001b[38;5;241;43m20\u001b[39;49m\u001b[43m)\u001b[49m\n",
      "File \u001b[1;32md:\\prior-ephys-dm\\prior-encoding-in-nhp-sc\\src\\utils\\glm_hmm_utils.py:74\u001b[0m, in \u001b[0;36mglobal_fit\u001b[1;34m(observations, inputs, masks, state_range, n_initializations, method, n_iters, tolerance)\u001b[0m\n\u001b[0;32m     66\u001b[0m \u001b[38;5;28;01mdef\u001b[39;00m \u001b[38;5;21mglobal_fit\u001b[39m(observations, inputs, masks, state_range\u001b[38;5;241m=\u001b[39mnp\u001b[38;5;241m.\u001b[39marange(\u001b[38;5;241m2\u001b[39m,\u001b[38;5;241m6\u001b[39m), n_initializations\u001b[38;5;241m=\u001b[39m\u001b[38;5;241m20\u001b[39m, fitting_method\u001b[38;5;241m=\u001b[39m\u001b[38;5;124m'\u001b[39m\u001b[38;5;124mem\u001b[39m\u001b[38;5;124m'\u001b[39m, n_iters\u001b[38;5;241m=\u001b[39m\u001b[38;5;241m200\u001b[39m, tolerance\u001b[38;5;241m=\u001b[39m\u001b[38;5;241m10\u001b[39m\u001b[38;5;241m*\u001b[39m\u001b[38;5;241m*\u001b[39m\u001b[38;5;241m-\u001b[39m\u001b[38;5;241m4\u001b[39m):\n\u001b[0;32m     67\u001b[0m \u001b[38;5;250m    \u001b[39m\u001b[38;5;124;03m\"\"\"\u001b[39;00m\n\u001b[0;32m     68\u001b[0m \u001b[38;5;124;03m    Fit data aggregated from all sessions with GLM-HMM with a list of states(n_initializations per state). All GLM-HMM models are initialized by noise plus weights of best GLM model fitted on whole data \u001b[39;00m\n\u001b[0;32m     69\u001b[0m \u001b[38;5;124;03m    Args:\u001b[39;00m\n\u001b[0;32m     70\u001b[0m \u001b[38;5;124;03m        observations (list): 1 x n_trials x obs_dim\u001b[39;00m\n\u001b[0;32m     71\u001b[0m \u001b[38;5;124;03m        inputs (list): 1 x n_trials x input_dim\u001b[39;00m\n\u001b[0;32m     72\u001b[0m \u001b[38;5;124;03m        masks (list): 1 x n_trials x 1, Boolean(1 for included trial, 0 for excluded trials)\u001b[39;00m\n\u001b[0;32m     73\u001b[0m \u001b[38;5;124;03m        state_range (1d array/list), *default = np.arange(2,6): list of number of states in HMM\u001b[39;00m\n\u001b[1;32m---> 74\u001b[0m \u001b[38;5;124;03m        n_intializations (int), *default=20: number of times to fit glm-hmm with different parameter initializations\u001b[39;00m\n\u001b[0;32m     75\u001b[0m \u001b[38;5;124;03m        fitting_method (str), *default='em : em, map...\u001b[39;00m\n\u001b[0;32m     76\u001b[0m \u001b[38;5;124;03m        n_iters (int), * default=200: maximum number of EM iterations. \u001b[39;00m\n\u001b[0;32m     77\u001b[0m \u001b[38;5;124;03m        tolerance (float), *default=10e-4: fitting will stop earlier if increase in LL is below tolerance specified by tolerance parameter\u001b[39;00m\n\u001b[0;32m     78\u001b[0m \u001b[38;5;124;03m    \u001b[39;00m\n\u001b[0;32m     79\u001b[0m \u001b[38;5;124;03m    Returns:\u001b[39;00m\n\u001b[0;32m     80\u001b[0m \u001b[38;5;124;03m        models_glm_hmm (dict): keys: number of states n, values: GLM-HMM models with the n states \u001b[39;00m\n\u001b[0;32m     81\u001b[0m \u001b[38;5;124;03m        fit_lls_glm_hmm (dict): keys: number of states n, values: fitted log likelihood of GLM-HMM models with the n states \u001b[39;00m\n\u001b[0;32m     82\u001b[0m \u001b[38;5;124;03m    \"\"\"\u001b[39;00m\n\u001b[0;32m     83\u001b[0m     \u001b[38;5;28mprint\u001b[39m(\u001b[38;5;124m'\u001b[39m\u001b[38;5;124mfitting GLM globally.....\u001b[39m\u001b[38;5;124m'\u001b[39m)\n\u001b[0;32m     84\u001b[0m     glm \u001b[38;5;241m=\u001b[39m ssm\u001b[38;5;241m.\u001b[39mHMM(\u001b[38;5;241m1\u001b[39m,observations[\u001b[38;5;241m0\u001b[39m]\u001b[38;5;241m.\u001b[39mshape[\u001b[38;5;241m1\u001b[39m] , inputs[\u001b[38;5;241m0\u001b[39m]\u001b[38;5;241m.\u001b[39mshape[\u001b[38;5;241m1\u001b[39m], observations\u001b[38;5;241m=\u001b[39m\u001b[38;5;124m\"\u001b[39m\u001b[38;5;124minput_driven_obs\u001b[39m\u001b[38;5;124m\"\u001b[39m, \n\u001b[0;32m     85\u001b[0m                    observation_kwargs\u001b[38;5;241m=\u001b[39m\u001b[38;5;28mdict\u001b[39m(C\u001b[38;5;241m=\u001b[39m\u001b[38;5;28mlen\u001b[39m(np\u001b[38;5;241m.\u001b[39munique(observations[\u001b[38;5;241m0\u001b[39m]))), transitions\u001b[38;5;241m=\u001b[39m\u001b[38;5;124m\"\u001b[39m\u001b[38;5;124mstandard\u001b[39m\u001b[38;5;124m\"\u001b[39m)\n",
      "File \u001b[1;32md:\\prior-ephys-dm\\prior-encoding-in-nhp-sc\\ssm\\ssm\\util.py:111\u001b[0m, in \u001b[0;36mensure_args_are_lists.<locals>.wrapper\u001b[1;34m(self, datas, inputs, masks, tags, **kwargs)\u001b[0m\n\u001b[0;32m    108\u001b[0m \u001b[38;5;28;01melif\u001b[39;00m \u001b[38;5;129;01mnot\u001b[39;00m \u001b[38;5;28misinstance\u001b[39m(tags, (\u001b[38;5;28mlist\u001b[39m, \u001b[38;5;28mtuple\u001b[39m)):\n\u001b[0;32m    109\u001b[0m     tags \u001b[38;5;241m=\u001b[39m [tags]\n\u001b[1;32m--> 111\u001b[0m \u001b[38;5;28;01mreturn\u001b[39;00m \u001b[43mf\u001b[49m\u001b[43m(\u001b[49m\u001b[38;5;28;43mself\u001b[39;49m\u001b[43m,\u001b[49m\u001b[43m \u001b[49m\u001b[43mdatas\u001b[49m\u001b[43m,\u001b[49m\u001b[43m \u001b[49m\u001b[43minputs\u001b[49m\u001b[38;5;241;43m=\u001b[39;49m\u001b[43minputs\u001b[49m\u001b[43m,\u001b[49m\u001b[43m \u001b[49m\u001b[43mmasks\u001b[49m\u001b[38;5;241;43m=\u001b[39;49m\u001b[43mmasks\u001b[49m\u001b[43m,\u001b[49m\u001b[43m \u001b[49m\u001b[43mtags\u001b[49m\u001b[38;5;241;43m=\u001b[39;49m\u001b[43mtags\u001b[49m\u001b[43m,\u001b[49m\u001b[43m \u001b[49m\u001b[38;5;241;43m*\u001b[39;49m\u001b[38;5;241;43m*\u001b[39;49m\u001b[43mkwargs\u001b[49m\u001b[43m)\u001b[49m\n",
      "File \u001b[1;32md:\\prior-ephys-dm\\prior-encoding-in-nhp-sc\\ssm\\ssm\\hmm.py:508\u001b[0m, in \u001b[0;36mHMM.fit\u001b[1;34m(self, datas, inputs, masks, tags, verbose, method, initialize, init_method, **kwargs)\u001b[0m\n\u001b[0;32m    505\u001b[0m          \u001b[38;5;28;01mraise\u001b[39;00m \u001b[38;5;167;01mException\u001b[39;00m(\u001b[38;5;124m\"\u001b[39m\u001b[38;5;124mOnly EM is implemented for constrained transitions.\u001b[39m\u001b[38;5;124m\"\u001b[39m)\n\u001b[0;32m    507\u001b[0m \u001b[38;5;66;03m# print(verbose)\u001b[39;00m\n\u001b[1;32m--> 508\u001b[0m  \u001b[38;5;28;01mreturn\u001b[39;00m \u001b[43m_fitting_methods\u001b[49m\u001b[43m[\u001b[49m\u001b[43mmethod\u001b[49m\u001b[43m]\u001b[49m\u001b[43m(\u001b[49m\u001b[43mdatas\u001b[49m\u001b[43m,\u001b[49m\n\u001b[0;32m    509\u001b[0m \u001b[43m                                 \u001b[49m\u001b[43minputs\u001b[49m\u001b[38;5;241;43m=\u001b[39;49m\u001b[43minputs\u001b[49m\u001b[43m,\u001b[49m\n\u001b[0;32m    510\u001b[0m \u001b[43m                                 \u001b[49m\u001b[43mmasks\u001b[49m\u001b[38;5;241;43m=\u001b[39;49m\u001b[43mmasks\u001b[49m\u001b[43m,\u001b[49m\n\u001b[0;32m    511\u001b[0m \u001b[43m                                 \u001b[49m\u001b[43mtags\u001b[49m\u001b[38;5;241;43m=\u001b[39;49m\u001b[43mtags\u001b[49m\u001b[43m,\u001b[49m\n\u001b[0;32m    512\u001b[0m \u001b[43m                                 \u001b[49m\u001b[43mverbose\u001b[49m\u001b[38;5;241;43m=\u001b[39;49m\u001b[43mverbose\u001b[49m\u001b[43m,\u001b[49m\n\u001b[0;32m    513\u001b[0m \u001b[43m                                 \u001b[49m\u001b[38;5;241;43m*\u001b[39;49m\u001b[38;5;241;43m*\u001b[39;49m\u001b[43mkwargs\u001b[49m\u001b[43m)\u001b[49m\n",
      "File \u001b[1;32md:\\prior-ephys-dm\\prior-encoding-in-nhp-sc\\ssm\\ssm\\hmm.py:460\u001b[0m, in \u001b[0;36mHMM._fit_em\u001b[1;34m(self, datas, inputs, masks, tags, verbose, num_iters, tolerance, init_state_mstep_kwargs, transitions_mstep_kwargs, observations_mstep_kwargs, **kwargs)\u001b[0m\n\u001b[0;32m    458\u001b[0m \u001b[38;5;28mself\u001b[39m\u001b[38;5;241m.\u001b[39minit_state_distn\u001b[38;5;241m.\u001b[39mm_step(expectations, datas, inputs, masks, tags, \u001b[38;5;241m*\u001b[39m\u001b[38;5;241m*\u001b[39minit_state_mstep_kwargs)\n\u001b[0;32m    459\u001b[0m \u001b[38;5;28mself\u001b[39m\u001b[38;5;241m.\u001b[39mtransitions\u001b[38;5;241m.\u001b[39mm_step(expectations, datas, inputs, masks, tags, \u001b[38;5;241m*\u001b[39m\u001b[38;5;241m*\u001b[39mtransitions_mstep_kwargs)\n\u001b[1;32m--> 460\u001b[0m \u001b[38;5;28;43mself\u001b[39;49m\u001b[38;5;241;43m.\u001b[39;49m\u001b[43mobservations\u001b[49m\u001b[38;5;241;43m.\u001b[39;49m\u001b[43mm_step\u001b[49m\u001b[43m(\u001b[49m\u001b[43mexpectations\u001b[49m\u001b[43m,\u001b[49m\u001b[43m \u001b[49m\u001b[43mdatas\u001b[49m\u001b[43m,\u001b[49m\u001b[43m \u001b[49m\u001b[43minputs\u001b[49m\u001b[43m,\u001b[49m\u001b[43m \u001b[49m\u001b[43mmasks\u001b[49m\u001b[43m,\u001b[49m\u001b[43m \u001b[49m\u001b[43mtags\u001b[49m\u001b[43m,\u001b[49m\u001b[43m \u001b[49m\u001b[38;5;241;43m*\u001b[39;49m\u001b[38;5;241;43m*\u001b[39;49m\u001b[43mobservations_mstep_kwargs\u001b[49m\u001b[43m)\u001b[49m\n\u001b[0;32m    462\u001b[0m \u001b[38;5;66;03m# Store progress\u001b[39;00m\n\u001b[0;32m    463\u001b[0m lls\u001b[38;5;241m.\u001b[39mappend(\u001b[38;5;28mself\u001b[39m\u001b[38;5;241m.\u001b[39mlog_prior() \u001b[38;5;241m+\u001b[39m \u001b[38;5;28msum\u001b[39m([ll \u001b[38;5;28;01mfor\u001b[39;00m (_, _, ll) \u001b[38;5;129;01min\u001b[39;00m expectations]))\n",
      "File \u001b[1;32md:\\prior-ephys-dm\\prior-encoding-in-nhp-sc\\ssm\\ssm\\observations.py:793\u001b[0m, in \u001b[0;36mInputDrivenObservations.m_step\u001b[1;34m(self, expectations, datas, inputs, masks, tags, optimizer, **kwargs)\u001b[0m\n\u001b[0;32m    791\u001b[0m \u001b[38;5;28;01mdef\u001b[39;00m \u001b[38;5;21mm_step\u001b[39m(\u001b[38;5;28mself\u001b[39m, expectations, datas, inputs, masks, tags,\n\u001b[0;32m    792\u001b[0m            optimizer\u001b[38;5;241m=\u001b[39m\u001b[38;5;124m\"\u001b[39m\u001b[38;5;124mbfgs\u001b[39m\u001b[38;5;124m\"\u001b[39m, \u001b[38;5;241m*\u001b[39m\u001b[38;5;241m*\u001b[39mkwargs):\n\u001b[1;32m--> 793\u001b[0m     \u001b[43mObservations\u001b[49m\u001b[38;5;241;43m.\u001b[39;49m\u001b[43mm_step\u001b[49m\u001b[43m(\u001b[49m\u001b[38;5;28;43mself\u001b[39;49m\u001b[43m,\u001b[49m\u001b[43m \u001b[49m\u001b[43mexpectations\u001b[49m\u001b[43m,\u001b[49m\u001b[43m \u001b[49m\u001b[43mdatas\u001b[49m\u001b[43m,\u001b[49m\u001b[43m \u001b[49m\u001b[43minputs\u001b[49m\u001b[43m,\u001b[49m\u001b[43m \u001b[49m\u001b[43mmasks\u001b[49m\u001b[43m,\u001b[49m\u001b[43m \u001b[49m\u001b[43mtags\u001b[49m\u001b[43m,\u001b[49m\n\u001b[0;32m    794\u001b[0m \u001b[43m                        \u001b[49m\u001b[43moptimizer\u001b[49m\u001b[43m,\u001b[49m\u001b[43m \u001b[49m\u001b[38;5;241;43m*\u001b[39;49m\u001b[38;5;241;43m*\u001b[39;49m\u001b[43mkwargs\u001b[49m\u001b[43m)\u001b[49m\n",
      "File \u001b[1;32md:\\prior-ephys-dm\\prior-encoding-in-nhp-sc\\ssm\\ssm\\observations.py:107\u001b[0m, in \u001b[0;36mObservations.m_step\u001b[1;34m(self, expectations, datas, inputs, masks, tags, optimizer, **kwargs)\u001b[0m\n\u001b[0;32m    104\u001b[0m     obj \u001b[38;5;241m=\u001b[39m _expected_log_joint(expectations)\n\u001b[0;32m    105\u001b[0m     \u001b[38;5;28;01mreturn\u001b[39;00m \u001b[38;5;241m-\u001b[39mobj\n\u001b[1;32m--> 107\u001b[0m \u001b[38;5;28mself\u001b[39m\u001b[38;5;241m.\u001b[39mparams \u001b[38;5;241m=\u001b[39m \u001b[43moptimizer\u001b[49m\u001b[43m(\u001b[49m\u001b[43m_objective\u001b[49m\u001b[43m,\u001b[49m\u001b[43m \u001b[49m\u001b[38;5;28;43mself\u001b[39;49m\u001b[38;5;241;43m.\u001b[39;49m\u001b[43mparams\u001b[49m\u001b[43m,\u001b[49m\u001b[43m \u001b[49m\u001b[38;5;241;43m*\u001b[39;49m\u001b[38;5;241;43m*\u001b[39;49m\u001b[43mkwargs\u001b[49m\u001b[43m)\u001b[49m\n",
      "File \u001b[1;32md:\\prior-ephys-dm\\prior-encoding-in-nhp-sc\\ssm\\ssm\\optimizers.py:135\u001b[0m, in \u001b[0;36m_generic_minimize\u001b[1;34m(method, loss, x0, verbose, num_iters, tol, state, full_output, suppress_warnings, **kwargs)\u001b[0m\n\u001b[0;32m    132\u001b[0m     \u001b[38;5;28;01mreturn\u001b[39;00m g\n\u001b[0;32m    134\u001b[0m \u001b[38;5;66;03m# Call the optimizer.  Pass in -1 as the iteration since it is unused.\u001b[39;00m\n\u001b[1;32m--> 135\u001b[0m result \u001b[38;5;241m=\u001b[39m \u001b[43mminimize\u001b[49m\u001b[43m(\u001b[49m\u001b[43m_objective\u001b[49m\u001b[43m,\u001b[49m\u001b[43m \u001b[49m\u001b[43m_x0\u001b[49m\u001b[43m,\u001b[49m\u001b[43m \u001b[49m\u001b[43margs\u001b[49m\u001b[38;5;241;43m=\u001b[39;49m\u001b[43m(\u001b[49m\u001b[38;5;241;43m-\u001b[39;49m\u001b[38;5;241;43m1\u001b[39;49m\u001b[43m,\u001b[49m\u001b[43m)\u001b[49m\u001b[43m,\u001b[49m\n\u001b[0;32m    136\u001b[0m \u001b[43m                  \u001b[49m\u001b[43mjac\u001b[49m\u001b[38;5;241;43m=\u001b[39;49m\u001b[43msafe_grad\u001b[49m\u001b[43m,\u001b[49m\n\u001b[0;32m    137\u001b[0m \u001b[43m                  \u001b[49m\u001b[43mmethod\u001b[49m\u001b[38;5;241;43m=\u001b[39;49m\u001b[43mmethod\u001b[49m\u001b[43m,\u001b[49m\n\u001b[0;32m    138\u001b[0m \u001b[43m                  \u001b[49m\u001b[43mcallback\u001b[49m\u001b[38;5;241;43m=\u001b[39;49m\u001b[43mcallback\u001b[49m\u001b[43m \u001b[49m\u001b[38;5;28;43;01mif\u001b[39;49;00m\u001b[43m \u001b[49m\u001b[43mverbose\u001b[49m\u001b[43m \u001b[49m\u001b[38;5;28;43;01melse\u001b[39;49;00m\u001b[43m \u001b[49m\u001b[38;5;28;43;01mNone\u001b[39;49;00m\u001b[43m,\u001b[49m\n\u001b[0;32m    139\u001b[0m \u001b[43m                  \u001b[49m\u001b[43moptions\u001b[49m\u001b[38;5;241;43m=\u001b[39;49m\u001b[38;5;28;43mdict\u001b[39;49m\u001b[43m(\u001b[49m\u001b[43mmaxiter\u001b[49m\u001b[38;5;241;43m=\u001b[39;49m\u001b[43mnum_iters\u001b[49m\u001b[43m,\u001b[49m\u001b[43m \u001b[49m\u001b[43mdisp\u001b[49m\u001b[38;5;241;43m=\u001b[39;49m\u001b[43mverbose\u001b[49m\u001b[43m)\u001b[49m\u001b[43m,\u001b[49m\n\u001b[0;32m    140\u001b[0m \u001b[43m                  \u001b[49m\u001b[43mtol\u001b[49m\u001b[38;5;241;43m=\u001b[39;49m\u001b[43mtol\u001b[49m\u001b[43m,\u001b[49m\n\u001b[0;32m    141\u001b[0m \u001b[43m                  \u001b[49m\u001b[38;5;241;43m*\u001b[39;49m\u001b[38;5;241;43m*\u001b[39;49m\u001b[43mkwargs\u001b[49m\u001b[43m)\u001b[49m\n\u001b[0;32m    142\u001b[0m \u001b[38;5;28;01mif\u001b[39;00m verbose:\n\u001b[0;32m    143\u001b[0m     \u001b[38;5;28mprint\u001b[39m(\u001b[38;5;124m\"\u001b[39m\u001b[38;5;132;01m{}\u001b[39;00m\u001b[38;5;124m completed with message: \u001b[39m\u001b[38;5;130;01m\\n\u001b[39;00m\u001b[38;5;132;01m{}\u001b[39;00m\u001b[38;5;124m\"\u001b[39m\u001b[38;5;241m.\u001b[39mformat(method, result\u001b[38;5;241m.\u001b[39mmessage))\n",
      "File \u001b[1;32mc:\\Users\\mbasso.NPI-NRB507-XPS\\.conda\\envs\\prior-sc\\Lib\\site-packages\\scipy\\optimize\\_minimize.py:726\u001b[0m, in \u001b[0;36mminimize\u001b[1;34m(fun, x0, args, method, jac, hess, hessp, bounds, constraints, tol, callback, options)\u001b[0m\n\u001b[0;32m    724\u001b[0m     res \u001b[38;5;241m=\u001b[39m _minimize_cg(fun, x0, args, jac, callback, \u001b[38;5;241m*\u001b[39m\u001b[38;5;241m*\u001b[39moptions)\n\u001b[0;32m    725\u001b[0m \u001b[38;5;28;01melif\u001b[39;00m meth \u001b[38;5;241m==\u001b[39m \u001b[38;5;124m'\u001b[39m\u001b[38;5;124mbfgs\u001b[39m\u001b[38;5;124m'\u001b[39m:\n\u001b[1;32m--> 726\u001b[0m     res \u001b[38;5;241m=\u001b[39m \u001b[43m_minimize_bfgs\u001b[49m\u001b[43m(\u001b[49m\u001b[43mfun\u001b[49m\u001b[43m,\u001b[49m\u001b[43m \u001b[49m\u001b[43mx0\u001b[49m\u001b[43m,\u001b[49m\u001b[43m \u001b[49m\u001b[43margs\u001b[49m\u001b[43m,\u001b[49m\u001b[43m \u001b[49m\u001b[43mjac\u001b[49m\u001b[43m,\u001b[49m\u001b[43m \u001b[49m\u001b[43mcallback\u001b[49m\u001b[43m,\u001b[49m\u001b[43m \u001b[49m\u001b[38;5;241;43m*\u001b[39;49m\u001b[38;5;241;43m*\u001b[39;49m\u001b[43moptions\u001b[49m\u001b[43m)\u001b[49m\n\u001b[0;32m    727\u001b[0m \u001b[38;5;28;01melif\u001b[39;00m meth \u001b[38;5;241m==\u001b[39m \u001b[38;5;124m'\u001b[39m\u001b[38;5;124mnewton-cg\u001b[39m\u001b[38;5;124m'\u001b[39m:\n\u001b[0;32m    728\u001b[0m     res \u001b[38;5;241m=\u001b[39m _minimize_newtoncg(fun, x0, args, jac, hess, hessp, callback,\n\u001b[0;32m    729\u001b[0m                              \u001b[38;5;241m*\u001b[39m\u001b[38;5;241m*\u001b[39moptions)\n",
      "File \u001b[1;32mc:\\Users\\mbasso.NPI-NRB507-XPS\\.conda\\envs\\prior-sc\\Lib\\site-packages\\scipy\\optimize\\_optimize.py:1397\u001b[0m, in \u001b[0;36m_minimize_bfgs\u001b[1;34m(fun, x0, args, jac, callback, gtol, norm, eps, maxiter, disp, return_all, finite_diff_rel_step, xrtol, c1, c2, hess_inv0, **unknown_options)\u001b[0m\n\u001b[0;32m   1394\u001b[0m pk \u001b[38;5;241m=\u001b[39m \u001b[38;5;241m-\u001b[39mnp\u001b[38;5;241m.\u001b[39mdot(Hk, gfk)\n\u001b[0;32m   1395\u001b[0m \u001b[38;5;28;01mtry\u001b[39;00m:\n\u001b[0;32m   1396\u001b[0m     alpha_k, fc, gc, old_fval, old_old_fval, gfkp1 \u001b[38;5;241m=\u001b[39m \\\n\u001b[1;32m-> 1397\u001b[0m              \u001b[43m_line_search_wolfe12\u001b[49m\u001b[43m(\u001b[49m\u001b[43mf\u001b[49m\u001b[43m,\u001b[49m\u001b[43m \u001b[49m\u001b[43mmyfprime\u001b[49m\u001b[43m,\u001b[49m\u001b[43m \u001b[49m\u001b[43mxk\u001b[49m\u001b[43m,\u001b[49m\u001b[43m \u001b[49m\u001b[43mpk\u001b[49m\u001b[43m,\u001b[49m\u001b[43m \u001b[49m\u001b[43mgfk\u001b[49m\u001b[43m,\u001b[49m\n\u001b[0;32m   1398\u001b[0m \u001b[43m                                  \u001b[49m\u001b[43mold_fval\u001b[49m\u001b[43m,\u001b[49m\u001b[43m \u001b[49m\u001b[43mold_old_fval\u001b[49m\u001b[43m,\u001b[49m\u001b[43m \u001b[49m\u001b[43mamin\u001b[49m\u001b[38;5;241;43m=\u001b[39;49m\u001b[38;5;241;43m1e-100\u001b[39;49m\u001b[43m,\u001b[49m\n\u001b[0;32m   1399\u001b[0m \u001b[43m                                  \u001b[49m\u001b[43mamax\u001b[49m\u001b[38;5;241;43m=\u001b[39;49m\u001b[38;5;241;43m1e100\u001b[39;49m\u001b[43m,\u001b[49m\u001b[43m \u001b[49m\u001b[43mc1\u001b[49m\u001b[38;5;241;43m=\u001b[39;49m\u001b[43mc1\u001b[49m\u001b[43m,\u001b[49m\u001b[43m \u001b[49m\u001b[43mc2\u001b[49m\u001b[38;5;241;43m=\u001b[39;49m\u001b[43mc2\u001b[49m\u001b[43m)\u001b[49m\n\u001b[0;32m   1400\u001b[0m \u001b[38;5;28;01mexcept\u001b[39;00m _LineSearchError:\n\u001b[0;32m   1401\u001b[0m     \u001b[38;5;66;03m# Line search failed to find a better solution.\u001b[39;00m\n\u001b[0;32m   1402\u001b[0m     warnflag \u001b[38;5;241m=\u001b[39m \u001b[38;5;241m2\u001b[39m\n",
      "File \u001b[1;32mc:\\Users\\mbasso.NPI-NRB507-XPS\\.conda\\envs\\prior-sc\\Lib\\site-packages\\scipy\\optimize\\_optimize.py:1133\u001b[0m, in \u001b[0;36m_line_search_wolfe12\u001b[1;34m(f, fprime, xk, pk, gfk, old_fval, old_old_fval, **kwargs)\u001b[0m\n\u001b[0;32m   1119\u001b[0m \u001b[38;5;250m\u001b[39m\u001b[38;5;124;03m\"\"\"\u001b[39;00m\n\u001b[0;32m   1120\u001b[0m \u001b[38;5;124;03mSame as line_search_wolfe1, but fall back to line_search_wolfe2 if\u001b[39;00m\n\u001b[0;32m   1121\u001b[0m \u001b[38;5;124;03msuitable step length is not found, and raise an exception if a\u001b[39;00m\n\u001b[1;32m   (...)\u001b[0m\n\u001b[0;32m   1128\u001b[0m \n\u001b[0;32m   1129\u001b[0m \u001b[38;5;124;03m\"\"\"\u001b[39;00m\n\u001b[0;32m   1131\u001b[0m extra_condition \u001b[38;5;241m=\u001b[39m kwargs\u001b[38;5;241m.\u001b[39mpop(\u001b[38;5;124m'\u001b[39m\u001b[38;5;124mextra_condition\u001b[39m\u001b[38;5;124m'\u001b[39m, \u001b[38;5;28;01mNone\u001b[39;00m)\n\u001b[1;32m-> 1133\u001b[0m ret \u001b[38;5;241m=\u001b[39m \u001b[43mline_search_wolfe1\u001b[49m\u001b[43m(\u001b[49m\u001b[43mf\u001b[49m\u001b[43m,\u001b[49m\u001b[43m \u001b[49m\u001b[43mfprime\u001b[49m\u001b[43m,\u001b[49m\u001b[43m \u001b[49m\u001b[43mxk\u001b[49m\u001b[43m,\u001b[49m\u001b[43m \u001b[49m\u001b[43mpk\u001b[49m\u001b[43m,\u001b[49m\u001b[43m \u001b[49m\u001b[43mgfk\u001b[49m\u001b[43m,\u001b[49m\n\u001b[0;32m   1134\u001b[0m \u001b[43m                         \u001b[49m\u001b[43mold_fval\u001b[49m\u001b[43m,\u001b[49m\u001b[43m \u001b[49m\u001b[43mold_old_fval\u001b[49m\u001b[43m,\u001b[49m\n\u001b[0;32m   1135\u001b[0m \u001b[43m                         \u001b[49m\u001b[38;5;241;43m*\u001b[39;49m\u001b[38;5;241;43m*\u001b[39;49m\u001b[43mkwargs\u001b[49m\u001b[43m)\u001b[49m\n\u001b[0;32m   1137\u001b[0m \u001b[38;5;28;01mif\u001b[39;00m ret[\u001b[38;5;241m0\u001b[39m] \u001b[38;5;129;01mis\u001b[39;00m \u001b[38;5;129;01mnot\u001b[39;00m \u001b[38;5;28;01mNone\u001b[39;00m \u001b[38;5;129;01mand\u001b[39;00m extra_condition \u001b[38;5;129;01mis\u001b[39;00m \u001b[38;5;129;01mnot\u001b[39;00m \u001b[38;5;28;01mNone\u001b[39;00m:\n\u001b[0;32m   1138\u001b[0m     xp1 \u001b[38;5;241m=\u001b[39m xk \u001b[38;5;241m+\u001b[39m ret[\u001b[38;5;241m0\u001b[39m] \u001b[38;5;241m*\u001b[39m pk\n",
      "File \u001b[1;32mc:\\Users\\mbasso.NPI-NRB507-XPS\\.conda\\envs\\prior-sc\\Lib\\site-packages\\scipy\\optimize\\_linesearch.py:93\u001b[0m, in \u001b[0;36mline_search_wolfe1\u001b[1;34m(f, fprime, xk, pk, gfk, old_fval, old_old_fval, args, c1, c2, amax, amin, xtol)\u001b[0m\n\u001b[0;32m     89\u001b[0m     \u001b[38;5;28;01mreturn\u001b[39;00m np\u001b[38;5;241m.\u001b[39mdot(gval[\u001b[38;5;241m0\u001b[39m], pk)\n\u001b[0;32m     91\u001b[0m derphi0 \u001b[38;5;241m=\u001b[39m np\u001b[38;5;241m.\u001b[39mdot(gfk, pk)\n\u001b[1;32m---> 93\u001b[0m stp, fval, old_fval \u001b[38;5;241m=\u001b[39m \u001b[43mscalar_search_wolfe1\u001b[49m\u001b[43m(\u001b[49m\n\u001b[0;32m     94\u001b[0m \u001b[43m        \u001b[49m\u001b[43mphi\u001b[49m\u001b[43m,\u001b[49m\u001b[43m \u001b[49m\u001b[43mderphi\u001b[49m\u001b[43m,\u001b[49m\u001b[43m \u001b[49m\u001b[43mold_fval\u001b[49m\u001b[43m,\u001b[49m\u001b[43m \u001b[49m\u001b[43mold_old_fval\u001b[49m\u001b[43m,\u001b[49m\u001b[43m \u001b[49m\u001b[43mderphi0\u001b[49m\u001b[43m,\u001b[49m\n\u001b[0;32m     95\u001b[0m \u001b[43m        \u001b[49m\u001b[43mc1\u001b[49m\u001b[38;5;241;43m=\u001b[39;49m\u001b[43mc1\u001b[49m\u001b[43m,\u001b[49m\u001b[43m \u001b[49m\u001b[43mc2\u001b[49m\u001b[38;5;241;43m=\u001b[39;49m\u001b[43mc2\u001b[49m\u001b[43m,\u001b[49m\u001b[43m \u001b[49m\u001b[43mamax\u001b[49m\u001b[38;5;241;43m=\u001b[39;49m\u001b[43mamax\u001b[49m\u001b[43m,\u001b[49m\u001b[43m \u001b[49m\u001b[43mamin\u001b[49m\u001b[38;5;241;43m=\u001b[39;49m\u001b[43mamin\u001b[49m\u001b[43m,\u001b[49m\u001b[43m \u001b[49m\u001b[43mxtol\u001b[49m\u001b[38;5;241;43m=\u001b[39;49m\u001b[43mxtol\u001b[49m\u001b[43m)\u001b[49m\n\u001b[0;32m     97\u001b[0m \u001b[38;5;28;01mreturn\u001b[39;00m stp, fc[\u001b[38;5;241m0\u001b[39m], gc[\u001b[38;5;241m0\u001b[39m], fval, old_fval, gval[\u001b[38;5;241m0\u001b[39m]\n",
      "File \u001b[1;32mc:\\Users\\mbasso.NPI-NRB507-XPS\\.conda\\envs\\prior-sc\\Lib\\site-packages\\scipy\\optimize\\_linesearch.py:170\u001b[0m, in \u001b[0;36mscalar_search_wolfe1\u001b[1;34m(phi, derphi, phi0, old_phi0, derphi0, c1, c2, amax, amin, xtol)\u001b[0m\n\u001b[0;32m    167\u001b[0m maxiter \u001b[38;5;241m=\u001b[39m \u001b[38;5;241m100\u001b[39m\n\u001b[0;32m    169\u001b[0m dcsrch \u001b[38;5;241m=\u001b[39m DCSRCH(phi, derphi, c1, c2, xtol, amin, amax)\n\u001b[1;32m--> 170\u001b[0m stp, phi1, phi0, task \u001b[38;5;241m=\u001b[39m \u001b[43mdcsrch\u001b[49m\u001b[43m(\u001b[49m\n\u001b[0;32m    171\u001b[0m \u001b[43m    \u001b[49m\u001b[43malpha1\u001b[49m\u001b[43m,\u001b[49m\u001b[43m \u001b[49m\u001b[43mphi0\u001b[49m\u001b[38;5;241;43m=\u001b[39;49m\u001b[43mphi0\u001b[49m\u001b[43m,\u001b[49m\u001b[43m \u001b[49m\u001b[43mderphi0\u001b[49m\u001b[38;5;241;43m=\u001b[39;49m\u001b[43mderphi0\u001b[49m\u001b[43m,\u001b[49m\u001b[43m \u001b[49m\u001b[43mmaxiter\u001b[49m\u001b[38;5;241;43m=\u001b[39;49m\u001b[43mmaxiter\u001b[49m\n\u001b[0;32m    172\u001b[0m \u001b[43m\u001b[49m\u001b[43m)\u001b[49m\n\u001b[0;32m    174\u001b[0m \u001b[38;5;28;01mreturn\u001b[39;00m stp, phi1, phi0\n",
      "File \u001b[1;32mc:\\Users\\mbasso.NPI-NRB507-XPS\\.conda\\envs\\prior-sc\\Lib\\site-packages\\scipy\\optimize\\_dcsrch.py:256\u001b[0m, in \u001b[0;36mDCSRCH.__call__\u001b[1;34m(self, alpha1, phi0, derphi0, maxiter)\u001b[0m\n\u001b[0;32m    254\u001b[0m     alpha1 \u001b[38;5;241m=\u001b[39m stp\n\u001b[0;32m    255\u001b[0m     phi1 \u001b[38;5;241m=\u001b[39m \u001b[38;5;28mself\u001b[39m\u001b[38;5;241m.\u001b[39mphi(stp)\n\u001b[1;32m--> 256\u001b[0m     derphi1 \u001b[38;5;241m=\u001b[39m \u001b[38;5;28;43mself\u001b[39;49m\u001b[38;5;241;43m.\u001b[39;49m\u001b[43mderphi\u001b[49m\u001b[43m(\u001b[49m\u001b[43mstp\u001b[49m\u001b[43m)\u001b[49m\n\u001b[0;32m    257\u001b[0m \u001b[38;5;28;01melse\u001b[39;00m:\n\u001b[0;32m    258\u001b[0m     \u001b[38;5;28;01mbreak\u001b[39;00m\n",
      "File \u001b[1;32mc:\\Users\\mbasso.NPI-NRB507-XPS\\.conda\\envs\\prior-sc\\Lib\\site-packages\\scipy\\optimize\\_linesearch.py:87\u001b[0m, in \u001b[0;36mline_search_wolfe1.<locals>.derphi\u001b[1;34m(s)\u001b[0m\n\u001b[0;32m     86\u001b[0m \u001b[38;5;28;01mdef\u001b[39;00m \u001b[38;5;21mderphi\u001b[39m(s):\n\u001b[1;32m---> 87\u001b[0m     gval[\u001b[38;5;241m0\u001b[39m] \u001b[38;5;241m=\u001b[39m \u001b[43mfprime\u001b[49m\u001b[43m(\u001b[49m\u001b[43mxk\u001b[49m\u001b[43m \u001b[49m\u001b[38;5;241;43m+\u001b[39;49m\u001b[43m \u001b[49m\u001b[43ms\u001b[49m\u001b[38;5;241;43m*\u001b[39;49m\u001b[43mpk\u001b[49m\u001b[43m,\u001b[49m\u001b[43m \u001b[49m\u001b[38;5;241;43m*\u001b[39;49m\u001b[43margs\u001b[49m\u001b[43m)\u001b[49m\n\u001b[0;32m     88\u001b[0m     gc[\u001b[38;5;241m0\u001b[39m] \u001b[38;5;241m+\u001b[39m\u001b[38;5;241m=\u001b[39m \u001b[38;5;241m1\u001b[39m\n\u001b[0;32m     89\u001b[0m     \u001b[38;5;28;01mreturn\u001b[39;00m np\u001b[38;5;241m.\u001b[39mdot(gval[\u001b[38;5;241m0\u001b[39m], pk)\n",
      "File \u001b[1;32mc:\\Users\\mbasso.NPI-NRB507-XPS\\.conda\\envs\\prior-sc\\Lib\\site-packages\\scipy\\optimize\\_differentiable_functions.py:331\u001b[0m, in \u001b[0;36mScalarFunction.grad\u001b[1;34m(self, x)\u001b[0m\n\u001b[0;32m    329\u001b[0m \u001b[38;5;28;01mif\u001b[39;00m \u001b[38;5;129;01mnot\u001b[39;00m np\u001b[38;5;241m.\u001b[39marray_equal(x, \u001b[38;5;28mself\u001b[39m\u001b[38;5;241m.\u001b[39mx):\n\u001b[0;32m    330\u001b[0m     \u001b[38;5;28mself\u001b[39m\u001b[38;5;241m.\u001b[39m_update_x(x)\n\u001b[1;32m--> 331\u001b[0m \u001b[38;5;28;43mself\u001b[39;49m\u001b[38;5;241;43m.\u001b[39;49m\u001b[43m_update_grad\u001b[49m\u001b[43m(\u001b[49m\u001b[43m)\u001b[49m\n\u001b[0;32m    332\u001b[0m \u001b[38;5;28;01mreturn\u001b[39;00m \u001b[38;5;28mself\u001b[39m\u001b[38;5;241m.\u001b[39mg\n",
      "File \u001b[1;32mc:\\Users\\mbasso.NPI-NRB507-XPS\\.conda\\envs\\prior-sc\\Lib\\site-packages\\scipy\\optimize\\_differentiable_functions.py:306\u001b[0m, in \u001b[0;36mScalarFunction._update_grad\u001b[1;34m(self)\u001b[0m\n\u001b[0;32m    304\u001b[0m \u001b[38;5;28;01mif\u001b[39;00m \u001b[38;5;28mself\u001b[39m\u001b[38;5;241m.\u001b[39m_orig_grad \u001b[38;5;129;01min\u001b[39;00m FD_METHODS:\n\u001b[0;32m    305\u001b[0m     \u001b[38;5;28mself\u001b[39m\u001b[38;5;241m.\u001b[39m_update_fun()\n\u001b[1;32m--> 306\u001b[0m \u001b[38;5;28mself\u001b[39m\u001b[38;5;241m.\u001b[39mg \u001b[38;5;241m=\u001b[39m \u001b[38;5;28;43mself\u001b[39;49m\u001b[38;5;241;43m.\u001b[39;49m\u001b[43m_wrapped_grad\u001b[49m\u001b[43m(\u001b[49m\u001b[38;5;28;43mself\u001b[39;49m\u001b[38;5;241;43m.\u001b[39;49m\u001b[43mx\u001b[49m\u001b[43m,\u001b[49m\u001b[43m \u001b[49m\u001b[43mf0\u001b[49m\u001b[38;5;241;43m=\u001b[39;49m\u001b[38;5;28;43mself\u001b[39;49m\u001b[38;5;241;43m.\u001b[39;49m\u001b[43mf\u001b[49m\u001b[43m)\u001b[49m\n\u001b[0;32m    307\u001b[0m \u001b[38;5;28mself\u001b[39m\u001b[38;5;241m.\u001b[39mg_updated \u001b[38;5;241m=\u001b[39m \u001b[38;5;28;01mTrue\u001b[39;00m\n",
      "File \u001b[1;32mc:\\Users\\mbasso.NPI-NRB507-XPS\\.conda\\envs\\prior-sc\\Lib\\site-packages\\scipy\\optimize\\_differentiable_functions.py:41\u001b[0m, in \u001b[0;36m_wrapper_grad.<locals>.wrapped\u001b[1;34m(x, **kwds)\u001b[0m\n\u001b[0;32m     38\u001b[0m \u001b[38;5;28;01mdef\u001b[39;00m \u001b[38;5;21mwrapped\u001b[39m(x, \u001b[38;5;241m*\u001b[39m\u001b[38;5;241m*\u001b[39mkwds):\n\u001b[0;32m     39\u001b[0m     \u001b[38;5;66;03m# kwds present to give function same signature as numdiff variant\u001b[39;00m\n\u001b[0;32m     40\u001b[0m     ncalls[\u001b[38;5;241m0\u001b[39m] \u001b[38;5;241m+\u001b[39m\u001b[38;5;241m=\u001b[39m \u001b[38;5;241m1\u001b[39m\n\u001b[1;32m---> 41\u001b[0m     \u001b[38;5;28;01mreturn\u001b[39;00m np\u001b[38;5;241m.\u001b[39matleast_1d(\u001b[43mgrad\u001b[49m\u001b[43m(\u001b[49m\u001b[43mnp\u001b[49m\u001b[38;5;241;43m.\u001b[39;49m\u001b[43mcopy\u001b[49m\u001b[43m(\u001b[49m\u001b[43mx\u001b[49m\u001b[43m)\u001b[49m\u001b[43m,\u001b[49m\u001b[43m \u001b[49m\u001b[38;5;241;43m*\u001b[39;49m\u001b[43margs\u001b[49m\u001b[43m)\u001b[49m)\n",
      "File \u001b[1;32md:\\prior-ephys-dm\\prior-encoding-in-nhp-sc\\ssm\\ssm\\optimizers.py:130\u001b[0m, in \u001b[0;36m_generic_minimize.<locals>.safe_grad\u001b[1;34m(x, itr)\u001b[0m\n\u001b[0;32m    129\u001b[0m \u001b[38;5;28;01mdef\u001b[39;00m \u001b[38;5;21msafe_grad\u001b[39m(x, itr):\n\u001b[1;32m--> 130\u001b[0m     g \u001b[38;5;241m=\u001b[39m \u001b[43mgrad\u001b[49m\u001b[43m(\u001b[49m\u001b[43m_objective\u001b[49m\u001b[43m)\u001b[49m\u001b[43m(\u001b[49m\u001b[43mx\u001b[49m\u001b[43m,\u001b[49m\u001b[43m \u001b[49m\u001b[43mitr\u001b[49m\u001b[43m)\u001b[49m\n\u001b[0;32m    131\u001b[0m     g[\u001b[38;5;241m~\u001b[39mnp\u001b[38;5;241m.\u001b[39misfinite(g)] \u001b[38;5;241m=\u001b[39m \u001b[38;5;241m1e8\u001b[39m\n\u001b[0;32m    132\u001b[0m     \u001b[38;5;28;01mreturn\u001b[39;00m g\n",
      "File \u001b[1;32mc:\\Users\\mbasso.NPI-NRB507-XPS\\.conda\\envs\\prior-sc\\Lib\\site-packages\\autograd\\wrap_util.py:20\u001b[0m, in \u001b[0;36munary_to_nary.<locals>.nary_operator.<locals>.nary_f\u001b[1;34m(*args, **kwargs)\u001b[0m\n\u001b[0;32m     18\u001b[0m \u001b[38;5;28;01melse\u001b[39;00m:\n\u001b[0;32m     19\u001b[0m     x \u001b[38;5;241m=\u001b[39m \u001b[38;5;28mtuple\u001b[39m(args[i] \u001b[38;5;28;01mfor\u001b[39;00m i \u001b[38;5;129;01min\u001b[39;00m argnum)\n\u001b[1;32m---> 20\u001b[0m \u001b[38;5;28;01mreturn\u001b[39;00m \u001b[43munary_operator\u001b[49m\u001b[43m(\u001b[49m\u001b[43munary_f\u001b[49m\u001b[43m,\u001b[49m\u001b[43m \u001b[49m\u001b[43mx\u001b[49m\u001b[43m,\u001b[49m\u001b[43m \u001b[49m\u001b[38;5;241;43m*\u001b[39;49m\u001b[43mnary_op_args\u001b[49m\u001b[43m,\u001b[49m\u001b[43m \u001b[49m\u001b[38;5;241;43m*\u001b[39;49m\u001b[38;5;241;43m*\u001b[39;49m\u001b[43mnary_op_kwargs\u001b[49m\u001b[43m)\u001b[49m\n",
      "File \u001b[1;32mc:\\Users\\mbasso.NPI-NRB507-XPS\\.conda\\envs\\prior-sc\\Lib\\site-packages\\autograd\\differential_operators.py:32\u001b[0m, in \u001b[0;36mgrad\u001b[1;34m(fun, x)\u001b[0m\n\u001b[0;32m     29\u001b[0m \u001b[38;5;28;01mif\u001b[39;00m \u001b[38;5;129;01mnot\u001b[39;00m vspace(ans)\u001b[38;5;241m.\u001b[39msize \u001b[38;5;241m==\u001b[39m \u001b[38;5;241m1\u001b[39m:\n\u001b[0;32m     30\u001b[0m     \u001b[38;5;28;01mraise\u001b[39;00m \u001b[38;5;167;01mTypeError\u001b[39;00m(\u001b[38;5;124m\"\u001b[39m\u001b[38;5;124mGrad only applies to real scalar-output functions. \u001b[39m\u001b[38;5;124m\"\u001b[39m\n\u001b[0;32m     31\u001b[0m                     \u001b[38;5;124m\"\u001b[39m\u001b[38;5;124mTry jacobian, elementwise_grad or holomorphic_grad.\u001b[39m\u001b[38;5;124m\"\u001b[39m)\n\u001b[1;32m---> 32\u001b[0m \u001b[38;5;28;01mreturn\u001b[39;00m \u001b[43mvjp\u001b[49m\u001b[43m(\u001b[49m\u001b[43mvspace\u001b[49m\u001b[43m(\u001b[49m\u001b[43mans\u001b[49m\u001b[43m)\u001b[49m\u001b[38;5;241;43m.\u001b[39;49m\u001b[43mones\u001b[49m\u001b[43m(\u001b[49m\u001b[43m)\u001b[49m\u001b[43m)\u001b[49m\n",
      "File \u001b[1;32mc:\\Users\\mbasso.NPI-NRB507-XPS\\.conda\\envs\\prior-sc\\Lib\\site-packages\\autograd\\core.py:14\u001b[0m, in \u001b[0;36mmake_vjp.<locals>.vjp\u001b[1;34m(g)\u001b[0m\n\u001b[1;32m---> 14\u001b[0m \u001b[38;5;28;01mdef\u001b[39;00m \u001b[38;5;21mvjp\u001b[39m(g): \u001b[38;5;28;01mreturn\u001b[39;00m \u001b[43mbackward_pass\u001b[49m\u001b[43m(\u001b[49m\u001b[43mg\u001b[49m\u001b[43m,\u001b[49m\u001b[43m \u001b[49m\u001b[43mend_node\u001b[49m\u001b[43m)\u001b[49m\n",
      "File \u001b[1;32mc:\\Users\\mbasso.NPI-NRB507-XPS\\.conda\\envs\\prior-sc\\Lib\\site-packages\\autograd\\core.py:21\u001b[0m, in \u001b[0;36mbackward_pass\u001b[1;34m(g, end_node)\u001b[0m\n\u001b[0;32m     19\u001b[0m \u001b[38;5;28;01mfor\u001b[39;00m node \u001b[38;5;129;01min\u001b[39;00m toposort(end_node):\n\u001b[0;32m     20\u001b[0m     outgrad \u001b[38;5;241m=\u001b[39m outgrads\u001b[38;5;241m.\u001b[39mpop(node)\n\u001b[1;32m---> 21\u001b[0m     ingrads \u001b[38;5;241m=\u001b[39m \u001b[43mnode\u001b[49m\u001b[38;5;241;43m.\u001b[39;49m\u001b[43mvjp\u001b[49m\u001b[43m(\u001b[49m\u001b[43moutgrad\u001b[49m\u001b[43m[\u001b[49m\u001b[38;5;241;43m0\u001b[39;49m\u001b[43m]\u001b[49m\u001b[43m)\u001b[49m\n\u001b[0;32m     22\u001b[0m     \u001b[38;5;28;01mfor\u001b[39;00m parent, ingrad \u001b[38;5;129;01min\u001b[39;00m \u001b[38;5;28mzip\u001b[39m(node\u001b[38;5;241m.\u001b[39mparents, ingrads):\n\u001b[0;32m     23\u001b[0m         outgrads[parent] \u001b[38;5;241m=\u001b[39m add_outgrads(outgrads\u001b[38;5;241m.\u001b[39mget(parent), ingrad)\n",
      "File \u001b[1;32mc:\\Users\\mbasso.NPI-NRB507-XPS\\.conda\\envs\\prior-sc\\Lib\\site-packages\\autograd\\core.py:67\u001b[0m, in \u001b[0;36mdefvjp.<locals>.vjp_argnums.<locals>.<lambda>\u001b[1;34m(g)\u001b[0m\n\u001b[0;32m     64\u001b[0m         \u001b[38;5;28;01mraise\u001b[39;00m \u001b[38;5;167;01mNotImplementedError\u001b[39;00m(\n\u001b[0;32m     65\u001b[0m             \u001b[38;5;124m\"\u001b[39m\u001b[38;5;124mVJP of \u001b[39m\u001b[38;5;132;01m{}\u001b[39;00m\u001b[38;5;124m wrt argnum 0 not defined\u001b[39m\u001b[38;5;124m\"\u001b[39m\u001b[38;5;241m.\u001b[39mformat(fun\u001b[38;5;241m.\u001b[39m\u001b[38;5;18m__name__\u001b[39m))\n\u001b[0;32m     66\u001b[0m     vjp \u001b[38;5;241m=\u001b[39m vjpfun(ans, \u001b[38;5;241m*\u001b[39margs, \u001b[38;5;241m*\u001b[39m\u001b[38;5;241m*\u001b[39mkwargs)\n\u001b[1;32m---> 67\u001b[0m     \u001b[38;5;28;01mreturn\u001b[39;00m \u001b[38;5;28;01mlambda\u001b[39;00m g: (\u001b[43mvjp\u001b[49m\u001b[43m(\u001b[49m\u001b[43mg\u001b[49m\u001b[43m)\u001b[49m,)\n\u001b[0;32m     68\u001b[0m \u001b[38;5;28;01melif\u001b[39;00m L \u001b[38;5;241m==\u001b[39m \u001b[38;5;241m2\u001b[39m:\n\u001b[0;32m     69\u001b[0m     argnum_0, argnum_1 \u001b[38;5;241m=\u001b[39m argnums\n",
      "File \u001b[1;32mc:\\Users\\mbasso.NPI-NRB507-XPS\\.conda\\envs\\prior-sc\\Lib\\site-packages\\autograd\\scipy\\special.py:113\u001b[0m, in \u001b[0;36mmake_grad_logsumexp.<locals>.vjp\u001b[1;34m(g)\u001b[0m\n\u001b[0;32m    111\u001b[0m g_repeated,   _ \u001b[38;5;241m=\u001b[39m repeat_to_match_shape(g,   shape, dtype, axis, keepdims)\n\u001b[0;32m    112\u001b[0m ans_repeated, _ \u001b[38;5;241m=\u001b[39m repeat_to_match_shape(ans, shape, dtype, axis, keepdims)\n\u001b[1;32m--> 113\u001b[0m \u001b[38;5;28;01mreturn\u001b[39;00m g_repeated \u001b[38;5;241m*\u001b[39m b \u001b[38;5;241m*\u001b[39m \u001b[43mnp\u001b[49m\u001b[38;5;241;43m.\u001b[39;49m\u001b[43mexp\u001b[49m\u001b[43m(\u001b[49m\u001b[43mx\u001b[49m\u001b[43m \u001b[49m\u001b[38;5;241;43m-\u001b[39;49m\u001b[43m \u001b[49m\u001b[43mans_repeated\u001b[49m\u001b[43m)\u001b[49m\n",
      "File \u001b[1;32mc:\\Users\\mbasso.NPI-NRB507-XPS\\.conda\\envs\\prior-sc\\Lib\\site-packages\\autograd\\tracer.py:48\u001b[0m, in \u001b[0;36mprimitive.<locals>.f_wrapped\u001b[1;34m(*args, **kwargs)\u001b[0m\n\u001b[0;32m     46\u001b[0m     \u001b[38;5;28;01mreturn\u001b[39;00m new_box(ans, trace, node)\n\u001b[0;32m     47\u001b[0m \u001b[38;5;28;01melse\u001b[39;00m:\n\u001b[1;32m---> 48\u001b[0m     \u001b[38;5;28;01mreturn\u001b[39;00m \u001b[43mf_raw\u001b[49m\u001b[43m(\u001b[49m\u001b[38;5;241;43m*\u001b[39;49m\u001b[43margs\u001b[49m\u001b[43m,\u001b[49m\u001b[43m \u001b[49m\u001b[38;5;241;43m*\u001b[39;49m\u001b[38;5;241;43m*\u001b[39;49m\u001b[43mkwargs\u001b[49m\u001b[43m)\u001b[49m\n",
      "\u001b[1;31mKeyboardInterrupt\u001b[0m: "
     ]
    }
   ],
   "source": [
    "# fit global data with 20 initialization\n",
    "inputs_aggregated[0][:,0] = preprocessing.scale(inputs_aggregated[0][:,0],axis=0)\n",
    "models_glm_hmm, fit_lls_glm_hmm = global_fit(choices_aggregated, inputs_aggregated, masks_aggregated, state_range=[2],n_iters= 1000, n_initializations=20)"
   ]
  },
  {
   "cell_type": "code",
   "execution_count": 24,
   "metadata": {},
   "outputs": [
    {
     "name": "stdout",
     "output_type": "stream",
     "text": [
      "fitting GLM globally.....\n"
     ]
    },
    {
     "data": {
      "application/vnd.jupyter.widget-view+json": {
       "model_id": "1d2a2380fe5748ea85a0080a45930ec4",
       "version_major": 2,
       "version_minor": 0
      },
      "text/plain": [
       "  0%|          | 0/1000 [00:00<?, ?it/s]"
      ]
     },
     "metadata": {},
     "output_type": "display_data"
    },
    {
     "name": "stdout",
     "output_type": "stream",
     "text": [
      "fitting GLM-HMM globally.....\n",
      "fitting 2 states.....\n",
      "Initialization   1\n"
     ]
    },
    {
     "data": {
      "application/vnd.jupyter.widget-view+json": {
       "model_id": "b14bf0c8a8be4b389cba2126a570f2bf",
       "version_major": 2,
       "version_minor": 0
      },
      "text/plain": [
       "  0%|          | 0/1000 [00:00<?, ?it/s]"
      ]
     },
     "metadata": {},
     "output_type": "display_data"
    },
    {
     "name": "stdout",
     "output_type": "stream",
     "text": [
      "Initialization   2\n"
     ]
    },
    {
     "data": {
      "application/vnd.jupyter.widget-view+json": {
       "model_id": "20831b68b62f4d918dff7f0c0e2234c6",
       "version_major": 2,
       "version_minor": 0
      },
      "text/plain": [
       "  0%|          | 0/1000 [00:00<?, ?it/s]"
      ]
     },
     "metadata": {},
     "output_type": "display_data"
    },
    {
     "name": "stdout",
     "output_type": "stream",
     "text": [
      "Initialization   3\n"
     ]
    },
    {
     "data": {
      "application/vnd.jupyter.widget-view+json": {
       "model_id": "f6aa494fb1a2414a9b61eacb31ca6a47",
       "version_major": 2,
       "version_minor": 0
      },
      "text/plain": [
       "  0%|          | 0/1000 [00:00<?, ?it/s]"
      ]
     },
     "metadata": {},
     "output_type": "display_data"
    },
    {
     "name": "stdout",
     "output_type": "stream",
     "text": [
      "Initialization   4\n"
     ]
    },
    {
     "data": {
      "application/vnd.jupyter.widget-view+json": {
       "model_id": "b084e431ffe3424a8116d9987e8c01d8",
       "version_major": 2,
       "version_minor": 0
      },
      "text/plain": [
       "  0%|          | 0/1000 [00:00<?, ?it/s]"
      ]
     },
     "metadata": {},
     "output_type": "display_data"
    },
    {
     "name": "stdout",
     "output_type": "stream",
     "text": [
      "Initialization   5\n"
     ]
    },
    {
     "name": "stderr",
     "output_type": "stream",
     "text": [
      "d:\\prior-ephys-dm\\prior-encoding-in-nhp-sc\\ssm\\ssm\\optimizers.py:146: UserWarning: BFGS failed with message:\n",
      "Desired error not necessarily achieved due to precision loss.\n",
      "  warn(\"{} failed with message:\\n{}\".format(method, result.message))\n"
     ]
    },
    {
     "data": {
      "application/vnd.jupyter.widget-view+json": {
       "model_id": "05a052db9eb24afa9b662983c29977b1",
       "version_major": 2,
       "version_minor": 0
      },
      "text/plain": [
       "  0%|          | 0/1000 [00:00<?, ?it/s]"
      ]
     },
     "metadata": {},
     "output_type": "display_data"
    },
    {
     "name": "stdout",
     "output_type": "stream",
     "text": [
      "Initialization   6\n"
     ]
    },
    {
     "data": {
      "application/vnd.jupyter.widget-view+json": {
       "model_id": "2eb0051413764375964392770520d4a5",
       "version_major": 2,
       "version_minor": 0
      },
      "text/plain": [
       "  0%|          | 0/1000 [00:00<?, ?it/s]"
      ]
     },
     "metadata": {},
     "output_type": "display_data"
    },
    {
     "name": "stdout",
     "output_type": "stream",
     "text": [
      "Initialization   7\n"
     ]
    },
    {
     "name": "stderr",
     "output_type": "stream",
     "text": [
      "d:\\prior-ephys-dm\\prior-encoding-in-nhp-sc\\ssm\\ssm\\optimizers.py:146: UserWarning: BFGS failed with message:\n",
      "Desired error not necessarily achieved due to precision loss.\n",
      "  warn(\"{} failed with message:\\n{}\".format(method, result.message))\n"
     ]
    },
    {
     "data": {
      "application/vnd.jupyter.widget-view+json": {
       "model_id": "75b338f0fb784d05a5ed8ed7cdce4f08",
       "version_major": 2,
       "version_minor": 0
      },
      "text/plain": [
       "  0%|          | 0/1000 [00:00<?, ?it/s]"
      ]
     },
     "metadata": {},
     "output_type": "display_data"
    },
    {
     "name": "stdout",
     "output_type": "stream",
     "text": [
      "Initialization   8\n"
     ]
    },
    {
     "data": {
      "application/vnd.jupyter.widget-view+json": {
       "model_id": "d13205b443e6444f9bc609a24a083a95",
       "version_major": 2,
       "version_minor": 0
      },
      "text/plain": [
       "  0%|          | 0/1000 [00:00<?, ?it/s]"
      ]
     },
     "metadata": {},
     "output_type": "display_data"
    },
    {
     "name": "stdout",
     "output_type": "stream",
     "text": [
      "Initialization   9\n"
     ]
    },
    {
     "data": {
      "application/vnd.jupyter.widget-view+json": {
       "model_id": "61ae13bc4c9b48dab403454544f830fa",
       "version_major": 2,
       "version_minor": 0
      },
      "text/plain": [
       "  0%|          | 0/1000 [00:00<?, ?it/s]"
      ]
     },
     "metadata": {},
     "output_type": "display_data"
    },
    {
     "name": "stdout",
     "output_type": "stream",
     "text": [
      "Initialization   10\n"
     ]
    },
    {
     "name": "stderr",
     "output_type": "stream",
     "text": [
      "d:\\prior-ephys-dm\\prior-encoding-in-nhp-sc\\ssm\\ssm\\optimizers.py:146: UserWarning: BFGS failed with message:\n",
      "Desired error not necessarily achieved due to precision loss.\n",
      "  warn(\"{} failed with message:\\n{}\".format(method, result.message))\n"
     ]
    },
    {
     "data": {
      "application/vnd.jupyter.widget-view+json": {
       "model_id": "483a94f8ef814f42a00db17def491d56",
       "version_major": 2,
       "version_minor": 0
      },
      "text/plain": [
       "  0%|          | 0/1000 [00:00<?, ?it/s]"
      ]
     },
     "metadata": {},
     "output_type": "display_data"
    },
    {
     "name": "stdout",
     "output_type": "stream",
     "text": [
      "Initialization   11\n"
     ]
    },
    {
     "data": {
      "application/vnd.jupyter.widget-view+json": {
       "model_id": "843460b4157c40138135b3d901d1d804",
       "version_major": 2,
       "version_minor": 0
      },
      "text/plain": [
       "  0%|          | 0/1000 [00:00<?, ?it/s]"
      ]
     },
     "metadata": {},
     "output_type": "display_data"
    },
    {
     "name": "stdout",
     "output_type": "stream",
     "text": [
      "Initialization   12\n"
     ]
    },
    {
     "data": {
      "application/vnd.jupyter.widget-view+json": {
       "model_id": "5bc49e399185484798dbdf0e44e5924a",
       "version_major": 2,
       "version_minor": 0
      },
      "text/plain": [
       "  0%|          | 0/1000 [00:00<?, ?it/s]"
      ]
     },
     "metadata": {},
     "output_type": "display_data"
    },
    {
     "name": "stdout",
     "output_type": "stream",
     "text": [
      "Initialization   13\n"
     ]
    },
    {
     "data": {
      "application/vnd.jupyter.widget-view+json": {
       "model_id": "e18111fcd07b472088b9223035b6345c",
       "version_major": 2,
       "version_minor": 0
      },
      "text/plain": [
       "  0%|          | 0/1000 [00:00<?, ?it/s]"
      ]
     },
     "metadata": {},
     "output_type": "display_data"
    },
    {
     "name": "stdout",
     "output_type": "stream",
     "text": [
      "Initialization   14\n"
     ]
    },
    {
     "data": {
      "application/vnd.jupyter.widget-view+json": {
       "model_id": "e447c4b80b3646cda3216bdfad5a97f7",
       "version_major": 2,
       "version_minor": 0
      },
      "text/plain": [
       "  0%|          | 0/1000 [00:00<?, ?it/s]"
      ]
     },
     "metadata": {},
     "output_type": "display_data"
    },
    {
     "name": "stdout",
     "output_type": "stream",
     "text": [
      "Initialization   15\n"
     ]
    },
    {
     "name": "stderr",
     "output_type": "stream",
     "text": [
      "d:\\prior-ephys-dm\\prior-encoding-in-nhp-sc\\ssm\\ssm\\optimizers.py:146: UserWarning: BFGS failed with message:\n",
      "Desired error not necessarily achieved due to precision loss.\n",
      "  warn(\"{} failed with message:\\n{}\".format(method, result.message))\n"
     ]
    },
    {
     "data": {
      "application/vnd.jupyter.widget-view+json": {
       "model_id": "0d22652acac8434186a4877065886539",
       "version_major": 2,
       "version_minor": 0
      },
      "text/plain": [
       "  0%|          | 0/1000 [00:00<?, ?it/s]"
      ]
     },
     "metadata": {},
     "output_type": "display_data"
    },
    {
     "name": "stdout",
     "output_type": "stream",
     "text": [
      "Initialization   16\n"
     ]
    },
    {
     "data": {
      "application/vnd.jupyter.widget-view+json": {
       "model_id": "2d065a0fadb6481f82324a1b40fed743",
       "version_major": 2,
       "version_minor": 0
      },
      "text/plain": [
       "  0%|          | 0/1000 [00:00<?, ?it/s]"
      ]
     },
     "metadata": {},
     "output_type": "display_data"
    },
    {
     "name": "stdout",
     "output_type": "stream",
     "text": [
      "Initialization   17\n"
     ]
    },
    {
     "name": "stderr",
     "output_type": "stream",
     "text": [
      "d:\\prior-ephys-dm\\prior-encoding-in-nhp-sc\\ssm\\ssm\\optimizers.py:146: UserWarning: BFGS failed with message:\n",
      "Desired error not necessarily achieved due to precision loss.\n",
      "  warn(\"{} failed with message:\\n{}\".format(method, result.message))\n"
     ]
    },
    {
     "data": {
      "application/vnd.jupyter.widget-view+json": {
       "model_id": "a4400ec9e57041769338bec0b8ade20f",
       "version_major": 2,
       "version_minor": 0
      },
      "text/plain": [
       "  0%|          | 0/1000 [00:00<?, ?it/s]"
      ]
     },
     "metadata": {},
     "output_type": "display_data"
    },
    {
     "name": "stdout",
     "output_type": "stream",
     "text": [
      "Initialization   18\n"
     ]
    },
    {
     "data": {
      "application/vnd.jupyter.widget-view+json": {
       "model_id": "da0a4a84c33b4246b4ee16dff73c9a76",
       "version_major": 2,
       "version_minor": 0
      },
      "text/plain": [
       "  0%|          | 0/1000 [00:00<?, ?it/s]"
      ]
     },
     "metadata": {},
     "output_type": "display_data"
    },
    {
     "name": "stdout",
     "output_type": "stream",
     "text": [
      "Initialization   19\n"
     ]
    },
    {
     "data": {
      "application/vnd.jupyter.widget-view+json": {
       "model_id": "0b53512f6f8145ca835b1ea90f92eaf9",
       "version_major": 2,
       "version_minor": 0
      },
      "text/plain": [
       "  0%|          | 0/1000 [00:00<?, ?it/s]"
      ]
     },
     "metadata": {},
     "output_type": "display_data"
    },
    {
     "name": "stdout",
     "output_type": "stream",
     "text": [
      "Initialization   20\n"
     ]
    },
    {
     "name": "stderr",
     "output_type": "stream",
     "text": [
      "d:\\prior-ephys-dm\\prior-encoding-in-nhp-sc\\ssm\\ssm\\optimizers.py:146: UserWarning: BFGS failed with message:\n",
      "Desired error not necessarily achieved due to precision loss.\n",
      "  warn(\"{} failed with message:\\n{}\".format(method, result.message))\n"
     ]
    },
    {
     "data": {
      "application/vnd.jupyter.widget-view+json": {
       "model_id": "b71c13365f134338bac8ebd9a0ea4c3b",
       "version_major": 2,
       "version_minor": 0
      },
      "text/plain": [
       "  0%|          | 0/1000 [00:00<?, ?it/s]"
      ]
     },
     "metadata": {},
     "output_type": "display_data"
    },
    {
     "name": "stdout",
     "output_type": "stream",
     "text": [
      "fitting 3 states.....\n",
      "Initialization   1\n"
     ]
    },
    {
     "data": {
      "application/vnd.jupyter.widget-view+json": {
       "model_id": "2904c31941534b51ad393275a6f09ef8",
       "version_major": 2,
       "version_minor": 0
      },
      "text/plain": [
       "  0%|          | 0/1000 [00:00<?, ?it/s]"
      ]
     },
     "metadata": {},
     "output_type": "display_data"
    },
    {
     "name": "stderr",
     "output_type": "stream",
     "text": [
      "d:\\prior-ephys-dm\\prior-encoding-in-nhp-sc\\ssm\\ssm\\optimizers.py:146: UserWarning: BFGS failed with message:\n",
      "Desired error not necessarily achieved due to precision loss.\n",
      "  warn(\"{} failed with message:\\n{}\".format(method, result.message))\n",
      "d:\\prior-ephys-dm\\prior-encoding-in-nhp-sc\\ssm\\ssm\\optimizers.py:146: UserWarning: BFGS failed with message:\n",
      "Desired error not necessarily achieved due to precision loss.\n",
      "  warn(\"{} failed with message:\\n{}\".format(method, result.message))\n"
     ]
    },
    {
     "name": "stdout",
     "output_type": "stream",
     "text": [
      "Initialization   2\n"
     ]
    },
    {
     "name": "stderr",
     "output_type": "stream",
     "text": [
      "d:\\prior-ephys-dm\\prior-encoding-in-nhp-sc\\ssm\\ssm\\optimizers.py:146: UserWarning: BFGS failed with message:\n",
      "Desired error not necessarily achieved due to precision loss.\n",
      "  warn(\"{} failed with message:\\n{}\".format(method, result.message))\n"
     ]
    },
    {
     "data": {
      "application/vnd.jupyter.widget-view+json": {
       "model_id": "9ed8be195466402eb40b8a802e08fe78",
       "version_major": 2,
       "version_minor": 0
      },
      "text/plain": [
       "  0%|          | 0/1000 [00:00<?, ?it/s]"
      ]
     },
     "metadata": {},
     "output_type": "display_data"
    },
    {
     "name": "stdout",
     "output_type": "stream",
     "text": [
      "Initialization   3\n"
     ]
    },
    {
     "name": "stderr",
     "output_type": "stream",
     "text": [
      "d:\\prior-ephys-dm\\prior-encoding-in-nhp-sc\\ssm\\ssm\\optimizers.py:146: UserWarning: BFGS failed with message:\n",
      "Desired error not necessarily achieved due to precision loss.\n",
      "  warn(\"{} failed with message:\\n{}\".format(method, result.message))\n"
     ]
    },
    {
     "data": {
      "application/vnd.jupyter.widget-view+json": {
       "model_id": "c6d7e86f9013415d8cd9dc32d3ccd1bf",
       "version_major": 2,
       "version_minor": 0
      },
      "text/plain": [
       "  0%|          | 0/1000 [00:00<?, ?it/s]"
      ]
     },
     "metadata": {},
     "output_type": "display_data"
    },
    {
     "name": "stderr",
     "output_type": "stream",
     "text": [
      "d:\\prior-ephys-dm\\prior-encoding-in-nhp-sc\\ssm\\ssm\\optimizers.py:146: UserWarning: BFGS failed with message:\n",
      "Desired error not necessarily achieved due to precision loss.\n",
      "  warn(\"{} failed with message:\\n{}\".format(method, result.message))\n"
     ]
    },
    {
     "name": "stdout",
     "output_type": "stream",
     "text": [
      "Initialization   4\n"
     ]
    },
    {
     "name": "stderr",
     "output_type": "stream",
     "text": [
      "d:\\prior-ephys-dm\\prior-encoding-in-nhp-sc\\ssm\\ssm\\optimizers.py:146: UserWarning: BFGS failed with message:\n",
      "Desired error not necessarily achieved due to precision loss.\n",
      "  warn(\"{} failed with message:\\n{}\".format(method, result.message))\n"
     ]
    },
    {
     "data": {
      "application/vnd.jupyter.widget-view+json": {
       "model_id": "d5600da4020e4a2594d36e0cac6a59e7",
       "version_major": 2,
       "version_minor": 0
      },
      "text/plain": [
       "  0%|          | 0/1000 [00:00<?, ?it/s]"
      ]
     },
     "metadata": {},
     "output_type": "display_data"
    },
    {
     "name": "stderr",
     "output_type": "stream",
     "text": [
      "d:\\prior-ephys-dm\\prior-encoding-in-nhp-sc\\ssm\\ssm\\optimizers.py:146: UserWarning: BFGS failed with message:\n",
      "Desired error not necessarily achieved due to precision loss.\n",
      "  warn(\"{} failed with message:\\n{}\".format(method, result.message))\n",
      "d:\\prior-ephys-dm\\prior-encoding-in-nhp-sc\\ssm\\ssm\\optimizers.py:146: UserWarning: BFGS failed with message:\n",
      "Desired error not necessarily achieved due to precision loss.\n",
      "  warn(\"{} failed with message:\\n{}\".format(method, result.message))\n",
      "d:\\prior-ephys-dm\\prior-encoding-in-nhp-sc\\ssm\\ssm\\optimizers.py:146: UserWarning: BFGS failed with message:\n",
      "Desired error not necessarily achieved due to precision loss.\n",
      "  warn(\"{} failed with message:\\n{}\".format(method, result.message))\n"
     ]
    },
    {
     "name": "stdout",
     "output_type": "stream",
     "text": [
      "Initialization   5\n"
     ]
    },
    {
     "name": "stderr",
     "output_type": "stream",
     "text": [
      "d:\\prior-ephys-dm\\prior-encoding-in-nhp-sc\\ssm\\ssm\\optimizers.py:146: UserWarning: BFGS failed with message:\n",
      "Desired error not necessarily achieved due to precision loss.\n",
      "  warn(\"{} failed with message:\\n{}\".format(method, result.message))\n"
     ]
    },
    {
     "data": {
      "application/vnd.jupyter.widget-view+json": {
       "model_id": "c4028002392b4fd481a664b555506980",
       "version_major": 2,
       "version_minor": 0
      },
      "text/plain": [
       "  0%|          | 0/1000 [00:00<?, ?it/s]"
      ]
     },
     "metadata": {},
     "output_type": "display_data"
    },
    {
     "name": "stdout",
     "output_type": "stream",
     "text": [
      "Initialization   6\n"
     ]
    },
    {
     "data": {
      "application/vnd.jupyter.widget-view+json": {
       "model_id": "9b18b72d68fe45a5884100f0c115b07b",
       "version_major": 2,
       "version_minor": 0
      },
      "text/plain": [
       "  0%|          | 0/1000 [00:00<?, ?it/s]"
      ]
     },
     "metadata": {},
     "output_type": "display_data"
    },
    {
     "name": "stdout",
     "output_type": "stream",
     "text": [
      "Initialization   7\n"
     ]
    },
    {
     "data": {
      "application/vnd.jupyter.widget-view+json": {
       "model_id": "2943bc7a428044b28bf7962a76a32257",
       "version_major": 2,
       "version_minor": 0
      },
      "text/plain": [
       "  0%|          | 0/1000 [00:00<?, ?it/s]"
      ]
     },
     "metadata": {},
     "output_type": "display_data"
    },
    {
     "name": "stdout",
     "output_type": "stream",
     "text": [
      "Initialization   8\n"
     ]
    },
    {
     "name": "stderr",
     "output_type": "stream",
     "text": [
      "d:\\prior-ephys-dm\\prior-encoding-in-nhp-sc\\ssm\\ssm\\optimizers.py:146: UserWarning: BFGS failed with message:\n",
      "Desired error not necessarily achieved due to precision loss.\n",
      "  warn(\"{} failed with message:\\n{}\".format(method, result.message))\n"
     ]
    },
    {
     "data": {
      "application/vnd.jupyter.widget-view+json": {
       "model_id": "db7d6edcf2e54c0bbc7c445cacdfc65a",
       "version_major": 2,
       "version_minor": 0
      },
      "text/plain": [
       "  0%|          | 0/1000 [00:00<?, ?it/s]"
      ]
     },
     "metadata": {},
     "output_type": "display_data"
    },
    {
     "name": "stderr",
     "output_type": "stream",
     "text": [
      "d:\\prior-ephys-dm\\prior-encoding-in-nhp-sc\\ssm\\ssm\\optimizers.py:146: UserWarning: BFGS failed with message:\n",
      "Desired error not necessarily achieved due to precision loss.\n",
      "  warn(\"{} failed with message:\\n{}\".format(method, result.message))\n",
      "d:\\prior-ephys-dm\\prior-encoding-in-nhp-sc\\ssm\\ssm\\optimizers.py:146: UserWarning: BFGS failed with message:\n",
      "Desired error not necessarily achieved due to precision loss.\n",
      "  warn(\"{} failed with message:\\n{}\".format(method, result.message))\n",
      "d:\\prior-ephys-dm\\prior-encoding-in-nhp-sc\\ssm\\ssm\\optimizers.py:146: UserWarning: BFGS failed with message:\n",
      "Desired error not necessarily achieved due to precision loss.\n",
      "  warn(\"{} failed with message:\\n{}\".format(method, result.message))\n"
     ]
    },
    {
     "name": "stdout",
     "output_type": "stream",
     "text": [
      "Initialization   9\n"
     ]
    },
    {
     "name": "stderr",
     "output_type": "stream",
     "text": [
      "d:\\prior-ephys-dm\\prior-encoding-in-nhp-sc\\ssm\\ssm\\optimizers.py:146: UserWarning: BFGS failed with message:\n",
      "Desired error not necessarily achieved due to precision loss.\n",
      "  warn(\"{} failed with message:\\n{}\".format(method, result.message))\n"
     ]
    },
    {
     "data": {
      "application/vnd.jupyter.widget-view+json": {
       "model_id": "dd0b0e5f7730464e9864a28d8cf57a55",
       "version_major": 2,
       "version_minor": 0
      },
      "text/plain": [
       "  0%|          | 0/1000 [00:00<?, ?it/s]"
      ]
     },
     "metadata": {},
     "output_type": "display_data"
    },
    {
     "name": "stderr",
     "output_type": "stream",
     "text": [
      "d:\\prior-ephys-dm\\prior-encoding-in-nhp-sc\\ssm\\ssm\\optimizers.py:146: UserWarning: BFGS failed with message:\n",
      "Desired error not necessarily achieved due to precision loss.\n",
      "  warn(\"{} failed with message:\\n{}\".format(method, result.message))\n",
      "d:\\prior-ephys-dm\\prior-encoding-in-nhp-sc\\ssm\\ssm\\optimizers.py:146: UserWarning: BFGS failed with message:\n",
      "Desired error not necessarily achieved due to precision loss.\n",
      "  warn(\"{} failed with message:\\n{}\".format(method, result.message))\n",
      "d:\\prior-ephys-dm\\prior-encoding-in-nhp-sc\\ssm\\ssm\\optimizers.py:146: UserWarning: BFGS failed with message:\n",
      "Desired error not necessarily achieved due to precision loss.\n",
      "  warn(\"{} failed with message:\\n{}\".format(method, result.message))\n"
     ]
    },
    {
     "name": "stdout",
     "output_type": "stream",
     "text": [
      "Initialization   10\n"
     ]
    },
    {
     "data": {
      "application/vnd.jupyter.widget-view+json": {
       "model_id": "0d0d9d600a2b498dacb73ae143a7f054",
       "version_major": 2,
       "version_minor": 0
      },
      "text/plain": [
       "  0%|          | 0/1000 [00:00<?, ?it/s]"
      ]
     },
     "metadata": {},
     "output_type": "display_data"
    },
    {
     "name": "stderr",
     "output_type": "stream",
     "text": [
      "d:\\prior-ephys-dm\\prior-encoding-in-nhp-sc\\ssm\\ssm\\optimizers.py:146: UserWarning: BFGS failed with message:\n",
      "Desired error not necessarily achieved due to precision loss.\n",
      "  warn(\"{} failed with message:\\n{}\".format(method, result.message))\n",
      "d:\\prior-ephys-dm\\prior-encoding-in-nhp-sc\\ssm\\ssm\\optimizers.py:146: UserWarning: BFGS failed with message:\n",
      "Desired error not necessarily achieved due to precision loss.\n",
      "  warn(\"{} failed with message:\\n{}\".format(method, result.message))\n",
      "d:\\prior-ephys-dm\\prior-encoding-in-nhp-sc\\ssm\\ssm\\optimizers.py:146: UserWarning: BFGS failed with message:\n",
      "Desired error not necessarily achieved due to precision loss.\n",
      "  warn(\"{} failed with message:\\n{}\".format(method, result.message))\n"
     ]
    },
    {
     "name": "stdout",
     "output_type": "stream",
     "text": [
      "Initialization   11\n"
     ]
    },
    {
     "data": {
      "application/vnd.jupyter.widget-view+json": {
       "model_id": "b2ff15fb07534cb2a71fee497d9d8b68",
       "version_major": 2,
       "version_minor": 0
      },
      "text/plain": [
       "  0%|          | 0/1000 [00:00<?, ?it/s]"
      ]
     },
     "metadata": {},
     "output_type": "display_data"
    },
    {
     "name": "stdout",
     "output_type": "stream",
     "text": [
      "Initialization   12\n"
     ]
    },
    {
     "data": {
      "application/vnd.jupyter.widget-view+json": {
       "model_id": "082c0f5f61ee44c4829335b71b2cf051",
       "version_major": 2,
       "version_minor": 0
      },
      "text/plain": [
       "  0%|          | 0/1000 [00:00<?, ?it/s]"
      ]
     },
     "metadata": {},
     "output_type": "display_data"
    },
    {
     "name": "stdout",
     "output_type": "stream",
     "text": [
      "Initialization   13\n"
     ]
    },
    {
     "data": {
      "application/vnd.jupyter.widget-view+json": {
       "model_id": "c3baec9dd2ab42be9791a117344d6144",
       "version_major": 2,
       "version_minor": 0
      },
      "text/plain": [
       "  0%|          | 0/1000 [00:00<?, ?it/s]"
      ]
     },
     "metadata": {},
     "output_type": "display_data"
    },
    {
     "name": "stdout",
     "output_type": "stream",
     "text": [
      "Initialization   14\n"
     ]
    },
    {
     "data": {
      "application/vnd.jupyter.widget-view+json": {
       "model_id": "ff01e59fd30f4aa28341388f79c6ec7c",
       "version_major": 2,
       "version_minor": 0
      },
      "text/plain": [
       "  0%|          | 0/1000 [00:00<?, ?it/s]"
      ]
     },
     "metadata": {},
     "output_type": "display_data"
    },
    {
     "name": "stdout",
     "output_type": "stream",
     "text": [
      "Initialization   15\n"
     ]
    },
    {
     "name": "stderr",
     "output_type": "stream",
     "text": [
      "d:\\prior-ephys-dm\\prior-encoding-in-nhp-sc\\ssm\\ssm\\optimizers.py:146: UserWarning: BFGS failed with message:\n",
      "Desired error not necessarily achieved due to precision loss.\n",
      "  warn(\"{} failed with message:\\n{}\".format(method, result.message))\n"
     ]
    },
    {
     "data": {
      "application/vnd.jupyter.widget-view+json": {
       "model_id": "36a0962fc16940898e9ac661fe2c4fd7",
       "version_major": 2,
       "version_minor": 0
      },
      "text/plain": [
       "  0%|          | 0/1000 [00:00<?, ?it/s]"
      ]
     },
     "metadata": {},
     "output_type": "display_data"
    },
    {
     "name": "stderr",
     "output_type": "stream",
     "text": [
      "d:\\prior-ephys-dm\\prior-encoding-in-nhp-sc\\ssm\\ssm\\optimizers.py:146: UserWarning: BFGS failed with message:\n",
      "Desired error not necessarily achieved due to precision loss.\n",
      "  warn(\"{} failed with message:\\n{}\".format(method, result.message))\n"
     ]
    },
    {
     "name": "stdout",
     "output_type": "stream",
     "text": [
      "Initialization   16\n"
     ]
    },
    {
     "name": "stderr",
     "output_type": "stream",
     "text": [
      "d:\\prior-ephys-dm\\prior-encoding-in-nhp-sc\\ssm\\ssm\\optimizers.py:146: UserWarning: BFGS failed with message:\n",
      "Desired error not necessarily achieved due to precision loss.\n",
      "  warn(\"{} failed with message:\\n{}\".format(method, result.message))\n"
     ]
    },
    {
     "data": {
      "application/vnd.jupyter.widget-view+json": {
       "model_id": "9fdbac9f31ff4a04a20bfbbe765f547d",
       "version_major": 2,
       "version_minor": 0
      },
      "text/plain": [
       "  0%|          | 0/1000 [00:00<?, ?it/s]"
      ]
     },
     "metadata": {},
     "output_type": "display_data"
    },
    {
     "name": "stderr",
     "output_type": "stream",
     "text": [
      "d:\\prior-ephys-dm\\prior-encoding-in-nhp-sc\\ssm\\ssm\\optimizers.py:146: UserWarning: BFGS failed with message:\n",
      "Desired error not necessarily achieved due to precision loss.\n",
      "  warn(\"{} failed with message:\\n{}\".format(method, result.message))\n",
      "d:\\prior-ephys-dm\\prior-encoding-in-nhp-sc\\ssm\\ssm\\optimizers.py:146: UserWarning: BFGS failed with message:\n",
      "Desired error not necessarily achieved due to precision loss.\n",
      "  warn(\"{} failed with message:\\n{}\".format(method, result.message))\n"
     ]
    },
    {
     "name": "stdout",
     "output_type": "stream",
     "text": [
      "Initialization   17\n"
     ]
    },
    {
     "name": "stderr",
     "output_type": "stream",
     "text": [
      "d:\\prior-ephys-dm\\prior-encoding-in-nhp-sc\\ssm\\ssm\\optimizers.py:146: UserWarning: BFGS failed with message:\n",
      "Desired error not necessarily achieved due to precision loss.\n",
      "  warn(\"{} failed with message:\\n{}\".format(method, result.message))\n"
     ]
    },
    {
     "data": {
      "application/vnd.jupyter.widget-view+json": {
       "model_id": "fac4c8fb15e848e4b59036ba71384fce",
       "version_major": 2,
       "version_minor": 0
      },
      "text/plain": [
       "  0%|          | 0/1000 [00:00<?, ?it/s]"
      ]
     },
     "metadata": {},
     "output_type": "display_data"
    },
    {
     "name": "stderr",
     "output_type": "stream",
     "text": [
      "d:\\prior-ephys-dm\\prior-encoding-in-nhp-sc\\ssm\\ssm\\optimizers.py:146: UserWarning: BFGS failed with message:\n",
      "Desired error not necessarily achieved due to precision loss.\n",
      "  warn(\"{} failed with message:\\n{}\".format(method, result.message))\n"
     ]
    },
    {
     "name": "stdout",
     "output_type": "stream",
     "text": [
      "Initialization   18\n"
     ]
    },
    {
     "name": "stderr",
     "output_type": "stream",
     "text": [
      "d:\\prior-ephys-dm\\prior-encoding-in-nhp-sc\\ssm\\ssm\\optimizers.py:146: UserWarning: BFGS failed with message:\n",
      "Desired error not necessarily achieved due to precision loss.\n",
      "  warn(\"{} failed with message:\\n{}\".format(method, result.message))\n"
     ]
    },
    {
     "data": {
      "application/vnd.jupyter.widget-view+json": {
       "model_id": "eea58f70d5f7411e811b544b0941255f",
       "version_major": 2,
       "version_minor": 0
      },
      "text/plain": [
       "  0%|          | 0/1000 [00:00<?, ?it/s]"
      ]
     },
     "metadata": {},
     "output_type": "display_data"
    },
    {
     "name": "stdout",
     "output_type": "stream",
     "text": [
      "Initialization   19\n"
     ]
    },
    {
     "data": {
      "application/vnd.jupyter.widget-view+json": {
       "model_id": "4361f4dd1b694485954472b2d6c07989",
       "version_major": 2,
       "version_minor": 0
      },
      "text/plain": [
       "  0%|          | 0/1000 [00:00<?, ?it/s]"
      ]
     },
     "metadata": {},
     "output_type": "display_data"
    },
    {
     "name": "stderr",
     "output_type": "stream",
     "text": [
      "d:\\prior-ephys-dm\\prior-encoding-in-nhp-sc\\ssm\\ssm\\optimizers.py:146: UserWarning: BFGS failed with message:\n",
      "Desired error not necessarily achieved due to precision loss.\n",
      "  warn(\"{} failed with message:\\n{}\".format(method, result.message))\n",
      "d:\\prior-ephys-dm\\prior-encoding-in-nhp-sc\\ssm\\ssm\\optimizers.py:146: UserWarning: BFGS failed with message:\n",
      "Desired error not necessarily achieved due to precision loss.\n",
      "  warn(\"{} failed with message:\\n{}\".format(method, result.message))\n"
     ]
    },
    {
     "name": "stdout",
     "output_type": "stream",
     "text": [
      "Initialization   20\n"
     ]
    },
    {
     "name": "stderr",
     "output_type": "stream",
     "text": [
      "d:\\prior-ephys-dm\\prior-encoding-in-nhp-sc\\ssm\\ssm\\optimizers.py:146: UserWarning: BFGS failed with message:\n",
      "Desired error not necessarily achieved due to precision loss.\n",
      "  warn(\"{} failed with message:\\n{}\".format(method, result.message))\n"
     ]
    },
    {
     "data": {
      "application/vnd.jupyter.widget-view+json": {
       "model_id": "765e87ad73614c4fa94beeb1ed2eae4e",
       "version_major": 2,
       "version_minor": 0
      },
      "text/plain": [
       "  0%|          | 0/1000 [00:00<?, ?it/s]"
      ]
     },
     "metadata": {},
     "output_type": "display_data"
    },
    {
     "name": "stderr",
     "output_type": "stream",
     "text": [
      "d:\\prior-ephys-dm\\prior-encoding-in-nhp-sc\\ssm\\ssm\\optimizers.py:146: UserWarning: BFGS failed with message:\n",
      "Desired error not necessarily achieved due to precision loss.\n",
      "  warn(\"{} failed with message:\\n{}\".format(method, result.message))\n",
      "d:\\prior-ephys-dm\\prior-encoding-in-nhp-sc\\ssm\\ssm\\optimizers.py:146: UserWarning: BFGS failed with message:\n",
      "Desired error not necessarily achieved due to precision loss.\n",
      "  warn(\"{} failed with message:\\n{}\".format(method, result.message))\n"
     ]
    },
    {
     "name": "stdout",
     "output_type": "stream",
     "text": [
      "fitting 4 states.....\n",
      "Initialization   1\n"
     ]
    },
    {
     "name": "stderr",
     "output_type": "stream",
     "text": [
      "d:\\prior-ephys-dm\\prior-encoding-in-nhp-sc\\ssm\\ssm\\optimizers.py:146: UserWarning: BFGS failed with message:\n",
      "Desired error not necessarily achieved due to precision loss.\n",
      "  warn(\"{} failed with message:\\n{}\".format(method, result.message))\n"
     ]
    },
    {
     "data": {
      "application/vnd.jupyter.widget-view+json": {
       "model_id": "c7cc87a1941d4eceb73edde018bf66bb",
       "version_major": 2,
       "version_minor": 0
      },
      "text/plain": [
       "  0%|          | 0/1000 [00:00<?, ?it/s]"
      ]
     },
     "metadata": {},
     "output_type": "display_data"
    },
    {
     "name": "stdout",
     "output_type": "stream",
     "text": [
      "Initialization   2\n"
     ]
    },
    {
     "data": {
      "application/vnd.jupyter.widget-view+json": {
       "model_id": "6d2b8ff6c83f4a2cad7aaa9e3f112dc4",
       "version_major": 2,
       "version_minor": 0
      },
      "text/plain": [
       "  0%|          | 0/1000 [00:00<?, ?it/s]"
      ]
     },
     "metadata": {},
     "output_type": "display_data"
    },
    {
     "name": "stdout",
     "output_type": "stream",
     "text": [
      "Initialization   3\n"
     ]
    },
    {
     "data": {
      "application/vnd.jupyter.widget-view+json": {
       "model_id": "c672e6e0769040a3a8b8d51a2f306ce3",
       "version_major": 2,
       "version_minor": 0
      },
      "text/plain": [
       "  0%|          | 0/1000 [00:00<?, ?it/s]"
      ]
     },
     "metadata": {},
     "output_type": "display_data"
    },
    {
     "name": "stdout",
     "output_type": "stream",
     "text": [
      "Initialization   4\n"
     ]
    },
    {
     "data": {
      "application/vnd.jupyter.widget-view+json": {
       "model_id": "819daa261ae34a4ba547086e1ec8c413",
       "version_major": 2,
       "version_minor": 0
      },
      "text/plain": [
       "  0%|          | 0/1000 [00:00<?, ?it/s]"
      ]
     },
     "metadata": {},
     "output_type": "display_data"
    },
    {
     "name": "stdout",
     "output_type": "stream",
     "text": [
      "Initialization   5\n"
     ]
    },
    {
     "data": {
      "application/vnd.jupyter.widget-view+json": {
       "model_id": "9a6b21839d824a188ed24182641e30b6",
       "version_major": 2,
       "version_minor": 0
      },
      "text/plain": [
       "  0%|          | 0/1000 [00:00<?, ?it/s]"
      ]
     },
     "metadata": {},
     "output_type": "display_data"
    },
    {
     "name": "stdout",
     "output_type": "stream",
     "text": [
      "Initialization   6\n"
     ]
    },
    {
     "data": {
      "application/vnd.jupyter.widget-view+json": {
       "model_id": "205bef9b20a745d593b14407c6fd306d",
       "version_major": 2,
       "version_minor": 0
      },
      "text/plain": [
       "  0%|          | 0/1000 [00:00<?, ?it/s]"
      ]
     },
     "metadata": {},
     "output_type": "display_data"
    },
    {
     "name": "stdout",
     "output_type": "stream",
     "text": [
      "Initialization   7\n"
     ]
    },
    {
     "data": {
      "application/vnd.jupyter.widget-view+json": {
       "model_id": "64c9c61826844720adede9d1886e58a2",
       "version_major": 2,
       "version_minor": 0
      },
      "text/plain": [
       "  0%|          | 0/1000 [00:00<?, ?it/s]"
      ]
     },
     "metadata": {},
     "output_type": "display_data"
    },
    {
     "name": "stdout",
     "output_type": "stream",
     "text": [
      "Initialization   8\n"
     ]
    },
    {
     "data": {
      "application/vnd.jupyter.widget-view+json": {
       "model_id": "35710ffb6ebf453e8f107b3f782d5a96",
       "version_major": 2,
       "version_minor": 0
      },
      "text/plain": [
       "  0%|          | 0/1000 [00:00<?, ?it/s]"
      ]
     },
     "metadata": {},
     "output_type": "display_data"
    },
    {
     "name": "stdout",
     "output_type": "stream",
     "text": [
      "Initialization   9\n"
     ]
    },
    {
     "data": {
      "application/vnd.jupyter.widget-view+json": {
       "model_id": "e457245753334a7fa6a39eb0ca86134d",
       "version_major": 2,
       "version_minor": 0
      },
      "text/plain": [
       "  0%|          | 0/1000 [00:00<?, ?it/s]"
      ]
     },
     "metadata": {},
     "output_type": "display_data"
    },
    {
     "name": "stdout",
     "output_type": "stream",
     "text": [
      "Initialization   10\n"
     ]
    },
    {
     "data": {
      "application/vnd.jupyter.widget-view+json": {
       "model_id": "29b1d34a22db4da89a49412cdb419ea9",
       "version_major": 2,
       "version_minor": 0
      },
      "text/plain": [
       "  0%|          | 0/1000 [00:00<?, ?it/s]"
      ]
     },
     "metadata": {},
     "output_type": "display_data"
    },
    {
     "name": "stderr",
     "output_type": "stream",
     "text": [
      "d:\\prior-ephys-dm\\prior-encoding-in-nhp-sc\\ssm\\ssm\\optimizers.py:146: UserWarning: BFGS failed with message:\n",
      "Desired error not necessarily achieved due to precision loss.\n",
      "  warn(\"{} failed with message:\\n{}\".format(method, result.message))\n",
      "d:\\prior-ephys-dm\\prior-encoding-in-nhp-sc\\ssm\\ssm\\optimizers.py:146: UserWarning: BFGS failed with message:\n",
      "Desired error not necessarily achieved due to precision loss.\n",
      "  warn(\"{} failed with message:\\n{}\".format(method, result.message))\n"
     ]
    },
    {
     "name": "stdout",
     "output_type": "stream",
     "text": [
      "Initialization   11\n"
     ]
    },
    {
     "data": {
      "application/vnd.jupyter.widget-view+json": {
       "model_id": "45df4b5d2863487cb9aaf4d98b191657",
       "version_major": 2,
       "version_minor": 0
      },
      "text/plain": [
       "  0%|          | 0/1000 [00:00<?, ?it/s]"
      ]
     },
     "metadata": {},
     "output_type": "display_data"
    },
    {
     "name": "stderr",
     "output_type": "stream",
     "text": [
      "d:\\prior-ephys-dm\\prior-encoding-in-nhp-sc\\ssm\\ssm\\optimizers.py:146: UserWarning: BFGS failed with message:\n",
      "Desired error not necessarily achieved due to precision loss.\n",
      "  warn(\"{} failed with message:\\n{}\".format(method, result.message))\n",
      "d:\\prior-ephys-dm\\prior-encoding-in-nhp-sc\\ssm\\ssm\\optimizers.py:146: UserWarning: BFGS failed with message:\n",
      "Desired error not necessarily achieved due to precision loss.\n",
      "  warn(\"{} failed with message:\\n{}\".format(method, result.message))\n",
      "d:\\prior-ephys-dm\\prior-encoding-in-nhp-sc\\ssm\\ssm\\optimizers.py:146: UserWarning: BFGS failed with message:\n",
      "Desired error not necessarily achieved due to precision loss.\n",
      "  warn(\"{} failed with message:\\n{}\".format(method, result.message))\n",
      "d:\\prior-ephys-dm\\prior-encoding-in-nhp-sc\\ssm\\ssm\\optimizers.py:146: UserWarning: BFGS failed with message:\n",
      "Desired error not necessarily achieved due to precision loss.\n",
      "  warn(\"{} failed with message:\\n{}\".format(method, result.message))\n",
      "d:\\prior-ephys-dm\\prior-encoding-in-nhp-sc\\ssm\\ssm\\optimizers.py:146: UserWarning: BFGS failed with message:\n",
      "Desired error not necessarily achieved due to precision loss.\n",
      "  warn(\"{} failed with message:\\n{}\".format(method, result.message))\n",
      "d:\\prior-ephys-dm\\prior-encoding-in-nhp-sc\\ssm\\ssm\\optimizers.py:146: UserWarning: BFGS failed with message:\n",
      "Desired error not necessarily achieved due to precision loss.\n",
      "  warn(\"{} failed with message:\\n{}\".format(method, result.message))\n",
      "d:\\prior-ephys-dm\\prior-encoding-in-nhp-sc\\ssm\\ssm\\optimizers.py:146: UserWarning: BFGS failed with message:\n",
      "Desired error not necessarily achieved due to precision loss.\n",
      "  warn(\"{} failed with message:\\n{}\".format(method, result.message))\n",
      "d:\\prior-ephys-dm\\prior-encoding-in-nhp-sc\\ssm\\ssm\\optimizers.py:146: UserWarning: BFGS failed with message:\n",
      "Desired error not necessarily achieved due to precision loss.\n",
      "  warn(\"{} failed with message:\\n{}\".format(method, result.message))\n",
      "d:\\prior-ephys-dm\\prior-encoding-in-nhp-sc\\ssm\\ssm\\optimizers.py:146: UserWarning: BFGS failed with message:\n",
      "Desired error not necessarily achieved due to precision loss.\n",
      "  warn(\"{} failed with message:\\n{}\".format(method, result.message))\n",
      "d:\\prior-ephys-dm\\prior-encoding-in-nhp-sc\\ssm\\ssm\\optimizers.py:146: UserWarning: BFGS failed with message:\n",
      "Desired error not necessarily achieved due to precision loss.\n",
      "  warn(\"{} failed with message:\\n{}\".format(method, result.message))\n",
      "d:\\prior-ephys-dm\\prior-encoding-in-nhp-sc\\ssm\\ssm\\optimizers.py:146: UserWarning: BFGS failed with message:\n",
      "Desired error not necessarily achieved due to precision loss.\n",
      "  warn(\"{} failed with message:\\n{}\".format(method, result.message))\n",
      "d:\\prior-ephys-dm\\prior-encoding-in-nhp-sc\\ssm\\ssm\\optimizers.py:146: UserWarning: BFGS failed with message:\n",
      "Desired error not necessarily achieved due to precision loss.\n",
      "  warn(\"{} failed with message:\\n{}\".format(method, result.message))\n",
      "d:\\prior-ephys-dm\\prior-encoding-in-nhp-sc\\ssm\\ssm\\optimizers.py:146: UserWarning: BFGS failed with message:\n",
      "Desired error not necessarily achieved due to precision loss.\n",
      "  warn(\"{} failed with message:\\n{}\".format(method, result.message))\n",
      "d:\\prior-ephys-dm\\prior-encoding-in-nhp-sc\\ssm\\ssm\\optimizers.py:146: UserWarning: BFGS failed with message:\n",
      "Desired error not necessarily achieved due to precision loss.\n",
      "  warn(\"{} failed with message:\\n{}\".format(method, result.message))\n",
      "d:\\prior-ephys-dm\\prior-encoding-in-nhp-sc\\ssm\\ssm\\optimizers.py:146: UserWarning: BFGS failed with message:\n",
      "Desired error not necessarily achieved due to precision loss.\n",
      "  warn(\"{} failed with message:\\n{}\".format(method, result.message))\n",
      "d:\\prior-ephys-dm\\prior-encoding-in-nhp-sc\\ssm\\ssm\\optimizers.py:146: UserWarning: BFGS failed with message:\n",
      "Desired error not necessarily achieved due to precision loss.\n",
      "  warn(\"{} failed with message:\\n{}\".format(method, result.message))\n",
      "d:\\prior-ephys-dm\\prior-encoding-in-nhp-sc\\ssm\\ssm\\optimizers.py:146: UserWarning: BFGS failed with message:\n",
      "Desired error not necessarily achieved due to precision loss.\n",
      "  warn(\"{} failed with message:\\n{}\".format(method, result.message))\n",
      "d:\\prior-ephys-dm\\prior-encoding-in-nhp-sc\\ssm\\ssm\\optimizers.py:146: UserWarning: BFGS failed with message:\n",
      "Desired error not necessarily achieved due to precision loss.\n",
      "  warn(\"{} failed with message:\\n{}\".format(method, result.message))\n",
      "d:\\prior-ephys-dm\\prior-encoding-in-nhp-sc\\ssm\\ssm\\optimizers.py:146: UserWarning: BFGS failed with message:\n",
      "Desired error not necessarily achieved due to precision loss.\n",
      "  warn(\"{} failed with message:\\n{}\".format(method, result.message))\n",
      "d:\\prior-ephys-dm\\prior-encoding-in-nhp-sc\\ssm\\ssm\\optimizers.py:146: UserWarning: BFGS failed with message:\n",
      "Desired error not necessarily achieved due to precision loss.\n",
      "  warn(\"{} failed with message:\\n{}\".format(method, result.message))\n",
      "d:\\prior-ephys-dm\\prior-encoding-in-nhp-sc\\ssm\\ssm\\optimizers.py:146: UserWarning: BFGS failed with message:\n",
      "Desired error not necessarily achieved due to precision loss.\n",
      "  warn(\"{} failed with message:\\n{}\".format(method, result.message))\n",
      "d:\\prior-ephys-dm\\prior-encoding-in-nhp-sc\\ssm\\ssm\\optimizers.py:146: UserWarning: BFGS failed with message:\n",
      "Desired error not necessarily achieved due to precision loss.\n",
      "  warn(\"{} failed with message:\\n{}\".format(method, result.message))\n",
      "d:\\prior-ephys-dm\\prior-encoding-in-nhp-sc\\ssm\\ssm\\optimizers.py:146: UserWarning: BFGS failed with message:\n",
      "Desired error not necessarily achieved due to precision loss.\n",
      "  warn(\"{} failed with message:\\n{}\".format(method, result.message))\n",
      "d:\\prior-ephys-dm\\prior-encoding-in-nhp-sc\\ssm\\ssm\\optimizers.py:146: UserWarning: BFGS failed with message:\n",
      "Desired error not necessarily achieved due to precision loss.\n",
      "  warn(\"{} failed with message:\\n{}\".format(method, result.message))\n",
      "d:\\prior-ephys-dm\\prior-encoding-in-nhp-sc\\ssm\\ssm\\optimizers.py:146: UserWarning: BFGS failed with message:\n",
      "Desired error not necessarily achieved due to precision loss.\n",
      "  warn(\"{} failed with message:\\n{}\".format(method, result.message))\n",
      "d:\\prior-ephys-dm\\prior-encoding-in-nhp-sc\\ssm\\ssm\\optimizers.py:146: UserWarning: BFGS failed with message:\n",
      "Desired error not necessarily achieved due to precision loss.\n",
      "  warn(\"{} failed with message:\\n{}\".format(method, result.message))\n",
      "d:\\prior-ephys-dm\\prior-encoding-in-nhp-sc\\ssm\\ssm\\optimizers.py:146: UserWarning: BFGS failed with message:\n",
      "Desired error not necessarily achieved due to precision loss.\n",
      "  warn(\"{} failed with message:\\n{}\".format(method, result.message))\n",
      "d:\\prior-ephys-dm\\prior-encoding-in-nhp-sc\\ssm\\ssm\\optimizers.py:146: UserWarning: BFGS failed with message:\n",
      "Desired error not necessarily achieved due to precision loss.\n",
      "  warn(\"{} failed with message:\\n{}\".format(method, result.message))\n",
      "d:\\prior-ephys-dm\\prior-encoding-in-nhp-sc\\ssm\\ssm\\optimizers.py:146: UserWarning: BFGS failed with message:\n",
      "Desired error not necessarily achieved due to precision loss.\n",
      "  warn(\"{} failed with message:\\n{}\".format(method, result.message))\n",
      "d:\\prior-ephys-dm\\prior-encoding-in-nhp-sc\\ssm\\ssm\\optimizers.py:146: UserWarning: BFGS failed with message:\n",
      "Desired error not necessarily achieved due to precision loss.\n",
      "  warn(\"{} failed with message:\\n{}\".format(method, result.message))\n",
      "d:\\prior-ephys-dm\\prior-encoding-in-nhp-sc\\ssm\\ssm\\optimizers.py:146: UserWarning: BFGS failed with message:\n",
      "Desired error not necessarily achieved due to precision loss.\n",
      "  warn(\"{} failed with message:\\n{}\".format(method, result.message))\n",
      "d:\\prior-ephys-dm\\prior-encoding-in-nhp-sc\\ssm\\ssm\\optimizers.py:146: UserWarning: BFGS failed with message:\n",
      "Desired error not necessarily achieved due to precision loss.\n",
      "  warn(\"{} failed with message:\\n{}\".format(method, result.message))\n",
      "d:\\prior-ephys-dm\\prior-encoding-in-nhp-sc\\ssm\\ssm\\optimizers.py:146: UserWarning: BFGS failed with message:\n",
      "Desired error not necessarily achieved due to precision loss.\n",
      "  warn(\"{} failed with message:\\n{}\".format(method, result.message))\n",
      "d:\\prior-ephys-dm\\prior-encoding-in-nhp-sc\\ssm\\ssm\\optimizers.py:146: UserWarning: BFGS failed with message:\n",
      "Desired error not necessarily achieved due to precision loss.\n",
      "  warn(\"{} failed with message:\\n{}\".format(method, result.message))\n",
      "d:\\prior-ephys-dm\\prior-encoding-in-nhp-sc\\ssm\\ssm\\optimizers.py:146: UserWarning: BFGS failed with message:\n",
      "Desired error not necessarily achieved due to precision loss.\n",
      "  warn(\"{} failed with message:\\n{}\".format(method, result.message))\n",
      "d:\\prior-ephys-dm\\prior-encoding-in-nhp-sc\\ssm\\ssm\\optimizers.py:146: UserWarning: BFGS failed with message:\n",
      "Desired error not necessarily achieved due to precision loss.\n",
      "  warn(\"{} failed with message:\\n{}\".format(method, result.message))\n",
      "d:\\prior-ephys-dm\\prior-encoding-in-nhp-sc\\ssm\\ssm\\optimizers.py:146: UserWarning: BFGS failed with message:\n",
      "Desired error not necessarily achieved due to precision loss.\n",
      "  warn(\"{} failed with message:\\n{}\".format(method, result.message))\n",
      "d:\\prior-ephys-dm\\prior-encoding-in-nhp-sc\\ssm\\ssm\\optimizers.py:146: UserWarning: BFGS failed with message:\n",
      "Desired error not necessarily achieved due to precision loss.\n",
      "  warn(\"{} failed with message:\\n{}\".format(method, result.message))\n",
      "d:\\prior-ephys-dm\\prior-encoding-in-nhp-sc\\ssm\\ssm\\optimizers.py:146: UserWarning: BFGS failed with message:\n",
      "Desired error not necessarily achieved due to precision loss.\n",
      "  warn(\"{} failed with message:\\n{}\".format(method, result.message))\n",
      "d:\\prior-ephys-dm\\prior-encoding-in-nhp-sc\\ssm\\ssm\\optimizers.py:146: UserWarning: BFGS failed with message:\n",
      "Desired error not necessarily achieved due to precision loss.\n",
      "  warn(\"{} failed with message:\\n{}\".format(method, result.message))\n",
      "d:\\prior-ephys-dm\\prior-encoding-in-nhp-sc\\ssm\\ssm\\optimizers.py:146: UserWarning: BFGS failed with message:\n",
      "Desired error not necessarily achieved due to precision loss.\n",
      "  warn(\"{} failed with message:\\n{}\".format(method, result.message))\n",
      "d:\\prior-ephys-dm\\prior-encoding-in-nhp-sc\\ssm\\ssm\\optimizers.py:146: UserWarning: BFGS failed with message:\n",
      "Desired error not necessarily achieved due to precision loss.\n",
      "  warn(\"{} failed with message:\\n{}\".format(method, result.message))\n",
      "d:\\prior-ephys-dm\\prior-encoding-in-nhp-sc\\ssm\\ssm\\optimizers.py:146: UserWarning: BFGS failed with message:\n",
      "Desired error not necessarily achieved due to precision loss.\n",
      "  warn(\"{} failed with message:\\n{}\".format(method, result.message))\n",
      "d:\\prior-ephys-dm\\prior-encoding-in-nhp-sc\\ssm\\ssm\\optimizers.py:146: UserWarning: BFGS failed with message:\n",
      "Desired error not necessarily achieved due to precision loss.\n",
      "  warn(\"{} failed with message:\\n{}\".format(method, result.message))\n",
      "d:\\prior-ephys-dm\\prior-encoding-in-nhp-sc\\ssm\\ssm\\optimizers.py:146: UserWarning: BFGS failed with message:\n",
      "Desired error not necessarily achieved due to precision loss.\n",
      "  warn(\"{} failed with message:\\n{}\".format(method, result.message))\n",
      "d:\\prior-ephys-dm\\prior-encoding-in-nhp-sc\\ssm\\ssm\\optimizers.py:146: UserWarning: BFGS failed with message:\n",
      "Desired error not necessarily achieved due to precision loss.\n",
      "  warn(\"{} failed with message:\\n{}\".format(method, result.message))\n",
      "d:\\prior-ephys-dm\\prior-encoding-in-nhp-sc\\ssm\\ssm\\optimizers.py:146: UserWarning: BFGS failed with message:\n",
      "Desired error not necessarily achieved due to precision loss.\n",
      "  warn(\"{} failed with message:\\n{}\".format(method, result.message))\n",
      "d:\\prior-ephys-dm\\prior-encoding-in-nhp-sc\\ssm\\ssm\\optimizers.py:146: UserWarning: BFGS failed with message:\n",
      "Desired error not necessarily achieved due to precision loss.\n",
      "  warn(\"{} failed with message:\\n{}\".format(method, result.message))\n",
      "d:\\prior-ephys-dm\\prior-encoding-in-nhp-sc\\ssm\\ssm\\optimizers.py:146: UserWarning: BFGS failed with message:\n",
      "Desired error not necessarily achieved due to precision loss.\n",
      "  warn(\"{} failed with message:\\n{}\".format(method, result.message))\n",
      "d:\\prior-ephys-dm\\prior-encoding-in-nhp-sc\\ssm\\ssm\\optimizers.py:146: UserWarning: BFGS failed with message:\n",
      "Desired error not necessarily achieved due to precision loss.\n",
      "  warn(\"{} failed with message:\\n{}\".format(method, result.message))\n",
      "d:\\prior-ephys-dm\\prior-encoding-in-nhp-sc\\ssm\\ssm\\optimizers.py:146: UserWarning: BFGS failed with message:\n",
      "Desired error not necessarily achieved due to precision loss.\n",
      "  warn(\"{} failed with message:\\n{}\".format(method, result.message))\n",
      "d:\\prior-ephys-dm\\prior-encoding-in-nhp-sc\\ssm\\ssm\\optimizers.py:146: UserWarning: BFGS failed with message:\n",
      "Desired error not necessarily achieved due to precision loss.\n",
      "  warn(\"{} failed with message:\\n{}\".format(method, result.message))\n",
      "d:\\prior-ephys-dm\\prior-encoding-in-nhp-sc\\ssm\\ssm\\optimizers.py:146: UserWarning: BFGS failed with message:\n",
      "Desired error not necessarily achieved due to precision loss.\n",
      "  warn(\"{} failed with message:\\n{}\".format(method, result.message))\n",
      "d:\\prior-ephys-dm\\prior-encoding-in-nhp-sc\\ssm\\ssm\\optimizers.py:146: UserWarning: BFGS failed with message:\n",
      "Desired error not necessarily achieved due to precision loss.\n",
      "  warn(\"{} failed with message:\\n{}\".format(method, result.message))\n",
      "d:\\prior-ephys-dm\\prior-encoding-in-nhp-sc\\ssm\\ssm\\optimizers.py:146: UserWarning: BFGS failed with message:\n",
      "Desired error not necessarily achieved due to precision loss.\n",
      "  warn(\"{} failed with message:\\n{}\".format(method, result.message))\n",
      "d:\\prior-ephys-dm\\prior-encoding-in-nhp-sc\\ssm\\ssm\\optimizers.py:146: UserWarning: BFGS failed with message:\n",
      "Desired error not necessarily achieved due to precision loss.\n",
      "  warn(\"{} failed with message:\\n{}\".format(method, result.message))\n",
      "d:\\prior-ephys-dm\\prior-encoding-in-nhp-sc\\ssm\\ssm\\optimizers.py:146: UserWarning: BFGS failed with message:\n",
      "Desired error not necessarily achieved due to precision loss.\n",
      "  warn(\"{} failed with message:\\n{}\".format(method, result.message))\n",
      "d:\\prior-ephys-dm\\prior-encoding-in-nhp-sc\\ssm\\ssm\\optimizers.py:146: UserWarning: BFGS failed with message:\n",
      "Desired error not necessarily achieved due to precision loss.\n",
      "  warn(\"{} failed with message:\\n{}\".format(method, result.message))\n",
      "d:\\prior-ephys-dm\\prior-encoding-in-nhp-sc\\ssm\\ssm\\optimizers.py:146: UserWarning: BFGS failed with message:\n",
      "Desired error not necessarily achieved due to precision loss.\n",
      "  warn(\"{} failed with message:\\n{}\".format(method, result.message))\n",
      "d:\\prior-ephys-dm\\prior-encoding-in-nhp-sc\\ssm\\ssm\\optimizers.py:146: UserWarning: BFGS failed with message:\n",
      "Desired error not necessarily achieved due to precision loss.\n",
      "  warn(\"{} failed with message:\\n{}\".format(method, result.message))\n",
      "d:\\prior-ephys-dm\\prior-encoding-in-nhp-sc\\ssm\\ssm\\optimizers.py:146: UserWarning: BFGS failed with message:\n",
      "Desired error not necessarily achieved due to precision loss.\n",
      "  warn(\"{} failed with message:\\n{}\".format(method, result.message))\n",
      "d:\\prior-ephys-dm\\prior-encoding-in-nhp-sc\\ssm\\ssm\\optimizers.py:146: UserWarning: BFGS failed with message:\n",
      "Desired error not necessarily achieved due to precision loss.\n",
      "  warn(\"{} failed with message:\\n{}\".format(method, result.message))\n",
      "d:\\prior-ephys-dm\\prior-encoding-in-nhp-sc\\ssm\\ssm\\optimizers.py:146: UserWarning: BFGS failed with message:\n",
      "Desired error not necessarily achieved due to precision loss.\n",
      "  warn(\"{} failed with message:\\n{}\".format(method, result.message))\n",
      "d:\\prior-ephys-dm\\prior-encoding-in-nhp-sc\\ssm\\ssm\\optimizers.py:146: UserWarning: BFGS failed with message:\n",
      "Desired error not necessarily achieved due to precision loss.\n",
      "  warn(\"{} failed with message:\\n{}\".format(method, result.message))\n",
      "d:\\prior-ephys-dm\\prior-encoding-in-nhp-sc\\ssm\\ssm\\optimizers.py:146: UserWarning: BFGS failed with message:\n",
      "Desired error not necessarily achieved due to precision loss.\n",
      "  warn(\"{} failed with message:\\n{}\".format(method, result.message))\n",
      "d:\\prior-ephys-dm\\prior-encoding-in-nhp-sc\\ssm\\ssm\\optimizers.py:146: UserWarning: BFGS failed with message:\n",
      "Desired error not necessarily achieved due to precision loss.\n",
      "  warn(\"{} failed with message:\\n{}\".format(method, result.message))\n",
      "d:\\prior-ephys-dm\\prior-encoding-in-nhp-sc\\ssm\\ssm\\optimizers.py:146: UserWarning: BFGS failed with message:\n",
      "Desired error not necessarily achieved due to precision loss.\n",
      "  warn(\"{} failed with message:\\n{}\".format(method, result.message))\n",
      "d:\\prior-ephys-dm\\prior-encoding-in-nhp-sc\\ssm\\ssm\\optimizers.py:146: UserWarning: BFGS failed with message:\n",
      "Desired error not necessarily achieved due to precision loss.\n",
      "  warn(\"{} failed with message:\\n{}\".format(method, result.message))\n",
      "d:\\prior-ephys-dm\\prior-encoding-in-nhp-sc\\ssm\\ssm\\optimizers.py:146: UserWarning: BFGS failed with message:\n",
      "Desired error not necessarily achieved due to precision loss.\n",
      "  warn(\"{} failed with message:\\n{}\".format(method, result.message))\n",
      "d:\\prior-ephys-dm\\prior-encoding-in-nhp-sc\\ssm\\ssm\\optimizers.py:146: UserWarning: BFGS failed with message:\n",
      "Desired error not necessarily achieved due to precision loss.\n",
      "  warn(\"{} failed with message:\\n{}\".format(method, result.message))\n"
     ]
    },
    {
     "name": "stdout",
     "output_type": "stream",
     "text": [
      "Initialization   12\n"
     ]
    },
    {
     "data": {
      "application/vnd.jupyter.widget-view+json": {
       "model_id": "1fe592e6fa7c444ba9c62b66ca505406",
       "version_major": 2,
       "version_minor": 0
      },
      "text/plain": [
       "  0%|          | 0/1000 [00:00<?, ?it/s]"
      ]
     },
     "metadata": {},
     "output_type": "display_data"
    },
    {
     "name": "stdout",
     "output_type": "stream",
     "text": [
      "Initialization   13\n"
     ]
    },
    {
     "data": {
      "application/vnd.jupyter.widget-view+json": {
       "model_id": "20adc57431d644b58a2cab9373a3f3fc",
       "version_major": 2,
       "version_minor": 0
      },
      "text/plain": [
       "  0%|          | 0/1000 [00:00<?, ?it/s]"
      ]
     },
     "metadata": {},
     "output_type": "display_data"
    },
    {
     "name": "stdout",
     "output_type": "stream",
     "text": [
      "Initialization   14\n"
     ]
    },
    {
     "data": {
      "application/vnd.jupyter.widget-view+json": {
       "model_id": "d78287c579ab424895dcae5b6d853c8c",
       "version_major": 2,
       "version_minor": 0
      },
      "text/plain": [
       "  0%|          | 0/1000 [00:00<?, ?it/s]"
      ]
     },
     "metadata": {},
     "output_type": "display_data"
    },
    {
     "name": "stdout",
     "output_type": "stream",
     "text": [
      "Initialization   15\n"
     ]
    },
    {
     "data": {
      "application/vnd.jupyter.widget-view+json": {
       "model_id": "ccb41b96543c45668d655b9b35d9d3ab",
       "version_major": 2,
       "version_minor": 0
      },
      "text/plain": [
       "  0%|          | 0/1000 [00:00<?, ?it/s]"
      ]
     },
     "metadata": {},
     "output_type": "display_data"
    },
    {
     "name": "stderr",
     "output_type": "stream",
     "text": [
      "d:\\prior-ephys-dm\\prior-encoding-in-nhp-sc\\ssm\\ssm\\optimizers.py:146: UserWarning: BFGS failed with message:\n",
      "Desired error not necessarily achieved due to precision loss.\n",
      "  warn(\"{} failed with message:\\n{}\".format(method, result.message))\n",
      "d:\\prior-ephys-dm\\prior-encoding-in-nhp-sc\\ssm\\ssm\\optimizers.py:146: UserWarning: BFGS failed with message:\n",
      "Desired error not necessarily achieved due to precision loss.\n",
      "  warn(\"{} failed with message:\\n{}\".format(method, result.message))\n"
     ]
    },
    {
     "name": "stdout",
     "output_type": "stream",
     "text": [
      "Initialization   16\n"
     ]
    },
    {
     "name": "stderr",
     "output_type": "stream",
     "text": [
      "d:\\prior-ephys-dm\\prior-encoding-in-nhp-sc\\ssm\\ssm\\optimizers.py:146: UserWarning: BFGS failed with message:\n",
      "Desired error not necessarily achieved due to precision loss.\n",
      "  warn(\"{} failed with message:\\n{}\".format(method, result.message))\n"
     ]
    },
    {
     "data": {
      "application/vnd.jupyter.widget-view+json": {
       "model_id": "8df8e7d22a7b44b293354b7d7e3f80ab",
       "version_major": 2,
       "version_minor": 0
      },
      "text/plain": [
       "  0%|          | 0/1000 [00:00<?, ?it/s]"
      ]
     },
     "metadata": {},
     "output_type": "display_data"
    },
    {
     "name": "stdout",
     "output_type": "stream",
     "text": [
      "Initialization   17\n"
     ]
    },
    {
     "data": {
      "application/vnd.jupyter.widget-view+json": {
       "model_id": "08bd85d4671e4db581dca8c2f03a5b3f",
       "version_major": 2,
       "version_minor": 0
      },
      "text/plain": [
       "  0%|          | 0/1000 [00:00<?, ?it/s]"
      ]
     },
     "metadata": {},
     "output_type": "display_data"
    },
    {
     "name": "stdout",
     "output_type": "stream",
     "text": [
      "Initialization   18\n"
     ]
    },
    {
     "data": {
      "application/vnd.jupyter.widget-view+json": {
       "model_id": "6cd5fb0babe04a12a01e0beeae647545",
       "version_major": 2,
       "version_minor": 0
      },
      "text/plain": [
       "  0%|          | 0/1000 [00:00<?, ?it/s]"
      ]
     },
     "metadata": {},
     "output_type": "display_data"
    },
    {
     "name": "stdout",
     "output_type": "stream",
     "text": [
      "Initialization   19\n"
     ]
    },
    {
     "data": {
      "application/vnd.jupyter.widget-view+json": {
       "model_id": "d4ce23c657fc46508ed3cf65862d5130",
       "version_major": 2,
       "version_minor": 0
      },
      "text/plain": [
       "  0%|          | 0/1000 [00:00<?, ?it/s]"
      ]
     },
     "metadata": {},
     "output_type": "display_data"
    },
    {
     "name": "stdout",
     "output_type": "stream",
     "text": [
      "Initialization   20\n"
     ]
    },
    {
     "data": {
      "application/vnd.jupyter.widget-view+json": {
       "model_id": "8b75b14ffa1d49128c53e12c94485dfb",
       "version_major": 2,
       "version_minor": 0
      },
      "text/plain": [
       "  0%|          | 0/1000 [00:00<?, ?it/s]"
      ]
     },
     "metadata": {},
     "output_type": "display_data"
    },
    {
     "name": "stderr",
     "output_type": "stream",
     "text": [
      "d:\\prior-ephys-dm\\prior-encoding-in-nhp-sc\\ssm\\ssm\\optimizers.py:146: UserWarning: BFGS failed with message:\n",
      "Desired error not necessarily achieved due to precision loss.\n",
      "  warn(\"{} failed with message:\\n{}\".format(method, result.message))\n",
      "d:\\prior-ephys-dm\\prior-encoding-in-nhp-sc\\ssm\\ssm\\optimizers.py:146: UserWarning: BFGS failed with message:\n",
      "Desired error not necessarily achieved due to precision loss.\n",
      "  warn(\"{} failed with message:\\n{}\".format(method, result.message))\n",
      "d:\\prior-ephys-dm\\prior-encoding-in-nhp-sc\\ssm\\ssm\\optimizers.py:146: UserWarning: BFGS failed with message:\n",
      "Desired error not necessarily achieved due to precision loss.\n",
      "  warn(\"{} failed with message:\\n{}\".format(method, result.message))\n"
     ]
    },
    {
     "name": "stdout",
     "output_type": "stream",
     "text": [
      "fitting 5 states.....\n",
      "Initialization   1\n"
     ]
    },
    {
     "data": {
      "application/vnd.jupyter.widget-view+json": {
       "model_id": "b6c6943b13884d93b3f667d310f95bd1",
       "version_major": 2,
       "version_minor": 0
      },
      "text/plain": [
       "  0%|          | 0/1000 [00:00<?, ?it/s]"
      ]
     },
     "metadata": {},
     "output_type": "display_data"
    },
    {
     "name": "stdout",
     "output_type": "stream",
     "text": [
      "Initialization   2\n"
     ]
    },
    {
     "data": {
      "application/vnd.jupyter.widget-view+json": {
       "model_id": "cf29efb2f80d4a79b830fc800cc23865",
       "version_major": 2,
       "version_minor": 0
      },
      "text/plain": [
       "  0%|          | 0/1000 [00:00<?, ?it/s]"
      ]
     },
     "metadata": {},
     "output_type": "display_data"
    },
    {
     "name": "stdout",
     "output_type": "stream",
     "text": [
      "Initialization   3\n"
     ]
    },
    {
     "data": {
      "application/vnd.jupyter.widget-view+json": {
       "model_id": "48a53da2cc15471bb972c70b2c796175",
       "version_major": 2,
       "version_minor": 0
      },
      "text/plain": [
       "  0%|          | 0/1000 [00:00<?, ?it/s]"
      ]
     },
     "metadata": {},
     "output_type": "display_data"
    },
    {
     "name": "stdout",
     "output_type": "stream",
     "text": [
      "Initialization   4\n"
     ]
    },
    {
     "data": {
      "application/vnd.jupyter.widget-view+json": {
       "model_id": "e757f8a0ec1d4bf8ab8d6896c7d9ba2a",
       "version_major": 2,
       "version_minor": 0
      },
      "text/plain": [
       "  0%|          | 0/1000 [00:00<?, ?it/s]"
      ]
     },
     "metadata": {},
     "output_type": "display_data"
    },
    {
     "name": "stdout",
     "output_type": "stream",
     "text": [
      "Initialization   5\n"
     ]
    },
    {
     "data": {
      "application/vnd.jupyter.widget-view+json": {
       "model_id": "4366c1c0a195443c8ab2121c3ceb37b3",
       "version_major": 2,
       "version_minor": 0
      },
      "text/plain": [
       "  0%|          | 0/1000 [00:00<?, ?it/s]"
      ]
     },
     "metadata": {},
     "output_type": "display_data"
    },
    {
     "name": "stdout",
     "output_type": "stream",
     "text": [
      "Initialization   6\n"
     ]
    },
    {
     "data": {
      "application/vnd.jupyter.widget-view+json": {
       "model_id": "cf3fad55621445e596eef32a7e1082d5",
       "version_major": 2,
       "version_minor": 0
      },
      "text/plain": [
       "  0%|          | 0/1000 [00:00<?, ?it/s]"
      ]
     },
     "metadata": {},
     "output_type": "display_data"
    },
    {
     "name": "stdout",
     "output_type": "stream",
     "text": [
      "Initialization   7\n"
     ]
    },
    {
     "data": {
      "application/vnd.jupyter.widget-view+json": {
       "model_id": "5701ea0adece4abc90673f04cb62b9ca",
       "version_major": 2,
       "version_minor": 0
      },
      "text/plain": [
       "  0%|          | 0/1000 [00:00<?, ?it/s]"
      ]
     },
     "metadata": {},
     "output_type": "display_data"
    },
    {
     "name": "stdout",
     "output_type": "stream",
     "text": [
      "Initialization   8\n"
     ]
    },
    {
     "data": {
      "application/vnd.jupyter.widget-view+json": {
       "model_id": "1ad449fe388644c4a485b175f2898d41",
       "version_major": 2,
       "version_minor": 0
      },
      "text/plain": [
       "  0%|          | 0/1000 [00:00<?, ?it/s]"
      ]
     },
     "metadata": {},
     "output_type": "display_data"
    },
    {
     "name": "stdout",
     "output_type": "stream",
     "text": [
      "Initialization   9\n"
     ]
    },
    {
     "data": {
      "application/vnd.jupyter.widget-view+json": {
       "model_id": "ceded9fa6cd94be683040a6b055f564d",
       "version_major": 2,
       "version_minor": 0
      },
      "text/plain": [
       "  0%|          | 0/1000 [00:00<?, ?it/s]"
      ]
     },
     "metadata": {},
     "output_type": "display_data"
    },
    {
     "name": "stdout",
     "output_type": "stream",
     "text": [
      "Initialization   10\n"
     ]
    },
    {
     "data": {
      "application/vnd.jupyter.widget-view+json": {
       "model_id": "fef72b03345544049408c8b3f81776bb",
       "version_major": 2,
       "version_minor": 0
      },
      "text/plain": [
       "  0%|          | 0/1000 [00:00<?, ?it/s]"
      ]
     },
     "metadata": {},
     "output_type": "display_data"
    },
    {
     "name": "stdout",
     "output_type": "stream",
     "text": [
      "Initialization   11\n"
     ]
    },
    {
     "data": {
      "application/vnd.jupyter.widget-view+json": {
       "model_id": "d8392411107b4d629ad14b61d6c83a98",
       "version_major": 2,
       "version_minor": 0
      },
      "text/plain": [
       "  0%|          | 0/1000 [00:00<?, ?it/s]"
      ]
     },
     "metadata": {},
     "output_type": "display_data"
    },
    {
     "name": "stdout",
     "output_type": "stream",
     "text": [
      "Initialization   12\n"
     ]
    },
    {
     "data": {
      "application/vnd.jupyter.widget-view+json": {
       "model_id": "ce1f2634e1314c6293b8795b6f1b3d9a",
       "version_major": 2,
       "version_minor": 0
      },
      "text/plain": [
       "  0%|          | 0/1000 [00:00<?, ?it/s]"
      ]
     },
     "metadata": {},
     "output_type": "display_data"
    },
    {
     "name": "stdout",
     "output_type": "stream",
     "text": [
      "Initialization   13\n"
     ]
    },
    {
     "data": {
      "application/vnd.jupyter.widget-view+json": {
       "model_id": "52e964b3d919494b92580b85f759d967",
       "version_major": 2,
       "version_minor": 0
      },
      "text/plain": [
       "  0%|          | 0/1000 [00:00<?, ?it/s]"
      ]
     },
     "metadata": {},
     "output_type": "display_data"
    },
    {
     "name": "stdout",
     "output_type": "stream",
     "text": [
      "Initialization   14\n"
     ]
    },
    {
     "data": {
      "application/vnd.jupyter.widget-view+json": {
       "model_id": "37cbf7dc30574b33ac9f1792f37d27e7",
       "version_major": 2,
       "version_minor": 0
      },
      "text/plain": [
       "  0%|          | 0/1000 [00:00<?, ?it/s]"
      ]
     },
     "metadata": {},
     "output_type": "display_data"
    },
    {
     "name": "stdout",
     "output_type": "stream",
     "text": [
      "Initialization   15\n"
     ]
    },
    {
     "data": {
      "application/vnd.jupyter.widget-view+json": {
       "model_id": "6a6d2fde3e094e8ba539a9b2da8ad311",
       "version_major": 2,
       "version_minor": 0
      },
      "text/plain": [
       "  0%|          | 0/1000 [00:00<?, ?it/s]"
      ]
     },
     "metadata": {},
     "output_type": "display_data"
    },
    {
     "name": "stdout",
     "output_type": "stream",
     "text": [
      "Initialization   16\n"
     ]
    },
    {
     "data": {
      "application/vnd.jupyter.widget-view+json": {
       "model_id": "93bf8eb2919a4b24ac606496a0ee29ad",
       "version_major": 2,
       "version_minor": 0
      },
      "text/plain": [
       "  0%|          | 0/1000 [00:00<?, ?it/s]"
      ]
     },
     "metadata": {},
     "output_type": "display_data"
    },
    {
     "name": "stdout",
     "output_type": "stream",
     "text": [
      "Initialization   17\n"
     ]
    },
    {
     "data": {
      "application/vnd.jupyter.widget-view+json": {
       "model_id": "8d2f103d283349288ac1b7cfc54f4183",
       "version_major": 2,
       "version_minor": 0
      },
      "text/plain": [
       "  0%|          | 0/1000 [00:00<?, ?it/s]"
      ]
     },
     "metadata": {},
     "output_type": "display_data"
    },
    {
     "name": "stdout",
     "output_type": "stream",
     "text": [
      "Initialization   18\n"
     ]
    },
    {
     "data": {
      "application/vnd.jupyter.widget-view+json": {
       "model_id": "235b7a43c8124ce3b5256c3238bc27b0",
       "version_major": 2,
       "version_minor": 0
      },
      "text/plain": [
       "  0%|          | 0/1000 [00:00<?, ?it/s]"
      ]
     },
     "metadata": {},
     "output_type": "display_data"
    },
    {
     "name": "stdout",
     "output_type": "stream",
     "text": [
      "Initialization   19\n"
     ]
    },
    {
     "data": {
      "application/vnd.jupyter.widget-view+json": {
       "model_id": "e88908f946d04a1bab53881a9123cd56",
       "version_major": 2,
       "version_minor": 0
      },
      "text/plain": [
       "  0%|          | 0/1000 [00:00<?, ?it/s]"
      ]
     },
     "metadata": {},
     "output_type": "display_data"
    },
    {
     "name": "stdout",
     "output_type": "stream",
     "text": [
      "Initialization   20\n"
     ]
    },
    {
     "data": {
      "application/vnd.jupyter.widget-view+json": {
       "model_id": "17deb50a3d494f58bb8c40d0ba808766",
       "version_major": 2,
       "version_minor": 0
      },
      "text/plain": [
       "  0%|          | 0/1000 [00:00<?, ?it/s]"
      ]
     },
     "metadata": {},
     "output_type": "display_data"
    },
    {
     "ename": "KeyboardInterrupt",
     "evalue": "",
     "output_type": "error",
     "traceback": [
      "\u001b[1;31m---------------------------------------------------------------------------\u001b[0m",
      "\u001b[1;31mKeyboardInterrupt\u001b[0m                         Traceback (most recent call last)",
      "Cell \u001b[1;32mIn[24], line 2\u001b[0m\n\u001b[0;32m      1\u001b[0m \u001b[38;5;66;03m# fit global data with 20 initialization\u001b[39;00m\n\u001b[1;32m----> 2\u001b[0m models_glm_hmm, fit_lls_glm_hmm \u001b[38;5;241m=\u001b[39m \u001b[43mglobal_fit\u001b[49m\u001b[43m(\u001b[49m\u001b[43mchoices_aggregated\u001b[49m\u001b[43m,\u001b[49m\u001b[43m \u001b[49m\u001b[43minputs_aggregated\u001b[49m\u001b[43m,\u001b[49m\u001b[43m \u001b[49m\u001b[43mmasks_aggregated\u001b[49m\u001b[43m,\u001b[49m\u001b[43m \u001b[49m\u001b[43mn_iters\u001b[49m\u001b[38;5;241;43m=\u001b[39;49m\u001b[43m \u001b[49m\u001b[38;5;241;43m1000\u001b[39;49m\u001b[43m,\u001b[49m\u001b[43m \u001b[49m\u001b[43mn_initializations\u001b[49m\u001b[38;5;241;43m=\u001b[39;49m\u001b[38;5;241;43m20\u001b[39;49m\u001b[43m)\u001b[49m\n\u001b[0;32m      4\u001b[0m \u001b[38;5;66;03m# get best model of 20 initializations for each state\u001b[39;00m\n\u001b[0;32m      5\u001b[0m init_params \u001b[38;5;241m=\u001b[39m {\n\u001b[0;32m      6\u001b[0m     \u001b[38;5;124m'\u001b[39m\u001b[38;5;124mglm_weights\u001b[39m\u001b[38;5;124m'\u001b[39m: {},\n\u001b[0;32m      7\u001b[0m     \u001b[38;5;124m'\u001b[39m\u001b[38;5;124mtransition_matrix\u001b[39m\u001b[38;5;124m'\u001b[39m: {}\n\u001b[0;32m      8\u001b[0m }\n",
      "File \u001b[1;32md:\\prior-ephys-dm\\prior-encoding-in-nhp-sc\\src\\utils\\glm_hmm_utils.py:74\u001b[0m, in \u001b[0;36mglobal_fit\u001b[1;34m(observations, inputs, masks, state_range, n_initializations, method, n_iters, tolerance)\u001b[0m\n\u001b[0;32m     66\u001b[0m \u001b[38;5;28;01mdef\u001b[39;00m \u001b[38;5;21mglobal_fit\u001b[39m(observations, inputs, masks, state_range\u001b[38;5;241m=\u001b[39mnp\u001b[38;5;241m.\u001b[39marange(\u001b[38;5;241m2\u001b[39m,\u001b[38;5;241m6\u001b[39m), n_initializations\u001b[38;5;241m=\u001b[39m\u001b[38;5;241m20\u001b[39m, fitting_method\u001b[38;5;241m=\u001b[39m\u001b[38;5;124m'\u001b[39m\u001b[38;5;124mem\u001b[39m\u001b[38;5;124m'\u001b[39m, n_iters\u001b[38;5;241m=\u001b[39m\u001b[38;5;241m200\u001b[39m, tolerance\u001b[38;5;241m=\u001b[39m\u001b[38;5;241m10\u001b[39m\u001b[38;5;241m*\u001b[39m\u001b[38;5;241m*\u001b[39m\u001b[38;5;241m-\u001b[39m\u001b[38;5;241m4\u001b[39m):\n\u001b[0;32m     67\u001b[0m \u001b[38;5;250m    \u001b[39m\u001b[38;5;124;03m\"\"\"\u001b[39;00m\n\u001b[0;32m     68\u001b[0m \u001b[38;5;124;03m    Fit data aggregated from all sessions with GLM-HMM with a list of states(n_initializations per state). All GLM-HMM models are initialized by noise plus weights of best GLM model fitted on whole data \u001b[39;00m\n\u001b[0;32m     69\u001b[0m \u001b[38;5;124;03m    Args:\u001b[39;00m\n\u001b[0;32m     70\u001b[0m \u001b[38;5;124;03m        observations (list): 1 x n_trials x obs_dim\u001b[39;00m\n\u001b[0;32m     71\u001b[0m \u001b[38;5;124;03m        inputs (list): 1 x n_trials x input_dim\u001b[39;00m\n\u001b[0;32m     72\u001b[0m \u001b[38;5;124;03m        masks (list): 1 x n_trials x 1, Boolean(1 for included trial, 0 for excluded trials)\u001b[39;00m\n\u001b[0;32m     73\u001b[0m \u001b[38;5;124;03m        state_range (1d array/list), *default = np.arange(2,6): list of number of states in HMM\u001b[39;00m\n\u001b[1;32m---> 74\u001b[0m \u001b[38;5;124;03m        n_intializations (int), *default=20: number of times to fit glm-hmm with different parameter initializations\u001b[39;00m\n\u001b[0;32m     75\u001b[0m \u001b[38;5;124;03m        fitting_method (str), *default='em : em, map...\u001b[39;00m\n\u001b[0;32m     76\u001b[0m \u001b[38;5;124;03m        n_iters (int), * default=200: maximum number of EM iterations. \u001b[39;00m\n\u001b[0;32m     77\u001b[0m \u001b[38;5;124;03m        tolerance (float), *default=10e-4: fitting will stop earlier if increase in LL is below tolerance specified by tolerance parameter\u001b[39;00m\n\u001b[0;32m     78\u001b[0m \u001b[38;5;124;03m    \u001b[39;00m\n\u001b[0;32m     79\u001b[0m \u001b[38;5;124;03m    Returns:\u001b[39;00m\n\u001b[0;32m     80\u001b[0m \u001b[38;5;124;03m        models_glm_hmm (dict): keys: number of states n, values: GLM-HMM models with the n states \u001b[39;00m\n\u001b[0;32m     81\u001b[0m \u001b[38;5;124;03m        fit_lls_glm_hmm (dict): keys: number of states n, values: fitted log likelihood of GLM-HMM models with the n states \u001b[39;00m\n\u001b[0;32m     82\u001b[0m \u001b[38;5;124;03m    \"\"\"\u001b[39;00m\n\u001b[0;32m     83\u001b[0m     \u001b[38;5;28mprint\u001b[39m(\u001b[38;5;124m'\u001b[39m\u001b[38;5;124mfitting GLM globally.....\u001b[39m\u001b[38;5;124m'\u001b[39m)\n\u001b[0;32m     84\u001b[0m     glm \u001b[38;5;241m=\u001b[39m ssm\u001b[38;5;241m.\u001b[39mHMM(\u001b[38;5;241m1\u001b[39m,observations[\u001b[38;5;241m0\u001b[39m]\u001b[38;5;241m.\u001b[39mshape[\u001b[38;5;241m1\u001b[39m] , inputs[\u001b[38;5;241m0\u001b[39m]\u001b[38;5;241m.\u001b[39mshape[\u001b[38;5;241m1\u001b[39m], observations\u001b[38;5;241m=\u001b[39m\u001b[38;5;124m\"\u001b[39m\u001b[38;5;124minput_driven_obs\u001b[39m\u001b[38;5;124m\"\u001b[39m, \n\u001b[0;32m     85\u001b[0m                    observation_kwargs\u001b[38;5;241m=\u001b[39m\u001b[38;5;28mdict\u001b[39m(C\u001b[38;5;241m=\u001b[39m\u001b[38;5;28mlen\u001b[39m(np\u001b[38;5;241m.\u001b[39munique(observations[\u001b[38;5;241m0\u001b[39m]))), transitions\u001b[38;5;241m=\u001b[39m\u001b[38;5;124m\"\u001b[39m\u001b[38;5;124mstandard\u001b[39m\u001b[38;5;124m\"\u001b[39m)\n",
      "File \u001b[1;32md:\\prior-ephys-dm\\prior-encoding-in-nhp-sc\\ssm\\ssm\\util.py:111\u001b[0m, in \u001b[0;36mensure_args_are_lists.<locals>.wrapper\u001b[1;34m(self, datas, inputs, masks, tags, **kwargs)\u001b[0m\n\u001b[0;32m    108\u001b[0m \u001b[38;5;28;01melif\u001b[39;00m \u001b[38;5;129;01mnot\u001b[39;00m \u001b[38;5;28misinstance\u001b[39m(tags, (\u001b[38;5;28mlist\u001b[39m, \u001b[38;5;28mtuple\u001b[39m)):\n\u001b[0;32m    109\u001b[0m     tags \u001b[38;5;241m=\u001b[39m [tags]\n\u001b[1;32m--> 111\u001b[0m \u001b[38;5;28;01mreturn\u001b[39;00m \u001b[43mf\u001b[49m\u001b[43m(\u001b[49m\u001b[38;5;28;43mself\u001b[39;49m\u001b[43m,\u001b[49m\u001b[43m \u001b[49m\u001b[43mdatas\u001b[49m\u001b[43m,\u001b[49m\u001b[43m \u001b[49m\u001b[43minputs\u001b[49m\u001b[38;5;241;43m=\u001b[39;49m\u001b[43minputs\u001b[49m\u001b[43m,\u001b[49m\u001b[43m \u001b[49m\u001b[43mmasks\u001b[49m\u001b[38;5;241;43m=\u001b[39;49m\u001b[43mmasks\u001b[49m\u001b[43m,\u001b[49m\u001b[43m \u001b[49m\u001b[43mtags\u001b[49m\u001b[38;5;241;43m=\u001b[39;49m\u001b[43mtags\u001b[49m\u001b[43m,\u001b[49m\u001b[43m \u001b[49m\u001b[38;5;241;43m*\u001b[39;49m\u001b[38;5;241;43m*\u001b[39;49m\u001b[43mkwargs\u001b[49m\u001b[43m)\u001b[49m\n",
      "File \u001b[1;32md:\\prior-ephys-dm\\prior-encoding-in-nhp-sc\\ssm\\ssm\\hmm.py:508\u001b[0m, in \u001b[0;36mHMM.fit\u001b[1;34m(self, datas, inputs, masks, tags, verbose, method, initialize, init_method, **kwargs)\u001b[0m\n\u001b[0;32m    505\u001b[0m          \u001b[38;5;28;01mraise\u001b[39;00m \u001b[38;5;167;01mException\u001b[39;00m(\u001b[38;5;124m\"\u001b[39m\u001b[38;5;124mOnly EM is implemented for constrained transitions.\u001b[39m\u001b[38;5;124m\"\u001b[39m)\n\u001b[0;32m    507\u001b[0m \u001b[38;5;66;03m# print(verbose)\u001b[39;00m\n\u001b[1;32m--> 508\u001b[0m  \u001b[38;5;28;01mreturn\u001b[39;00m \u001b[43m_fitting_methods\u001b[49m\u001b[43m[\u001b[49m\u001b[43mmethod\u001b[49m\u001b[43m]\u001b[49m\u001b[43m(\u001b[49m\u001b[43mdatas\u001b[49m\u001b[43m,\u001b[49m\n\u001b[0;32m    509\u001b[0m \u001b[43m                                 \u001b[49m\u001b[43minputs\u001b[49m\u001b[38;5;241;43m=\u001b[39;49m\u001b[43minputs\u001b[49m\u001b[43m,\u001b[49m\n\u001b[0;32m    510\u001b[0m \u001b[43m                                 \u001b[49m\u001b[43mmasks\u001b[49m\u001b[38;5;241;43m=\u001b[39;49m\u001b[43mmasks\u001b[49m\u001b[43m,\u001b[49m\n\u001b[0;32m    511\u001b[0m \u001b[43m                                 \u001b[49m\u001b[43mtags\u001b[49m\u001b[38;5;241;43m=\u001b[39;49m\u001b[43mtags\u001b[49m\u001b[43m,\u001b[49m\n\u001b[0;32m    512\u001b[0m \u001b[43m                                 \u001b[49m\u001b[43mverbose\u001b[49m\u001b[38;5;241;43m=\u001b[39;49m\u001b[43mverbose\u001b[49m\u001b[43m,\u001b[49m\n\u001b[0;32m    513\u001b[0m \u001b[43m                                 \u001b[49m\u001b[38;5;241;43m*\u001b[39;49m\u001b[38;5;241;43m*\u001b[39;49m\u001b[43mkwargs\u001b[49m\u001b[43m)\u001b[49m\n",
      "File \u001b[1;32md:\\prior-ephys-dm\\prior-encoding-in-nhp-sc\\ssm\\ssm\\hmm.py:460\u001b[0m, in \u001b[0;36mHMM._fit_em\u001b[1;34m(self, datas, inputs, masks, tags, verbose, num_iters, tolerance, init_state_mstep_kwargs, transitions_mstep_kwargs, observations_mstep_kwargs, **kwargs)\u001b[0m\n\u001b[0;32m    458\u001b[0m \u001b[38;5;28mself\u001b[39m\u001b[38;5;241m.\u001b[39minit_state_distn\u001b[38;5;241m.\u001b[39mm_step(expectations, datas, inputs, masks, tags, \u001b[38;5;241m*\u001b[39m\u001b[38;5;241m*\u001b[39minit_state_mstep_kwargs)\n\u001b[0;32m    459\u001b[0m \u001b[38;5;28mself\u001b[39m\u001b[38;5;241m.\u001b[39mtransitions\u001b[38;5;241m.\u001b[39mm_step(expectations, datas, inputs, masks, tags, \u001b[38;5;241m*\u001b[39m\u001b[38;5;241m*\u001b[39mtransitions_mstep_kwargs)\n\u001b[1;32m--> 460\u001b[0m \u001b[38;5;28;43mself\u001b[39;49m\u001b[38;5;241;43m.\u001b[39;49m\u001b[43mobservations\u001b[49m\u001b[38;5;241;43m.\u001b[39;49m\u001b[43mm_step\u001b[49m\u001b[43m(\u001b[49m\u001b[43mexpectations\u001b[49m\u001b[43m,\u001b[49m\u001b[43m \u001b[49m\u001b[43mdatas\u001b[49m\u001b[43m,\u001b[49m\u001b[43m \u001b[49m\u001b[43minputs\u001b[49m\u001b[43m,\u001b[49m\u001b[43m \u001b[49m\u001b[43mmasks\u001b[49m\u001b[43m,\u001b[49m\u001b[43m \u001b[49m\u001b[43mtags\u001b[49m\u001b[43m,\u001b[49m\u001b[43m \u001b[49m\u001b[38;5;241;43m*\u001b[39;49m\u001b[38;5;241;43m*\u001b[39;49m\u001b[43mobservations_mstep_kwargs\u001b[49m\u001b[43m)\u001b[49m\n\u001b[0;32m    462\u001b[0m \u001b[38;5;66;03m# Store progress\u001b[39;00m\n\u001b[0;32m    463\u001b[0m lls\u001b[38;5;241m.\u001b[39mappend(\u001b[38;5;28mself\u001b[39m\u001b[38;5;241m.\u001b[39mlog_prior() \u001b[38;5;241m+\u001b[39m \u001b[38;5;28msum\u001b[39m([ll \u001b[38;5;28;01mfor\u001b[39;00m (_, _, ll) \u001b[38;5;129;01min\u001b[39;00m expectations]))\n",
      "File \u001b[1;32md:\\prior-ephys-dm\\prior-encoding-in-nhp-sc\\ssm\\ssm\\observations.py:793\u001b[0m, in \u001b[0;36mInputDrivenObservations.m_step\u001b[1;34m(self, expectations, datas, inputs, masks, tags, optimizer, **kwargs)\u001b[0m\n\u001b[0;32m    791\u001b[0m \u001b[38;5;28;01mdef\u001b[39;00m \u001b[38;5;21mm_step\u001b[39m(\u001b[38;5;28mself\u001b[39m, expectations, datas, inputs, masks, tags,\n\u001b[0;32m    792\u001b[0m            optimizer\u001b[38;5;241m=\u001b[39m\u001b[38;5;124m\"\u001b[39m\u001b[38;5;124mbfgs\u001b[39m\u001b[38;5;124m\"\u001b[39m, \u001b[38;5;241m*\u001b[39m\u001b[38;5;241m*\u001b[39mkwargs):\n\u001b[1;32m--> 793\u001b[0m     \u001b[43mObservations\u001b[49m\u001b[38;5;241;43m.\u001b[39;49m\u001b[43mm_step\u001b[49m\u001b[43m(\u001b[49m\u001b[38;5;28;43mself\u001b[39;49m\u001b[43m,\u001b[49m\u001b[43m \u001b[49m\u001b[43mexpectations\u001b[49m\u001b[43m,\u001b[49m\u001b[43m \u001b[49m\u001b[43mdatas\u001b[49m\u001b[43m,\u001b[49m\u001b[43m \u001b[49m\u001b[43minputs\u001b[49m\u001b[43m,\u001b[49m\u001b[43m \u001b[49m\u001b[43mmasks\u001b[49m\u001b[43m,\u001b[49m\u001b[43m \u001b[49m\u001b[43mtags\u001b[49m\u001b[43m,\u001b[49m\n\u001b[0;32m    794\u001b[0m \u001b[43m                        \u001b[49m\u001b[43moptimizer\u001b[49m\u001b[43m,\u001b[49m\u001b[43m \u001b[49m\u001b[38;5;241;43m*\u001b[39;49m\u001b[38;5;241;43m*\u001b[39;49m\u001b[43mkwargs\u001b[49m\u001b[43m)\u001b[49m\n",
      "File \u001b[1;32md:\\prior-ephys-dm\\prior-encoding-in-nhp-sc\\ssm\\ssm\\observations.py:107\u001b[0m, in \u001b[0;36mObservations.m_step\u001b[1;34m(self, expectations, datas, inputs, masks, tags, optimizer, **kwargs)\u001b[0m\n\u001b[0;32m    104\u001b[0m     obj \u001b[38;5;241m=\u001b[39m _expected_log_joint(expectations)\n\u001b[0;32m    105\u001b[0m     \u001b[38;5;28;01mreturn\u001b[39;00m \u001b[38;5;241m-\u001b[39mobj\n\u001b[1;32m--> 107\u001b[0m \u001b[38;5;28mself\u001b[39m\u001b[38;5;241m.\u001b[39mparams \u001b[38;5;241m=\u001b[39m \u001b[43moptimizer\u001b[49m\u001b[43m(\u001b[49m\u001b[43m_objective\u001b[49m\u001b[43m,\u001b[49m\u001b[43m \u001b[49m\u001b[38;5;28;43mself\u001b[39;49m\u001b[38;5;241;43m.\u001b[39;49m\u001b[43mparams\u001b[49m\u001b[43m,\u001b[49m\u001b[43m \u001b[49m\u001b[38;5;241;43m*\u001b[39;49m\u001b[38;5;241;43m*\u001b[39;49m\u001b[43mkwargs\u001b[49m\u001b[43m)\u001b[49m\n",
      "File \u001b[1;32md:\\prior-ephys-dm\\prior-encoding-in-nhp-sc\\ssm\\ssm\\optimizers.py:135\u001b[0m, in \u001b[0;36m_generic_minimize\u001b[1;34m(method, loss, x0, verbose, num_iters, tol, state, full_output, suppress_warnings, **kwargs)\u001b[0m\n\u001b[0;32m    132\u001b[0m     \u001b[38;5;28;01mreturn\u001b[39;00m g\n\u001b[0;32m    134\u001b[0m \u001b[38;5;66;03m# Call the optimizer.  Pass in -1 as the iteration since it is unused.\u001b[39;00m\n\u001b[1;32m--> 135\u001b[0m result \u001b[38;5;241m=\u001b[39m \u001b[43mminimize\u001b[49m\u001b[43m(\u001b[49m\u001b[43m_objective\u001b[49m\u001b[43m,\u001b[49m\u001b[43m \u001b[49m\u001b[43m_x0\u001b[49m\u001b[43m,\u001b[49m\u001b[43m \u001b[49m\u001b[43margs\u001b[49m\u001b[38;5;241;43m=\u001b[39;49m\u001b[43m(\u001b[49m\u001b[38;5;241;43m-\u001b[39;49m\u001b[38;5;241;43m1\u001b[39;49m\u001b[43m,\u001b[49m\u001b[43m)\u001b[49m\u001b[43m,\u001b[49m\n\u001b[0;32m    136\u001b[0m \u001b[43m                  \u001b[49m\u001b[43mjac\u001b[49m\u001b[38;5;241;43m=\u001b[39;49m\u001b[43msafe_grad\u001b[49m\u001b[43m,\u001b[49m\n\u001b[0;32m    137\u001b[0m \u001b[43m                  \u001b[49m\u001b[43mmethod\u001b[49m\u001b[38;5;241;43m=\u001b[39;49m\u001b[43mmethod\u001b[49m\u001b[43m,\u001b[49m\n\u001b[0;32m    138\u001b[0m \u001b[43m                  \u001b[49m\u001b[43mcallback\u001b[49m\u001b[38;5;241;43m=\u001b[39;49m\u001b[43mcallback\u001b[49m\u001b[43m \u001b[49m\u001b[38;5;28;43;01mif\u001b[39;49;00m\u001b[43m \u001b[49m\u001b[43mverbose\u001b[49m\u001b[43m \u001b[49m\u001b[38;5;28;43;01melse\u001b[39;49;00m\u001b[43m \u001b[49m\u001b[38;5;28;43;01mNone\u001b[39;49;00m\u001b[43m,\u001b[49m\n\u001b[0;32m    139\u001b[0m \u001b[43m                  \u001b[49m\u001b[43moptions\u001b[49m\u001b[38;5;241;43m=\u001b[39;49m\u001b[38;5;28;43mdict\u001b[39;49m\u001b[43m(\u001b[49m\u001b[43mmaxiter\u001b[49m\u001b[38;5;241;43m=\u001b[39;49m\u001b[43mnum_iters\u001b[49m\u001b[43m,\u001b[49m\u001b[43m \u001b[49m\u001b[43mdisp\u001b[49m\u001b[38;5;241;43m=\u001b[39;49m\u001b[43mverbose\u001b[49m\u001b[43m)\u001b[49m\u001b[43m,\u001b[49m\n\u001b[0;32m    140\u001b[0m \u001b[43m                  \u001b[49m\u001b[43mtol\u001b[49m\u001b[38;5;241;43m=\u001b[39;49m\u001b[43mtol\u001b[49m\u001b[43m,\u001b[49m\n\u001b[0;32m    141\u001b[0m \u001b[43m                  \u001b[49m\u001b[38;5;241;43m*\u001b[39;49m\u001b[38;5;241;43m*\u001b[39;49m\u001b[43mkwargs\u001b[49m\u001b[43m)\u001b[49m\n\u001b[0;32m    142\u001b[0m \u001b[38;5;28;01mif\u001b[39;00m verbose:\n\u001b[0;32m    143\u001b[0m     \u001b[38;5;28mprint\u001b[39m(\u001b[38;5;124m\"\u001b[39m\u001b[38;5;132;01m{}\u001b[39;00m\u001b[38;5;124m completed with message: \u001b[39m\u001b[38;5;130;01m\\n\u001b[39;00m\u001b[38;5;132;01m{}\u001b[39;00m\u001b[38;5;124m\"\u001b[39m\u001b[38;5;241m.\u001b[39mformat(method, result\u001b[38;5;241m.\u001b[39mmessage))\n",
      "File \u001b[1;32mc:\\Users\\mbasso.NPI-NRB507-XPS\\.conda\\envs\\prior-sc\\Lib\\site-packages\\scipy\\optimize\\_minimize.py:726\u001b[0m, in \u001b[0;36mminimize\u001b[1;34m(fun, x0, args, method, jac, hess, hessp, bounds, constraints, tol, callback, options)\u001b[0m\n\u001b[0;32m    724\u001b[0m     res \u001b[38;5;241m=\u001b[39m _minimize_cg(fun, x0, args, jac, callback, \u001b[38;5;241m*\u001b[39m\u001b[38;5;241m*\u001b[39moptions)\n\u001b[0;32m    725\u001b[0m \u001b[38;5;28;01melif\u001b[39;00m meth \u001b[38;5;241m==\u001b[39m \u001b[38;5;124m'\u001b[39m\u001b[38;5;124mbfgs\u001b[39m\u001b[38;5;124m'\u001b[39m:\n\u001b[1;32m--> 726\u001b[0m     res \u001b[38;5;241m=\u001b[39m \u001b[43m_minimize_bfgs\u001b[49m\u001b[43m(\u001b[49m\u001b[43mfun\u001b[49m\u001b[43m,\u001b[49m\u001b[43m \u001b[49m\u001b[43mx0\u001b[49m\u001b[43m,\u001b[49m\u001b[43m \u001b[49m\u001b[43margs\u001b[49m\u001b[43m,\u001b[49m\u001b[43m \u001b[49m\u001b[43mjac\u001b[49m\u001b[43m,\u001b[49m\u001b[43m \u001b[49m\u001b[43mcallback\u001b[49m\u001b[43m,\u001b[49m\u001b[43m \u001b[49m\u001b[38;5;241;43m*\u001b[39;49m\u001b[38;5;241;43m*\u001b[39;49m\u001b[43moptions\u001b[49m\u001b[43m)\u001b[49m\n\u001b[0;32m    727\u001b[0m \u001b[38;5;28;01melif\u001b[39;00m meth \u001b[38;5;241m==\u001b[39m \u001b[38;5;124m'\u001b[39m\u001b[38;5;124mnewton-cg\u001b[39m\u001b[38;5;124m'\u001b[39m:\n\u001b[0;32m    728\u001b[0m     res \u001b[38;5;241m=\u001b[39m _minimize_newtoncg(fun, x0, args, jac, hess, hessp, callback,\n\u001b[0;32m    729\u001b[0m                              \u001b[38;5;241m*\u001b[39m\u001b[38;5;241m*\u001b[39moptions)\n",
      "File \u001b[1;32mc:\\Users\\mbasso.NPI-NRB507-XPS\\.conda\\envs\\prior-sc\\Lib\\site-packages\\scipy\\optimize\\_optimize.py:1397\u001b[0m, in \u001b[0;36m_minimize_bfgs\u001b[1;34m(fun, x0, args, jac, callback, gtol, norm, eps, maxiter, disp, return_all, finite_diff_rel_step, xrtol, c1, c2, hess_inv0, **unknown_options)\u001b[0m\n\u001b[0;32m   1394\u001b[0m pk \u001b[38;5;241m=\u001b[39m \u001b[38;5;241m-\u001b[39mnp\u001b[38;5;241m.\u001b[39mdot(Hk, gfk)\n\u001b[0;32m   1395\u001b[0m \u001b[38;5;28;01mtry\u001b[39;00m:\n\u001b[0;32m   1396\u001b[0m     alpha_k, fc, gc, old_fval, old_old_fval, gfkp1 \u001b[38;5;241m=\u001b[39m \\\n\u001b[1;32m-> 1397\u001b[0m              \u001b[43m_line_search_wolfe12\u001b[49m\u001b[43m(\u001b[49m\u001b[43mf\u001b[49m\u001b[43m,\u001b[49m\u001b[43m \u001b[49m\u001b[43mmyfprime\u001b[49m\u001b[43m,\u001b[49m\u001b[43m \u001b[49m\u001b[43mxk\u001b[49m\u001b[43m,\u001b[49m\u001b[43m \u001b[49m\u001b[43mpk\u001b[49m\u001b[43m,\u001b[49m\u001b[43m \u001b[49m\u001b[43mgfk\u001b[49m\u001b[43m,\u001b[49m\n\u001b[0;32m   1398\u001b[0m \u001b[43m                                  \u001b[49m\u001b[43mold_fval\u001b[49m\u001b[43m,\u001b[49m\u001b[43m \u001b[49m\u001b[43mold_old_fval\u001b[49m\u001b[43m,\u001b[49m\u001b[43m \u001b[49m\u001b[43mamin\u001b[49m\u001b[38;5;241;43m=\u001b[39;49m\u001b[38;5;241;43m1e-100\u001b[39;49m\u001b[43m,\u001b[49m\n\u001b[0;32m   1399\u001b[0m \u001b[43m                                  \u001b[49m\u001b[43mamax\u001b[49m\u001b[38;5;241;43m=\u001b[39;49m\u001b[38;5;241;43m1e100\u001b[39;49m\u001b[43m,\u001b[49m\u001b[43m \u001b[49m\u001b[43mc1\u001b[49m\u001b[38;5;241;43m=\u001b[39;49m\u001b[43mc1\u001b[49m\u001b[43m,\u001b[49m\u001b[43m \u001b[49m\u001b[43mc2\u001b[49m\u001b[38;5;241;43m=\u001b[39;49m\u001b[43mc2\u001b[49m\u001b[43m)\u001b[49m\n\u001b[0;32m   1400\u001b[0m \u001b[38;5;28;01mexcept\u001b[39;00m _LineSearchError:\n\u001b[0;32m   1401\u001b[0m     \u001b[38;5;66;03m# Line search failed to find a better solution.\u001b[39;00m\n\u001b[0;32m   1402\u001b[0m     warnflag \u001b[38;5;241m=\u001b[39m \u001b[38;5;241m2\u001b[39m\n",
      "File \u001b[1;32mc:\\Users\\mbasso.NPI-NRB507-XPS\\.conda\\envs\\prior-sc\\Lib\\site-packages\\scipy\\optimize\\_optimize.py:1133\u001b[0m, in \u001b[0;36m_line_search_wolfe12\u001b[1;34m(f, fprime, xk, pk, gfk, old_fval, old_old_fval, **kwargs)\u001b[0m\n\u001b[0;32m   1119\u001b[0m \u001b[38;5;250m\u001b[39m\u001b[38;5;124;03m\"\"\"\u001b[39;00m\n\u001b[0;32m   1120\u001b[0m \u001b[38;5;124;03mSame as line_search_wolfe1, but fall back to line_search_wolfe2 if\u001b[39;00m\n\u001b[0;32m   1121\u001b[0m \u001b[38;5;124;03msuitable step length is not found, and raise an exception if a\u001b[39;00m\n\u001b[1;32m   (...)\u001b[0m\n\u001b[0;32m   1128\u001b[0m \n\u001b[0;32m   1129\u001b[0m \u001b[38;5;124;03m\"\"\"\u001b[39;00m\n\u001b[0;32m   1131\u001b[0m extra_condition \u001b[38;5;241m=\u001b[39m kwargs\u001b[38;5;241m.\u001b[39mpop(\u001b[38;5;124m'\u001b[39m\u001b[38;5;124mextra_condition\u001b[39m\u001b[38;5;124m'\u001b[39m, \u001b[38;5;28;01mNone\u001b[39;00m)\n\u001b[1;32m-> 1133\u001b[0m ret \u001b[38;5;241m=\u001b[39m \u001b[43mline_search_wolfe1\u001b[49m\u001b[43m(\u001b[49m\u001b[43mf\u001b[49m\u001b[43m,\u001b[49m\u001b[43m \u001b[49m\u001b[43mfprime\u001b[49m\u001b[43m,\u001b[49m\u001b[43m \u001b[49m\u001b[43mxk\u001b[49m\u001b[43m,\u001b[49m\u001b[43m \u001b[49m\u001b[43mpk\u001b[49m\u001b[43m,\u001b[49m\u001b[43m \u001b[49m\u001b[43mgfk\u001b[49m\u001b[43m,\u001b[49m\n\u001b[0;32m   1134\u001b[0m \u001b[43m                         \u001b[49m\u001b[43mold_fval\u001b[49m\u001b[43m,\u001b[49m\u001b[43m \u001b[49m\u001b[43mold_old_fval\u001b[49m\u001b[43m,\u001b[49m\n\u001b[0;32m   1135\u001b[0m \u001b[43m                         \u001b[49m\u001b[38;5;241;43m*\u001b[39;49m\u001b[38;5;241;43m*\u001b[39;49m\u001b[43mkwargs\u001b[49m\u001b[43m)\u001b[49m\n\u001b[0;32m   1137\u001b[0m \u001b[38;5;28;01mif\u001b[39;00m ret[\u001b[38;5;241m0\u001b[39m] \u001b[38;5;129;01mis\u001b[39;00m \u001b[38;5;129;01mnot\u001b[39;00m \u001b[38;5;28;01mNone\u001b[39;00m \u001b[38;5;129;01mand\u001b[39;00m extra_condition \u001b[38;5;129;01mis\u001b[39;00m \u001b[38;5;129;01mnot\u001b[39;00m \u001b[38;5;28;01mNone\u001b[39;00m:\n\u001b[0;32m   1138\u001b[0m     xp1 \u001b[38;5;241m=\u001b[39m xk \u001b[38;5;241m+\u001b[39m ret[\u001b[38;5;241m0\u001b[39m] \u001b[38;5;241m*\u001b[39m pk\n",
      "File \u001b[1;32mc:\\Users\\mbasso.NPI-NRB507-XPS\\.conda\\envs\\prior-sc\\Lib\\site-packages\\scipy\\optimize\\_linesearch.py:93\u001b[0m, in \u001b[0;36mline_search_wolfe1\u001b[1;34m(f, fprime, xk, pk, gfk, old_fval, old_old_fval, args, c1, c2, amax, amin, xtol)\u001b[0m\n\u001b[0;32m     89\u001b[0m     \u001b[38;5;28;01mreturn\u001b[39;00m np\u001b[38;5;241m.\u001b[39mdot(gval[\u001b[38;5;241m0\u001b[39m], pk)\n\u001b[0;32m     91\u001b[0m derphi0 \u001b[38;5;241m=\u001b[39m np\u001b[38;5;241m.\u001b[39mdot(gfk, pk)\n\u001b[1;32m---> 93\u001b[0m stp, fval, old_fval \u001b[38;5;241m=\u001b[39m \u001b[43mscalar_search_wolfe1\u001b[49m\u001b[43m(\u001b[49m\n\u001b[0;32m     94\u001b[0m \u001b[43m        \u001b[49m\u001b[43mphi\u001b[49m\u001b[43m,\u001b[49m\u001b[43m \u001b[49m\u001b[43mderphi\u001b[49m\u001b[43m,\u001b[49m\u001b[43m \u001b[49m\u001b[43mold_fval\u001b[49m\u001b[43m,\u001b[49m\u001b[43m \u001b[49m\u001b[43mold_old_fval\u001b[49m\u001b[43m,\u001b[49m\u001b[43m \u001b[49m\u001b[43mderphi0\u001b[49m\u001b[43m,\u001b[49m\n\u001b[0;32m     95\u001b[0m \u001b[43m        \u001b[49m\u001b[43mc1\u001b[49m\u001b[38;5;241;43m=\u001b[39;49m\u001b[43mc1\u001b[49m\u001b[43m,\u001b[49m\u001b[43m \u001b[49m\u001b[43mc2\u001b[49m\u001b[38;5;241;43m=\u001b[39;49m\u001b[43mc2\u001b[49m\u001b[43m,\u001b[49m\u001b[43m \u001b[49m\u001b[43mamax\u001b[49m\u001b[38;5;241;43m=\u001b[39;49m\u001b[43mamax\u001b[49m\u001b[43m,\u001b[49m\u001b[43m \u001b[49m\u001b[43mamin\u001b[49m\u001b[38;5;241;43m=\u001b[39;49m\u001b[43mamin\u001b[49m\u001b[43m,\u001b[49m\u001b[43m \u001b[49m\u001b[43mxtol\u001b[49m\u001b[38;5;241;43m=\u001b[39;49m\u001b[43mxtol\u001b[49m\u001b[43m)\u001b[49m\n\u001b[0;32m     97\u001b[0m \u001b[38;5;28;01mreturn\u001b[39;00m stp, fc[\u001b[38;5;241m0\u001b[39m], gc[\u001b[38;5;241m0\u001b[39m], fval, old_fval, gval[\u001b[38;5;241m0\u001b[39m]\n",
      "File \u001b[1;32mc:\\Users\\mbasso.NPI-NRB507-XPS\\.conda\\envs\\prior-sc\\Lib\\site-packages\\scipy\\optimize\\_linesearch.py:170\u001b[0m, in \u001b[0;36mscalar_search_wolfe1\u001b[1;34m(phi, derphi, phi0, old_phi0, derphi0, c1, c2, amax, amin, xtol)\u001b[0m\n\u001b[0;32m    167\u001b[0m maxiter \u001b[38;5;241m=\u001b[39m \u001b[38;5;241m100\u001b[39m\n\u001b[0;32m    169\u001b[0m dcsrch \u001b[38;5;241m=\u001b[39m DCSRCH(phi, derphi, c1, c2, xtol, amin, amax)\n\u001b[1;32m--> 170\u001b[0m stp, phi1, phi0, task \u001b[38;5;241m=\u001b[39m \u001b[43mdcsrch\u001b[49m\u001b[43m(\u001b[49m\n\u001b[0;32m    171\u001b[0m \u001b[43m    \u001b[49m\u001b[43malpha1\u001b[49m\u001b[43m,\u001b[49m\u001b[43m \u001b[49m\u001b[43mphi0\u001b[49m\u001b[38;5;241;43m=\u001b[39;49m\u001b[43mphi0\u001b[49m\u001b[43m,\u001b[49m\u001b[43m \u001b[49m\u001b[43mderphi0\u001b[49m\u001b[38;5;241;43m=\u001b[39;49m\u001b[43mderphi0\u001b[49m\u001b[43m,\u001b[49m\u001b[43m \u001b[49m\u001b[43mmaxiter\u001b[49m\u001b[38;5;241;43m=\u001b[39;49m\u001b[43mmaxiter\u001b[49m\n\u001b[0;32m    172\u001b[0m \u001b[43m\u001b[49m\u001b[43m)\u001b[49m\n\u001b[0;32m    174\u001b[0m \u001b[38;5;28;01mreturn\u001b[39;00m stp, phi1, phi0\n",
      "File \u001b[1;32mc:\\Users\\mbasso.NPI-NRB507-XPS\\.conda\\envs\\prior-sc\\Lib\\site-packages\\scipy\\optimize\\_dcsrch.py:256\u001b[0m, in \u001b[0;36mDCSRCH.__call__\u001b[1;34m(self, alpha1, phi0, derphi0, maxiter)\u001b[0m\n\u001b[0;32m    254\u001b[0m     alpha1 \u001b[38;5;241m=\u001b[39m stp\n\u001b[0;32m    255\u001b[0m     phi1 \u001b[38;5;241m=\u001b[39m \u001b[38;5;28mself\u001b[39m\u001b[38;5;241m.\u001b[39mphi(stp)\n\u001b[1;32m--> 256\u001b[0m     derphi1 \u001b[38;5;241m=\u001b[39m \u001b[38;5;28;43mself\u001b[39;49m\u001b[38;5;241;43m.\u001b[39;49m\u001b[43mderphi\u001b[49m\u001b[43m(\u001b[49m\u001b[43mstp\u001b[49m\u001b[43m)\u001b[49m\n\u001b[0;32m    257\u001b[0m \u001b[38;5;28;01melse\u001b[39;00m:\n\u001b[0;32m    258\u001b[0m     \u001b[38;5;28;01mbreak\u001b[39;00m\n",
      "File \u001b[1;32mc:\\Users\\mbasso.NPI-NRB507-XPS\\.conda\\envs\\prior-sc\\Lib\\site-packages\\scipy\\optimize\\_linesearch.py:87\u001b[0m, in \u001b[0;36mline_search_wolfe1.<locals>.derphi\u001b[1;34m(s)\u001b[0m\n\u001b[0;32m     86\u001b[0m \u001b[38;5;28;01mdef\u001b[39;00m \u001b[38;5;21mderphi\u001b[39m(s):\n\u001b[1;32m---> 87\u001b[0m     gval[\u001b[38;5;241m0\u001b[39m] \u001b[38;5;241m=\u001b[39m \u001b[43mfprime\u001b[49m\u001b[43m(\u001b[49m\u001b[43mxk\u001b[49m\u001b[43m \u001b[49m\u001b[38;5;241;43m+\u001b[39;49m\u001b[43m \u001b[49m\u001b[43ms\u001b[49m\u001b[38;5;241;43m*\u001b[39;49m\u001b[43mpk\u001b[49m\u001b[43m,\u001b[49m\u001b[43m \u001b[49m\u001b[38;5;241;43m*\u001b[39;49m\u001b[43margs\u001b[49m\u001b[43m)\u001b[49m\n\u001b[0;32m     88\u001b[0m     gc[\u001b[38;5;241m0\u001b[39m] \u001b[38;5;241m+\u001b[39m\u001b[38;5;241m=\u001b[39m \u001b[38;5;241m1\u001b[39m\n\u001b[0;32m     89\u001b[0m     \u001b[38;5;28;01mreturn\u001b[39;00m np\u001b[38;5;241m.\u001b[39mdot(gval[\u001b[38;5;241m0\u001b[39m], pk)\n",
      "File \u001b[1;32mc:\\Users\\mbasso.NPI-NRB507-XPS\\.conda\\envs\\prior-sc\\Lib\\site-packages\\scipy\\optimize\\_differentiable_functions.py:331\u001b[0m, in \u001b[0;36mScalarFunction.grad\u001b[1;34m(self, x)\u001b[0m\n\u001b[0;32m    329\u001b[0m \u001b[38;5;28;01mif\u001b[39;00m \u001b[38;5;129;01mnot\u001b[39;00m np\u001b[38;5;241m.\u001b[39marray_equal(x, \u001b[38;5;28mself\u001b[39m\u001b[38;5;241m.\u001b[39mx):\n\u001b[0;32m    330\u001b[0m     \u001b[38;5;28mself\u001b[39m\u001b[38;5;241m.\u001b[39m_update_x(x)\n\u001b[1;32m--> 331\u001b[0m \u001b[38;5;28;43mself\u001b[39;49m\u001b[38;5;241;43m.\u001b[39;49m\u001b[43m_update_grad\u001b[49m\u001b[43m(\u001b[49m\u001b[43m)\u001b[49m\n\u001b[0;32m    332\u001b[0m \u001b[38;5;28;01mreturn\u001b[39;00m \u001b[38;5;28mself\u001b[39m\u001b[38;5;241m.\u001b[39mg\n",
      "File \u001b[1;32mc:\\Users\\mbasso.NPI-NRB507-XPS\\.conda\\envs\\prior-sc\\Lib\\site-packages\\scipy\\optimize\\_differentiable_functions.py:306\u001b[0m, in \u001b[0;36mScalarFunction._update_grad\u001b[1;34m(self)\u001b[0m\n\u001b[0;32m    304\u001b[0m \u001b[38;5;28;01mif\u001b[39;00m \u001b[38;5;28mself\u001b[39m\u001b[38;5;241m.\u001b[39m_orig_grad \u001b[38;5;129;01min\u001b[39;00m FD_METHODS:\n\u001b[0;32m    305\u001b[0m     \u001b[38;5;28mself\u001b[39m\u001b[38;5;241m.\u001b[39m_update_fun()\n\u001b[1;32m--> 306\u001b[0m \u001b[38;5;28mself\u001b[39m\u001b[38;5;241m.\u001b[39mg \u001b[38;5;241m=\u001b[39m \u001b[38;5;28;43mself\u001b[39;49m\u001b[38;5;241;43m.\u001b[39;49m\u001b[43m_wrapped_grad\u001b[49m\u001b[43m(\u001b[49m\u001b[38;5;28;43mself\u001b[39;49m\u001b[38;5;241;43m.\u001b[39;49m\u001b[43mx\u001b[49m\u001b[43m,\u001b[49m\u001b[43m \u001b[49m\u001b[43mf0\u001b[49m\u001b[38;5;241;43m=\u001b[39;49m\u001b[38;5;28;43mself\u001b[39;49m\u001b[38;5;241;43m.\u001b[39;49m\u001b[43mf\u001b[49m\u001b[43m)\u001b[49m\n\u001b[0;32m    307\u001b[0m \u001b[38;5;28mself\u001b[39m\u001b[38;5;241m.\u001b[39mg_updated \u001b[38;5;241m=\u001b[39m \u001b[38;5;28;01mTrue\u001b[39;00m\n",
      "File \u001b[1;32mc:\\Users\\mbasso.NPI-NRB507-XPS\\.conda\\envs\\prior-sc\\Lib\\site-packages\\scipy\\optimize\\_differentiable_functions.py:41\u001b[0m, in \u001b[0;36m_wrapper_grad.<locals>.wrapped\u001b[1;34m(x, **kwds)\u001b[0m\n\u001b[0;32m     38\u001b[0m \u001b[38;5;28;01mdef\u001b[39;00m \u001b[38;5;21mwrapped\u001b[39m(x, \u001b[38;5;241m*\u001b[39m\u001b[38;5;241m*\u001b[39mkwds):\n\u001b[0;32m     39\u001b[0m     \u001b[38;5;66;03m# kwds present to give function same signature as numdiff variant\u001b[39;00m\n\u001b[0;32m     40\u001b[0m     ncalls[\u001b[38;5;241m0\u001b[39m] \u001b[38;5;241m+\u001b[39m\u001b[38;5;241m=\u001b[39m \u001b[38;5;241m1\u001b[39m\n\u001b[1;32m---> 41\u001b[0m     \u001b[38;5;28;01mreturn\u001b[39;00m np\u001b[38;5;241m.\u001b[39matleast_1d(\u001b[43mgrad\u001b[49m\u001b[43m(\u001b[49m\u001b[43mnp\u001b[49m\u001b[38;5;241;43m.\u001b[39;49m\u001b[43mcopy\u001b[49m\u001b[43m(\u001b[49m\u001b[43mx\u001b[49m\u001b[43m)\u001b[49m\u001b[43m,\u001b[49m\u001b[43m \u001b[49m\u001b[38;5;241;43m*\u001b[39;49m\u001b[43margs\u001b[49m\u001b[43m)\u001b[49m)\n",
      "File \u001b[1;32md:\\prior-ephys-dm\\prior-encoding-in-nhp-sc\\ssm\\ssm\\optimizers.py:130\u001b[0m, in \u001b[0;36m_generic_minimize.<locals>.safe_grad\u001b[1;34m(x, itr)\u001b[0m\n\u001b[0;32m    129\u001b[0m \u001b[38;5;28;01mdef\u001b[39;00m \u001b[38;5;21msafe_grad\u001b[39m(x, itr):\n\u001b[1;32m--> 130\u001b[0m     g \u001b[38;5;241m=\u001b[39m \u001b[43mgrad\u001b[49m\u001b[43m(\u001b[49m\u001b[43m_objective\u001b[49m\u001b[43m)\u001b[49m\u001b[43m(\u001b[49m\u001b[43mx\u001b[49m\u001b[43m,\u001b[49m\u001b[43m \u001b[49m\u001b[43mitr\u001b[49m\u001b[43m)\u001b[49m\n\u001b[0;32m    131\u001b[0m     g[\u001b[38;5;241m~\u001b[39mnp\u001b[38;5;241m.\u001b[39misfinite(g)] \u001b[38;5;241m=\u001b[39m \u001b[38;5;241m1e8\u001b[39m\n\u001b[0;32m    132\u001b[0m     \u001b[38;5;28;01mreturn\u001b[39;00m g\n",
      "File \u001b[1;32mc:\\Users\\mbasso.NPI-NRB507-XPS\\.conda\\envs\\prior-sc\\Lib\\site-packages\\autograd\\wrap_util.py:20\u001b[0m, in \u001b[0;36munary_to_nary.<locals>.nary_operator.<locals>.nary_f\u001b[1;34m(*args, **kwargs)\u001b[0m\n\u001b[0;32m     18\u001b[0m \u001b[38;5;28;01melse\u001b[39;00m:\n\u001b[0;32m     19\u001b[0m     x \u001b[38;5;241m=\u001b[39m \u001b[38;5;28mtuple\u001b[39m(args[i] \u001b[38;5;28;01mfor\u001b[39;00m i \u001b[38;5;129;01min\u001b[39;00m argnum)\n\u001b[1;32m---> 20\u001b[0m \u001b[38;5;28;01mreturn\u001b[39;00m \u001b[43munary_operator\u001b[49m\u001b[43m(\u001b[49m\u001b[43munary_f\u001b[49m\u001b[43m,\u001b[49m\u001b[43m \u001b[49m\u001b[43mx\u001b[49m\u001b[43m,\u001b[49m\u001b[43m \u001b[49m\u001b[38;5;241;43m*\u001b[39;49m\u001b[43mnary_op_args\u001b[49m\u001b[43m,\u001b[49m\u001b[43m \u001b[49m\u001b[38;5;241;43m*\u001b[39;49m\u001b[38;5;241;43m*\u001b[39;49m\u001b[43mnary_op_kwargs\u001b[49m\u001b[43m)\u001b[49m\n",
      "File \u001b[1;32mc:\\Users\\mbasso.NPI-NRB507-XPS\\.conda\\envs\\prior-sc\\Lib\\site-packages\\autograd\\differential_operators.py:32\u001b[0m, in \u001b[0;36mgrad\u001b[1;34m(fun, x)\u001b[0m\n\u001b[0;32m     29\u001b[0m \u001b[38;5;28;01mif\u001b[39;00m \u001b[38;5;129;01mnot\u001b[39;00m vspace(ans)\u001b[38;5;241m.\u001b[39msize \u001b[38;5;241m==\u001b[39m \u001b[38;5;241m1\u001b[39m:\n\u001b[0;32m     30\u001b[0m     \u001b[38;5;28;01mraise\u001b[39;00m \u001b[38;5;167;01mTypeError\u001b[39;00m(\u001b[38;5;124m\"\u001b[39m\u001b[38;5;124mGrad only applies to real scalar-output functions. \u001b[39m\u001b[38;5;124m\"\u001b[39m\n\u001b[0;32m     31\u001b[0m                     \u001b[38;5;124m\"\u001b[39m\u001b[38;5;124mTry jacobian, elementwise_grad or holomorphic_grad.\u001b[39m\u001b[38;5;124m\"\u001b[39m)\n\u001b[1;32m---> 32\u001b[0m \u001b[38;5;28;01mreturn\u001b[39;00m \u001b[43mvjp\u001b[49m\u001b[43m(\u001b[49m\u001b[43mvspace\u001b[49m\u001b[43m(\u001b[49m\u001b[43mans\u001b[49m\u001b[43m)\u001b[49m\u001b[38;5;241;43m.\u001b[39;49m\u001b[43mones\u001b[49m\u001b[43m(\u001b[49m\u001b[43m)\u001b[49m\u001b[43m)\u001b[49m\n",
      "File \u001b[1;32mc:\\Users\\mbasso.NPI-NRB507-XPS\\.conda\\envs\\prior-sc\\Lib\\site-packages\\autograd\\core.py:14\u001b[0m, in \u001b[0;36mmake_vjp.<locals>.vjp\u001b[1;34m(g)\u001b[0m\n\u001b[1;32m---> 14\u001b[0m \u001b[38;5;28;01mdef\u001b[39;00m \u001b[38;5;21mvjp\u001b[39m(g): \u001b[38;5;28;01mreturn\u001b[39;00m \u001b[43mbackward_pass\u001b[49m\u001b[43m(\u001b[49m\u001b[43mg\u001b[49m\u001b[43m,\u001b[49m\u001b[43m \u001b[49m\u001b[43mend_node\u001b[49m\u001b[43m)\u001b[49m\n",
      "File \u001b[1;32mc:\\Users\\mbasso.NPI-NRB507-XPS\\.conda\\envs\\prior-sc\\Lib\\site-packages\\autograd\\core.py:21\u001b[0m, in \u001b[0;36mbackward_pass\u001b[1;34m(g, end_node)\u001b[0m\n\u001b[0;32m     19\u001b[0m \u001b[38;5;28;01mfor\u001b[39;00m node \u001b[38;5;129;01min\u001b[39;00m toposort(end_node):\n\u001b[0;32m     20\u001b[0m     outgrad \u001b[38;5;241m=\u001b[39m outgrads\u001b[38;5;241m.\u001b[39mpop(node)\n\u001b[1;32m---> 21\u001b[0m     ingrads \u001b[38;5;241m=\u001b[39m \u001b[43mnode\u001b[49m\u001b[38;5;241;43m.\u001b[39;49m\u001b[43mvjp\u001b[49m\u001b[43m(\u001b[49m\u001b[43moutgrad\u001b[49m\u001b[43m[\u001b[49m\u001b[38;5;241;43m0\u001b[39;49m\u001b[43m]\u001b[49m\u001b[43m)\u001b[49m\n\u001b[0;32m     22\u001b[0m     \u001b[38;5;28;01mfor\u001b[39;00m parent, ingrad \u001b[38;5;129;01min\u001b[39;00m \u001b[38;5;28mzip\u001b[39m(node\u001b[38;5;241m.\u001b[39mparents, ingrads):\n\u001b[0;32m     23\u001b[0m         outgrads[parent] \u001b[38;5;241m=\u001b[39m add_outgrads(outgrads\u001b[38;5;241m.\u001b[39mget(parent), ingrad)\n",
      "File \u001b[1;32mc:\\Users\\mbasso.NPI-NRB507-XPS\\.conda\\envs\\prior-sc\\Lib\\site-packages\\autograd\\core.py:67\u001b[0m, in \u001b[0;36mdefvjp.<locals>.vjp_argnums.<locals>.<lambda>\u001b[1;34m(g)\u001b[0m\n\u001b[0;32m     64\u001b[0m         \u001b[38;5;28;01mraise\u001b[39;00m \u001b[38;5;167;01mNotImplementedError\u001b[39;00m(\n\u001b[0;32m     65\u001b[0m             \u001b[38;5;124m\"\u001b[39m\u001b[38;5;124mVJP of \u001b[39m\u001b[38;5;132;01m{}\u001b[39;00m\u001b[38;5;124m wrt argnum 0 not defined\u001b[39m\u001b[38;5;124m\"\u001b[39m\u001b[38;5;241m.\u001b[39mformat(fun\u001b[38;5;241m.\u001b[39m\u001b[38;5;18m__name__\u001b[39m))\n\u001b[0;32m     66\u001b[0m     vjp \u001b[38;5;241m=\u001b[39m vjpfun(ans, \u001b[38;5;241m*\u001b[39margs, \u001b[38;5;241m*\u001b[39m\u001b[38;5;241m*\u001b[39mkwargs)\n\u001b[1;32m---> 67\u001b[0m     \u001b[38;5;28;01mreturn\u001b[39;00m \u001b[38;5;28;01mlambda\u001b[39;00m g: (\u001b[43mvjp\u001b[49m\u001b[43m(\u001b[49m\u001b[43mg\u001b[49m\u001b[43m)\u001b[49m,)\n\u001b[0;32m     68\u001b[0m \u001b[38;5;28;01melif\u001b[39;00m L \u001b[38;5;241m==\u001b[39m \u001b[38;5;241m2\u001b[39m:\n\u001b[0;32m     69\u001b[0m     argnum_0, argnum_1 \u001b[38;5;241m=\u001b[39m argnums\n",
      "File \u001b[1;32mc:\\Users\\mbasso.NPI-NRB507-XPS\\.conda\\envs\\prior-sc\\Lib\\site-packages\\autograd\\scipy\\special.py:112\u001b[0m, in \u001b[0;36mmake_grad_logsumexp.<locals>.vjp\u001b[1;34m(g)\u001b[0m\n\u001b[0;32m    110\u001b[0m \u001b[38;5;28;01mdef\u001b[39;00m \u001b[38;5;21mvjp\u001b[39m(g):\n\u001b[0;32m    111\u001b[0m     g_repeated,   _ \u001b[38;5;241m=\u001b[39m repeat_to_match_shape(g,   shape, dtype, axis, keepdims)\n\u001b[1;32m--> 112\u001b[0m     ans_repeated, _ \u001b[38;5;241m=\u001b[39m \u001b[43mrepeat_to_match_shape\u001b[49m\u001b[43m(\u001b[49m\u001b[43mans\u001b[49m\u001b[43m,\u001b[49m\u001b[43m \u001b[49m\u001b[43mshape\u001b[49m\u001b[43m,\u001b[49m\u001b[43m \u001b[49m\u001b[43mdtype\u001b[49m\u001b[43m,\u001b[49m\u001b[43m \u001b[49m\u001b[43maxis\u001b[49m\u001b[43m,\u001b[49m\u001b[43m \u001b[49m\u001b[43mkeepdims\u001b[49m\u001b[43m)\u001b[49m\n\u001b[0;32m    113\u001b[0m     \u001b[38;5;28;01mreturn\u001b[39;00m g_repeated \u001b[38;5;241m*\u001b[39m b \u001b[38;5;241m*\u001b[39m np\u001b[38;5;241m.\u001b[39mexp(x \u001b[38;5;241m-\u001b[39m ans_repeated)\n",
      "File \u001b[1;32mc:\\Users\\mbasso.NPI-NRB507-XPS\\.conda\\envs\\prior-sc\\Lib\\site-packages\\autograd\\numpy\\numpy_vjps.py:273\u001b[0m, in \u001b[0;36mrepeat_to_match_shape\u001b[1;34m(g, shape, dtype, axis, keepdims)\u001b[0m\n\u001b[0;32m    270\u001b[0m     \u001b[38;5;28;01mreturn\u001b[39;00m \u001b[38;5;28;01mlambda\u001b[39;00m g: anp\u001b[38;5;241m.\u001b[39mtranspose(g, axes)\n\u001b[0;32m    271\u001b[0m defvjp(anp\u001b[38;5;241m.\u001b[39mtranspose, grad_transpose)\n\u001b[1;32m--> 273\u001b[0m \u001b[38;5;28;01mdef\u001b[39;00m \u001b[38;5;21mrepeat_to_match_shape\u001b[39m(g, shape, dtype, axis, keepdims):\n\u001b[0;32m    274\u001b[0m \u001b[38;5;250m    \u001b[39m\u001b[38;5;124;03m\"\"\"Returns the array g repeated along axis to fit vector space vs.\u001b[39;00m\n\u001b[0;32m    275\u001b[0m \u001b[38;5;124;03m       Also returns the number of repetitions of the array.\"\"\"\u001b[39;00m\n\u001b[0;32m    276\u001b[0m     \u001b[38;5;28;01mif\u001b[39;00m shape \u001b[38;5;241m==\u001b[39m ():\n",
      "\u001b[1;31mKeyboardInterrupt\u001b[0m: "
     ]
    }
   ],
   "source": [
    "# fit global data with 20 initialization\n",
    "models_glm_hmm, fit_lls_glm_hmm = global_fit(choices_aggregated, inputs_aggregated, masks_aggregated, n_iters= 1000, n_initializations=20)\n",
    "\n",
    "# get best model of 20 initializations for each state\n",
    "init_params = {\n",
    "    'glm_weights': {},\n",
    "    'transition_matrix': {}\n",
    "}\n",
    "for n_states in np.arange(2,6):\n",
    "    best_idx = np.argmax(fit_lls_glm_hmm[n_states])\n",
    "    init_params['glm_weights'][n_states] = models_glm_hmm[n_states][best_idx].observations.params\n",
    "    init_params['tranition_matrices'][n_states] = models_glm_hmm[n_states][best_idx].transitions.params\n",
    "\n",
    "# session-wise fitting with 5 fold cross-validation\n",
    "models_session_state_fold, train_ll_session, test_ll_session = session_wise_fit_cv(choices_session_wise, inputs_session_wise, masks_session_wise,\n",
    "                                                                                    len((session_metadata['session_id'])), init_params, n_iters= 1000)"
   ]
  }
 ],
 "metadata": {
  "kernelspec": {
   "display_name": "prior-sc",
   "language": "python",
   "name": "python3"
  },
  "language_info": {
   "codemirror_mode": {
    "name": "ipython",
    "version": 3
   },
   "file_extension": ".py",
   "mimetype": "text/x-python",
   "name": "python",
   "nbconvert_exporter": "python",
   "pygments_lexer": "ipython3",
   "version": "3.11.9"
  }
 },
 "nbformat": 4,
 "nbformat_minor": 2
}
