{
 "cells": [
  {
   "cell_type": "code",
   "execution_count": null,
   "metadata": {},
   "outputs": [],
   "source": [
    "from notebooks.imports import *\n",
    "from config import dir_config, main_config\n",
    "compiled_dir = Path(dir_config.data.compiled)\n",
    "processed_dir = Path(dir_config.data.processed)"
   ]
  },
  {
   "cell_type": "markdown",
   "metadata": {},
   "source": [
    "#### concatenate all trials from all sessions"
   ]
  },
  {
   "cell_type": "code",
   "execution_count": null,
   "metadata": {},
   "outputs": [],
   "source": [
    "session_metadata = pd.read_csv(Path(compiled_dir, \"sessions_metadata.csv\"), index_col=None)\n",
    "trial_data_concat = pd.DataFrame()\n",
    "for idx,session_id in enumerate(session_metadata['session_id']):\n",
    "    subject = session_metadata.iloc[idx].subject\n",
    "    trial_data = pd.read_csv(Path(compiled_dir, session_id,f\"{session_id}_trial.csv\"), index_col=None)\n",
    "    trial_data.insert(0, \"Subject\", subject, True)\n",
    "    trial_data.insert(1, \"Session_name\", session_id, True)\n",
    "    trial_data_concat = pd.concat([trial_data_concat, trial_data], ignore_index=True)\n",
    "    \n",
    "#save in processed folder\n",
    "trial_data_concat.to_csv(Path(processed_dir, \"trial_data_allsessions.csv\"), index=False, na_rep=\"nan\")"
   ]
  },
  {
   "cell_type": "markdown",
   "metadata": {},
   "source": [
    "#### concatenate GP trials from all sessions"
   ]
  },
  {
   "cell_type": "code",
   "execution_count": null,
   "metadata": {},
   "outputs": [],
   "source": [
    "session_metadata = pd.read_csv(Path(compiled_dir, \"sessions_metadata.csv\"), index_col=None)\n",
    "GP_trial_data_concat = pd.DataFrame()\n",
    "for idx,session_id in enumerate(session_metadata['session_id']):\n",
    "    subject = session_metadata.iloc[idx].subject\n",
    "    trial_data = pd.read_csv(Path(compiled_dir, session_id,f\"{session_id}_trial.csv\"), index_col=None)\n",
    "    GP_trial_data = trial_data[(trial_data.task_type == 1)] #  valid GP trial\n",
    "    GP_trial_data.insert(0, \"Subject\", subject, True)\n",
    "    GP_trial_data.insert(1, \"Session_name\", session_id, True)\n",
    "    GP_trial_data_concat = pd.concat([GP_trial_data_concat, GP_trial_data], ignore_index=True)\n",
    "\n",
    "#save in processed folder   \n",
    "GP_trial_data_concat.to_csv(Path(processed_dir, \"GP_trial_allsessions.csv\"), index=False, na_rep=\"nan\")"
   ]
  }
 ],
 "metadata": {
  "kernelspec": {
   "display_name": "Python 3",
   "language": "python",
   "name": "python3"
  },
  "language_info": {
   "name": "python",
   "version": "3.10.12"
  }
 },
 "nbformat": 4,
 "nbformat_minor": 2
}
