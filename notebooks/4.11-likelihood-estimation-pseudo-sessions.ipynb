{
 "cells": [
  {
   "cell_type": "code",
   "execution_count": 1,
   "metadata": {},
   "outputs": [],
   "source": [
    "%matplotlib inline\n",
    "%load_ext autoreload\n",
    "%autoreload 2"
   ]
  },
  {
   "cell_type": "code",
   "execution_count": 2,
   "metadata": {},
   "outputs": [],
   "source": [
    "import numpy as np\n",
    "import torch\n",
    "from torch.autograd import Variable\n",
    "from torch.nn.init import normal, constant\n",
    "from torch import nn\n",
    "from matplotlib import pyplot as plt\n",
    "# from attorch.train import early_stopping\n",
    "from torch.utils.data import TensorDataset, DataLoader\n",
    "import seaborn as sns\n",
    "sns.set_context('notebook', font_scale=1.3)\n",
    "\n",
    "from torch.utils.data import random_split\n",
    "from sklearn.model_selection import train_test_split\n",
    "from torch.utils.data import WeightedRandomSampler\n",
    "\n",
    "\n",
    "torch.cuda.empty_cache()\n"
   ]
  },
  {
   "cell_type": "code",
   "execution_count": 3,
   "metadata": {},
   "outputs": [],
   "source": [
    "import numpy as np\n",
    "import numpy.random as npr\n",
    "import pandas as pd\n",
    "from sklearn import preprocessing\n",
    "\n",
    "from notebooks.imports import *\n",
    "from config import dir_config\n",
    "from src.utils.glm_hmm_utils import *\n",
    "import pickle\n",
    "import copy\n",
    "from itertools import count"
   ]
  },
  {
   "cell_type": "code",
   "execution_count": 4,
   "metadata": {},
   "outputs": [],
   "source": [
    "from src.bayesian_encoding.model import Net\n",
    "from src.bayesian_encoding.utils import set_seed"
   ]
  },
  {
   "cell_type": "markdown",
   "metadata": {},
   "source": [
    "### Config"
   ]
  },
  {
   "cell_type": "code",
   "execution_count": 5,
   "metadata": {},
   "outputs": [],
   "source": [
    "compiled_dir = Path(dir_config.data.compiled)\n",
    "processed_dir = Path(dir_config.data.processed)"
   ]
  },
  {
   "cell_type": "code",
   "execution_count": 7,
   "metadata": {},
   "outputs": [],
   "source": [
    "# reject sessions\n",
    "session_to_exclude = [\"210210_GP_JP\",\"241209_GP_TZ\"]\n",
    "\n",
    "session_metadata = pd.read_csv(Path(compiled_dir, \"sessions_metadata.csv\"))\n",
    "neuron_metadata = pd.read_csv(Path(compiled_dir, \"neuron_metadata.csv\"))\n",
    "\n",
    "session_metadata = session_metadata[~session_metadata[\"session_id\"].isin(session_to_exclude)]\n",
    "neuron_metadata = neuron_metadata[~neuron_metadata[\"session_id\"].isin(session_to_exclude)]\n",
    "\n",
    "with open(Path(processed_dir, \"glm_hmm_all_trials_prior_based_initialization_final.pkl\"), \"rb\") as f:\n",
    "\tglm_hmm = pickle.load(f)\n",
    "\n",
    "with open(Path(processed_dir, \"ephys_neuron_wise.pkl\"), \"rb\") as f:\n",
    "\tephys = pickle.load(f)"
   ]
  },
  {
   "cell_type": "code",
   "execution_count": 8,
   "metadata": {},
   "outputs": [],
   "source": [
    "coh = [-50, -20, -6, 0, 6, 20, 50]\n",
    "\n",
    "equal_prior = np.array([0.125, .125, .125, .25, .125, .125, .125])\n",
    "toRF_prior = np.array([0.075, 0.075, 0.075, 0.25, 0.175, 0.175, 0.175])\n",
    "awayRF_prior = np.array([0.175, 0.175, 0.175, 0.25, 0.075, 0.075, 0.075])"
   ]
  },
  {
   "cell_type": "markdown",
   "metadata": {},
   "source": [
    "### Helper Functions"
   ]
  },
  {
   "cell_type": "code",
   "execution_count": 9,
   "metadata": {},
   "outputs": [],
   "source": [
    "def get_session_neural_data(epoch, valid_trial_filter, neuron_ids):\n",
    "\t\"\"\"return 3d array of shape (num_neurons, num_trials, num_time_bins)\"\"\"\n",
    "\tneural_data = []\n",
    "\tfor neuron_id in neuron_ids:\n",
    "\t\tneural_data.append(ephys[epoch][neuron_id]['convolved_spike_trains'])\n",
    "\tneural_data = np.array(neural_data)\n",
    "\tneural_data = neural_data[:, valid_trial_filter, :]\n",
    "\treturn neural_data\n"
   ]
  },
  {
   "cell_type": "markdown",
   "metadata": {},
   "source": [
    "### Aggregate Sessions"
   ]
  },
  {
   "cell_type": "code",
   "execution_count": 52,
   "metadata": {},
   "outputs": [
    {
     "data": {
      "text/plain": [
       "(array([[ 48,  41,  27,  48,  14,  33,  46],\n",
       "        [ 41,  27,  13,  86,  61, 100, 108]]),\n",
       " array([[49, 37, 17, 48, 29, 43, 49],\n",
       "        [65, 61, 50, 45,  9, 20, 26]]))"
      ]
     },
     "execution_count": 52,
     "metadata": {},
     "output_type": "execute_result"
    }
   ],
   "source": [
    "toRF_trial_freq_by_coh_and_prior = np.empty((len(session_metadata), 2, len(coh)))*np.nan\n",
    "awayRF_trial_freq_by_coh_and_prior = np.empty((len(session_metadata), 2, len(coh)))*np.nan\n",
    "# aggregate all sessions\n",
    "for session_idx, session_id in enumerate(session_metadata.session_id):\n",
    "\ttrial_data = glm_hmm['session_wise']['data'][session_id]\n",
    "\tvalid_trial_filter = np.where((trial_data['mask'] == 1) & (~np.isnan(trial_data['reaction_time'])))[0]\n",
    "\ttrial_data = trial_data.iloc[valid_trial_filter]\n",
    "\ttrial_data = trial_data[\n",
    "\t\t((trial_data['stimulus'] > 0) & (trial_data['choices'] == 1)) |\n",
    "\t\t((trial_data['stimulus'] < 0) & (trial_data['choices'] == 0)) |\n",
    "\t\t(trial_data['stimulus'] == 0)\n",
    "\t]\n",
    "\ttrial_data_count = trial_data.groupby(['prob_toRF', 'stimulus']).size().reset_index(name='freq')\n",
    "\n",
    "\tprior_dir = session_metadata[session_metadata[\"session_id\"] == session_id].prior_direction.values[0]\n",
    "\tif prior_dir == \"toRF\":\n",
    "\t\ttoRF_trial_freq_by_coh_and_prior[session_idx, :, :] = np.array(trial_data_count.freq).reshape(2, len(coh))\n",
    "\telif prior_dir == \"awayRF\":\n",
    "\t\tawayRF_trial_freq_by_coh_and_prior[session_idx, :, :] = np.array(trial_data_count.freq).reshape(2, len(coh))[::-1]\n",
    "\n",
    "# \tif session_metadata[session_metadata[\"session_id\"] == session_id].prior_direction.values[0] == \"toRF\":\n",
    "# \t\ttoRF_trial_freq_by_coh_and_prior[session_idx, :, :] = np.array(trial_data_count.freq).reshape(2, len(coh))\n",
    "# \telif session_metadata[session_metadata[\"session_id\"] == session_id].prior_direction.values[0] == \"awayRF\":\n",
    "# \t\tawayRF_trial_freq_by_coh_and_prior[session_idx, :, :] = np.array(trial_data_count.freq).reshape(2, len(coh))[::-1]\n",
    "\n",
    "toRF_min_trial_per_condition = np.nanmin(toRF_trial_freq_by_coh_and_prior, axis=0).astype(int)\n",
    "awayRF_min_trial_per_condition = np.nanmin(awayRF_trial_freq_by_coh_and_prior, axis=0).astype(int)\n",
    "toRF_min_trial_per_condition, awayRF_min_trial_per_condition"
   ]
  },
  {
   "cell_type": "code",
   "execution_count": 55,
   "metadata": {},
   "outputs": [
    {
     "data": {
      "text/plain": [
       "((86, 693, 351), (81, 548, 351))"
      ]
     },
     "execution_count": 55,
     "metadata": {},
     "output_type": "execute_result"
    }
   ],
   "source": [
    "epoch = 'response_onset'\n",
    "agg_toRF_neuron_data = []\n",
    "agg_awayRF_neuron_data = []\n",
    "\n",
    "# randomly draw trials from each session\n",
    "for session_idx, session_id in enumerate(session_metadata.session_id):\n",
    "\ttrial_data = glm_hmm['session_wise']['data'][session_id]\n",
    "\tvalid_trial_filter = np.where((trial_data['mask'] == 1) & (~np.isnan(trial_data['reaction_time'])))[0]\n",
    "\ttrial_data = trial_data.iloc[valid_trial_filter]\n",
    "\ttrial_data = trial_data[\n",
    "\t\t((trial_data['stimulus'] > 0) & (trial_data['choices'] == 1)) |\n",
    "\t\t((trial_data['stimulus'] < 0) & (trial_data['choices'] == 0)) |\n",
    "\t\t(trial_data['stimulus'] == 0)\n",
    "\t]\n",
    "\n",
    "\tneuron_ids = neuron_metadata.neuron_id[neuron_metadata.session_id == session_id].values\n",
    "\n",
    "\ttoRF_trial_indices = {'eq': [], 'uneq': []}\n",
    "\tawayRF_trial_indices = {'eq': [], 'uneq': []}\n",
    "\n",
    "\t# randomly draw n trials from each session\n",
    "\tfor coh_idx, coh_val in enumerate(coh):\n",
    "\t\tequal_trials = np.where((trial_data['prob_toRF'] == 50) & (trial_data['stimulus'] == coh_val/100))[0]\n",
    "\t\tunequal_trials = np.where((trial_data['prob_toRF'] != 50) & (trial_data['stimulus'] == coh_val/100))[0]\n",
    "\n",
    "\t\tif session_metadata['prior_direction'].iloc[session_idx] == \"toRF\":\n",
    "\t\t\ttoRF_trial_indices['eq'].append(npr.choice(equal_trials, size=toRF_min_trial_per_condition[0, coh_idx], replace=False))\n",
    "\t\t\ttoRF_trial_indices['uneq'].append(npr.choice(unequal_trials, size=toRF_min_trial_per_condition[1, coh_idx], replace=False))\n",
    "\n",
    "\t\telif session_metadata['prior_direction'].iloc[session_idx] == \"awayRF\":\n",
    "\t\t\tawayRF_trial_indices['eq'].append(npr.choice(equal_trials, size=awayRF_min_trial_per_condition[0, coh_idx], replace=False))\n",
    "\t\t\tawayRF_trial_indices['uneq'].append(npr.choice(unequal_trials, size=awayRF_min_trial_per_condition[1, coh_idx], replace=False))\n",
    "\n",
    "\n",
    "\tif session_metadata['prior_direction'].iloc[session_idx] == \"toRF\":\n",
    "\t\tall_trial_indices = np.hstack(toRF_trial_indices['eq'] + toRF_trial_indices['uneq'])\n",
    "\t\tagg_toRF_neuron_data.append(get_session_neural_data(epoch=epoch, valid_trial_filter=all_trial_indices, neuron_ids=neuron_ids))\n",
    "\telif session_metadata['prior_direction'].iloc[session_idx] == \"awayRF\":\n",
    "\t\tall_trial_indices = np.hstack(awayRF_trial_indices['eq'] + awayRF_trial_indices['uneq'])\n",
    "\t\tagg_awayRF_neuron_data.append(get_session_neural_data(epoch=epoch, valid_trial_filter=all_trial_indices, neuron_ids=neuron_ids))\n",
    "\n",
    "agg_toRF_neuron_data = np.vstack(agg_toRF_neuron_data)\n",
    "agg_awayRF_neuron_data = np.vstack(agg_awayRF_neuron_data)\n",
    "agg_toRF_neuron_data.shape, agg_awayRF_neuron_data.shape"
   ]
  },
  {
   "cell_type": "markdown",
   "metadata": {},
   "source": [
    "#### prior"
   ]
  },
  {
   "cell_type": "code",
   "execution_count": 58,
   "metadata": {},
   "outputs": [],
   "source": [
    "import numpy.matlib as matlib"
   ]
  },
  {
   "cell_type": "code",
   "execution_count": 59,
   "metadata": {},
   "outputs": [],
   "source": [
    "prior_toRF = np.vstack((np.vstack([matlib.repmat(equal_prior,trial_num,1) for trial_num in toRF_min_trial_per_condition[0,:]]),\n",
    "                       np.vstack([matlib.repmat(toRF_prior,trial_num,1) for trial_num in toRF_min_trial_per_condition[1,:]])))\n",
    "\n",
    "prior_awayRF = np.vstack((np.vstack([matlib.repmat(equal_prior,trial_num,1) for trial_num in awayRF_min_trial_per_condition[0,:]]),\n",
    "                       np.vstack([matlib.repmat(awayRF_prior,trial_num,1) for trial_num in awayRF_min_trial_per_condition[1,:]])))"
   ]
  },
  {
   "cell_type": "markdown",
   "metadata": {},
   "source": [
    "#### t"
   ]
  },
  {
   "cell_type": "code",
   "execution_count": null,
   "metadata": {},
   "outputs": [],
   "source": [
    "t_toRF = np.repeat([coh,coh],toRF_min_trial_per_condition.flatten())\n",
    "t_awayRF = np.repeat([coh,coh],awayRF_min_trial_per_condition.flatten())"
   ]
  },
  {
   "cell_type": "markdown",
   "metadata": {},
   "source": [
    "### toRF session fit"
   ]
  },
  {
   "cell_type": "markdown",
   "metadata": {},
   "source": [
    "---"
   ]
  },
  {
   "cell_type": "code",
   "execution_count": 132,
   "metadata": {},
   "outputs": [],
   "source": [
    "stim_map = {stim: i for i, stim in enumerate(np.sort(coh))}\n",
    "delta = 1\n",
    "\n",
    "x = torch.tensor(np.nansum(agg_toRF_neuron_data[:, :, 200:300], axis=2).T, dtype=torch.float32, device=\"cuda\")\n",
    "t = torch.tensor([stim_map[stim] for stim in t_toRF], dtype=torch.long, device=\"cuda\")\n",
    "prior = torch.tensor(prior_toRF, dtype=torch.float32, device=\"cuda\")"
   ]
  },
  {
   "cell_type": "markdown",
   "metadata": {},
   "source": [
    "### Fixed Likelihood"
   ]
  },
  {
   "cell_type": "markdown",
   "metadata": {},
   "source": [
    "###  Test train split"
   ]
  },
  {
   "cell_type": "code",
   "execution_count": 100,
   "metadata": {},
   "outputs": [],
   "source": [
    "from scripts.likelihood_models import FixedLikelihoodNet"
   ]
  },
  {
   "cell_type": "code",
   "execution_count": 143,
   "metadata": {},
   "outputs": [],
   "source": [
    "def train_full_likelihood_model(data_loader, hyperparameters):\n",
    "\t\"\"\"\n",
    "\tTrain the neural network on the full likelihood model with mini-batch training.\n",
    "\t\"\"\"\n",
    "\t# Unpack hyperparameters\n",
    "\tn_hidden = hyperparameters.get('n_hidden', [500, 500])\n",
    "\tn_epoch = hyperparameters.get('n_epoch', 1000)\n",
    "\tbatch_size = hyperparameters.get('batch_size', 32)\n",
    "\tlearning_rate = hyperparameters.get('learning_rate', 1e-3)\n",
    "\tweight_decay = hyperparameters.get('weight_decay', 1e-5)\n",
    "\tdropout = hyperparameters.get('dropout', 0.5)\n",
    "\tstd = hyperparameters.get('std', 0.001)\n",
    "\talpha = hyperparameters.get('alpha', 1.0)\n",
    "\tbeta = hyperparameters.get('beta', 1.0)\n",
    "\tloss_fn = hyperparameters.get('loss_fn', nn.CrossEntropyLoss().cuda())\n",
    "\n",
    "\t# Move data to GPU\n",
    "\tinput, target, prior = next(iter(train_loader))\n",
    "\n",
    "\n",
    "\t# Initialize Model\n",
    "\tnet = FixedLikelihoodNet(n_channel=input.shape[1], n_output=len(target.unique()), n_hidden=n_hidden, std=std, dropout=dropout)\n",
    "\tnet.cuda()\n",
    "\tnet.initialize()\n",
    "\n",
    "\toptimizer = torch.optim.Adam(net.parameters(), lr=learning_rate, weight_decay=weight_decay)\n",
    "\ttorch.autograd.set_detect_anomaly(True)\n",
    "\n",
    "\tfor epoch in range(n_epoch):\n",
    "\t\tnet.train()\n",
    "\t\tepoch_loss = 0.0  # Track loss per epoch\n",
    "\n",
    "\t\tfor batch_input, batch_target, batch_prior in data_loader:\n",
    "\t\t\toptimizer.zero_grad()\n",
    "\n",
    "\t\t\ty = net(batch_input)\n",
    "\n",
    "\t\t\t# Check for NaNs in output\n",
    "\t\t\tif torch.isnan(y).any() or torch.isinf(y).any():\n",
    "\t\t\t\tprint(f\"NaNs/Infs detected in output y at epoch {epoch}\")\n",
    "\t\t\t\tbreak\n",
    "\n",
    "\t\t\tpost = y + batch_prior\n",
    "\t\t\tpost = post - post.max(1, keepdim=True)[0]  # Stabilize softmax\n",
    "\n",
    "\t\t\t# Check for NaNs in post\n",
    "\t\t\tif torch.isnan(post).any() or torch.isinf(post).any():\n",
    "\t\t\t\tprint(f\"NaNs/Infs detected in post at epoch {epoch}\")\n",
    "\t\t\t\tbreak\n",
    "\n",
    "\t\t\tconv_filter = torch.tensor([-0.25, 0.5, -0.25], dtype=torch.float32, device=\"cuda\").reshape(1, 1, -1)\n",
    "\t\t\tsmoothness = nn.functional.conv1d(y.unsqueeze(1), conv_filter).pow(2).mean()\n",
    "\n",
    "\t\t\tif beta > 0:\n",
    "\t\t\t\tl2 = net.l2_weights_per_layer()\n",
    "\t\t\telse:\n",
    "\t\t\t\tl2 = 0\n",
    "\n",
    "\t\t\tloss = loss_fn(post, batch_target) + alpha * smoothness + beta * l2\n",
    "\t\t\tepoch_loss += loss.item()\n",
    "\n",
    "\t\t\t# Check for NaNs in loss\n",
    "\t\t\tif torch.isnan(loss).any() or torch.isinf(loss).any():\n",
    "\t\t\t\tprint(f\"NaNs/Infs detected in loss at epoch {epoch}\")\n",
    "\t\t\t\tbreak\n",
    "\n",
    "\t\t\tloss.backward()\n",
    "\n",
    "\t\t\t# Check gradients for NaNs\n",
    "\t\t\tfor param in net.parameters():\n",
    "\t\t\t\tif param.grad is not None and torch.isnan(param.grad).any():\n",
    "\t\t\t\t\tprint(\"NaNs detected in gradients\")\n",
    "\t\t\t\t\tbreak\n",
    "\n",
    "\t\t\t# # Apply gradient clipping\n",
    "\t\t\t# torch.nn.utils.clip_grad_norm_(net.parameters(), max_norm=1.0)\n",
    "\n",
    "\t\t\toptimizer.step()\n",
    "\n",
    "\t\tif epoch % 100 == 0:\n",
    "\t\t\tprint(f'Epoch {epoch}/{n_epoch}, Avg Loss: {epoch_loss / len(data_loader):.6f}')\n",
    "\n",
    "\treturn net, batch_input, batch_target, batch_prior\n"
   ]
  },
  {
   "cell_type": "code",
   "execution_count": 134,
   "metadata": {},
   "outputs": [],
   "source": [
    "dataset = TensorDataset(x, t, prior)\n",
    "\n",
    "# Define the lengths for each split\n",
    "train_size = int(0.7 * len(dataset))  # 70% for training\n",
    "val_size = int(0.15 * len(dataset))  # 15% for validation\n",
    "test_size = len(dataset) - train_size - val_size  # Remainder for testing\n",
    "\n",
    "# Split the dataset\n",
    "train_dataset, val_dataset, test_dataset = random_split(dataset, [train_size, val_size, test_size], generator=torch.Generator().manual_seed(42))\n",
    "\n",
    "# Extract train_labels from train dataset\n",
    "train_labels = torch.tensor([dataset[i][1] for i in train_dataset.indices], dtype=torch.long)\n",
    "# Compute class frequencies\n",
    "labels, counts = torch.unique(train_labels, return_counts=True)\n",
    "class_weights = 1. / counts.float()  # Inverse frequency for each class\n",
    "sample_weights = class_weights[train_labels]  # Assign weight based on label index\n",
    "sampler = WeightedRandomSampler(sample_weights, num_samples=len(train_dataset), replacement=True)"
   ]
  },
  {
   "cell_type": "code",
   "execution_count": 136,
   "metadata": {},
   "outputs": [],
   "source": [
    "# Create DataLoader with sampler (No shuffle needed)\n",
    "batch_size = 32\n",
    "train_loader = DataLoader(train_dataset, batch_size=len(train_dataset), sampler=sampler)\n",
    "val_loader = DataLoader(val_dataset, batch_size=len(val_dataset), shuffle=False)\n",
    "test_loader = DataLoader(test_dataset, batch_size=len(test_dataset), shuffle=False)\n",
    "\n",
    "hyperparameters = {\n",
    "\t'n_hidden': [500, 500], # number of hidden units in each layer\n",
    "\t'n_epoch': 1000, # number of epochs\n",
    "\t'batch_size': 32, # batch size\n",
    "\t'learning_rate': 1e-3, # learning rate\n",
    "\t'weight_decay': 0,# 1e-6, # weight decay\n",
    "\t'dropout': 0.2, # dropout rate\n",
    "\t'std': 0.01, # std for initializing weights\n",
    "\t'alpha': 1.0, # weight on KL divergence term3\n",
    "\t'loss_fn': nn.CrossEntropyLoss(), # loss function\n",
    "\t'beta': 0.1 # weight on l2 normalization\n",
    "}"
   ]
  },
  {
   "cell_type": "code",
   "execution_count": 145,
   "metadata": {},
   "outputs": [
    {
     "name": "stdout",
     "output_type": "stream",
     "text": [
      "Epoch 0/500, Avg Loss: 1.942250\n",
      "Epoch 100/500, Avg Loss: 1.939286\n",
      "Epoch 200/500, Avg Loss: 1.942256\n",
      "Epoch 300/500, Avg Loss: 1.941013\n",
      "Epoch 400/500, Avg Loss: 1.943946\n"
     ]
    }
   ],
   "source": [
    "hyperparameters = {\n",
    "    'n_hidden': [1024, 512],\n",
    "    'n_epoch': 500,\n",
    "    'batch_size': 1,\n",
    "    'learning_rate': 1e-3,\n",
    "    'weight_decay': 0.0,\n",
    "    'dropout': 0.5,\n",
    "    'std': 0.01,\n",
    "    'alpha': 0.0,  # turn off smoothness\n",
    "    'beta': 0.0,   # turn off L2\n",
    "    'loss_fn': nn.CrossEntropyLoss()\n",
    "}\n",
    "\n",
    "\n",
    "net, input_train, target_train, prior_train = train_full_likelihood_model(train_loader, hyperparameters)"
   ]
  },
  {
   "cell_type": "code",
   "execution_count": 151,
   "metadata": {},
   "outputs": [
    {
     "data": {
      "text/plain": [
       "(14.432989690721648, 26.21359223300971)"
      ]
     },
     "execution_count": 151,
     "metadata": {},
     "output_type": "execute_result"
    }
   ],
   "source": [
    "input_val, target_val, prior_val = next(iter(val_loader))\n",
    "calculate_accuracy(net, input_train, prior_train, target_train), calculate_accuracy(net, input_val, prior_val, target_val)"
   ]
  },
  {
   "cell_type": "code",
   "execution_count": 152,
   "metadata": {},
   "outputs": [
    {
     "data": {
      "text/plain": [
       "(array(1.98343657), array(2.08088853))"
      ]
     },
     "execution_count": 152,
     "metadata": {},
     "output_type": "execute_result"
    }
   ],
   "source": [
    "objective(net, input_train, prior_train, target_train), objective(net, input_val, prior_val, target_val)"
   ]
  },
  {
   "cell_type": "code",
   "execution_count": 67,
   "metadata": {},
   "outputs": [],
   "source": [
    "def objective(net, x=None, prior=None, t=None):\n",
    "\tif x is None and t is None:\n",
    "\t\treturn None\n",
    "\tnet.eval()\n",
    "\ty = net(x)\n",
    "\tposterior = y + prior\n",
    "\t_, loc = torch.max(posterior, dim=1)\n",
    "\tv =(t.double() - loc.double()).pow(2).mean().sqrt() * delta\n",
    "\treturn v.data.cpu().numpy()"
   ]
  },
  {
   "cell_type": "code",
   "execution_count": 68,
   "metadata": {},
   "outputs": [],
   "source": [
    "def calculate_accuracy(net, x=None, prior=None, t=None):\n",
    "\t\"\"\"Calculate accuracy of the model\"\"\"\n",
    "\tt = t.cpu().numpy()\n",
    "\ty = net(x)+ prior\n",
    "\ty = y.data.cpu().numpy()\n",
    "\ty = np.exp(y)\n",
    "\ty = y / y.sum(axis=1, keepdims=True)\n",
    "\tpred = np.argmax(y, axis=1)\n",
    "\treturn np.mean(pred == t) * 100"
   ]
  },
  {
   "cell_type": "code",
   "execution_count": 72,
   "metadata": {},
   "outputs": [],
   "source": [
    "y = net(input_val)\n",
    "y = y.data.cpu().numpy()\n",
    "y = np.exp(y)\n",
    "yd = y / y.sum(axis=1, keepdims=True)"
   ]
  },
  {
   "cell_type": "code",
   "execution_count": null,
   "metadata": {},
   "outputs": [
    {
     "ename": "NameError",
     "evalue": "name 'bin_width' is not defined",
     "output_type": "error",
     "traceback": [
      "\u001b[0;31m---------------------------------------------------------------------------\u001b[0m",
      "\u001b[0;31mNameError\u001b[0m                                 Traceback (most recent call last)",
      "Cell \u001b[0;32mIn[131], line 2\u001b[0m\n\u001b[1;32m      1\u001b[0m nbins \u001b[38;5;241m=\u001b[39m \u001b[38;5;241m7\u001b[39m\n\u001b[0;32m----> 2\u001b[0m delta \u001b[38;5;241m=\u001b[39m \u001b[43mbin_width\u001b[49m\n\u001b[1;32m      3\u001b[0m pv \u001b[38;5;241m=\u001b[39m (np\u001b[38;5;241m.\u001b[39marange(nbins) \u001b[38;5;241m-\u001b[39m nbins\u001b[38;5;241m/\u001b[39m\u001b[38;5;241m/\u001b[39m\u001b[38;5;241m2\u001b[39m) \u001b[38;5;241m*\u001b[39m delta\n\u001b[1;32m      5\u001b[0m loc \u001b[38;5;241m=\u001b[39m yd\u001b[38;5;241m.\u001b[39margmax(axis\u001b[38;5;241m=\u001b[39m\u001b[38;5;241m1\u001b[39m)\n",
      "\u001b[0;31mNameError\u001b[0m: name 'bin_width' is not defined"
     ]
    }
   ],
   "source": [
    "nbins = 7\n",
    "\n",
    "pv = (np.arange(nbins) - nbins//2) * delta\n",
    "\n",
    "loc = yd.argmax(axis=1)\n",
    "ds = (np.arange(nbins) - loc[:, None])**2\n",
    "avg_sigma = np.mean(np.sqrt(np.sum(yd * ds, axis=1))) * delta\n",
    "\n",
    "n_rows = 5\n",
    "n_cols = 6\n",
    "fig, axs = plt.subplots(n_rows, n_cols, figsize=(12, 12))\n",
    "for c, ((i, j), ax) in zip(count(), np.ndenumerate(axs)):\n",
    "    c = npr.randint(0, len(yd))  # Randomize to avoid deterministic behavior in plotting\n",
    "    ax.plot(pv, yd[c])\n",
    "    ax.scatter(pv[t_[c]],0.4, color='red', marker='x', s=1)\n",
    "    ax.set_ylim([0, 1])\n",
    "    ax.set_yticks([])\n",
    "    if j == 0 and i == n_rows-1:\n",
    "        ax.set_ylabel('Likelihood (a.u.)')\n",
    "        ax.set_xlabel('Coherence (%)')\n",
    "    else:\n",
    "        ax.set_xticklabels([])\n",
    "\n",
    "fig.suptitle(\"$\\mathbf{{E}}[\\sigma]$={:0.3f}\".format(avg_sigma), fontsize=14)"
   ]
  },
  {
   "cell_type": "code",
   "execution_count": null,
   "metadata": {},
   "outputs": [
    {
     "data": {
      "image/png": "[encoded data removed]",
      "text/plain": [
       "<Figure size 640x480 with 1 Axes>"
      ]
     },
     "metadata": {},
     "output_type": "display_data"
    }
   ],
   "source": [
    "plt.figure()\n",
    "coh_hat = np.array([pv[np.argmax(yd[i])] for i in range(len(yd))])\n",
    "plt.scatter(coh_hat, target_val.cpu()-3, color='blue', alpha=0.05)\n",
    "plt.show()"
   ]
  },
  {
   "cell_type": "code",
   "execution_count": null,
   "metadata": {},
   "outputs": [],
   "source": []
  }
 ],
 "metadata": {
  "kernelspec": {
   "display_name": "Python 3",
   "language": "python",
   "name": "python3"
  },
  "language_info": {
   "codemirror_mode": {
    "name": "ipython",
    "version": 3
   },
   "file_extension": ".py",
   "mimetype": "text/x-python",
   "name": "python",
   "nbconvert_exporter": "python",
   "pygments_lexer": "ipython3",
   "version": "3.10.6"
  }
 },
 "nbformat": 4,
 "nbformat_minor": 2
}
