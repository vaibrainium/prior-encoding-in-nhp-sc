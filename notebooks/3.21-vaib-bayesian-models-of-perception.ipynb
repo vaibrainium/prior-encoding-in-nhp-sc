{
 "cells": [
  {
   "cell_type": "markdown",
   "metadata": {},
   "source": [
    "# Code for <br> Vincent 2015: A tutorial on Bayesian Models of Perception"
   ]
  },
  {
   "cell_type": "code",
   "execution_count": 2,
   "metadata": {},
   "outputs": [],
   "source": [
    "%matplotlib inline\n",
    "%load_ext autoreload\n",
    "%autoreload 2\n",
    "from notebooks.imports import *\n"
   ]
  },
  {
   "cell_type": "code",
   "execution_count": 3,
   "metadata": {},
   "outputs": [
    {
     "name": "stderr",
     "output_type": "stream",
     "text": [
      "WARNING (pytensor.tensor.blas): Using NumPy C-API based implementation for BLAS functions.\n"
     ]
    },
    {
     "name": "stdout",
     "output_type": "stream",
     "text": [
      "Currently using: NVIDIA GeForce GTX 1080 device\n"
     ]
    }
   ],
   "source": [
    "import pymc as pm\n",
    "import arviz as az\n",
    "import pytensor\n",
    "import scipy\n",
    "\n",
    "# setting float precision in pytensor\n",
    "pytensor.config.floatX = \"float32\"\n",
    "import jax\n",
    "jax.config.update(\"jax_enable_x64\", False)\n",
    "# check if GPU is available\n",
    "import torch\n",
    "if torch.cuda.is_available():\n",
    "    print(f\"Currently using: {torch.cuda.get_device_name(0)} device\")\n",
    "else:\n",
    "    print(\"No GPU available, using CPU instead.\")"
   ]
  },
  {
   "cell_type": "markdown",
   "metadata": {},
   "source": [
    "### Load Configs"
   ]
  },
  {
   "cell_type": "code",
   "execution_count": 4,
   "metadata": {},
   "outputs": [
    {
     "ename": "ConfigAttributeError",
     "evalue": "Missing key sorted\n    full_key: data.sorted\n    object_type=dict",
     "output_type": "error",
     "traceback": [
      "\u001b[0;31m---------------------------------------------------------------------------\u001b[0m",
      "\u001b[0;31mConfigAttributeError\u001b[0m                      Traceback (most recent call last)",
      "Cell \u001b[0;32mIn[4], line 4\u001b[0m\n\u001b[1;32m      1\u001b[0m \u001b[38;5;28;01mfrom\u001b[39;00m \u001b[38;5;21;01mconfig\u001b[39;00m \u001b[38;5;28;01mimport\u001b[39;00m dir_config, main_config\n\u001b[1;32m      3\u001b[0m raw_dir \u001b[38;5;241m=\u001b[39m Path(dir_config\u001b[38;5;241m.\u001b[39mdata\u001b[38;5;241m.\u001b[39mraw)\n\u001b[0;32m----> 4\u001b[0m sorted_dir \u001b[38;5;241m=\u001b[39m Path(\u001b[43mdir_config\u001b[49m\u001b[38;5;241;43m.\u001b[39;49m\u001b[43mdata\u001b[49m\u001b[38;5;241;43m.\u001b[39;49m\u001b[43msorted\u001b[49m)\n",
      "File \u001b[0;32m/usr/local/lib/python3.10/dist-packages/omegaconf/dictconfig.py:355\u001b[0m, in \u001b[0;36mDictConfig.__getattr__\u001b[0;34m(self, key)\u001b[0m\n\u001b[1;32m    351\u001b[0m     \u001b[38;5;28;01mreturn\u001b[39;00m \u001b[38;5;28mself\u001b[39m\u001b[38;5;241m.\u001b[39m_get_impl(\n\u001b[1;32m    352\u001b[0m         key\u001b[38;5;241m=\u001b[39mkey, default_value\u001b[38;5;241m=\u001b[39m_DEFAULT_MARKER_, validate_key\u001b[38;5;241m=\u001b[39m\u001b[38;5;28;01mFalse\u001b[39;00m\n\u001b[1;32m    353\u001b[0m     )\n\u001b[1;32m    354\u001b[0m \u001b[38;5;28;01mexcept\u001b[39;00m ConfigKeyError \u001b[38;5;28;01mas\u001b[39;00m e:\n\u001b[0;32m--> 355\u001b[0m     \u001b[38;5;28;43mself\u001b[39;49m\u001b[38;5;241;43m.\u001b[39;49m\u001b[43m_format_and_raise\u001b[49m\u001b[43m(\u001b[49m\n\u001b[1;32m    356\u001b[0m \u001b[43m        \u001b[49m\u001b[43mkey\u001b[49m\u001b[38;5;241;43m=\u001b[39;49m\u001b[43mkey\u001b[49m\u001b[43m,\u001b[49m\u001b[43m \u001b[49m\u001b[43mvalue\u001b[49m\u001b[38;5;241;43m=\u001b[39;49m\u001b[38;5;28;43;01mNone\u001b[39;49;00m\u001b[43m,\u001b[49m\u001b[43m \u001b[49m\u001b[43mcause\u001b[49m\u001b[38;5;241;43m=\u001b[39;49m\u001b[43me\u001b[49m\u001b[43m,\u001b[49m\u001b[43m \u001b[49m\u001b[43mtype_override\u001b[49m\u001b[38;5;241;43m=\u001b[39;49m\u001b[43mConfigAttributeError\u001b[49m\n\u001b[1;32m    357\u001b[0m \u001b[43m    \u001b[49m\u001b[43m)\u001b[49m\n\u001b[1;32m    358\u001b[0m \u001b[38;5;28;01mexcept\u001b[39;00m \u001b[38;5;167;01mException\u001b[39;00m \u001b[38;5;28;01mas\u001b[39;00m e:\n\u001b[1;32m    359\u001b[0m     \u001b[38;5;28mself\u001b[39m\u001b[38;5;241m.\u001b[39m_format_and_raise(key\u001b[38;5;241m=\u001b[39mkey, value\u001b[38;5;241m=\u001b[39m\u001b[38;5;28;01mNone\u001b[39;00m, cause\u001b[38;5;241m=\u001b[39me)\n",
      "File \u001b[0;32m/usr/local/lib/python3.10/dist-packages/omegaconf/base.py:231\u001b[0m, in \u001b[0;36mNode._format_and_raise\u001b[0;34m(self, key, value, cause, msg, type_override)\u001b[0m\n\u001b[1;32m    223\u001b[0m \u001b[38;5;28;01mdef\u001b[39;00m \u001b[38;5;21m_format_and_raise\u001b[39m(\n\u001b[1;32m    224\u001b[0m     \u001b[38;5;28mself\u001b[39m,\n\u001b[1;32m    225\u001b[0m     key: Any,\n\u001b[0;32m   (...)\u001b[0m\n\u001b[1;32m    229\u001b[0m     type_override: Any \u001b[38;5;241m=\u001b[39m \u001b[38;5;28;01mNone\u001b[39;00m,\n\u001b[1;32m    230\u001b[0m ) \u001b[38;5;241m-\u001b[39m\u001b[38;5;241m>\u001b[39m \u001b[38;5;28;01mNone\u001b[39;00m:\n\u001b[0;32m--> 231\u001b[0m     \u001b[43mformat_and_raise\u001b[49m\u001b[43m(\u001b[49m\n\u001b[1;32m    232\u001b[0m \u001b[43m        \u001b[49m\u001b[43mnode\u001b[49m\u001b[38;5;241;43m=\u001b[39;49m\u001b[38;5;28;43mself\u001b[39;49m\u001b[43m,\u001b[49m\n\u001b[1;32m    233\u001b[0m \u001b[43m        \u001b[49m\u001b[43mkey\u001b[49m\u001b[38;5;241;43m=\u001b[39;49m\u001b[43mkey\u001b[49m\u001b[43m,\u001b[49m\n\u001b[1;32m    234\u001b[0m \u001b[43m        \u001b[49m\u001b[43mvalue\u001b[49m\u001b[38;5;241;43m=\u001b[39;49m\u001b[43mvalue\u001b[49m\u001b[43m,\u001b[49m\n\u001b[1;32m    235\u001b[0m \u001b[43m        \u001b[49m\u001b[43mmsg\u001b[49m\u001b[38;5;241;43m=\u001b[39;49m\u001b[38;5;28;43mstr\u001b[39;49m\u001b[43m(\u001b[49m\u001b[43mcause\u001b[49m\u001b[43m)\u001b[49m\u001b[43m \u001b[49m\u001b[38;5;28;43;01mif\u001b[39;49;00m\u001b[43m \u001b[49m\u001b[43mmsg\u001b[49m\u001b[43m \u001b[49m\u001b[38;5;129;43;01mis\u001b[39;49;00m\u001b[43m \u001b[49m\u001b[38;5;28;43;01mNone\u001b[39;49;00m\u001b[43m \u001b[49m\u001b[38;5;28;43;01melse\u001b[39;49;00m\u001b[43m \u001b[49m\u001b[43mmsg\u001b[49m\u001b[43m,\u001b[49m\n\u001b[1;32m    236\u001b[0m \u001b[43m        \u001b[49m\u001b[43mcause\u001b[49m\u001b[38;5;241;43m=\u001b[39;49m\u001b[43mcause\u001b[49m\u001b[43m,\u001b[49m\n\u001b[1;32m    237\u001b[0m \u001b[43m        \u001b[49m\u001b[43mtype_override\u001b[49m\u001b[38;5;241;43m=\u001b[39;49m\u001b[43mtype_override\u001b[49m\u001b[43m,\u001b[49m\n\u001b[1;32m    238\u001b[0m \u001b[43m    \u001b[49m\u001b[43m)\u001b[49m\n\u001b[1;32m    239\u001b[0m     \u001b[38;5;28;01massert\u001b[39;00m \u001b[38;5;28;01mFalse\u001b[39;00m\n",
      "File \u001b[0;32m/usr/local/lib/python3.10/dist-packages/omegaconf/_utils.py:899\u001b[0m, in \u001b[0;36mformat_and_raise\u001b[0;34m(node, key, value, msg, cause, type_override)\u001b[0m\n\u001b[1;32m    896\u001b[0m     ex\u001b[38;5;241m.\u001b[39mref_type \u001b[38;5;241m=\u001b[39m ref_type\n\u001b[1;32m    897\u001b[0m     ex\u001b[38;5;241m.\u001b[39mref_type_str \u001b[38;5;241m=\u001b[39m ref_type_str\n\u001b[0;32m--> 899\u001b[0m \u001b[43m_raise\u001b[49m\u001b[43m(\u001b[49m\u001b[43mex\u001b[49m\u001b[43m,\u001b[49m\u001b[43m \u001b[49m\u001b[43mcause\u001b[49m\u001b[43m)\u001b[49m\n",
      "File \u001b[0;32m/usr/local/lib/python3.10/dist-packages/omegaconf/_utils.py:797\u001b[0m, in \u001b[0;36m_raise\u001b[0;34m(ex, cause)\u001b[0m\n\u001b[1;32m    795\u001b[0m \u001b[38;5;28;01melse\u001b[39;00m:\n\u001b[1;32m    796\u001b[0m     ex\u001b[38;5;241m.\u001b[39m__cause__ \u001b[38;5;241m=\u001b[39m \u001b[38;5;28;01mNone\u001b[39;00m\n\u001b[0;32m--> 797\u001b[0m \u001b[38;5;28;01mraise\u001b[39;00m ex\u001b[38;5;241m.\u001b[39mwith_traceback(sys\u001b[38;5;241m.\u001b[39mexc_info()[\u001b[38;5;241m2\u001b[39m])\n",
      "File \u001b[0;32m/usr/local/lib/python3.10/dist-packages/omegaconf/dictconfig.py:351\u001b[0m, in \u001b[0;36mDictConfig.__getattr__\u001b[0;34m(self, key)\u001b[0m\n\u001b[1;32m    348\u001b[0m     \u001b[38;5;28;01mraise\u001b[39;00m \u001b[38;5;167;01mAttributeError\u001b[39;00m()\n\u001b[1;32m    350\u001b[0m \u001b[38;5;28;01mtry\u001b[39;00m:\n\u001b[0;32m--> 351\u001b[0m     \u001b[38;5;28;01mreturn\u001b[39;00m \u001b[38;5;28;43mself\u001b[39;49m\u001b[38;5;241;43m.\u001b[39;49m\u001b[43m_get_impl\u001b[49m\u001b[43m(\u001b[49m\n\u001b[1;32m    352\u001b[0m \u001b[43m        \u001b[49m\u001b[43mkey\u001b[49m\u001b[38;5;241;43m=\u001b[39;49m\u001b[43mkey\u001b[49m\u001b[43m,\u001b[49m\u001b[43m \u001b[49m\u001b[43mdefault_value\u001b[49m\u001b[38;5;241;43m=\u001b[39;49m\u001b[43m_DEFAULT_MARKER_\u001b[49m\u001b[43m,\u001b[49m\u001b[43m \u001b[49m\u001b[43mvalidate_key\u001b[49m\u001b[38;5;241;43m=\u001b[39;49m\u001b[38;5;28;43;01mFalse\u001b[39;49;00m\n\u001b[1;32m    353\u001b[0m \u001b[43m    \u001b[49m\u001b[43m)\u001b[49m\n\u001b[1;32m    354\u001b[0m \u001b[38;5;28;01mexcept\u001b[39;00m ConfigKeyError \u001b[38;5;28;01mas\u001b[39;00m e:\n\u001b[1;32m    355\u001b[0m     \u001b[38;5;28mself\u001b[39m\u001b[38;5;241m.\u001b[39m_format_and_raise(\n\u001b[1;32m    356\u001b[0m         key\u001b[38;5;241m=\u001b[39mkey, value\u001b[38;5;241m=\u001b[39m\u001b[38;5;28;01mNone\u001b[39;00m, cause\u001b[38;5;241m=\u001b[39me, type_override\u001b[38;5;241m=\u001b[39mConfigAttributeError\n\u001b[1;32m    357\u001b[0m     )\n",
      "File \u001b[0;32m/usr/local/lib/python3.10/dist-packages/omegaconf/dictconfig.py:442\u001b[0m, in \u001b[0;36mDictConfig._get_impl\u001b[0;34m(self, key, default_value, validate_key)\u001b[0m\n\u001b[1;32m    438\u001b[0m \u001b[38;5;28;01mdef\u001b[39;00m \u001b[38;5;21m_get_impl\u001b[39m(\n\u001b[1;32m    439\u001b[0m     \u001b[38;5;28mself\u001b[39m, key: DictKeyType, default_value: Any, validate_key: \u001b[38;5;28mbool\u001b[39m \u001b[38;5;241m=\u001b[39m \u001b[38;5;28;01mTrue\u001b[39;00m\n\u001b[1;32m    440\u001b[0m ) \u001b[38;5;241m-\u001b[39m\u001b[38;5;241m>\u001b[39m Any:\n\u001b[1;32m    441\u001b[0m     \u001b[38;5;28;01mtry\u001b[39;00m:\n\u001b[0;32m--> 442\u001b[0m         node \u001b[38;5;241m=\u001b[39m \u001b[38;5;28;43mself\u001b[39;49m\u001b[38;5;241;43m.\u001b[39;49m\u001b[43m_get_child\u001b[49m\u001b[43m(\u001b[49m\n\u001b[1;32m    443\u001b[0m \u001b[43m            \u001b[49m\u001b[43mkey\u001b[49m\u001b[38;5;241;43m=\u001b[39;49m\u001b[43mkey\u001b[49m\u001b[43m,\u001b[49m\u001b[43m \u001b[49m\u001b[43mthrow_on_missing_key\u001b[49m\u001b[38;5;241;43m=\u001b[39;49m\u001b[38;5;28;43;01mTrue\u001b[39;49;00m\u001b[43m,\u001b[49m\u001b[43m \u001b[49m\u001b[43mvalidate_key\u001b[49m\u001b[38;5;241;43m=\u001b[39;49m\u001b[43mvalidate_key\u001b[49m\n\u001b[1;32m    444\u001b[0m \u001b[43m        \u001b[49m\u001b[43m)\u001b[49m\n\u001b[1;32m    445\u001b[0m     \u001b[38;5;28;01mexcept\u001b[39;00m (ConfigAttributeError, ConfigKeyError):\n\u001b[1;32m    446\u001b[0m         \u001b[38;5;28;01mif\u001b[39;00m default_value \u001b[38;5;129;01mis\u001b[39;00m \u001b[38;5;129;01mnot\u001b[39;00m _DEFAULT_MARKER_:\n",
      "File \u001b[0;32m/usr/local/lib/python3.10/dist-packages/omegaconf/basecontainer.py:73\u001b[0m, in \u001b[0;36mBaseContainer._get_child\u001b[0;34m(self, key, validate_access, validate_key, throw_on_missing_value, throw_on_missing_key)\u001b[0m\n\u001b[1;32m     64\u001b[0m \u001b[38;5;28;01mdef\u001b[39;00m \u001b[38;5;21m_get_child\u001b[39m(\n\u001b[1;32m     65\u001b[0m     \u001b[38;5;28mself\u001b[39m,\n\u001b[1;32m     66\u001b[0m     key: Any,\n\u001b[0;32m   (...)\u001b[0m\n\u001b[1;32m     70\u001b[0m     throw_on_missing_key: \u001b[38;5;28mbool\u001b[39m \u001b[38;5;241m=\u001b[39m \u001b[38;5;28;01mFalse\u001b[39;00m,\n\u001b[1;32m     71\u001b[0m ) \u001b[38;5;241m-\u001b[39m\u001b[38;5;241m>\u001b[39m Union[Optional[Node], List[Optional[Node]]]:\n\u001b[1;32m     72\u001b[0m \u001b[38;5;250m    \u001b[39m\u001b[38;5;124;03m\"\"\"Like _get_node, passing through to the nearest concrete Node.\"\"\"\u001b[39;00m\n\u001b[0;32m---> 73\u001b[0m     child \u001b[38;5;241m=\u001b[39m \u001b[38;5;28;43mself\u001b[39;49m\u001b[38;5;241;43m.\u001b[39;49m\u001b[43m_get_node\u001b[49m\u001b[43m(\u001b[49m\n\u001b[1;32m     74\u001b[0m \u001b[43m        \u001b[49m\u001b[43mkey\u001b[49m\u001b[38;5;241;43m=\u001b[39;49m\u001b[43mkey\u001b[49m\u001b[43m,\u001b[49m\n\u001b[1;32m     75\u001b[0m \u001b[43m        \u001b[49m\u001b[43mvalidate_access\u001b[49m\u001b[38;5;241;43m=\u001b[39;49m\u001b[43mvalidate_access\u001b[49m\u001b[43m,\u001b[49m\n\u001b[1;32m     76\u001b[0m \u001b[43m        \u001b[49m\u001b[43mvalidate_key\u001b[49m\u001b[38;5;241;43m=\u001b[39;49m\u001b[43mvalidate_key\u001b[49m\u001b[43m,\u001b[49m\n\u001b[1;32m     77\u001b[0m \u001b[43m        \u001b[49m\u001b[43mthrow_on_missing_value\u001b[49m\u001b[38;5;241;43m=\u001b[39;49m\u001b[43mthrow_on_missing_value\u001b[49m\u001b[43m,\u001b[49m\n\u001b[1;32m     78\u001b[0m \u001b[43m        \u001b[49m\u001b[43mthrow_on_missing_key\u001b[49m\u001b[38;5;241;43m=\u001b[39;49m\u001b[43mthrow_on_missing_key\u001b[49m\u001b[43m,\u001b[49m\n\u001b[1;32m     79\u001b[0m \u001b[43m    \u001b[49m\u001b[43m)\u001b[49m\n\u001b[1;32m     80\u001b[0m     \u001b[38;5;28;01mif\u001b[39;00m \u001b[38;5;28misinstance\u001b[39m(child, UnionNode) \u001b[38;5;129;01mand\u001b[39;00m \u001b[38;5;129;01mnot\u001b[39;00m _is_special(child):\n\u001b[1;32m     81\u001b[0m         value \u001b[38;5;241m=\u001b[39m child\u001b[38;5;241m.\u001b[39m_value()\n",
      "File \u001b[0;32m/usr/local/lib/python3.10/dist-packages/omegaconf/dictconfig.py:480\u001b[0m, in \u001b[0;36mDictConfig._get_node\u001b[0;34m(self, key, validate_access, validate_key, throw_on_missing_value, throw_on_missing_key)\u001b[0m\n\u001b[1;32m    478\u001b[0m \u001b[38;5;28;01mif\u001b[39;00m value \u001b[38;5;129;01mis\u001b[39;00m \u001b[38;5;28;01mNone\u001b[39;00m:\n\u001b[1;32m    479\u001b[0m     \u001b[38;5;28;01mif\u001b[39;00m throw_on_missing_key:\n\u001b[0;32m--> 480\u001b[0m         \u001b[38;5;28;01mraise\u001b[39;00m ConfigKeyError(\u001b[38;5;124mf\u001b[39m\u001b[38;5;124m\"\u001b[39m\u001b[38;5;124mMissing key \u001b[39m\u001b[38;5;132;01m{\u001b[39;00mkey\u001b[38;5;132;01m!s}\u001b[39;00m\u001b[38;5;124m\"\u001b[39m)\n\u001b[1;32m    481\u001b[0m \u001b[38;5;28;01melif\u001b[39;00m throw_on_missing_value \u001b[38;5;129;01mand\u001b[39;00m value\u001b[38;5;241m.\u001b[39m_is_missing():\n\u001b[1;32m    482\u001b[0m     \u001b[38;5;28;01mraise\u001b[39;00m MissingMandatoryValue(\u001b[38;5;124m\"\u001b[39m\u001b[38;5;124mMissing mandatory value: $KEY\u001b[39m\u001b[38;5;124m\"\u001b[39m)\n",
      "\u001b[0;31mConfigAttributeError\u001b[0m: Missing key sorted\n    full_key: data.sorted\n    object_type=dict"
     ]
    }
   ],
   "source": [
    "from config import dir_config, main_config\n",
    "\n",
    "raw_dir = Path(dir_config.data.raw)"
   ]
  },
  {
   "cell_type": "markdown",
   "metadata": {},
   "source": [
    "### Utils functions"
   ]
  },
  {
   "cell_type": "code",
   "execution_count": null,
   "metadata": {},
   "outputs": [],
   "source": [
    "import scipy.special\n",
    "\n",
    "\n",
    "def m1_posterior_prediction(T, si, variance):\n",
    "    \"\"\"\n",
    "    Generate random samples of k based on the given parameters.\n",
    "\n",
    "    Parameters:\n",
    "    - T: Number of trials\n",
    "    - si: Stimulus intensities (scalar or array)\n",
    "    - variance: Variance parameter (scalar)\n",
    "\n",
    "    Returns:\n",
    "    - k: Random samples of k based on the generated binomial distribution\n",
    "    - PCc: Probability of correct response (scalar or array)\n",
    "    \"\"\"\n",
    "\n",
    "    # Calculate PC using normal CDF\n",
    "    PCc = scipy.stats.norm.cdf(si / np.sqrt(2 * variance))\n",
    "    \n",
    "    # Sample from binomial distribution\n",
    "    k = np.random.binomial(T, PCc)\n",
    "\n",
    "    return k, PCc\n"
   ]
  },
  {
   "cell_type": "markdown",
   "metadata": {},
   "source": [
    "#### True Model Parameters"
   ]
  },
  {
   "cell_type": "code",
   "execution_count": null,
   "metadata": {},
   "outputs": [],
   "source": [
    "true_variance = 1\n",
    "true_T = 100\n",
    "true_si = np.logspace(-2, 2, 10)\n",
    "true_bias = 0\n",
    "true_lapse_rate = 0.01\n",
    "true_prior = np.array([0.5, 0.5])"
   ]
  },
  {
   "cell_type": "markdown",
   "metadata": {},
   "source": [
    "### Model 1: Statistical Decision Theory with Bayesian estimates"
   ]
  },
  {
   "cell_type": "markdown",
   "metadata": {},
   "source": [
    "#### 1. Simulate dataset"
   ]
  },
  {
   "cell_type": "code",
   "execution_count": null,
   "metadata": {},
   "outputs": [
    {
     "data": {
      "text/plain": [
       "[<matplotlib.lines.Line2D at 0x7f5df6fc7580>]"
      ]
     },
     "execution_count": 27,
     "metadata": {},
     "output_type": "execute_result"
    },
    {
     "data": {
      "image/png": "[encoded data removed]",
      "text/plain": [
       "<Figure size 640x480 with 1 Axes>"
      ]
     },
     "metadata": {},
     "output_type": "display_data"
    }
   ],
   "source": [
    "np.random.seed(42)  # For reproducibility\n",
    "data = {\n",
    "    \"sioriginal\": true_si, # example stimulus intensity\n",
    "    \"T\": true_T, # number of trials\n",
    "    \"muN\": 0, # mean of the prior\n",
    "    \"v\": true_variance, # standard deviation of the prior\n",
    "}\n",
    "data[\"ni\"] = 41 # number of iterations\n",
    "data[\"sii\"] =  np.logspace(-2, 2, data[\"ni\"]) #  interpolated stimulus intensities\n",
    "data[\"si\"] = np.concatenate([data['sioriginal'], data['sii']]) \n",
    "# Generate data['koriginal'] by simulating counts\n",
    "data[\"koriginal\"], _ = m1_posterior_prediction(data['T'], data['sioriginal'], data['v'])\n",
    "\n",
    "plt.plot(data['sioriginal'], data['koriginal'], 'o')\n"
   ]
  },
  {
   "cell_type": "markdown",
   "metadata": {},
   "source": [
    "#### 2. Parameter Recovery"
   ]
  },
  {
   "cell_type": "code",
   "execution_count": 28,
   "metadata": {},
   "outputs": [
    {
     "data": {
      "image/svg+xml": [
       "<?xml version=\"1.0\" encoding=\"UTF-8\" standalone=\"no\"?>\n",
       "<!DOCTYPE svg PUBLIC \"-//W3C//DTD SVG 1.1//EN\"\n",
       " \"http://www.w3.org/Graphics/SVG/1.1/DTD/svg11.dtd\">\n",
       "<!-- Generated by graphviz version 2.43.0 (0)\n",
       " -->\n",
       "<!-- Title: %3 Pages: 1 -->\n",
       "<svg width=\"318pt\" height=\"327pt\"\n",
       " viewBox=\"0.00 0.00 318.45 326.93\" xmlns=\"http://www.w3.org/2000/svg\" xmlns:xlink=\"http://www.w3.org/1999/xlink\">\n",
       "<g id=\"graph0\" class=\"graph\" transform=\"scale(1 1) rotate(0) translate(4 322.93)\">\n",
       "<title>%3</title>\n",
       "<polygon fill=\"white\" stroke=\"transparent\" points=\"-4,4 -4,-322.93 314.45,-322.93 314.45,4 -4,4\"/>\n",
       "<g id=\"clust1\" class=\"cluster\">\n",
       "<title>cluster10</title>\n",
       "<path fill=\"none\" stroke=\"black\" d=\"M76,-8C76,-8 182,-8 182,-8 188,-8 194,-14 194,-20 194,-20 194,-298.93 194,-298.93 194,-304.93 188,-310.93 182,-310.93 182,-310.93 76,-310.93 76,-310.93 70,-310.93 64,-304.93 64,-298.93 64,-298.93 64,-20 64,-20 64,-14 70,-8 76,-8\"/>\n",
       "<text text-anchor=\"middle\" x=\"176.5\" y=\"-15.8\" font-family=\"Times,serif\" font-size=\"14.00\">10</text>\n",
       "</g>\n",
       "<!-- T -->\n",
       "<g id=\"node1\" class=\"node\">\n",
       "<title>T</title>\n",
       "<path fill=\"lightgrey\" stroke=\"black\" d=\"M42,-202.95C42,-202.95 12,-202.95 12,-202.95 6,-202.95 0,-196.95 0,-190.95 0,-190.95 0,-161.95 0,-161.95 0,-155.95 6,-149.95 12,-149.95 12,-149.95 42,-149.95 42,-149.95 48,-149.95 54,-155.95 54,-161.95 54,-161.95 54,-190.95 54,-190.95 54,-196.95 48,-202.95 42,-202.95\"/>\n",
       "<text text-anchor=\"middle\" x=\"27\" y=\"-187.75\" font-family=\"Times,serif\" font-size=\"14.00\">T</text>\n",
       "<text text-anchor=\"middle\" x=\"27\" y=\"-172.75\" font-family=\"Times,serif\" font-size=\"14.00\">~</text>\n",
       "<text text-anchor=\"middle\" x=\"27\" y=\"-157.75\" font-family=\"Times,serif\" font-size=\"14.00\">Data</text>\n",
       "</g>\n",
       "<!-- kc -->\n",
       "<g id=\"node4\" class=\"node\">\n",
       "<title>kc</title>\n",
       "<ellipse fill=\"lightgrey\" stroke=\"black\" cx=\"129\" cy=\"-76.48\" rx=\"56.64\" ry=\"37.45\"/>\n",
       "<text text-anchor=\"middle\" x=\"129\" y=\"-87.78\" font-family=\"Times,serif\" font-size=\"14.00\">kc</text>\n",
       "<text text-anchor=\"middle\" x=\"129\" y=\"-72.78\" font-family=\"Times,serif\" font-size=\"14.00\">~</text>\n",
       "<text text-anchor=\"middle\" x=\"129\" y=\"-57.78\" font-family=\"Times,serif\" font-size=\"14.00\">Binomial</text>\n",
       "</g>\n",
       "<!-- T&#45;&gt;kc -->\n",
       "<g id=\"edge3\" class=\"edge\">\n",
       "<title>T&#45;&gt;kc</title>\n",
       "<path fill=\"none\" stroke=\"black\" d=\"M53.8,-149.71C64.85,-139.1 77.87,-126.59 89.94,-115\"/>\n",
       "<polygon fill=\"black\" stroke=\"black\" points=\"92.52,-117.37 97.31,-107.92 87.67,-112.32 92.52,-117.37\"/>\n",
       "</g>\n",
       "<!-- variance -->\n",
       "<g id=\"node2\" class=\"node\">\n",
       "<title>variance</title>\n",
       "<ellipse fill=\"none\" stroke=\"black\" cx=\"256\" cy=\"-276.43\" rx=\"54.39\" ry=\"37.45\"/>\n",
       "<text text-anchor=\"middle\" x=\"256\" y=\"-287.73\" font-family=\"Times,serif\" font-size=\"14.00\">variance</text>\n",
       "<text text-anchor=\"middle\" x=\"256\" y=\"-272.73\" font-family=\"Times,serif\" font-size=\"14.00\">~</text>\n",
       "<text text-anchor=\"middle\" x=\"256\" y=\"-257.73\" font-family=\"Times,serif\" font-size=\"14.00\">Uniform</text>\n",
       "</g>\n",
       "<!-- PCc -->\n",
       "<g id=\"node5\" class=\"node\">\n",
       "<title>PCc</title>\n",
       "<polygon fill=\"none\" stroke=\"black\" points=\"186,-202.95 72,-202.95 72,-149.95 186,-149.95 186,-202.95\"/>\n",
       "<text text-anchor=\"middle\" x=\"129\" y=\"-187.75\" font-family=\"Times,serif\" font-size=\"14.00\">PCc</text>\n",
       "<text text-anchor=\"middle\" x=\"129\" y=\"-172.75\" font-family=\"Times,serif\" font-size=\"14.00\">~</text>\n",
       "<text text-anchor=\"middle\" x=\"129\" y=\"-157.75\" font-family=\"Times,serif\" font-size=\"14.00\">Deterministic</text>\n",
       "</g>\n",
       "<!-- variance&#45;&gt;PCc -->\n",
       "<g id=\"edge2\" class=\"edge\">\n",
       "<title>variance&#45;&gt;PCc</title>\n",
       "<path fill=\"none\" stroke=\"black\" d=\"M220.29,-247.88C204.79,-235.92 186.55,-221.85 170.46,-209.44\"/>\n",
       "<polygon fill=\"black\" stroke=\"black\" points=\"172.32,-206.46 162.27,-203.12 168.05,-212 172.32,-206.46\"/>\n",
       "</g>\n",
       "<!-- sioriginal -->\n",
       "<g id=\"node3\" class=\"node\">\n",
       "<title>sioriginal</title>\n",
       "<path fill=\"lightgrey\" stroke=\"black\" d=\"M158.5,-302.93C158.5,-302.93 99.5,-302.93 99.5,-302.93 93.5,-302.93 87.5,-296.93 87.5,-290.93 87.5,-290.93 87.5,-261.93 87.5,-261.93 87.5,-255.93 93.5,-249.93 99.5,-249.93 99.5,-249.93 158.5,-249.93 158.5,-249.93 164.5,-249.93 170.5,-255.93 170.5,-261.93 170.5,-261.93 170.5,-290.93 170.5,-290.93 170.5,-296.93 164.5,-302.93 158.5,-302.93\"/>\n",
       "<text text-anchor=\"middle\" x=\"129\" y=\"-287.73\" font-family=\"Times,serif\" font-size=\"14.00\">sioriginal</text>\n",
       "<text text-anchor=\"middle\" x=\"129\" y=\"-272.73\" font-family=\"Times,serif\" font-size=\"14.00\">~</text>\n",
       "<text text-anchor=\"middle\" x=\"129\" y=\"-257.73\" font-family=\"Times,serif\" font-size=\"14.00\">Data</text>\n",
       "</g>\n",
       "<!-- sioriginal&#45;&gt;PCc -->\n",
       "<g id=\"edge1\" class=\"edge\">\n",
       "<title>sioriginal&#45;&gt;PCc</title>\n",
       "<path fill=\"none\" stroke=\"black\" d=\"M129,-249.69C129,-238.55 129,-225.32 129,-213.25\"/>\n",
       "<polygon fill=\"black\" stroke=\"black\" points=\"132.5,-213.02 129,-203.02 125.5,-213.02 132.5,-213.02\"/>\n",
       "</g>\n",
       "<!-- PCc&#45;&gt;kc -->\n",
       "<g id=\"edge4\" class=\"edge\">\n",
       "<title>PCc&#45;&gt;kc</title>\n",
       "<path fill=\"none\" stroke=\"black\" d=\"M129,-149.71C129,-141.89 129,-133.03 129,-124.27\"/>\n",
       "<polygon fill=\"black\" stroke=\"black\" points=\"132.5,-124.1 129,-114.1 125.5,-124.1 132.5,-124.1\"/>\n",
       "</g>\n",
       "</g>\n",
       "</svg>\n"
      ],
      "text/plain": [
       "<graphviz.graphs.Digraph at 0x7f5df6bd3e80>"
      ]
     },
     "execution_count": 28,
     "metadata": {},
     "output_type": "execute_result"
    }
   ],
   "source": [
    "# define the model and calculate the joint probability and posterior\n",
    "with pm.Model() as model1:\n",
    "    # Prior\n",
    "    variance = pm.Uniform(\"variance\", lower=0, upper=1000)\n",
    "    \n",
    "    # PCc using Normal CDF\n",
    "    sioriginal = pm.Data(\"sioriginal\", data[\"sioriginal\"])\n",
    "    PCc = pm.Deterministic(\"PCc\", pm.math.invlogit(sioriginal / pm.math.sqrt(2 * variance)))\n",
    "    T = pm.Data(\"T\", data[\"T\"])\n",
    "    \n",
    "    # likelihood\n",
    "    kc = pm.Binomial(\"kc\", n=T, p=PCc, observed=data[\"koriginal\"])\n",
    "    \n",
    "model1.to_graphviz()\n"
   ]
  },
  {
   "cell_type": "code",
   "execution_count": 29,
   "metadata": {},
   "outputs": [
    {
     "name": "stderr",
     "output_type": "stream",
     "text": [
      "Auto-assigning NUTS sampler...\n",
      "Initializing NUTS using jitter+adapt_diag...\n",
      "Multiprocess sampling (2 chains in 4 jobs)\n",
      "NUTS: [variance]\n"
     ]
    },
    {
     "data": {
      "application/vnd.jupyter.widget-view+json": {
       "model_id": "198cfdbaa8b9479e961ab184e8b51156",
       "version_major": 2,
       "version_minor": 0
      },
      "text/plain": [
       "Output()"
      ]
     },
     "metadata": {},
     "output_type": "display_data"
    },
    {
     "data": {
      "text/html": [
       "<pre style=\"white-space:pre;overflow-x:auto;line-height:normal;font-family:Menlo,'DejaVu Sans Mono',consolas,'Courier New',monospace\"></pre>\n"
      ],
      "text/plain": []
     },
     "metadata": {},
     "output_type": "display_data"
    },
    {
     "data": {
      "text/html": [
       "<pre style=\"white-space:pre;overflow-x:auto;line-height:normal;font-family:Menlo,'DejaVu Sans Mono',consolas,'Courier New',monospace\">\n",
       "</pre>\n"
      ],
      "text/plain": [
       "\n"
      ]
     },
     "metadata": {},
     "output_type": "display_data"
    },
    {
     "name": "stderr",
     "output_type": "stream",
     "text": [
      "Sampling 2 chains for 500 tune and 1_000 draw iterations (1_000 + 2_000 draws total) took 11 seconds.\n",
      "We recommend running at least 4 chains for robust computation of convergence diagnostics\n"
     ]
    }
   ],
   "source": [
    "with model1:\n",
    "    trace = pm.sample(draws=1000, tune=500, chains=2, cores=4, target_accept=0.95, compute_convergence_checks=True)"
   ]
  },
  {
   "cell_type": "code",
   "execution_count": 30,
   "metadata": {},
   "outputs": [
    {
     "data": {
      "text/plain": [
       "Text(0, 0.5, 'Density')"
      ]
     },
     "execution_count": 30,
     "metadata": {},
     "output_type": "execute_result"
    },
    {
     "data": {
      "image/png": "[encoded data removed]",
      "text/plain": [
       "<Figure size 600x600 with 1 Axes>"
      ]
     },
     "metadata": {},
     "output_type": "display_data"
    }
   ],
   "source": [
    "# Extract samples from the trace\n",
    "variance_samples = trace.posterior[\"variance\"].values.flatten()\n",
    "# Plotting posterior distributions\n",
    "plt.figure(figsize=(6, 6))\n",
    "plt.hist(variance_samples, bins=30, density=True, alpha=0.7)\n",
    "plt.title('Posterior Distribution of Variance')\n",
    "plt.xlabel('Variance')\n",
    "plt.ylabel('Density')\n"
   ]
  },
  {
   "cell_type": "code",
   "execution_count": 101,
   "metadata": {},
   "outputs": [
    {
     "data": {
      "image/png": "[encoded data removed]",
      "text/plain": [
       "<Figure size 800x600 with 1 Axes>"
      ]
     },
     "metadata": {},
     "output_type": "display_data"
    }
   ],
   "source": [
    "\n",
    "# Extract the variance samples from the trace\n",
    "variance_samples = trace.posterior[\"variance\"].values.flatten()\n",
    "\n",
    "# Generate simulated data using posterior samples\n",
    "def generate_simulated_data(T, si, variance_samples):\n",
    "    simulated_k = np.zeros((len(variance_samples), len(si)), dtype=int)\n",
    "    \n",
    "    for i, variance in enumerate(variance_samples):\n",
    "        k, _ = m1_posterior_prediction(T, si, variance)\n",
    "        simulated_k[i] = k\n",
    "        \n",
    "    return simulated_k.mean(axis=0)\n",
    "\n",
    "simulated_k = generate_simulated_data(data['T'], data['si'], variance_samples)\n",
    "\n",
    "# Plotting simulated data\n",
    "plt.figure(figsize=(8, 6))\n",
    "plt.plot(data['si'], simulated_k, marker='o', linestyle='', color='b', label='Simulated Data')\n",
    "plt.plot(data['sioriginal'], data['koriginal'], marker='o', linestyle=\"\", color='r', label='Original Data')\n",
    "plt.title('Simulated Data')\n",
    "plt.xlabel('Stimulus Intensity')\n",
    "plt.ylabel('Number of Correct Responses')\n",
    "plt.grid(True)\n",
    "plt.legend()\n",
    "plt.show()"
   ]
  },
  {
   "cell_type": "markdown",
   "metadata": {},
   "source": [
    "## Model 2: A Trial-to-trial SDT model"
   ]
  },
  {
   "cell_type": "markdown",
   "metadata": {},
   "source": [
    "#### 1. Simulate Data"
   ]
  },
  {
   "cell_type": "code",
   "execution_count": 1,
   "metadata": {},
   "outputs": [
    {
     "ename": "NameError",
     "evalue": "name 'true_lapse_rate' is not defined",
     "output_type": "error",
     "traceback": [
      "\u001b[0;31m---------------------------------------------------------------------------\u001b[0m",
      "\u001b[0;31mNameError\u001b[0m                                 Traceback (most recent call last)",
      "Cell \u001b[0;32mIn[1], line 1\u001b[0m\n\u001b[0;32m----> 1\u001b[0m data[\u001b[38;5;124m\"\u001b[39m\u001b[38;5;124mlr\u001b[39m\u001b[38;5;124m\"\u001b[39m] \u001b[38;5;241m=\u001b[39m \u001b[43mtrue_lapse_rate\u001b[49m\n\u001b[1;32m      2\u001b[0m data[\u001b[38;5;124m\"\u001b[39m\u001b[38;5;124mbias\u001b[39m\u001b[38;5;124m\"\u001b[39m] \u001b[38;5;241m=\u001b[39m true_bias\n\u001b[1;32m      3\u001b[0m data[\u001b[38;5;124m\"\u001b[39m\u001b[38;5;124mprior\u001b[39m\u001b[38;5;124m\"\u001b[39m] \u001b[38;5;241m=\u001b[39m true_prior\n",
      "\u001b[0;31mNameError\u001b[0m: name 'true_lapse_rate' is not defined"
     ]
    }
   ],
   "source": [
    "data[\"lr\"] = true_lapse_rate\n",
    "data[\"bias\"] = true_bias\n",
    "data[\"prior\"] = true_prior\n",
    "data[\"si\"] = np.concatenate([data[\"sioriginal\"], data[\"sioriginal\"], data[\"sii\"]])"
   ]
  },
  {
   "cell_type": "code",
   "execution_count": 123,
   "metadata": {},
   "outputs": [
    {
     "data": {
      "text/plain": [
       "array([1.00000000e-02, 2.78255940e-02, 7.74263683e-02, 2.15443469e-01,\n",
       "       5.99484250e-01, 1.66810054e+00, 4.64158883e+00, 1.29154967e+01,\n",
       "       3.59381366e+01, 1.00000000e+02])"
      ]
     },
     "execution_count": 123,
     "metadata": {},
     "output_type": "execute_result"
    }
   ],
   "source": [
    "data[\"sioriginal\"]"
   ]
  },
  {
   "cell_type": "markdown",
   "metadata": {},
   "source": [
    "#### 2. Model"
   ]
  },
  {
   "cell_type": "code",
   "execution_count": 124,
   "metadata": {},
   "outputs": [
    {
     "data": {
      "image/svg+xml": [
       "<?xml version=\"1.0\" encoding=\"UTF-8\" standalone=\"no\"?>\n",
       "<!DOCTYPE svg PUBLIC \"-//W3C//DTD SVG 1.1//EN\"\n",
       " \"http://www.w3.org/Graphics/SVG/1.1/DTD/svg11.dtd\">\n",
       "<!-- Generated by graphviz version 2.43.0 (0)\n",
       " -->\n",
       "<!-- Title: %3 Pages: 1 -->\n",
       "<svg width=\"637pt\" height=\"333pt\"\n",
       " viewBox=\"0.00 0.00 636.94 332.91\" xmlns=\"http://www.w3.org/2000/svg\" xmlns:xlink=\"http://www.w3.org/1999/xlink\">\n",
       "<g id=\"graph0\" class=\"graph\" transform=\"scale(1 1) rotate(0) translate(4 328.91)\">\n",
       "<title>%3</title>\n",
       "<polygon fill=\"white\" stroke=\"transparent\" points=\"-4,4 -4,-328.91 632.94,-328.91 632.94,4 -4,4\"/>\n",
       "<g id=\"clust1\" class=\"cluster\">\n",
       "<title>cluster10</title>\n",
       "<path fill=\"none\" stroke=\"black\" d=\"M71.45,-108C71.45,-108 362.45,-108 362.45,-108 368.45,-108 374.45,-114 374.45,-120 374.45,-120 374.45,-209.95 374.45,-209.95 374.45,-215.95 368.45,-221.95 362.45,-221.95 362.45,-221.95 71.45,-221.95 71.45,-221.95 65.45,-221.95 59.45,-215.95 59.45,-209.95 59.45,-209.95 59.45,-120 59.45,-120 59.45,-114 65.45,-108 71.45,-108\"/>\n",
       "<text text-anchor=\"middle\" x=\"356.95\" y=\"-115.8\" font-family=\"Times,serif\" font-size=\"14.00\">10</text>\n",
       "</g>\n",
       "<g id=\"clust2\" class=\"cluster\">\n",
       "<title>cluster2 x 10</title>\n",
       "<path fill=\"none\" stroke=\"black\" d=\"M250.45,-8C250.45,-8 356.45,-8 356.45,-8 362.45,-8 368.45,-14 368.45,-20 368.45,-20 368.45,-88 368.45,-88 368.45,-94 362.45,-100 356.45,-100 356.45,-100 250.45,-100 250.45,-100 244.45,-100 238.45,-94 238.45,-88 238.45,-88 238.45,-20 238.45,-20 238.45,-14 244.45,-8 250.45,-8\"/>\n",
       "<text text-anchor=\"middle\" x=\"337.95\" y=\"-15.8\" font-family=\"Times,serif\" font-size=\"14.00\">2 x 10</text>\n",
       "</g>\n",
       "<!-- variance -->\n",
       "<g id=\"node1\" class=\"node\">\n",
       "<title>variance</title>\n",
       "<ellipse fill=\"none\" stroke=\"black\" cx=\"54.45\" cy=\"-287.43\" rx=\"54.39\" ry=\"37.45\"/>\n",
       "<text text-anchor=\"middle\" x=\"54.45\" y=\"-298.73\" font-family=\"Times,serif\" font-size=\"14.00\">variance</text>\n",
       "<text text-anchor=\"middle\" x=\"54.45\" y=\"-283.73\" font-family=\"Times,serif\" font-size=\"14.00\">~</text>\n",
       "<text text-anchor=\"middle\" x=\"54.45\" y=\"-268.73\" font-family=\"Times,serif\" font-size=\"14.00\">Uniform</text>\n",
       "</g>\n",
       "<!-- x_perceived -->\n",
       "<g id=\"node6\" class=\"node\">\n",
       "<title>x_perceived</title>\n",
       "<ellipse fill=\"none\" stroke=\"black\" cx=\"138.45\" cy=\"-176.48\" rx=\"71.34\" ry=\"37.45\"/>\n",
       "<text text-anchor=\"middle\" x=\"138.45\" y=\"-187.78\" font-family=\"Times,serif\" font-size=\"14.00\">x_perceived</text>\n",
       "<text text-anchor=\"middle\" x=\"138.45\" y=\"-172.78\" font-family=\"Times,serif\" font-size=\"14.00\">~</text>\n",
       "<text text-anchor=\"middle\" x=\"138.45\" y=\"-157.78\" font-family=\"Times,serif\" font-size=\"14.00\">Normal</text>\n",
       "</g>\n",
       "<!-- variance&#45;&gt;x_perceived -->\n",
       "<g id=\"edge2\" class=\"edge\">\n",
       "<title>variance&#45;&gt;x_perceived</title>\n",
       "<path fill=\"none\" stroke=\"black\" d=\"M79.42,-254.04C87.75,-243.23 97.15,-231.04 105.97,-219.61\"/>\n",
       "<polygon fill=\"black\" stroke=\"black\" points=\"108.92,-221.51 112.26,-211.45 103.38,-217.23 108.92,-221.51\"/>\n",
       "</g>\n",
       "<!-- prior_probability -->\n",
       "<g id=\"node2\" class=\"node\">\n",
       "<title>prior_probability</title>\n",
       "<ellipse fill=\"none\" stroke=\"black\" cx=\"223.45\" cy=\"-287.43\" rx=\"96.75\" ry=\"37.45\"/>\n",
       "<text text-anchor=\"middle\" x=\"223.45\" y=\"-298.73\" font-family=\"Times,serif\" font-size=\"14.00\">prior_probability</text>\n",
       "<text text-anchor=\"middle\" x=\"223.45\" y=\"-283.73\" font-family=\"Times,serif\" font-size=\"14.00\">~</text>\n",
       "<text text-anchor=\"middle\" x=\"223.45\" y=\"-268.73\" font-family=\"Times,serif\" font-size=\"14.00\">Categorical</text>\n",
       "</g>\n",
       "<!-- prior_probability&#45;&gt;x_perceived -->\n",
       "<g id=\"edge1\" class=\"edge\">\n",
       "<title>prior_probability&#45;&gt;x_perceived</title>\n",
       "<path fill=\"none\" stroke=\"black\" d=\"M196.08,-251.36C188.12,-241.14 179.33,-229.89 171.08,-219.3\"/>\n",
       "<polygon fill=\"black\" stroke=\"black\" points=\"173.8,-217.1 164.89,-211.37 168.28,-221.41 173.8,-217.1\"/>\n",
       "</g>\n",
       "<!-- lapse_rate -->\n",
       "<g id=\"node3\" class=\"node\">\n",
       "<title>lapse_rate</title>\n",
       "<ellipse fill=\"none\" stroke=\"black\" cx=\"448.45\" cy=\"-176.48\" rx=\"63.78\" ry=\"37.45\"/>\n",
       "<text text-anchor=\"middle\" x=\"448.45\" y=\"-187.78\" font-family=\"Times,serif\" font-size=\"14.00\">lapse_rate</text>\n",
       "<text text-anchor=\"middle\" x=\"448.45\" y=\"-172.78\" font-family=\"Times,serif\" font-size=\"14.00\">~</text>\n",
       "<text text-anchor=\"middle\" x=\"448.45\" y=\"-157.78\" font-family=\"Times,serif\" font-size=\"14.00\">Beta</text>\n",
       "</g>\n",
       "<!-- mct -->\n",
       "<g id=\"node7\" class=\"node\">\n",
       "<title>mct</title>\n",
       "<polygon fill=\"none\" stroke=\"black\" points=\"360.45,-92 246.45,-92 246.45,-39 360.45,-39 360.45,-92\"/>\n",
       "<text text-anchor=\"middle\" x=\"303.45\" y=\"-76.8\" font-family=\"Times,serif\" font-size=\"14.00\">mct</text>\n",
       "<text text-anchor=\"middle\" x=\"303.45\" y=\"-61.8\" font-family=\"Times,serif\" font-size=\"14.00\">~</text>\n",
       "<text text-anchor=\"middle\" x=\"303.45\" y=\"-46.8\" font-family=\"Times,serif\" font-size=\"14.00\">Deterministic</text>\n",
       "</g>\n",
       "<!-- lapse_rate&#45;&gt;mct -->\n",
       "<g id=\"edge4\" class=\"edge\">\n",
       "<title>lapse_rate&#45;&gt;mct</title>\n",
       "<path fill=\"none\" stroke=\"black\" d=\"M418.31,-143.05C406.49,-131.27 392.43,-118.33 378.45,-108 373.5,-104.34 368.19,-100.79 362.77,-97.39\"/>\n",
       "<polygon fill=\"black\" stroke=\"black\" points=\"364.56,-94.39 354.2,-92.2 360.94,-100.37 364.56,-94.39\"/>\n",
       "</g>\n",
       "<!-- bias -->\n",
       "<g id=\"node4\" class=\"node\">\n",
       "<title>bias</title>\n",
       "<ellipse fill=\"none\" stroke=\"black\" cx=\"579.45\" cy=\"-176.48\" rx=\"49.49\" ry=\"37.45\"/>\n",
       "<text text-anchor=\"middle\" x=\"579.45\" y=\"-187.78\" font-family=\"Times,serif\" font-size=\"14.00\">bias</text>\n",
       "<text text-anchor=\"middle\" x=\"579.45\" y=\"-172.78\" font-family=\"Times,serif\" font-size=\"14.00\">~</text>\n",
       "<text text-anchor=\"middle\" x=\"579.45\" y=\"-157.78\" font-family=\"Times,serif\" font-size=\"14.00\">Normal</text>\n",
       "</g>\n",
       "<!-- bias&#45;&gt;mct -->\n",
       "<g id=\"edge5\" class=\"edge\">\n",
       "<title>bias&#45;&gt;mct</title>\n",
       "<path fill=\"none\" stroke=\"black\" d=\"M558.19,-142.27C548.47,-129.67 535.89,-116.35 521.45,-108 475.56,-81.46 416.02,-71.46 370.77,-67.89\"/>\n",
       "<polygon fill=\"black\" stroke=\"black\" points=\"370.98,-64.39 360.76,-67.18 370.48,-71.37 370.98,-64.39\"/>\n",
       "</g>\n",
       "<!-- response -->\n",
       "<g id=\"node5\" class=\"node\">\n",
       "<title>response</title>\n",
       "<ellipse fill=\"lightgrey\" stroke=\"black\" cx=\"297.45\" cy=\"-176.48\" rx=\"69.09\" ry=\"37.45\"/>\n",
       "<text text-anchor=\"middle\" x=\"297.45\" y=\"-187.78\" font-family=\"Times,serif\" font-size=\"14.00\">response</text>\n",
       "<text text-anchor=\"middle\" x=\"297.45\" y=\"-172.78\" font-family=\"Times,serif\" font-size=\"14.00\">~</text>\n",
       "<text text-anchor=\"middle\" x=\"297.45\" y=\"-157.78\" font-family=\"Times,serif\" font-size=\"14.00\">Categorical</text>\n",
       "</g>\n",
       "<!-- x_perceived&#45;&gt;mct -->\n",
       "<g id=\"edge3\" class=\"edge\">\n",
       "<title>x_perceived&#45;&gt;mct</title>\n",
       "<path fill=\"none\" stroke=\"black\" d=\"M173.33,-143.34C187.13,-131.46 203.49,-118.38 219.45,-108 225.22,-104.25 231.38,-100.6 237.64,-97.13\"/>\n",
       "<polygon fill=\"black\" stroke=\"black\" points=\"239.7,-99.99 246.85,-92.17 236.39,-93.82 239.7,-99.99\"/>\n",
       "</g>\n",
       "<!-- mct&#45;&gt;response -->\n",
       "<g id=\"edge6\" class=\"edge\">\n",
       "<title>mct&#45;&gt;response</title>\n",
       "<path fill=\"none\" stroke=\"black\" d=\"M302.03,-92.16C301.44,-103.04 300.72,-116.08 300.03,-128.58\"/>\n",
       "<polygon fill=\"black\" stroke=\"black\" points=\"296.52,-128.71 299.46,-138.89 303.51,-129.09 296.52,-128.71\"/>\n",
       "</g>\n",
       "</g>\n",
       "</svg>\n"
      ],
      "text/plain": [
       "<graphviz.graphs.Digraph at 0x7f4d33f3ca00>"
      ]
     },
     "execution_count": 124,
     "metadata": {},
     "output_type": "execute_result"
    }
   ],
   "source": [
    "import pytensor.tensor as tt\n",
    "import pymc as pm\n",
    "\n",
    "# Assuming 'data' is defined elsewhere in your script\n",
    "# and it contains 'prior', 'si', and 'koriginal'\n",
    "\n",
    "with pm.Model() as model2:\n",
    "    # Prior\n",
    "    bias = pm.Normal(\"bias\", mu=0, sigma=1/2000)\n",
    "    lapse_rate = pm.Beta(\"lapse_rate\", alpha=1, beta=1)\n",
    "    variance = pm.Uniform(\"variance\", lower=0, upper=1000)\n",
    "    target_location = pm.Categorical(\"prior_probability\", p=data[\"prior\"])\n",
    "    \n",
    "    # Likelihoods\n",
    "    mu_x_perceived = pm.math.switch(tt.eq(target_location, 1), data[\"sioriginal\"], 0)\n",
    "    x_perceived = pm.Normal(\"x_perceived\", mu=mu_x_perceived, sigma=1/variance)\n",
    "    \n",
    "    # Compute mct with compatible shapes\n",
    "    condition = x_perceived - bias > 0  # condition should be a boolean array\n",
    "    p_true = tt.stack([1 - lapse_rate/2, lapse_rate/2])  # shape (2,)\n",
    "    p_false = tt.stack([lapse_rate/2, 1 - lapse_rate/2])  # shape (2,)\n",
    "    \n",
    "    # Ensure condition is reshaped correctly for broadcasting\n",
    "    condition_broadcasted = tt.shape_padleft(condition)\n",
    "    \n",
    "    # Ensure p_true and p_false are reshaped to match condition_broadcasted\n",
    "    p_true_broadcasted = tt.shape_padright(p_true, 1)\n",
    "    p_false_broadcasted = tt.shape_padright(p_false, 1)\n",
    "    \n",
    "    # Use the switch function with the reshaped condition and p_true, p_false\n",
    "    mct = pm.Deterministic('mct', pm.math.switch(condition_broadcasted, p_true_broadcasted, p_false_broadcasted))\n",
    "    \n",
    "    # Response posterior\n",
    "    response = pm.Categorical(\"response\", p=mct, observed=data[\"koriginal\"])\n",
    "\n",
    "model2.to_graphviz()\n",
    "with model2:\n",
    "    trace = pm.sample(draws=1000, tune=500, chains=2, cores=4, target_accept=0.95, compute_convergence_checks=False)"
   ]
  },
  {
   "cell_type": "code",
   "execution_count": 125,
   "metadata": {},
   "outputs": [
    {
     "name": "stderr",
     "output_type": "stream",
     "text": [
      "/usr/local/lib/python3.10/dist-packages/pytensor/tensor/rewriting/shape.py:157: UserWarning: Failed to infer_shape from Op AdvancedSubtensor.\n",
      "Input shapes: [(TensorConstant(TensorType(int64, shape=()), data=array(10)), TensorConstant(TensorType(int64, shape=()), data=array(2))), (TensorConstant(TensorType(int64, shape=()), data=array(1)), TensorConstant(TensorType(int64, shape=()), data=array(10))), (TensorConstant(TensorType(int64, shape=()), data=array(1)), TensorConstant(TensorType(int64, shape=()), data=array(2)))]\n",
      "Exception encountered during infer_shape: <class 'ValueError'>\n",
      "Exception message: Could not broadcast dimensions. Incompatible shapes were [(ScalarConstant(ScalarType(int64), data=1), TensorConstant(TensorType(int64, shape=()), data=array(10))), (ScalarConstant(ScalarType(int64), data=1), TensorConstant(TensorType(int64, shape=()), data=array(2)))].\n",
      "Traceback: Traceback (most recent call last):\n",
      "  File \"/usr/local/lib/python3.10/dist-packages/pytensor/tensor/rewriting/shape.py\", line 133, in get_node_infer_shape\n",
      "    o_shapes = shape_infer(\n",
      "  File \"/usr/local/lib/python3.10/dist-packages/pytensor/tensor/subtensor.py\", line 2629, in infer_shape\n",
      "    indexed_result_shape(ishapes[0], index_shapes, indices_are_shapes=True)\n",
      "  File \"/usr/local/lib/python3.10/dist-packages/pytensor/tensor/subtensor.py\", line 520, in indexed_result_shape\n",
      "    res_shape += broadcast_shape(\n",
      "  File \"/usr/local/lib/python3.10/dist-packages/pytensor/tensor/extra_ops.py\", line 1456, in broadcast_shape\n",
      "    return broadcast_shape_iter(arrays, **kwargs)\n",
      "  File \"/usr/local/lib/python3.10/dist-packages/pytensor/tensor/extra_ops.py\", line 1537, in broadcast_shape_iter\n",
      "    raise ValueError(\n",
      "ValueError: Could not broadcast dimensions. Incompatible shapes were [(ScalarConstant(ScalarType(int64), data=1), TensorConstant(TensorType(int64, shape=()), data=array(10))), (ScalarConstant(ScalarType(int64), data=1), TensorConstant(TensorType(int64, shape=()), data=array(2)))].\n",
      "\n",
      "  warn(msg)\n"
     ]
    },
    {
     "ename": "SamplingError",
     "evalue": "Initial evaluation of model at starting point failed!\nStarting values:\n{'bias': array(0., dtype=float32), 'lapse_rate_logodds__': array(0., dtype=float32), 'variance_interval__': array(0., dtype=float32), 'prior_probability': array(0), 'x_perceived': array([0., 0., 0., 0., 0., 0., 0., 0., 0., 0.], dtype=float32)}\n\nLogp initial evaluation results:\n{'bias': 6.68, 'lapse_rate': -1.39, 'variance': -1.39, 'prior_probability': -0.69, 'x_perceived': 52.96, 'response': -inf}\nYou can call `model.debug()` for more details.",
     "output_type": "error",
     "traceback": [
      "\u001b[0;31m---------------------------------------------------------------------------\u001b[0m",
      "\u001b[0;31mSamplingError\u001b[0m                             Traceback (most recent call last)",
      "Cell \u001b[0;32mIn[125], line 2\u001b[0m\n\u001b[1;32m      1\u001b[0m \u001b[38;5;28;01mwith\u001b[39;00m model2:\n\u001b[0;32m----> 2\u001b[0m     trace \u001b[38;5;241m=\u001b[39m \u001b[43mpm\u001b[49m\u001b[38;5;241;43m.\u001b[39;49m\u001b[43msample\u001b[49m\u001b[43m(\u001b[49m\u001b[43mdraws\u001b[49m\u001b[38;5;241;43m=\u001b[39;49m\u001b[38;5;241;43m1000\u001b[39;49m\u001b[43m,\u001b[49m\u001b[43m \u001b[49m\u001b[43mtune\u001b[49m\u001b[38;5;241;43m=\u001b[39;49m\u001b[38;5;241;43m500\u001b[39;49m\u001b[43m,\u001b[49m\u001b[43m \u001b[49m\u001b[43mchains\u001b[49m\u001b[38;5;241;43m=\u001b[39;49m\u001b[38;5;241;43m2\u001b[39;49m\u001b[43m,\u001b[49m\u001b[43m \u001b[49m\u001b[43mcores\u001b[49m\u001b[38;5;241;43m=\u001b[39;49m\u001b[38;5;241;43m4\u001b[39;49m\u001b[43m,\u001b[49m\u001b[43m \u001b[49m\u001b[43mtarget_accept\u001b[49m\u001b[38;5;241;43m=\u001b[39;49m\u001b[38;5;241;43m0.95\u001b[39;49m\u001b[43m,\u001b[49m\u001b[43m \u001b[49m\u001b[43mcompute_convergence_checks\u001b[49m\u001b[38;5;241;43m=\u001b[39;49m\u001b[38;5;28;43;01mFalse\u001b[39;49;00m\u001b[43m)\u001b[49m\n",
      "File \u001b[0;32m/usr/local/lib/python3.10/dist-packages/pymc/sampling/mcmc.py:740\u001b[0m, in \u001b[0;36msample\u001b[0;34m(draws, tune, chains, cores, random_seed, progressbar, progressbar_theme, step, var_names, nuts_sampler, initvals, init, jitter_max_retries, n_init, trace, discard_tuned_samples, compute_convergence_checks, keep_warning_stat, return_inferencedata, idata_kwargs, nuts_sampler_kwargs, callback, mp_ctx, model, **kwargs)\u001b[0m\n\u001b[1;32m    738\u001b[0m ip: \u001b[38;5;28mdict\u001b[39m[\u001b[38;5;28mstr\u001b[39m, np\u001b[38;5;241m.\u001b[39mndarray]\n\u001b[1;32m    739\u001b[0m \u001b[38;5;28;01mfor\u001b[39;00m ip \u001b[38;5;129;01min\u001b[39;00m initial_points:\n\u001b[0;32m--> 740\u001b[0m     \u001b[43mmodel\u001b[49m\u001b[38;5;241;43m.\u001b[39;49m\u001b[43mcheck_start_vals\u001b[49m\u001b[43m(\u001b[49m\u001b[43mip\u001b[49m\u001b[43m)\u001b[49m\n\u001b[1;32m    741\u001b[0m     _check_start_shape(model, ip)\n\u001b[1;32m    743\u001b[0m \u001b[38;5;28;01mif\u001b[39;00m var_names \u001b[38;5;129;01mis\u001b[39;00m \u001b[38;5;129;01mnot\u001b[39;00m \u001b[38;5;28;01mNone\u001b[39;00m:\n",
      "File \u001b[0;32m/usr/local/lib/python3.10/dist-packages/pymc/model/core.py:1765\u001b[0m, in \u001b[0;36mModel.check_start_vals\u001b[0;34m(self, start)\u001b[0m\n\u001b[1;32m   1762\u001b[0m initial_eval \u001b[38;5;241m=\u001b[39m \u001b[38;5;28mself\u001b[39m\u001b[38;5;241m.\u001b[39mpoint_logps(point\u001b[38;5;241m=\u001b[39melem)\n\u001b[1;32m   1764\u001b[0m \u001b[38;5;28;01mif\u001b[39;00m \u001b[38;5;129;01mnot\u001b[39;00m \u001b[38;5;28mall\u001b[39m(np\u001b[38;5;241m.\u001b[39misfinite(v) \u001b[38;5;28;01mfor\u001b[39;00m v \u001b[38;5;129;01min\u001b[39;00m initial_eval\u001b[38;5;241m.\u001b[39mvalues()):\n\u001b[0;32m-> 1765\u001b[0m     \u001b[38;5;28;01mraise\u001b[39;00m SamplingError(\n\u001b[1;32m   1766\u001b[0m         \u001b[38;5;124m\"\u001b[39m\u001b[38;5;124mInitial evaluation of model at starting point failed!\u001b[39m\u001b[38;5;130;01m\\n\u001b[39;00m\u001b[38;5;124m\"\u001b[39m\n\u001b[1;32m   1767\u001b[0m         \u001b[38;5;124mf\u001b[39m\u001b[38;5;124m\"\u001b[39m\u001b[38;5;124mStarting values:\u001b[39m\u001b[38;5;130;01m\\n\u001b[39;00m\u001b[38;5;132;01m{\u001b[39;00melem\u001b[38;5;132;01m}\u001b[39;00m\u001b[38;5;130;01m\\n\u001b[39;00m\u001b[38;5;130;01m\\n\u001b[39;00m\u001b[38;5;124m\"\u001b[39m\n\u001b[1;32m   1768\u001b[0m         \u001b[38;5;124mf\u001b[39m\u001b[38;5;124m\"\u001b[39m\u001b[38;5;124mLogp initial evaluation results:\u001b[39m\u001b[38;5;130;01m\\n\u001b[39;00m\u001b[38;5;132;01m{\u001b[39;00minitial_eval\u001b[38;5;132;01m}\u001b[39;00m\u001b[38;5;130;01m\\n\u001b[39;00m\u001b[38;5;124m\"\u001b[39m\n\u001b[1;32m   1769\u001b[0m         \u001b[38;5;124m\"\u001b[39m\u001b[38;5;124mYou can call `model.debug()` for more details.\u001b[39m\u001b[38;5;124m\"\u001b[39m\n\u001b[1;32m   1770\u001b[0m     )\n",
      "\u001b[0;31mSamplingError\u001b[0m: Initial evaluation of model at starting point failed!\nStarting values:\n{'bias': array(0., dtype=float32), 'lapse_rate_logodds__': array(0., dtype=float32), 'variance_interval__': array(0., dtype=float32), 'prior_probability': array(0), 'x_perceived': array([0., 0., 0., 0., 0., 0., 0., 0., 0., 0.], dtype=float32)}\n\nLogp initial evaluation results:\n{'bias': 6.68, 'lapse_rate': -1.39, 'variance': -1.39, 'prior_probability': -0.69, 'x_perceived': 52.96, 'response': -inf}\nYou can call `model.debug()` for more details."
     ]
    }
   ],
   "source": []
  }
 ],
 "metadata": {
  "kernelspec": {
   "display_name": "venv",
   "language": "python",
   "name": "python3"
  },
  "language_info": {
   "codemirror_mode": {
    "name": "ipython",
    "version": 3
   },
   "file_extension": ".py",
   "mimetype": "text/x-python",
   "name": "python",
   "nbconvert_exporter": "python",
   "pygments_lexer": "ipython3",
   "version": "3.10.12"
  }
 },
 "nbformat": 4,
 "nbformat_minor": 2
}
