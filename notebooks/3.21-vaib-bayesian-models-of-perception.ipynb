{
 "cells": [
  {
   "cell_type": "markdown",
   "metadata": {},
   "source": [
    "# Code for <br> Vincent 2015: A tutorial on Bayesian Models of Perception"
   ]
  },
  {
   "cell_type": "code",

   "execution_count": 5,
   "metadata": {},
   "outputs": [],
   "source": [
    "%matplotlib inline\n",
    "%load_ext autoreload\n",
    "%autoreload 2\n",
    "from notebooks.imports import *\n"
   ]
  },
  {
   "cell_type": "code",
   "execution_count": 16,
   "metadata": {},
   "outputs": [],
   "source": [
    "import pymc as pm\n",
    "import arviz as az\n",
    "import scipy.io as sio\n",
    "from scipy import stats\n",
    "# from scipy.stats import percentileofscore"
   ]
  },
  {
   "cell_type": "markdown",
   "metadata": {},
   "source": [
    "### Load Configs"
   ]
  },
  {
   "cell_type": "code",
   "execution_count": 7,
   "metadata": {},
   "outputs": [],
   "source": [
    "from config import dir_config, main_config\n",
    "\n",
    "raw_dir = Path(dir_config.data.raw)\n",
    "sorted_dir = Path(dir_config.data.sorted)"
   ]
  },
  {
   "cell_type": "markdown",
   "metadata": {},
   "source": [
    "### Utils functions"
   ]
  },
  {
   "cell_type": "code",
   "execution_count": 23,
   "metadata": {},
   "outputs": [],
   "source": [
    "def m1posteriorPrediction(T, si, variance):\n",
    "    \"\"\"\n",
    "    Generate random samples of k based on the given parameters.\n",
    "\n",
    "    Parameters:\n",
    "    - T: Number of trials\n",
    "    - si: Stimulus intensities (scalar or array)\n",
    "    - variance: Variance parameter (scalar)\n",
    "\n",
    "    Returns:\n",
    "    - k: Random samples of k based on the generated binomial distribution\n",
    "    - PCc: Probability of correct response (scalar or array)\n",
    "    \"\"\"\n",
    "\n",
    "    # Calculate PC using normal CDF\n",
    "    PCc = stats.norm.cdf(si / np.sqrt(2 * variance))\n",
    "    \n",
    "    # Sample from binomial distribution\n",
    "    k = np.random.binomial(T, PCc)\n",
    "\n",
    "    return k, PCc\n"
   ]
  },
  {
   "cell_type": "markdown",
   "metadata": {},
   "source": [
    "#### True Model Parameters"
   ]
  },
  {
   "cell_type": "code",
   "execution_count": 35,
   "metadata": {},
   "outputs": [],
   "source": [
    "true_variance = 1\n",
    "true_T = 100\n",
    "true_si = np.logspace(-2, 2, 10)\n",
    "true_bias = 0\n",
    "true_lapse_rate = 0.01\n",
    "true_prior = [0.5, 0.5]"
   ]
  },
  {
   "cell_type": "code",
   "execution_count": 34,
   "metadata": {},
   "outputs": [
    {
     "data": {
      "text/plain": [
       "array([-4.60517019, -3.58179903, -2.55842788, -1.53505673, -0.51168558,\n",
       "        0.51168558,  1.53505673,  2.55842788,  3.58179903,  4.60517019])"
      ]
     },
     "execution_count": 34,
     "metadata": {},
     "output_type": "execute_result"
    }
   ],
   "source": [
    "np.log(true_si)\n"
   ]
  },
  {
   "cell_type": "markdown",
   "metadata": {},
   "source": [
    "### Model 1: Statistical Decision Theory with Bayesian estimates"
   ]
  },
  {
   "cell_type": "markdown",
   "metadata": {},
   "source": [
    "#### 1. Simulate dataset"
   ]
  },
  {
   "cell_type": "code",
   "execution_count": 36,
   "metadata": {},
   "outputs": [],
   "source": [
    "np.random.seed(42)  # For reproducibility\n",
    "data = {\n",
    "    \"sioriginal\": true_si, # example stimulus intensity\n",
    "    \"T\": true_T, # number of trials\n",
    "    \"muN\": 0, # mean of the prior\n",
    "    \"v\": true_variance, # standard deviation of the prior\n",
    "}\n",
    "data[\"ni\"] = 41 # number of iterations\n",
    "data[\"sii\"] =  np.logspace(-2, 2, data[\"ni\"]) #  interpolated stimulus intensities\n",
    "data[\"si\"] = np.concatenate([data['sioriginal'], data['sii']]) \n",
    "# Generate data['koriginal'] by simulating counts\n",
    "data[\"koriginal\"], _ = m1posteriorPrediction(data['T'], data['sioriginal'], data['v'])\n"
   ]
  },
  {
   "cell_type": "markdown",
   "metadata": {},
   "source": [
    "#### 2. Parameter Recovery"
   ]
  },
  {
   "cell_type": "code",
   "execution_count": 13,
   "metadata": {},
   "outputs": [],
   "source": [
    "# define the model\n",
    "\n",
    "with pm.Model() as model:\n",
    "    # Prior\n",
    "    variance = pm.Uniform(\"variance\", lower=0, upper=1000)\n",
    "    \n",
    "    # Likelihood\n",
    "    \n",
    "    \n",
    "    \n"
   ]
  },
  {
   "cell_type": "code",
   "execution_count": 14,
   "metadata": {},
   "outputs": [
    {
     "data": {
      "text/plain": [
       "[<matplotlib.lines.Line2D at 0x7f9295736d10>]"
      ]
     },
     "execution_count": 14,
     "metadata": {},
     "output_type": "execute_result"
    },
    {
     "data": {
      "image/png": "[encoded data removed]",
      "text/plain": [
       "<Figure size 640x480 with 1 Axes>"
      ]
     },
     "metadata": {},
     "output_type": "display_data"
    }
   ],
   "source": [
    "plt.plot(data[\"sioriginal\"], observed_counts, \"o\")"
   ]
  },
  {
   "cell_type": "code",
   "execution_count": 9,
   "metadata": {},
   "outputs": [
    {
     "name": "stderr",
     "output_type": "stream",
     "text": [
      "Auto-assigning NUTS sampler...\n",
      "Initializing NUTS using jitter+adapt_diag...\n",
      "Sequential sampling (1 chains in 1 job)\n",
      "NUTS: [variance]\n"
     ]
    },
    {
     "data": {
      "application/vnd.jupyter.widget-view+json": {
       "model_id": "8763c93633954475b5c56a4e998f3264",
       "version_major": 2,
       "version_minor": 0
      },
      "text/plain": [
       "Output()"
      ]
     },
     "metadata": {},
     "output_type": "display_data"
    },
    {
     "data": {
      "text/html": [
       "<pre style=\"white-space:pre;overflow-x:auto;line-height:normal;font-family:Menlo,'DejaVu Sans Mono',consolas,'Courier New',monospace\"></pre>\n"
      ],
      "text/plain": []
     },
     "metadata": {},
     "output_type": "display_data"
    },
    {
     "data": {
      "text/html": [
       "<pre style=\"white-space:pre;overflow-x:auto;line-height:normal;font-family:Menlo,'DejaVu Sans Mono',consolas,'Courier New',monospace\">\n",
       "</pre>\n"
      ],
      "text/plain": [
       "\n"
      ]
     },
     "metadata": {},
     "output_type": "display_data"
    },
    {
     "name": "stderr",
     "output_type": "stream",
     "text": [
      "Sampling 1 chain for 1_000 tune and 1_000 draw iterations (1_000 + 1_000 draws total) took 7 seconds.\n",
      "Only one chain was sampled, this makes it impossible to run some convergence checks\n",
      "arviz - WARNING - Shape validation failed: input_shape: (1, 1000), minimum_shape: (chains=2, draws=4)\n"
     ]
    },
    {
     "name": "stdout",
     "output_type": "stream",
     "text": [
      "           mean     sd  hdi_3%  hdi_97%  mcse_mean  mcse_sd  ess_bulk  \\\n",
      "variance  0.438  0.117   0.244    0.639      0.005    0.004     460.0   \n",
      "\n",
      "          ess_tail  r_hat  \n",
      "variance     676.0    NaN  \n"
     ]
    },
    {
     "data": {
      "image/png": "[encoded data removed]",
      "text/plain": [
       "<Figure size 640x480 with 1 Axes>"
      ]
     },
     "metadata": {},
     "output_type": "display_data"
    },
    {
     "name": "stderr",
     "output_type": "stream",
     "text": [
      "Sampling: [predk]\n"
     ]
    },
    {
     "data": {
      "application/vnd.jupyter.widget-view+json": {
       "model_id": "f3b5cd22882c437a9312dbabe65e25e9",
       "version_major": 2,
       "version_minor": 0
      },
      "text/plain": [
       "Output()"
      ]
     },
     "metadata": {},
     "output_type": "display_data"
    },
    {
     "data": {
      "text/html": [
       "<pre style=\"white-space:pre;overflow-x:auto;line-height:normal;font-family:Menlo,'DejaVu Sans Mono',consolas,'Courier New',monospace\"></pre>\n"
      ],
      "text/plain": []
     },
     "metadata": {},
     "output_type": "display_data"
    },
    {
     "data": {
      "text/html": [
       "<pre style=\"white-space:pre;overflow-x:auto;line-height:normal;font-family:Menlo,'DejaVu Sans Mono',consolas,'Courier New',monospace\">\n",
       "</pre>\n"
      ],
      "text/plain": [
       "\n"
      ]
     },
     "metadata": {},
     "output_type": "display_data"
    },
    {
     "ename": "KeyError",
     "evalue": "'predk'",
     "output_type": "error",
     "traceback": [
      "\u001b[0;31m---------------------------------------------------------------------------\u001b[0m",
      "\u001b[0;31mKeyError\u001b[0m                                  Traceback (most recent call last)",
      "Cell \u001b[0;32mIn[9], line 46\u001b[0m\n\u001b[1;32m     44\u001b[0m fig, ax \u001b[38;5;241m=\u001b[39m plt\u001b[38;5;241m.\u001b[39msubplots()\n\u001b[1;32m     45\u001b[0m ax\u001b[38;5;241m.\u001b[39mhist(observed_counts, bins\u001b[38;5;241m=\u001b[39m\u001b[38;5;241m20\u001b[39m, alpha\u001b[38;5;241m=\u001b[39m\u001b[38;5;241m0.5\u001b[39m, label\u001b[38;5;241m=\u001b[39m\u001b[38;5;124m'\u001b[39m\u001b[38;5;124mObserved\u001b[39m\u001b[38;5;124m'\u001b[39m)\n\u001b[0;32m---> 46\u001b[0m ax\u001b[38;5;241m.\u001b[39mhist(\u001b[43mppc\u001b[49m\u001b[43m[\u001b[49m\u001b[38;5;124;43m'\u001b[39;49m\u001b[38;5;124;43mpredk\u001b[39;49m\u001b[38;5;124;43m'\u001b[39;49m\u001b[43m]\u001b[49m\u001b[38;5;241m.\u001b[39mflatten(), bins\u001b[38;5;241m=\u001b[39m\u001b[38;5;241m20\u001b[39m, alpha\u001b[38;5;241m=\u001b[39m\u001b[38;5;241m0.5\u001b[39m, label\u001b[38;5;241m=\u001b[39m\u001b[38;5;124m'\u001b[39m\u001b[38;5;124mPredicted\u001b[39m\u001b[38;5;124m'\u001b[39m)\n\u001b[1;32m     47\u001b[0m ax\u001b[38;5;241m.\u001b[39mlegend()\n\u001b[1;32m     48\u001b[0m plt\u001b[38;5;241m.\u001b[39mshow()\n",
      "File \u001b[0;32m/usr/local/lib/python3.10/dist-packages/arviz/data/inference_data.py:266\u001b[0m, in \u001b[0;36mInferenceData.__getitem__\u001b[0;34m(self, key)\u001b[0m\n\u001b[1;32m    264\u001b[0m \u001b[38;5;250m\u001b[39m\u001b[38;5;124;03m\"\"\"Get item by key.\"\"\"\u001b[39;00m\n\u001b[1;32m    265\u001b[0m \u001b[38;5;28;01mif\u001b[39;00m key \u001b[38;5;129;01mnot\u001b[39;00m \u001b[38;5;129;01min\u001b[39;00m \u001b[38;5;28mself\u001b[39m\u001b[38;5;241m.\u001b[39m_groups_all:\n\u001b[0;32m--> 266\u001b[0m     \u001b[38;5;28;01mraise\u001b[39;00m \u001b[38;5;167;01mKeyError\u001b[39;00m(key)\n\u001b[1;32m    267\u001b[0m \u001b[38;5;28;01mreturn\u001b[39;00m \u001b[38;5;28mgetattr\u001b[39m(\u001b[38;5;28mself\u001b[39m, key)\n",
      "\u001b[0;31mKeyError\u001b[0m: 'predk'"
     ]
    },
    {
     "data": {
      "image/png": "[encoded data removed]",
      "text/plain": [
       "<Figure size 640x480 with 1 Axes>"
      ]
     },
     "metadata": {},
     "output_type": "display_data"
    }
   ],
   "source": [
    "\n",
    "\n",
    "\n",
    "\n",
    "\n",
    "# Summarize the original counts\n",
    "observed_counts = np.sum(data[\"koriginal\"] > 0, axis=1)  # Counts of correct responses per stimulus intensity\n",
    "\n",
    "# Define the probabilistic model\n",
    "with pm.Model() as model:\n",
    "    # Prior for the variance\n",
    "    variance = pm.Uniform('variance', lower=0, upper=1000)\n",
    "    \n",
    "    # Likelihood\n",
    "    predk = pm.Binomial('predk', n=data['T'], p=pm.math.invlogit(data['sioriginal'] / pm.math.sqrt(variance)), observed=observed_counts)\n",
    "    \n",
    "    # Inference\n",
    "    trace = pm.sample(1000, chains=1, return_inferencedata=True)\n",
    "\n",
    "# Summarize the trace\n",
    "print(az.summary(trace, var_names=[\"variance\"]))\n",
    "\n",
    "# Plot the posterior distribution of variance\n",
    "az.plot_posterior(trace, var_names=[\"variance\"])\n",
    "plt.show()\n",
    "\n",
    "# Predictive checks\n",
    "with model:\n",
    "    ppc = pm.sample_posterior_predictive(trace, var_names=[\"predk\"], random_seed=42)\n",
    "\n",
    "# Plot the observed vs. predicted counts\n",
    "fig, ax = plt.subplots()\n",
    "ax.hist(observed_counts, bins=20, alpha=0.5, label='Observed')\n",
    "ax.hist(ppc['predk'].flatten(), bins=20, alpha=0.5, label='Predicted')\n",
    "ax.legend()\n",
    "plt.show()\n"
   ]
  }
 ],
 "metadata": {
  "kernelspec": {
   "display_name": "venv",
   "language": "python",
   "name": "python3"
  },
  "language_info": {
   "codemirror_mode": {
    "name": "ipython",
    "version": 3
   },
   "file_extension": ".py",
   "mimetype": "text/x-python",
   "name": "python",
   "nbconvert_exporter": "python",
   "pygments_lexer": "ipython3",
   "version": "3.10.12"
  }
 },
 "nbformat": 4,
 "nbformat_minor": 2
}
