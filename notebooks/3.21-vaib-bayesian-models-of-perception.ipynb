{
 "cells": [
  {
   "cell_type": "markdown",
   "metadata": {},
   "source": [
    "# Code for <br> Vincent 2015: A tutorial on Bayesian Models of Perception"
   ]
  },
  {
   "cell_type": "code",
   "execution_count": 1,
   "metadata": {},
   "outputs": [],
   "source": [
    "%matplotlib inline\n",
    "%load_ext autoreload\n",
    "%autoreload 2\n",
    "from notebooks.imports import *\n"
   ]
  },
  {
   "cell_type": "code",
   "execution_count": 2,
   "metadata": {},
   "outputs": [
    {
     "name": "stderr",
     "output_type": "stream",
     "text": [
      "WARNING (pytensor.tensor.blas): Using NumPy C-API based implementation for BLAS functions.\n"
     ]
    },
    {
     "name": "stdout",
     "output_type": "stream",
     "text": [
      "Currently using: NVIDIA GeForce GTX 1080 device\n"
     ]
    }
   ],
   "source": [
    "import pymc as pm\n",
    "import arviz as az\n",
    "import pytensor\n",
    "import scipy\n",
    "\n",
    "# setting float precision in pytensor\n",
    "pytensor.config.floatX = \"float32\"\n",
    "import jax\n",
    "jax.config.update(\"jax_enable_x64\", False)\n",
    "# check if GPU is available\n",
    "import torch\n",
    "if torch.cuda.is_available():\n",
    "    print(f\"Currently using: {torch.cuda.get_device_name(0)} device\")\n",
    "else:\n",
    "    print(\"No GPU available, using CPU instead.\")"
   ]
  },
  {
   "cell_type": "markdown",
   "metadata": {},
   "source": [
    "### Load Configs"
   ]
  },
  {
   "cell_type": "code",
   "execution_count": 4,
   "metadata": {},
   "outputs": [],
   "source": [
    "from config import dir_config, main_config\n",
    "\n",
    "raw_dir = Path(dir_config.data.raw)"
   ]
  },
  {
   "cell_type": "markdown",
   "metadata": {},
   "source": [
    "### Utils functions"
   ]
  },
  {
   "cell_type": "code",
   "execution_count": 5,
   "metadata": {},
   "outputs": [],
   "source": [
    "import scipy.special\n",
    "\n",
    "\n",
    "def m1_posterior_prediction(T, si, variance):\n",
    "    \"\"\"\n",
    "    Generate random samples of k based on the given parameters.\n",
    "\n",
    "    Parameters:\n",
    "    - T: Number of trials\n",
    "    - si: Stimulus intensities (scalar or array)\n",
    "    - variance: Variance parameter (scalar)\n",
    "\n",
    "    Returns:\n",
    "    - k: Random samples of k based on the generated binomial distribution\n",
    "    - PCc: Probability of correct response (scalar or array)\n",
    "    \"\"\"\n",
    "\n",
    "    # Calculate PC using normal CDF\n",
    "    PCc = scipy.stats.norm.cdf(si / np.sqrt(2 * variance))\n",
    "    \n",
    "    # Sample from binomial distribution\n",
    "    k = np.random.binomial(T, PCc)\n",
    "\n",
    "    return k, PCc\n"
   ]
  },
  {
   "cell_type": "markdown",
   "metadata": {},
   "source": [
    "#### True Model Parameters"
   ]
  },
  {
   "cell_type": "code",
   "execution_count": 6,
   "metadata": {},
   "outputs": [],
   "source": [
    "true_variance = 1\n",
    "true_T = 100\n",
    "true_si = np.logspace(-2, 2, 10)\n",
    "true_bias = 0\n",
    "true_lapse_rate = 0.01\n",
    "true_prior = np.array([0.5, 0.5])"
   ]
  },
  {
   "cell_type": "markdown",
   "metadata": {},
   "source": [
    "### Model 1: Statistical Decision Theory with Bayesian estimates"
   ]
  },
  {
   "cell_type": "markdown",
   "metadata": {},
   "source": [
    "#### 1. Simulate dataset"
   ]
  },
  {
   "cell_type": "code",
   "execution_count": 7,
   "metadata": {},
   "outputs": [
    {
     "data": {
      "text/plain": [
       "[<matplotlib.lines.Line2D at 0x7fa26b52fa30>]"
      ]
     },
     "execution_count": 7,
     "metadata": {},
     "output_type": "execute_result"
    },
    {
     "data": {
      "image/png": "[encoded data removed]",
      "text/plain": [
       "<Figure size 640x480 with 1 Axes>"
      ]
     },
     "metadata": {},
     "output_type": "display_data"
    }
   ],
   "source": [
    "np.random.seed(42)  # For reproducibility\n",
    "data = {\n",
    "    \"sioriginal\": true_si, # example stimulus intensity\n",
    "    \"T\": true_T, # number of trials\n",
    "    \"muN\": 0, # mean of the prior\n",
    "    \"v\": true_variance, # standard deviation of the prior\n",
    "}\n",
    "data[\"ni\"] = 41 # number of iterations\n",
    "data[\"sii\"] =  np.logspace(-2, 2, data[\"ni\"]) #  interpolated stimulus intensities\n",
    "data[\"si\"] = np.concatenate([data['sioriginal'], data['sii']]) \n",
    "# Generate data['koriginal'] by simulating counts\n",
    "data[\"koriginal\"], _ = m1_posterior_prediction(data['T'], data['sioriginal'], data['v'])\n",
    "\n",
    "plt.plot(data['sioriginal'], data['koriginal'], 'o')\n"
   ]
  },
  {
   "cell_type": "markdown",
   "metadata": {},
   "source": [
    "#### 2. Parameter Recovery"
   ]
  },
  {
   "cell_type": "code",
   "execution_count": 8,
   "metadata": {},
   "outputs": [
    {
     "data": {
      "image/svg+xml": [
       "<?xml version=\"1.0\" encoding=\"UTF-8\" standalone=\"no\"?>\n",
       "<!DOCTYPE svg PUBLIC \"-//W3C//DTD SVG 1.1//EN\"\n",
       " \"http://www.w3.org/Graphics/SVG/1.1/DTD/svg11.dtd\">\n",
       "<!-- Generated by graphviz version 2.43.0 (0)\n",
       " -->\n",
       "<!-- Title: %3 Pages: 1 -->\n",
       "<svg width=\"318pt\" height=\"327pt\"\n",
       " viewBox=\"0.00 0.00 318.45 326.93\" xmlns=\"http://www.w3.org/2000/svg\" xmlns:xlink=\"http://www.w3.org/1999/xlink\">\n",
       "<g id=\"graph0\" class=\"graph\" transform=\"scale(1 1) rotate(0) translate(4 322.93)\">\n",
       "<title>%3</title>\n",
       "<polygon fill=\"white\" stroke=\"transparent\" points=\"-4,4 -4,-322.93 314.45,-322.93 314.45,4 -4,4\"/>\n",
       "<g id=\"clust1\" class=\"cluster\">\n",
       "<title>cluster10</title>\n",
       "<path fill=\"none\" stroke=\"black\" d=\"M128.45,-8C128.45,-8 234.45,-8 234.45,-8 240.45,-8 246.45,-14 246.45,-20 246.45,-20 246.45,-298.93 246.45,-298.93 246.45,-304.93 240.45,-310.93 234.45,-310.93 234.45,-310.93 128.45,-310.93 128.45,-310.93 122.45,-310.93 116.45,-304.93 116.45,-298.93 116.45,-298.93 116.45,-20 116.45,-20 116.45,-14 122.45,-8 128.45,-8\"/>\n",
       "<text text-anchor=\"middle\" x=\"228.95\" y=\"-15.8\" font-family=\"Times,serif\" font-size=\"14.00\">10</text>\n",
       "</g>\n",
       "<!-- variance -->\n",
       "<g id=\"node1\" class=\"node\">\n",
       "<title>variance</title>\n",
       "<ellipse fill=\"none\" stroke=\"black\" cx=\"54.45\" cy=\"-276.43\" rx=\"54.39\" ry=\"37.45\"/>\n",
       "<text text-anchor=\"middle\" x=\"54.45\" y=\"-287.73\" font-family=\"Times,serif\" font-size=\"14.00\">variance</text>\n",
       "<text text-anchor=\"middle\" x=\"54.45\" y=\"-272.73\" font-family=\"Times,serif\" font-size=\"14.00\">~</text>\n",
       "<text text-anchor=\"middle\" x=\"54.45\" y=\"-257.73\" font-family=\"Times,serif\" font-size=\"14.00\">Uniform</text>\n",
       "</g>\n",
       "<!-- PCc -->\n",
       "<g id=\"node3\" class=\"node\">\n",
       "<title>PCc</title>\n",
       "<polygon fill=\"none\" stroke=\"black\" points=\"238.45,-202.95 124.45,-202.95 124.45,-149.95 238.45,-149.95 238.45,-202.95\"/>\n",
       "<text text-anchor=\"middle\" x=\"181.45\" y=\"-187.75\" font-family=\"Times,serif\" font-size=\"14.00\">PCc</text>\n",
       "<text text-anchor=\"middle\" x=\"181.45\" y=\"-172.75\" font-family=\"Times,serif\" font-size=\"14.00\">~</text>\n",
       "<text text-anchor=\"middle\" x=\"181.45\" y=\"-157.75\" font-family=\"Times,serif\" font-size=\"14.00\">Deterministic</text>\n",
       "</g>\n",
       "<!-- variance&#45;&gt;PCc -->\n",
       "<g id=\"edge1\" class=\"edge\">\n",
       "<title>variance&#45;&gt;PCc</title>\n",
       "<path fill=\"none\" stroke=\"black\" d=\"M90.16,-247.88C105.66,-235.92 123.9,-221.85 139.99,-209.44\"/>\n",
       "<polygon fill=\"black\" stroke=\"black\" points=\"142.4,-212 148.18,-203.12 138.12,-206.46 142.4,-212\"/>\n",
       "</g>\n",
       "<!-- T -->\n",
       "<g id=\"node2\" class=\"node\">\n",
       "<title>T</title>\n",
       "<path fill=\"lightgrey\" stroke=\"black\" d=\"M298.45,-202.95C298.45,-202.95 268.45,-202.95 268.45,-202.95 262.45,-202.95 256.45,-196.95 256.45,-190.95 256.45,-190.95 256.45,-161.95 256.45,-161.95 256.45,-155.95 262.45,-149.95 268.45,-149.95 268.45,-149.95 298.45,-149.95 298.45,-149.95 304.45,-149.95 310.45,-155.95 310.45,-161.95 310.45,-161.95 310.45,-190.95 310.45,-190.95 310.45,-196.95 304.45,-202.95 298.45,-202.95\"/>\n",
       "<text text-anchor=\"middle\" x=\"283.45\" y=\"-187.75\" font-family=\"Times,serif\" font-size=\"14.00\">T</text>\n",
       "<text text-anchor=\"middle\" x=\"283.45\" y=\"-172.75\" font-family=\"Times,serif\" font-size=\"14.00\">~</text>\n",
       "<text text-anchor=\"middle\" x=\"283.45\" y=\"-157.75\" font-family=\"Times,serif\" font-size=\"14.00\">Data</text>\n",
       "</g>\n",
       "<!-- kc -->\n",
       "<g id=\"node4\" class=\"node\">\n",
       "<title>kc</title>\n",
       "<ellipse fill=\"lightgrey\" stroke=\"black\" cx=\"181.45\" cy=\"-76.48\" rx=\"56.64\" ry=\"37.45\"/>\n",
       "<text text-anchor=\"middle\" x=\"181.45\" y=\"-87.78\" font-family=\"Times,serif\" font-size=\"14.00\">kc</text>\n",
       "<text text-anchor=\"middle\" x=\"181.45\" y=\"-72.78\" font-family=\"Times,serif\" font-size=\"14.00\">~</text>\n",
       "<text text-anchor=\"middle\" x=\"181.45\" y=\"-57.78\" font-family=\"Times,serif\" font-size=\"14.00\">Binomial</text>\n",
       "</g>\n",
       "<!-- T&#45;&gt;kc -->\n",
       "<g id=\"edge4\" class=\"edge\">\n",
       "<title>T&#45;&gt;kc</title>\n",
       "<path fill=\"none\" stroke=\"black\" d=\"M256.65,-149.71C245.6,-139.1 232.58,-126.59 220.51,-115\"/>\n",
       "<polygon fill=\"black\" stroke=\"black\" points=\"222.78,-112.32 213.14,-107.92 217.93,-117.37 222.78,-112.32\"/>\n",
       "</g>\n",
       "<!-- PCc&#45;&gt;kc -->\n",
       "<g id=\"edge3\" class=\"edge\">\n",
       "<title>PCc&#45;&gt;kc</title>\n",
       "<path fill=\"none\" stroke=\"black\" d=\"M181.45,-149.71C181.45,-141.89 181.45,-133.03 181.45,-124.27\"/>\n",
       "<polygon fill=\"black\" stroke=\"black\" points=\"184.95,-124.1 181.45,-114.1 177.95,-124.1 184.95,-124.1\"/>\n",
       "</g>\n",
       "<!-- sioriginal -->\n",
       "<g id=\"node5\" class=\"node\">\n",
       "<title>sioriginal</title>\n",
       "<path fill=\"lightgrey\" stroke=\"black\" d=\"M210.95,-302.93C210.95,-302.93 151.95,-302.93 151.95,-302.93 145.95,-302.93 139.95,-296.93 139.95,-290.93 139.95,-290.93 139.95,-261.93 139.95,-261.93 139.95,-255.93 145.95,-249.93 151.95,-249.93 151.95,-249.93 210.95,-249.93 210.95,-249.93 216.95,-249.93 222.95,-255.93 222.95,-261.93 222.95,-261.93 222.95,-290.93 222.95,-290.93 222.95,-296.93 216.95,-302.93 210.95,-302.93\"/>\n",
       "<text text-anchor=\"middle\" x=\"181.45\" y=\"-287.73\" font-family=\"Times,serif\" font-size=\"14.00\">sioriginal</text>\n",
       "<text text-anchor=\"middle\" x=\"181.45\" y=\"-272.73\" font-family=\"Times,serif\" font-size=\"14.00\">~</text>\n",
       "<text text-anchor=\"middle\" x=\"181.45\" y=\"-257.73\" font-family=\"Times,serif\" font-size=\"14.00\">Data</text>\n",
       "</g>\n",
       "<!-- sioriginal&#45;&gt;PCc -->\n",
       "<g id=\"edge2\" class=\"edge\">\n",
       "<title>sioriginal&#45;&gt;PCc</title>\n",
       "<path fill=\"none\" stroke=\"black\" d=\"M181.45,-249.69C181.45,-238.55 181.45,-225.32 181.45,-213.25\"/>\n",
       "<polygon fill=\"black\" stroke=\"black\" points=\"184.95,-213.02 181.45,-203.02 177.95,-213.02 184.95,-213.02\"/>\n",
       "</g>\n",
       "</g>\n",
       "</svg>\n"
      ],
      "text/plain": [
       "<graphviz.graphs.Digraph at 0x7fa26810b7f0>"
      ]
     },
     "execution_count": 8,
     "metadata": {},
     "output_type": "execute_result"
    }
   ],
   "source": [
    "# define the model and calculate the joint probability and posterior\n",
    "with pm.Model() as model1:\n",
    "    # Prior\n",
    "    variance = pm.Uniform(\"variance\", lower=0, upper=1000)\n",
    "    \n",
    "    # PCc using Normal CDF\n",
    "    sioriginal = pm.Data(\"sioriginal\", data[\"sioriginal\"])\n",
    "    PCc = pm.Deterministic(\"PCc\", pm.math.invlogit(sioriginal / pm.math.sqrt(2 * variance)))\n",
    "    T = pm.Data(\"T\", data[\"T\"])\n",
    "    \n",
    "    # likelihood\n",
    "    kc = pm.Binomial(\"kc\", n=T, p=PCc, observed=data[\"koriginal\"])\n",
    "    \n",
    "model1.to_graphviz()\n"
   ]
  },
  {
   "cell_type": "code",
   "execution_count": 9,
   "metadata": {},
   "outputs": [
    {
     "name": "stderr",
     "output_type": "stream",
     "text": [
      "Initializing NUTS using jitter+adapt_diag...\n",
      "Multiprocess sampling (2 chains in 2 jobs)\n",
      "NUTS: [variance]\n"
     ]
    },
    {
     "data": {
      "application/vnd.jupyter.widget-view+json": {
       "model_id": "9537473ec3b2458781c781a4894cd420",
       "version_major": 2,
       "version_minor": 0
      },
      "text/plain": [
       "Output()"
      ]
     },
     "metadata": {},
     "output_type": "display_data"
    },
    {
     "data": {
      "text/html": [
       "<pre style=\"white-space:pre;overflow-x:auto;line-height:normal;font-family:Menlo,'DejaVu Sans Mono',consolas,'Courier New',monospace\"></pre>\n"
      ],
      "text/plain": []
     },
     "metadata": {},
     "output_type": "display_data"
    },
    {
     "name": "stderr",
     "output_type": "stream",
     "text": [
      "Sampling 2 chains for 500 tune and 1_000 draw iterations (1_000 + 2_000 draws total) took 1 seconds.\n",
      "We recommend running at least 4 chains for robust computation of convergence diagnostics\n",
      "The rhat statistic is larger than 1.01 for some parameters. This indicates problems during sampling. See https://arxiv.org/abs/1903.08008 for details\n"
     ]
    }
   ],
   "source": [
    "with model1:\n",
    "    trace = pm.sample(draws=1000, tune=500, chains=2, cores=4, target_accept=0.95, compute_convergence_checks=True)"
   ]
  },
  {
   "cell_type": "code",
   "execution_count": 10,
   "metadata": {},
   "outputs": [
    {
     "data": {
      "text/plain": [
       "Text(0, 0.5, 'Density')"
      ]
     },
     "execution_count": 10,
     "metadata": {},
     "output_type": "execute_result"
    },
    {
     "data": {
      "image/png": "[encoded data removed]",
      "text/plain": [
       "<Figure size 600x600 with 1 Axes>"
      ]
     },
     "metadata": {},
     "output_type": "display_data"
    }
   ],
   "source": [
    "# Extract samples from the trace\n",
    "variance_samples = trace.posterior[\"variance\"].values.flatten()\n",
    "# Plotting posterior distributions\n",
    "plt.figure(figsize=(6, 6))\n",
    "plt.hist(variance_samples, bins=30, density=True, alpha=0.7)\n",
    "plt.title('Posterior Distribution of Variance')\n",
    "plt.xlabel('Variance')\n",
    "plt.ylabel('Density')\n"
   ]
  },
  {
   "cell_type": "code",
   "execution_count": 11,
   "metadata": {},
   "outputs": [
    {
     "data": {
      "image/png": "[encoded data removed]",
      "text/plain": [
       "<Figure size 800x600 with 1 Axes>"
      ]
     },
     "metadata": {},
     "output_type": "display_data"
    }
   ],
   "source": [
    "\n",
    "# Extract the variance samples from the trace\n",
    "variance_samples = trace.posterior[\"variance\"].values.flatten()\n",
    "\n",
    "# Generate simulated data using posterior samples\n",
    "def generate_simulated_data(T, si, variance_samples):\n",
    "    simulated_k = np.zeros((len(variance_samples), len(si)), dtype=int)\n",
    "    \n",
    "    for i, variance in enumerate(variance_samples):\n",
    "        k, _ = m1_posterior_prediction(T, si, variance)\n",
    "        simulated_k[i] = k\n",
    "        \n",
    "    return simulated_k.mean(axis=0)\n",
    "\n",
    "simulated_k = generate_simulated_data(data['T'], data['si'], variance_samples)\n",
    "\n",
    "# Plotting simulated data\n",
    "plt.figure(figsize=(8, 6))\n",
    "plt.plot(data['si'], simulated_k, marker='o', linestyle='', color='b', label='Simulated Data')\n",
    "plt.plot(data['sioriginal'], data['koriginal'], marker='o', linestyle=\"\", color='r', label='Original Data')\n",
    "plt.title('Simulated Data')\n",
    "plt.xlabel('Stimulus Intensity')\n",
    "plt.ylabel('Number of Correct Responses')\n",
    "plt.grid(True)\n",
    "plt.legend()\n",
    "plt.show()"
   ]
  },
  {
   "cell_type": "markdown",
   "metadata": {},
   "source": [
    "## Model 2: A Trial-to-trial SDT model"
   ]
  },
  {
   "cell_type": "markdown",
   "metadata": {},
   "source": [
    "#### 1. Simulate Data"
   ]
  },
  {
   "cell_type": "code",
   "execution_count": 12,
   "metadata": {},
   "outputs": [],
   "source": [
    "data[\"lr\"] = true_lapse_rate\n",
    "data[\"bias\"] = true_bias\n",
    "data[\"prior\"] = true_prior\n",
    "data[\"si\"] = np.concatenate([data[\"sioriginal\"], data[\"sioriginal\"], data[\"sii\"]])"
   ]
  },
  {
   "cell_type": "code",
   "execution_count": 13,
   "metadata": {},
   "outputs": [
    {
     "data": {
      "text/plain": [
       "array([1.00000000e-02, 2.78255940e-02, 7.74263683e-02, 2.15443469e-01,\n",
       "       5.99484250e-01, 1.66810054e+00, 4.64158883e+00, 1.29154967e+01,\n",
       "       3.59381366e+01, 1.00000000e+02])"
      ]
     },
     "execution_count": 13,
     "metadata": {},
     "output_type": "execute_result"
    }
   ],
   "source": [
    "data[\"sioriginal\"]"
   ]
  },
  {
   "cell_type": "markdown",
   "metadata": {},
   "source": [
    "#### 2. Model"
   ]
  },
  {
   "cell_type": "code",
   "execution_count": null,
   "metadata": {},
   "outputs": [],
   "source": [
    "import pytensor.tensor as tt\n",
    "import pymc as pm\n",
    "\n",
    "# Assuming 'data' is defined elsewhere in your script\n",
    "# and it contains 'prior', 'si', and 'koriginal'\n",
    "\n",
    "with pm.Model() as model2:\n",
    "    # Prior\n",
    "    bias = pm.Normal(\"bias\", mu=0, sigma=1/2000)\n",
    "    lapse_rate = pm.Beta(\"lapse_rate\", alpha=1, beta=1)\n",
    "    variance = pm.Uniform(\"variance\", lower=0, upper=1000)\n",
    "    target_location = pm.Categorical(\"prior_probability\", p=data[\"prior\"])\n",
    "    \n",
    "    # Likelihoods\n",
    "    mu_x_perceived = pm.math.switch(tt.eq(target_location, 1), data[\"sioriginal\"], 0)\n",
    "    x_perceived = pm.Normal(\"x_perceived\", mu=mu_x_perceived, sigma=1/variance)\n",
    "    \n",
    "    # Compute mct with compatible shapes\n",
    "    condition = x_perceived - bias > 0  # condition should be a boolean array\n",
    "    p_true = tt.stack([1 - lapse_rate/2, lapse_rate/2])  # shape (2,)\n",
    "    p_false = tt.stack([lapse_rate/2, 1 - lapse_rate/2])  # shape (2,)\n",
    "    \n",
    "    # Ensure condition is reshaped correctly for broadcasting\n",
    "    condition_broadcasted = tt.shape_padleft(condition)\n",
    "    \n",
    "    # Ensure p_true and p_false are reshaped to match condition_broadcasted\n",
    "    p_true_broadcasted = tt.shape_padright(p_true, 1)\n",
    "    p_false_broadcasted = tt.shape_padright(p_false, 1)\n",
    "    \n",
    "    # Use the switch function with the reshaped condition and p_true, p_false\n",
    "    mct = pm.Deterministic('mct', pm.math.switch(condition_broadcasted, p_true_broadcasted, p_false_broadcasted))\n",
    "    \n",
    "    # Response posterior\n",
    "    response = pm.Categorical(\"response\", p=mct, observed=data[\"koriginal\"])\n",
    "\n",
    "model2.to_graphviz()\n",
    "with model2:\n",
    "    trace = pm.sample(draws=1000, tune=500, chains=2, cores=4, target_accept=0.95, compute_convergence_checks=False)"
   ]
  }
 ],
 "metadata": {
  "kernelspec": {
   "display_name": "Python 3",
   "language": "python",
   "name": "python3"
  },
  "language_info": {
   "codemirror_mode": {
    "name": "ipython",
    "version": 3
   },
   "file_extension": ".py",
   "mimetype": "text/x-python",
   "name": "python",
   "nbconvert_exporter": "python",
   "pygments_lexer": "ipython3",
   "version": "3.10.12"
  }
 },
 "nbformat": 4,
 "nbformat_minor": 2
}
